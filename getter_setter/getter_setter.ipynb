{
 "cells": [
  {
   "cell_type": "code",
   "execution_count": 1,
   "id": "b5da2d29-4b2f-42c0-9f5a-4a6a3f089d5f",
   "metadata": {},
   "outputs": [],
   "source": [
    "# getter, Setter, property"
   ]
  },
  {
   "cell_type": "code",
   "execution_count": 12,
   "id": "36160962-7314-4ddc-9282-cbdd76093ee2",
   "metadata": {},
   "outputs": [],
   "source": [
    "class Admission:\n",
    "\n",
    "    def __init__(self, first_name, last_name, marks_per):\n",
    "        self.first_name = first_name\n",
    "        self.last_name = last_name\n",
    "        self._marks_per = marks_per\n",
    "\n",
    "    def percentage(self):\n",
    "        return self._marks_per\n",
    "\n",
    "    def get_details(self):\n",
    "        return f\"{self.first_name}-{self.last_name}-{self.percentage()}\""
   ]
  },
  {
   "cell_type": "code",
   "execution_count": 13,
   "id": "6649d633-4acc-4153-bd2c-7f212f8c848d",
   "metadata": {},
   "outputs": [
    {
     "data": {
      "text/plain": [
       "{'first_name': 'suresh', 'last_name': 'Kumar', '_marks_per': 67.5}"
      ]
     },
     "execution_count": 13,
     "metadata": {},
     "output_type": "execute_result"
    }
   ],
   "source": [
    "obj = Admission(\"suresh\", \"Kumar\", 67.5)\n",
    "obj.__dict__"
   ]
  },
  {
   "cell_type": "code",
   "execution_count": 14,
   "id": "9cefcdf7-bbe2-44ff-8f54-f80a66983051",
   "metadata": {},
   "outputs": [
    {
     "data": {
      "text/plain": [
       "67.5"
      ]
     },
     "execution_count": 14,
     "metadata": {},
     "output_type": "execute_result"
    }
   ],
   "source": [
    "obj.percentage()"
   ]
  },
  {
   "cell_type": "code",
   "execution_count": 15,
   "id": "9258d6b2-edce-45f2-90d4-2e43246bb465",
   "metadata": {},
   "outputs": [
    {
     "data": {
      "text/plain": [
       "'suresh-Kumar-67.5'"
      ]
     },
     "execution_count": 15,
     "metadata": {},
     "output_type": "execute_result"
    }
   ],
   "source": [
    "obj.get_details()"
   ]
  },
  {
   "cell_type": "code",
   "execution_count": 16,
   "id": "89de6d3d-4052-4efb-b50b-c7e1a8eb158a",
   "metadata": {},
   "outputs": [],
   "source": [
    "obj._marks_per = 80"
   ]
  },
  {
   "cell_type": "code",
   "execution_count": 17,
   "id": "466de376-8246-47d4-ac15-245942604722",
   "metadata": {},
   "outputs": [
    {
     "data": {
      "text/plain": [
       "'suresh-Kumar-80'"
      ]
     },
     "execution_count": 17,
     "metadata": {},
     "output_type": "execute_result"
    }
   ],
   "source": [
    "obj.get_details()"
   ]
  },
  {
   "cell_type": "code",
   "execution_count": 18,
   "id": "9d9b517d-e514-4a46-a83d-7932e9c4b4e2",
   "metadata": {},
   "outputs": [
    {
     "data": {
      "text/plain": [
       "80"
      ]
     },
     "execution_count": 18,
     "metadata": {},
     "output_type": "execute_result"
    }
   ],
   "source": [
    "obj.percentage()"
   ]
  },
  {
   "cell_type": "code",
   "execution_count": 14,
   "id": "f3ea23cb-8ca5-40ff-ba30-3a703b4eda13",
   "metadata": {},
   "outputs": [],
   "source": [
    "# @property decorator\n",
    "\n",
    "class Admission:\n",
    "\n",
    "    def __init__(self, first_name, last_name, marks_per):\n",
    "        self.first_name = first_name\n",
    "        self.last_name = last_name\n",
    "        self._marks_per = marks_per\n",
    "    @property\n",
    "    def percentage(self):\n",
    "        return self._marks_per\n",
    "\n",
    "    def get_details(self):\n",
    "        return f\"{self.first_name}- {self.last_name}- {self.percentage()}\"\n"
   ]
  },
  {
   "cell_type": "code",
   "execution_count": 15,
   "id": "16e3d0e6-8876-4e98-8352-8c5f43530ab1",
   "metadata": {},
   "outputs": [],
   "source": [
    "obj = Admission(\"suresh\", \"Kumar\", 67.5)"
   ]
  },
  {
   "cell_type": "code",
   "execution_count": 16,
   "id": "6e50d545-1078-45dc-a1a7-74a85c2f0c7f",
   "metadata": {},
   "outputs": [
    {
     "data": {
      "text/plain": [
       "{'first_name': 'suresh', 'last_name': 'Kumar', '_marks_per': 67.5}"
      ]
     },
     "execution_count": 16,
     "metadata": {},
     "output_type": "execute_result"
    }
   ],
   "source": [
    "obj.__dict__"
   ]
  },
  {
   "cell_type": "code",
   "execution_count": null,
   "id": "a95fe96a-8c35-47e6-88f4-2b39662d2d2f",
   "metadata": {},
   "outputs": [],
   "source": []
  },
  {
   "cell_type": "code",
   "execution_count": 18,
   "id": "abc7c238-31c2-4522-82c7-4f4670f74e36",
   "metadata": {},
   "outputs": [
    {
     "ename": "AttributeError",
     "evalue": "can't set attribute 'percentage'",
     "output_type": "error",
     "traceback": [
      "\u001b[1;31m---------------------------------------------------------------------------\u001b[0m",
      "\u001b[1;31mAttributeError\u001b[0m                            Traceback (most recent call last)",
      "Cell \u001b[1;32mIn[18], line 1\u001b[0m\n\u001b[1;32m----> 1\u001b[0m \u001b[43mobj\u001b[49m\u001b[38;5;241;43m.\u001b[39;49m\u001b[43mpercentage\u001b[49m \u001b[38;5;241m=\u001b[39m \u001b[38;5;241m89\u001b[39m\n",
      "\u001b[1;31mAttributeError\u001b[0m: can't set attribute 'percentage'"
     ]
    }
   ],
   "source": [
    "obj.percentage = 89\n"
   ]
  },
  {
   "cell_type": "code",
   "execution_count": 19,
   "id": "b8c511ee-1344-47d0-ac0e-495db79ec207",
   "metadata": {},
   "outputs": [
    {
     "data": {
      "text/plain": [
       "{'first_name': 'suresh', 'last_name': 'Kumar', '_marks_per': 67.5}"
      ]
     },
     "execution_count": 19,
     "metadata": {},
     "output_type": "execute_result"
    }
   ],
   "source": [
    "obj.__dict__"
   ]
  },
  {
   "cell_type": "code",
   "execution_count": 45,
   "id": "99d363fc-5cde-46a4-b85a-4e3659acfc4a",
   "metadata": {},
   "outputs": [],
   "source": [
    "# obj.percentage = 30"
   ]
  },
  {
   "cell_type": "code",
   "execution_count": null,
   "id": "54a3d733-b5e0-4c57-870b-051ec18be5a3",
   "metadata": {},
   "outputs": [],
   "source": [
    "# When you use @property decorator on a method within a class in Python, it converts the method into a read-only property.\n",
    "# This means that you can access the method like an attribute without needing to call it explicitly with parentheses. \n",
    "# Here's what @property does:\n",
    "\n",
    "# Getter: It allows you to define a method that can be accessed like an attribute without using parentheses.\n",
    "\n",
    "    \n",
    "# Read-only: By default, the property becomes read-only, meaning you cannot assign a new value to it directly."
   ]
  },
  {
   "cell_type": "code",
   "execution_count": 1,
   "id": "2c1a6aa6-288d-4f98-abcd-39f976941312",
   "metadata": {},
   "outputs": [],
   "source": [
    "class Admission:\n",
    "\n",
    "    def __init__(self, first_name, last_name, marks_per):\n",
    "        self.first_name = first_name\n",
    "        self.last_name = last_name\n",
    "        self._marks_per = marks_per\n",
    "\n",
    "    @property\n",
    "    def percentage(self):\n",
    "        return self._marks_per\n",
    "        \n",
    "    @percentage.setter\n",
    "    def percentage(self, per):\n",
    "        if per < 70:\n",
    "            raise ValueError(\"Admission not there for who has percentage less than 70 percentage\")\n",
    "        self._marks_per = per\n",
    "\n",
    "    def get_details(self):\n",
    "        return f\"{self.fist_name}-{self.last_name}-{self.percentage()}\"\n",
    "        "
   ]
  },
  {
   "cell_type": "code",
   "execution_count": 3,
   "id": "9e0d3c3c-28c7-4527-b20a-b1e5f54c87af",
   "metadata": {},
   "outputs": [],
   "source": [
    "obj = Admission(\"Suresh\", 'kumar', 67.5)"
   ]
  },
  {
   "cell_type": "code",
   "execution_count": 6,
   "id": "87f79c6a-dfaa-408c-bdcf-e1528066454c",
   "metadata": {},
   "outputs": [
    {
     "data": {
      "text/plain": [
       "67.5"
      ]
     },
     "execution_count": 6,
     "metadata": {},
     "output_type": "execute_result"
    }
   ],
   "source": [
    "obj.percentage"
   ]
  },
  {
   "cell_type": "code",
   "execution_count": 7,
   "id": "b60ca565-f684-4889-8f56-a5d83af1bea3",
   "metadata": {},
   "outputs": [
    {
     "ename": "ValueError",
     "evalue": "Admission not there for who has percentage less than 70 percentage",
     "output_type": "error",
     "traceback": [
      "\u001b[1;31m---------------------------------------------------------------------------\u001b[0m",
      "\u001b[1;31mValueError\u001b[0m                                Traceback (most recent call last)",
      "Cell \u001b[1;32mIn[7], line 1\u001b[0m\n\u001b[1;32m----> 1\u001b[0m \u001b[43mobj\u001b[49m\u001b[38;5;241;43m.\u001b[39;49m\u001b[43mpercentage\u001b[49m \u001b[38;5;241m=\u001b[39m \u001b[38;5;241m56\u001b[39m\n",
      "Cell \u001b[1;32mIn[1], line 15\u001b[0m, in \u001b[0;36mAdmission.percentage\u001b[1;34m(self, per)\u001b[0m\n\u001b[0;32m     12\u001b[0m \u001b[38;5;129m@percentage\u001b[39m\u001b[38;5;241m.\u001b[39msetter\n\u001b[0;32m     13\u001b[0m \u001b[38;5;28;01mdef\u001b[39;00m \u001b[38;5;21mpercentage\u001b[39m(\u001b[38;5;28mself\u001b[39m, per):\n\u001b[0;32m     14\u001b[0m     \u001b[38;5;28;01mif\u001b[39;00m per \u001b[38;5;241m<\u001b[39m \u001b[38;5;241m70\u001b[39m:\n\u001b[1;32m---> 15\u001b[0m         \u001b[38;5;28;01mraise\u001b[39;00m \u001b[38;5;167;01mValueError\u001b[39;00m(\u001b[38;5;124m\"\u001b[39m\u001b[38;5;124mAdmission not there for who has percentage less than 70 percentage\u001b[39m\u001b[38;5;124m\"\u001b[39m)\n\u001b[0;32m     16\u001b[0m     \u001b[38;5;28mself\u001b[39m\u001b[38;5;241m.\u001b[39m_marks_per \u001b[38;5;241m=\u001b[39m per\n",
      "\u001b[1;31mValueError\u001b[0m: Admission not there for who has percentage less than 70 percentage"
     ]
    }
   ],
   "source": [
    "obj.percentage = 56\n"
   ]
  },
  {
   "cell_type": "code",
   "execution_count": 8,
   "id": "5dcb4452-32ca-45bf-8de2-26ba46aa2fd1",
   "metadata": {},
   "outputs": [],
   "source": [
    "obj.percentage = 78\n"
   ]
  },
  {
   "cell_type": "code",
   "execution_count": 9,
   "id": "d79ea4e1-10a1-4ad0-a91d-7c059b4814a8",
   "metadata": {},
   "outputs": [
    {
     "data": {
      "text/plain": [
       "78"
      ]
     },
     "execution_count": 9,
     "metadata": {},
     "output_type": "execute_result"
    }
   ],
   "source": [
    "obj.percentage "
   ]
  },
  {
   "cell_type": "code",
   "execution_count": 10,
   "id": "c2012d18-7670-412c-acaf-fe9ab0d03b87",
   "metadata": {},
   "outputs": [
    {
     "data": {
      "text/plain": [
       "{'first_name': 'Suresh', 'last_name': 'kumar', '_marks_per': 78}"
      ]
     },
     "execution_count": 10,
     "metadata": {},
     "output_type": "execute_result"
    }
   ],
   "source": [
    "obj.__dict__"
   ]
  },
  {
   "cell_type": "code",
   "execution_count": null,
   "id": "93da3040-e653-40c1-93eb-1389b41674e4",
   "metadata": {},
   "outputs": [],
   "source": []
  }
 ],
 "metadata": {
  "kernelspec": {
   "display_name": "Python 3 (ipykernel)",
   "language": "python",
   "name": "python3"
  },
  "language_info": {
   "codemirror_mode": {
    "name": "ipython",
    "version": 3
   },
   "file_extension": ".py",
   "mimetype": "text/x-python",
   "name": "python",
   "nbconvert_exporter": "python",
   "pygments_lexer": "ipython3",
   "version": "3.10.2"
  }
 },
 "nbformat": 4,
 "nbformat_minor": 5
}
