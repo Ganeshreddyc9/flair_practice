{
 "cells": [
  {
   "cell_type": "code",
   "execution_count": 6,
   "id": "233d075d-05b1-40be-81f3-f407af6956fd",
   "metadata": {},
   "outputs": [
    {
     "data": {
      "text/plain": [
       "'113350'"
      ]
     },
     "execution_count": 6,
     "metadata": {},
     "output_type": "execute_result"
    }
   ],
   "source": [
    "# # Write a Python program to convert a list of multiple integers into a single integer. \n",
    "# # \t\tSample list: [11, 33, 50]\n",
    "# # \t\tExpected Output: 113350\n",
    "\n",
    "# Sample_list = [11, 33, 50]\n",
    "\n",
    "\n",
    "# \"\".join(map(str, Sample_list))\n",
    "# map(str, Sample_list)"
   ]
  },
  {
   "cell_type": "code",
   "execution_count": 3,
   "id": "c44ecb42-5a38-4f18-aaa5-ddcfe8314abc",
   "metadata": {
    "scrolled": true
   },
   "outputs": [
    {
     "ename": "TypeError",
     "evalue": "sequence item 0: expected str instance, int found",
     "output_type": "error",
     "traceback": [
      "\u001b[1;31m---------------------------------------------------------------------------\u001b[0m",
      "\u001b[1;31mTypeError\u001b[0m                                 Traceback (most recent call last)",
      "Cell \u001b[1;32mIn[3], line 4\u001b[0m\n\u001b[0;32m      1\u001b[0m Sample_list \u001b[38;5;241m=\u001b[39m [\u001b[38;5;241m11\u001b[39m, \u001b[38;5;241m33\u001b[39m, \u001b[38;5;241m50\u001b[39m]\n\u001b[1;32m----> 4\u001b[0m a \u001b[38;5;241m=\u001b[39m\u001b[38;5;124;43m\"\u001b[39;49m\u001b[38;5;124;43m\"\u001b[39;49m\u001b[38;5;241;43m.\u001b[39;49m\u001b[43mjoin\u001b[49m\u001b[43m(\u001b[49m\u001b[43mSample_list\u001b[49m\u001b[43m)\u001b[49m\n",
      "\u001b[1;31mTypeError\u001b[0m: sequence item 0: expected str instance, int found"
     ]
    }
   ],
   "source": []
  },
  {
   "cell_type": "code",
   "execution_count": 7,
   "id": "eb3ea1b6-de0c-4585-bf28-12a8dd37632a",
   "metadata": {},
   "outputs": [
    {
     "data": {
      "text/plain": [
       "type"
      ]
     },
     "execution_count": 7,
     "metadata": {},
     "output_type": "execute_result"
    }
   ],
   "source": [
    "# zip:\n",
    "\n",
    "# if we want to group same index positions we can able to go for zip \n",
    "\n",
    "type(zip)\n"
   ]
  },
  {
   "cell_type": "code",
   "execution_count": 12,
   "id": "1263ca31-b044-4e82-8463-098dcc9b9ce5",
   "metadata": {},
   "outputs": [
    {
     "name": "stdout",
     "output_type": "stream",
     "text": [
      "alice 24\n",
      "Bob 30\n",
      "ganesh 25\n"
     ]
    }
   ],
   "source": [
    "# basic of zip function and how to use \n",
    "\n",
    "names = ['alice', 'Bob', 'ganesh']\n",
    "age = [24, 30, 25]\n",
    "\n",
    "zipped = zip(names, age)\n",
    "\n",
    "for name, age in zipped:\n",
    "    print(name, age )"
   ]
  },
  {
   "cell_type": "code",
   "execution_count": null,
   "id": "d1df5eb3-c826-425b-8e9e-206ff0d81824",
   "metadata": {},
   "outputs": [],
   "source": []
  },
  {
   "cell_type": "code",
   "execution_count": 15,
   "id": "be50e30f-50b7-4290-ad1f-9a5deccad68d",
   "metadata": {},
   "outputs": [
    {
     "data": {
      "text/plain": [
       "[('h', 1), ('i', 2)]"
      ]
     },
     "execution_count": 15,
     "metadata": {},
     "output_type": "execute_result"
    }
   ],
   "source": [
    "a = 'hi'\n",
    "b = 1,2\n",
    "\n",
    "list(zip(a,b))"
   ]
  },
  {
   "cell_type": "code",
   "execution_count": 16,
   "id": "ee711d41-89e8-4877-9a74-6fe7b8409d23",
   "metadata": {},
   "outputs": [
    {
     "data": {
      "text/plain": [
       "[('key', 'h'), ('value', 'i')]"
      ]
     },
     "execution_count": 16,
     "metadata": {},
     "output_type": "execute_result"
    }
   ],
   "source": [
    "a = {\"key\":1 , \"value\":2}\n",
    "b = \"hi\"\n",
    "\n",
    "list(zip(a, b))"
   ]
  },
  {
   "cell_type": "code",
   "execution_count": 17,
   "id": "236bbaf3-1160-4439-b95a-9eca50a55893",
   "metadata": {},
   "outputs": [],
   "source": [
    "# Create a dictionary from two lists.\n",
    "names = ['Alice', 'Bob', 'Carol']\n",
    "ages = [25, 30, 35]\n",
    "\n",
    "dict_zip = dict(zip(names,ages))"
   ]
  },
  {
   "cell_type": "code",
   "execution_count": 18,
   "id": "f6de7f85-7dad-4115-8b64-886c3113c6e7",
   "metadata": {},
   "outputs": [
    {
     "data": {
      "text/plain": [
       "{'Alice': 25, 'Bob': 30, 'Carol': 35}"
      ]
     },
     "execution_count": 18,
     "metadata": {},
     "output_type": "execute_result"
    }
   ],
   "source": [
    "dict_zip"
   ]
  },
  {
   "cell_type": "code",
   "execution_count": 19,
   "id": "a258209c-940d-49c3-bb03-9f5510059d64",
   "metadata": {},
   "outputs": [],
   "source": [
    "zipped = [(1, 2), (3, 4), (5, 6)]\n",
    "\n",
    "names, ages = zip(*zipped)"
   ]
  },
  {
   "cell_type": "code",
   "execution_count": 20,
   "id": "90d634e4-001e-4004-ade2-74ac8a8113b8",
   "metadata": {},
   "outputs": [
    {
     "data": {
      "text/plain": [
       "((1, 3, 5), (2, 4, 6))"
      ]
     },
     "execution_count": 20,
     "metadata": {},
     "output_type": "execute_result"
    }
   ],
   "source": [
    "names, ages"
   ]
  },
  {
   "cell_type": "code",
   "execution_count": 23,
   "id": "8bb5a958-4065-41bb-8781-dd8c679625e6",
   "metadata": {},
   "outputs": [
    {
     "data": {
      "text/plain": [
       "[('alice', 24), ('Bob', 30), ('ganesh', 25)]"
      ]
     },
     "execution_count": 23,
     "metadata": {},
     "output_type": "execute_result"
    }
   ],
   "source": [
    "names = ('alice', 'Bob', 'ganesh')\n",
    "age = (24, 30, 25)\n",
    "\n",
    "list(zip(names,age))"
   ]
  },
  {
   "cell_type": "code",
   "execution_count": null,
   "id": "f097cc05-94d3-47bc-af71-a23a36aef045",
   "metadata": {},
   "outputs": [],
   "source": []
  },
  {
   "cell_type": "code",
   "execution_count": null,
   "id": "33e44d0c-7ece-40f1-9edc-490c9808aac4",
   "metadata": {},
   "outputs": [],
   "source": []
  },
  {
   "cell_type": "code",
   "execution_count": 25,
   "id": "3a3b227d-5692-4c49-88c2-9091df60242e",
   "metadata": {},
   "outputs": [],
   "source": [
    "# nput: nums = [2, 7, 11, 15], target = 9\n",
    "# Output: [0, 1]\n",
    "# Explanation: nums[0] + nums[1] = 2 + 7 = 9"
   ]
  },
  {
   "cell_type": "code",
   "execution_count": 46,
   "id": "4bb3c245-b3dd-4e1b-b07d-428b7228c857",
   "metadata": {},
   "outputs": [
    {
     "name": "stdout",
     "output_type": "stream",
     "text": [
      "hey there\n",
      "[0, 2]\n"
     ]
    }
   ],
   "source": [
    "# nums = [2, 7, 11, 15]\n",
    "nums = [7, 11,2, 15]\n",
    "res =[]\n",
    "# value = 0\n",
    "for i in range(len(nums)):\n",
    "    # print(i)\n",
    "    value = nums[i]\n",
    "    for val in nums[i:]:\n",
    "        # print(val)\n",
    "        if value + val == 9:\n",
    "            print(\"hey there\")\n",
    "            # print()\n",
    "            # print()\n",
    "            res.append(i)\n",
    "            res.append(val)\n",
    "            # res.append(nums.index(value))\n",
    "            # res.append(nums.index(val))\n",
    "\n",
    "print(res)"
   ]
  },
  {
   "cell_type": "code",
   "execution_count": 45,
   "id": "1f60f7b9-44d8-4926-8152-231340f39cce",
   "metadata": {},
   "outputs": [
    {
     "name": "stdout",
     "output_type": "stream",
     "text": [
      "15\n",
      "[]\n"
     ]
    }
   ],
   "source": [
    "print(nums[i])\n",
    "print(nums[i+1:])"
   ]
  },
  {
   "cell_type": "code",
   "execution_count": null,
   "id": "52dcab5e-13b1-4abe-a4a6-997688e94f64",
   "metadata": {},
   "outputs": [],
   "source": []
  },
  {
   "cell_type": "code",
   "execution_count": 47,
   "id": "d9ce853d-5325-41d8-a511-cec617ca7e80",
   "metadata": {},
   "outputs": [],
   "source": [
    "# Input: nums = [3, 5, 7, 2, 8, 4]\n",
    "# Output: 56\n",
    "# Explanation: The maximum product is 8 * 7 = 56."
   ]
  },
  {
   "cell_type": "code",
   "execution_count": 66,
   "id": "ce932130-13cc-4645-9fc8-d060d368522e",
   "metadata": {},
   "outputs": [
    {
     "name": "stdout",
     "output_type": "stream",
     "text": [
      "8\n",
      "56\n"
     ]
    }
   ],
   "source": [
    "nums = [3, 5, 7, 2, 8, 4]\n",
    "\n",
    "index = 1\n",
    "max_index = nums[0]\n",
    "\n",
    "while index < len(nums):\n",
    "\n",
    "    if nums[index] > max_index:\n",
    "        max_index = nums[index]\n",
    "    index += 1\n",
    "       \n",
    "   \n",
    "# print(max_index)  \n",
    "nums.sort()\n",
    "second_laregest = nums[-2]\n",
    "\n",
    "print(max_index * second_laregest)"
   ]
  },
  {
   "cell_type": "code",
   "execution_count": null,
   "id": "6c7ce7fe-33a9-4b0f-9d13-1082f569d874",
   "metadata": {},
   "outputs": [],
   "source": []
  },
  {
   "cell_type": "code",
   "execution_count": 58,
   "id": "0c630e38-79b7-45a9-9cda-3569ae823c78",
   "metadata": {},
   "outputs": [
    {
     "name": "stdout",
     "output_type": "stream",
     "text": [
      "10\n",
      "20\n",
      "30\n",
      "40\n",
      "The first maximum value in the list is: 50\n",
      "The second maximum value in the list is: 40\n"
     ]
    }
   ],
   "source": [
    "# Define your list\n",
    "my_list = [10, 20, 30, 40, 50]\n",
    "\n",
    "# Initialize variables\n",
    "max_value = my_list[0]  # Assume the first element is the maximum\n",
    "second_max_value = None  # Initialize second maximum value to None\n",
    "index = 1  # Start comparing from the second element\n",
    "\n",
    "# Use a while loop to iterate through the list\n",
    "while index < len(my_list):\n",
    "    if my_list[index] > max_value:\n",
    "        # If current element is greater than current max_value,\n",
    "        # update second_max_value and max_value accordingly\n",
    "        second_max_value = max_value\n",
    "        # print(second_max_value)\n",
    "        max_value = my_list[index]\n",
    "    elif my_list[index] < max_value:\n",
    "        # If current element is less than current max_value,\n",
    "        # check if it's greater than second_max_value\n",
    "        if second_max_value is None or my_list[index] > second_max_value:\n",
    "            second_max_value = my_list[index]\n",
    "    index += 1\n",
    "\n",
    "# # Print the result\n",
    "# if second_max_value is not None:\n",
    "#     print(\"The second maximum value in the list is:\", second_max_value)\n",
    "# else:\n",
    "#     print(\"There is no second maximum value in the list.\"\n",
    "print(\"The first maximum value in the list is:\", max_value)\n",
    "print(\"The second maximum value in the list is:\", second_max_value)\n"
   ]
  },
  {
   "cell_type": "code",
   "execution_count": 59,
   "id": "b6e7da48-468c-4908-b98c-08ea06d9c37b",
   "metadata": {},
   "outputs": [],
   "source": [
    "my_list = [10, 20, 30, 40, 50]\n",
    "\n",
    "my_list.sort()\n"
   ]
  },
  {
   "cell_type": "code",
   "execution_count": 60,
   "id": "128f6dc0-2742-4f35-99dd-a7b7de826211",
   "metadata": {},
   "outputs": [
    {
     "data": {
      "text/plain": [
       "[10, 20, 30, 40, 50]"
      ]
     },
     "execution_count": 60,
     "metadata": {},
     "output_type": "execute_result"
    }
   ],
   "source": [
    "my_list"
   ]
  },
  {
   "cell_type": "code",
   "execution_count": 61,
   "id": "268da572-80b0-4764-b75f-ee74601212c4",
   "metadata": {},
   "outputs": [
    {
     "data": {
      "text/plain": [
       "40"
      ]
     },
     "execution_count": 61,
     "metadata": {},
     "output_type": "execute_result"
    }
   ],
   "source": [
    "my_list[-2]"
   ]
  },
  {
   "cell_type": "code",
   "execution_count": 77,
   "id": "a933e4ab-90ac-42e3-a033-476d54c99380",
   "metadata": {},
   "outputs": [
    {
     "name": "stdout",
     "output_type": "stream",
     "text": [
      "sec: 0\n",
      "3\n",
      "sec: 3\n",
      "5\n",
      "sec: 5\n",
      "7\n",
      "sec: 7\n",
      "8\n",
      "56\n"
     ]
    }
   ],
   "source": [
    "nums = [3, 5, 7, 2, 8, 4]\n",
    "\n",
    "# Initialize variables\n",
    "max_num = 0\n",
    "second_max_num = float('-inf')\n",
    "\n",
    "\n",
    "# Find the maximum and second maximum numbers\n",
    "for num in nums:\n",
    "    if num > max_num:\n",
    "        second_max_num = max_num\n",
    "        print(\"sec:\",second_max_num)\n",
    "        max_num = num\n",
    "        print(max_num)\n",
    "    elif num > second_max_num:\n",
    "        second_max_num = num\n",
    "\n",
    "# Calculate and print the maximum product\n",
    "print(max_num * second_max_num)\n"
   ]
  },
  {
   "cell_type": "code",
   "execution_count": 71,
   "id": "8a92e776-3dfb-42fe-885e-289468a8b035",
   "metadata": {},
   "outputs": [
    {
     "data": {
      "text/plain": [
       "True"
      ]
     },
     "execution_count": 71,
     "metadata": {},
     "output_type": "execute_result"
    }
   ],
   "source": [
    "-1 > -2"
   ]
  },
  {
   "cell_type": "code",
   "execution_count": 72,
   "id": "d7bb09b0-5c82-4853-be32-b79ce6dfb674",
   "metadata": {},
   "outputs": [
    {
     "data": {
      "text/plain": [
       "False"
      ]
     },
     "execution_count": 72,
     "metadata": {},
     "output_type": "execute_result"
    }
   ],
   "source": [
    "-2 > -1"
   ]
  },
  {
   "cell_type": "code",
   "execution_count": 73,
   "id": "202aaac9-07c1-4c5c-bd18-73c21f4e589a",
   "metadata": {},
   "outputs": [
    {
     "data": {
      "text/plain": [
       "False"
      ]
     },
     "execution_count": 73,
     "metadata": {},
     "output_type": "execute_result"
    }
   ],
   "source": [
    "-1 > 0 "
   ]
  },
  {
   "cell_type": "code",
   "execution_count": 74,
   "id": "1e32540b-37ce-4fc3-9e4b-4f1a3f62a6a1",
   "metadata": {},
   "outputs": [
    {
     "data": {
      "text/plain": [
       "True"
      ]
     },
     "execution_count": 74,
     "metadata": {},
     "output_type": "execute_result"
    }
   ],
   "source": [
    "-1 > -3"
   ]
  },
  {
   "cell_type": "code",
   "execution_count": 75,
   "id": "e4bfaea1-7328-4b5b-ba7b-52ee613a3805",
   "metadata": {},
   "outputs": [
    {
     "data": {
      "text/plain": [
       "False"
      ]
     },
     "execution_count": 75,
     "metadata": {},
     "output_type": "execute_result"
    }
   ],
   "source": [
    "-3 < -5"
   ]
  },
  {
   "cell_type": "code",
   "execution_count": 76,
   "id": "1c8203d9-5643-4beb-81cc-5301f9cbfb4e",
   "metadata": {},
   "outputs": [
    {
     "data": {
      "text/plain": [
       "True"
      ]
     },
     "execution_count": 76,
     "metadata": {},
     "output_type": "execute_result"
    }
   ],
   "source": [
    "-3 > -5"
   ]
  },
  {
   "cell_type": "code",
   "execution_count": null,
   "id": "272cf738-7a11-453b-94ea-4ea5d0070de0",
   "metadata": {},
   "outputs": [],
   "source": []
  }
 ],
 "metadata": {
  "kernelspec": {
   "display_name": "Python 3 (ipykernel)",
   "language": "python",
   "name": "python3"
  },
  "language_info": {
   "codemirror_mode": {
    "name": "ipython",
    "version": 3
   },
   "file_extension": ".py",
   "mimetype": "text/x-python",
   "name": "python",
   "nbconvert_exporter": "python",
   "pygments_lexer": "ipython3",
   "version": "3.10.2"
  }
 },
 "nbformat": 4,
 "nbformat_minor": 5
}
