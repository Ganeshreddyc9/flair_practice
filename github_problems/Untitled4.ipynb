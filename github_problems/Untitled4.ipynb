{
 "cells": [
  {
   "cell_type": "code",
   "execution_count": 7,
   "id": "546e8343-7a6d-4c4f-bda7-43ef5f8027b0",
   "metadata": {},
   "outputs": [],
   "source": [
    "l = ['a', 1, 2, 3, 4, 5, 6, 'a','a']"
   ]
  },
  {
   "cell_type": "code",
   "execution_count": 8,
   "id": "1497a946-06c5-4aa5-a9d8-02de304dc5a1",
   "metadata": {},
   "outputs": [
    {
     "data": {
      "text/plain": [
       "0"
      ]
     },
     "execution_count": 8,
     "metadata": {},
     "output_type": "execute_result"
    }
   ],
   "source": [
    "l.index('a')"
   ]
  },
  {
   "cell_type": "code",
   "execution_count": 9,
   "id": "d87ed866-d592-4649-aeff-b799a9f79c43",
   "metadata": {},
   "outputs": [
    {
     "data": {
      "text/plain": [
       "7"
      ]
     },
     "execution_count": 9,
     "metadata": {},
     "output_type": "execute_result"
    }
   ],
   "source": [
    "l.index('a', l.index('a')+1)"
   ]
  },
  {
   "cell_type": "code",
   "execution_count": 10,
   "id": "abc66a32-500d-41e3-bd4d-34a7ddd2f13d",
   "metadata": {},
   "outputs": [
    {
     "data": {
      "text/plain": [
       "8"
      ]
     },
     "execution_count": 10,
     "metadata": {},
     "output_type": "execute_result"
    }
   ],
   "source": [
    "l.index('a',l.index('a', l.index('a')+1) + 1)"
   ]
  },
  {
   "cell_type": "code",
   "execution_count": 11,
   "id": "2a87cb5f-a73d-452a-a5c7-334304c79d98",
   "metadata": {},
   "outputs": [
    {
     "data": {
      "text/plain": [
       "1"
      ]
     },
     "execution_count": 11,
     "metadata": {},
     "output_type": "execute_result"
    }
   ],
   "source": [
    "d = {'key':1}\n",
    "\n",
    "d.get('key')"
   ]
  },
  {
   "cell_type": "code",
   "execution_count": 12,
   "id": "db88184c-865b-48da-af9e-4f07d63ae836",
   "metadata": {},
   "outputs": [],
   "source": [
    "d['key'] = 2"
   ]
  },
  {
   "cell_type": "code",
   "execution_count": 13,
   "id": "104c53dc-ba4b-462b-a5bc-8e2394a19963",
   "metadata": {},
   "outputs": [
    {
     "data": {
      "text/plain": [
       "{'key': 2}"
      ]
     },
     "execution_count": 13,
     "metadata": {},
     "output_type": "execute_result"
    }
   ],
   "source": [
    "d"
   ]
  },
  {
   "cell_type": "code",
   "execution_count": null,
   "id": "cce1bde0-3d17-48fe-bedb-b8b372ef88a4",
   "metadata": {},
   "outputs": [],
   "source": []
  },
  {
   "cell_type": "code",
   "execution_count": null,
   "id": "bf72baa7-5e2e-418e-9dfd-4dc2904ae4d1",
   "metadata": {},
   "outputs": [],
   "source": []
  }
 ],
 "metadata": {
  "kernelspec": {
   "display_name": "Python 3 (ipykernel)",
   "language": "python",
   "name": "python3"
  },
  "language_info": {
   "codemirror_mode": {
    "name": "ipython",
    "version": 3
   },
   "file_extension": ".py",
   "mimetype": "text/x-python",
   "name": "python",
   "nbconvert_exporter": "python",
   "pygments_lexer": "ipython3",
   "version": "3.10.2"
  }
 },
 "nbformat": 4,
 "nbformat_minor": 5
}
