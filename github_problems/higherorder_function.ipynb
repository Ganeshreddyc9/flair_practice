{
 "cells": [
  {
   "cell_type": "code",
   "execution_count": 1,
   "id": "67125899-8990-4dbe-945d-80782e9cd888",
   "metadata": {},
   "outputs": [],
   "source": [
    "# zip function\n",
    "\n",
    "# if we want group same index elements we can go for zip \n",
    "# syntax:\n",
    "# zip(iterable1 , iterable2)\n"
   ]
  },
  {
   "cell_type": "code",
   "execution_count": 6,
   "id": "04ad78f9-31e8-460c-a62b-6299d33ae1be",
   "metadata": {},
   "outputs": [
    {
     "name": "stdout",
     "output_type": "stream",
     "text": [
      "[('x', 1), ('y', 2), ('z', 3)]\n",
      "(('x', 1), ('y', 2), ('z', 3))\n",
      "{'x': 1, 'y': 2, 'z': 3}\n"
     ]
    }
   ],
   "source": [
    "a = ['x','y','z']\n",
    "b = [1, 2, 3]\n",
    "\n",
    "print(list(zip(a,b)))\n",
    "print(tuple(zip(a,b)))\n",
    "print(dict(zip(a,b)))"
   ]
  },
  {
   "cell_type": "code",
   "execution_count": 8,
   "id": "f0fafa17-f439-4be1-96a5-8c64af7aea2e",
   "metadata": {},
   "outputs": [
    {
     "name": "stdout",
     "output_type": "stream",
     "text": [
      "[((1, 2, 3, 4, 6),), ((1, 2, 3, 7, 8, 9),), ((1, 2, 3, 10, 11, 12),), ((1, 2, 13, 14, 15),)]\n"
     ]
    }
   ],
   "source": [
    "data =  (1,2,3,4,6), (1,2,3,7,8,9), (1,2,3,10,11,12), (1,2,13,14,15)\n",
    "\n",
    "print(list(zip(data)))"
   ]
  },
  {
   "cell_type": "code",
   "execution_count": 11,
   "id": "166d1248-4c6c-481a-923e-7db6590c0e9a",
   "metadata": {},
   "outputs": [
    {
     "data": {
      "text/plain": [
       "[(1, 1, 1, 1), (2, 2, 2, 2), (3, 3, 3, 13), (4, 7, 10, 14), (6, 8, 11, 15)]"
      ]
     },
     "execution_count": 11,
     "metadata": {},
     "output_type": "execute_result"
    }
   ],
   "source": [
    "list(zip(*data))"
   ]
  },
  {
   "cell_type": "code",
   "execution_count": 14,
   "id": "7ea74f88-39da-4242-a2b6-e7ba604ee89d",
   "metadata": {},
   "outputs": [
    {
     "data": {
      "text/plain": [
       "[(1, 1, 1, 1), (2, 2, 2, 2), (3, 3, 3, 13), (4, 7, 10, 14), (6, 8, 11, 15)]"
      ]
     },
     "execution_count": 14,
     "metadata": {},
     "output_type": "execute_result"
    }
   ],
   "source": [
    "list(zip(*data))"
   ]
  },
  {
   "cell_type": "code",
   "execution_count": 15,
   "id": "7bdc72b2-ce4a-48d1-8f8f-707b8c04cb69",
   "metadata": {},
   "outputs": [
    {
     "data": {
      "text/plain": [
       "[(1, 1), (2, 2), (3, 3), (4, 7), (6, 8)]"
      ]
     },
     "execution_count": 15,
     "metadata": {},
     "output_type": "execute_result"
    }
   ],
   "source": [
    "a = (1,2,3,4,6)\n",
    "b = (1,2,3,7,8,9)\n",
    "\n",
    "list(zip(a,b))"
   ]
  },
  {
   "cell_type": "code",
   "execution_count": 25,
   "id": "f79de86b-433d-49a0-bfaa-48b59c8fedce",
   "metadata": {},
   "outputs": [
    {
     "data": {
      "text/plain": [
       "[1, 2]"
      ]
     },
     "execution_count": 25,
     "metadata": {},
     "output_type": "execute_result"
    }
   ],
   "source": [
    "data =  (1,2,3,4,6), (1,2,3,7,8,9), (1,2,3,10,11,12), (1,2,13,14,15)\n",
    "\n",
    "# d = list(zip(*data))\n",
    "\n",
    "[ele[0] for ele in zip(*data) if len(set(ele))==1]"
   ]
  },
  {
   "cell_type": "code",
   "execution_count": null,
   "id": "8104cb36-ac7a-4983-aacc-26b3c9c19eac",
   "metadata": {},
   "outputs": [],
   "source": []
  },
  {
   "cell_type": "code",
   "execution_count": 32,
   "id": "60646ed2-d9f4-4247-8db7-a97c757187c7",
   "metadata": {},
   "outputs": [],
   "source": [
    "data =  (1,2,3,4,6), (1,2,3,7,8,9), (1,2,3,10,11,12), (1,2,13,14,15)\n",
    "\n",
    "d=list(zip(*data))"
   ]
  },
  {
   "cell_type": "code",
   "execution_count": 33,
   "id": "9460920d-8f41-45ca-a74a-3b8c937b0c20",
   "metadata": {},
   "outputs": [],
   "source": [
    "# for i in d:\n",
    "#     print((i[0]))"
   ]
  },
  {
   "cell_type": "code",
   "execution_count": 38,
   "id": "cafadb36-cca7-4da6-8305-f70c756e83b6",
   "metadata": {},
   "outputs": [
    {
     "data": {
      "text/plain": [
       "[1, 2]"
      ]
     },
     "execution_count": 38,
     "metadata": {},
     "output_type": "execute_result"
    }
   ],
   "source": [
    "[ele[0] for ele in zip(*data) if len(set(ele))==1 ]"
   ]
  },
  {
   "cell_type": "code",
   "execution_count": null,
   "id": "b2c68b48-c052-445b-92a9-d13df45e6a5e",
   "metadata": {},
   "outputs": [],
   "source": []
  }
 ],
 "metadata": {
  "kernelspec": {
   "display_name": "Python 3 (ipykernel)",
   "language": "python",
   "name": "python3"
  },
  "language_info": {
   "codemirror_mode": {
    "name": "ipython",
    "version": 3
   },
   "file_extension": ".py",
   "mimetype": "text/x-python",
   "name": "python",
   "nbconvert_exporter": "python",
   "pygments_lexer": "ipython3",
   "version": "3.10.2"
  }
 },
 "nbformat": 4,
 "nbformat_minor": 5
}
