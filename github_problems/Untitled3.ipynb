{
 "cells": [
  {
   "cell_type": "code",
   "execution_count": null,
   "id": "6d1a6b39-d21c-4506-8803-3f22fa6c7776",
   "metadata": {},
   "outputs": [],
   "source": [
    "# in python we can able to see 3 different types of functional arguments \n",
    "\n",
    "# 1. positional- mandatory \n",
    "# 2. default \n",
    "# 3. varibale length / keyword arguments "
   ]
  }
 ],
 "metadata": {
  "kernelspec": {
   "display_name": "Python 3 (ipykernel)",
   "language": "python",
   "name": "python3"
  },
  "language_info": {
   "codemirror_mode": {
    "name": "ipython",
    "version": 3
   },
   "file_extension": ".py",
   "mimetype": "text/x-python",
   "name": "python",
   "nbconvert_exporter": "python",
   "pygments_lexer": "ipython3",
   "version": "3.10.2"
  }
 },
 "nbformat": 4,
 "nbformat_minor": 5
}
