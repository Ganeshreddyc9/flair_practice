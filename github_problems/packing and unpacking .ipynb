{
 "cells": [
  {
   "cell_type": "code",
   "execution_count": 1,
   "id": "7231322b-3e18-4846-ba9e-4e0f1ca0f41e",
   "metadata": {},
   "outputs": [],
   "source": [
    "# Packing:\n",
    "# Packing involves assigning multiple values to a single variable. You can pack values into tuples, lists, or dictionaries."
   ]
  },
  {
   "cell_type": "code",
   "execution_count": 2,
   "id": "471c5b46-236f-4b90-b9af-e1dd49d79798",
   "metadata": {},
   "outputs": [],
   "source": [
    "packed_tuple = 1,2,3\n"
   ]
  },
  {
   "cell_type": "code",
   "execution_count": 3,
   "id": "e3517b07-b972-43dd-89ff-0caa71103dd5",
   "metadata": {},
   "outputs": [
    {
     "data": {
      "text/plain": [
       "(1, 2, 3)"
      ]
     },
     "execution_count": 3,
     "metadata": {},
     "output_type": "execute_result"
    }
   ],
   "source": [
    "packed_tuple"
   ]
  },
  {
   "cell_type": "code",
   "execution_count": 4,
   "id": "2e935832-d10d-41de-9373-08fcecdc9f21",
   "metadata": {},
   "outputs": [],
   "source": [
    "# packing means assigning multiple values to a single varibale \n",
    "packed_list = [1,2,3]"
   ]
  },
  {
   "cell_type": "code",
   "execution_count": 5,
   "id": "058c1bcf-9c3e-4ce9-adfd-62544176fa19",
   "metadata": {},
   "outputs": [
    {
     "data": {
      "text/plain": [
       "[1, 2, 3]"
      ]
     },
     "execution_count": 5,
     "metadata": {},
     "output_type": "execute_result"
    }
   ],
   "source": [
    "packed_list"
   ]
  },
  {
   "cell_type": "code",
   "execution_count": 6,
   "id": "973f9266-f26d-401f-9a28-74cb65bf39cf",
   "metadata": {},
   "outputs": [
    {
     "data": {
      "text/plain": [
       "{'a': 1, 'b': 2, 'c': 3}"
      ]
     },
     "execution_count": 6,
     "metadata": {},
     "output_type": "execute_result"
    }
   ],
   "source": [
    "# dictionary Packing\n",
    "\n",
    "packed_dict = {'a':1,'b':2,'c':3}\n",
    "packed_dict"
   ]
  },
  {
   "cell_type": "code",
   "execution_count": 7,
   "id": "cba59926-a1cd-47c7-9d63-106d4ac2af40",
   "metadata": {},
   "outputs": [],
   "source": [
    "# unpacking\n",
    "\n",
    "# unpacking involved extraciting values from a collection (like a tuple , list, dictionary) into seperate\n",
    "\n"
   ]
  },
  {
   "cell_type": "code",
   "execution_count": 8,
   "id": "479896cf-44f8-498e-a004-b9bed8fe24e3",
   "metadata": {},
   "outputs": [],
   "source": [
    "# tuple_unpack\n",
    "\n",
    "a,b,c = packed_tuple"
   ]
  },
  {
   "cell_type": "code",
   "execution_count": 10,
   "id": "7a7ee62b-fc3a-4cb4-a843-ccd5b5f84693",
   "metadata": {},
   "outputs": [
    {
     "data": {
      "text/plain": [
       "(1, 2, 3)"
      ]
     },
     "execution_count": 10,
     "metadata": {},
     "output_type": "execute_result"
    }
   ],
   "source": [
    "a,b,c"
   ]
  },
  {
   "cell_type": "code",
   "execution_count": 11,
   "id": "a1494ec8-9b1e-4842-bb9e-ca0136b30340",
   "metadata": {},
   "outputs": [],
   "source": [
    "# list_unpacking\n",
    "x,y,z = packed_list"
   ]
  },
  {
   "cell_type": "code",
   "execution_count": 14,
   "id": "0bb1351e-82fc-4e87-95d9-26dc123003ba",
   "metadata": {},
   "outputs": [
    {
     "data": {
      "text/plain": [
       "1"
      ]
     },
     "execution_count": 14,
     "metadata": {},
     "output_type": "execute_result"
    }
   ],
   "source": [
    "x"
   ]
  },
  {
   "cell_type": "code",
   "execution_count": 15,
   "id": "5893e9f6-b79b-46ea-bb86-9797194f9d65",
   "metadata": {},
   "outputs": [
    {
     "name": "stdout",
     "output_type": "stream",
     "text": [
      "a 1\n",
      "b 2\n",
      "c 3\n"
     ]
    }
   ],
   "source": [
    "for key,value in packed_dict.items():\n",
    "    print(key,value)"
   ]
  },
  {
   "cell_type": "code",
   "execution_count": null,
   "id": "1e1a8b42-2f89-4a07-998b-95f594e9ab72",
   "metadata": {},
   "outputs": [],
   "source": []
  },
  {
   "cell_type": "code",
   "execution_count": 16,
   "id": "2c6ce4d9-e8d2-4071-9ed1-a67cb19c065a",
   "metadata": {},
   "outputs": [],
   "source": [
    "# Asterisk (*) - Unpacking Iterables:\n",
    "# The * operator, when used in function calls or assignments, is used to unpack iterable objects like lists, tuples, or string"
   ]
  },
  {
   "cell_type": "code",
   "execution_count": 17,
   "id": "58467dfd-6a68-4377-b786-28f39f70ef7f",
   "metadata": {},
   "outputs": [
    {
     "name": "stdout",
     "output_type": "stream",
     "text": [
      "1 2 3\n"
     ]
    }
   ],
   "source": [
    "def func(a, b, c):\n",
    "    print(a, b, c)\n",
    "\n",
    "my_list = [1, 2, 3]\n",
    "func(*my_list)"
   ]
  },
  {
   "cell_type": "code",
   "execution_count": 18,
   "id": "8b8bfd5d-4aae-43e4-b0ea-ab1cab961892",
   "metadata": {},
   "outputs": [
    {
     "name": "stdout",
     "output_type": "stream",
     "text": [
      "1\n",
      "[2, 3, 4, 5]\n"
     ]
    }
   ],
   "source": [
    "first, *rest = [1,2,3,4,5]\n",
    "\n",
    "print(first)\n",
    "print(rest)"
   ]
  },
  {
   "cell_type": "code",
   "execution_count": 19,
   "id": "566d6f64-2d94-40c5-ac44-988da1ea36ce",
   "metadata": {},
   "outputs": [],
   "source": [
    "# Double Asterisks (**) - Unpacking Dictionaries:\n",
    "# The ** operator is used to unpack dictionaries."
   ]
  },
  {
   "cell_type": "code",
   "execution_count": 20,
   "id": "81f7322a-f8ef-49d2-88c8-caa8133e9e19",
   "metadata": {},
   "outputs": [
    {
     "name": "stdout",
     "output_type": "stream",
     "text": [
      "1 2 3\n"
     ]
    }
   ],
   "source": [
    "def func(a, b, c):\n",
    "    print(a, b, c)\n",
    "\n",
    "my_dict = {'a':1, 'b':2, 'c':3}\n",
    "func(**my_dict)"
   ]
  },
  {
   "cell_type": "code",
   "execution_count": 21,
   "id": "32dbbab5-4c56-4e43-80bf-5a7ccd109c87",
   "metadata": {},
   "outputs": [
    {
     "data": {
      "text/plain": [
       "{'a': 1, 'b': 2, 'c': 3, 'd': 4}"
      ]
     },
     "execution_count": 21,
     "metadata": {},
     "output_type": "execute_result"
    }
   ],
   "source": [
    "dict1 = {'a':1, 'b':2}\n",
    "dict2 = {'c':3, 'd':4}\n",
    "merged_dict = {**dict1, **dict2}\n",
    "merged_dict"
   ]
  },
  {
   "cell_type": "code",
   "execution_count": 22,
   "id": "739da935-96ff-4d06-b953-277612942ab3",
   "metadata": {},
   "outputs": [
    {
     "name": "stdout",
     "output_type": "stream",
     "text": [
      "{'a': 2, 'b': 5, 'c': 6, 'd': 8}\n"
     ]
    }
   ],
   "source": [
    "dict1  = {'a':2, 'b':5}\n",
    "dict2 = {'c':6, 'd':8}\n",
    "\n",
    "merged_dict = {**dict1, **dict2}\n",
    "print(merged_dict)"
   ]
  },
  {
   "cell_type": "code",
   "execution_count": null,
   "id": "abf35f8c-5d93-4554-bb3b-f8cb1f145488",
   "metadata": {},
   "outputs": [],
   "source": []
  }
 ],
 "metadata": {
  "kernelspec": {
   "display_name": "Python 3 (ipykernel)",
   "language": "python",
   "name": "python3"
  },
  "language_info": {
   "codemirror_mode": {
    "name": "ipython",
    "version": 3
   },
   "file_extension": ".py",
   "mimetype": "text/x-python",
   "name": "python",
   "nbconvert_exporter": "python",
   "pygments_lexer": "ipython3",
   "version": "3.10.2"
  }
 },
 "nbformat": 4,
 "nbformat_minor": 5
}
