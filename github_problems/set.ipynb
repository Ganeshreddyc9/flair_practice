{
 "cells": [
  {
   "cell_type": "code",
   "execution_count": 1,
   "id": "08d3c356-8039-4dcf-9ee5-92edd6f6d02a",
   "metadata": {},
   "outputs": [],
   "source": [
    "# python set remove()"
   ]
  },
  {
   "cell_type": "code",
   "execution_count": 4,
   "id": "50170930-26bd-4a6f-9250-9cd8326b16fd",
   "metadata": {},
   "outputs": [],
   "source": [
    "# the remove method removes the specified element from the set \n",
    "\n",
    "# set is like a dictionary but it contains only keys \n",
    "# (or)\n",
    "# set contains immutable unique and hashable elements"
   ]
  },
  {
   "cell_type": "code",
   "execution_count": null,
   "id": "036a520b-76d8-4541-ac3b-0526f806b259",
   "metadata": {},
   "outputs": [],
   "source": []
  },
  {
   "cell_type": "code",
   "execution_count": 6,
   "id": "d4e25a59-8667-4fc8-a7f1-50ecdfa8ede6",
   "metadata": {},
   "outputs": [
    {
     "ename": "TypeError",
     "evalue": "unhashable type: 'list'",
     "output_type": "error",
     "traceback": [
      "\u001b[1;31m---------------------------------------------------------------------------\u001b[0m",
      "\u001b[1;31mTypeError\u001b[0m                                 Traceback (most recent call last)",
      "Cell \u001b[1;32mIn[6], line 1\u001b[0m\n\u001b[1;32m----> 1\u001b[0m s \u001b[38;5;241m=\u001b[39m {[\u001b[38;5;241m1\u001b[39m,\u001b[38;5;241m2\u001b[39m],{\u001b[38;5;241m1\u001b[39m:\u001b[38;5;124m'\u001b[39m\u001b[38;5;124mhi\u001b[39m\u001b[38;5;124m'\u001b[39m}}\n",
      "\u001b[1;31mTypeError\u001b[0m: unhashable type: 'list'"
     ]
    }
   ],
   "source": [
    "s = {[1,2],{1:'hi'}}\n"
   ]
  },
  {
   "cell_type": "code",
   "execution_count": 7,
   "id": "1a87af0e-88e1-485e-9074-c5243b6ff4c1",
   "metadata": {},
   "outputs": [
    {
     "ename": "TypeError",
     "evalue": "unhashable type: 'list'",
     "output_type": "error",
     "traceback": [
      "\u001b[1;31m---------------------------------------------------------------------------\u001b[0m",
      "\u001b[1;31mTypeError\u001b[0m                                 Traceback (most recent call last)",
      "Cell \u001b[1;32mIn[7], line 1\u001b[0m\n\u001b[1;32m----> 1\u001b[0m \u001b[38;5;28;43mhash\u001b[39;49m\u001b[43m(\u001b[49m\u001b[43m[\u001b[49m\u001b[38;5;241;43m1\u001b[39;49m\u001b[43m,\u001b[49m\u001b[38;5;241;43m2\u001b[39;49m\u001b[43m]\u001b[49m\u001b[43m)\u001b[49m\n",
      "\u001b[1;31mTypeError\u001b[0m: unhashable type: 'list'"
     ]
    }
   ],
   "source": [
    "hash([1,2])"
   ]
  },
  {
   "cell_type": "code",
   "execution_count": 8,
   "id": "108a4e1f-3cae-4ce1-bb94-90239bf25e3e",
   "metadata": {},
   "outputs": [
    {
     "data": {
      "text/plain": [
       "-3550055125485641917"
      ]
     },
     "execution_count": 8,
     "metadata": {},
     "output_type": "execute_result"
    }
   ],
   "source": [
    "hash((1,2))"
   ]
  },
  {
   "cell_type": "code",
   "execution_count": 11,
   "id": "8c7bcb51-908d-4830-a89e-628996ea34e6",
   "metadata": {},
   "outputs": [],
   "source": [
    "s = {1,1,2,3,4,5,6,6}"
   ]
  },
  {
   "cell_type": "code",
   "execution_count": 14,
   "id": "da46f4d7-992f-49da-b0f6-3c742e6676cc",
   "metadata": {},
   "outputs": [
    {
     "data": {
      "text/plain": [
       "{1, 2, 3, 4, 5, 6}"
      ]
     },
     "execution_count": 14,
     "metadata": {},
     "output_type": "execute_result"
    }
   ],
   "source": [
    "s"
   ]
  },
  {
   "cell_type": "code",
   "execution_count": 17,
   "id": "650dd575-71e8-4b5b-839f-e3a93427756e",
   "metadata": {},
   "outputs": [
    {
     "name": "stdout",
     "output_type": "stream",
     "text": [
      "123456"
     ]
    }
   ],
   "source": [
    "for i in s:\n",
    "    print(i,end=\"\")"
   ]
  },
  {
   "cell_type": "code",
   "execution_count": null,
   "id": "164cab9c-8391-46f3-a4ae-d8085070df09",
   "metadata": {},
   "outputs": [],
   "source": []
  },
  {
   "cell_type": "code",
   "execution_count": 18,
   "id": "f4c56717-6ca1-4009-8a8c-0b7a86f015ba",
   "metadata": {},
   "outputs": [],
   "source": [
    "# Python Set remove()\n",
    "# The remove() method removes the specified element from the set."
   ]
  },
  {
   "cell_type": "code",
   "execution_count": 19,
   "id": "c949425e-adaf-4e95-b939-45a2949b23f2",
   "metadata": {},
   "outputs": [],
   "source": [
    "# set.remove(element)"
   ]
  },
  {
   "cell_type": "code",
   "execution_count": 21,
   "id": "df2e4ab0-de6c-4d94-84de-10cb715ebc71",
   "metadata": {},
   "outputs": [
    {
     "name": "stdout",
     "output_type": "stream",
     "text": [
      "['__and__', '__class__', '__class_getitem__', '__contains__', '__delattr__', '__dir__', '__doc__', '__eq__', '__format__', '__ge__', '__getattribute__', '__gt__', '__hash__', '__iand__', '__init__', '__init_subclass__', '__ior__', '__isub__', '__iter__', '__ixor__', '__le__', '__len__', '__lt__', '__ne__', '__new__', '__or__', '__rand__', '__reduce__', '__reduce_ex__', '__repr__', '__ror__', '__rsub__', '__rxor__', '__setattr__', '__sizeof__', '__str__', '__sub__', '__subclasshook__', '__xor__', 'add', 'clear', 'copy', 'difference', 'difference_update', 'discard', 'intersection', 'intersection_update', 'isdisjoint', 'issubset', 'issuperset', 'pop', 'remove', 'symmetric_difference', 'symmetric_difference_update', 'union', 'update']\n"
     ]
    }
   ],
   "source": [
    "# remove() parameters\n",
    "print(dir(s))"
   ]
  },
  {
   "cell_type": "code",
   "execution_count": 22,
   "id": "86204db8-dcde-485c-88f1-a67c0a6a922a",
   "metadata": {},
   "outputs": [
    {
     "name": "stdout",
     "output_type": "stream",
     "text": [
      "Help on built-in function remove:\n",
      "\n",
      "remove(...) method of builtins.set instance\n",
      "    Remove an element from a set; it must be a member.\n",
      "    \n",
      "    If the element is not a member, raise a KeyError.\n",
      "\n"
     ]
    }
   ],
   "source": [
    "help(s.remove)"
   ]
  },
  {
   "cell_type": "code",
   "execution_count": 23,
   "id": "4b628bb9-fd05-4c0e-b90d-86e987a1833b",
   "metadata": {},
   "outputs": [],
   "source": [
    "set1 = {\"Welcome\", \"to\", \"Python\", \"course\"}\n",
    "\n",
    "set1.remove('course')"
   ]
  },
  {
   "cell_type": "code",
   "execution_count": 24,
   "id": "c631a42d-0d69-48ce-b191-99b0943019b1",
   "metadata": {},
   "outputs": [
    {
     "data": {
      "text/plain": [
       "{'Python', 'Welcome', 'to'}"
      ]
     },
     "execution_count": 24,
     "metadata": {},
     "output_type": "execute_result"
    }
   ],
   "source": [
    "set1"
   ]
  },
  {
   "cell_type": "code",
   "execution_count": null,
   "id": "bd302651-3250-495f-acf9-5826937ff099",
   "metadata": {},
   "outputs": [],
   "source": []
  },
  {
   "cell_type": "code",
   "execution_count": 26,
   "id": "9cab9786-cc63-4e0d-a6f3-20b85e499d5b",
   "metadata": {},
   "outputs": [
    {
     "name": "stdout",
     "output_type": "stream",
     "text": [
      "Updated language set: {'English', 'French'}\n"
     ]
    }
   ],
   "source": [
    "# Example 2: Remove an Element From The Set\n",
    "\n",
    "# language set\n",
    "language = {'English', 'French', 'German'}\n",
    "\n",
    "# removing 'German' from language\n",
    "language.remove('German')\n",
    "print(\"Updated language set:\",language)"
   ]
  },
  {
   "cell_type": "code",
   "execution_count": 27,
   "id": "423124ca-6a81-492b-b8a7-2d1e5f3eee6e",
   "metadata": {},
   "outputs": [
    {
     "ename": "KeyError",
     "evalue": "'fish'",
     "output_type": "error",
     "traceback": [
      "\u001b[1;31m---------------------------------------------------------------------------\u001b[0m",
      "\u001b[1;31mKeyError\u001b[0m                                  Traceback (most recent call last)",
      "Cell \u001b[1;32mIn[27], line 5\u001b[0m\n\u001b[0;32m      2\u001b[0m animal \u001b[38;5;241m=\u001b[39m {\u001b[38;5;124m'\u001b[39m\u001b[38;5;124mcat\u001b[39m\u001b[38;5;124m'\u001b[39m, \u001b[38;5;124m'\u001b[39m\u001b[38;5;124mdog\u001b[39m\u001b[38;5;124m'\u001b[39m, \u001b[38;5;124m'\u001b[39m\u001b[38;5;124mrabbit\u001b[39m\u001b[38;5;124m'\u001b[39m, \u001b[38;5;124m'\u001b[39m\u001b[38;5;124mguinea pig\u001b[39m\u001b[38;5;124m'\u001b[39m}\n\u001b[0;32m      4\u001b[0m \u001b[38;5;66;03m# Deleting 'fish' element\u001b[39;00m\n\u001b[1;32m----> 5\u001b[0m \u001b[43manimal\u001b[49m\u001b[38;5;241;43m.\u001b[39;49m\u001b[43mremove\u001b[49m\u001b[43m(\u001b[49m\u001b[38;5;124;43m'\u001b[39;49m\u001b[38;5;124;43mfish\u001b[39;49m\u001b[38;5;124;43m'\u001b[39;49m\u001b[43m)\u001b[49m\n\u001b[0;32m      7\u001b[0m \u001b[38;5;66;03m# Updated animal\u001b[39;00m\n\u001b[0;32m      8\u001b[0m \u001b[38;5;28mprint\u001b[39m(\u001b[38;5;124m'\u001b[39m\u001b[38;5;124mUpdated animal set:\u001b[39m\u001b[38;5;124m'\u001b[39m, animal)\n",
      "\u001b[1;31mKeyError\u001b[0m: 'fish'"
     ]
    }
   ],
   "source": [
    "# animal set\n",
    "animal = {'cat', 'dog', 'rabbit', 'guinea pig'}\n",
    "\n",
    "# Deleting 'fish' element\n",
    "animal.remove('fish')\n",
    "\n",
    "# Updated animal\n",
    "print('Updated animal set:', animal)\n"
   ]
  },
  {
   "cell_type": "code",
   "execution_count": 29,
   "id": "4ce147c9-b861-4fbe-ac0f-535c618f5b98",
   "metadata": {},
   "outputs": [],
   "source": [
    "# set is an mutable datatype and unordered \\\n",
    "# set is like a dictionary but it contains only keys \n",
    "\n",
    "# set contains immutable unique and hashable elements"
   ]
  },
  {
   "cell_type": "code",
   "execution_count": 30,
   "id": "d238f098-f407-4013-8b5b-6fb2d14b0093",
   "metadata": {},
   "outputs": [],
   "source": [
    "# Python Set add()"
   ]
  },
  {
   "cell_type": "code",
   "execution_count": 32,
   "id": "615a0b02-46d3-454f-a203-01d0c53143e1",
   "metadata": {},
   "outputs": [],
   "source": [
    "# The add() method adds a given element to a set. If the element is already present, it doesn't add any element\n",
    "\n",
    "# syntax:\n",
    "# set.add(elem)\n",
    "# add() method does'nt add an element to the set if its already present in it \n",
    "\n",
    "\n",
    "# add() Parameters\n",
    "# The add() method takes a single parameter:\n",
    "\n",
    "# elem - the element that is added to the set"
   ]
  },
  {
   "cell_type": "code",
   "execution_count": 37,
   "id": "2d5b7c12-dd8f-4277-97d7-879b21802f5c",
   "metadata": {},
   "outputs": [
    {
     "name": "stdout",
     "output_type": "stream",
     "text": [
      "{'hi', 20}\n"
     ]
    }
   ],
   "source": [
    "set1 = set()\n",
    "\n",
    "set1.add(20)\n",
    "set1.add('hi')\n",
    "print(set1)"
   ]
  },
  {
   "cell_type": "code",
   "execution_count": null,
   "id": "9db271ef-9eb8-4a67-990d-d88f1cc90574",
   "metadata": {},
   "outputs": [],
   "source": []
  },
  {
   "cell_type": "code",
   "execution_count": 41,
   "id": "c7d28a38-1806-4c32-8285-aa6a435f57e6",
   "metadata": {},
   "outputs": [
    {
     "name": "stdout",
     "output_type": "stream",
     "text": [
      "{'i', 'o', 'u', 'e', 'a'}\n",
      "Vowels are: {'i', 'o', 'u', 'e', 'a'}\n"
     ]
    }
   ],
   "source": [
    "vowels = {'a', 'e', 'i', 'u'}\n",
    "\n",
    "vowels.add('o')\n",
    "\n",
    "print(vowels)\n",
    "\n",
    "vowels.add('a')\n",
    "print(\"Vowels are:\",vowels)"
   ]
  },
  {
   "cell_type": "code",
   "execution_count": 43,
   "id": "d8fd538d-8d08-4099-ae12-99ed77340e3b",
   "metadata": {},
   "outputs": [
    {
     "name": "stdout",
     "output_type": "stream",
     "text": [
      "Vowels are: {'u', 'a', ('i', 'o'), 'e'}\n"
     ]
    }
   ],
   "source": [
    "vowels = {'a', 'e', 'u'}\n",
    "tup = ('i','o')\n",
    "\n",
    "vowels.add(tup)\n",
    "\n",
    "print(\"Vowels are:\",vowels)"
   ]
  },
  {
   "cell_type": "code",
   "execution_count": 44,
   "id": "1191eda4-a75b-4188-a127-fb50add56eb4",
   "metadata": {},
   "outputs": [
    {
     "ename": "TypeError",
     "evalue": "unhashable type: 'list'",
     "output_type": "error",
     "traceback": [
      "\u001b[1;31m---------------------------------------------------------------------------\u001b[0m",
      "\u001b[1;31mTypeError\u001b[0m                                 Traceback (most recent call last)",
      "Cell \u001b[1;32mIn[44], line 4\u001b[0m\n\u001b[0;32m      1\u001b[0m vowels \u001b[38;5;241m=\u001b[39m {\u001b[38;5;124m'\u001b[39m\u001b[38;5;124ma\u001b[39m\u001b[38;5;124m'\u001b[39m, \u001b[38;5;124m'\u001b[39m\u001b[38;5;124me\u001b[39m\u001b[38;5;124m'\u001b[39m, \u001b[38;5;124m'\u001b[39m\u001b[38;5;124mu\u001b[39m\u001b[38;5;124m'\u001b[39m}\n\u001b[0;32m      2\u001b[0m li \u001b[38;5;241m=\u001b[39m [\u001b[38;5;124m'\u001b[39m\u001b[38;5;124mi\u001b[39m\u001b[38;5;124m'\u001b[39m,\u001b[38;5;124m'\u001b[39m\u001b[38;5;124mo\u001b[39m\u001b[38;5;124m'\u001b[39m]\n\u001b[1;32m----> 4\u001b[0m \u001b[43mvowels\u001b[49m\u001b[38;5;241;43m.\u001b[39;49m\u001b[43madd\u001b[49m\u001b[43m(\u001b[49m\u001b[43mli\u001b[49m\u001b[43m)\u001b[49m\n\u001b[0;32m      6\u001b[0m \u001b[38;5;28mprint\u001b[39m(\u001b[38;5;124m\"\u001b[39m\u001b[38;5;124mVowels are:\u001b[39m\u001b[38;5;124m\"\u001b[39m,vowels)\n",
      "\u001b[1;31mTypeError\u001b[0m: unhashable type: 'list'"
     ]
    }
   ],
   "source": [
    "vowels = {'a', 'e', 'u'}\n",
    "li = ['i','o']\n",
    "\n",
    "vowels.add(li)\n",
    "\n",
    "print(\"Vowels are:\",vowels)"
   ]
  },
  {
   "cell_type": "code",
   "execution_count": 52,
   "id": "3f6aa21e-a511-453c-99fb-668957ad6b23",
   "metadata": {
    "scrolled": true
   },
   "outputs": [
    {
     "ename": "TypeError",
     "evalue": "error occured during adding a list mutable elements to set",
     "output_type": "error",
     "traceback": [
      "\u001b[1;31m---------------------------------------------------------------------------\u001b[0m",
      "\u001b[1;31mTypeError\u001b[0m                                 Traceback (most recent call last)",
      "Cell \u001b[1;32mIn[52], line 4\u001b[0m\n\u001b[0;32m      3\u001b[0m \u001b[38;5;28;01mtry\u001b[39;00m:\n\u001b[1;32m----> 4\u001b[0m     \u001b[43mvowels\u001b[49m\u001b[38;5;241;43m.\u001b[39;49m\u001b[43madd\u001b[49m\u001b[43m(\u001b[49m\u001b[43mli\u001b[49m\u001b[43m)\u001b[49m\n\u001b[0;32m      5\u001b[0m \u001b[38;5;28;01mexcept\u001b[39;00m \u001b[38;5;167;01mTypeError\u001b[39;00m \u001b[38;5;28;01mas\u001b[39;00m e:\n",
      "\u001b[1;31mTypeError\u001b[0m: unhashable type: 'list'",
      "\nThe above exception was the direct cause of the following exception:\n",
      "\u001b[1;31mTypeError\u001b[0m                                 Traceback (most recent call last)",
      "Cell \u001b[1;32mIn[52], line 6\u001b[0m\n\u001b[0;32m      4\u001b[0m     vowels\u001b[38;5;241m.\u001b[39madd(li)\n\u001b[0;32m      5\u001b[0m \u001b[38;5;28;01mexcept\u001b[39;00m \u001b[38;5;167;01mTypeError\u001b[39;00m \u001b[38;5;28;01mas\u001b[39;00m e:\n\u001b[1;32m----> 6\u001b[0m     \u001b[38;5;28;01mraise\u001b[39;00m  \u001b[38;5;167;01mTypeError\u001b[39;00m(\u001b[38;5;124m'\u001b[39m\u001b[38;5;124merror occured during adding a list mutable elements to set\u001b[39m\u001b[38;5;124m'\u001b[39m) \u001b[38;5;28;01mfrom\u001b[39;00m \u001b[38;5;21;01me\u001b[39;00m\n\u001b[0;32m      8\u001b[0m \u001b[38;5;66;03m# print(\"Vowels are:\",vowels)\u001b[39;00m\n",
      "\u001b[1;31mTypeError\u001b[0m: error occured during adding a list mutable elements to set"
     ]
    }
   ],
   "source": [
    "vowels = {'a', 'e', 'u'}\n",
    "li = ['i','o']\n",
    "try:\n",
    "    vowels.add(li)\n",
    "except TypeError as e:\n",
    "    raise  TypeError('error occured during adding a list mutable elements to set') from e\n",
    "\n",
    "# print(\"Vowels are:\",vowels)"
   ]
  },
  {
   "cell_type": "code",
   "execution_count": 55,
   "id": "488b83f5-6c02-4928-9a01-a0d1d17ee9f8",
   "metadata": {},
   "outputs": [
    {
     "ename": "TypeError",
     "evalue": "Error occurred during adding a list with mutable elements to set",
     "output_type": "error",
     "traceback": [
      "\u001b[1;31m---------------------------------------------------------------------------\u001b[0m",
      "\u001b[1;31mTypeError\u001b[0m                                 Traceback (most recent call last)",
      "Cell \u001b[1;32mIn[55], line 4\u001b[0m\n\u001b[0;32m      3\u001b[0m \u001b[38;5;28;01mtry\u001b[39;00m:\n\u001b[1;32m----> 4\u001b[0m     \u001b[43mvowels\u001b[49m\u001b[38;5;241;43m.\u001b[39;49m\u001b[43madd\u001b[49m\u001b[43m(\u001b[49m\u001b[43mli\u001b[49m\u001b[43m)\u001b[49m\n\u001b[0;32m      5\u001b[0m \u001b[38;5;28;01mexcept\u001b[39;00m \u001b[38;5;167;01mTypeError\u001b[39;00m \u001b[38;5;28;01mas\u001b[39;00m e:\n",
      "\u001b[1;31mTypeError\u001b[0m: unhashable type: 'list'",
      "\nThe above exception was the direct cause of the following exception:\n",
      "\u001b[1;31mTypeError\u001b[0m                                 Traceback (most recent call last)",
      "Cell \u001b[1;32mIn[55], line 6\u001b[0m\n\u001b[0;32m      4\u001b[0m     vowels\u001b[38;5;241m.\u001b[39madd(li)\n\u001b[0;32m      5\u001b[0m \u001b[38;5;28;01mexcept\u001b[39;00m \u001b[38;5;167;01mTypeError\u001b[39;00m \u001b[38;5;28;01mas\u001b[39;00m e:\n\u001b[1;32m----> 6\u001b[0m     \u001b[38;5;28;01mraise\u001b[39;00m \u001b[38;5;167;01mTypeError\u001b[39;00m(\u001b[38;5;124m'\u001b[39m\u001b[38;5;124mError occurred during adding a list with mutable elements to set\u001b[39m\u001b[38;5;124m'\u001b[39m) \u001b[38;5;28;01mfrom\u001b[39;00m \u001b[38;5;21;01me\u001b[39;00m\n",
      "\u001b[1;31mTypeError\u001b[0m: Error occurred during adding a list with mutable elements to set"
     ]
    }
   ],
   "source": [
    "vowels = {'a', 'e', 'u'}\n",
    "li = ['i', 'o']\n",
    "try:\n",
    "    vowels.add(li)\n",
    "except TypeError as e:\n",
    "    raise TypeError('Error occurred during adding a list with mutable elements to set') from e\n"
   ]
  },
  {
   "cell_type": "code",
   "execution_count": null,
   "id": "ccda6fb9-21a1-4e1e-b307-5b7f9376b1b5",
   "metadata": {},
   "outputs": [],
   "source": [
    "# copy method"
   ]
  },
  {
   "cell_type": "code",
   "execution_count": 56,
   "id": "90525385-c433-4064-a74f-388561172d5f",
   "metadata": {},
   "outputs": [
    {
     "name": "stdout",
     "output_type": "stream",
     "text": [
      "numbers: {1, 2, 3, 4}\n",
      "new numbers: {1, 2, 3, 4, 5}\n"
     ]
    }
   ],
   "source": [
    "\n",
    "numbers = {1, 2, 3, 4}\n",
    "\n",
    "new_numbers = numbers.copy()\n",
    "new_numbers.add(5)\n",
    "\n",
    "print('numbers:', numbers)\n",
    "print('new numbers:', new_numbers)"
   ]
  },
  {
   "cell_type": "code",
   "execution_count": 59,
   "id": "d8ced353-0d86-4b90-9eca-412700f41a4f",
   "metadata": {},
   "outputs": [
    {
     "name": "stdout",
     "output_type": "stream",
     "text": [
      "{1, 2, 3, 4, 5}\n",
      "{1, 2, 3, 4, 5}\n"
     ]
    }
   ],
   "source": [
    "numbers = {1, 2, 3, 4}\n",
    "num = numbers\n",
    "\n",
    "num.add(5)\n",
    "\n",
    "print(numbers)\n",
    "print(num)"
   ]
  },
  {
   "cell_type": "code",
   "execution_count": null,
   "id": "b2a8b9e7-9f7e-4c25-82ac-a9181470b865",
   "metadata": {},
   "outputs": [],
   "source": []
  },
  {
   "cell_type": "code",
   "execution_count": 60,
   "id": "fc18afd2-9ce3-44a6-abba-6205e78bf440",
   "metadata": {},
   "outputs": [],
   "source": [
    "# Python Set clear()\n",
    "# The clear() method removes all elements from the set.\n",
    "\n",
    "# Syntax:\n",
    "\n",
    "# set.clear()\n",
    "\n",
    "# clear() Parameters\n",
    "# The clear() ethod doesn't take any parameters.\n",
    "\n",
    "# Return Value from clear()\n",
    "# The clear() method doesn't return any value and returns None."
   ]
  },
  {
   "cell_type": "code",
   "execution_count": 61,
   "id": "56afe545-91a9-4ac1-9880-dce988791e7d",
   "metadata": {},
   "outputs": [
    {
     "name": "stdout",
     "output_type": "stream",
     "text": [
      "Vowels (before clear): {'i', 'o', 'e', 'u', 'a'}\n",
      "Vowels (after clear): set()\n"
     ]
    }
   ],
   "source": [
    "vowels = {'a', 'e', 'i', 'o', 'u'}\n",
    "\n",
    "print('Vowels (before clear):', vowels)\n",
    "\n",
    "vowels.clear()\n",
    "print('Vowels (after clear):', vowels)"
   ]
  },
  {
   "cell_type": "code",
   "execution_count": 62,
   "id": "392823cc-5453-4b6d-ad05-db8ffcb174d5",
   "metadata": {},
   "outputs": [
    {
     "ename": "NameError",
     "evalue": "name 'set1' is not defined",
     "output_type": "error",
     "traceback": [
      "\u001b[1;31m---------------------------------------------------------------------------\u001b[0m",
      "\u001b[1;31mNameError\u001b[0m                                 Traceback (most recent call last)",
      "Cell \u001b[1;32mIn[62], line 6\u001b[0m\n\u001b[0;32m      4\u001b[0m set1 \u001b[38;5;241m=\u001b[39m {\u001b[38;5;124m\"\u001b[39m\u001b[38;5;124mWelcome\u001b[39m\u001b[38;5;124m\"\u001b[39m, \u001b[38;5;124m\"\u001b[39m\u001b[38;5;124mto\u001b[39m\u001b[38;5;124m\"\u001b[39m, \u001b[38;5;124m\"\u001b[39m\u001b[38;5;124mPython\u001b[39m\u001b[38;5;124m\"\u001b[39m, \u001b[38;5;124m\"\u001b[39m\u001b[38;5;124mcourse\u001b[39m\u001b[38;5;124m\"\u001b[39m}\n\u001b[0;32m      5\u001b[0m \u001b[38;5;28;01mdel\u001b[39;00m set1\n\u001b[1;32m----> 6\u001b[0m \u001b[38;5;28mprint\u001b[39m(\u001b[43mset1\u001b[49m)\n",
      "\u001b[1;31mNameError\u001b[0m: name 'set1' is not defined"
     ]
    }
   ],
   "source": [
    "# Example 1:\n",
    "\n",
    "#deleting a set\n",
    "set1 = {\"Welcome\", \"to\", \"Python\", \"course\"}\n",
    "del set1\n",
    "print(set1)"
   ]
  },
  {
   "cell_type": "code",
   "execution_count": null,
   "id": "f010951b-d119-4989-8b4c-b293d9ca5882",
   "metadata": {},
   "outputs": [],
   "source": []
  },
  {
   "cell_type": "code",
   "execution_count": 63,
   "id": "bf125898-2344-4ad3-b8e5-0381d15ba12f",
   "metadata": {},
   "outputs": [],
   "source": [
    "# vPython Set difference()\n",
    "# The difference() method returns the set difference of two sets.\n",
    "\n",
    "# If A and B are two sets. The set difference of A and B is a set of elements that exists only in set A but not in B."
   ]
  },
  {
   "cell_type": "code",
   "execution_count": 64,
   "id": "a030439b-6c6c-48e2-a893-d1332322db15",
   "metadata": {},
   "outputs": [],
   "source": [
    "# # If A = {1, 2, 3, 4}\n",
    "# # B = {2, 3, 9}\n",
    "\n",
    "# # Then,\n",
    "# # A - B = {1, 4}\n",
    "# # B - A = {9}\n",
    "\n",
    "# Syntax:\n",
    "\n",
    "# A.difference(B)\n",
    "# Here, A and B are two sets. The following syntax is equivalent to A-B."
   ]
  },
  {
   "cell_type": "code",
   "execution_count": 65,
   "id": "29692ca7-ce2b-41d0-bbbb-67aa9e3b74bc",
   "metadata": {},
   "outputs": [],
   "source": [
    "# Return Value from difference()\n",
    "# The difference() method returns the difference between two sets which is also a set. It doesn't modify original sets."
   ]
  },
  {
   "cell_type": "code",
   "execution_count": 66,
   "id": "65c728fa-12dd-4dc8-8f27-c659f5de1fa7",
   "metadata": {},
   "outputs": [],
   "source": [
    "# Python Set difference_update()"
   ]
  },
  {
   "cell_type": "code",
   "execution_count": 69,
   "id": "8b6736c8-f254-4719-a24e-a809dd5a7b26",
   "metadata": {
    "scrolled": true
   },
   "outputs": [
    {
     "name": "stdout",
     "output_type": "stream",
     "text": [
      "A =  {'a', 'g', 'd', 'c'}\n",
      "B =  {'f'}\n",
      "result =  None\n",
      "result1 =  None\n"
     ]
    }
   ],
   "source": [
    "A = {'a', 'c', 'g', 'd'}\n",
    "B = {'c', 'f', 'g'}\n",
    "\n",
    "result = A.difference_update(B)\n",
    "\n",
    "result1 = B.difference_update(A)\n",
    "print('A = ', A)\n",
    "print('B = ', B)\n",
    "print('result = ', result)\n",
    "print('result1 = ', result1)"
   ]
  },
  {
   "cell_type": "code",
   "execution_count": null,
   "id": "877b9b59-37fa-40f7-9a8e-98c00e32f611",
   "metadata": {},
   "outputs": [],
   "source": []
  },
  {
   "cell_type": "code",
   "execution_count": 70,
   "id": "f0cf08f7-a81f-4f99-bef4-4161a2784312",
   "metadata": {},
   "outputs": [],
   "source": [
    "# Python Set discard()\n",
    "# The discard() method removes a specified element from the set\n",
    "\n",
    "# Return Value from discard()\n",
    "# The discard() removes element x from the set if the element is present.\n",
    "\n",
    "# This method returns None (meaning, absence of a return value).\n"
   ]
  },
  {
   "cell_type": "code",
   "execution_count": 73,
   "id": "f0826ac2-87ea-4421-b1a5-4d4eaa5f90c5",
   "metadata": {},
   "outputs": [
    {
     "name": "stdout",
     "output_type": "stream",
     "text": [
      "numbers =  {2, 4, 5}\n",
      "numbers1 =  {2, 4, 5}\n"
     ]
    }
   ],
   "source": [
    "numbers = {2, 3, 4, 5}\n",
    "\n",
    "numbers.discard(3)\n",
    "print('numbers = ', numbers)\n",
    "\n",
    "numbers.discard(10)\n",
    "print('numbers1 = ', numbers)\n",
    "\n"
   ]
  },
  {
   "cell_type": "code",
   "execution_count": 79,
   "id": "bcc0c6a0-845b-499b-9c4c-a6f75b86174f",
   "metadata": {},
   "outputs": [
    {
     "name": "stdout",
     "output_type": "stream",
     "text": [
      "numbers = {2, 3, 4, 5}\n",
      "None\n",
      "numbers = {3, 4, 5}\n"
     ]
    }
   ],
   "source": [
    " # Example 2: How discard() works?\n",
    "\n",
    "numbers = {2, 3, 5, 4}\n",
    "print('numbers =', numbers)\n",
    "# Returns None\n",
    "# Meaning, absence of a return value \n",
    "print(numbers.discard(2))\n",
    "\n",
    "print('numbers =', numbers)"
   ]
  },
  {
   "cell_type": "code",
   "execution_count": null,
   "id": "658ba417-f033-46a8-aedd-60118cf18d08",
   "metadata": {},
   "outputs": [],
   "source": []
  },
  {
   "cell_type": "code",
   "execution_count": null,
   "id": "0cf42fd5-d5fe-4e8a-bb42-56117c66f325",
   "metadata": {},
   "outputs": [],
   "source": [
    "# intersection "
   ]
  },
  {
   "cell_type": "code",
   "execution_count": 80,
   "id": "cc5204eb-35c0-440e-9984-1ad8439fc1b6",
   "metadata": {},
   "outputs": [
    {
     "name": "stdout",
     "output_type": "stream",
     "text": [
      "{2, 5}\n",
      "{2}\n",
      "{2, 3}\n"
     ]
    }
   ],
   "source": [
    "A = {2, 3, 5, 4}\n",
    "B = {2, 5, 100}\n",
    "C = {2, 3, 8, 9, 10}\n",
    "\n",
    "print(B.intersection(A))\n",
    "print(B.intersection(C))\n",
    "print(A.intersection(C))"
   ]
  },
  {
   "cell_type": "code",
   "execution_count": null,
   "id": "b829eddf-5bd7-4c2f-b4b1-989d27d127aa",
   "metadata": {},
   "outputs": [],
   "source": []
  },
  {
   "cell_type": "code",
   "execution_count": 81,
   "id": "edf00d15-09d4-4e41-b7a8-03066501df38",
   "metadata": {},
   "outputs": [
    {
     "name": "stdout",
     "output_type": "stream",
     "text": [
      "{100}\n",
      "{200}\n",
      "{300}\n",
      "set()\n"
     ]
    }
   ],
   "source": [
    "# Example 2:\n",
    "\n",
    "A = {100, 7, 8}\n",
    "B = {200, 4, 5}\n",
    "C = {300, 2, 3}\n",
    "D = {100, 200, 300}\n",
    "\n",
    "print(A.intersection(D))\n",
    "print(B.intersection(D))\n",
    "print(C.intersection(D))\n",
    "print(A.intersection(B, C, D))\n"
   ]
  },
  {
   "cell_type": "code",
   "execution_count": null,
   "id": "7155b374-3843-4365-92f0-8ee756ce1c66",
   "metadata": {},
   "outputs": [],
   "source": [
    "# & is noting but both values should be present in set1 and set 2"
   ]
  },
  {
   "cell_type": "code",
   "execution_count": 82,
   "id": "f77d2dcc-d109-43ce-90c3-54f6f08eedfc",
   "metadata": {},
   "outputs": [
    {
     "name": "stdout",
     "output_type": "stream",
     "text": [
      "{7}\n",
      "{100}\n",
      "set()\n",
      "set()\n"
     ]
    }
   ],
   "source": [
    "A = {100, 7, 8}\n",
    "B = {200, 4, 5}\n",
    "C = {300, 2, 3, 7}\n",
    "D = {100, 200, 300}\n",
    "\n",
    "print(A & C)\n",
    "print(A & D)\n",
    "\n",
    "\n",
    "print(A & C & D)\n",
    "print(A & B & C & D)"
   ]
  },
  {
   "cell_type": "code",
   "execution_count": null,
   "id": "05a3f3cc-10d7-4607-860d-be816fb98f17",
   "metadata": {},
   "outputs": [],
   "source": []
  },
  {
   "cell_type": "code",
   "execution_count": 83,
   "id": "754150aa-c9d6-4d0c-8c13-f6bcae560911",
   "metadata": {},
   "outputs": [],
   "source": [
    "# Python Set isdisjoint()\n",
    "# The isdisjoint() method returns True if two sets are disjoint sets. If not, it returns False.\n",
    "\n",
    "# Two sets are said to be disjoint sets if they have no common elements. For example:\n",
    "\n",
    "# A = {1, 5, 9, 0}\n",
    "# B = {2, 4, -5}"
   ]
  },
  {
   "cell_type": "code",
   "execution_count": null,
   "id": "827e20df-05b3-4a1d-9e43-04eb03f89da3",
   "metadata": {},
   "outputs": [],
   "source": []
  },
  {
   "cell_type": "code",
   "execution_count": 84,
   "id": "9fa91629-7125-405d-ba63-79b40300c6f3",
   "metadata": {},
   "outputs": [],
   "source": [
    "# Return Value from issubset()\n",
    "# The issubset() returns\n",
    "\n",
    "# True if A is a subset of B\n",
    "# False if A is not a subset of B"
   ]
  },
  {
   "cell_type": "code",
   "execution_count": 85,
   "id": "3a8512b0-3510-4a3c-bf21-80bde5eb9964",
   "metadata": {},
   "outputs": [
    {
     "name": "stdout",
     "output_type": "stream",
     "text": [
      "True\n",
      "False\n",
      "False\n",
      "True\n"
     ]
    }
   ],
   "source": [
    "A = {1, 2, 3}\n",
    "B = {1, 2, 3, 4, 5}\n",
    "C = {1, 2, 4, 5}\n",
    "\n",
    "print(A.issubset(B))\n",
    "\n",
    "# Returns False\n",
    "# B is not subset of A\n",
    "print(B.issubset(A))\n",
    "\n",
    "# Returns False\n",
    "print(A.issubset(C))\n",
    "\n",
    "# Returns True\n",
    "print(C.issubset(B))\n"
   ]
  },
  {
   "cell_type": "code",
   "execution_count": null,
   "id": "113dba26-0b8c-440d-b435-8e1579920ad7",
   "metadata": {},
   "outputs": [],
   "source": []
  },
  {
   "cell_type": "code",
   "execution_count": 86,
   "id": "1e83ce71-fed2-491d-ab47-44dd3a6d8677",
   "metadata": {},
   "outputs": [],
   "source": [
    "# Python Set issuperset()\n",
    "# The issuperset() method returns True if a set has every elements of another set (passed as an argument). If not, it returns False.\n",
    "\n",
    "# Set A is said to be the subset of set B if all elements of A are in B."
   ]
  },
  {
   "cell_type": "code",
   "execution_count": 90,
   "id": "0623a7d1-ddb1-4019-8880-5a8decb1e8fe",
   "metadata": {},
   "outputs": [
    {
     "name": "stdout",
     "output_type": "stream",
     "text": [
      "True\n",
      "False\n",
      "True\n",
      "True\n"
     ]
    }
   ],
   "source": [
    "A = {1, 2, 3, 4, 5}\n",
    "B = {1, 2, 3}\n",
    "C = {1, 2, 3}\n",
    "\n",
    "# Returns True\n",
    "print(A.issuperset(B))\n",
    "print(C.issuperset(A))\n",
    "print(A.issuperset(C))\n",
    "print(A.issuperset(A))"
   ]
  },
  {
   "cell_type": "code",
   "execution_count": null,
   "id": "d59ee3b2-a660-416d-94b6-7c287f49bf32",
   "metadata": {},
   "outputs": [],
   "source": []
  },
  {
   "cell_type": "code",
   "execution_count": null,
   "id": "f6e7d31f-a515-4a15-8987-ecff88d39852",
   "metadata": {},
   "outputs": [],
   "source": []
  },
  {
   "cell_type": "code",
   "execution_count": 91,
   "id": "fe9ae041-7aca-4c35-b790-2baa7000a8d6",
   "metadata": {},
   "outputs": [],
   "source": [
    "# Return Value from pop()\n",
    "# The pop() method returns an arbitrary (random) element from the set. Also, the set is updated and will not contain the element (which is returned).\n",
    "\n",
    "# If the set is empty, TypeError exception is raised."
   ]
  },
  {
   "cell_type": "code",
   "execution_count": 92,
   "id": "ac45d2c4-b350-4d36-b217-7e46c06fbe7d",
   "metadata": {},
   "outputs": [
    {
     "name": "stdout",
     "output_type": "stream",
     "text": [
      "Return Value is a\n",
      "A =  {'b', 'd', 'c'}\n"
     ]
    }
   ],
   "source": [
    "A ={'a', 'b', 'c', 'd'}\n",
    "\n",
    "print('Return Value is', A.pop())\n",
    "print('A = ', A)\n"
   ]
  },
  {
   "cell_type": "code",
   "execution_count": 93,
   "id": "11b955ea-7dfe-432c-a7aa-62f5e72a8bce",
   "metadata": {},
   "outputs": [
    {
     "name": "stdout",
     "output_type": "stream",
     "text": [
      "Help on built-in function pop:\n",
      "\n",
      "pop(...) method of builtins.set instance\n",
      "    Remove and return an arbitrary set element.\n",
      "    Raises KeyError if the set is empty.\n",
      "\n"
     ]
    }
   ],
   "source": [
    "help(A.pop)"
   ]
  },
  {
   "cell_type": "code",
   "execution_count": 95,
   "id": "30b8172e-aec8-4858-bade-47ecc223b148",
   "metadata": {},
   "outputs": [
    {
     "name": "stdout",
     "output_type": "stream",
     "text": [
      "Return Value is a\n",
      "A =  {'b', 'd', 'c'}\n"
     ]
    }
   ],
   "source": [
    "A ={'a', 'b', 'c', 'd'}\n",
    "\n",
    "print('Return Value is', A.pop())\n",
    "print('A = ', A)\n"
   ]
  },
  {
   "cell_type": "code",
   "execution_count": 97,
   "id": "acf68b64-c762-4eea-9b8e-ee81a1365fcc",
   "metadata": {},
   "outputs": [
    {
     "name": "stdout",
     "output_type": "stream",
     "text": [
      "Return Value is a\n",
      "A =  {'b', 'd', 'c'}\n"
     ]
    }
   ],
   "source": [
    "A ={'a', 'b', 'c', 'd'}\n",
    "\n",
    "print('Return Value is', A.pop())\n",
    "print('A = ', A)"
   ]
  },
  {
   "cell_type": "code",
   "execution_count": null,
   "id": "578802f9-2e63-49f7-8e32-eedb74c2a701",
   "metadata": {},
   "outputs": [],
   "source": []
  },
  {
   "cell_type": "code",
   "execution_count": 98,
   "id": "1e26ffa6-e4a2-4930-90e4-e16182870ef1",
   "metadata": {},
   "outputs": [],
   "source": [
    "# Python Set symmetric_difference()\n",
    "# The symmetric_difference() method returns the symmetric difference of two sets.\n",
    "\n",
    "# The symmetric difference of two sets A and B is the set of elements that are in either A or B, but not in their intersection."
   ]
  },
  {
   "cell_type": "code",
   "execution_count": 99,
   "id": "20ef8705-cc00-4361-b2a3-8e744e38a6d9",
   "metadata": {},
   "outputs": [
    {
     "name": "stdout",
     "output_type": "stream",
     "text": [
      "{'e', 'b', 'a'}\n",
      "{'e', 'a', 'b'}\n",
      "{'a', 'b', 'd', 'c'}\n",
      "{'d', 'c', 'e'}\n"
     ]
    }
   ],
   "source": [
    "# Example 1: Working of symmetric_difference()\n",
    "\n",
    "A = {'a', 'b', 'c', 'd'}\n",
    "B = {'c', 'd', 'e' }\n",
    "C = {}\n",
    "\n",
    "print(A.symmetric_difference(B))\n",
    "print(B.symmetric_difference(A))\n",
    "\n",
    "print(A.symmetric_difference(C))\n",
    "print(B.symmetric_difference(C))\n"
   ]
  },
  {
   "cell_type": "code",
   "execution_count": null,
   "id": "5e1c035e-c38e-4754-aa88-913bd7b724e0",
   "metadata": {},
   "outputs": [],
   "source": []
  },
  {
   "cell_type": "code",
   "execution_count": null,
   "id": "9f94ecb9-e839-42df-a3cb-5740760038e1",
   "metadata": {},
   "outputs": [],
   "source": []
  }
 ],
 "metadata": {
  "kernelspec": {
   "display_name": "Python 3 (ipykernel)",
   "language": "python",
   "name": "python3"
  },
  "language_info": {
   "codemirror_mode": {
    "name": "ipython",
    "version": 3
   },
   "file_extension": ".py",
   "mimetype": "text/x-python",
   "name": "python",
   "nbconvert_exporter": "python",
   "pygments_lexer": "ipython3",
   "version": "3.10.2"
  }
 },
 "nbformat": 4,
 "nbformat_minor": 5
}
