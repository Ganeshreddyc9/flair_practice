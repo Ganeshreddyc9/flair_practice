{
 "cells": [
  {
   "cell_type": "code",
   "execution_count": 8,
   "id": "33074397-417a-44d3-b86d-1856a797859f",
   "metadata": {},
   "outputs": [
    {
     "name": "stdout",
     "output_type": "stream",
     "text": [
      "a,b,c,13,14,15,\n",
      "\n",
      "\n",
      "a,b,c,13,14,15,"
     ]
    }
   ],
   "source": [
    "data = [\"a\",\"b\",\"c\",3,4,5]\n",
    "# If it is an integer then add 10 to integer and print\n",
    "# O/p -- a,b,c,13,14,15\n",
    "\n",
    "\n",
    "for i in data:\n",
    "    if isinstance(i,int):\n",
    "        print(i+10,end=\",\")\n",
    "    else:\n",
    "        print(i,end=\",\")\n",
    "\n",
    "#sec\n",
    "print('\\n\\n')\n",
    "\n",
    "for i in data:\n",
    "     # if isinstance(i,int):\n",
    "    print(i+10 if isinstance(i,int) else i, end = \",\")    "
   ]
  },
  {
   "cell_type": "code",
   "execution_count": 19,
   "id": "3b94f521-38ef-4786-814b-65303942589d",
   "metadata": {},
   "outputs": [
    {
     "name": "stdout",
     "output_type": "stream",
     "text": [
      "['a', 'b', 'c', 13, 14, 15]\n",
      "['a', 'b', 'c', 13, 14, 15]\n"
     ]
    }
   ],
   "source": [
    "data = [\"a\",\"b\",\"c\",3,4,5]\n",
    "# If it is integer add 10 and print all those values in list\n",
    "# o/p -- [\"a\",\"b\",\"c\",13,14,15].\n",
    "\n",
    "result = []\n",
    "\n",
    "for i in data:\n",
    "    if isinstance(i,int):\n",
    "        result.append(i+10)\n",
    "    else:\n",
    "        result.append(i)\n",
    "print(result)\n",
    "\n",
    "# second method\n",
    "\n",
    "[i+10 if isinstance(i,int) else i for i in data]\n",
    "\n",
    "# 3\n",
    "result3 = []\n",
    "for i in data:\n",
    "    # if isinstance(i,int):\n",
    "        result3.append(i+10 if isinstance(i,int) else i)\n",
    "       \n",
    "print(result3)"
   ]
  },
  {
   "cell_type": "code",
   "execution_count": null,
   "id": "2595a5a2-857a-4b80-a1a8-c625b7952c18",
   "metadata": {},
   "outputs": [],
   "source": []
  },
  {
   "cell_type": "code",
   "execution_count": 20,
   "id": "b43467e8-78b6-495f-b286-dd84c1c46a3e",
   "metadata": {},
   "outputs": [],
   "source": [
    "s = \"i am in bangalore\"\n",
    "# Count how many times letters are repeated in above string\n",
    "# O/P -- i = 2,a = 2,m=1,n=2,b=1,g=1,l=1,o=1,r=1,e=1\n",
    "\n",
    "result = {}\n",
    "for i in s:\n",
    "    result[i] = result.get(i,0)+1"
   ]
  },
  {
   "cell_type": "code",
   "execution_count": 22,
   "id": "db994402-11e9-40ac-a0a2-7658ec381367",
   "metadata": {},
   "outputs": [
    {
     "name": "stdout",
     "output_type": "stream",
     "text": [
      "{'i': 2, ' ': 3, 'a': 3, 'm': 1, 'n': 2, 'b': 1, 'g': 1, 'l': 1, 'o': 1, 'r': 1, 'e': 1}\n"
     ]
    }
   ],
   "source": [
    "print(result)"
   ]
  },
  {
   "cell_type": "code",
   "execution_count": 23,
   "id": "b5a8cb46-baf0-4c55-adb5-f9f632f5f5b3",
   "metadata": {},
   "outputs": [],
   "source": [
    "result = {}\n",
    "for i in s:\n",
    "    result[i] = result.setdefault(i,0)+1"
   ]
  },
  {
   "cell_type": "code",
   "execution_count": 24,
   "id": "00bf2bfc-5eb2-4d08-9a3c-07bf395b6909",
   "metadata": {},
   "outputs": [
    {
     "data": {
      "text/plain": [
       "{'i': 2,\n",
       " ' ': 3,\n",
       " 'a': 3,\n",
       " 'm': 1,\n",
       " 'n': 2,\n",
       " 'b': 1,\n",
       " 'g': 1,\n",
       " 'l': 1,\n",
       " 'o': 1,\n",
       " 'r': 1,\n",
       " 'e': 1}"
      ]
     },
     "execution_count": 24,
     "metadata": {},
     "output_type": "execute_result"
    }
   ],
   "source": [
    "print(result)"
   ]
  },
  {
   "cell_type": "code",
   "execution_count": 32,
   "id": "556b3e1b-f32e-441c-809f-9f28d13275aa",
   "metadata": {},
   "outputs": [
    {
     "name": "stdout",
     "output_type": "stream",
     "text": [
      "{'i': 2, ' ': 3, 'a': 3, 'm': 1, 'n': 2, 'b': 1, 'g': 1, 'l': 1, 'o': 1, 'r': 1, 'e': 1}\n"
     ]
    }
   ],
   "source": [
    "s = \"i am in bangalore\"\n",
    "r ={}\n",
    "for i in s:\n",
    "\n",
    "    r[i]=r.get(i,0)+1\n",
    "print(r)"
   ]
  },
  {
   "cell_type": "code",
   "execution_count": 33,
   "id": "944a19e0-7aeb-4b57-bf50-d223b85091e0",
   "metadata": {},
   "outputs": [
    {
     "data": {
      "text/plain": [
       "['__class__',\n",
       " '__class_getitem__',\n",
       " '__contains__',\n",
       " '__delattr__',\n",
       " '__delitem__',\n",
       " '__dir__',\n",
       " '__doc__',\n",
       " '__eq__',\n",
       " '__format__',\n",
       " '__ge__',\n",
       " '__getattribute__',\n",
       " '__getitem__',\n",
       " '__gt__',\n",
       " '__hash__',\n",
       " '__init__',\n",
       " '__init_subclass__',\n",
       " '__ior__',\n",
       " '__iter__',\n",
       " '__le__',\n",
       " '__len__',\n",
       " '__lt__',\n",
       " '__ne__',\n",
       " '__new__',\n",
       " '__or__',\n",
       " '__reduce__',\n",
       " '__reduce_ex__',\n",
       " '__repr__',\n",
       " '__reversed__',\n",
       " '__ror__',\n",
       " '__setattr__',\n",
       " '__setitem__',\n",
       " '__sizeof__',\n",
       " '__str__',\n",
       " '__subclasshook__',\n",
       " 'clear',\n",
       " 'copy',\n",
       " 'fromkeys',\n",
       " 'get',\n",
       " 'items',\n",
       " 'keys',\n",
       " 'pop',\n",
       " 'popitem',\n",
       " 'setdefault',\n",
       " 'update',\n",
       " 'values']"
      ]
     },
     "execution_count": 33,
     "metadata": {},
     "output_type": "execute_result"
    }
   ],
   "source": [
    "dir(r)"
   ]
  },
  {
   "cell_type": "code",
   "execution_count": 34,
   "id": "fad8dea2-f423-4593-914c-92158df02cb2",
   "metadata": {},
   "outputs": [
    {
     "name": "stdout",
     "output_type": "stream",
     "text": [
      "Help on built-in function get:\n",
      "\n",
      "get(key, default=None, /) method of builtins.dict instance\n",
      "    Return the value for key if key is in the dictionary, else default.\n",
      "\n"
     ]
    }
   ],
   "source": [
    "help(r.get)"
   ]
  },
  {
   "cell_type": "code",
   "execution_count": 35,
   "id": "f0b1c402-7c63-436c-b85d-01104ddb54ff",
   "metadata": {},
   "outputs": [
    {
     "name": "stdout",
     "output_type": "stream",
     "text": [
      "Help on built-in function setdefault:\n",
      "\n",
      "setdefault(key, default=None, /) method of builtins.dict instance\n",
      "    Insert key with a value of default if key is not in the dictionary.\n",
      "    \n",
      "    Return the value for key if key is in the dictionary, else default.\n",
      "\n"
     ]
    }
   ],
   "source": [
    "help(r.setdefault)"
   ]
  },
  {
   "cell_type": "code",
   "execution_count": 47,
   "id": "381903be-b0f6-4153-9535-f60a7b333750",
   "metadata": {},
   "outputs": [
    {
     "name": "stdout",
     "output_type": "stream",
     "text": [
      "2\n",
      "0\n",
      "1\n",
      "0\n"
     ]
    }
   ],
   "source": [
    "r = {'i': 2, ' ': 3, 'a': 3, 'm': 1, 'n': 2, 'b': 1, 'g': 1, 'l': 1, 'o': 1, 'r': 1, 'e': 1}\n",
    "\n",
    "print(r.get('i',0))\n",
    "print(r.get('z',0))\n",
    "\n",
    "print(r.setdefault('x',1))\n",
    "print(r.setdefault('2',0))"
   ]
  },
  {
   "cell_type": "code",
   "execution_count": 50,
   "id": "eb82a83b-90bd-4a85-a154-757f98db3aec",
   "metadata": {},
   "outputs": [
    {
     "name": "stdout",
     "output_type": "stream",
     "text": [
      "{'i': 2, 'a': 3, 'o': 1, 'e': 1}\n"
     ]
    }
   ],
   "source": [
    "s = \"i am in bangalore\"\n",
    "# Count only vowels (a,e,i,o,u)how many times repeated.\n",
    "res = {}\n",
    "for i in s:\n",
    "    if i in \"a,e,i,o,u\":\n",
    "        res[i] = res.get(i,0) +1\n",
    "print(res)       "
   ]
  },
  {
   "cell_type": "code",
   "execution_count": 54,
   "id": "b6af5757-3408-4144-885a-c949608a1c28",
   "metadata": {},
   "outputs": [],
   "source": [
    "res = dict.fromkeys(\"a,e,i,o,u\",0)\n",
    "for i in s:\n",
    "    if i in d1:\n",
    "        res[i] = res.get(i,0)+1    \n"
   ]
  },
  {
   "cell_type": "code",
   "execution_count": 55,
   "id": "86cbfd99-fc96-46d7-babb-cac222558030",
   "metadata": {},
   "outputs": [
    {
     "data": {
      "text/plain": [
       "{'a': 3, ',': 0, 'e': 1, 'i': 2, 'o': 1, 'u': 0}"
      ]
     },
     "execution_count": 55,
     "metadata": {},
     "output_type": "execute_result"
    }
   ],
   "source": [
    "res"
   ]
  },
  {
   "cell_type": "code",
   "execution_count": 56,
   "id": "bd81f275-3e6c-450b-b0f9-701a580563bb",
   "metadata": {},
   "outputs": [],
   "source": [
    "res = dict.fromkeys(\"aeiou\",0)\n",
    "\n",
    "for i in s:\n",
    "    if i in res:\n",
    "        res[i] +=1"
   ]
  },
  {
   "cell_type": "code",
   "execution_count": 57,
   "id": "a69d6514-04e5-49fc-8b91-d64a5f1da3f2",
   "metadata": {},
   "outputs": [
    {
     "data": {
      "text/plain": [
       "{'a': 0, 'e': 0, 'i': 0, 'o': 0, 'u': 0}"
      ]
     },
     "execution_count": 57,
     "metadata": {},
     "output_type": "execute_result"
    }
   ],
   "source": [
    "res"
   ]
  },
  {
   "cell_type": "code",
   "execution_count": null,
   "id": "6768d06b-6dd5-4523-9f2f-8c6d0b24ab26",
   "metadata": {},
   "outputs": [],
   "source": []
  },
  {
   "cell_type": "code",
   "execution_count": 68,
   "id": "dc0dee57-a4e3-406a-afa6-ca341409a34e",
   "metadata": {},
   "outputs": [
    {
     "name": "stdout",
     "output_type": "stream",
     "text": [
      "{'b': 1, 'a': 2, 'n': 1, 'g': 1, 'l': 1, 'o': 1, 'r': 1, 'e': 1}\n",
      "{'h': 1, 'y': 1, 'd': 2, 'e': 1, 'r': 1, 'a': 2, 'b': 1}\n",
      "{'c': 1, 'h': 1, 'e': 1, 'n': 2, 'a': 1, 'i': 1}\n",
      "{'p': 1, 'u': 1, 'n': 1, 'e': 1}\n",
      "{'bangalore': {'b': 1, 'a': 2, 'n': 1, 'g': 1, 'l': 1, 'o': 1, 'r': 1, 'e': 1}, 'hyderabad': {'h': 1, 'y': 1, 'd': 2, 'e': 1, 'r': 1, 'a': 2, 'b': 1}, 'chennai': {'c': 1, 'h': 1, 'e': 1, 'n': 2, 'a': 1, 'i': 1}, 'pune': {'p': 1, 'u': 1, 'n': 1, 'e': 1}}\n"
     ]
    }
   ],
   "source": [
    "s = \"bangalore hyderabad chennai pune\"\n",
    "# Count how many times letters are repeated in each word .\n",
    "\n",
    "letters = {}\n",
    "\n",
    "for i in s.split():\n",
    "    # print(i)\n",
    "    word_result = {}\n",
    "    for char in i:\n",
    "        # print(char)\n",
    "        word_result[char] = word_result.get(char,0)+1\n",
    "    letters[i] = word_result\n",
    "    print(word_result)\n",
    "print(letters)"
   ]
  },
  {
   "cell_type": "code",
   "execution_count": null,
   "id": "04d8019e-7a47-4a3a-8768-6be6dc976a22",
   "metadata": {},
   "outputs": [],
   "source": []
  },
  {
   "cell_type": "code",
   "execution_count": 74,
   "id": "5650e792-b67b-4484-a02b-e153d5fd6676",
   "metadata": {},
   "outputs": [
    {
     "name": "stdout",
     "output_type": "stream",
     "text": [
      "bangalore\n",
      "{'b': 1, 'a': 2, 'n': 1, 'g': 1, 'l': 1, 'o': 1, 'r': 1, 'e': 1}\n",
      "hyderabad\n",
      "{'h': 1, 'y': 1, 'd': 2, 'e': 1, 'r': 1, 'a': 2, 'b': 1}\n",
      "chennai\n",
      "{'c': 1, 'h': 1, 'e': 1, 'n': 2, 'a': 1, 'i': 1}\n",
      "pune\n",
      "{'p': 1, 'u': 1, 'n': 1, 'e': 1}\n",
      "{'bangalore': {'b': 1, 'a': 2, 'n': 1, 'g': 1, 'l': 1, 'o': 1, 'r': 1, 'e': 1}, 'hyderabad': {'h': 1, 'y': 1, 'd': 2, 'e': 1, 'r': 1, 'a': 2, 'b': 1}, 'chennai': {'c': 1, 'h': 1, 'e': 1, 'n': 2, 'a': 1, 'i': 1}, 'pune': {'p': 1, 'u': 1, 'n': 1, 'e': 1}}\n"
     ]
    }
   ],
   "source": [
    "s = \"bangalore hyderabad chennai pune\"\n",
    "# Count how many times letters are repeated in each word .\n",
    "\n",
    "sen_count = {}\n",
    "\n",
    "for word in s.split():\n",
    "    print(word)\n",
    "    word_count = {}\n",
    "    for char in word:\n",
    "        word_count[char] = word_count.get(char,0)+1\n",
    "    print(word_count)\n",
    "    sen_count[word] = word_count\n",
    "print(sen_count)"
   ]
  },
  {
   "cell_type": "code",
   "execution_count": 80,
   "id": "73f01044-4b59-433a-8010-a80f73e22262",
   "metadata": {},
   "outputs": [
    {
     "name": "stdout",
     "output_type": "stream",
     "text": [
      "{'bangalore': {'i': 1, ' ': 1, 'a': 1, 'm': 1, 'n': 1, 'b': 1, 'g': 1, 'l': 1, 'o': 1, 'r': 1, 'e': 1}, 'hyderabad': {'i': 1, ' ': 1, 'a': 1, 'm': 1, 'n': 1, 'b': 1, 'g': 1, 'l': 1, 'o': 1, 'r': 1, 'e': 1}, 'chennai': {'i': 1, ' ': 1, 'a': 1, 'm': 1, 'n': 1, 'b': 1, 'g': 1, 'l': 1, 'o': 1, 'r': 1, 'e': 1}, 'pune': {'i': 1, ' ': 1, 'a': 1, 'm': 1, 'n': 1, 'b': 1, 'g': 1, 'l': 1, 'o': 1, 'r': 1, 'e': 1}}\n"
     ]
    }
   ],
   "source": [
    "# using func\n",
    "\n",
    "\n",
    "def wcount(s):\n",
    "\n",
    "    result = {}\n",
    "    for i in s:\n",
    "        result[i] = result.get(i,0)+1\n",
    "\n",
    "    return result\n",
    "\n",
    "s = \"bangalore hyderabad chennai pune\"\n",
    "word_count = {}\n",
    "\n",
    "for word in s.split():\n",
    "    word_count[word] = wcount(result)\n",
    "# wcount(s)\n",
    "print(word_count)"
   ]
  },
  {
   "cell_type": "code",
   "execution_count": null,
   "id": "8d53586f-0452-4691-b923-b5e4361c8eab",
   "metadata": {},
   "outputs": [],
   "source": []
  },
  {
   "cell_type": "code",
   "execution_count": 90,
   "id": "7143c17a-29e7-44b1-8f1d-1b7b0eefaff9",
   "metadata": {},
   "outputs": [
    {
     "name": "stdout",
     "output_type": "stream",
     "text": [
      "{'bangalore': {'i': 1, ' ': 1, 'a': 1, 'm': 1, 'n': 1, 'b': 1, 'g': 1, 'l': 1, 'o': 1, 'r': 1, 'e': 1}, 'hyderabad': {'i': 1, ' ': 1, 'a': 1, 'm': 1, 'n': 1, 'b': 1, 'g': 1, 'l': 1, 'o': 1, 'r': 1, 'e': 1}, 'chennai': {'i': 1, ' ': 1, 'a': 1, 'm': 1, 'n': 1, 'b': 1, 'g': 1, 'l': 1, 'o': 1, 'r': 1, 'e': 1}, 'pune': {'i': 1, ' ': 1, 'a': 1, 'm': 1, 'n': 1, 'b': 1, 'g': 1, 'l': 1, 'o': 1, 'r': 1, 'e': 1}}\n"
     ]
    }
   ],
   "source": [
    "def wcount(s):\n",
    "\n",
    "    result = {}\n",
    "    for i in s:\n",
    "        result[i] = result.get(i,0)+1\n",
    "    return result\n",
    "\n",
    "\n",
    "s =  \"bangalore hyderabad chennai pune\"\n",
    "# print(wcount(s))\n",
    "\n",
    "sen_count = {}\n",
    "\n",
    "for char in s.split():\n",
    "    sen_count[char] = wcount(result)\n",
    "print(sen_count)"
   ]
  },
  {
   "cell_type": "code",
   "execution_count": null,
   "id": "12e29201-b68f-4204-8a9f-bd4886dff578",
   "metadata": {},
   "outputs": [],
   "source": []
  },
  {
   "cell_type": "code",
   "execution_count": 103,
   "id": "ddc155b8-897a-4312-890a-1e0e471dbcbf",
   "metadata": {},
   "outputs": [
    {
     "name": "stdout",
     "output_type": "stream",
     "text": [
      "{'a': ['ashok', 'anil', 'anvesh'], 'h': ['hari'], 'b': ['bhanu', 'bharath'], 'u': ['uday'], 'r': ['raja']}\n"
     ]
    }
   ],
   "source": [
    "data = ['ashok', 'hari', 'bhanu', 'anil', 'bharath', 'anvesh', 'uday', 'raja']\n",
    "# result = {'a': ['ashok', 'anil', 'anvesh'],\n",
    "# 'b': ['bhanu', 'bharath'],\n",
    "# 'h': ['hari'],\n",
    "# 'u': ['uday'],\n",
    "# 'r': ['raja']\n",
    "# }\n",
    "\n",
    "res = {}\n",
    "\n",
    "for name in data:\n",
    "    if name[0] in res:\n",
    "        res[name[0]].append(name)\n",
    "    else:\n",
    "        res[name[0]] = [name]\n",
    "print(res)"
   ]
  },
  {
   "cell_type": "code",
   "execution_count": null,
   "id": "3534c250-02b0-4051-b4d9-a4c755d2ee38",
   "metadata": {},
   "outputs": [],
   "source": []
  },
  {
   "cell_type": "code",
   "execution_count": null,
   "id": "927df8d7-353f-48cd-befc-51b746cf1f3c",
   "metadata": {},
   "outputs": [],
   "source": []
  },
  {
   "cell_type": "code",
   "execution_count": null,
   "id": "b6aa39e2-3048-4b36-988a-ff5dcd542526",
   "metadata": {},
   "outputs": [],
   "source": []
  },
  {
   "cell_type": "code",
   "execution_count": null,
   "id": "17db71e0-151d-4ab5-ac25-91ea1ed8ae8a",
   "metadata": {},
   "outputs": [],
   "source": []
  },
  {
   "cell_type": "code",
   "execution_count": 104,
   "id": "ea349f95-ad4f-449f-8edd-18d71089266c",
   "metadata": {},
   "outputs": [],
   "source": [
    "s = \"bangalore hyderabad chennai pune\"\n",
    "# Count how many times letters are repeated in each word ."
   ]
  },
  {
   "cell_type": "code",
   "execution_count": 109,
   "id": "59d8d655-d96a-440d-96d6-0a09820309bd",
   "metadata": {},
   "outputs": [
    {
     "name": "stdout",
     "output_type": "stream",
     "text": [
      "{'bangalore': {'b': 1, 'a': 1, 'n': 1, 'g': 1, 'l': 1, 'o': 1, 'r': 1, 'e': 1}, 'hyderabad': {'h': 1, 'y': 1, 'd': 1, 'e': 1, 'r': 1, 'a': 1, 'b': 1}, 'chennai': {'c': 1, 'h': 1, 'e': 1, 'n': 1, 'a': 1, 'i': 1}, 'pune': {'p': 1, 'u': 1, 'n': 1, 'e': 1}}\n"
     ]
    }
   ],
   "source": [
    "sen_count = {}\n",
    "\n",
    "for char in s.split():\n",
    "    word_count = {}\n",
    "    for word in char:\n",
    "        word_count[word] = word_count.get(i,0)+1\n",
    "    # print(word_count)\n",
    "    sen_count[char]= word_count\n",
    "print(sen_count)"
   ]
  },
  {
   "cell_type": "code",
   "execution_count": 119,
   "id": "4ebcf8de-3544-470e-b3a6-5b67738528a2",
   "metadata": {},
   "outputs": [],
   "source": [
    "\n",
    "def wcount(s):\n",
    "\n",
    "    result = {}\n",
    "\n",
    "    for i in s:\n",
    "        result[i] = result.get(i,0)+1\n",
    "    return result \n",
    "\n",
    "s = \"bangalore hyderabad chennai pune\"\n",
    "\n",
    "sen_count = {}\n",
    "sen_count1 = {}\n",
    "\n",
    "for char in s.split():\n",
    "    sen_count[char] = wcount(result)\n",
    "    sen_count1[char] = wcount(result)\n"
   ]
  },
  {
   "cell_type": "code",
   "execution_count": 120,
   "id": "da9424b6-7bb2-48da-bcdd-1c1177ab7a48",
   "metadata": {},
   "outputs": [
    {
     "name": "stdout",
     "output_type": "stream",
     "text": [
      "{'bangalore': {'i': 1, ' ': 1, 'a': 1, 'm': 1, 'n': 1, 'b': 1, 'g': 1, 'l': 1, 'o': 1, 'r': 1, 'e': 1}, 'hyderabad': {'i': 1, ' ': 1, 'a': 1, 'm': 1, 'n': 1, 'b': 1, 'g': 1, 'l': 1, 'o': 1, 'r': 1, 'e': 1}, 'chennai': {'i': 1, ' ': 1, 'a': 1, 'm': 1, 'n': 1, 'b': 1, 'g': 1, 'l': 1, 'o': 1, 'r': 1, 'e': 1}, 'pune': {'i': 1, ' ': 1, 'a': 1, 'm': 1, 'n': 1, 'b': 1, 'g': 1, 'l': 1, 'o': 1, 'r': 1, 'e': 1}}\n"
     ]
    }
   ],
   "source": [
    "print(sen_count)"
   ]
  },
  {
   "cell_type": "code",
   "execution_count": 121,
   "id": "4bd64693-1ec5-43fc-b6aa-c2a5760125a3",
   "metadata": {},
   "outputs": [
    {
     "name": "stdout",
     "output_type": "stream",
     "text": [
      "{'bangalore': {'i': 1, ' ': 1, 'a': 1, 'm': 1, 'n': 1, 'b': 1, 'g': 1, 'l': 1, 'o': 1, 'r': 1, 'e': 1}, 'hyderabad': {'i': 1, ' ': 1, 'a': 1, 'm': 1, 'n': 1, 'b': 1, 'g': 1, 'l': 1, 'o': 1, 'r': 1, 'e': 1}, 'chennai': {'i': 1, ' ': 1, 'a': 1, 'm': 1, 'n': 1, 'b': 1, 'g': 1, 'l': 1, 'o': 1, 'r': 1, 'e': 1}, 'pune': {'i': 1, ' ': 1, 'a': 1, 'm': 1, 'n': 1, 'b': 1, 'g': 1, 'l': 1, 'o': 1, 'r': 1, 'e': 1}}\n"
     ]
    }
   ],
   "source": [
    "print(sen_count1)"
   ]
  },
  {
   "cell_type": "code",
   "execution_count": null,
   "id": "50870bc5-a85b-4f7a-92f1-cf746b9f6b3f",
   "metadata": {},
   "outputs": [],
   "source": []
  },
  {
   "cell_type": "code",
   "execution_count": null,
   "id": "04bf15af-eef1-43fa-b07a-2c6a9a99cacd",
   "metadata": {},
   "outputs": [],
   "source": []
  },
  {
   "cell_type": "code",
   "execution_count": 122,
   "id": "84911f90-4de1-4b01-b8be-1932d6f2a230",
   "metadata": {},
   "outputs": [],
   "source": [
    "data = ['ashok', 'hari', 'bhanu', 'anil', 'bharath', 'anvesh', 'uday', 'raja']\n",
    "# result = {'a': ['ashok', 'anil', 'anvesh'],\n",
    "# 'b': ['bhanu', 'bharath'],\n",
    "# 'h': ['hari'],\n",
    "# 'u': ['uday'],\n",
    "# 'r': ['raja']\n",
    "# }\n",
    "\n",
    "\n",
    "res = {}\n",
    "\n",
    "for i in data:\n",
    "    if i[0] in res:\n",
    "        res[i[0]].append(i)\n",
    "    else:\n",
    "        res[i[0]] = [i]\n"
   ]
  },
  {
   "cell_type": "code",
   "execution_count": 124,
   "id": "99a349a8-03d3-4f2d-a614-28b71a51ecb4",
   "metadata": {},
   "outputs": [
    {
     "name": "stdout",
     "output_type": "stream",
     "text": [
      "{'a': ['ashok', 'anil', 'anvesh'], 'h': ['hari'], 'b': ['bhanu', 'bharath'], 'u': ['uday'], 'r': ['raja']}\n"
     ]
    }
   ],
   "source": [
    "print(res)"
   ]
  },
  {
   "cell_type": "code",
   "execution_count": 125,
   "id": "b205294e-28b9-4fcc-ab3a-9738f48611e5",
   "metadata": {},
   "outputs": [],
   "source": [
    "result = {}\n",
    "\n",
    "for i in data:\n",
    "    result[i[0]] = result.get(i[0],[])+[i]"
   ]
  },
  {
   "cell_type": "code",
   "execution_count": 127,
   "id": "4c917cde-c3d3-4d81-9886-85019ea04cc9",
   "metadata": {},
   "outputs": [
    {
     "name": "stdout",
     "output_type": "stream",
     "text": [
      "{'a': ['ashok', 'anil', 'anvesh'], 'h': ['hari'], 'b': ['bhanu', 'bharath'], 'u': ['uday'], 'r': ['raja']}\n"
     ]
    }
   ],
   "source": [
    "print(result)"
   ]
  },
  {
   "cell_type": "code",
   "execution_count": 128,
   "id": "270a1c94-a15e-4ff7-af19-249577e77379",
   "metadata": {},
   "outputs": [
    {
     "data": {
      "text/plain": [
       "['ganesh', 'reddy']"
      ]
     },
     "execution_count": 128,
     "metadata": {},
     "output_type": "execute_result"
    }
   ],
   "source": [
    "['ganesh'] +['reddy']"
   ]
  },
  {
   "cell_type": "code",
   "execution_count": null,
   "id": "e9d375bf-3e99-462d-b4b2-1a5b458256a2",
   "metadata": {},
   "outputs": [],
   "source": []
  },
  {
   "cell_type": "code",
   "execution_count": 139,
   "id": "3079b7fd-79fa-46c5-9d18-278ea7504f3c",
   "metadata": {},
   "outputs": [
    {
     "name": "stdout",
     "output_type": "stream",
     "text": [
      "{'cricket': ['sachin', 'virat'], 'tennis': ['Federer', 'Nadal'], 'football': ['Messi']}\n"
     ]
    }
   ],
   "source": [
    "data = [\"sachin cricket\", \"Federer tennis\", \"Nadal tennis\",\"virat cricket\", \"Messi football\"]\n",
    "\n",
    "# o/p: {\"cricket\": [\"sachin\", \"virat\"], \"tennis\": [\"federer\", 'nadal']\n",
    "\n",
    "result = {}\n",
    "\n",
    "for info in data:\n",
    "    # print(i)\n",
    "    player , sport = info.split()\n",
    "    result[sport] = result.get(sport,[])+[player]\n",
    "\n",
    "print(result)"
   ]
  },
  {
   "cell_type": "code",
   "execution_count": 140,
   "id": "0a33130a-7efc-4ae2-a162-e7416a117c60",
   "metadata": {},
   "outputs": [],
   "source": [
    "\n",
    "result = {}\n",
    "\n",
    "for info in data:\n",
    "    player,sport = info.split()\n",
    "\n",
    "    result[sport] = result.get(sport,[])+[player]"
   ]
  },
  {
   "cell_type": "code",
   "execution_count": 141,
   "id": "7b1f3691-d879-47a7-b4e7-5f417b50077e",
   "metadata": {},
   "outputs": [
    {
     "data": {
      "text/plain": [
       "{'cricket': ['sachin', 'virat'],\n",
       " 'tennis': ['Federer', 'Nadal'],\n",
       " 'football': ['Messi']}"
      ]
     },
     "execution_count": 141,
     "metadata": {},
     "output_type": "execute_result"
    }
   ],
   "source": [
    "result"
   ]
  },
  {
   "cell_type": "code",
   "execution_count": 144,
   "id": "975e9cda-5576-432d-a592-a77a69579133",
   "metadata": {},
   "outputs": [],
   "source": [
    "result = {}\n",
    "\n",
    "for info in data:\n",
    "    player,sport = info.split()\n",
    "\n",
    "    result[player] = result.get(player,[])+[sport]"
   ]
  },
  {
   "cell_type": "code",
   "execution_count": 145,
   "id": "b2a1d4a9-0632-441d-8f4a-96d88be95307",
   "metadata": {},
   "outputs": [
    {
     "data": {
      "text/plain": [
       "{'sachin': ['cricket'],\n",
       " 'Federer': ['tennis'],\n",
       " 'Nadal': ['tennis'],\n",
       " 'virat': ['cricket'],\n",
       " 'Messi': ['football']}"
      ]
     },
     "execution_count": 145,
     "metadata": {},
     "output_type": "execute_result"
    }
   ],
   "source": [
    "result"
   ]
  },
  {
   "cell_type": "code",
   "execution_count": 156,
   "id": "c7b6acc7-bb85-41cd-9dd9-eec428b1e7d6",
   "metadata": {},
   "outputs": [],
   "source": [
    "\n",
    "s = \"This is hyb9900164930bngl 9900 flair950apr9505909369\"\n",
    "\n",
    "mobiles = []\n",
    "mobile = \"\"\n",
    "\n",
    "for i in s:\n",
    "\n",
    "    if i.isdigit():\n",
    "        mobile += i\n",
    "    else:\n",
    "        if len(mobile) == 10 and mobile[0] in ('6789'):\n",
    "            mobiles.append(mobile)\n",
    "        mobile = \"\"\n",
    "if len(mobile) == 10 and mobile[0] in ('6789'):\n",
    "            mobiles.append(mobile)"
   ]
  },
  {
   "cell_type": "code",
   "execution_count": 157,
   "id": "4dbc5437-2e39-4299-83ee-0d0fade956f5",
   "metadata": {},
   "outputs": [
    {
     "name": "stdout",
     "output_type": "stream",
     "text": [
      "['9900164930', '9505909369']\n"
     ]
    }
   ],
   "source": [
    "print(mobiles)"
   ]
  },
  {
   "cell_type": "code",
   "execution_count": 161,
   "id": "796d91bb-7a26-419f-b0f8-b85992f831a0",
   "metadata": {},
   "outputs": [
    {
     "name": "stdout",
     "output_type": "stream",
     "text": [
      "> \u001b[1;32mc:\\users\\91798\\appdata\\local\\temp\\ipykernel_19660\\1252399233.py\u001b[0m(10)\u001b[0;36m<module>\u001b[1;34m()\u001b[0m\n",
      "\n"
     ]
    },
    {
     "name": "stdin",
     "output_type": "stream",
     "text": [
      "ipdb>  l\n"
     ]
    },
    {
     "name": "stdout",
     "output_type": "stream",
     "text": [
      "\u001b[0;32m      5 \u001b[0m\u001b[0mmobile\u001b[0m \u001b[1;33m=\u001b[0m \u001b[1;34m\"\"\u001b[0m\u001b[1;33m\u001b[0m\u001b[1;33m\u001b[0m\u001b[0m\n",
      "\u001b[0;32m      6 \u001b[0m\u001b[1;33m\u001b[0m\u001b[0m\n",
      "\u001b[0;32m      7 \u001b[0m\u001b[1;32mfor\u001b[0m \u001b[0mi\u001b[0m \u001b[1;32min\u001b[0m \u001b[0ms\u001b[0m\u001b[1;33m:\u001b[0m\u001b[1;33m\u001b[0m\u001b[1;33m\u001b[0m\u001b[0m\n",
      "\u001b[0;32m      8 \u001b[0m\u001b[1;33m\u001b[0m\u001b[0m\n",
      "\u001b[0;32m      9 \u001b[0m    \u001b[0mpdb\u001b[0m\u001b[1;33m.\u001b[0m\u001b[0mset_trace\u001b[0m\u001b[1;33m(\u001b[0m\u001b[1;33m)\u001b[0m\u001b[1;33m\u001b[0m\u001b[1;33m\u001b[0m\u001b[0m\n",
      "\u001b[1;32m---> 10 \u001b[1;33m    \u001b[1;32mif\u001b[0m \u001b[0mi\u001b[0m\u001b[1;33m.\u001b[0m\u001b[0misdigit\u001b[0m\u001b[1;33m(\u001b[0m\u001b[1;33m)\u001b[0m\u001b[1;33m:\u001b[0m\u001b[1;33m\u001b[0m\u001b[1;33m\u001b[0m\u001b[0m\n",
      "\u001b[0m\u001b[0;32m     11 \u001b[0m        \u001b[0mmobile\u001b[0m \u001b[1;33m+=\u001b[0m \u001b[0mi\u001b[0m\u001b[1;33m\u001b[0m\u001b[1;33m\u001b[0m\u001b[0m\n",
      "\u001b[0;32m     12 \u001b[0m    \u001b[1;32melse\u001b[0m\u001b[1;33m:\u001b[0m\u001b[1;33m\u001b[0m\u001b[1;33m\u001b[0m\u001b[0m\n",
      "\u001b[0;32m     13 \u001b[0m        \u001b[1;32mif\u001b[0m \u001b[0mlen\u001b[0m\u001b[1;33m(\u001b[0m\u001b[0mmobile\u001b[0m\u001b[1;33m)\u001b[0m \u001b[1;33m==\u001b[0m \u001b[1;36m10\u001b[0m \u001b[1;32mand\u001b[0m \u001b[0mmobile\u001b[0m\u001b[1;33m[\u001b[0m\u001b[1;36m0\u001b[0m\u001b[1;33m]\u001b[0m\u001b[1;33m.\u001b[0m\u001b[0mstartswith\u001b[0m\u001b[1;33m(\u001b[0m\u001b[1;34m'6789'\u001b[0m\u001b[1;33m)\u001b[0m\u001b[1;33m:\u001b[0m\u001b[1;33m\u001b[0m\u001b[1;33m\u001b[0m\u001b[0m\n",
      "\u001b[0;32m     14 \u001b[0m            \u001b[0mmobiles\u001b[0m\u001b[1;33m.\u001b[0m\u001b[0mappend\u001b[0m\u001b[1;33m(\u001b[0m\u001b[0mmobile\u001b[0m\u001b[1;33m)\u001b[0m\u001b[1;33m\u001b[0m\u001b[1;33m\u001b[0m\u001b[0m\n",
      "\u001b[0;32m     15 \u001b[0m        \u001b[0mmobile\u001b[0m \u001b[1;33m=\u001b[0m \u001b[1;34m\"\"\u001b[0m\u001b[1;33m\u001b[0m\u001b[1;33m\u001b[0m\u001b[0m\n",
      "\n"
     ]
    },
    {
     "name": "stdin",
     "output_type": "stream",
     "text": [
      "ipdb>  l\n"
     ]
    },
    {
     "name": "stdout",
     "output_type": "stream",
     "text": [
      "\u001b[0;32m     16 \u001b[0m\u001b[1;32mif\u001b[0m \u001b[0mlen\u001b[0m\u001b[1;33m(\u001b[0m\u001b[0mmobile\u001b[0m\u001b[1;33m)\u001b[0m \u001b[1;33m==\u001b[0m \u001b[1;36m10\u001b[0m \u001b[1;32mand\u001b[0m \u001b[0mmobile\u001b[0m\u001b[1;33m[\u001b[0m\u001b[1;36m0\u001b[0m\u001b[1;33m]\u001b[0m \u001b[1;32min\u001b[0m \u001b[1;33m(\u001b[0m\u001b[1;34m'6789'\u001b[0m\u001b[1;33m)\u001b[0m\u001b[1;33m:\u001b[0m\u001b[1;33m\u001b[0m\u001b[1;33m\u001b[0m\u001b[0m\n",
      "\u001b[0;32m     17 \u001b[0m            \u001b[0mmobiles\u001b[0m\u001b[1;33m.\u001b[0m\u001b[0mappend\u001b[0m\u001b[1;33m(\u001b[0m\u001b[0mmobile\u001b[0m\u001b[1;33m)\u001b[0m\u001b[1;33m\u001b[0m\u001b[1;33m\u001b[0m\u001b[0m\n",
      "\n"
     ]
    },
    {
     "name": "stdin",
     "output_type": "stream",
     "text": [
      "ipdb>  l\n"
     ]
    },
    {
     "name": "stdout",
     "output_type": "stream",
     "text": [
      "\n"
     ]
    },
    {
     "name": "stdin",
     "output_type": "stream",
     "text": [
      "ipdb>  l\n"
     ]
    },
    {
     "name": "stdout",
     "output_type": "stream",
     "text": [
      "\n"
     ]
    },
    {
     "name": "stdin",
     "output_type": "stream",
     "text": [
      "ipdb>  c\n"
     ]
    },
    {
     "name": "stdout",
     "output_type": "stream",
     "text": [
      "> \u001b[1;32mc:\\users\\91798\\appdata\\local\\temp\\ipykernel_19660\\1252399233.py\u001b[0m(10)\u001b[0;36m<module>\u001b[1;34m()\u001b[0m\n",
      "\n"
     ]
    },
    {
     "name": "stdin",
     "output_type": "stream",
     "text": [
      "ipdb>  c\n"
     ]
    },
    {
     "name": "stdout",
     "output_type": "stream",
     "text": [
      "> \u001b[1;32mc:\\users\\91798\\appdata\\local\\temp\\ipykernel_19660\\1252399233.py\u001b[0m(10)\u001b[0;36m<module>\u001b[1;34m()\u001b[0m\n",
      "\n"
     ]
    },
    {
     "name": "stdin",
     "output_type": "stream",
     "text": [
      "ipdb>  c\n"
     ]
    },
    {
     "name": "stdout",
     "output_type": "stream",
     "text": [
      "> \u001b[1;32mc:\\users\\91798\\appdata\\local\\temp\\ipykernel_19660\\1252399233.py\u001b[0m(10)\u001b[0;36m<module>\u001b[1;34m()\u001b[0m\n",
      "\n"
     ]
    },
    {
     "name": "stdin",
     "output_type": "stream",
     "text": [
      "ipdb>  l\n"
     ]
    },
    {
     "name": "stdout",
     "output_type": "stream",
     "text": [
      "\u001b[0;32m      5 \u001b[0m\u001b[0mmobile\u001b[0m \u001b[1;33m=\u001b[0m \u001b[1;34m\"\"\u001b[0m\u001b[1;33m\u001b[0m\u001b[1;33m\u001b[0m\u001b[0m\n",
      "\u001b[0;32m      6 \u001b[0m\u001b[1;33m\u001b[0m\u001b[0m\n",
      "\u001b[0;32m      7 \u001b[0m\u001b[1;32mfor\u001b[0m \u001b[0mi\u001b[0m \u001b[1;32min\u001b[0m \u001b[0ms\u001b[0m\u001b[1;33m:\u001b[0m\u001b[1;33m\u001b[0m\u001b[1;33m\u001b[0m\u001b[0m\n",
      "\u001b[0;32m      8 \u001b[0m\u001b[1;33m\u001b[0m\u001b[0m\n",
      "\u001b[0;32m      9 \u001b[0m    \u001b[0mpdb\u001b[0m\u001b[1;33m.\u001b[0m\u001b[0mset_trace\u001b[0m\u001b[1;33m(\u001b[0m\u001b[1;33m)\u001b[0m\u001b[1;33m\u001b[0m\u001b[1;33m\u001b[0m\u001b[0m\n",
      "\u001b[1;32m---> 10 \u001b[1;33m    \u001b[1;32mif\u001b[0m \u001b[0mi\u001b[0m\u001b[1;33m.\u001b[0m\u001b[0misdigit\u001b[0m\u001b[1;33m(\u001b[0m\u001b[1;33m)\u001b[0m\u001b[1;33m:\u001b[0m\u001b[1;33m\u001b[0m\u001b[1;33m\u001b[0m\u001b[0m\n",
      "\u001b[0m\u001b[0;32m     11 \u001b[0m        \u001b[0mmobile\u001b[0m \u001b[1;33m+=\u001b[0m \u001b[0mi\u001b[0m\u001b[1;33m\u001b[0m\u001b[1;33m\u001b[0m\u001b[0m\n",
      "\u001b[0;32m     12 \u001b[0m    \u001b[1;32melse\u001b[0m\u001b[1;33m:\u001b[0m\u001b[1;33m\u001b[0m\u001b[1;33m\u001b[0m\u001b[0m\n",
      "\u001b[0;32m     13 \u001b[0m        \u001b[1;32mif\u001b[0m \u001b[0mlen\u001b[0m\u001b[1;33m(\u001b[0m\u001b[0mmobile\u001b[0m\u001b[1;33m)\u001b[0m \u001b[1;33m==\u001b[0m \u001b[1;36m10\u001b[0m \u001b[1;32mand\u001b[0m \u001b[0mmobile\u001b[0m\u001b[1;33m[\u001b[0m\u001b[1;36m0\u001b[0m\u001b[1;33m]\u001b[0m\u001b[1;33m.\u001b[0m\u001b[0mstartswith\u001b[0m\u001b[1;33m(\u001b[0m\u001b[1;34m'6789'\u001b[0m\u001b[1;33m)\u001b[0m\u001b[1;33m:\u001b[0m\u001b[1;33m\u001b[0m\u001b[1;33m\u001b[0m\u001b[0m\n",
      "\u001b[0;32m     14 \u001b[0m            \u001b[0mmobiles\u001b[0m\u001b[1;33m.\u001b[0m\u001b[0mappend\u001b[0m\u001b[1;33m(\u001b[0m\u001b[0mmobile\u001b[0m\u001b[1;33m)\u001b[0m\u001b[1;33m\u001b[0m\u001b[1;33m\u001b[0m\u001b[0m\n",
      "\u001b[0;32m     15 \u001b[0m        \u001b[0mmobile\u001b[0m \u001b[1;33m=\u001b[0m \u001b[1;34m\"\"\u001b[0m\u001b[1;33m\u001b[0m\u001b[1;33m\u001b[0m\u001b[0m\n",
      "\n"
     ]
    },
    {
     "name": "stdin",
     "output_type": "stream",
     "text": [
      "ipdb>  l\n"
     ]
    },
    {
     "name": "stdout",
     "output_type": "stream",
     "text": [
      "\u001b[0;32m     16 \u001b[0m\u001b[1;32mif\u001b[0m \u001b[0mlen\u001b[0m\u001b[1;33m(\u001b[0m\u001b[0mmobile\u001b[0m\u001b[1;33m)\u001b[0m \u001b[1;33m==\u001b[0m \u001b[1;36m10\u001b[0m \u001b[1;32mand\u001b[0m \u001b[0mmobile\u001b[0m\u001b[1;33m[\u001b[0m\u001b[1;36m0\u001b[0m\u001b[1;33m]\u001b[0m \u001b[1;32min\u001b[0m \u001b[1;33m(\u001b[0m\u001b[1;34m'6789'\u001b[0m\u001b[1;33m)\u001b[0m\u001b[1;33m:\u001b[0m\u001b[1;33m\u001b[0m\u001b[1;33m\u001b[0m\u001b[0m\n",
      "\u001b[0;32m     17 \u001b[0m            \u001b[0mmobiles\u001b[0m\u001b[1;33m.\u001b[0m\u001b[0mappend\u001b[0m\u001b[1;33m(\u001b[0m\u001b[0mmobile\u001b[0m\u001b[1;33m)\u001b[0m\u001b[1;33m\u001b[0m\u001b[1;33m\u001b[0m\u001b[0m\n",
      "\n"
     ]
    },
    {
     "name": "stdin",
     "output_type": "stream",
     "text": [
      "ipdb>  s\n"
     ]
    },
    {
     "name": "stdout",
     "output_type": "stream",
     "text": [
      "> \u001b[1;32mc:\\users\\91798\\appdata\\local\\temp\\ipykernel_19660\\1252399233.py\u001b[0m(13)\u001b[0;36m<module>\u001b[1;34m()\u001b[0m\n",
      "\n"
     ]
    },
    {
     "name": "stdin",
     "output_type": "stream",
     "text": [
      "ipdb>  exit()\n"
     ]
    }
   ],
   "source": [
    "import pdb \n",
    "s = \"This is hyb9900164930bngl 9900 flair950apr9505909369\"\n",
    "\n",
    "mobiles = []\n",
    "mobile = \"\"\n",
    "\n",
    "for i in s:\n",
    "    \n",
    "    pdb.set_trace()\n",
    "    if i.isdigit():\n",
    "        mobile += i\n",
    "    else:\n",
    "        if len(mobile) == 10 and mobile[0].startswith('6789'):\n",
    "            mobiles.append(mobile)\n",
    "        mobile = \"\"\n",
    "if len(mobile) == 10 and mobile[0] in ('6789'):\n",
    "            mobiles.append(mobile)"
   ]
  },
  {
   "cell_type": "code",
   "execution_count": null,
   "id": "9be2a06f-bfc9-4a06-942f-27f4b78a80ed",
   "metadata": {},
   "outputs": [],
   "source": []
  },
  {
   "cell_type": "code",
   "execution_count": 162,
   "id": "7d282e27-07d5-4ac3-869c-7cb9fe78930b",
   "metadata": {},
   "outputs": [],
   "source": [
    "s = \"This is hyb9900164930bngl 9900 flair950apr9505909369\"\n",
    "\n",
    "mobiles = []\n",
    "mobile = \"\"\n",
    "\n",
    "for i in s:\n",
    "    if i.isdigit():\n",
    "        mobile += i\n",
    "    else:\n",
    "        if len(mobile) == 10 and mobile[0] in ('6789'):\n",
    "            mobiles.append(mobile)\n",
    "        mobile = \"\"\n",
    "else:\n",
    "    if len(mobile) == 10 and mobile[0] in ('6789'):\n",
    "        mobiles.append(mobile)"
   ]
  },
  {
   "cell_type": "code",
   "execution_count": 163,
   "id": "e6d6ae87-3924-42ed-8a06-f39a47fbde86",
   "metadata": {},
   "outputs": [
    {
     "data": {
      "text/plain": [
       "['9900164930', '9505909369']"
      ]
     },
     "execution_count": 163,
     "metadata": {},
     "output_type": "execute_result"
    }
   ],
   "source": [
    "mobiles"
   ]
  },
  {
   "cell_type": "code",
   "execution_count": 168,
   "id": "b4d64232-c12d-4e9e-9c6c-52cef7c5d2e1",
   "metadata": {},
   "outputs": [
    {
     "data": {
      "text/plain": [
       "'abcdefghijklmnopqrstuvwxyz'"
      ]
     },
     "execution_count": 168,
     "metadata": {},
     "output_type": "execute_result"
    }
   ],
   "source": [
    "import string\n",
    "\n",
    "string.ascii_lowercase\n"
   ]
  },
  {
   "cell_type": "code",
   "execution_count": 169,
   "id": "93fc27b5-1da2-4567-b7b9-a425012e6c55",
   "metadata": {},
   "outputs": [
    {
     "name": "stdout",
     "output_type": "stream",
     "text": [
      "all the alphabets are present\n"
     ]
    }
   ],
   "source": [
    "# (A pangram is a sentence that contains all the letters of the\n",
    "# English alphabet at least once, for\n",
    "# example: \"The quick brown fox jumps over the lazy dog\".)\n",
    "\n",
    "s =  \"The quick brown fox jumps over the lazy dog\"\n",
    "\n",
    "import string\n",
    "\n",
    "for i in string.ascii_lowercase:\n",
    "    if i not in s.lower():\n",
    "        print(f\"{i} is missing in aplhabets\")\n",
    "        break\n",
    "else:\n",
    "    print(\"all the alphabets are present\")"
   ]
  },
  {
   "cell_type": "code",
   "execution_count": null,
   "id": "0c49e68b-e65f-49cc-a436-e2e15e7c1cf8",
   "metadata": {},
   "outputs": [],
   "source": []
  },
  {
   "cell_type": "code",
   "execution_count": 172,
   "id": "9a80391c-618f-41c4-8859-f736f03d59dd",
   "metadata": {},
   "outputs": [
    {
     "name": "stdout",
     "output_type": "stream",
     "text": [
      "Uppercount is:  3\n",
      "lowercase count is:  12\n"
     ]
    }
   ],
   "source": [
    "# Write a Python program that accepts a string and calculate the numbe\n",
    "# Sample String : 'The quick Brow Fox'\n",
    "# Expected Output :\n",
    "# No. of Uppercase characters : 3\n",
    "# No. of Lower case Characters : 12\n",
    "\n",
    "Sample_String = 'The quick Brow Fox'\n",
    "\n",
    "Uppercase_count = 0\n",
    "lowercase_count = 0\n",
    "for char in Sample_String:\n",
    "    if char.isalpha():\n",
    "        if char.islower():\n",
    "            lowercase_count+=1\n",
    "        else:\n",
    "            Uppercase_count +=1\n",
    "\n",
    "print(\"Uppercount is: \",Uppercase_count)\n",
    "print(\"lowercase count is: \",lowercase_count)"
   ]
  },
  {
   "cell_type": "code",
   "execution_count": null,
   "id": "8440285c-6dce-4579-87ef-72658b197cb3",
   "metadata": {},
   "outputs": [],
   "source": []
  },
  {
   "cell_type": "code",
   "execution_count": 188,
   "id": "c488a861-ba7f-4007-99b1-639fa7aa2d07",
   "metadata": {},
   "outputs": [
    {
     "data": {
      "text/plain": [
       "'black-green-red-white-yellow'"
      ]
     },
     "execution_count": 188,
     "metadata": {},
     "output_type": "execute_result"
    }
   ],
   "source": [
    "# Write a Python program that accepts a hyphen separated sequence of\n",
    "# words as input and prints the words in a hyphen-separated sequence a\n",
    "# sorting them alphabetically.\n",
    "# Sample Items : green-red-yellow-black-white\n",
    "# Expected Result : black-green-red-white-yellow\n",
    "colors = \"green-red-yellow-black-white\"\n",
    "l = colors.split(\"-\")\n",
    "\n",
    "s = sorted(l)\n",
    "\"-\".join(s)"
   ]
  },
  {
   "cell_type": "code",
   "execution_count": 192,
   "id": "8b0c5757-7919-4d7a-8ff9-f447f2150e79",
   "metadata": {},
   "outputs": [
    {
     "data": {
      "text/plain": [
       "'black-green-red-white-yellow'"
      ]
     },
     "execution_count": 192,
     "metadata": {},
     "output_type": "execute_result"
    }
   ],
   "source": [
    "# \"-\".join(sorted(l))\n",
    "\"-\".join(sorted(colors.split(\"-\")))"
   ]
  },
  {
   "cell_type": "code",
   "execution_count": null,
   "id": "50f9a35e-4310-41b4-9761-c14703bd2da8",
   "metadata": {},
   "outputs": [],
   "source": []
  },
  {
   "cell_type": "code",
   "execution_count": 193,
   "id": "37f62d94-5730-4554-8fa9-19a0f47dd9b9",
   "metadata": {},
   "outputs": [],
   "source": [
    "# Write a python function to interchange keys and values in a dictiona\n",
    "data = {'x': 1, 'y': 2, 'z': 3}\n",
    "# result = {1: 'x', 2: 'y', 3: 'z'}\n",
    "res = {v:k for k,v in data.items()}"
   ]
  },
  {
   "cell_type": "code",
   "execution_count": 194,
   "id": "703e7832-4b7c-47a2-bcb1-79ff1c8fa75e",
   "metadata": {},
   "outputs": [
    {
     "data": {
      "text/plain": [
       "{1: 'x', 2: 'y', 3: 'z'}"
      ]
     },
     "execution_count": 194,
     "metadata": {},
     "output_type": "execute_result"
    }
   ],
   "source": [
    "res"
   ]
  },
  {
   "cell_type": "code",
   "execution_count": 195,
   "id": "091edf81-8ff9-483c-ba3a-b0796c6b4957",
   "metadata": {},
   "outputs": [
    {
     "data": {
      "text/plain": [
       "{1: 'x', 2: 'y', 3: 'z'}"
      ]
     },
     "execution_count": 195,
     "metadata": {},
     "output_type": "execute_result"
    }
   ],
   "source": [
    "{ele[1] :ele[0] for ele in data.items()}"
   ]
  },
  {
   "cell_type": "code",
   "execution_count": null,
   "id": "1c4e42ad-8dd3-4a37-8287-0dae1a133108",
   "metadata": {},
   "outputs": [],
   "source": []
  },
  {
   "cell_type": "code",
   "execution_count": 196,
   "id": "a52fc9b4-3257-4c1a-a3f3-0283c35c2d38",
   "metadata": {},
   "outputs": [
    {
     "data": {
      "text/plain": [
       "['How', 'are', 'you']"
      ]
     },
     "execution_count": 196,
     "metadata": {},
     "output_type": "execute_result"
    }
   ],
   "source": [
    "s = \"How are you\"\n",
    "# ['How', 'are', 'you']\n",
    "s.split()"
   ]
  },
  {
   "cell_type": "code",
   "execution_count": 202,
   "id": "98544079-f2ad-4990-9234-aad0fade50c1",
   "metadata": {},
   "outputs": [
    {
     "name": "stdout",
     "output_type": "stream",
     "text": [
      "H\n",
      "o\n",
      "w\n",
      " \n",
      "a\n",
      "r\n",
      "e\n",
      " \n",
      "y\n",
      "o\n",
      "u\n",
      "['How', 'are', 'you']\n",
      "you\n"
     ]
    }
   ],
   "source": [
    "words = []\n",
    "word = \"\"\n",
    "\n",
    "for char in s:\n",
    "    print(char)\n",
    "    if char == \" \":\n",
    "        words.append(word)\n",
    "        word = \"\"\n",
    "    else:\n",
    "        word += char\n",
    "else:\n",
    "    if word:\n",
    "        words.append(word)\n",
    "print(words)\n",
    "print(word)"
   ]
  },
  {
   "cell_type": "code",
   "execution_count": null,
   "id": "0e29974d-6b4d-4740-9381-c8a810db1a3b",
   "metadata": {},
   "outputs": [],
   "source": []
  },
  {
   "cell_type": "code",
   "execution_count": 221,
   "id": "4e3a3bb7-f9a5-4f92-8ab7-b11ccf7e254c",
   "metadata": {},
   "outputs": [
    {
     "name": "stdout",
     "output_type": "stream",
     "text": [
      "--Return--\n",
      "None\n",
      "> \u001b[1;32mc:\\users\\91798\\appdata\\local\\temp\\ipykernel_19660\\2493148682.py\u001b[0m(7)\u001b[0;36m<module>\u001b[1;34m()\u001b[0m\n",
      "\n"
     ]
    },
    {
     "name": "stdin",
     "output_type": "stream",
     "text": [
      "ipdb>  l\n"
     ]
    },
    {
     "name": "stdout",
     "output_type": "stream",
     "text": [
      "\u001b[0;32m      2 \u001b[0m\u001b[1;31m# words\u001b[0m\u001b[1;33m\u001b[0m\u001b[1;33m\u001b[0m\u001b[0m\n",
      "\u001b[0;32m      3 \u001b[0m\u001b[0ms\u001b[0m \u001b[1;33m=\u001b[0m \u001b[1;34m\"How         are            you\"\u001b[0m\u001b[1;33m\u001b[0m\u001b[1;33m\u001b[0m\u001b[0m\n",
      "\u001b[0;32m      4 \u001b[0m\u001b[1;31m# ['How', 'are', 'you']\u001b[0m\u001b[1;33m\u001b[0m\u001b[1;33m\u001b[0m\u001b[0m\n",
      "\u001b[0;32m      5 \u001b[0m\u001b[0mwords\u001b[0m \u001b[1;33m=\u001b[0m \u001b[1;33m[\u001b[0m\u001b[1;33m]\u001b[0m\u001b[1;33m\u001b[0m\u001b[1;33m\u001b[0m\u001b[0m\n",
      "\u001b[0;32m      6 \u001b[0m\u001b[0mword\u001b[0m \u001b[1;33m=\u001b[0m \u001b[1;34m\"\"\u001b[0m\u001b[1;33m\u001b[0m\u001b[1;33m\u001b[0m\u001b[0m\n",
      "\u001b[1;32m----> 7 \u001b[1;33m\u001b[0mpdb\u001b[0m\u001b[1;33m.\u001b[0m\u001b[0mset_trace\u001b[0m\u001b[1;33m(\u001b[0m\u001b[1;33m)\u001b[0m\u001b[1;33m\u001b[0m\u001b[1;33m\u001b[0m\u001b[0m\n",
      "\u001b[0m\u001b[0;32m      8 \u001b[0m\u001b[1;32mfor\u001b[0m \u001b[0mi\u001b[0m \u001b[1;32min\u001b[0m \u001b[0ms\u001b[0m\u001b[1;33m:\u001b[0m\u001b[1;33m\u001b[0m\u001b[1;33m\u001b[0m\u001b[0m\n",
      "\u001b[0;32m      9 \u001b[0m    \u001b[1;31m# print(i)\u001b[0m\u001b[1;33m\u001b[0m\u001b[1;33m\u001b[0m\u001b[0m\n",
      "\u001b[0;32m     10 \u001b[0m    \u001b[1;32mif\u001b[0m \u001b[0mi\u001b[0m \u001b[1;33m==\u001b[0m \u001b[1;34m\" \"\u001b[0m\u001b[1;33m:\u001b[0m\u001b[1;33m\u001b[0m\u001b[1;33m\u001b[0m\u001b[0m\n",
      "\u001b[0;32m     11 \u001b[0m        \u001b[0mwords\u001b[0m\u001b[1;33m.\u001b[0m\u001b[0mappend\u001b[0m\u001b[1;33m(\u001b[0m\u001b[0mword\u001b[0m\u001b[1;33m)\u001b[0m\u001b[1;33m\u001b[0m\u001b[1;33m\u001b[0m\u001b[0m\n",
      "\u001b[0;32m     12 \u001b[0m        \u001b[0mword\u001b[0m \u001b[1;33m=\u001b[0m \u001b[1;34m\"\"\u001b[0m\u001b[1;33m\u001b[0m\u001b[1;33m\u001b[0m\u001b[0m\n",
      "\n"
     ]
    },
    {
     "name": "stdin",
     "output_type": "stream",
     "text": [
      "ipdb>  l\n"
     ]
    },
    {
     "name": "stdout",
     "output_type": "stream",
     "text": [
      "\u001b[0;32m     13 \u001b[0m    \u001b[1;32melse\u001b[0m\u001b[1;33m:\u001b[0m\u001b[1;33m\u001b[0m\u001b[1;33m\u001b[0m\u001b[0m\n",
      "\u001b[0;32m     14 \u001b[0m        \u001b[0mword\u001b[0m \u001b[1;33m+=\u001b[0m \u001b[0mi\u001b[0m\u001b[1;33m\u001b[0m\u001b[1;33m\u001b[0m\u001b[0m\n",
      "\u001b[0;32m     15 \u001b[0m\u001b[1;32melse\u001b[0m\u001b[1;33m:\u001b[0m\u001b[1;33m\u001b[0m\u001b[1;33m\u001b[0m\u001b[0m\n",
      "\u001b[0;32m     16 \u001b[0m    \u001b[1;32mif\u001b[0m \u001b[0mword\u001b[0m\u001b[1;33m:\u001b[0m\u001b[1;33m\u001b[0m\u001b[1;33m\u001b[0m\u001b[0m\n",
      "\u001b[0;32m     17 \u001b[0m        \u001b[0mwords\u001b[0m\u001b[1;33m.\u001b[0m\u001b[0mappend\u001b[0m\u001b[1;33m(\u001b[0m\u001b[0mword\u001b[0m\u001b[1;33m)\u001b[0m\u001b[1;33m\u001b[0m\u001b[1;33m\u001b[0m\u001b[0m\n",
      "\n"
     ]
    },
    {
     "name": "stdin",
     "output_type": "stream",
     "text": [
      "ipdb>  l\n"
     ]
    },
    {
     "name": "stdout",
     "output_type": "stream",
     "text": [
      "\n"
     ]
    },
    {
     "name": "stdin",
     "output_type": "stream",
     "text": [
      "ipdb>  l\n"
     ]
    },
    {
     "name": "stdout",
     "output_type": "stream",
     "text": [
      "\n"
     ]
    },
    {
     "name": "stdin",
     "output_type": "stream",
     "text": [
      "ipdb>  exit()\n"
     ]
    }
   ],
   "source": [
    "import pdb\n",
    "# words\n",
    "s = \"How         are            you\"\n",
    "# ['How', 'are', 'you']\n",
    "words = []\n",
    "word = \"\"\n",
    "pdb.set_trace()\n",
    "for i in s:\n",
    "    # print(i)\n",
    "    if i == \" \":\n",
    "        words.append(word)\n",
    "        word = \"\"\n",
    "    else:\n",
    "        word += i\n",
    "else:\n",
    "    if word:\n",
    "        words.append(word)\n"
   ]
  },
  {
   "cell_type": "code",
   "execution_count": null,
   "id": "77bc011c-77cf-4a27-9559-fdad419670a5",
   "metadata": {},
   "outputs": [],
   "source": []
  },
  {
   "cell_type": "code",
   "execution_count": 210,
   "id": "cb3d203d-001b-429b-b3f4-f88ebbb4433a",
   "metadata": {},
   "outputs": [
    {
     "data": {
      "text/plain": [
       "[]"
      ]
     },
     "execution_count": 210,
     "metadata": {},
     "output_type": "execute_result"
    }
   ],
   "source": []
  },
  {
   "cell_type": "code",
   "execution_count": 224,
   "id": "89500005-7013-4fb4-b802-9ebdab0f895e",
   "metadata": {},
   "outputs": [
    {
     "name": "stdout",
     "output_type": "stream",
     "text": [
      "['How', 'are', 'you']\n"
     ]
    }
   ],
   "source": [
    "words = []\n",
    "word = \"\"\n",
    "\n",
    "for char in s:\n",
    "    # print(char)\n",
    "    if char == \" \":\n",
    "        \n",
    "        if word: \n",
    "            words.append(word)\n",
    "        word = \"\"\n",
    "    else:\n",
    "        word += char\n",
    "else:\n",
    "    if word:\n",
    "        words.append(word)\n",
    "print(words)\n",
    "# print(word)"
   ]
  },
  {
   "cell_type": "code",
   "execution_count": null,
   "id": "19ce3d5a-aa8c-4af9-a252-6a486fce4148",
   "metadata": {},
   "outputs": [],
   "source": []
  },
  {
   "cell_type": "code",
   "execution_count": 229,
   "id": "549ba234-fae6-4729-8abf-640090e1cd72",
   "metadata": {},
   "outputs": [
    {
     "name": "stdout",
     "output_type": "stream",
     "text": [
      "15\n"
     ]
    }
   ],
   "source": [
    "# 1. 12345 ---> 1 + 2 + 3 + 4 + 5 --\n",
    "# with and without using the string conversion\n",
    "\n",
    "num = 12345\n",
    "\n",
    "result = 0\n",
    "\n",
    "while num > 0:\n",
    "    result += num % 10\n",
    "    num //= 10\n",
    "print(result)"
   ]
  },
  {
   "cell_type": "code",
   "execution_count": 230,
   "id": "2845e0ed-d7b3-4c27-a845-6c27e43b4671",
   "metadata": {},
   "outputs": [
    {
     "data": {
      "text/plain": [
       "5"
      ]
     },
     "execution_count": 230,
     "metadata": {},
     "output_type": "execute_result"
    }
   ],
   "source": [
    "12345 % 10 "
   ]
  },
  {
   "cell_type": "code",
   "execution_count": 231,
   "id": "9bf186b6-77fe-4e5c-b709-2313efffcb74",
   "metadata": {},
   "outputs": [
    {
     "data": {
      "text/plain": [
       "4"
      ]
     },
     "execution_count": 231,
     "metadata": {},
     "output_type": "execute_result"
    }
   ],
   "source": [
    "1234 %10"
   ]
  },
  {
   "cell_type": "code",
   "execution_count": 232,
   "id": "b0f70b35-df92-4787-941b-e3df41cf2b5e",
   "metadata": {},
   "outputs": [
    {
     "data": {
      "text/plain": [
       "1234"
      ]
     },
     "execution_count": 232,
     "metadata": {},
     "output_type": "execute_result"
    }
   ],
   "source": [
    "12345//10"
   ]
  },
  {
   "cell_type": "code",
   "execution_count": 233,
   "id": "04ca1c4c-238e-46ab-9b9e-f46072154e42",
   "metadata": {},
   "outputs": [
    {
     "data": {
      "text/plain": [
       "1"
      ]
     },
     "execution_count": 233,
     "metadata": {},
     "output_type": "execute_result"
    }
   ],
   "source": [
    "1 % 10"
   ]
  },
  {
   "cell_type": "code",
   "execution_count": 234,
   "id": "1dbea23b-bbc5-4b6e-9c83-7c4f5bdc2a25",
   "metadata": {},
   "outputs": [
    {
     "data": {
      "text/plain": [
       "0"
      ]
     },
     "execution_count": 234,
     "metadata": {},
     "output_type": "execute_result"
    }
   ],
   "source": [
    "1 //10"
   ]
  },
  {
   "cell_type": "code",
   "execution_count": 1,
   "id": "86b8a23b-c9a4-4fa7-baa5-07cf23613e14",
   "metadata": {},
   "outputs": [
    {
     "name": "stdout",
     "output_type": "stream",
     "text": [
      "[ 1  2  3  4  5 12]\n"
     ]
    }
   ],
   "source": [
    "import numpy as np\n",
    "\n",
    "data = [1,1,2,3,4,5,1,12,1,2,1,1,2]\n",
    "unique_list = np.unique(data)\n",
    "\n",
    "print(unique_list)\n"
   ]
  },
  {
   "cell_type": "code",
   "execution_count": 6,
   "id": "0f7e78f3-63ae-47da-b01e-61af786c5677",
   "metadata": {},
   "outputs": [
    {
     "name": "stdout",
     "output_type": "stream",
     "text": [
      "33\n",
      "16\n",
      "17\n",
      "                I am in hyderabad                 \n"
     ]
    }
   ],
   "source": [
    "s = \"I am in hyderabad\"\n",
    "# If we give centre = 50\n",
    "# Result = \" I am in hyderabad \"\n",
    "# Do this without using center ( )\n",
    "\n",
    "\n",
    "center = 50 \n",
    "\n",
    "padding_length = center - len(s)\n",
    "print(padding_length)\n",
    "left_padding = padding_length//2\n",
    "print(left_padding)\n",
    "\n",
    "right_padding = padding_length - left_padding\n",
    "\n",
    "print(right_padding)\n",
    "\n",
    "res = \" \" * left_padding + s + \" \" * right_padding\n",
    "print(res)"
   ]
  },
  {
   "cell_type": "code",
   "execution_count": null,
   "id": "0121650d-aa2b-4f19-a71d-7624953d7b40",
   "metadata": {},
   "outputs": [],
   "source": []
  },
  {
   "cell_type": "code",
   "execution_count": 7,
   "id": "b182edd8-22d1-4fb1-b302-9514a80831c6",
   "metadata": {},
   "outputs": [],
   "source": [
    "s = \"abcaa1anv12hsd234mnxz3and45\"\n",
    "num = \"\"\n",
    "result = 0\n",
    "\n",
    "for i in s:\n",
    "    if i.isdigit():\n",
    "        num += i\n",
    "    else:\n",
    "        if num:\n",
    "            result += int(num)\n",
    "            num = \"\"  \n",
    "else:\n",
    "    if num:\n",
    "        result += int(num)\n",
    "        "
   ]
  },
  {
   "cell_type": "code",
   "execution_count": 8,
   "id": "21c7b138-cb15-489f-88ab-97c996eaed4c",
   "metadata": {},
   "outputs": [
    {
     "data": {
      "text/plain": [
       "295"
      ]
     },
     "execution_count": 8,
     "metadata": {},
     "output_type": "execute_result"
    }
   ],
   "source": [
    "result"
   ]
  },
  {
   "cell_type": "code",
   "execution_count": 13,
   "id": "5c993593-077a-4ebf-9412-3a605e972074",
   "metadata": {},
   "outputs": [
    {
     "name": "stdout",
     "output_type": "stream",
     "text": [
      "250\n"
     ]
    }
   ],
   "source": [
    "s = \"abcaa1anv12hsd234mnxz3and45\"\n",
    "num = \"\"\n",
    "result = 0\n",
    "\n",
    "for i in s:\n",
    "    if i.isdigit():\n",
    "        num+=i\n",
    "    else:\n",
    "        if num:\n",
    "            result += int(num)\n",
    "            num = \"\"\n",
    "print(result)\n",
    "# else:\n",
    "#     if num:\n",
    "#         result +=  int(num)"
   ]
  },
  {
   "cell_type": "code",
   "execution_count": null,
   "id": "994511ab-003f-4fac-b0a7-87fa80476502",
   "metadata": {},
   "outputs": [],
   "source": []
  },
  {
   "cell_type": "code",
   "execution_count": 14,
   "id": "30082b5f-f97d-4202-8f68-e458809fdf66",
   "metadata": {
    "scrolled": true
   },
   "outputs": [
    {
     "name": "stdout",
     "output_type": "stream",
     "text": [
      "Help on built-in function isdigit:\n",
      "\n",
      "isdigit() method of builtins.str instance\n",
      "    Return True if the string is a digit string, False otherwise.\n",
      "    \n",
      "    A string is a digit string if all characters in the string are digits and there\n",
      "    is at least one character in the string.\n",
      "\n"
     ]
    }
   ],
   "source": [
    "help(s.isdigit)"
   ]
  },
  {
   "cell_type": "code",
   "execution_count": 15,
   "id": "c8e136e5-cf6b-4ae5-ba82-44e3292afe09",
   "metadata": {},
   "outputs": [
    {
     "name": "stdout",
     "output_type": "stream",
     "text": [
      "True\n",
      "False\n",
      "False\n"
     ]
    }
   ],
   "source": [
    "string1 = \"12345\"\n",
    "string2 = \"12abc\"\n",
    "string3 = \"abcdef\"\n",
    "\n",
    "print(string1.isdigit())  # Output: True\n",
    "print(string2.isdigit())  # Output: False\n",
    "print(string3.isdigit())  "
   ]
  },
  {
   "cell_type": "code",
   "execution_count": 16,
   "id": "4a6f39b2-2359-4829-862a-43ce7b9f81d5",
   "metadata": {},
   "outputs": [
    {
     "name": "stdout",
     "output_type": "stream",
     "text": [
      "True\n",
      "True\n",
      "True\n"
     ]
    }
   ],
   "source": [
    "print(string1.isalnum())  # Output: True\n",
    "print(string2.isalnum())  # Output: False\n",
    "print(string3.isalnum())  "
   ]
  },
  {
   "cell_type": "code",
   "execution_count": null,
   "id": "73478839-e2bc-47ac-8422-8e7352d643b5",
   "metadata": {},
   "outputs": [],
   "source": []
  }
 ],
 "metadata": {
  "kernelspec": {
   "display_name": "Python 3 (ipykernel)",
   "language": "python",
   "name": "python3"
  },
  "language_info": {
   "codemirror_mode": {
    "name": "ipython",
    "version": 3
   },
   "file_extension": ".py",
   "mimetype": "text/x-python",
   "name": "python",
   "nbconvert_exporter": "python",
   "pygments_lexer": "ipython3",
   "version": "3.10.2"
  }
 },
 "nbformat": 4,
 "nbformat_minor": 5
}
