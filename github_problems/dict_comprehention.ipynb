{
 "cells": [
  {
   "cell_type": "code",
   "execution_count": 1,
   "id": "120054e4-cef0-4729-99e4-b955b835742e",
   "metadata": {},
   "outputs": [
    {
     "name": "stdout",
     "output_type": "stream",
     "text": [
      "{1: 'apple', 2: 'ball'}\n"
     ]
    }
   ],
   "source": [
    "my_dict = {1: 'apple', 2: 'ball'}\n",
    "\n",
    "print(my_dict)"
   ]
  },
  {
   "cell_type": "code",
   "execution_count": 2,
   "id": "19029ea6-d616-4cc9-abe1-261e6c2b3afe",
   "metadata": {},
   "outputs": [
    {
     "name": "stdout",
     "output_type": "stream",
     "text": [
      "{1: 1, 2: 4, 3: 27, 4: 256, 5: 3125, 6: 46656, 7: 823543, 8: 16777216, 9: 387420489, 10: 10000000000}\n"
     ]
    }
   ],
   "source": [
    "# dictionary is an unordered and mutable datatype and contains key:value pairs key and value are seperated by , and seperated by :\n",
    "\n",
    "square_dict = dict()\n",
    "for num in range(1,11):\n",
    "    square_dict[num] = num **num\n",
    "print(square_dict)"
   ]
  },
  {
   "cell_type": "code",
   "execution_count": 3,
   "id": "4c6444aa-36fa-42f8-9339-237d14fd0f38",
   "metadata": {},
   "outputs": [],
   "source": [
    "square_dict = {num:num** num for num in range(1,11)}"
   ]
  },
  {
   "cell_type": "code",
   "execution_count": 5,
   "id": "49effcbf-8ec9-458d-a2ce-cfd7264ef743",
   "metadata": {},
   "outputs": [
    {
     "name": "stdout",
     "output_type": "stream",
     "text": [
      "{1: 1, 2: 4, 3: 27, 4: 256, 5: 3125, 6: 46656, 7: 823543, 8: 16777216, 9: 387420489, 10: 10000000000}\n"
     ]
    }
   ],
   "source": [
    "print(square_dict)"
   ]
  },
  {
   "cell_type": "code",
   "execution_count": null,
   "id": "acb5c380-9504-4f64-b366-69128154d00d",
   "metadata": {},
   "outputs": [],
   "source": []
  },
  {
   "cell_type": "code",
   "execution_count": 7,
   "id": "acdb1977-0a05-4fc5-aeca-d31b74270b2c",
   "metadata": {},
   "outputs": [],
   "source": [
    "old_price = {'milk': 2.03, 'bread': 2.6, 'butter': 2.6}\n",
    "dollar_to_pound = 0.76\n",
    "new_price = {item:value*dollar_to_pound  for item,value in old_price.items()}"
   ]
  },
  {
   "cell_type": "code",
   "execution_count": 8,
   "id": "55d2a8e9-df42-433f-bc18-f58f27880016",
   "metadata": {},
   "outputs": [
    {
     "data": {
      "text/plain": [
       "{'milk': 1.5428, 'bread': 1.9760000000000002, 'butter': 1.9760000000000002}"
      ]
     },
     "execution_count": 8,
     "metadata": {},
     "output_type": "execute_result"
    }
   ],
   "source": [
    "new_price"
   ]
  },
  {
   "cell_type": "code",
   "execution_count": null,
   "id": "c6806f45-650f-44ba-a5d5-912496697d6a",
   "metadata": {},
   "outputs": [],
   "source": []
  },
  {
   "cell_type": "code",
   "execution_count": 9,
   "id": "717f8653-8773-477e-837a-2ccb945ee644",
   "metadata": {},
   "outputs": [],
   "source": [
    "# Conditionals in Dictionary Comprehension\n",
    "# We can further customize dictionary comprehension by adding conditions to it. Let's look at an example."
   ]
  },
  {
   "cell_type": "code",
   "execution_count": 11,
   "id": "0fc204cb-e541-4c51-a182-dc89ca81a59c",
   "metadata": {},
   "outputs": [],
   "source": [
    "original_dict = {'Allan': 36, 'Bill': 48, 'Cory': 57, 'Dave': 33}\n",
    "\n",
    "even_dict = {k:v for k,v in original_dict.items() if v % 2 == 0}"
   ]
  },
  {
   "cell_type": "code",
   "execution_count": 12,
   "id": "b87dc9fe-baf3-4e2c-917c-5c50c911b0bb",
   "metadata": {},
   "outputs": [
    {
     "data": {
      "text/plain": [
       "{'Allan': 36, 'Bill': 48}"
      ]
     },
     "execution_count": 12,
     "metadata": {},
     "output_type": "execute_result"
    }
   ],
   "source": [
    "even_dict"
   ]
  },
  {
   "cell_type": "code",
   "execution_count": null,
   "id": "dcdf6c3f-f194-4dc2-b766-7e03d47910f3",
   "metadata": {},
   "outputs": [],
   "source": []
  },
  {
   "cell_type": "code",
   "execution_count": 14,
   "id": "b977eba1-d3c1-4c62-9601-7cbaa7ae94b2",
   "metadata": {},
   "outputs": [
    {
     "name": "stdout",
     "output_type": "stream",
     "text": [
      "{'Allan': 'young', 'Bill': 'old', 'Cory': 'old', 'Dave': 'young'}\n"
     ]
    }
   ],
   "source": [
    "original_dict = {'Allan': 36, 'Bill': 48, 'Cory': 57, 'Dave': 33}\n",
    "\n",
    "new_dict = {k: ('old' if v > 40 else 'young') for (k,v) in original_dict.items()}\n",
    "\n",
    "\n",
    "print(new_dict)"
   ]
  },
  {
   "cell_type": "code",
   "execution_count": 16,
   "id": "5168cb83-3797-4164-871e-76d092c082b7",
   "metadata": {},
   "outputs": [],
   "source": [
    "new_dict = {k:('old' if v > 40 else 'young') for (k,v) in original_dict.items()}"
   ]
  },
  {
   "cell_type": "code",
   "execution_count": 17,
   "id": "e4c6754c-8542-4317-b1e2-c897181594ad",
   "metadata": {},
   "outputs": [
    {
     "data": {
      "text/plain": [
       "{'Allan': 'young', 'Bill': 'old', 'Cory': 'old', 'Dave': 'young'}"
      ]
     },
     "execution_count": 17,
     "metadata": {},
     "output_type": "execute_result"
    }
   ],
   "source": [
    "new_dict"
   ]
  },
  {
   "cell_type": "code",
   "execution_count": 18,
   "id": "15beb667-6c97-4c6a-961b-f7c15ac74864",
   "metadata": {},
   "outputs": [],
   "source": [
    "new_dict = {k:('old' if v>40 else 'young') for k,v in original_dict.items()}"
   ]
  },
  {
   "cell_type": "code",
   "execution_count": null,
   "id": "2a9202c2-9dd9-4942-a176-c260c5b51c99",
   "metadata": {},
   "outputs": [],
   "source": []
  },
  {
   "cell_type": "code",
   "execution_count": null,
   "id": "05d6bc89-b712-43d0-8cae-8445945e2cf0",
   "metadata": {},
   "outputs": [],
   "source": []
  },
  {
   "cell_type": "code",
   "execution_count": 19,
   "id": "690d54dd-4ef4-4bf9-98a4-bf3081b5640c",
   "metadata": {},
   "outputs": [
    {
     "name": "stdout",
     "output_type": "stream",
     "text": [
      "1\n",
      "2\n",
      "3\n",
      "4\n",
      "5\n",
      "6\n",
      "7\n",
      "8\n",
      "9\n"
     ]
    }
   ],
   "source": [
    "for i in range(1,10):{\n",
    "print(i)\n",
    "}"
   ]
  },
  {
   "cell_type": "code",
   "execution_count": null,
   "id": "2a55121b-863a-4362-a2f3-ef2a334327f4",
   "metadata": {},
   "outputs": [],
   "source": []
  }
 ],
 "metadata": {
  "kernelspec": {
   "display_name": "Python 3 (ipykernel)",
   "language": "python",
   "name": "python3"
  },
  "language_info": {
   "codemirror_mode": {
    "name": "ipython",
    "version": 3
   },
   "file_extension": ".py",
   "mimetype": "text/x-python",
   "name": "python",
   "nbconvert_exporter": "python",
   "pygments_lexer": "ipython3",
   "version": "3.10.2"
  }
 },
 "nbformat": 4,
 "nbformat_minor": 5
}
