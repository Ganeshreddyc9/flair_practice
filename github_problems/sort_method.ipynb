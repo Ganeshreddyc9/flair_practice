{
 "cells": [
  {
   "cell_type": "code",
   "execution_count": 1,
   "id": "cfbdf8da-8c1d-4509-a24a-142bea23fc9b",
   "metadata": {},
   "outputs": [],
   "source": [
    "data = [1, 18, 2, 15, 0, 5, 16]"
   ]
  },
  {
   "cell_type": "code",
   "execution_count": 2,
   "id": "71a327a6-c1a9-4962-95b2-824d8817f046",
   "metadata": {},
   "outputs": [],
   "source": [
    "data.sort()"
   ]
  },
  {
   "cell_type": "code",
   "execution_count": 3,
   "id": "fb5fc90b-507a-492e-96b0-8a037e37cff5",
   "metadata": {},
   "outputs": [
    {
     "data": {
      "text/plain": [
       "[0, 1, 2, 5, 15, 16, 18]"
      ]
     },
     "execution_count": 3,
     "metadata": {},
     "output_type": "execute_result"
    }
   ],
   "source": [
    "data"
   ]
  },
  {
   "cell_type": "code",
   "execution_count": null,
   "id": "e4e0c66c-73a1-4538-8017-b28fb2532113",
   "metadata": {},
   "outputs": [],
   "source": []
  },
  {
   "cell_type": "code",
   "execution_count": null,
   "id": "a4e1300b-9a22-4dbf-b8cb-b33a4e0e6146",
   "metadata": {},
   "outputs": [],
   "source": []
  },
  {
   "cell_type": "code",
   "execution_count": 4,
   "id": "acb05849-257b-4578-b5e6-2f9c47677193",
   "metadata": {},
   "outputs": [],
   "source": [
    "# data = {'x': 1, 'y': 2, 'z': 3}\n",
    "# result = {1: 'x', 2: 'y', 3: 'z'}"
   ]
  },
  {
   "cell_type": "code",
   "execution_count": 6,
   "id": "d858e8ee-a8b4-45a3-8a8e-b1efbfb5d1e8",
   "metadata": {},
   "outputs": [],
   "source": [
    "data = {'x': 1, 'y': 2, 'z': 3}\n",
    "\n",
    "res = {key:value for key, value in data.items()}"
   ]
  },
  {
   "cell_type": "code",
   "execution_count": 7,
   "id": "13890ee5-9aba-41b5-b16b-05b8f2a48a75",
   "metadata": {},
   "outputs": [
    {
     "data": {
      "text/plain": [
       "{'x': 1, 'y': 2, 'z': 3}"
      ]
     },
     "execution_count": 7,
     "metadata": {},
     "output_type": "execute_result"
    }
   ],
   "source": [
    "res"
   ]
  },
  {
   "cell_type": "code",
   "execution_count": 8,
   "id": "2bf652ec-14db-4a96-983d-a3917439bf57",
   "metadata": {},
   "outputs": [],
   "source": [
    "\n",
    "res = {value:key for key, value in data.items()}"
   ]
  },
  {
   "cell_type": "code",
   "execution_count": 9,
   "id": "bf8fe351-ccbf-4377-ba45-aadc75a7e47c",
   "metadata": {},
   "outputs": [
    {
     "data": {
      "text/plain": [
       "{1: 'x', 2: 'y', 3: 'z'}"
      ]
     },
     "execution_count": 9,
     "metadata": {},
     "output_type": "execute_result"
    }
   ],
   "source": [
    "res"
   ]
  },
  {
   "cell_type": "code",
   "execution_count": null,
   "id": "c5346fc4-910b-4f24-8b7c-033b45b39102",
   "metadata": {},
   "outputs": [],
   "source": []
  }
 ],
 "metadata": {
  "kernelspec": {
   "display_name": "Python 3 (ipykernel)",
   "language": "python",
   "name": "python3"
  },
  "language_info": {
   "codemirror_mode": {
    "name": "ipython",
    "version": 3
   },
   "file_extension": ".py",
   "mimetype": "text/x-python",
   "name": "python",
   "nbconvert_exporter": "python",
   "pygments_lexer": "ipython3",
   "version": "3.10.2"
  }
 },
 "nbformat": 4,
 "nbformat_minor": 5
}
