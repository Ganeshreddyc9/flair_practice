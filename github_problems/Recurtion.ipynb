{
 "cells": [
  {
   "cell_type": "raw",
   "id": "36702230-f1ae-4ee3-b1d3-eeb4dec82ff1",
   "metadata": {},
   "source": [
    "# 1. 12345 ---> 1 + 2 + 3 + 4 + 5 --\n",
    "# with and without using the string conversion"
   ]
  },
  {
   "cell_type": "code",
   "execution_count": 1,
   "id": "c3b5ac88-7a5f-407d-a7dc-f2e45221b1ab",
   "metadata": {},
   "outputs": [
    {
     "data": {
      "text/plain": [
       "5"
      ]
     },
     "execution_count": 1,
     "metadata": {},
     "output_type": "execute_result"
    }
   ],
   "source": [
    "s = 12345\n",
    "s%10"
   ]
  },
  {
   "cell_type": "code",
   "execution_count": 2,
   "id": "ab3bf473-ea70-4842-9b68-63bbd56ed654",
   "metadata": {},
   "outputs": [
    {
     "data": {
      "text/plain": [
       "1234"
      ]
     },
     "execution_count": 2,
     "metadata": {},
     "output_type": "execute_result"
    }
   ],
   "source": [
    "s//10"
   ]
  },
  {
   "cell_type": "code",
   "execution_count": 5,
   "id": "021ba9e2-7f16-48b1-9b26-91b44063512e",
   "metadata": {},
   "outputs": [
    {
     "name": "stdout",
     "output_type": "stream",
     "text": [
      "15\n"
     ]
    }
   ],
   "source": [
    "s= 12345\n",
    "result = 0\n",
    "while s>0: #12345 > 0 \n",
    "    result += s%10 # 5+0->5\n",
    "    s //=10 # 1234\n",
    "print(result)"
   ]
  },
  {
   "cell_type": "code",
   "execution_count": null,
   "id": "605d8fca-4e49-4c12-b6e8-4d1a8aa6a9fb",
   "metadata": {},
   "outputs": [],
   "source": []
  },
  {
   "cell_type": "code",
   "execution_count": 8,
   "id": "21bedc6d-8b81-446c-82ea-760aa37988b4",
   "metadata": {},
   "outputs": [
    {
     "name": "stdout",
     "output_type": "stream",
     "text": [
      "the factorial of 3 is 6\n",
      "the factorial of 6 is 720\n"
     ]
    }
   ],
   "source": [
    "def factorial(x):\n",
    "\n",
    "    if x ==0:\n",
    "        return 1\n",
    "    else:\n",
    "        return (x* factorial(x-1))\n",
    "x =3\n",
    "print(f\"the factorial of {x} is {factorial(x)}\")\n",
    "x =6\n",
    "print(f\"the factorial of {x} is {factorial(x)}\")"
   ]
  },
  {
   "cell_type": "code",
   "execution_count": null,
   "id": "e9d45220-e7fe-4f6e-a69f-0c6ec54f4332",
   "metadata": {},
   "outputs": [],
   "source": []
  },
  {
   "cell_type": "code",
   "execution_count": 1,
   "id": "1e207476-2daf-4858-b13c-ca795fa49c0c",
   "metadata": {},
   "outputs": [
    {
     "name": "stdout",
     "output_type": "stream",
     "text": [
      "Total sum of digits separately (recursive): 15\n"
     ]
    }
   ],
   "source": [
    "def sum_digits_separately_recursive(num):\n",
    "    if num == 0:\n",
    "        return 0\n",
    "    else:\n",
    "        return num % 10 + sum_digits_separately_recursive(num // 10)\n",
    "\n",
    "# Example usage\n",
    "result = sum_digits_separately_recursive(12345)\n",
    "print(\"Total sum of digits separately (recursive):\", result)  # Output will be 15\n"
   ]
  },
  {
   "cell_type": "code",
   "execution_count": 5,
   "id": "72c4f715-fb99-4099-81a6-8f12399e033b",
   "metadata": {},
   "outputs": [
    {
     "data": {
      "text/plain": [
       "10"
      ]
     },
     "execution_count": 5,
     "metadata": {},
     "output_type": "execute_result"
    }
   ],
   "source": [
    "sum_digits_separately_recursive(12345 // 10)"
   ]
  },
  {
   "cell_type": "code",
   "execution_count": 17,
   "id": "75b918ee-acbe-49fa-bbea-521537d737d0",
   "metadata": {},
   "outputs": [
    {
     "name": "stdout",
     "output_type": "stream",
     "text": [
      "only num 12345 \n",
      "\n",
      "percentile  5 \n",
      "\n",
      "division 1234 \n",
      "\n",
      "only num 1234 \n",
      "\n",
      "percentile  4 \n",
      "\n",
      "division 123 \n",
      "\n",
      "only num 123 \n",
      "\n",
      "percentile  3 \n",
      "\n",
      "division 12 \n",
      "\n",
      "only num 12 \n",
      "\n",
      "percentile  2 \n",
      "\n",
      "division 1 \n",
      "\n",
      "only num 1 \n",
      "\n",
      "percentile  1 \n",
      "\n",
      "division 0 \n",
      "\n",
      "1\n"
     ]
    },
    {
     "data": {
      "text/plain": [
       "15"
      ]
     },
     "execution_count": 17,
     "metadata": {},
     "output_type": "execute_result"
    }
   ],
   "source": [
    "def int_sum(num):\n",
    "    print(\"only num\",num,\"\\n\")\n",
    "    print(\"percentile \",num % 10,\"\\n\")\n",
    "    print(\"division\",num//10,\"\\n\")\n",
    "    if num <= 9:\n",
    "        print(num)\n",
    "        return num\n",
    "    else:\n",
    "        # print(\"only num\",num)\n",
    "        # print(\"percentile \",num % 10)\n",
    "        # print(\"division\",num//10)\n",
    "        return num % 10 + int_sum(num // 10)\n",
    "num = 12345\n",
    "int_sum(num)"
   ]
  },
  {
   "cell_type": "code",
   "execution_count": null,
   "id": "d0016279-d3d9-46ef-8231-099d9f6f1d5c",
   "metadata": {},
   "outputs": [],
   "source": []
  },
  {
   "cell_type": "code",
   "execution_count": 20,
   "id": "30c2f643-78b2-4022-a0f6-2cbd49e8df18",
   "metadata": {},
   "outputs": [],
   "source": [
    "def int_sum(num):\n",
    "    return num if num ==0 else num % 10 + int_sum(num//10)"
   ]
  },
  {
   "cell_type": "code",
   "execution_count": 21,
   "id": "25920fa8-1d85-4795-b5bf-86522b21e787",
   "metadata": {},
   "outputs": [
    {
     "data": {
      "text/plain": [
       "15"
      ]
     },
     "execution_count": 21,
     "metadata": {},
     "output_type": "execute_result"
    }
   ],
   "source": [
    "int_sum(12345)"
   ]
  },
  {
   "cell_type": "code",
   "execution_count": 43,
   "id": "8a3ba842-4417-4ec4-ada5-d2a8bd3cde5b",
   "metadata": {},
   "outputs": [],
   "source": [
    "# 2 . 12345 ---> 1 + 2 + 3 + 4 + 5 if sum is > 9 ---\n",
    "# add individual elements and the sum has to be < 10\n",
    "def int_sum9(num):\n",
    "    \n",
    "    result = 0\n",
    "    \n",
    "    while num >0:\n",
    "        result += num% 10\n",
    "        num//=10\n",
    "    if result >=9:\n",
    "        return int_sum9(result)\n",
    "    return result\n",
    "        "
   ]
  },
  {
   "cell_type": "code",
   "execution_count": 44,
   "id": "2391c7cc-9631-44ff-b51c-654f6fd523f8",
   "metadata": {},
   "outputs": [
    {
     "data": {
      "text/plain": [
       "(6, 6, 1)"
      ]
     },
     "execution_count": 44,
     "metadata": {},
     "output_type": "execute_result"
    }
   ],
   "source": [
    "int_sum9(12345) ,int_sum9(123),int_sum9(1234)"
   ]
  },
  {
   "cell_type": "code",
   "execution_count": 48,
   "id": "f40a376b-7c09-43c7-9321-5faa751615de",
   "metadata": {},
   "outputs": [
    {
     "data": {
      "text/plain": [
       "(1, 6)"
      ]
     },
     "execution_count": 48,
     "metadata": {},
     "output_type": "execute_result"
    }
   ],
   "source": [
    "1234%9 , 123%9"
   ]
  },
  {
   "cell_type": "code",
   "execution_count": 51,
   "id": "45d9e2b1-d7c6-42cd-a85e-cda72d64af8e",
   "metadata": {},
   "outputs": [
    {
     "data": {
      "text/plain": [
       "(9, 0)"
      ]
     },
     "execution_count": 51,
     "metadata": {},
     "output_type": "execute_result"
    }
   ],
   "source": [
    "9%10,9//10"
   ]
  },
  {
   "cell_type": "code",
   "execution_count": 52,
   "id": "c30663d3-b766-464d-af0c-8c92cf9d6abb",
   "metadata": {},
   "outputs": [
    {
     "data": {
      "text/plain": [
       "0.9"
      ]
     },
     "execution_count": 52,
     "metadata": {},
     "output_type": "execute_result"
    }
   ],
   "source": [
    "9/10"
   ]
  },
  {
   "cell_type": "code",
   "execution_count": 53,
   "id": "2ac043ce-c588-4da7-ae16-0079ac070fa8",
   "metadata": {},
   "outputs": [],
   "source": [
    "def int_sum9(num):\n",
    "    result = 0\n",
    "    while num >0:\n",
    "        result += num%10\n",
    "        num //=10\n",
    "    if result >9:\n",
    "        return int_sum9(result)\n",
    "    return result"
   ]
  },
  {
   "cell_type": "code",
   "execution_count": 54,
   "id": "57fe30d0-d288-4088-86c2-1db7fcbf450f",
   "metadata": {},
   "outputs": [
    {
     "data": {
      "text/plain": [
       "6"
      ]
     },
     "execution_count": 54,
     "metadata": {},
     "output_type": "execute_result"
    }
   ],
   "source": [
    "int_sum9(12345)"
   ]
  },
  {
   "cell_type": "code",
   "execution_count": 57,
   "id": "73381c04-863c-441e-9d6c-e8aa70bd4aa2",
   "metadata": {},
   "outputs": [
    {
     "name": "stdout",
     "output_type": "stream",
     "text": [
      "[((1, 2, 3, 4, 6),), ((1, 2, 3, 7, 8, 9),), ((1, 2, 3, 10, 11, 12),), ((1, 2, 13, 14, 15),)]\n"
     ]
    }
   ],
   "source": [
    "# Find the common part from the given iterables\n",
    "# Example: (1,2,3,4,6), (1,2,3,7,8,9), (1,2,3,10,11,12), (1,2,13,14,15)\n",
    "# Result: (1,2)\n",
    "\n",
    "data =  (1,2,3,4,6), (1,2,3,7,8,9), (1,2,3,10,11,12), (1,2,13,14,15)\n",
    "print(list(zip(data)))"
   ]
  },
  {
   "cell_type": "code",
   "execution_count": 58,
   "id": "b5b6e764-fd05-4b48-9b15-46b0ba8ef601",
   "metadata": {},
   "outputs": [
    {
     "name": "stdout",
     "output_type": "stream",
     "text": [
      "[(1, 1, 1, 1), (2, 2, 2, 2), (3, 3, 3, 13), (4, 7, 10, 14), (6, 8, 11, 15)]\n"
     ]
    }
   ],
   "source": [
    "print(list(zip(*data)))"
   ]
  },
  {
   "cell_type": "code",
   "execution_count": null,
   "id": "2e49cc7c-f20b-426c-8f9f-3fdfadeae9bc",
   "metadata": {},
   "outputs": [],
   "source": []
  },
  {
   "cell_type": "code",
   "execution_count": 6,
   "id": "87cd217f-159d-48ab-98a7-8bbb8a959b15",
   "metadata": {},
   "outputs": [
    {
     "data": {
      "text/plain": [
       "15"
      ]
     },
     "execution_count": 6,
     "metadata": {},
     "output_type": "execute_result"
    }
   ],
   "source": [
    "# 1. 12345 ---> 1 + 2 + 3 + 4 + 5 --\n",
    "# with and without using the string conversion\n",
    "num = 12345\n",
    "result = 0\n",
    "\n",
    "\n",
    "while num>0:\n",
    "    result += num %10\n",
    "    num //= 10\n",
    "\n",
    "result\n"
   ]
  },
  {
   "cell_type": "code",
   "execution_count": 9,
   "id": "4a5571d9-826e-4f57-bd39-59a65e90d679",
   "metadata": {},
   "outputs": [],
   "source": [
    "num = 12345\n",
    "\n",
    "def count_l9(num):\n",
    "\n",
    "    result = 0\n",
    "\n",
    "    \n",
    "    while num >0:\n",
    "        result += num %10\n",
    "        num //=10\n",
    "    if result >9:\n",
    "        return count_l9(result)\n",
    "    return result"
   ]
  },
  {
   "cell_type": "raw",
   "id": "80b3b4b5-25d0-40e0-a1d3-a4a066d51b8a",
   "metadata": {},
   "source": [
    "count_l9(12345)"
   ]
  },
  {
   "cell_type": "code",
   "execution_count": null,
   "id": "07802a3d-8678-44ed-90b8-16bd01548a9a",
   "metadata": {},
   "outputs": [],
   "source": []
  },
  {
   "cell_type": "code",
   "execution_count": null,
   "id": "59ee85c5-7965-4ead-b519-55d5675fedee",
   "metadata": {},
   "outputs": [],
   "source": []
  },
  {
   "cell_type": "code",
   "execution_count": null,
   "id": "68c364b4-8283-4225-a9ab-3e940b398ca2",
   "metadata": {},
   "outputs": [],
   "source": []
  }
 ],
 "metadata": {
  "kernelspec": {
   "display_name": "Python 3 (ipykernel)",
   "language": "python",
   "name": "python3"
  },
  "language_info": {
   "codemirror_mode": {
    "name": "ipython",
    "version": 3
   },
   "file_extension": ".py",
   "mimetype": "text/x-python",
   "name": "python",
   "nbconvert_exporter": "python",
   "pygments_lexer": "ipython3",
   "version": "3.10.2"
  }
 },
 "nbformat": 4,
 "nbformat_minor": 5
}
