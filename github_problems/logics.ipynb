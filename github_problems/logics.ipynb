{
 "cells": [
  {
   "cell_type": "code",
   "execution_count": 2,
   "id": "606d3f10-b819-4207-b827-0c638e7c766c",
   "metadata": {},
   "outputs": [],
   "source": [
    "i = [12,35,9,56,24]\n",
    "\n",
    "# o/p: [24,35,9,56,12]\n"
   ]
  },
  {
   "cell_type": "code",
   "execution_count": 7,
   "id": "885f7397-0c9f-4c7d-8506-55f46eb7c7e0",
   "metadata": {},
   "outputs": [],
   "source": [
    "a = i[0]\n",
    "b = i[-1]\n",
    "\n",
    "# i[a],i[b] =i[b],i[a]\n",
    "a,b = b,a\n",
    " "
   ]
  },
  {
   "cell_type": "code",
   "execution_count": 9,
   "id": "551e1876-a95f-4892-89f2-1996e5963d9a",
   "metadata": {},
   "outputs": [],
   "source": [
    "i.insert(0,a)"
   ]
  },
  {
   "cell_type": "code",
   "execution_count": 10,
   "id": "86d286da-9e92-4d09-b2c9-0b817a3be031",
   "metadata": {},
   "outputs": [
    {
     "data": {
      "text/plain": [
       "[24, 12, 35, 9, 56, 24]"
      ]
     },
     "execution_count": 10,
     "metadata": {},
     "output_type": "execute_result"
    }
   ],
   "source": []
  },
  {
   "cell_type": "code",
   "execution_count": null,
   "id": "457dbeeb-37fa-483f-b032-ed6106334c7d",
   "metadata": {},
   "outputs": [],
   "source": []
  }
 ],
 "metadata": {
  "kernelspec": {
   "display_name": "Python 3 (ipykernel)",
   "language": "python",
   "name": "python3"
  },
  "language_info": {
   "codemirror_mode": {
    "name": "ipython",
    "version": 3
   },
   "file_extension": ".py",
   "mimetype": "text/x-python",
   "name": "python",
   "nbconvert_exporter": "python",
   "pygments_lexer": "ipython3",
   "version": "3.10.2"
  }
 },
 "nbformat": 4,
 "nbformat_minor": 5
}
