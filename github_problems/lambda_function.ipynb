{
 "cells": [
  {
   "cell_type": "code",
   "execution_count": 6,
   "id": "b30b1bb5-aa8a-4c04-84fd-298cb65b6ff5",
   "metadata": {},
   "outputs": [
    {
     "data": {
      "text/plain": [
       "<function __main__.<lambda>()>"
      ]
     },
     "execution_count": 6,
     "metadata": {},
     "output_type": "execute_result"
    }
   ],
   "source": [
    "lambda : print(\"Hello World\")"
   ]
  },
  {
   "cell_type": "code",
   "execution_count": 11,
   "id": "5c18b2ab-8636-4b0c-9714-fdf4f7b599df",
   "metadata": {},
   "outputs": [
    {
     "name": "stdout",
     "output_type": "stream",
     "text": [
      "Hello World\n"
     ]
    }
   ],
   "source": [
    "(lambda : print(\"Hello World\"))()"
   ]
  },
  {
   "cell_type": "code",
   "execution_count": 9,
   "id": "3cdb461b-b4e2-42f7-a8be-f850b9c98ed8",
   "metadata": {},
   "outputs": [
    {
     "name": "stdout",
     "output_type": "stream",
     "text": [
      "<function <lambda> at 0x00000244D2C50790>\n"
     ]
    }
   ],
   "source": []
  },
  {
   "cell_type": "code",
   "execution_count": 12,
   "id": "a8513904-6ca1-4567-b9aa-92f00ef5a736",
   "metadata": {},
   "outputs": [
    {
     "data": {
      "text/plain": [
       "25"
      ]
     },
     "execution_count": 12,
     "metadata": {},
     "output_type": "execute_result"
    }
   ],
   "source": [
    "(lambda x : x **2)(5)"
   ]
  },
  {
   "cell_type": "code",
   "execution_count": 14,
   "id": "c9af13e3-d5d4-41fc-a92c-555f81322f5a",
   "metadata": {},
   "outputs": [
    {
     "data": {
      "text/plain": [
       "3125"
      ]
     },
     "execution_count": 14,
     "metadata": {},
     "output_type": "execute_result"
    }
   ],
   "source": [
    "def fun(x):\n",
    "    return x ** 5\n",
    "\n",
    "fun(5)"
   ]
  },
  {
   "cell_type": "code",
   "execution_count": 15,
   "id": "dda2b810-5008-4584-a773-7b743cd14add",
   "metadata": {},
   "outputs": [],
   "source": [
    "greet = lambda : print('Hello World')"
   ]
  },
  {
   "cell_type": "code",
   "execution_count": 17,
   "id": "6fe5fdbc-4342-4ce4-a6fe-3e69b34b4464",
   "metadata": {},
   "outputs": [
    {
     "name": "stdout",
     "output_type": "stream",
     "text": [
      "Hello World\n"
     ]
    }
   ],
   "source": [
    "greet()"
   ]
  },
  {
   "cell_type": "code",
   "execution_count": null,
   "id": "a0a88750-bfd3-4933-ba3f-d7e922ac2acb",
   "metadata": {},
   "outputs": [],
   "source": []
  },
  {
   "cell_type": "code",
   "execution_count": 19,
   "id": "ca3a125f-a88a-495e-8b44-c5ce534ab68f",
   "metadata": {},
   "outputs": [
    {
     "name": "stdout",
     "output_type": "stream",
     "text": [
      "hey there, ganesh\n"
     ]
    }
   ],
   "source": [
    "# Python lambda Function with an Argument\n",
    "\n",
    "greet_user = lambda name : print(\"hey there,\", name)\n",
    "\n",
    "greet_user('ganesh')"
   ]
  },
  {
   "cell_type": "code",
   "execution_count": 22,
   "id": "2a4d849e-dbcc-48a9-b26d-8fc73079fbdf",
   "metadata": {},
   "outputs": [
    {
     "name": "stdout",
     "output_type": "stream",
     "text": [
      "hey there, ganesh\n"
     ]
    }
   ],
   "source": [
    "(lambda name : print(\"hey there,\", name))('ganesh')"
   ]
  },
  {
   "cell_type": "code",
   "execution_count": null,
   "id": "2ea25122-43ca-4305-bf97-8d0ac8b2a6e4",
   "metadata": {},
   "outputs": [],
   "source": []
  },
  {
   "cell_type": "code",
   "execution_count": 23,
   "id": "3400a5f5-cf48-40ce-8e6c-7b6d68ad053c",
   "metadata": {},
   "outputs": [
    {
     "name": "stdout",
     "output_type": "stream",
     "text": [
      "4\n"
     ]
    }
   ],
   "source": [
    "def double(n):\n",
    "\n",
    "    return n * 2\n",
    "\n",
    "print(double(2))"
   ]
  },
  {
   "cell_type": "code",
   "execution_count": 24,
   "id": "0d87a635-279c-44bb-a55c-40fe6bd1d2a5",
   "metadata": {},
   "outputs": [
    {
     "name": "stdout",
     "output_type": "stream",
     "text": [
      "4\n"
     ]
    }
   ],
   "source": [
    "# above program using lambda\n",
    "\n",
    "double = lambda n : n *2 \n",
    "\n",
    "print(double(2))"
   ]
  },
  {
   "cell_type": "code",
   "execution_count": 28,
   "id": "1a742279-a1eb-4cd0-8c07-2479a8b289f7",
   "metadata": {},
   "outputs": [],
   "source": [
    "\n",
    "elements = lambda l : [i  for i in l]"
   ]
  },
  {
   "cell_type": "code",
   "execution_count": 29,
   "id": "be868722-e8f9-406b-9df1-25aed36af021",
   "metadata": {},
   "outputs": [
    {
     "data": {
      "text/plain": [
       "[1, 2, 3]"
      ]
     },
     "execution_count": 29,
     "metadata": {},
     "output_type": "execute_result"
    }
   ],
   "source": [
    "elements([1,2,3])"
   ]
  },
  {
   "cell_type": "code",
   "execution_count": null,
   "id": "38e19fe8-794a-4b25-8fbb-8fc0bc15c99f",
   "metadata": {},
   "outputs": [],
   "source": []
  },
  {
   "cell_type": "code",
   "execution_count": 30,
   "id": "9041ce29-127c-48f4-8c1a-de87197d6531",
   "metadata": {},
   "outputs": [],
   "source": [
    "larger = lambda a, b : a if a>b else b"
   ]
  },
  {
   "cell_type": "code",
   "execution_count": 31,
   "id": "025ed052-a9ed-46c4-afd7-62d783895e4e",
   "metadata": {},
   "outputs": [
    {
     "data": {
      "text/plain": [
       "10"
      ]
     },
     "execution_count": 31,
     "metadata": {},
     "output_type": "execute_result"
    }
   ],
   "source": [
    "larger(10,3)"
   ]
  },
  {
   "cell_type": "code",
   "execution_count": null,
   "id": "85dec3a2-c2e6-41d4-9900-a6c473318f0d",
   "metadata": {},
   "outputs": [],
   "source": []
  },
  {
   "cell_type": "code",
   "execution_count": 63,
   "id": "95e722b2-600d-42c9-a010-57833ddba0eb",
   "metadata": {},
   "outputs": [],
   "source": [
    "names = ['alan', 'groegtry', 'Zaltan', 'jonas', 'Tom']\n",
    "\n",
    "# here key is sort based on length of each string \n",
    "names.sort(key = lambda x: len(x))"
   ]
  },
  {
   "cell_type": "code",
   "execution_count": 65,
   "id": "3c694c83-ffa5-4c21-8379-073c77c27a2a",
   "metadata": {},
   "outputs": [
    {
     "data": {
      "text/plain": [
       "['Tom', 'alan', 'jonas', 'Zaltan', 'groegtry']"
      ]
     },
     "execution_count": 65,
     "metadata": {},
     "output_type": "execute_result"
    }
   ],
   "source": [
    "names"
   ]
  },
  {
   "cell_type": "code",
   "execution_count": 38,
   "id": "347a92bf-3653-40ec-8635-e45d20fe1c09",
   "metadata": {},
   "outputs": [],
   "source": [
    "names.sort()"
   ]
  },
  {
   "cell_type": "code",
   "execution_count": 39,
   "id": "a779eb45-73a4-4972-ba73-3fb95aaaaa7e",
   "metadata": {},
   "outputs": [
    {
     "data": {
      "text/plain": [
       "['Tom', 'Zaltan', 'alan', 'groegtry', 'jonas']"
      ]
     },
     "execution_count": 39,
     "metadata": {},
     "output_type": "execute_result"
    }
   ],
   "source": [
    "names"
   ]
  },
  {
   "cell_type": "code",
   "execution_count": 41,
   "id": "c2f4484e-ed78-418a-b89a-d237cf9a8953",
   "metadata": {},
   "outputs": [],
   "source": [
    "l = [1,2,3,4,5,6]\n",
    "l.sort()"
   ]
  },
  {
   "cell_type": "code",
   "execution_count": 42,
   "id": "81b7f5d5-2b5c-4f9e-b9e1-e43b4f8fcc1d",
   "metadata": {},
   "outputs": [
    {
     "data": {
      "text/plain": [
       "[1, 2, 3, 4, 5, 6]"
      ]
     },
     "execution_count": 42,
     "metadata": {},
     "output_type": "execute_result"
    }
   ],
   "source": [
    "l"
   ]
  },
  {
   "cell_type": "code",
   "execution_count": 43,
   "id": "a13663f9-ca97-4978-8fc0-94a7126de745",
   "metadata": {},
   "outputs": [],
   "source": [
    "l.sort(reverse = True)"
   ]
  },
  {
   "cell_type": "code",
   "execution_count": 44,
   "id": "6d510e5a-033a-4ddd-bca0-cf0ad3491076",
   "metadata": {},
   "outputs": [
    {
     "data": {
      "text/plain": [
       "[6, 5, 4, 3, 2, 1]"
      ]
     },
     "execution_count": 44,
     "metadata": {},
     "output_type": "execute_result"
    }
   ],
   "source": [
    "l"
   ]
  },
  {
   "cell_type": "code",
   "execution_count": 45,
   "id": "34f4bf7c-09b0-47f7-bb55-489ebab6aabb",
   "metadata": {},
   "outputs": [
    {
     "name": "stdout",
     "output_type": "stream",
     "text": [
      "[1, 2, 3, 4, 5, 6]\n"
     ]
    }
   ],
   "source": [
    "# sort \n",
    "\n",
    "my_list = [1, 2, 3, 4, 5, 6]\n",
    "\n",
    "# Bubble sort implementation\n",
    "n = len(my_list)\n",
    "for i in range(n):\n",
    "    for j in range(0, n-i-1):\n",
    "        if my_list[j] > my_list[j+1]:\n",
    "            my_list[j], my_list[j+1] = my_list[j+1], my_list[j]\n",
    "\n",
    "print(my_list)"
   ]
  },
  {
   "cell_type": "code",
   "execution_count": 47,
   "id": "f07d3b6c-18e8-44f4-ae21-476e9edcaa37",
   "metadata": {},
   "outputs": [
    {
     "data": {
      "text/plain": [
       "range(1, 0)"
      ]
     },
     "execution_count": 47,
     "metadata": {},
     "output_type": "execute_result"
    }
   ],
   "source": [
    "range(1, n-i-1)"
   ]
  },
  {
   "cell_type": "code",
   "execution_count": 49,
   "id": "2be86acd-629e-4c9b-bd86-808c3a95a5ee",
   "metadata": {},
   "outputs": [
    {
     "data": {
      "text/plain": [
       "range(0, 5)"
      ]
     },
     "execution_count": 49,
     "metadata": {},
     "output_type": "execute_result"
    }
   ],
   "source": [
    "range(0,6-0-1)"
   ]
  },
  {
   "cell_type": "code",
   "execution_count": 51,
   "id": "0366d1be-cf40-4ea9-9002-838f2d1732a7",
   "metadata": {},
   "outputs": [
    {
     "data": {
      "text/plain": [
       "6"
      ]
     },
     "execution_count": 51,
     "metadata": {},
     "output_type": "execute_result"
    }
   ],
   "source": [
    "n = len(my_list)\n",
    "\n",
    "n"
   ]
  },
  {
   "cell_type": "code",
   "execution_count": 52,
   "id": "7ccb384c-4a28-4392-8709-c6d7fe2ebd42",
   "metadata": {},
   "outputs": [
    {
     "data": {
      "text/plain": [
       "range(0, 0)"
      ]
     },
     "execution_count": 52,
     "metadata": {},
     "output_type": "execute_result"
    }
   ],
   "source": [
    "range(0, n-i-1)"
   ]
  },
  {
   "cell_type": "code",
   "execution_count": 58,
   "id": "8715c245-082e-4a9c-9d84-f58d0349d182",
   "metadata": {},
   "outputs": [
    {
     "name": "stdout",
     "output_type": "stream",
     "text": [
      "i val: 0\n",
      "1\n",
      "2\n",
      "3\n",
      "4\n",
      "5\n",
      "i val: 1\n",
      "1\n",
      "2\n",
      "3\n",
      "4\n",
      "5\n",
      "i val: 2\n",
      "1\n",
      "2\n",
      "3\n",
      "4\n",
      "5\n",
      "i val: 3\n",
      "1\n",
      "2\n",
      "3\n",
      "4\n",
      "5\n",
      "i val: 4\n",
      "1\n",
      "2\n",
      "3\n",
      "4\n",
      "5\n",
      "i val: 5\n",
      "1\n",
      "2\n",
      "3\n",
      "4\n",
      "5\n",
      "[6, 5, 4, 3, 2, 1]\n"
     ]
    }
   ],
   "source": [
    "my_list = [1, 2, 3, 4, 5, 6]\n",
    "\n",
    "# Bubble sort implementation\n",
    "n = len(my_list)\n",
    "for i in range(n):\n",
    "    print(\"i val:\",i)\n",
    "    for j in range(1, len(l)):\n",
    "        print(j)\n",
    "        if my_list[j] > my_list[j-1]:\n",
    "            my_list[j], my_list[j-1] = my_list[j-1], my_list[j]\n",
    "\n",
    "print(my_list)"
   ]
  },
  {
   "cell_type": "code",
   "execution_count": 62,
   "id": "6d7e31f0-691b-4f0f-a163-1bfe6f3fbfee",
   "metadata": {},
   "outputs": [
    {
     "name": "stdout",
     "output_type": "stream",
     "text": [
      "[1, 2, 3, 4, 5, 6]\n"
     ]
    }
   ],
   "source": [
    "l = [6, 5, 4, 3, 2, 1]\n",
    "\n",
    "\n",
    "for i in range(len(l)):\n",
    "    for j in range(1,len(l)):\n",
    "        if l[j-1] > l[j]:\n",
    "            l[j] ,l[j-1] = l[j-1] , l[j]\n",
    "print(l)"
   ]
  },
  {
   "cell_type": "code",
   "execution_count": null,
   "id": "00b3d67a-e1e5-4760-b111-5b9d6dad2a79",
   "metadata": {},
   "outputs": [],
   "source": []
  },
  {
   "cell_type": "code",
   "execution_count": 76,
   "id": "6d812bbe-d3ef-46d8-b32d-b626617648f7",
   "metadata": {},
   "outputs": [
    {
     "name": "stdout",
     "output_type": "stream",
     "text": [
      "mylist\n",
      "mylist  myfunction \n"
     ]
    }
   ],
   "source": [
    "s = \"mylist program myfunction program\"\n",
    "\n",
    "print(s.split()[0].strip())\n",
    "print(s.replace(\"program\", \"\"))\n",
    "# print(s.split()[0])\n"
   ]
  },
  {
   "cell_type": "code",
   "execution_count": 75,
   "id": "7ab26563-6ca8-4e72-a217-07ed2eef8fa7",
   "metadata": {},
   "outputs": [
    {
     "data": {
      "text/plain": [
       "'mylist program myfunction program'"
      ]
     },
     "execution_count": 75,
     "metadata": {},
     "output_type": "execute_result"
    }
   ],
   "source": [
    "s"
   ]
  },
  {
   "cell_type": "code",
   "execution_count": null,
   "id": "9ac2e0f2-8655-42c6-999b-6db657e6c6df",
   "metadata": {},
   "outputs": [],
   "source": []
  },
  {
   "cell_type": "code",
   "execution_count": null,
   "id": "d2329051-0380-4733-bcc3-91601c0722d4",
   "metadata": {},
   "outputs": [],
   "source": []
  },
  {
   "cell_type": "code",
   "execution_count": 77,
   "id": "d32f4455-a6b1-4617-a221-cca094608681",
   "metadata": {},
   "outputs": [
    {
     "data": {
      "text/plain": [
       "12"
      ]
     },
     "execution_count": 77,
     "metadata": {},
     "output_type": "execute_result"
    }
   ],
   "source": [
    "def add(n1, n2):\n",
    "    return n1 + n2\n",
    "\n",
    "add(10,2)"
   ]
  },
  {
   "cell_type": "code",
   "execution_count": 6,
   "id": "1073af84-85f1-4b26-97a6-17a2f0c9ce6b",
   "metadata": {},
   "outputs": [
    {
     "data": {
      "text/plain": [
       "13"
      ]
     },
     "execution_count": 6,
     "metadata": {},
     "output_type": "execute_result"
    }
   ],
   "source": [
    "add = lambda n1, n2 : n1 + n2 \n",
    "\n",
    "add(10,3)"
   ]
  },
  {
   "cell_type": "code",
   "execution_count": 10,
   "id": "84863ef3-c335-411a-a009-0e8bdc87fd6f",
   "metadata": {},
   "outputs": [],
   "source": [
    "my_lamda = lambda a , b, c, d : (a*2, b*2, c*2, d*2)\n",
    "\n",
    "result = my_lamda(9,10,20,15)"
   ]
  },
  {
   "cell_type": "code",
   "execution_count": 11,
   "id": "8f3324c7-18e5-4561-9798-0c697d31a380",
   "metadata": {},
   "outputs": [
    {
     "data": {
      "text/plain": [
       "(18, 20, 40, 30)"
      ]
     },
     "execution_count": 11,
     "metadata": {},
     "output_type": "execute_result"
    }
   ],
   "source": [
    "result\n"
   ]
  },
  {
   "cell_type": "code",
   "execution_count": 15,
   "id": "47130048-494c-4e72-913e-3ec59405f774",
   "metadata": {},
   "outputs": [],
   "source": [
    "a= lambda a , b, c, d : (a*2, b*2, c*2, d*2)"
   ]
  },
  {
   "cell_type": "code",
   "execution_count": 17,
   "id": "61c7c56a-7e0e-4a5c-a2f1-e63de40db3ba",
   "metadata": {},
   "outputs": [
    {
     "name": "stdout",
     "output_type": "stream",
     "text": [
      "(2, 4, 6, 8)\n"
     ]
    }
   ],
   "source": [
    "print(a(1,2,3,4))"
   ]
  },
  {
   "cell_type": "code",
   "execution_count": 19,
   "id": "68c4148f-e693-41d4-906d-24d0f2db6684",
   "metadata": {},
   "outputs": [
    {
     "name": "stdin",
     "output_type": "stream",
     "text": [
      "Enter a sequence of numbers separated by commas:  1,2,3,4\n"
     ]
    },
    {
     "name": "stdout",
     "output_type": "stream",
     "text": [
      "numbers... [1, 2, 3, 4]\n",
      "double_func..... <function <lambda> at 0x000001E4ACC84940>\n",
      "Original sequence: [1, 2, 3, 4]\n",
      "Doubled sequence: [2, 4, 6, 8]\n"
     ]
    }
   ],
   "source": [
    "# Take input from the user for a sequence of numbers\n",
    "input_str = input(\"Enter a sequence of numbers separated by commas: \")\n",
    "\n",
    "# Split the input string into individual elements and convert them to integers\n",
    "numbers = list(map(int, input_str.split(',')))\n",
    "print(\"numbers...\", numbers)\n",
    "# Define a lambda function to double each element\n",
    "double_func = lambda x: x * 2\n",
    "# print(\"double_func.....\",double_func )\n",
    "# Use the lambda function with map to double each element in the sequence\n",
    "doubled_numbers = list(map(double_func, numbers))\n",
    "\n",
    "# Print the original sequence and the doubled sequence\n",
    "print(\"Original sequence:\", numbers)\n",
    "print(\"Doubled sequence:\", doubled_numbers)\n"
   ]
  },
  {
   "cell_type": "code",
   "execution_count": null,
   "id": "c8a08cdf-effb-4813-8af1-b7ca95b4320c",
   "metadata": {},
   "outputs": [],
   "source": [
    "input_str = input(\"Enter a sequence of numbers separated by commas: \")\n",
    "\n",
    "# Split the input string into individual elements and convert them to integers\n",
    "numbers = list(map(int, input_str.split(',')))\n"
   ]
  }
 ],
 "metadata": {
  "kernelspec": {
   "display_name": "Python 3 (ipykernel)",
   "language": "python",
   "name": "python3"
  },
  "language_info": {
   "codemirror_mode": {
    "name": "ipython",
    "version": 3
   },
   "file_extension": ".py",
   "mimetype": "text/x-python",
   "name": "python",
   "nbconvert_exporter": "python",
   "pygments_lexer": "ipython3",
   "version": "3.10.2"
  }
 },
 "nbformat": 4,
 "nbformat_minor": 5
}
