{
 "cells": [
  {
   "cell_type": "code",
   "execution_count": 2,
   "id": "36c57abe-8afa-450d-87fd-5d64f6a85a9f",
   "metadata": {},
   "outputs": [],
   "source": [
    "data = {\n",
    "\"key1\": {\"key11\": {\"key111\": {\"key1111\": 1}}},\n",
    "\"key2\": {\"key22\": {\"key222\": 2}},\n",
    "\"key3\": {\"key33\": 3},\n",
    "\"key4\":4}"
   ]
  },
  {
   "cell_type": "code",
   "execution_count": 8,
   "id": "46fba1f5-c76f-4f44-a54f-35ba206ba1bc",
   "metadata": {},
   "outputs": [
    {
     "data": {
      "text/plain": [
       "{'key11': {'key111': {'key1111': 1}}}"
      ]
     },
     "execution_count": 8,
     "metadata": {},
     "output_type": "execute_result"
    }
   ],
   "source": [
    "data['key1']"
   ]
  },
  {
   "cell_type": "code",
   "execution_count": 9,
   "id": "b735fa1a-c0d3-41f1-8d01-5e7ff22a43d4",
   "metadata": {},
   "outputs": [
    {
     "data": {
      "text/plain": [
       "{'key22': {'key222': 2}}"
      ]
     },
     "execution_count": 9,
     "metadata": {},
     "output_type": "execute_result"
    }
   ],
   "source": [
    "data['key2']"
   ]
  },
  {
   "cell_type": "code",
   "execution_count": 6,
   "id": "e32a0fba-6e7a-4f52-9ee8-af41d76005cb",
   "metadata": {},
   "outputs": [
    {
     "data": {
      "text/plain": [
       "{'key33': 3}"
      ]
     },
     "execution_count": 6,
     "metadata": {},
     "output_type": "execute_result"
    }
   ],
   "source": [
    "data['key3']"
   ]
  },
  {
   "cell_type": "code",
   "execution_count": 7,
   "id": "aaede9b2-b90e-45ca-85a1-c34d1d401914",
   "metadata": {},
   "outputs": [
    {
     "data": {
      "text/plain": [
       "4"
      ]
     },
     "execution_count": 7,
     "metadata": {},
     "output_type": "execute_result"
    }
   ],
   "source": [
    "data['key4']"
   ]
  },
  {
   "cell_type": "code",
   "execution_count": 12,
   "id": "19f84afd-ba28-4b0a-b2dd-c512d76ce9b5",
   "metadata": {},
   "outputs": [],
   "source": [
    "\n",
    "result = []\n",
    "\n",
    "for key, values in data.items():\n",
    "    if isinstance(values,dict):\n",
    "        result.extend(values)\n",
    "    else:\n",
    "        result.append(values)"
   ]
  },
  {
   "cell_type": "code",
   "execution_count": 13,
   "id": "f26d200c-f9eb-46a1-a91e-27d63bc13ed9",
   "metadata": {},
   "outputs": [
    {
     "data": {
      "text/plain": [
       "['key11', 'key22', 'key33', 4]"
      ]
     },
     "execution_count": 13,
     "metadata": {},
     "output_type": "execute_result"
    }
   ],
   "source": [
    "result"
   ]
  },
  {
   "cell_type": "code",
   "execution_count": 16,
   "id": "3bbc9179-5798-4f90-a9a8-f8e8d6d59074",
   "metadata": {},
   "outputs": [
    {
     "name": "stdout",
     "output_type": "stream",
     "text": [
      "[1, 2, 3, 4]\n"
     ]
    }
   ],
   "source": [
    "\n",
    "def dict_val(data):\n",
    "    result = []\n",
    "\n",
    "    for key, values in data.items():\n",
    "        if isinstance(values,dict):\n",
    "            result.extend(dict_val(values))\n",
    "        else:\n",
    "            result.append(values)\n",
    "    return result\n",
    "data = {\n",
    "\"key1\": {\"key11\": {\"key111\": {\"key1111\": 1}}},\n",
    "\"key2\": {\"key22\": {\"key222\": 2}},\n",
    "\"key3\": {\"key33\": 3},\n",
    "\"key4\":4}\n",
    "print(dict_val(data))"
   ]
  },
  {
   "cell_type": "code",
   "execution_count": null,
   "id": "431e67af-d81b-4b1d-a9af-5d1b147b2057",
   "metadata": {},
   "outputs": [],
   "source": []
  },
  {
   "cell_type": "code",
   "execution_count": null,
   "id": "b55c34fc-6fe6-4a21-9fb3-432aff6c7056",
   "metadata": {},
   "outputs": [],
   "source": []
  }
 ],
 "metadata": {
  "kernelspec": {
   "display_name": "Python 3 (ipykernel)",
   "language": "python",
   "name": "python3"
  },
  "language_info": {
   "codemirror_mode": {
    "name": "ipython",
    "version": 3
   },
   "file_extension": ".py",
   "mimetype": "text/x-python",
   "name": "python",
   "nbconvert_exporter": "python",
   "pygments_lexer": "ipython3",
   "version": "3.10.2"
  }
 },
 "nbformat": 4,
 "nbformat_minor": 5
}
