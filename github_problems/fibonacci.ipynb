{
 "cells": [
  {
   "cell_type": "code",
   "execution_count": 5,
   "id": "07c1a830-d197-40ad-a2f8-b376801e9fbe",
   "metadata": {},
   "outputs": [
    {
     "name": "stdout",
     "output_type": "stream",
     "text": [
      "0 1 1 2 3 5 8 13 21 34 "
     ]
    }
   ],
   "source": [
    "# fibonacci sequence \n",
    "\n",
    "# Write logic it has to work for n number of parameters\n",
    "# Problem 4\n",
    "# fibonacci series\n",
    "# 0 1 1 2 3 5 8 13 21 34 55 89\n",
    "# 1. fib(100) --- I need series 100 < fibonacci series\n",
    "# Result: 0 1 1 2 3 5 8 13 21 34 55 89\n",
    "\n",
    "n = 10\n",
    "\n",
    "a = 0\n",
    "b = 1\n",
    "\n",
    "for i in range(n):\n",
    "    print(a,end =\" \")\n",
    "    a, b = b, a+b"
   ]
  },
  {
   "cell_type": "code",
   "execution_count": 30,
   "id": "88f15862-eef8-4af9-8431-3677d6be470a",
   "metadata": {},
   "outputs": [],
   "source": [
    "def fibonacci(num):\n",
    "    \n",
    "    x,y = 0, 1\n",
    "    # print(num)\n",
    "    while num > x:\n",
    "        print(\"xxx\",x)\n",
    "        print(x, end=\" \")\n",
    "        x, y = y, x + y\n",
    "        # print(x,y)\n",
    "        # print(x+y)\n",
    "\n",
    "        \n"
   ]
  },
  {
   "cell_type": "code",
   "execution_count": 31,
   "id": "9665dd89-357f-4886-8d17-3d3b7929511d",
   "metadata": {
    "scrolled": true
   },
   "outputs": [
    {
     "name": "stdout",
     "output_type": "stream",
     "text": [
      "xxx 0\n",
      "0 xxx 1\n",
      "1 xxx 1\n",
      "1 xxx 2\n",
      "2 xxx 3\n",
      "3 xxx 5\n",
      "5 xxx 8\n",
      "8 xxx 13\n",
      "13 xxx 21\n",
      "21 xxx 34\n",
      "34 xxx 55\n",
      "55 xxx 89\n",
      "89 "
     ]
    }
   ],
   "source": [
    "fibonacci(100)"
   ]
  },
  {
   "cell_type": "code",
   "execution_count": 3,
   "id": "5576e81e-a162-4d7e-824f-b2b88afbb8c2",
   "metadata": {},
   "outputs": [
    {
     "name": "stdout",
     "output_type": "stream",
     "text": [
      "0 1 1 2 3 5 8 13 21 34 55 89 144 233 377 610 987 1597 2584 4181 "
     ]
    }
   ],
   "source": [
    "def fibonacci(num):\n",
    "    x, y = 0, 1\n",
    "\n",
    "    counter = 0\n",
    "\n",
    "    while num > counter:\n",
    "        print(x, end = \" \")\n",
    "        x, y = y ,x + y\n",
    "\n",
    "        counter +=1\n",
    "\n",
    "fibonacci(20)"
   ]
  },
  {
   "cell_type": "code",
   "execution_count": 4,
   "id": "6753d767-ed22-4027-8cb2-020e5e51e646",
   "metadata": {},
   "outputs": [
    {
     "name": "stdout",
     "output_type": "stream",
     "text": [
      "[1, 2, 3, 4, 5, 12]\n"
     ]
    }
   ],
   "source": [
    "data = [1, 1, 2, 3, 4, 5, 1, 12, 1, 2, 1, 1, 2]\n",
    "\n",
    "# Using list comprehension\n",
    "unique_items = [x for i, x in enumerate(data) if x not in data[:i]]\n",
    "\n",
    "print(unique_items)\n"
   ]
  },
  {
   "cell_type": "code",
   "execution_count": 8,
   "id": "b050ff55-d9f5-44ab-af7a-dfc913ad12a7",
   "metadata": {},
   "outputs": [
    {
     "name": "stdout",
     "output_type": "stream",
     "text": [
      "0 1\n",
      "1 1\n",
      "2 2\n",
      "3 3\n",
      "4 4\n",
      "5 5\n",
      "6 1\n",
      "7 12\n",
      "8 1\n",
      "9 2\n",
      "10 1\n",
      "11 1\n",
      "12 2\n",
      "[1, 2, 3, 4, 5, 12]\n"
     ]
    }
   ],
   "source": [
    "result = []\n",
    "for i, x in enumerate(data):\n",
    "    print(i, x)\n",
    "\n",
    "    if x not in data[:i]:\n",
    "        result.append(x)\n",
    "print(result)"
   ]
  },
  {
   "cell_type": "code",
   "execution_count": 7,
   "id": "88d36a82-7947-457d-bec1-618686ff4cb4",
   "metadata": {},
   "outputs": [
    {
     "data": {
      "text/plain": [
       "[1, 2, 4, 1, 1, 1, 2]"
      ]
     },
     "execution_count": 7,
     "metadata": {},
     "output_type": "execute_result"
    }
   ],
   "source": [
    "data[::i]"
   ]
  },
  {
   "cell_type": "code",
   "execution_count": null,
   "id": "98ba756b-adcf-462f-8436-14892ec1c68d",
   "metadata": {},
   "outputs": [],
   "source": []
  }
 ],
 "metadata": {
  "kernelspec": {
   "display_name": "Python 3 (ipykernel)",
   "language": "python",
   "name": "python3"
  },
  "language_info": {
   "codemirror_mode": {
    "name": "ipython",
    "version": 3
   },
   "file_extension": ".py",
   "mimetype": "text/x-python",
   "name": "python",
   "nbconvert_exporter": "python",
   "pygments_lexer": "ipython3",
   "version": "3.10.2"
  }
 },
 "nbformat": 4,
 "nbformat_minor": 5
}
