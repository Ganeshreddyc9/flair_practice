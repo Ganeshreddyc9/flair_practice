{
 "cells": [
  {
   "cell_type": "code",
   "execution_count": 1,
   "id": "e2b30dbc-bcc5-4bef-9e90-536dd55d0582",
   "metadata": {},
   "outputs": [
    {
     "name": "stdout",
     "output_type": "stream",
     "text": [
      "[1, 2, 3, 4, 5, 12]\n"
     ]
    }
   ],
   "source": [
    "data = [1,1,2,3,4,5,1,12,1,2,1,1,2]\n",
    "# remove duplicates without using set? Try with and without a temporary list?\n",
    "\n",
    "result = []\n",
    "for i in data:\n",
    "    if i not in result:\n",
    "        result.append(i)\n",
    "\n",
    "print(result)\n",
    "        "
   ]
  },
  {
   "cell_type": "code",
   "execution_count": null,
   "id": "42fa2a46-7a6e-4b9d-9e3e-af8f8935fc55",
   "metadata": {},
   "outputs": [],
   "source": [
    "counter = 0\n",
    "\n",
    "while counter < len(data):\n",
    "    current_value = data[0]\n",
    "    val2 = current_value\n",
    "\n",
    "    \n",
    "    \n",
    "    "
   ]
  },
  {
   "cell_type": "code",
   "execution_count": null,
   "id": "1422d042-cf84-4f5c-97cf-50b6588a5f07",
   "metadata": {},
   "outputs": [],
   "source": []
  }
 ],
 "metadata": {
  "kernelspec": {
   "display_name": "Python 3 (ipykernel)",
   "language": "python",
   "name": "python3"
  },
  "language_info": {
   "codemirror_mode": {
    "name": "ipython",
    "version": 3
   },
   "file_extension": ".py",
   "mimetype": "text/x-python",
   "name": "python",
   "nbconvert_exporter": "python",
   "pygments_lexer": "ipython3",
   "version": "3.10.2"
  }
 },
 "nbformat": 4,
 "nbformat_minor": 5
}
