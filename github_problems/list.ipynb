{
 "cells": [
  {
   "cell_type": "code",
   "execution_count": 1,
   "id": "e12c8ee9-5338-49e8-b245-7f2db3352342",
   "metadata": {},
   "outputs": [
    {
     "name": "stdout",
     "output_type": "stream",
     "text": [
      "['__add__', '__class__', '__class_getitem__', '__contains__', '__delattr__', '__delitem__', '__dir__', '__doc__', '__eq__', '__format__', '__ge__', '__getattribute__', '__getitem__', '__gt__', '__hash__', '__iadd__', '__imul__', '__init__', '__init_subclass__', '__iter__', '__le__', '__len__', '__lt__', '__mul__', '__ne__', '__new__', '__reduce__', '__reduce_ex__', '__repr__', '__reversed__', '__rmul__', '__setattr__', '__setitem__', '__sizeof__', '__str__', '__subclasshook__', 'append', 'clear', 'copy', 'count', 'extend', 'index', 'insert', 'pop', 'remove', 'reverse', 'sort']\n"
     ]
    }
   ],
   "source": [
    "print(dir(list))"
   ]
  },
  {
   "cell_type": "code",
   "execution_count": 2,
   "id": "d781ed7f-0b8c-456f-ade5-29305f1747d8",
   "metadata": {},
   "outputs": [
    {
     "name": "stdout",
     "output_type": "stream",
     "text": [
      "Help on method_descriptor:\n",
      "\n",
      "index(self, value, start=0, stop=9223372036854775807, /)\n",
      "    Return first index of value.\n",
      "    \n",
      "    Raises ValueError if the value is not present.\n",
      "\n"
     ]
    }
   ],
   "source": [
    "# index()\n",
    "help(list.index)"
   ]
  },
  {
   "cell_type": "code",
   "execution_count": 3,
   "id": "1afb1d46-ccba-4c35-8bf9-cc249e335707",
   "metadata": {},
   "outputs": [],
   "source": [
    "# syntax\n",
    "\n",
    "# list.index(elements,start, end)"
   ]
  },
  {
   "cell_type": "code",
   "execution_count": 4,
   "id": "5c10c56d-c82e-4b12-8eed-e338c98d4053",
   "metadata": {},
   "outputs": [],
   "source": [
    "# index() Parameters\n",
    "# The list index() method can take a maximum of three arguments:\n",
    "# element - the element to be searched \n",
    "# start (optional) - start searching from this index\n",
    "# end (optional) - search the element up to this index"
   ]
  },
  {
   "cell_type": "code",
   "execution_count": 5,
   "id": "d40ad4b9-40cc-4cc2-9195-64d3b9c2db8f",
   "metadata": {},
   "outputs": [],
   "source": [
    "# return Value from index()\n",
    "# --the index() method returns the index of the given element in the list \n",
    "# -- if the element is not found a valueError exception is raised \n",
    "\n",
    "\n",
    "# Note:The index method return the first occurance of the matching element "
   ]
  },
  {
   "cell_type": "code",
   "execution_count": 11,
   "id": "d4543421-30a8-4d50-a04c-7aa9e9cc0a08",
   "metadata": {},
   "outputs": [],
   "source": [
    "# Example 1: Find the index of the element\n",
    "\n",
    "# vowels list\n",
    "vowels = ['a', 'e', 'i', 'o', 'i', 'u']\n",
    "\n",
    "index = vowels.index('a')\n",
    "index_1 = vowels.index('e')"
   ]
  },
  {
   "cell_type": "code",
   "execution_count": 14,
   "id": "48e8d101-e922-4685-802d-cb33d154aa9d",
   "metadata": {},
   "outputs": [
    {
     "name": "stdout",
     "output_type": "stream",
     "text": [
      "the index of a: 2\n",
      "1\n"
     ]
    }
   ],
   "source": [
    "print('the index of a:',index)\n",
    "print(index_1)"
   ]
  },
  {
   "cell_type": "code",
   "execution_count": 15,
   "id": "956cd3b8-a957-41c3-8c76-d3ab0c2bcec8",
   "metadata": {},
   "outputs": [
    {
     "name": "stdout",
     "output_type": "stream",
     "text": [
      "the index of i: 2\n"
     ]
    }
   ],
   "source": [
    "# element 'i' is searched\n",
    "# index of the first 'i' is returned\n",
    "index = vowels.index('i')\n",
    "print('the index of i:', index)"
   ]
  },
  {
   "cell_type": "code",
   "execution_count": 21,
   "id": "f1c9cb98-28b3-4f93-b2d5-b373218b4531",
   "metadata": {},
   "outputs": [
    {
     "name": "stdout",
     "output_type": "stream",
     "text": [
      "second index of i: 4\n"
     ]
    }
   ],
   "source": [
    "# to find the second i : \n",
    "index = vowels.index('i',vowels.index('i')+1)\n",
    "print('second index of i:',index)"
   ]
  },
  {
   "cell_type": "code",
   "execution_count": 22,
   "id": "a863a312-29aa-4a05-81b5-c0ed40986c5e",
   "metadata": {},
   "outputs": [
    {
     "ename": "ValueError",
     "evalue": "'z' is not in list",
     "output_type": "error",
     "traceback": [
      "\u001b[1;31m---------------------------------------------------------------------------\u001b[0m",
      "\u001b[1;31mValueError\u001b[0m                                Traceback (most recent call last)",
      "Cell \u001b[1;32mIn[22], line 6\u001b[0m\n\u001b[0;32m      1\u001b[0m \u001b[38;5;66;03m# ex:2 index of element not present in the list \u001b[39;00m\n\u001b[0;32m      2\u001b[0m \n\u001b[0;32m      3\u001b[0m \u001b[38;5;66;03m# vowels list:\u001b[39;00m\n\u001b[0;32m      4\u001b[0m vowels \u001b[38;5;241m=\u001b[39m [\u001b[38;5;124m'\u001b[39m\u001b[38;5;124ma\u001b[39m\u001b[38;5;124m'\u001b[39m,\u001b[38;5;124m'\u001b[39m\u001b[38;5;124me\u001b[39m\u001b[38;5;124m'\u001b[39m,\u001b[38;5;124m'\u001b[39m\u001b[38;5;124mi\u001b[39m\u001b[38;5;124m'\u001b[39m,\u001b[38;5;124m'\u001b[39m\u001b[38;5;124mo\u001b[39m\u001b[38;5;124m'\u001b[39m,\u001b[38;5;124m'\u001b[39m\u001b[38;5;124mu\u001b[39m\u001b[38;5;124m'\u001b[39m]\n\u001b[1;32m----> 6\u001b[0m index \u001b[38;5;241m=\u001b[39m \u001b[43mvowels\u001b[49m\u001b[38;5;241;43m.\u001b[39;49m\u001b[43mindex\u001b[49m\u001b[43m(\u001b[49m\u001b[38;5;124;43m'\u001b[39;49m\u001b[38;5;124;43mz\u001b[39;49m\u001b[38;5;124;43m'\u001b[39;49m\u001b[43m)\u001b[49m\n\u001b[0;32m      7\u001b[0m \u001b[38;5;28mprint\u001b[39m(\u001b[38;5;124m'\u001b[39m\u001b[38;5;124mindex of p:\u001b[39m\u001b[38;5;124m'\u001b[39m,index)\n",
      "\u001b[1;31mValueError\u001b[0m: 'z' is not in list"
     ]
    }
   ],
   "source": [
    "# ex:2 index of element not present in the list \n",
    "\n",
    "# vowels list:\n",
    "vowels = ['a','e','i','o','u']\n",
    "\n",
    "index = vowels.index('z')\n",
    "print('index of p:',index)"
   ]
  },
  {
   "cell_type": "code",
   "execution_count": 25,
   "id": "7bd87dbe-1d8e-4e97-851f-5718b50431f9",
   "metadata": {},
   "outputs": [
    {
     "name": "stdout",
     "output_type": "stream",
     "text": [
      "The index of e: 1\n",
      "the index of i: 6\n"
     ]
    },
    {
     "ename": "ValueError",
     "evalue": "'i' is not in list",
     "output_type": "error",
     "traceback": [
      "\u001b[1;31m---------------------------------------------------------------------------\u001b[0m",
      "\u001b[1;31mValueError\u001b[0m                                Traceback (most recent call last)",
      "Cell \u001b[1;32mIn[25], line 15\u001b[0m\n\u001b[0;32m     12\u001b[0m \u001b[38;5;28mprint\u001b[39m(\u001b[38;5;124m'\u001b[39m\u001b[38;5;124mthe index of i:\u001b[39m\u001b[38;5;124m'\u001b[39m,index)\n\u001b[0;32m     14\u001b[0m \u001b[38;5;66;03m# 'i' between 3rd and 5th index is searched\u001b[39;00m\n\u001b[1;32m---> 15\u001b[0m index \u001b[38;5;241m=\u001b[39m \u001b[43malphabets\u001b[49m\u001b[38;5;241;43m.\u001b[39;49m\u001b[43mindex\u001b[49m\u001b[43m(\u001b[49m\u001b[38;5;124;43m'\u001b[39;49m\u001b[38;5;124;43mi\u001b[39;49m\u001b[38;5;124;43m'\u001b[39;49m\u001b[43m,\u001b[49m\u001b[38;5;241;43m3\u001b[39;49m\u001b[43m,\u001b[49m\u001b[38;5;241;43m5\u001b[39;49m\u001b[43m)\u001b[49m\n\u001b[0;32m     16\u001b[0m \u001b[38;5;28mprint\u001b[39m(\u001b[38;5;124m'\u001b[39m\u001b[38;5;124mThe index of i:\u001b[39m\u001b[38;5;124m'\u001b[39m,index)\n",
      "\u001b[1;31mValueError\u001b[0m: 'i' is not in list"
     ]
    }
   ],
   "source": [
    "# Example 3: Working of index() With Start and End Parameters\n",
    "\n",
    "# alphabets list\n",
    "alphabets = ['a', 'e', 'i', 'o', 'g', 'l', 'i', 'u']\n",
    "\n",
    "# index of 'i' in alphabets \n",
    "\n",
    "index = alphabets.index('e')\n",
    "print('The index of e:',index)\n",
    "\n",
    "index = alphabets.index('i',4) \n",
    "print('the index of i:',index)\n",
    "\n",
    "# 'i' between 3rd and 5th index is searched\n",
    "index = alphabets.index('i',3,5)\n",
    "print('The index of i:',index)"
   ]
  },
  {
   "cell_type": "code",
   "execution_count": null,
   "id": "b78ef373-d34c-4aa0-9df7-14959b006599",
   "metadata": {},
   "outputs": [],
   "source": []
  },
  {
   "cell_type": "code",
   "execution_count": 28,
   "id": "8bf7e577-5bcb-4bf1-bcbd-d6b9dd332039",
   "metadata": {},
   "outputs": [],
   "source": [
    "# python list append methods\n",
    "\n",
    "# the append() method adds an item to the end of the list \n",
    "\n",
    "# syntax :\n",
    "\n",
    "# list.append(item)\n",
    "\n",
    "# append() parameters \n",
    "\n",
    "# The append() method takes a single argument \n",
    "\n",
    "\n",
    "# .item : an item to be added at the end of the list\n",
    "\n",
    "# the item can be numbers , strings , dictionaries , another list, and so on "
   ]
  },
  {
   "cell_type": "code",
   "execution_count": 29,
   "id": "de707072-2276-4b75-b2b3-5ffdec058f21",
   "metadata": {},
   "outputs": [],
   "source": [
    "# Return Value from append()\n",
    "\n",
    "# The append()  method does'nt return any value(return None)."
   ]
  },
  {
   "cell_type": "code",
   "execution_count": 31,
   "id": "97be9dc2-c27a-4cab-a998-3bcfdadbb823",
   "metadata": {},
   "outputs": [
    {
     "name": "stdout",
     "output_type": "stream",
     "text": [
      "updated animal list: ['cat', 'dog', 'rabbit', 'guinea pig']\n"
     ]
    }
   ],
   "source": [
    "\n",
    "# Example 1: Adding Element to a List\n",
    "\n",
    "# animals list\n",
    "animals = ['cat', 'dog', 'rabbit']\n",
    "\n",
    "animals.append('guinea pig')\n",
    "print(\"updated animal list:\",animals)"
   ]
  },
  {
   "cell_type": "code",
   "execution_count": null,
   "id": "43026e00-3453-4d01-a1d9-3023509e3143",
   "metadata": {},
   "outputs": [],
   "source": []
  },
  {
   "cell_type": "code",
   "execution_count": 32,
   "id": "31700036-5af6-420b-9e9a-2bdb31a43261",
   "metadata": {},
   "outputs": [
    {
     "name": "stdout",
     "output_type": "stream",
     "text": [
      "Updated animal list: ['cat', 'dog', 'rabbit', ['tiger', 'fox']]\n"
     ]
    }
   ],
   "source": [
    "# Example 2: Adding List to a List\n",
    "\n",
    "# animals list\n",
    "animals = ['cat', 'dog', 'rabbit']\n",
    "# list of wild animals\n",
    "wild_animals = ['tiger', 'fox']\n",
    "\n",
    "animals.append(wild_animals)\n",
    "\n",
    "print('Updated animal list:',animals)"
   ]
  },
  {
   "cell_type": "code",
   "execution_count": null,
   "id": "eebf0fe9-7b1d-4095-bcc3-25bb43648cbd",
   "metadata": {},
   "outputs": [],
   "source": [
    "\n"
   ]
  },
  {
   "cell_type": "code",
   "execution_count": 33,
   "id": "1367c861-f441-462f-8de1-86a20b6d8d8c",
   "metadata": {},
   "outputs": [],
   "source": [
    "# Python List extend()\n",
    "\n",
    "# The extend() method add all the elements of an iterable(list,tuple,String etc.) to the end of the list .\n",
    "\n",
    "# list.extend(iterable)\n",
    "\n",
    "# here all the elements of iterables are added to the end of the list1.\n",
    "\n",
    "# extend() parameters \n",
    "\n",
    "# As mentioned the extend method takes an iterable such as list , tuple , string etc.\n",
    "\n",
    "# Return Value from extend()\n",
    "# The extend method modifieds the original list it does'nt return any value."
   ]
  },
  {
   "cell_type": "code",
   "execution_count": 34,
   "id": "85c7ca85-33fb-4e28-a592-571c4d375e64",
   "metadata": {},
   "outputs": [
    {
     "name": "stdout",
     "output_type": "stream",
     "text": [
      "Language List: ['French', 'English', 'Spanish', 'Portuguese']\n"
     ]
    }
   ],
   "source": [
    "# Example 1: Using extend() Method\n",
    "\n",
    "# language list\n",
    "language = ['French', 'English']\n",
    "\n",
    "# another list of language\n",
    "language1 = ['Spanish', 'Portuguese']\n",
    "\n",
    "language.extend(language1)\n",
    "\n",
    "print('Language List:',language)"
   ]
  },
  {
   "cell_type": "code",
   "execution_count": 36,
   "id": "9c1dd271-66d1-4a87-9684-cf25727c4af5",
   "metadata": {},
   "outputs": [
    {
     "name": "stdout",
     "output_type": "stream",
     "text": [
      "New Language List: ['French', 'Spanish', 'Portuguese']\n",
      "New Language List: ['French', 'Spanish', 'Portuguese', 'Japanese', 'Chinese']\n"
     ]
    }
   ],
   "source": [
    "# Example 2: Add Elements of Tuple and Set to List\n",
    "\n",
    "# language list\n",
    "language = ['French']\n",
    "\n",
    "# language tuple\n",
    "language_tuple = ('Spanish', 'Portuguese')\n",
    "\n",
    "# language set\n",
    "language_set = {'Chinese', 'Japanese'}\n",
    "\n",
    "language.extend(language_tuple)\n",
    "print('New Language List:', language)\n",
    "\n",
    "language.extend(language_set)\n",
    "\n",
    "print('New Language List:', language)"
   ]
  },
  {
   "cell_type": "code",
   "execution_count": 39,
   "id": "c6f70875-f9b0-4735-9a04-041ab6c622ac",
   "metadata": {},
   "outputs": [],
   "source": [
    "# extedn taked only iterables what if we give numbers which are not iterables\n",
    "\n",
    "a = [1,2]\n",
    "b = 'hi'\n",
    "\n",
    "a.extend(b)"
   ]
  },
  {
   "cell_type": "code",
   "execution_count": 40,
   "id": "7560c2c3-8416-45db-8171-d1f5c3bdb7ad",
   "metadata": {},
   "outputs": [
    {
     "data": {
      "text/plain": [
       "[1, 2, 'h', 'i']"
      ]
     },
     "execution_count": 40,
     "metadata": {},
     "output_type": "execute_result"
    }
   ],
   "source": [
    "a"
   ]
  },
  {
   "cell_type": "code",
   "execution_count": 41,
   "id": "8113cfe8-e820-498d-98ab-c2bbea55b2e4",
   "metadata": {},
   "outputs": [
    {
     "name": "stdout",
     "output_type": "stream",
     "text": [
      "a = [1, 2, 3, 4]\n"
     ]
    }
   ],
   "source": [
    "\n",
    "# other ways to extend a list \n",
    "\n",
    "# You can also append all elements of an iterable to the list using:\n",
    "\n",
    "a = [1,2]\n",
    "b = [3,4]\n",
    "\n",
    "a+= b # a = a+b\n",
    "\n",
    "# output : [1,2,3,4]\n",
    "print('a =',a)"
   ]
  },
  {
   "cell_type": "code",
   "execution_count": 42,
   "id": "399d6a46-8619-4b60-b2ff-a7aa6adc4013",
   "metadata": {},
   "outputs": [
    {
     "name": "stdout",
     "output_type": "stream",
     "text": [
      "a = [1, 2, 3, 4]\n"
     ]
    }
   ],
   "source": [
    "# 2. the list slicing syntax\n",
    "\n",
    "a = [1, 2]\n",
    "b = [3, 4]\n",
    "\n",
    "a[len(a):] = b  # a[2:] = b\n",
    "\n",
    "# Output: [1, 2, 3, 4]\n",
    "print('a =', a)"
   ]
  },
  {
   "cell_type": "code",
   "execution_count": null,
   "id": "11a78e84-49cf-42de-a5c2-473fe29641d4",
   "metadata": {},
   "outputs": [],
   "source": []
  },
  {
   "cell_type": "code",
   "execution_count": 48,
   "id": "fbb1d773-8a1e-4569-9ee6-902c014080c8",
   "metadata": {},
   "outputs": [
    {
     "name": "stdout",
     "output_type": "stream",
     "text": [
      "extend method: [1, 2, 3, 4]\n",
      "append method: [1, 2, (3, 4)]\n"
     ]
    }
   ],
   "source": [
    "\n",
    "# Python extend() Vs append()\n",
    "\n",
    "a1 = [1,2]\n",
    "a2 = [1,2]\n",
    "b = (3,4)\n",
    "\n",
    "a1.extend(b) # [1,2,3,4]\n",
    "print('extend method:',a1)\n",
    "\n",
    "a2.append(b)\n",
    "print('append method:',a2)\n"
   ]
  },
  {
   "cell_type": "code",
   "execution_count": 49,
   "id": "11660e95-86b5-4734-94a7-b1d2fb23a381",
   "metadata": {},
   "outputs": [],
   "source": [
    "\n",
    "vowel = ['a', 'e', 'i', 'u']\n"
   ]
  },
  {
   "cell_type": "code",
   "execution_count": 50,
   "id": "6db7c2b1-687e-43f6-950f-8f3ec4a3dd6a",
   "metadata": {},
   "outputs": [
    {
     "name": "stdout",
     "output_type": "stream",
     "text": [
      "Help on built-in function insert:\n",
      "\n",
      "insert(index, object, /) method of builtins.list instance\n",
      "    Insert object before index.\n",
      "\n"
     ]
    }
   ],
   "source": [
    "help(vowels.insert)"
   ]
  },
  {
   "cell_type": "code",
   "execution_count": 51,
   "id": "0e4f6720-bed1-4315-9d18-8925dfc98538",
   "metadata": {},
   "outputs": [
    {
     "name": "stdout",
     "output_type": "stream",
     "text": [
      "Updated List: ['a', 'e', 'i', 'o', 'u']\n"
     ]
    }
   ],
   "source": [
    "vowel = ['a', 'e', 'i', 'u']\n",
    "\n",
    "# 'o' is inserted at index 3\n",
    "# the position of 'o' will be 4th\n",
    "vowel.insert(3, 'o')\n",
    "\n",
    "print('Updated List:', vowel)"
   ]
  },
  {
   "cell_type": "code",
   "execution_count": 54,
   "id": "36d5abf7-b663-4981-993d-b5faca4b8522",
   "metadata": {},
   "outputs": [
    {
     "name": "stdout",
     "output_type": "stream",
     "text": [
      "['a', 'e', 'i', 'o', 'u']\n"
     ]
    }
   ],
   "source": [
    "vowel = ['a', 'e', 'i', 'u']\n",
    "\n",
    "vowel.insert(3,'o')\n",
    "print(vowel)"
   ]
  },
  {
   "cell_type": "code",
   "execution_count": null,
   "id": "47d38bbb-dd43-4a73-badd-eed4789b7759",
   "metadata": {},
   "outputs": [],
   "source": []
  },
  {
   "cell_type": "code",
   "execution_count": 55,
   "id": "3829c6ac-0cfc-41ab-ab13-b0414ec4f5df",
   "metadata": {},
   "outputs": [
    {
     "name": "stdout",
     "output_type": "stream",
     "text": [
      "Updated List: [{1, 2}, (3, 4), [5, 6, 7]]\n"
     ]
    }
   ],
   "source": [
    "mixed_list = [{1, 2}, [5, 6, 7]]\n",
    "\n",
    "# number tuple\n",
    "number_tuple = (3, 4)\n",
    "\n",
    "# inserting a tuple to the list\n",
    "mixed_list.insert(1, number_tuple)\n",
    "\n",
    "print('Updated List:', mixed_list)"
   ]
  },
  {
   "cell_type": "code",
   "execution_count": null,
   "id": "123a406e-2cfd-4495-bed8-6d6f59d797be",
   "metadata": {},
   "outputs": [],
   "source": []
  },
  {
   "cell_type": "code",
   "execution_count": 56,
   "id": "84f3de91-eba3-43b9-9e69-5f3ac7b5499e",
   "metadata": {},
   "outputs": [],
   "source": [
    "# Python List remove()\n",
    "\n",
    "# the list remove() method removes the first element (which is passed an argument) from the list "
   ]
  },
  {
   "cell_type": "code",
   "execution_count": 57,
   "id": "5ba53383-529a-4e5d-88d7-276daa887a87",
   "metadata": {},
   "outputs": [],
   "source": [
    "# systax:\n",
    "# list.remove(element)"
   ]
  },
  {
   "cell_type": "code",
   "execution_count": 58,
   "id": "6eb6fe40-01d1-40d2-a1a5-ef54c7b1bd72",
   "metadata": {},
   "outputs": [],
   "source": [
    "# The remove() method takes a single element as an argument and removes it from the list.\n",
    "# If the element doesn't exist, it throws ValueError: list.remove(x): x not in list exception."
   ]
  },
  {
   "cell_type": "code",
   "execution_count": 59,
   "id": "111c466e-05a3-4b80-a0b1-7f9b44f0c9fd",
   "metadata": {},
   "outputs": [],
   "source": [
    "# Return Value from remove()\n",
    "# The remove() doesn't return any value (returns None)."
   ]
  },
  {
   "cell_type": "code",
   "execution_count": 60,
   "id": "3f351c89-2e03-4499-baa7-7a548cf4c7a0",
   "metadata": {},
   "outputs": [
    {
     "name": "stdout",
     "output_type": "stream",
     "text": [
      "Updated list items: ['cat', 'dog', 'guinea pig']\n"
     ]
    }
   ],
   "source": [
    "# Example 1: Remove element from the list\n",
    "\n",
    "# animals list\n",
    "animals = ['cat', 'dog', 'rabbit', 'guinea pig']\n",
    "\n",
    "# 'rabbit' is removed\n",
    "animals.remove('rabbit')\n",
    "\n",
    "print('Updated list items:',animals)"
   ]
  },
  {
   "cell_type": "code",
   "execution_count": 61,
   "id": "cfa3db4e-dd74-4d01-825b-1eb351346aa3",
   "metadata": {},
   "outputs": [
    {
     "name": "stdout",
     "output_type": "stream",
     "text": [
      "Updated animals list:  ['cat', 'dog', 'guinea pig', 'dog']\n"
     ]
    }
   ],
   "source": [
    "# Example 2: remove() method on a list having duplicate elements\n",
    "# the first matching element.\n",
    "\n",
    "animals = ['cat', 'dog', 'dog', 'guinea pig', 'dog']\n",
    "\n",
    "animals.remove('dog')\n",
    "\n",
    "print('Updated animals list: ',animals)\n",
    "\n",
    "# Here, only the first occurrence of element 'dog' is removed from the list."
   ]
  },
  {
   "cell_type": "code",
   "execution_count": 62,
   "id": "4113a65f-86ae-4fff-be9b-be651967eaf8",
   "metadata": {},
   "outputs": [
    {
     "ename": "ValueError",
     "evalue": "list.remove(x): x not in list",
     "output_type": "error",
     "traceback": [
      "\u001b[1;31m---------------------------------------------------------------------------\u001b[0m",
      "\u001b[1;31mValueError\u001b[0m                                Traceback (most recent call last)",
      "Cell \u001b[1;32mIn[62], line 7\u001b[0m\n\u001b[0;32m      4\u001b[0m animals \u001b[38;5;241m=\u001b[39m [\u001b[38;5;124m'\u001b[39m\u001b[38;5;124mcat\u001b[39m\u001b[38;5;124m'\u001b[39m, \u001b[38;5;124m'\u001b[39m\u001b[38;5;124mdog\u001b[39m\u001b[38;5;124m'\u001b[39m, \u001b[38;5;124m'\u001b[39m\u001b[38;5;124mrabbit\u001b[39m\u001b[38;5;124m'\u001b[39m, \u001b[38;5;124m'\u001b[39m\u001b[38;5;124mguinea pig\u001b[39m\u001b[38;5;124m'\u001b[39m]\n\u001b[0;32m      6\u001b[0m \u001b[38;5;66;03m# Deleting 'fish' element\u001b[39;00m\n\u001b[1;32m----> 7\u001b[0m \u001b[43manimals\u001b[49m\u001b[38;5;241;43m.\u001b[39;49m\u001b[43mremove\u001b[49m\u001b[43m(\u001b[49m\u001b[38;5;124;43m'\u001b[39;49m\u001b[38;5;124;43mfish\u001b[39;49m\u001b[38;5;124;43m'\u001b[39;49m\u001b[43m)\u001b[49m\n\u001b[0;32m      9\u001b[0m \u001b[38;5;66;03m# Updated animals List\u001b[39;00m\n\u001b[0;32m     10\u001b[0m \u001b[38;5;28mprint\u001b[39m(\u001b[38;5;124m'\u001b[39m\u001b[38;5;124mUpdated animals list: \u001b[39m\u001b[38;5;124m'\u001b[39m, animals)\n",
      "\u001b[1;31mValueError\u001b[0m: list.remove(x): x not in list"
     ]
    }
   ],
   "source": [
    "\n",
    "\n",
    "# Example 3: Deleting element that doesn't exist\n",
    "\n",
    "# animals list\n",
    "animals = ['cat', 'dog', 'rabbit', 'guinea pig']\n",
    "\n",
    "# Deleting 'fish' element\n",
    "animals.remove('fish')\n",
    "\n",
    "# Updated animals List\n",
    "print('Updated animals list: ', animals)"
   ]
  },
  {
   "cell_type": "code",
   "execution_count": 63,
   "id": "53fd11cb-55e4-473c-935a-5308add31db6",
   "metadata": {},
   "outputs": [],
   "source": [
    "# If you need to delete elements based on the index (like the fourth element), you can use the list pop() method.\n",
    "# Also, you can use the Python del statement to remove items from the list."
   ]
  },
  {
   "cell_type": "code",
   "execution_count": 64,
   "id": "5485d17f-6120-4cfa-8685-69e6031433cc",
   "metadata": {},
   "outputs": [],
   "source": [
    "# Python List count()\n",
    "# The count() method returns the number of times the specified element appears in the list.\n",
    "\n",
    "# Syntax:\n",
    "\n",
    "# list.count(element)\n",
    "\n",
    "# count() Parameters"
   ]
  },
  {
   "cell_type": "code",
   "execution_count": 65,
   "id": "0f722554-20cf-4c46-8dac-bb5e2fd99d07",
   "metadata": {},
   "outputs": [],
   "source": [
    "# The list count() method takes a single argument:\n",
    "\n",
    "# element - the element to be counted"
   ]
  },
  {
   "cell_type": "code",
   "execution_count": 66,
   "id": "38e45ed0-20e8-4899-bee0-082b154b9bd8",
   "metadata": {},
   "outputs": [],
   "source": [
    "# Return Value from count()\n",
    "# The count() method returns the number of times element appears in the list."
   ]
  },
  {
   "cell_type": "code",
   "execution_count": 69,
   "id": "d13bfeaa-e1bd-445c-a25b-0856775937ef",
   "metadata": {},
   "outputs": [
    {
     "name": "stdout",
     "output_type": "stream",
     "text": [
      "The count of i is: 2\n",
      "The count of p is: 0\n"
     ]
    }
   ],
   "source": [
    " # Example 1: Use of List count()\n",
    "\n",
    "# vowels list\n",
    "vowels = ['a', 'e', 'i', 'o', 'i', 'u']\n",
    "\n",
    "# count element 'i'\n",
    "count = vowels.count('i')\n",
    "\n",
    "# print count\n",
    "print('The count of i is:', count)\n",
    "\n",
    "count = vowels.count('p')\n",
    "\n",
    "# print count\n",
    "print('The count of p is:', count)"
   ]
  },
  {
   "cell_type": "code",
   "execution_count": 70,
   "id": "cd4b61c7-73ba-4243-a719-d5529bdc82ef",
   "metadata": {},
   "outputs": [
    {
     "name": "stdout",
     "output_type": "stream",
     "text": [
      "The count of ('a', 'b') is: 2\n",
      "The count of [3, 4] is: 1\n"
     ]
    }
   ],
   "source": [
    "# Example 2: Count Tuple and List Elements Inside List\n",
    "\n",
    "# random list\n",
    "random = ['a', ('a', 'b'), ('a', 'b'), [3, 4]]\n",
    "\n",
    "# count element ('a', 'b')\n",
    "count = random.count(('a', 'b'))\n",
    "\n",
    "# print count\n",
    "print(\"The count of ('a', 'b') is:\", count)\n",
    "\n",
    "# count element [3, 4]\n",
    "count = random.count([3, 4])\n",
    "\n",
    "# print count\n",
    "print(\"The count of [3, 4] is:\", count)"
   ]
  },
  {
   "cell_type": "code",
   "execution_count": null,
   "id": "2ca87ccd-5351-4af8-b34d-1e4bcc2fd488",
   "metadata": {},
   "outputs": [],
   "source": []
  },
  {
   "cell_type": "code",
   "execution_count": 71,
   "id": "95566919-2c7c-4aac-8301-69dafe4f612c",
   "metadata": {},
   "outputs": [],
   "source": [
    "# Python List pop()\n",
    "# The pop() method removes the item at the given index from the list and returns the removed item.\n",
    "\n",
    "# Syntax:\n",
    "\n",
    "# list.pop(index)"
   ]
  },
  {
   "cell_type": "code",
   "execution_count": 72,
   "id": "4e3a1e90-45c2-46a9-9830-897026ae43a4",
   "metadata": {},
   "outputs": [],
   "source": [
    "\n",
    "# pop() Parameters\n",
    "# The pop() method takes a single argument (index).\n",
    "# The argument passed to the method is optional. If not passed, the default index -1 is passed as an argument (index of the last item).\n",
    "# If the index passed to the method is not in range, it throws IndexError: pop index out of range exception."
   ]
  },
  {
   "cell_type": "code",
   "execution_count": 73,
   "id": "b41843a2-cd18-45ab-9563-f647576f83e9",
   "metadata": {},
   "outputs": [],
   "source": [
    "# Return Value from pop()\n",
    "# The pop() method returns the item present at the given index. This item is also removed from the list."
   ]
  },
  {
   "cell_type": "code",
   "execution_count": 78,
   "id": "9d3577fb-c0c0-4df5-b58b-c5f045dd31b3",
   "metadata": {},
   "outputs": [
    {
     "data": {
      "text/plain": [
       "1880889688304"
      ]
     },
     "execution_count": 78,
     "metadata": {},
     "output_type": "execute_result"
    }
   ],
   "source": [
    "id(1)"
   ]
  },
  {
   "cell_type": "code",
   "execution_count": 79,
   "id": "870bfe70-6e3c-4b2d-9f58-8de5969ef96c",
   "metadata": {},
   "outputs": [
    {
     "data": {
      "text/plain": [
       "1880889688304"
      ]
     },
     "execution_count": 79,
     "metadata": {},
     "output_type": "execute_result"
    }
   ],
   "source": [
    "id(1)"
   ]
  },
  {
   "cell_type": "code",
   "execution_count": 80,
   "id": "ed0f8d40-196f-442c-b6c4-ed2b8e001411",
   "metadata": {},
   "outputs": [
    {
     "data": {
      "text/plain": [
       "1881006935824"
      ]
     },
     "execution_count": 80,
     "metadata": {},
     "output_type": "execute_result"
    }
   ],
   "source": [
    "id(1.2)"
   ]
  },
  {
   "cell_type": "code",
   "execution_count": 81,
   "id": "7bab902e-693b-4631-89f6-a989938b98f0",
   "metadata": {},
   "outputs": [
    {
     "data": {
      "text/plain": [
       "1880995182800"
      ]
     },
     "execution_count": 81,
     "metadata": {},
     "output_type": "execute_result"
    }
   ],
   "source": [
    "id(1.2)"
   ]
  },
  {
   "cell_type": "code",
   "execution_count": 84,
   "id": "3c0f6c8f-37ef-4650-8d7e-2ac19f355d21",
   "metadata": {},
   "outputs": [
    {
     "data": {
      "text/plain": [
       "1880889696464"
      ]
     },
     "execution_count": 84,
     "metadata": {},
     "output_type": "execute_result"
    }
   ],
   "source": [
    "id(256)"
   ]
  },
  {
   "cell_type": "code",
   "execution_count": 85,
   "id": "50a2181c-d4f4-414a-a5f1-307955745871",
   "metadata": {},
   "outputs": [
    {
     "data": {
      "text/plain": [
       "1880889696464"
      ]
     },
     "execution_count": 85,
     "metadata": {},
     "output_type": "execute_result"
    }
   ],
   "source": [
    "id(256)"
   ]
  },
  {
   "cell_type": "code",
   "execution_count": 86,
   "id": "ffeabb41-1f98-43ea-8d60-7014ca5d9a9e",
   "metadata": {},
   "outputs": [
    {
     "data": {
      "text/plain": [
       "1880993682672"
      ]
     },
     "execution_count": 86,
     "metadata": {},
     "output_type": "execute_result"
    }
   ],
   "source": [
    "id(300)"
   ]
  },
  {
   "cell_type": "code",
   "execution_count": 87,
   "id": "3d1e7813-1889-4a8c-bc02-31fd186dfd0a",
   "metadata": {},
   "outputs": [
    {
     "data": {
      "text/plain": [
       "1880993682480"
      ]
     },
     "execution_count": 87,
     "metadata": {},
     "output_type": "execute_result"
    }
   ],
   "source": [
    "id(300)"
   ]
  },
  {
   "cell_type": "code",
   "execution_count": 88,
   "id": "b5cfb570-beb8-4576-a9f1-ebfda14d11a2",
   "metadata": {},
   "outputs": [
    {
     "name": "stdout",
     "output_type": "stream",
     "text": [
      "Return Value: French\n",
      "Updated List: ['Python', 'Java', 'C++', 'C']\n"
     ]
    }
   ],
   "source": [
    "# Example 1: Pop item at the given index from the list\n",
    "\n",
    "# programming languages list\n",
    "languages = ['Python', 'Java', 'C++', 'French', 'C']\n",
    "\n",
    "\n",
    "# remove and return the 4th item\n",
    "return_value = languages.pop(3)\n",
    "print('Return Value:', return_value)\n",
    "\n",
    "# Updated List\n",
    "print('Updated List:', languages)"
   ]
  },
  {
   "cell_type": "code",
   "execution_count": 90,
   "id": "2662ac6f-aa5e-4cf9-b1f7-e038def9fc4e",
   "metadata": {},
   "outputs": [
    {
     "name": "stdout",
     "output_type": "stream",
     "text": [
      "When index is not passed:\n",
      "Return Value: C\n",
      "Updated List: ['Python', 'Java', 'C++', 'Ruby']\n",
      "\n",
      "When -1 is passed:\n",
      "Return Value: Ruby\n",
      "Updated List: ['Python', 'Java', 'C++']\n",
      "\n",
      "When -3 is passed:\n",
      "Return Value: Python\n",
      "Updated List: ['Java', 'C++']\n"
     ]
    }
   ],
   "source": [
    "# programming languages list\n",
    "languages = ['Python', 'Java', 'C++', 'Ruby', 'C']\n",
    "\n",
    "# remove and return the last item\n",
    "print('When index is not passed:') \n",
    "print('Return Value:', languages.pop())\n",
    "print('Updated List:', languages)\n",
    "\n",
    "\n",
    "# remove and return the last item\n",
    "print('\\nWhen -1 is passed:') \n",
    "print('Return Value:', languages.pop(-1))\n",
    "print('Updated List:', languages)\n",
    "\n",
    "# remove and return the third last item\n",
    "print('\\nWhen -3 is passed:') \n",
    "print('Return Value:', languages.pop(-3))\n",
    "print('Updated List:', languages)\n"
   ]
  },
  {
   "cell_type": "code",
   "execution_count": 93,
   "id": "d40863a8-bf8b-45d7-83c5-b728720eebfa",
   "metadata": {},
   "outputs": [],
   "source": [
    "languages = ['Python', 'Java', 'C++', 'Ruby', 'C']\n",
    "\n",
    "languages.remove('Python')\n"
   ]
  },
  {
   "cell_type": "code",
   "execution_count": 95,
   "id": "5e7f064b-79df-42f7-9d16-e7b4071189fe",
   "metadata": {},
   "outputs": [
    {
     "data": {
      "text/plain": [
       "'Python'"
      ]
     },
     "execution_count": 95,
     "metadata": {},
     "output_type": "execute_result"
    }
   ],
   "source": [
    "languages = ['Python', 'Java', 'C++', 'Ruby', 'C']\n",
    "languages.pop(0)"
   ]
  },
  {
   "cell_type": "code",
   "execution_count": 96,
   "id": "5d2814c6-7bf1-4d75-b97c-b79877be85cd",
   "metadata": {},
   "outputs": [],
   "source": [
    "# Python List reverse()\n",
    "# The reverse() method reverses the elements of the list.\n",
    "\n",
    "# Syntax:\n",
    "\n",
    "# list.reverse()\n",
    "# reverse() Parameters\n",
    "# The reverse() method doesn't take any arguments.\n",
    "\n",
    "# Return Value from reverse()\n",
    "# The reverse() method doesn't return any value. It updates the existing list."
   ]
  },
  {
   "cell_type": "code",
   "execution_count": 97,
   "id": "5c7dc23a-3d6c-4da2-afa4-5016f5bdb0bc",
   "metadata": {},
   "outputs": [
    {
     "name": "stdout",
     "output_type": "stream",
     "text": [
      "Original List: ['Windows', 'macOS', 'Linux']\n",
      "Updated List: ['Linux', 'macOS', 'Windows']\n"
     ]
    }
   ],
   "source": [
    "# Example 1: Reverse a List\n",
    "\n",
    "# Operating System List\n",
    "systems = ['Windows', 'macOS', 'Linux']\n",
    "print('Original List:', systems)\n",
    "\n",
    "# List Reverse\n",
    "systems.reverse()\n",
    "\n",
    "# updated list\n",
    "print('Updated List:', systems)"
   ]
  },
  {
   "cell_type": "code",
   "execution_count": 98,
   "id": "6cc8e29c-fab5-43f4-b298-68925874ee55",
   "metadata": {},
   "outputs": [
    {
     "name": "stdout",
     "output_type": "stream",
     "text": [
      "Original List: ['Windows', 'macOS', 'Linux']\n",
      "Updated List: ['Linux', 'macOS', 'Windows']\n"
     ]
    }
   ],
   "source": [
    "# Example 2: Reverse a List Using Slicing Operator\n",
    "\n",
    "# Operating System List\n",
    "systems = ['Windows', 'macOS', 'Linux']\n",
    "print('Original List:', systems)\n",
    "\n",
    "# Reversing a list\t\n",
    "#Syntax: reversed_list = systems[start:stop:step] \n",
    "reversed_list = systems[::-1]\n",
    "\n",
    "# updated list\n",
    "print('Updated List:', reversed_list)"
   ]
  },
  {
   "cell_type": "code",
   "execution_count": 102,
   "id": "6ef5b759-23de-46ce-9152-e4943e74a789",
   "metadata": {},
   "outputs": [
    {
     "name": "stdout",
     "output_type": "stream",
     "text": [
      "Linux\n",
      "macOS\n",
      "Windows\n"
     ]
    }
   ],
   "source": [
    "# Example 3: Accessing Elements in Reversed Order\n",
    "# If you need to access individual elements of a list in the reverse order, \n",
    "# it's better to use reversed() function.\n",
    "\n",
    "# Operating System List\n",
    "systems = ['Windows', 'macOS', 'Linux']\n",
    "\n",
    "# Printing Elements in Reversed Order\n",
    "for o in reversed(systems):\n",
    "    print(o)"
   ]
  },
  {
   "cell_type": "code",
   "execution_count": null,
   "id": "1dd15542-81ba-4764-90f9-22c26f165343",
   "metadata": {},
   "outputs": [],
   "source": []
  },
  {
   "cell_type": "code",
   "execution_count": 106,
   "id": "e447b6d0-12a5-4924-b99f-79344acbbc46",
   "metadata": {},
   "outputs": [],
   "source": [
    "vowels = ['e', 'a', 'u', 'o', 'i']\n",
    "\n"
   ]
  },
  {
   "cell_type": "code",
   "execution_count": 1,
   "id": "f48f5f18-e512-405f-9519-02f38ccdb0d1",
   "metadata": {},
   "outputs": [],
   "source": [
    "a= [1,2,3]\n",
    "b = a.append('xyx')"
   ]
  },
  {
   "cell_type": "code",
   "execution_count": 2,
   "id": "041c7452-85ee-44f9-ab35-e784abb327ba",
   "metadata": {},
   "outputs": [
    {
     "data": {
      "text/plain": [
       "[1, 2, 3, 'xyx']"
      ]
     },
     "execution_count": 2,
     "metadata": {},
     "output_type": "execute_result"
    }
   ],
   "source": [
    "a"
   ]
  },
  {
   "cell_type": "code",
   "execution_count": 3,
   "id": "18b0b010-8897-4097-8b28-d0cc1f05a013",
   "metadata": {},
   "outputs": [],
   "source": [
    "b"
   ]
  },
  {
   "cell_type": "code",
   "execution_count": 4,
   "id": "d2c461f5-8c3f-4935-8f36-384308f4dc29",
   "metadata": {},
   "outputs": [
    {
     "data": {
      "text/plain": [
       "2"
      ]
     },
     "execution_count": 4,
     "metadata": {},
     "output_type": "execute_result"
    }
   ],
   "source": [
    "a.pop(1)"
   ]
  },
  {
   "cell_type": "code",
   "execution_count": 5,
   "id": "c722e68e-e9d6-43e1-9f5b-f077a063e9b2",
   "metadata": {},
   "outputs": [
    {
     "data": {
      "text/plain": [
       "\u001b[1;31mSignature:\u001b[0m \u001b[0ma\u001b[0m\u001b[1;33m.\u001b[0m\u001b[0mremove\u001b[0m\u001b[1;33m(\u001b[0m\u001b[0mvalue\u001b[0m\u001b[1;33m,\u001b[0m \u001b[1;33m/\u001b[0m\u001b[1;33m)\u001b[0m\u001b[1;33m\u001b[0m\u001b[1;33m\u001b[0m\u001b[0m\n",
       "\u001b[1;31mDocstring:\u001b[0m\n",
       "Remove first occurrence of value.\n",
       "\n",
       "Raises ValueError if the value is not present.\n",
       "\u001b[1;31mType:\u001b[0m      builtin_function_or_method"
      ]
     },
     "metadata": {},
     "output_type": "display_data"
    }
   ],
   "source": [
    "a.remove?"
   ]
  },
  {
   "cell_type": "code",
   "execution_count": 7,
   "id": "b75ccdf8-dec6-4aa3-8f2b-cd4cd38979e7",
   "metadata": {},
   "outputs": [],
   "source": [
    "a.remove(1)"
   ]
  },
  {
   "cell_type": "code",
   "execution_count": 8,
   "id": "4d3d1f33-3120-4e95-9d56-3bb0355662af",
   "metadata": {},
   "outputs": [
    {
     "data": {
      "text/plain": [
       "[3, 'xyx']"
      ]
     },
     "execution_count": 8,
     "metadata": {},
     "output_type": "execute_result"
    }
   ],
   "source": [
    "a"
   ]
  },
  {
   "cell_type": "code",
   "execution_count": 10,
   "id": "890a2cb4-cb17-49f0-80d4-a4db94c4c845",
   "metadata": {},
   "outputs": [
    {
     "name": "stdout",
     "output_type": "stream",
     "text": [
      "None\n"
     ]
    }
   ],
   "source": [
    "print(a.append(1))"
   ]
  },
  {
   "cell_type": "code",
   "execution_count": 11,
   "id": "34fb1fc6-7782-44f7-9934-d77bf6e235b8",
   "metadata": {},
   "outputs": [],
   "source": [
    "vowels = ['e', 'a', 'u', 'o', 'i']\n",
    "vowels.sort()"
   ]
  },
  {
   "cell_type": "code",
   "execution_count": 12,
   "id": "787a1b78-2e6e-4429-a104-b97ebd40fc02",
   "metadata": {},
   "outputs": [
    {
     "data": {
      "text/plain": [
       "['a', 'e', 'i', 'o', 'u']"
      ]
     },
     "execution_count": 12,
     "metadata": {},
     "output_type": "execute_result"
    }
   ],
   "source": [
    "vowels"
   ]
  },
  {
   "cell_type": "code",
   "execution_count": 13,
   "id": "6e862ecc-93f9-4bfd-bf09-cbbc0e1f9cc9",
   "metadata": {},
   "outputs": [],
   "source": [
    "vowels.sort(reverse=True)"
   ]
  },
  {
   "cell_type": "code",
   "execution_count": 14,
   "id": "5857c29e-81f1-4460-b3b4-e10f4caa7cbe",
   "metadata": {},
   "outputs": [
    {
     "data": {
      "text/plain": [
       "['u', 'o', 'i', 'e', 'a']"
      ]
     },
     "execution_count": 14,
     "metadata": {},
     "output_type": "execute_result"
    }
   ],
   "source": [
    "vowels"
   ]
  },
  {
   "cell_type": "code",
   "execution_count": 15,
   "id": "695874c0-880d-4797-9658-c0b85d4325f0",
   "metadata": {},
   "outputs": [],
   "source": [
    "# Based on the results of the key function, you can sort the given list.\n",
    "\n",
    "# list.sort(key=len)\n",
    "# Alternatively for sorted:\n",
    "# sorted(list, key=len)\n",
    "# Here, len is the Python's in-built function to count the length of an element.\n",
    "# The list is sorted based on the length of each element, from lowest count to highest."
   ]
  },
  {
   "cell_type": "code",
   "execution_count": 18,
   "id": "0d5177bb-d762-40ec-a619-5907749a97f9",
   "metadata": {},
   "outputs": [],
   "source": [
    "# tuple is sorted using its first parameter by default.\n",
    "\n",
    "# Example 3: Sort the list using key\n",
    "\n",
    "# take second element for sort\n",
    "\n",
    "def takeSecond(elem):\n",
    "    return elem[1]\n",
    "\n",
    "# random llist\n",
    "\n",
    "random = [(2, 2), (3, 4), (4, 1), (1, 3)]\n",
    "\n",
    "random.sort(key=takeSecond)"
   ]
  },
  {
   "cell_type": "code",
   "execution_count": 19,
   "id": "f7942cde-80bf-4c2f-98d5-ebe68f3c4235",
   "metadata": {},
   "outputs": [
    {
     "name": "stdout",
     "output_type": "stream",
     "text": [
      "Sorted list: [(4, 1), (2, 2), (1, 3), (3, 4)]\n"
     ]
    }
   ],
   "source": [
    "print('Sorted list:',random)"
   ]
  },
  {
   "cell_type": "code",
   "execution_count": 21,
   "id": "21bc569d-60a4-40e6-ab4e-bbadd8be474b",
   "metadata": {},
   "outputs": [
    {
     "name": "stdout",
     "output_type": "stream",
     "text": [
      "[(4, 1), (2, 2), (1, 3), (3, 4)]\n"
     ]
    }
   ],
   "source": [
    "def takeSecond(elem):\n",
    "    return elem[1]\n",
    "\n",
    "\n",
    "elem = [(2,2),(3,4),(4,1),(1,3)]\n",
    "\n",
    "elem.sort(key=takeSecond)\n",
    "\n",
    "print(elem)"
   ]
  },
  {
   "cell_type": "code",
   "execution_count": 22,
   "id": "5ce97fa5-79c4-4a5a-9c9d-282f8c4deeaf",
   "metadata": {},
   "outputs": [],
   "source": [
    "employees = [\n",
    "    {'Name': 'Alan Turing', 'age': 25, 'salary': 10000},\n",
    "    {'Name': 'Sharon Lin', 'age': 30, 'salary': 8000},\n",
    "    {'Name': 'John Hopkins', 'age': 18, 'salary': 1000},\n",
    "    {'Name': 'Mikhail Tal', 'age': 40, 'salary': 15000},\n",
    "]"
   ]
  },
  {
   "cell_type": "code",
   "execution_count": 23,
   "id": "2a0bc10c-a940-4fe3-a7d4-767a80c1f8b6",
   "metadata": {},
   "outputs": [
    {
     "name": "stdout",
     "output_type": "stream",
     "text": [
      "[{'Name': 'Alan Turing', 'age': 25, 'salary': 10000}, {'Name': 'John Hopkins', 'age': 18, 'salary': 1000}, {'Name': 'Mikhail Tal', 'age': 40, 'salary': 15000}, {'Name': 'Sharon Lin', 'age': 30, 'salary': 8000}]\n",
      "\n",
      "[{'Name': 'John Hopkins', 'age': 18, 'salary': 1000}, {'Name': 'Alan Turing', 'age': 25, 'salary': 10000}, {'Name': 'Sharon Lin', 'age': 30, 'salary': 8000}, {'Name': 'Mikhail Tal', 'age': 40, 'salary': 15000}]\n",
      "\n",
      "[{'Name': 'Mikhail Tal', 'age': 40, 'salary': 15000}, {'Name': 'Alan Turing', 'age': 25, 'salary': 10000}, {'Name': 'Sharon Lin', 'age': 30, 'salary': 8000}, {'Name': 'John Hopkins', 'age': 18, 'salary': 1000}]\n",
      "\n"
     ]
    }
   ],
   "source": [
    "def get_name(employee):\n",
    "    return employee.get('Name')\n",
    "\n",
    "\n",
    "def get_age(employee):\n",
    "    return employee.get('age')\n",
    "\n",
    "\n",
    "def get_salary(employee):\n",
    "    return employee.get('salary')\n",
    "\n",
    "# sort by name (Ascending order)\n",
    "employees.sort(key=get_name)\n",
    "print(employees, end='\\n\\n')\n",
    "\n",
    "# sort by Age (Ascending order)\n",
    "employees.sort(key=get_age)\n",
    "print(employees, end='\\n\\n')\n",
    "\n",
    "# sort by salary (Descending order)\n",
    "employees.sort(key=get_salary, reverse=True)\n",
    "print(employees, end='\\n\\n')"
   ]
  },
  {
   "cell_type": "code",
   "execution_count": 25,
   "id": "dc0f2100-c709-4401-ae7d-a391a40a79d3",
   "metadata": {},
   "outputs": [],
   "source": [
    "# It is a good practice to use the lambda function when the function can be summarized in one line. So, we can also write the above program as:"
   ]
  },
  {
   "cell_type": "code",
   "execution_count": null,
   "id": "efa3d00f-bc06-4d66-b96f-f946dbfa8712",
   "metadata": {},
   "outputs": [],
   "source": [
    "employees = [\n",
    "    {'Name': 'Alan Turing', 'age': 25, 'salary': 10000},\n",
    "    {'Name': 'Sharon Lin', 'age': 30, 'salary': 8000},\n",
    "    {'Name': 'John Hopkins', 'age': 18, 'salary': 1000},\n",
    "    {'Name': 'Mikhail Tal', 'age': 40, 'salary': 15000},\n",
    "]"
   ]
  },
  {
   "cell_type": "code",
   "execution_count": null,
   "id": "8b71841e-688d-4a5f-ac63-468e95295b27",
   "metadata": {},
   "outputs": [],
   "source": [
    "employees.sort(key=lambda x: x.get('Name'))\n",
    "print(employees,end='\\n\\n'"
   ]
  },
  {
   "cell_type": "code",
   "execution_count": null,
   "id": "268cca86-354a-454a-bbd7-fbdfded6dd38",
   "metadata": {},
   "outputs": [],
   "source": [
    "# sort by Age (Ascending order)\n",
    "employees.sort(key=lambda x: x.get('age'))\n",
    "print(employees, end='\\n\\n')"
   ]
  },
  {
   "cell_type": "code",
   "execution_count": null,
   "id": "6ec13fa8-53c1-4d18-8c79-77cd0f137574",
   "metadata": {},
   "outputs": [],
   "source": [
    "# sort by Age (Ascending order)\n",
    "employees.sort(key=lambda x: x.get('salary))\n",
    "print(employees, end='\\n\\n')"
   ]
  },
  {
   "cell_type": "code",
   "execution_count": null,
   "id": "833eeae9-c873-4cd0-b9a9-15e29b9db1a5",
   "metadata": {},
   "outputs": [],
   "source": []
  },
  {
   "cell_type": "code",
   "execution_count": null,
   "id": "729b5435-934f-4a2e-89ce-c6267bcdc496",
   "metadata": {},
   "outputs": [],
   "source": []
  },
  {
   "cell_type": "code",
   "execution_count": 29,
   "id": "4e45286d-6180-4442-89b3-04384723c12a",
   "metadata": {},
   "outputs": [
    {
     "name": "stdout",
     "output_type": "stream",
     "text": [
      "helo\n",
      "helo\n",
      "\n"
     ]
    }
   ],
   "source": [
    "print('\\nhelo\\n')"
   ]
  },
  {
   "cell_type": "code",
   "execution_count": 32,
   "id": "76642b67-06f0-4730-99bd-5ef983d99c62",
   "metadata": {},
   "outputs": [
    {
     "ename": "TypeError",
     "evalue": "can only concatenate tuple (not \"str\") to tuple",
     "output_type": "error",
     "traceback": [
      "\u001b[1;31m---------------------------------------------------------------------------\u001b[0m",
      "\u001b[1;31mTypeError\u001b[0m                                 Traceback (most recent call last)",
      "Cell \u001b[1;32mIn[32], line 4\u001b[0m\n\u001b[0;32m      1\u001b[0m a \u001b[38;5;241m=\u001b[39m (\u001b[38;5;124m'\u001b[39m\u001b[38;5;124mx\u001b[39m\u001b[38;5;124m'\u001b[39m,\u001b[38;5;124m'\u001b[39m\u001b[38;5;124ma\u001b[39m\u001b[38;5;124m'\u001b[39m,\u001b[38;5;124m'\u001b[39m\u001b[38;5;124maaa\u001b[39m\u001b[38;5;124m'\u001b[39m)\n\u001b[0;32m      2\u001b[0m c\u001b[38;5;241m=\u001b[39m \u001b[38;5;124m'\u001b[39m\u001b[38;5;124mganesh\u001b[39m\u001b[38;5;124m'\u001b[39m\n\u001b[1;32m----> 4\u001b[0m a\u001b[38;5;241m+\u001b[39m\u001b[38;5;241m=\u001b[39m c\n\u001b[0;32m      6\u001b[0m \u001b[38;5;28mprint\u001b[39m(a)\n",
      "\u001b[1;31mTypeError\u001b[0m: can only concatenate tuple (not \"str\") to tuple"
     ]
    }
   ],
   "source": [
    "a = ('x','a','aaa')\n",
    "c= 'ganesh'\n",
    "\n",
    "a+= c\n",
    "\n",
    "print(a)"
   ]
  },
  {
   "cell_type": "code",
   "execution_count": 34,
   "id": "fae11d85-f960-4f87-8115-248e53fa8d5d",
   "metadata": {},
   "outputs": [],
   "source": [
    "a = ('x','a','aaa',[1,2])\n",
    "a[3].append(3)\n"
   ]
  },
  {
   "cell_type": "code",
   "execution_count": 35,
   "id": "e030a54e-2eab-4371-9286-0c258368cd2b",
   "metadata": {},
   "outputs": [
    {
     "data": {
      "text/plain": [
       "('x', 'a', 'aaa', [1, 2, 3])"
      ]
     },
     "execution_count": 35,
     "metadata": {},
     "output_type": "execute_result"
    }
   ],
   "source": [
    "a"
   ]
  },
  {
   "cell_type": "code",
   "execution_count": 36,
   "id": "82049f19-5c39-491b-becc-8b3d835387dd",
   "metadata": {},
   "outputs": [
    {
     "ename": "TypeError",
     "evalue": "'tuple' object does not support item assignment",
     "output_type": "error",
     "traceback": [
      "\u001b[1;31m---------------------------------------------------------------------------\u001b[0m",
      "\u001b[1;31mTypeError\u001b[0m                                 Traceback (most recent call last)",
      "Cell \u001b[1;32mIn[36], line 2\u001b[0m\n\u001b[0;32m      1\u001b[0m a \u001b[38;5;241m=\u001b[39m (\u001b[38;5;124m'\u001b[39m\u001b[38;5;124mx\u001b[39m\u001b[38;5;124m'\u001b[39m,\u001b[38;5;124m'\u001b[39m\u001b[38;5;124ma\u001b[39m\u001b[38;5;124m'\u001b[39m,\u001b[38;5;124m'\u001b[39m\u001b[38;5;124maaa\u001b[39m\u001b[38;5;124m'\u001b[39m,[\u001b[38;5;241m1\u001b[39m,\u001b[38;5;241m2\u001b[39m])\n\u001b[1;32m----> 2\u001b[0m \u001b[43ma\u001b[49m\u001b[43m[\u001b[49m\u001b[38;5;241;43m3\u001b[39;49m\u001b[43m]\u001b[49m\u001b[38;5;241m=\u001b[39m\u001b[38;5;241m1\u001b[39m,\u001b[38;5;241m2\u001b[39m\n",
      "\u001b[1;31mTypeError\u001b[0m: 'tuple' object does not support item assignment"
     ]
    }
   ],
   "source": [
    "a = ('x','a','aaa',[1,2])\n",
    "a[3]=1,2"
   ]
  },
  {
   "cell_type": "code",
   "execution_count": 37,
   "id": "4dd1a633-f524-447a-bc73-086288616004",
   "metadata": {},
   "outputs": [
    {
     "data": {
      "text/plain": [
       "['x', 'a', 'aaa', [1, 2]]"
      ]
     },
     "execution_count": 37,
     "metadata": {},
     "output_type": "execute_result"
    }
   ],
   "source": [
    "list(a)"
   ]
  },
  {
   "cell_type": "code",
   "execution_count": 38,
   "id": "a00072c2-8d63-4071-a385-39b8da9a34c4",
   "metadata": {},
   "outputs": [
    {
     "data": {
      "text/plain": [
       "(1, 2)"
      ]
     },
     "execution_count": 38,
     "metadata": {},
     "output_type": "execute_result"
    }
   ],
   "source": [
    "tuple(a[3])"
   ]
  },
  {
   "cell_type": "code",
   "execution_count": 39,
   "id": "6b6bca19-398e-420a-adbd-c2e27c1c363b",
   "metadata": {},
   "outputs": [
    {
     "data": {
      "text/plain": [
       "(1, 2)"
      ]
     },
     "execution_count": 39,
     "metadata": {},
     "output_type": "execute_result"
    }
   ],
   "source": [
    "a = ('x','a','aaa',[1,2])\n",
    "tuple(a[3])"
   ]
  },
  {
   "cell_type": "code",
   "execution_count": null,
   "id": "c574b02e-35d3-43c2-94af-db4bf717c227",
   "metadata": {},
   "outputs": [],
   "source": []
  },
  {
   "cell_type": "code",
   "execution_count": null,
   "id": "2d940d7f-ef7b-44d8-ae8d-19e2976ac4e4",
   "metadata": {},
   "outputs": [],
   "source": []
  },
  {
   "cell_type": "code",
   "execution_count": 1,
   "id": "35b6e2c4-6796-4a12-922d-f8d3812cd8f3",
   "metadata": {},
   "outputs": [],
   "source": [
    "# # copy\\\n",
    "# Python List copy()\n",
    "# The copy() method returns a shallow copy of the list.\n",
    "\n",
    "# A list can be copied using the = operator. For example,"
   ]
  },
  {
   "cell_type": "code",
   "execution_count": 2,
   "id": "85283200-2c1c-4281-b403-26ac34fdba55",
   "metadata": {},
   "outputs": [
    {
     "name": "stdout",
     "output_type": "stream",
     "text": [
      "old_list: [1, 2, 3]\n",
      "new_list: [1, 2, 3]\n"
     ]
    }
   ],
   "source": [
    "old_list = [1, 2, 3]\n",
    "new_list = old_list\n",
    "print('old_list:', old_list)\n",
    "print('new_list:', new_list)"
   ]
  },
  {
   "cell_type": "code",
   "execution_count": 3,
   "id": "747c9966-be77-476a-817f-14c07a51b401",
   "metadata": {},
   "outputs": [
    {
     "data": {
      "text/plain": [
       "(1653225055936, 1653225055936)"
      ]
     },
     "execution_count": 3,
     "metadata": {},
     "output_type": "execute_result"
    }
   ],
   "source": [
    "id(old_list),id(new_list)\n"
   ]
  },
  {
   "cell_type": "code",
   "execution_count": 4,
   "id": "cffe571f-b0c8-4cd8-bd5f-a159871920ba",
   "metadata": {},
   "outputs": [],
   "source": [
    "# The problem with copying lists in this way is that \n",
    "# if you modify new_list, old_list is also modified. \n",
    "# It is because the new list is referencing or pointing to the same old_list object."
   ]
  },
  {
   "cell_type": "code",
   "execution_count": 5,
   "id": "028f977d-86e8-4a07-812d-6fabd778f76c",
   "metadata": {},
   "outputs": [
    {
     "name": "stdout",
     "output_type": "stream",
     "text": [
      "New list: [1, 2, 3, 'a']\n",
      "New list: [1, 2, 3, 'a']\n"
     ]
    }
   ],
   "source": [
    "old_list = [1,2,3]\n",
    "new_list = old_list\n",
    "\n",
    "# add an element to list\n",
    "\n",
    "new_list.append('a')\n",
    "\n",
    "print('New list:', new_list)\n",
    "print('New list:', old_list)"
   ]
  },
  {
   "cell_type": "code",
   "execution_count": 6,
   "id": "300177af-b9cf-4b1f-aa7a-b8d9c56e16a8",
   "metadata": {},
   "outputs": [],
   "source": [
    "\n",
    "# However, if you need the original list unchanged \n",
    "# when the new list is modified, you can use the copy() method.\n",
    "\n",
    "# new_list = list.copy()"
   ]
  },
  {
   "cell_type": "code",
   "execution_count": 7,
   "id": "b44577e5-f573-4532-be1b-71310ac75abe",
   "metadata": {},
   "outputs": [],
   "source": [
    "# copy() Parameters\n",
    "# The copy() method doesn't take any parameters."
   ]
  },
  {
   "cell_type": "code",
   "execution_count": 8,
   "id": "703de03c-d4d8-468a-b880-20dfdf06d751",
   "metadata": {},
   "outputs": [],
   "source": [
    "# Return Value from copy()\n",
    "# The copy() method returns a new list. It doesn't modify the original list."
   ]
  },
  {
   "cell_type": "code",
   "execution_count": 9,
   "id": "ab1dacea-27d7-4e7b-85d2-97560f0c7514",
   "metadata": {},
   "outputs": [
    {
     "name": "stdout",
     "output_type": "stream",
     "text": [
      "Copied list: ['cat', 0, 6.7]\n"
     ]
    }
   ],
   "source": [
    "# Example 1: Copying a List\n",
    "\n",
    "# mixed list\n",
    "my_list = ['cat', 0, 6.7]\n",
    "\n",
    "# copying a list \n",
    "\n",
    "new_list = my_list.copy()\n",
    "\n",
    "print('Copied list:', new_list)"
   ]
  },
  {
   "cell_type": "code",
   "execution_count": 10,
   "id": "b8d9d5c0-31ef-4641-87cc-5010d5e4c9a3",
   "metadata": {},
   "outputs": [],
   "source": [
    "# If you modify the new_list in the above example, my_list will not be modified."
   ]
  },
  {
   "cell_type": "code",
   "execution_count": 11,
   "id": "c29e1181-8101-4de2-8811-bde13181d4e6",
   "metadata": {},
   "outputs": [
    {
     "name": "stdout",
     "output_type": "stream",
     "text": [
      "Old List: ['cat', 0, 6.7]\n",
      "New List: ['cat', 0, 6.7, 'dog']\n"
     ]
    }
   ],
   "source": [
    "# Copy List Using Slicing Syntax\n",
    "\n",
    "# shallow copy using the slicing syntax\n",
    "\n",
    "list = ['cat',0,6.7]\n",
    "\n",
    "# copying a list using slicing\n",
    "\n",
    "new_list = list[::]\n",
    "\n",
    "new_list.append('dog')\n",
    "\n",
    "print('Old List:', list)\n",
    "print('New List:', new_list)"
   ]
  },
  {
   "cell_type": "code",
   "execution_count": null,
   "id": "b782f2d0-e0ce-4cb5-a6c1-cd1f04df9d16",
   "metadata": {},
   "outputs": [],
   "source": []
  },
  {
   "cell_type": "code",
   "execution_count": 12,
   "id": "37976704-2732-4083-857e-411a7a36c38d",
   "metadata": {},
   "outputs": [],
   "source": [
    "# Python List clear()\n",
    "# The clear() method removes all items from the list.\n",
    "\n",
    "# Syntax:\n",
    "\n",
    "# list.clear()\n",
    "# pop() Parameters\n",
    "# The clear() method doesn't take any parameters."
   ]
  },
  {
   "cell_type": "code",
   "execution_count": 13,
   "id": "b78133c2-cbc8-4d25-b875-baea8646aa71",
   "metadata": {},
   "outputs": [],
   "source": [
    "# Return Value from clear()\n",
    "# The clear() method only empties the given list. It doesn't return any value."
   ]
  },
  {
   "cell_type": "code",
   "execution_count": 14,
   "id": "d8353acd-30a1-4cad-9a61-8c02bdc1570e",
   "metadata": {},
   "outputs": [
    {
     "name": "stdout",
     "output_type": "stream",
     "text": [
      "List: []\n"
     ]
    }
   ],
   "source": [
    "# Defining a list\n",
    "list = [{1, 2}, ('a'), ['1.1', '2.2']]\n",
    "\n",
    "#clearing a list \n",
    "list.clear()\n",
    "\n",
    "print('List:', list)"
   ]
  },
  {
   "cell_type": "code",
   "execution_count": 15,
   "id": "f26414ff-4cdf-4332-bab1-a700354a568b",
   "metadata": {},
   "outputs": [
    {
     "name": "stdout",
     "output_type": "stream",
     "text": [
      "List: []\n"
     ]
    }
   ],
   "source": [
    "# Note: If you are using Python 2 or Python 3.2 and below, \n",
    "# you cannot use the clear() method. You can use the del operator instead.\n",
    "\n",
    "# Defining a list\n",
    "list = [{1, 2}, ('a'), ['1.1', '2.2']]\n",
    "\n",
    "#clearing a list \n",
    "\n",
    "del list[::]\n",
    "\n",
    "print('List:', list)"
   ]
  },
  {
   "cell_type": "code",
   "execution_count": 1,
   "id": "3006862e-7782-4ccc-a543-d706565212df",
   "metadata": {},
   "outputs": [
    {
     "name": "stdout",
     "output_type": "stream",
     "text": [
      "[{'Name': 'Alan Turing', 'age': 25, 'salary': 10000}, {'Name': 'John Hopkins', 'age': 18, 'salary': 1000}, {'Name': 'Mikhail Tal', 'age': 40, 'salary': 15000}, {'Name': 'Sharon Lin', 'age': 30, 'salary': 8000}] \n",
      "\n",
      "\n",
      "[{'Name': 'John Hopkins', 'age': 18, 'salary': 1000}, {'Name': 'Alan Turing', 'age': 25, 'salary': 10000}, {'Name': 'Sharon Lin', 'age': 30, 'salary': 8000}, {'Name': 'Mikhail Tal', 'age': 40, 'salary': 15000}] \n",
      "\n",
      "\n",
      "[{'Name': 'John Hopkins', 'age': 18, 'salary': 1000}, {'Name': 'Sharon Lin', 'age': 30, 'salary': 8000}, {'Name': 'Alan Turing', 'age': 25, 'salary': 10000}, {'Name': 'Mikhail Tal', 'age': 40, 'salary': 15000}] \n",
      "\n",
      "\n"
     ]
    }
   ],
   "source": [
    "employees = [\n",
    "    {'Name': 'Alan Turing', 'age': 25, 'salary': 10000},\n",
    "    {'Name': 'Sharon Lin', 'age': 30, 'salary': 8000},\n",
    "    {'Name': 'John Hopkins', 'age': 18, 'salary': 1000},\n",
    "    {'Name': 'Mikhail Tal', 'age': 40, 'salary': 15000},\n",
    "]\n",
    "\n",
    "\n",
    "def get_name(employee):\n",
    "    return employee.get('Name')\n",
    "\n",
    "def get_age(employee):\n",
    "    return employee.get('age')\n",
    "\n",
    "def get_salary(employee):\n",
    "    return employee.get('salary')\n",
    "\n",
    "\n",
    "employees.sort(key=get_name)\n",
    "print(employees,\"\\n\\n\")\n",
    "\n",
    "employees.sort(key=get_age)\n",
    "print(employees,\"\\n\\n\")\n",
    "\n",
    "employees.sort(key=get_salary)\n",
    "print(employees,\"\\n\\n\")\n"
   ]
  },
  {
   "cell_type": "code",
   "execution_count": null,
   "id": "14540327-b18e-4950-831b-4976a2296154",
   "metadata": {},
   "outputs": [],
   "source": [
    "\n"
   ]
  },
  {
   "cell_type": "code",
   "execution_count": 6,
   "id": "7bcb247e-4d01-4b00-9a95-0a13e4f97846",
   "metadata": {},
   "outputs": [
    {
     "name": "stdout",
     "output_type": "stream",
     "text": [
      "[{'Name': 'Alan Turing', 'age': 25, 'salary': 10000}, {'Name': 'John Hopkins', 'age': 18, 'salary': 1000}, {'Name': 'Mikhail Tal', 'age': 40, 'salary': 15000}, {'Name': 'Sharon Lin', 'age': 30, 'salary': 8000}]\n",
      "[{'Name': 'John Hopkins', 'age': 18, 'salary': 1000}, {'Name': 'Alan Turing', 'age': 25, 'salary': 10000}, {'Name': 'Sharon Lin', 'age': 30, 'salary': 8000}, {'Name': 'Mikhail Tal', 'age': 40, 'salary': 15000}]\n"
     ]
    }
   ],
   "source": [
    "employees = [\n",
    "    {'Name': 'Alan Turing', 'age': 25, 'salary': 10000},\n",
    "    {'Name': 'Sharon Lin', 'age': 30, 'salary': 8000},\n",
    "    {'Name': 'John Hopkins', 'age': 18, 'salary': 1000},\n",
    "    {'Name': 'Mikhail Tal', 'age': 40, 'salary': 15000},\n",
    "]\n",
    "\n",
    "\n",
    "employees.sort(key= lambda x :x.get('Name'))\n",
    "print(employees,'')\n",
    "\n",
    "\n",
    "employees.sort(key= lambda x :x.get('age'))\n",
    "print(employees)"
   ]
  },
  {
   "cell_type": "code",
   "execution_count": null,
   "id": "b77e7906-1eb5-4dba-a3dc-46bb0551306b",
   "metadata": {},
   "outputs": [],
   "source": []
  }
 ],
 "metadata": {
  "kernelspec": {
   "display_name": "Python 3 (ipykernel)",
   "language": "python",
   "name": "python3"
  },
  "language_info": {
   "codemirror_mode": {
    "name": "ipython",
    "version": 3
   },
   "file_extension": ".py",
   "mimetype": "text/x-python",
   "name": "python",
   "nbconvert_exporter": "python",
   "pygments_lexer": "ipython3",
   "version": "3.10.2"
  }
 },
 "nbformat": 4,
 "nbformat_minor": 5
}
