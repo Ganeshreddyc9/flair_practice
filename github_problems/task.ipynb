{
 "cells": [
  {
   "cell_type": "code",
   "execution_count": 1,
   "id": "8c89cd33-5869-4466-bf4d-793d3d957d21",
   "metadata": {},
   "outputs": [
    {
     "name": "stdout",
     "output_type": "stream",
     "text": [
      "[1, 2, 3, 4, 7, 11]\n"
     ]
    }
   ],
   "source": [
    "data = [1, 2, 1, 1, 1, 3, 1, 2, 4, 7, 7, 11, 7, 11]\n",
    "\n",
    "res = []\n",
    "\n",
    "for i in data:\n",
    "    if i not in res:\n",
    "        res.append(i)\n",
    "print(res)\n"
   ]
  },
  {
   "cell_type": "code",
   "execution_count": 2,
   "id": "95d12e92-8366-46de-8322-3f95b96b5bd7",
   "metadata": {},
   "outputs": [
    {
     "data": {
      "text/plain": [
       "[1, 2, 1, 1, 1, 3, 1, 2, 4, 7, 7, 11, 7, 11]"
      ]
     },
     "execution_count": 2,
     "metadata": {},
     "output_type": "execute_result"
    }
   ],
   "source": [
    "data"
   ]
  },
  {
   "cell_type": "code",
   "execution_count": 3,
   "id": "a68a4e3a-d4dd-4d37-8b2d-3de9067e8e82",
   "metadata": {},
   "outputs": [
    {
     "data": {
      "text/plain": [
       "[3, 1, 2, 4, 7, 11]"
      ]
     },
     "execution_count": 3,
     "metadata": {},
     "output_type": "execute_result"
    }
   ],
   "source": [
    "# with out temp \n",
    "\n",
    "for i in data:\n",
    "    while data.count(i) >1:\n",
    "        data.remove(i)\n",
    "\n",
    "data"
   ]
  },
  {
   "cell_type": "code",
   "execution_count": 11,
   "id": "d3f23839-2344-4a45-a6f1-8f0123132795",
   "metadata": {},
   "outputs": [],
   "source": [
    "# [3, 1, 2, 4, 7, 11]\n",
    "\n",
    "# order which we got is different and we need to get with preserving order\n",
    "\n",
    "data = [1, 2, 1, 1, 1, 3, 1, 2, 4, 7, 7, 11, 7, 11]\n",
    "\n",
    "for i in data:\n",
    "    while data.count(i) > 1:\n",
    "        data.pop(data.index(i)+1)"
   ]
  },
  {
   "cell_type": "code",
   "execution_count": 12,
   "id": "be45eb71-37c3-4b41-a76e-8f475ad79468",
   "metadata": {},
   "outputs": [
    {
     "data": {
      "text/plain": [
       "[1, 2, 4, 7, 11]"
      ]
     },
     "execution_count": 12,
     "metadata": {},
     "output_type": "execute_result"
    }
   ],
   "source": [
    "data"
   ]
  },
  {
   "cell_type": "code",
   "execution_count": null,
   "id": "43d98d06-dc73-4ad5-9e30-6bac497cb01c",
   "metadata": {},
   "outputs": [],
   "source": []
  },
  {
   "cell_type": "code",
   "execution_count": 19,
   "id": "1300742e-ceae-4047-9bb6-d6d6609e47b8",
   "metadata": {},
   "outputs": [
    {
     "name": "stdout",
     "output_type": "stream",
     "text": [
      "21: 3600\n",
      "14: 196\n",
      "35: 4500\n",
      "28: 784\n",
      "63: 7800\n",
      "175: 18500\n"
     ]
    }
   ],
   "source": [
    " # operations on multiple conditions\n",
    "\n",
    "data = [21, 14, 17, 49, 35, 50, 28, 63, 77, 175, 20, 19]\n",
    "\n",
    "# %2 and %7 -- > i * i\n",
    "# %5 and %7 --> (i+10) * 100\n",
    "# %3 and 7 -- (i +15) * 100\n",
    "\n",
    "\n",
    "for i in data:\n",
    "\n",
    "    if i % 2 == 0 and i % 7 == 0:\n",
    "        print(f\"{i}: {i * i}\")\n",
    "\n",
    "    elif i % 5 == 0 and i % 7 == 0:\n",
    "        print(f\"{i}: {(i +10) * 100}\")\n",
    "\n",
    "    elif i % 3 == 0 and i % 7 == 0:\n",
    "        print(f\"{i}: {(i +15) * 100}\")\n",
    "\n",
    "    # elif i % 7 == 0:\n",
    "        \n",
    "\n",
    "    \n",
    "        \n",
    "              \n",
    "              \n",
    "    "
   ]
  },
  {
   "cell_type": "code",
   "execution_count": 18,
   "id": "03b81ce8-d282-466c-b3cc-b80cbf80c7fe",
   "metadata": {},
   "outputs": [],
   "source": [
    "data = [1, 2, 3, 4, 5]\n",
    "\n",
    "result = []\n",
    "\n",
    "for i in data:\n",
    "    result.append((i,'even' if i % 2 == 0 else 'odd'))"
   ]
  },
  {
   "cell_type": "code",
   "execution_count": 16,
   "id": "6ea53c0d-3ff3-4020-801f-02a8870c78c5",
   "metadata": {},
   "outputs": [
    {
     "data": {
      "text/plain": [
       "[(1, 'odd'), (2, 'even'), (3, 'odd'), (4, 'even'), (5, 'odd')]"
      ]
     },
     "execution_count": 16,
     "metadata": {},
     "output_type": "execute_result"
    }
   ],
   "source": [
    "result"
   ]
  },
  {
   "cell_type": "code",
   "execution_count": null,
   "id": "1b066c7b-23cc-4d97-a491-0d7fce08c4fc",
   "metadata": {},
   "outputs": [],
   "source": []
  },
  {
   "cell_type": "code",
   "execution_count": 24,
   "id": "ad26dd37-b975-4abd-bda5-6c474b7f2e74",
   "metadata": {},
   "outputs": [],
   "source": [
    "# count : each and every character ele how many times its repeated \n",
    "\n",
    "s = \"i am in bangalore\"\n",
    "res =  {}\n",
    "for i in s:\n",
    "\n",
    "    res[i] = res.get(i, 0) +1\n",
    "    "
   ]
  },
  {
   "cell_type": "code",
   "execution_count": 25,
   "id": "9fab1c42-1590-44b0-a4d6-fa55fa24ab76",
   "metadata": {},
   "outputs": [
    {
     "name": "stdout",
     "output_type": "stream",
     "text": [
      "{'i': 2, ' ': 3, 'a': 3, 'm': 1, 'n': 2, 'b': 1, 'g': 1, 'l': 1, 'o': 1, 'r': 1, 'e': 1}\n"
     ]
    }
   ],
   "source": [
    "print(res)"
   ]
  },
  {
   "cell_type": "code",
   "execution_count": 30,
   "id": "8ed9b689-3716-4d77-ac8a-ffcba8ef3d65",
   "metadata": {},
   "outputs": [],
   "source": [
    "rs = {}\n",
    "\n",
    "for i in s:\n",
    "    if i in rs:\n",
    "        rs[i] += 1\n",
    "    else:\n",
    "        rs[i] = 1"
   ]
  },
  {
   "cell_type": "code",
   "execution_count": 32,
   "id": "c291682c-7cdc-4515-ac4b-afa974a76aca",
   "metadata": {},
   "outputs": [
    {
     "name": "stdout",
     "output_type": "stream",
     "text": [
      "{'i': 2, ' ': 3, 'a': 3, 'm': 1, 'n': 2, 'b': 1, 'g': 1, 'l': 1, 'o': 1, 'r': 1, 'e': 1}\n"
     ]
    }
   ],
   "source": [
    "print(rs)"
   ]
  },
  {
   "cell_type": "code",
   "execution_count": 33,
   "id": "824422d5-43d3-4eae-a203-1d7a3ba50be1",
   "metadata": {},
   "outputs": [],
   "source": [
    "s = \"i am in bangalore\"\n",
    "res =  {}\n",
    "for i in s:\n",
    "\n",
    "    res[i] = res.setdefault(i, 0) +1"
   ]
  },
  {
   "cell_type": "code",
   "execution_count": 34,
   "id": "a9fba2ef-6536-4d63-ada8-bec1c7d7b231",
   "metadata": {},
   "outputs": [
    {
     "name": "stdout",
     "output_type": "stream",
     "text": [
      "{'i': 2, ' ': 3, 'a': 3, 'm': 1, 'n': 2, 'b': 1, 'g': 1, 'l': 1, 'o': 1, 'r': 1, 'e': 1}\n"
     ]
    }
   ],
   "source": [
    "print(res)"
   ]
  },
  {
   "cell_type": "code",
   "execution_count": 36,
   "id": "a0040222-0db5-46f8-a342-bb8a9afe1c9c",
   "metadata": {},
   "outputs": [
    {
     "data": {
      "text/plain": [
       "0"
      ]
     },
     "execution_count": 36,
     "metadata": {},
     "output_type": "execute_result"
    }
   ],
   "source": [
    "res.setdefault(1, 0)"
   ]
  },
  {
   "cell_type": "code",
   "execution_count": 38,
   "id": "f887c944-b3fb-404d-a286-f97b178bf6d0",
   "metadata": {},
   "outputs": [
    {
     "name": "stdout",
     "output_type": "stream",
     "text": [
      "hey there\n"
     ]
    }
   ],
   "source": [
    "a = 10 \n",
    "if a <10:\n",
    "    print(\"worked\")\n",
    "if a <= 10:\n",
    "    print(\"hey there\")"
   ]
  },
  {
   "cell_type": "code",
   "execution_count": 39,
   "id": "39299b1e-f6d6-4e3e-8e66-9d165a785151",
   "metadata": {},
   "outputs": [
    {
     "name": "stdout",
     "output_type": "stream",
     "text": [
      "hey there\n"
     ]
    }
   ],
   "source": [
    "a = 10 \n",
    "if a <10:\n",
    "    print(\"worked\")\n",
    "elif a <= 10:\n",
    "    print(\"hey there\")"
   ]
  },
  {
   "cell_type": "code",
   "execution_count": 40,
   "id": "2fe4c970-1c05-4ef8-8b35-7da8d783b144",
   "metadata": {},
   "outputs": [
    {
     "name": "stdout",
     "output_type": "stream",
     "text": [
      "This will be executed because a is equal to 10\n",
      "This will also be executed because a is equal to 10\n"
     ]
    }
   ],
   "source": [
    "a = 10\n",
    "\n",
    "if a < 10:\n",
    "    print(\"This will not be executed because a is not less than 10\")\n",
    "\n",
    "if a <= 10:\n",
    "    print(\"This will be executed because a is equal to 10\")\n",
    "\n",
    "if a == 10:\n",
    "    print(\"This will also be executed because a is equal to 10\")"
   ]
  },
  {
   "cell_type": "code",
   "execution_count": null,
   "id": "776455b9-5c77-4fee-b2e1-01e65b8a4a39",
   "metadata": {},
   "outputs": [],
   "source": []
  }
 ],
 "metadata": {
  "kernelspec": {
   "display_name": "Python 3 (ipykernel)",
   "language": "python",
   "name": "python3"
  },
  "language_info": {
   "codemirror_mode": {
    "name": "ipython",
    "version": 3
   },
   "file_extension": ".py",
   "mimetype": "text/x-python",
   "name": "python",
   "nbconvert_exporter": "python",
   "pygments_lexer": "ipython3",
   "version": "3.10.2"
  }
 },
 "nbformat": 4,
 "nbformat_minor": 5
}
