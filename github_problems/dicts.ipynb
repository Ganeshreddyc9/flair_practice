{
 "cells": [
  {
   "cell_type": "code",
   "execution_count": 1,
   "id": "31028d44-8d60-4d92-9c41-e8bad41e9a91",
   "metadata": {},
   "outputs": [],
   "source": [
    "# # Python Dictionary clear()\n",
    "\n",
    "# The clear() method removes all items from the dictionary.\n",
    "\n",
    "# syntax:\n",
    "# dict.clear()\n",
    "\n",
    "# # clear() prameters\n",
    "\n",
    "# # The clear() method does'nt take any parameters \n",
    "\n",
    "# # Return valus from clear()\n",
    "\n",
    "# The clear() method doesn't return any value (returns None).\n"
   ]
  },
  {
   "cell_type": "code",
   "execution_count": 2,
   "id": "f363bfb0-3f20-40c3-80fd-897651acab89",
   "metadata": {},
   "outputs": [
    {
     "name": "stdout",
     "output_type": "stream",
     "text": [
      "before clear: {1: 'one', 2: 'two'}\n",
      "after clar: {}\n"
     ]
    }
   ],
   "source": [
    "# Example 1 : how clear() method works for dictionaries?\n",
    "\n",
    "d = {1:'one',2:'two'}\n",
    "\n",
    "print(\"before clear:\",d)\n",
    "d.clear()\n",
    "print('after clar:',d)"
   ]
  },
  {
   "cell_type": "code",
   "execution_count": 4,
   "id": "33834c53-e932-4939-9a32-3d15a1f07923",
   "metadata": {},
   "outputs": [],
   "source": [
    "# dictionary copy()\n",
    "\n",
    "# the copy method retunr shallow copy of the dictionary \n",
    "\n",
    "# Syntax:\n",
    "# dict.copy()\n",
    "\n",
    "# copy() parameters \n",
    "\n",
    "# copy() method does'nt take any parameters "
   ]
  },
  {
   "cell_type": "code",
   "execution_count": 11,
   "id": "5bbad4ff-3041-4883-95bc-b5493e5fca62",
   "metadata": {},
   "outputs": [
    {
     "name": "stdout",
     "output_type": "stream",
     "text": [
      "Orignal:  {1: 'one', 2: 'two'}\n",
      "New:  {1: 'one', 2: 'two'}\n",
      "Orignal:  {1: 'one', 2: 'two', 3: 'Three'}\n",
      "New:  {1: 'one', 2: 'two'}\n"
     ]
    }
   ],
   "source": [
    "# Example 1: How copy works for dictionaries?\n",
    "\n",
    "original = {1:'one', 2:'two'}\n",
    "new = original.copy()\n",
    "\n",
    "# new= {1:'one',2:'two'}\n",
    "\n",
    "# original[3] ='Three'\n",
    "\n",
    "print('Orignal: ', original)\n",
    "print('New: ', new)\n",
    "# \n",
    "original[3] ='Three'\n",
    "print('Orignal: ', original)\n",
    "print('New: ', new)"
   ]
  },
  {
   "cell_type": "code",
   "execution_count": 10,
   "id": "c74b2a6f-9350-4223-b79a-8b32817491a9",
   "metadata": {},
   "outputs": [
    {
     "data": {
      "text/plain": [
       "{1: 'one', 2: 'two'}"
      ]
     },
     "execution_count": 10,
     "metadata": {},
     "output_type": "execute_result"
    }
   ],
   "source": [
    "original"
   ]
  },
  {
   "cell_type": "code",
   "execution_count": 12,
   "id": "bf598a07-3e17-441b-8706-819a53403c95",
   "metadata": {},
   "outputs": [
    {
     "name": "stdout",
     "output_type": "stream",
     "text": [
      "new:  {}\n",
      "original:  {}\n"
     ]
    }
   ],
   "source": [
    "# Example 2: Using = Operator to Copy Dictionaries\n",
    "\n",
    "original = {1:'one', 2:'two'}\n",
    "new = original\n",
    "\n",
    "# removing all elements from the list\n",
    "new.clear()\n",
    "\n",
    "print('new: ', new)\n",
    "print('original: ', original)"
   ]
  },
  {
   "cell_type": "code",
   "execution_count": 13,
   "id": "b5b575da-dc9a-48f2-b751-92e9c3d4f722",
   "metadata": {},
   "outputs": [
    {
     "name": "stdout",
     "output_type": "stream",
     "text": [
      "new:  {}\n",
      "original:  {1: 'one', 2: 'two'}\n"
     ]
    }
   ],
   "source": [
    "# Example 3: Using copy() to Copy Dictionaries\n",
    "\n",
    "original = {1:'one', 2:'two'}\n",
    "new = original.copy()\n",
    "\n",
    "# removing all elements from the list\n",
    "new.clear()\n",
    "\n",
    "print('new: ', new)\n",
    "print('original: ', original)"
   ]
  },
  {
   "cell_type": "code",
   "execution_count": null,
   "id": "93084d5e-8166-4903-ab89-7f03c0a235f1",
   "metadata": {},
   "outputs": [],
   "source": []
  },
  {
   "cell_type": "code",
   "execution_count": 14,
   "id": "fccb2e69-fcd1-4ca2-bfb4-161d186647ae",
   "metadata": {},
   "outputs": [],
   "source": [
    "# # Python Dictionary fromkeys()\n",
    "\n",
    "# the fromkeys method creates a new dictionary from the given sequence of elements with a value provided\n",
    "# by user.\n",
    "\n",
    "# Syntax:\n",
    "\n",
    "# dictionary.fromkeys(sequence[,value])\n",
    "\n",
    "# fromkeys() parameters \n",
    "\n",
    "# The fromkeys() method takes two parameters\n",
    "\n",
    "# .Sequence - sequence of elements which is to be used a key for the new dictionary \n",
    "# .value (Optional) - value which is set to each element of the dictionary \n",
    "\n",
    "# Return Vlaue from fromkeys()\n",
    "\n",
    "# The fromkeys() method returns a new dictinary with the gievn sequnece of elements as the key of the dictinary\n",
    "\n",
    "# if the value argument is set each element of the newly created dictionary is set to the provided value.\n",
    "\n"
   ]
  },
  {
   "cell_type": "code",
   "execution_count": 17,
   "id": "9ec8f16f-23f6-4b67-94ee-71bb096fbd2d",
   "metadata": {},
   "outputs": [
    {
     "name": "stdout",
     "output_type": "stream",
     "text": [
      "{'e': None, 'a': None, 'u': None, 'o': None, 'i': None}\n"
     ]
    }
   ],
   "source": [
    "# Example1 :Create a dictionary from a sequence of keys \n",
    "\n",
    "# vowels keys\n",
    "keys = {'a','e','i','o','u'}\n",
    "\n",
    "vowels = dict.fromkeys(keys)\n",
    "print(vowels)"
   ]
  },
  {
   "cell_type": "code",
   "execution_count": 19,
   "id": "550e504a-83d2-4dee-a607-11db92861da0",
   "metadata": {},
   "outputs": [],
   "source": [
    "# Example 2: Create a dictionary from a sequence of keys with value\n",
    "\n",
    "# vowels keys\n",
    "keys = {'a','e','i','o','u'}\n",
    "value = 'vowel'\n",
    "\n",
    "vowels = dict.fromkeys(keys,value)"
   ]
  },
  {
   "cell_type": "code",
   "execution_count": 20,
   "id": "8dea8cc4-72c5-41a5-be50-f14b466c1859",
   "metadata": {},
   "outputs": [
    {
     "name": "stdout",
     "output_type": "stream",
     "text": [
      "{'e': 'vowel', 'a': 'vowel', 'u': 'vowel', 'o': 'vowel', 'i': 'vowel'}\n"
     ]
    }
   ],
   "source": [
    "print(vowels)"
   ]
  },
  {
   "cell_type": "code",
   "execution_count": 78,
   "id": "a2dcce60-7002-4a31-8fc6-93a5824bfb12",
   "metadata": {},
   "outputs": [
    {
     "name": "stdout",
     "output_type": "stream",
     "text": [
      "{'e': 1, 'a': 1, 'u': 1, 'o': 1, 'i': 1}\n",
      "{'e': 1, 'a': 1, 'u': 1, 'o': 1, 'i': 1}\n"
     ]
    }
   ],
   "source": [
    "# Example 3: Create a dictionary from mutable object list\n",
    "\n",
    "# vowels keys\n",
    "keys = {'a', 'e', 'i', 'o', 'u' }\n",
    "# keys = {'aeiou'}\n",
    "# value = [1]\n",
    "value = 1\n",
    "\n",
    "\n",
    "\n",
    "vowels = dict.fromkeys(keys, value)\n",
    "print(vowels)\n",
    "# print(id(vowels['a']))\n",
    "# updating the value\n",
    "# value.append(2)\n",
    "print(vowels)\n",
    "# print(id(vowels['a']))"
   ]
  },
  {
   "cell_type": "code",
   "execution_count": null,
   "id": "5c92ada6-916f-4ff9-b7f2-178fcce48e77",
   "metadata": {},
   "outputs": [],
   "source": []
  },
  {
   "cell_type": "code",
   "execution_count": 31,
   "id": "2350151d-83a0-44b7-899f-afe0c9fe56a7",
   "metadata": {},
   "outputs": [
    {
     "name": "stdout",
     "output_type": "stream",
     "text": [
      "{'e': [1], 'a': [1], 'u': [1], 'o': [1], 'i': [1]}\n",
      "{'e': [1], 'a': [1], 'u': [1], 'o': [1], 'i': [1]}\n"
     ]
    }
   ],
   "source": [
    "# dict_comprehention\n",
    "\n",
    "# vowels keys\n",
    "keys = {'a', 'e', 'i', 'o', 'u' }\n",
    "value = [1]\n",
    "\n",
    "vowels = {key : list(value) for key in keys }\n",
    "#you can also use {key:value[:] for key in keys}\n",
    "print(vowels)\n",
    "\n",
    "#updating values\n",
    "value.append(2)\n",
    "print(vowels)"
   ]
  },
  {
   "cell_type": "code",
   "execution_count": null,
   "id": "cd28595e-0021-4805-8038-14207aa9531b",
   "metadata": {},
   "outputs": [],
   "source": []
  },
  {
   "cell_type": "code",
   "execution_count": 32,
   "id": "d327e780-db2c-4a3d-abea-cfa486f9abca",
   "metadata": {},
   "outputs": [],
   "source": [
    "# python Dictionary get()\n",
    "\n",
    "# The get() method return the value for the specified key if key is in dicitonary\n",
    "\n",
    "# syntax:\n",
    "# dict.get(key[,value])\n",
    "\n",
    "# get() parameters\n",
    "\n",
    "# the get()  method takes maximum of two parameters\n",
    "# key: key to be serched in the dictionary \n",
    "# value(optional) : value to be returned.. if the key is not found .the default value is None"
   ]
  },
  {
   "cell_type": "code",
   "execution_count": 33,
   "id": "ceee8f41-0e61-402a-b599-11d534f04a62",
   "metadata": {},
   "outputs": [],
   "source": [
    "# The get() method returns:\n",
    "\n",
    "# the value for the specified key if key is in dictionary.\n",
    "# None if the key is not found and value is not specified.\n",
    "# value if the key is not found and value is specified."
   ]
  },
  {
   "cell_type": "code",
   "execution_count": 37,
   "id": "e231566f-fdde-4774-8962-47261df805b0",
   "metadata": {},
   "outputs": [
    {
     "name": "stdout",
     "output_type": "stream",
     "text": [
      "Name:  phill\n",
      "Age:  22\n",
      "Salary:  None\n",
      "Salary:  0.0\n"
     ]
    }
   ],
   "source": [
    "# Example 1: how get works for dictionaries?\n",
    "\n",
    "person = {'name':'phill','age':22}\n",
    "\n",
    "print('Name: ',person.get('name'))\n",
    "print('Age: ',person.get('age'))\n",
    "\n",
    "# value is not provided\n",
    "print('Salary: ', person.get('salary'))\n",
    "\n",
    "# value is provided \n",
    "print('Salary: ',person.get('salary',0.0))\n"
   ]
  },
  {
   "cell_type": "code",
   "execution_count": 38,
   "id": "87c7d7e3-5eb0-47cc-b268-5502ffbbf6a7",
   "metadata": {},
   "outputs": [
    {
     "data": {
      "text/plain": [
       "{'name': 'phill', 'age': 22}"
      ]
     },
     "execution_count": 38,
     "metadata": {},
     "output_type": "execute_result"
    }
   ],
   "source": [
    "person"
   ]
  },
  {
   "cell_type": "code",
   "execution_count": 39,
   "id": "fc0e43bb-954c-49ca-ae83-0a0edeff31de",
   "metadata": {},
   "outputs": [],
   "source": [
    "# Python get() method Vs dict[key] to Access Elements\n",
    "# get() method returns a default value if the key is missing."
   ]
  },
  {
   "cell_type": "code",
   "execution_count": 40,
   "id": "e42496c7-aaf0-42ee-b63e-475c1822fb00",
   "metadata": {},
   "outputs": [],
   "source": [
    "person = {'name':'phill','age':22}"
   ]
  },
  {
   "cell_type": "code",
   "execution_count": 41,
   "id": "6e2c5c1d-c784-4bd4-b6c2-a0904e2a0f94",
   "metadata": {},
   "outputs": [
    {
     "data": {
      "text/plain": [
       "'phill'"
      ]
     },
     "execution_count": 41,
     "metadata": {},
     "output_type": "execute_result"
    }
   ],
   "source": [
    "person.get('name')"
   ]
  },
  {
   "cell_type": "code",
   "execution_count": 42,
   "id": "2d1b3e7c-49ac-424d-bc3e-3a23d584d3b4",
   "metadata": {},
   "outputs": [
    {
     "data": {
      "text/plain": [
       "22"
      ]
     },
     "execution_count": 42,
     "metadata": {},
     "output_type": "execute_result"
    }
   ],
   "source": [
    "person.get('age')"
   ]
  },
  {
   "cell_type": "code",
   "execution_count": 43,
   "id": "c65a77e1-8851-4a84-af69-4f33ced4d184",
   "metadata": {},
   "outputs": [],
   "source": [
    "person.get('salary')"
   ]
  },
  {
   "cell_type": "code",
   "execution_count": 44,
   "id": "e86a5049-9043-4ac3-8f5e-0e74f1c2bb95",
   "metadata": {},
   "outputs": [
    {
     "data": {
      "text/plain": [
       "{'name': 'phill', 'age': 22}"
      ]
     },
     "execution_count": 44,
     "metadata": {},
     "output_type": "execute_result"
    }
   ],
   "source": [
    "person"
   ]
  },
  {
   "cell_type": "code",
   "execution_count": 46,
   "id": "46c14b40-4ec9-403c-8d9d-e96663ba6166",
   "metadata": {},
   "outputs": [
    {
     "name": "stdout",
     "output_type": "stream",
     "text": [
      "None\n"
     ]
    }
   ],
   "source": [
    "print(person.get('salary'))"
   ]
  },
  {
   "cell_type": "code",
   "execution_count": 47,
   "id": "a920a086-b932-45f4-9a78-7d7c37b12506",
   "metadata": {},
   "outputs": [
    {
     "data": {
      "text/plain": [
       "'phill'"
      ]
     },
     "execution_count": 47,
     "metadata": {},
     "output_type": "execute_result"
    }
   ],
   "source": [
    "person['name']"
   ]
  },
  {
   "cell_type": "code",
   "execution_count": 48,
   "id": "8e997597-5bd8-45ee-a634-128e35a2a770",
   "metadata": {},
   "outputs": [
    {
     "ename": "KeyError",
     "evalue": "'salary'",
     "output_type": "error",
     "traceback": [
      "\u001b[1;31m---------------------------------------------------------------------------\u001b[0m",
      "\u001b[1;31mKeyError\u001b[0m                                  Traceback (most recent call last)",
      "Cell \u001b[1;32mIn[48], line 1\u001b[0m\n\u001b[1;32m----> 1\u001b[0m \u001b[43mperson\u001b[49m\u001b[43m[\u001b[49m\u001b[38;5;124;43m'\u001b[39;49m\u001b[38;5;124;43msalary\u001b[39;49m\u001b[38;5;124;43m'\u001b[39;49m\u001b[43m]\u001b[49m\n",
      "\u001b[1;31mKeyError\u001b[0m: 'salary'"
     ]
    }
   ],
   "source": [
    "person['salary']"
   ]
  },
  {
   "cell_type": "code",
   "execution_count": null,
   "id": "3982aad8-e96c-469f-b370-9ffbb9a8e1ef",
   "metadata": {},
   "outputs": [],
   "source": []
  },
  {
   "cell_type": "code",
   "execution_count": 49,
   "id": "471f47a2-69ed-4462-b801-bf75bd9aa1a5",
   "metadata": {},
   "outputs": [],
   "source": [
    "# Python Dictionary items()\n",
    "\n",
    "# The items() methos returns a view obect that displays  a list of dictionarie's (key,value) tuple pairs.\n",
    "\n",
    "# syntax:\n",
    "# dictionary.itmes()"
   ]
  },
  {
   "cell_type": "code",
   "execution_count": 52,
   "id": "eb69dc07-dc33-4ed9-a9e8-874958686160",
   "metadata": {},
   "outputs": [],
   "source": [
    "# itmes() parameters\n",
    "# The items() method does'nt take  any parameter\n",
    "\n",
    "# the items() method does'nt take any parameters \n",
    "\n",
    "# Return Value from items()\n",
    "\n",
    "# The items() method returns a view object that displays a list of given dicitionary (key, value) tupe"
   ]
  },
  {
   "cell_type": "code",
   "execution_count": 53,
   "id": "fb350b57-e13d-4d16-93d7-bcc6091062c6",
   "metadata": {},
   "outputs": [
    {
     "name": "stdout",
     "output_type": "stream",
     "text": [
      "dict_items([('apple', 2), ('orange', 3), ('grapes', 4)])\n"
     ]
    }
   ],
   "source": [
    "\n",
    "# Example 1: Get all items of a dictionary with items()\n",
    "\n",
    "# random sales dictionary\n",
    "sales = { 'apple': 2, 'orange': 3, 'grapes': 4 }\n",
    "\n",
    "print(sales.items())"
   ]
  },
  {
   "cell_type": "code",
   "execution_count": 56,
   "id": "6a9f3b62-70fe-4eeb-8985-6ffe748c53fc",
   "metadata": {},
   "outputs": [
    {
     "name": "stdout",
     "output_type": "stream",
     "text": [
      "Original Items: dict_items([('apple', 2), ('orange', 3), ('grapes', 4)])\n",
      "Updated items: dict_items([('orange', 3), ('grapes', 4)])\n"
     ]
    }
   ],
   "source": [
    "# Example 2: How items() works when a dictionary is modified?\n",
    "\n",
    "# random sales dictionary\n",
    "sales = { 'apple': 2, 'orange': 3, 'grapes': 4 }\n",
    "items = sales.items()\n",
    "print('Original Items:',items)\n",
    "\n",
    "del[sales['apple']]\n",
    "print('Updated items:', items)"
   ]
  },
  {
   "cell_type": "code",
   "execution_count": 57,
   "id": "286f9f40-6b19-4278-93d5-84b62f21eb63",
   "metadata": {},
   "outputs": [],
   "source": [
    "#  The view object items doesn't itself return a list of sales items but it returns a view of sales's (key, value) pair.\n",
    "\n",
    "# If the list is updated at any time, the changes are reflected on the view object itself, as shown in the above program."
   ]
  },
  {
   "cell_type": "code",
   "execution_count": null,
   "id": "63973a3b-a474-4e5b-bdbc-92d77b4191d6",
   "metadata": {},
   "outputs": [],
   "source": []
  },
  {
   "cell_type": "code",
   "execution_count": 58,
   "id": "24122a4a-7c7e-4d2d-8dd2-893f97643add",
   "metadata": {},
   "outputs": [],
   "source": [
    "# dictionary keys()\n",
    "# python dictionary keys \n",
    "# The keys() method returns a view object that displays a list of all the keys in the dictionary\n",
    "\n",
    "# syntax:\n",
    "\n",
    "# dictionary.keys()\n",
    "\n",
    "# keys() parameters \n",
    "# The keys() method does'nt take any parameters\n",
    "\n",
    "# Return Value from keys():\n",
    "\n",
    "# The keys() method return a view object that displays a list of all keys.\n",
    "\n",
    "# when the dictionary is changes the view object also reflects these chnages "
   ]
  },
  {
   "cell_type": "code",
   "execution_count": 60,
   "id": "8afdb99c-81fb-4434-a5c3-86bef42a9dbf",
   "metadata": {},
   "outputs": [
    {
     "name": "stdout",
     "output_type": "stream",
     "text": [
      "dict_keys(['name', 'age', 'salary'])\n",
      "dict_keys([])\n"
     ]
    }
   ],
   "source": [
    "# Example 1: How keys() works?\n",
    "\n",
    "person = {'name': 'Phill', 'age': 22, 'salary': 3500.0}\n",
    "\n",
    "print(person.keys())\n",
    "\n",
    "empty_dict = {}\n",
    "print(empty_dict.keys())"
   ]
  },
  {
   "cell_type": "code",
   "execution_count": 62,
   "id": "5c633070-2942-482a-abf2-db15ea5ee3e4",
   "metadata": {},
   "outputs": [
    {
     "name": "stdout",
     "output_type": "stream",
     "text": [
      "Before dictionary is updated\n",
      "dict_keys(['name', 'age'])\n",
      "\n",
      "After dictionary is updated\n",
      "dict_keys(['name', 'age', 'salary'])\n"
     ]
    }
   ],
   "source": [
    "person = {'name': 'Phill', 'age': 22, }\n",
    "\n",
    "print('Before dictionary is updated')\n",
    "keys = person.keys()\n",
    "print(keys)\n",
    "\n",
    "# adding an element to the dictionary\n",
    "person.update({'salary':3500.0})\n",
    "print('\\nAfter dictionary is updated')\n",
    "print(keys)"
   ]
  },
  {
   "cell_type": "code",
   "execution_count": null,
   "id": "26f18e35-5ec5-4486-af67-c4455db04433",
   "metadata": {},
   "outputs": [],
   "source": []
  },
  {
   "cell_type": "code",
   "execution_count": 63,
   "id": "6b7b0a6e-dc24-4204-b76b-2d9659eaefbd",
   "metadata": {},
   "outputs": [],
   "source": [
    "# # dicitonary pop()\n",
    "\n",
    "# # The pop() method removes and returns an element from a dictionary having the given key.\n",
    "\n",
    "# pop() Parameters\n",
    "# The pop() method takes two parameters:\n",
    "\n",
    "# key - key which is to be searched for removal\n",
    "# default - value which is to be returned when the key is not in the dictionary\n"
   ]
  },
  {
   "cell_type": "code",
   "execution_count": 64,
   "id": "3786a431-60d7-4490-a73d-869b665e4044",
   "metadata": {},
   "outputs": [
    {
     "name": "stdout",
     "output_type": "stream",
     "text": [
      "The popped element is: 2\n",
      "The dictionary is: {'orange': 3, 'grapes': 4}\n"
     ]
    }
   ],
   "source": [
    "# Example 1: Pop an element from the dictionary\n",
    "\n",
    "# random sales dictionary\n",
    "sales = { 'apple': 2, 'orange': 3, 'grapes': 4 }\n",
    "element = sales.pop('apple')\n",
    "print('The popped element is:', element)\n",
    "print('The dictionary is:', sales)\n"
   ]
  },
  {
   "cell_type": "code",
   "execution_count": 65,
   "id": "90440e7f-4c82-4ac0-8d06-22510eab5724",
   "metadata": {},
   "outputs": [
    {
     "ename": "KeyError",
     "evalue": "'guvva'",
     "output_type": "error",
     "traceback": [
      "\u001b[1;31m---------------------------------------------------------------------------\u001b[0m",
      "\u001b[1;31mKeyError\u001b[0m                                  Traceback (most recent call last)",
      "Cell \u001b[1;32mIn[65], line 5\u001b[0m\n\u001b[0;32m      1\u001b[0m sales \u001b[38;5;241m=\u001b[39m { \u001b[38;5;124m'\u001b[39m\u001b[38;5;124mapple\u001b[39m\u001b[38;5;124m'\u001b[39m: \u001b[38;5;241m2\u001b[39m, \u001b[38;5;124m'\u001b[39m\u001b[38;5;124morange\u001b[39m\u001b[38;5;124m'\u001b[39m: \u001b[38;5;241m3\u001b[39m, \u001b[38;5;124m'\u001b[39m\u001b[38;5;124mgrapes\u001b[39m\u001b[38;5;124m'\u001b[39m: \u001b[38;5;241m4\u001b[39m }\n\u001b[0;32m      3\u001b[0m \u001b[38;5;66;03m# poping the key wich is not in the dict if not provide default it will throw u an error\u001b[39;00m\n\u001b[1;32m----> 5\u001b[0m \u001b[43msales\u001b[49m\u001b[38;5;241;43m.\u001b[39;49m\u001b[43mpop\u001b[49m\u001b[43m(\u001b[49m\u001b[38;5;124;43m'\u001b[39;49m\u001b[38;5;124;43mguvva\u001b[39;49m\u001b[38;5;124;43m'\u001b[39;49m\u001b[43m)\u001b[49m\n",
      "\u001b[1;31mKeyError\u001b[0m: 'guvva'"
     ]
    }
   ],
   "source": [
    "sales = { 'apple': 2, 'orange': 3, 'grapes': 4 }\n",
    "\n",
    "# poping the key wich is not in the dict if not provide default it will throw u an error\n",
    "\n",
    "sales.pop('guvva')"
   ]
  },
  {
   "cell_type": "code",
   "execution_count": 66,
   "id": "b2f6831c-42f2-41fb-a803-3b6560d1b19e",
   "metadata": {},
   "outputs": [
    {
     "data": {
      "text/plain": [
       "2"
      ]
     },
     "execution_count": 66,
     "metadata": {},
     "output_type": "execute_result"
    }
   ],
   "source": [
    "sales = { 'apple': 2, 'orange': 3, 'grapes': 4 }\n",
    "\n",
    "# poping the key wich is not in the dict if u  provide default it won'tthrow u an eror\n",
    "\n",
    "sales.pop('guvva',2)"
   ]
  },
  {
   "cell_type": "code",
   "execution_count": 67,
   "id": "d0c7496a-df2d-47df-859a-aa4f33e70164",
   "metadata": {},
   "outputs": [
    {
     "name": "stdout",
     "output_type": "stream",
     "text": [
      "The popped element is: banana\n",
      "The dictionary is: {'apple': 2, 'orange': 3, 'grapes': 4}\n"
     ]
    }
   ],
   "source": [
    "\n",
    "# random sales dictionary\n",
    "sales = { 'apple': 2, 'orange': 3, 'grapes': 4 }\n",
    "\n",
    "element = sales.pop('guava', 'banana')\n",
    "print('The popped element is:', element)\n",
    "print('The dictionary is:', sales)"
   ]
  },
  {
   "cell_type": "code",
   "execution_count": null,
   "id": "7a3642a6-625d-44ae-b254-ff920037b0cc",
   "metadata": {},
   "outputs": [],
   "source": []
  },
  {
   "cell_type": "code",
   "execution_count": 68,
   "id": "7ea3f795-9abc-4574-a017-f61b850cde93",
   "metadata": {},
   "outputs": [],
   "source": [
    "# The popitem() method removes and returns the (key, value)\n",
    "# pair from the dictionary in the Last In, First Out (LIFO) order."
   ]
  },
  {
   "cell_type": "code",
   "execution_count": 71,
   "id": "6c1ca569-d8c4-4363-96d1-c9b31cf82e32",
   "metadata": {},
   "outputs": [
    {
     "name": "stdout",
     "output_type": "stream",
     "text": [
      "Return Value =  ('profession', 'Plumber')\n",
      "person =  {'name': 'Phill', 'age': 22}\n"
     ]
    }
   ],
   "source": [
    "person = {'name': 'Phill', 'age': 22, 'salary': 3500.0}\n",
    "# ('salary', 3500.0) is inserted at the last, so it is removed.\n",
    "result = person.popitem()\n",
    "\n",
    "# inserting a new element pair\n",
    "person['profession'] = 'Plumber'\n",
    "\n",
    "# now ('profession', 'Plumber') is the latest element\n",
    "result = person.popitem()\n",
    "\n",
    "print('Return Value = ', result)\n",
    "print('person = ', person)"
   ]
  },
  {
   "cell_type": "code",
   "execution_count": 70,
   "id": "c5235e69-6484-4ccf-af1f-c5976a748850",
   "metadata": {},
   "outputs": [
    {
     "data": {
      "text/plain": [
       "{'name': 'Phill', 'age': 22}"
      ]
     },
     "execution_count": 70,
     "metadata": {},
     "output_type": "execute_result"
    }
   ],
   "source": [
    "person"
   ]
  },
  {
   "cell_type": "code",
   "execution_count": 72,
   "id": "e3018497-7732-457c-ac77-3fb4a6155df2",
   "metadata": {},
   "outputs": [
    {
     "ename": "KeyError",
     "evalue": "'popitem(): dictionary is empty'",
     "output_type": "error",
     "traceback": [
      "\u001b[1;31m---------------------------------------------------------------------------\u001b[0m",
      "\u001b[1;31mKeyError\u001b[0m                                  Traceback (most recent call last)",
      "Cell \u001b[1;32mIn[72], line 2\u001b[0m\n\u001b[0;32m      1\u001b[0m d \u001b[38;5;241m=\u001b[39m {}\n\u001b[1;32m----> 2\u001b[0m \u001b[43md\u001b[49m\u001b[38;5;241;43m.\u001b[39;49m\u001b[43mpopitem\u001b[49m\u001b[43m(\u001b[49m\u001b[43m)\u001b[49m\n",
      "\u001b[1;31mKeyError\u001b[0m: 'popitem(): dictionary is empty'"
     ]
    }
   ],
   "source": [
    "d = {}\n",
    "d.popitem()"
   ]
  },
  {
   "cell_type": "code",
   "execution_count": null,
   "id": "a95a0852-12db-47ad-a95b-0d855f79dc8b",
   "metadata": {},
   "outputs": [],
   "source": []
  },
  {
   "cell_type": "code",
   "execution_count": 79,
   "id": "5e17de53-c777-4e36-a46f-6bd6d7b79870",
   "metadata": {},
   "outputs": [],
   "source": [
    "# # set_default()\n",
    "# Python Dictionary setdefault()\n",
    "# The setdefault() method returns the value of a key (if the key is in dictionary). If not, it inserts key with a value to the dictionary.\n",
    "\n",
    "# Syntax:\n",
    "\n",
    "# dict.setdefault(key[, default_value])\n",
    "setdefault() Parameters\n",
    "# The setdefault() method takes a maximum of two parameters:\n",
    "\n",
    "# key - the key to be searched in the dictionary\n",
    "# default_value (optional) - key with a value default_value is inserted to the dictionary if the key is not in the dictionary.\n",
    "# If not provided, the default_value will be None."
   ]
  },
  {
   "cell_type": "code",
   "execution_count": 82,
   "id": "1e36fd98-03e2-4d2d-b6ba-1ec4812d1800",
   "metadata": {},
   "outputs": [
    {
     "name": "stdout",
     "output_type": "stream",
     "text": [
      "person: {'name': 'phill', 'age': 22, 'age1': 24}\n",
      "Age: 24\n"
     ]
    }
   ],
   "source": [
    "\n",
    "person = {'name':'phill' ,'age':22}\n",
    "\n",
    "age = person.setdefault('age1',24)\n",
    "print('person:',person)\n",
    "print('Age:',age)"
   ]
  },
  {
   "cell_type": "code",
   "execution_count": 15,
   "id": "0bc99914-c159-423c-bc37-60a0a9fa7d15",
   "metadata": {},
   "outputs": [
    {
     "name": "stdout",
     "output_type": "stream",
     "text": [
      "person: {'name': 'Phill', 'salary': None}\n",
      "salary None\n"
     ]
    }
   ],
   "source": [
    "# Example 2: How setdefault() works when key is not in the dictionary?\n",
    "\n",
    "person = {'name': 'Phill'}\n",
    "# key is not in the dictionary\n",
    "salary = person.setdefault('salary')\n",
    "\n",
    "print('person:',person)\n",
    "print('salary',salary)"
   ]
  },
  {
   "cell_type": "code",
   "execution_count": 19,
   "id": "990c5ed8-b506-4840-aa11-0349cd1ca9bc",
   "metadata": {},
   "outputs": [
    {
     "name": "stdout",
     "output_type": "stream",
     "text": [
      "{'name': 'Phill', 'salary': None, 'age': 25}\n"
     ]
    }
   ],
   "source": [
    "for key in person:\n",
    "    if 'age' not in key: \n",
    "        try :\n",
    "            age = person.setdefault('age',25)\n",
    "        except:\n",
    "            print(\"u get an runtime erroe\")\n",
    "print(person)        \n",
    "        "
   ]
  },
  {
   "cell_type": "code",
   "execution_count": 17,
   "id": "f24f98c4-29d8-4e98-9502-350ec4ef6dc1",
   "metadata": {},
   "outputs": [],
   "source": [
    "# print(person)"
   ]
  },
  {
   "cell_type": "code",
   "execution_count": 18,
   "id": "67896781-2524-4d96-8169-d26b2af078a3",
   "metadata": {},
   "outputs": [
    {
     "data": {
      "text/plain": [
       "{'name': 'Phill', 'salary': None, 'age': 25}"
      ]
     },
     "execution_count": 18,
     "metadata": {},
     "output_type": "execute_result"
    }
   ],
   "source": [
    "person"
   ]
  },
  {
   "cell_type": "code",
   "execution_count": null,
   "id": "b262d354-6d84-49e0-a6df-7da813a285e2",
   "metadata": {},
   "outputs": [],
   "source": []
  },
  {
   "cell_type": "code",
   "execution_count": 23,
   "id": "14cb10f3-184a-4e75-9afc-a2ee22dc6731",
   "metadata": {},
   "outputs": [
    {
     "name": "stdout",
     "output_type": "stream",
     "text": [
      "d {1: 'one', 2: 'two'}\n",
      "{1: 'one', 2: 'two', 3: 'Three'}\n"
     ]
    }
   ],
   "source": [
    "# update\n",
    "# \n",
    "d = {1:'one',2:'three'}\n",
    "d1 = {2:'two'}\n",
    "\n",
    "d.update(d1)\n",
    "print(\"d\",d)\n",
    "\n",
    "d1 = {3:\"Three\"}\n",
    "d.update(d1)\n",
    "\n",
    "print(d)"
   ]
  },
  {
   "cell_type": "code",
   "execution_count": 24,
   "id": "fce05728-2aba-4018-9569-85ddb7ff4f16",
   "metadata": {},
   "outputs": [
    {
     "name": "stdout",
     "output_type": "stream",
     "text": [
      "{1: 'one', 2: 'two', 3: 'Three'}\n"
     ]
    }
   ],
   "source": [
    "d.update(d)\n",
    "print(d)"
   ]
  },
  {
   "cell_type": "code",
   "execution_count": 26,
   "id": "de0db93c-8314-4df9-8211-2e83f6f35242",
   "metadata": {},
   "outputs": [
    {
     "name": "stdout",
     "output_type": "stream",
     "text": [
      "{'x': 2, 'y': 3, 'z': 0}\n"
     ]
    }
   ],
   "source": [
    "d = {'x':2}\n",
    "d.update(y=3 ,z=0)\n",
    "print(d)\n"
   ]
  },
  {
   "cell_type": "code",
   "execution_count": null,
   "id": "b9095410-cc56-4a6d-a9e4-3c914dccfe2d",
   "metadata": {},
   "outputs": [],
   "source": []
  },
  {
   "cell_type": "code",
   "execution_count": 27,
   "id": "5195da77-7822-4303-9021-819a8c2f2fd3",
   "metadata": {},
   "outputs": [],
   "source": [
    "# Python Dictionary values()\n",
    "\n",
    "# The values() method returns a view object that displays a list of all the values in the dictionary."
   ]
  },
  {
   "cell_type": "code",
   "execution_count": 28,
   "id": "44c0b04a-3412-4985-abd8-f78ba44a4330",
   "metadata": {},
   "outputs": [
    {
     "data": {
      "text/plain": [
       "dict_values([2, 3, 4])"
      ]
     },
     "execution_count": 28,
     "metadata": {},
     "output_type": "execute_result"
    }
   ],
   "source": [
    "sales = { 'apple': 2, 'orange': 3, 'grapes': 4 }\n",
    "\n",
    "sales.values()"
   ]
  },
  {
   "cell_type": "code",
   "execution_count": 34,
   "id": "d0cd0e08-884a-4a6e-a970-118c2fb0f6ca",
   "metadata": {},
   "outputs": [
    {
     "name": "stdout",
     "output_type": "stream",
     "text": [
      "Original items: dict_values([2, 3, 4])\n",
      "Updated items: dict_values([3, 4])\n"
     ]
    }
   ],
   "source": [
    "sales = { 'apple': 2, 'orange': 3, 'grapes': 4 }\n",
    "# sales.values()\n",
    "values = sales.values()\n",
    "print('Original items:', values)\n",
    "del[sales['apple']]\n",
    "print('Updated items:', values)"
   ]
  },
  {
   "cell_type": "code",
   "execution_count": 35,
   "id": "c5332e19-4ccf-4640-925d-e8c0d7a8eff4",
   "metadata": {},
   "outputs": [
    {
     "ename": "TypeError",
     "evalue": "unhashable type: 'list'",
     "output_type": "error",
     "traceback": [
      "\u001b[1;31m---------------------------------------------------------------------------\u001b[0m",
      "\u001b[1;31mTypeError\u001b[0m                                 Traceback (most recent call last)",
      "Cell \u001b[1;32mIn[35], line 1\u001b[0m\n\u001b[1;32m----> 1\u001b[0m {[\u001b[38;5;241m1\u001b[39m,\u001b[38;5;241m2\u001b[39m]:\u001b[38;5;124m'\u001b[39m\u001b[38;5;124mhi\u001b[39m\u001b[38;5;124m'\u001b[39m}\n",
      "\u001b[1;31mTypeError\u001b[0m: unhashable type: 'list'"
     ]
    }
   ],
   "source": [
    "{[1,2]:'hi'}"
   ]
  },
  {
   "cell_type": "code",
   "execution_count": 36,
   "id": "8f3d186a-5505-4eb5-a872-69f69589d25f",
   "metadata": {},
   "outputs": [
    {
     "data": {
      "text/plain": [
       "{(1, 2): 'hi'}"
      ]
     },
     "execution_count": 36,
     "metadata": {},
     "output_type": "execute_result"
    }
   ],
   "source": [
    "{(1,2):'hi'}"
   ]
  },
  {
   "cell_type": "code",
   "execution_count": 37,
   "id": "618d5320-f82c-4c00-8306-1ff42640b3c0",
   "metadata": {},
   "outputs": [
    {
     "ename": "TypeError",
     "evalue": "unhashable type: 'set'",
     "output_type": "error",
     "traceback": [
      "\u001b[1;31m---------------------------------------------------------------------------\u001b[0m",
      "\u001b[1;31mTypeError\u001b[0m                                 Traceback (most recent call last)",
      "Cell \u001b[1;32mIn[37], line 3\u001b[0m\n\u001b[0;32m      1\u001b[0m a \u001b[38;5;241m=\u001b[39m {\u001b[38;5;241m1\u001b[39m,\u001b[38;5;241m2\u001b[39m}\n\u001b[1;32m----> 3\u001b[0m {a:\u001b[38;5;241m1\u001b[39m}\n",
      "\u001b[1;31mTypeError\u001b[0m: unhashable type: 'set'"
     ]
    }
   ],
   "source": [
    "a = {1,2}\n",
    "\n",
    "{a:1}\n"
   ]
  },
  {
   "cell_type": "code",
   "execution_count": 38,
   "id": "0305c8de-3368-485d-8102-7882a5fdf354",
   "metadata": {},
   "outputs": [
    {
     "data": {
      "text/plain": [
       "{'hi': 1}"
      ]
     },
     "execution_count": 38,
     "metadata": {},
     "output_type": "execute_result"
    }
   ],
   "source": [
    "{'hi':1}"
   ]
  },
  {
   "cell_type": "code",
   "execution_count": 42,
   "id": "cbc0c7bd-7452-4a5d-aa88-b601ea49d39a",
   "metadata": {},
   "outputs": [
    {
     "ename": "TypeError",
     "evalue": "unhashable type: 'dict'",
     "output_type": "error",
     "traceback": [
      "\u001b[1;31m---------------------------------------------------------------------------\u001b[0m",
      "\u001b[1;31mTypeError\u001b[0m                                 Traceback (most recent call last)",
      "Cell \u001b[1;32mIn[42], line 1\u001b[0m\n\u001b[1;32m----> 1\u001b[0m \u001b[38;5;28;43mhash\u001b[39;49m\u001b[43m(\u001b[49m\u001b[43m{\u001b[49m\u001b[38;5;241;43m1\u001b[39;49m\u001b[43m:\u001b[49m\u001b[38;5;241;43m1\u001b[39;49m\u001b[43m}\u001b[49m\u001b[43m)\u001b[49m\n",
      "\u001b[1;31mTypeError\u001b[0m: unhashable type: 'dict'"
     ]
    }
   ],
   "source": []
  },
  {
   "cell_type": "code",
   "execution_count": 44,
   "id": "6dd560ed-5a58-4068-8c70-a2be29a98eb0",
   "metadata": {},
   "outputs": [],
   "source": [
    "\n",
    "# dictionary is an unordered and mutable datatype conatins key:value pairs and seperated by , and key and value seperated by :\n",
    "\n",
    "\n",
    "# key must be imuutable data type \n",
    "# value can be anything "
   ]
  },
  {
   "cell_type": "code",
   "execution_count": 46,
   "id": "8171601a-7b94-40aa-b95a-5fe9b3a1ea5b",
   "metadata": {},
   "outputs": [
    {
     "data": {
      "text/plain": [
       "-3550055125485641917"
      ]
     },
     "execution_count": 46,
     "metadata": {},
     "output_type": "execute_result"
    }
   ],
   "source": [
    "hash((1,2))"
   ]
  },
  {
   "cell_type": "code",
   "execution_count": 3,
   "id": "0860205c-c27d-452d-9bed-c740fce5f6d4",
   "metadata": {},
   "outputs": [],
   "source": [
    "d = {1:1,1:2,2:'hi'}"
   ]
  },
  {
   "cell_type": "code",
   "execution_count": 4,
   "id": "17e87fec-885d-4262-bf59-fff82a8f7ba3",
   "metadata": {},
   "outputs": [
    {
     "data": {
      "text/plain": [
       "{1: 2, 2: 'hi'}"
      ]
     },
     "execution_count": 4,
     "metadata": {},
     "output_type": "execute_result"
    }
   ],
   "source": [
    "d"
   ]
  },
  {
   "cell_type": "code",
   "execution_count": null,
   "id": "18881e44-21c9-4deb-81d9-42a9c3febf2a",
   "metadata": {},
   "outputs": [],
   "source": []
  }
 ],
 "metadata": {
  "kernelspec": {
   "display_name": "Python 3 (ipykernel)",
   "language": "python",
   "name": "python3"
  },
  "language_info": {
   "codemirror_mode": {
    "name": "ipython",
    "version": 3
   },
   "file_extension": ".py",
   "mimetype": "text/x-python",
   "name": "python",
   "nbconvert_exporter": "python",
   "pygments_lexer": "ipython3",
   "version": "3.10.2"
  }
 },
 "nbformat": 4,
 "nbformat_minor": 5
}
