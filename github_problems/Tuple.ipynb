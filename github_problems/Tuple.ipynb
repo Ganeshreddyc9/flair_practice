{
 "cells": [
  {
   "cell_type": "code",
   "execution_count": 1,
   "id": "52e1a4b7-40e7-44b9-824a-cb8648c67319",
   "metadata": {},
   "outputs": [],
   "source": [
    "# Tuple \n",
    "# significe of tuple\n",
    "\n",
    "# ','  separerated unte adhi tuple"
   ]
  },
  {
   "cell_type": "code",
   "execution_count": 2,
   "id": "ac900b02-6383-4a24-871b-1a4de64f0115",
   "metadata": {},
   "outputs": [
    {
     "data": {
      "text/plain": [
       "(1, 2)"
      ]
     },
     "execution_count": 2,
     "metadata": {},
     "output_type": "execute_result"
    }
   ],
   "source": [
    "1,2"
   ]
  },
  {
   "cell_type": "code",
   "execution_count": 3,
   "id": "8a470b4f-28c2-4c53-87ca-bb3ebded8f51",
   "metadata": {},
   "outputs": [
    {
     "name": "stdout",
     "output_type": "stream",
     "text": [
      "<class 'int'>\n"
     ]
    }
   ],
   "source": [
    "a = (1)\n",
    "print(type(a))"
   ]
  },
  {
   "cell_type": "code",
   "execution_count": 4,
   "id": "b4da3d10-045e-4921-a6f9-7fd7f88296e2",
   "metadata": {},
   "outputs": [],
   "source": [
    "# Python Tuple count()\n",
    "# The count() method returns the number of times the specified element appears in the tuple.\n",
    "\n",
    "# Syntax:\n",
    "\n",
    "# tuple.count(element)"
   ]
  },
  {
   "cell_type": "code",
   "execution_count": 5,
   "id": "8e2ad502-f17d-4601-888e-1b190a174833",
   "metadata": {},
   "outputs": [],
   "source": [
    "# Return Value from count()\n",
    "# The count() method returns the number of times element appears in the tuple."
   ]
  },
  {
   "cell_type": "code",
   "execution_count": 6,
   "id": "ef7c8205-127f-4878-9da7-9012dbf6e3cb",
   "metadata": {},
   "outputs": [
    {
     "name": "stdout",
     "output_type": "stream",
     "text": [
      "The count of i is: 2\n",
      "The count of p is: 0\n"
     ]
    }
   ],
   "source": [
    "# Example 1: Use of Tuple count()\n",
    "\n",
    "# vowels tuple\n",
    "vowels = ('a', 'e', 'i', 'o', 'i', 'u')\n",
    "\n",
    "# count element 'i'\n",
    "count = vowels.count('i')\n",
    "\n",
    "# print count\n",
    "print('The count of i is:', count)\n",
    "\n",
    "# count element 'p'\n",
    "count = vowels.count('p')\n",
    "\n",
    "# print count\n",
    "print('The count of p is:', count)"
   ]
  },
  {
   "cell_type": "code",
   "execution_count": 7,
   "id": "9aa5b26c-72bf-4152-bc6d-94bdbd29745e",
   "metadata": {},
   "outputs": [
    {
     "name": "stdout",
     "output_type": "stream",
     "text": [
      "The count of ('a', 'b') is: 2\n",
      "The count of [3, 4] is: 1\n"
     ]
    }
   ],
   "source": [
    "# Example 2: Count List and Tuple Elements Inside Tuple\n",
    "\n",
    "# random tuple\n",
    "random = ('a', ('a', 'b'), ('a', 'b'), [3, 4])\n",
    "\n",
    "# count element ('a', 'b')\n",
    "count = random.count(('a', 'b'))\n",
    "\n",
    "# print count\n",
    "print(\"The count of ('a', 'b') is:\", count)\n",
    "\n",
    "# count element [3, 4]\n",
    "count = random.count([3, 4])\n",
    "\n",
    "# print count\n",
    "print(\"The count of [3, 4] is:\", count)\n"
   ]
  },
  {
   "cell_type": "code",
   "execution_count": null,
   "id": "a1f4dfa4-6e07-4dd1-bc54-a9491485ac1f",
   "metadata": {},
   "outputs": [],
   "source": []
  },
  {
   "cell_type": "code",
   "execution_count": 8,
   "id": "37e79894-6146-4d2c-9b87-d0c1982ed630",
   "metadata": {},
   "outputs": [],
   "source": [
    "# Python Tuple index()\n",
    "# The index() method returns the index of the specified element in the tuple.\n",
    "\n",
    "# Syntax:\n",
    "\n",
    "# tuple.index(element, start, end)"
   ]
  },
  {
   "cell_type": "code",
   "execution_count": 9,
   "id": "33a5823f-f021-47c4-a217-47810568f643",
   "metadata": {},
   "outputs": [],
   "source": [
    "# index() Parameters\n",
    "# The tuple index() method can take a maximum of three arguments:\n",
    "\n",
    "# element - the element to be searched\n",
    "# start (optional) - start searching from this index\n",
    "# end (optional) - search the element up to this index"
   ]
  },
  {
   "cell_type": "code",
   "execution_count": 28,
   "id": "f65e045b-3c72-4901-9086-ed9aa646db2f",
   "metadata": {},
   "outputs": [
    {
     "name": "stdout",
     "output_type": "stream",
     "text": [
      "The index of e: 1\n",
      "The index of i: 2\n",
      "index of second i: 4\n",
      "index of second i: 5\n"
     ]
    }
   ],
   "source": [
    "# Example 1: Find the index of the element\n",
    "\n",
    "# vowels tuple\n",
    "vowels = ('a', 'e', 'i', 'o', 'i', 'i','u','i')\n",
    "\n",
    "# index of 'e' in vowels\n",
    "index = vowels.index('e')\n",
    "print('The index of e:', index)\n",
    "\n",
    "# element 'i' is searched\n",
    "index = vowels.index('i')\n",
    "\n",
    "index2 = vowels.index('i',index+1)\n",
    "\n",
    "index3 = vowels.index('i',index2+1)\n",
    "print('The index of i:', index)\n",
    "\n",
    "print(\"index of second i:\",index2)\n",
    "print(\"index of second i:\",index3)"
   ]
  },
  {
   "cell_type": "code",
   "execution_count": null,
   "id": "d81fb70b-8912-4728-a0bf-52cddefdfa0f",
   "metadata": {},
   "outputs": [],
   "source": []
  },
  {
   "cell_type": "code",
   "execution_count": 29,
   "id": "4ef8d8c3-33a8-47fe-bcfa-9113db01e883",
   "metadata": {},
   "outputs": [
    {
     "ename": "ValueError",
     "evalue": "tuple.index(x): x not in tuple",
     "output_type": "error",
     "traceback": [
      "\u001b[1;31m---------------------------------------------------------------------------\u001b[0m",
      "\u001b[1;31mValueError\u001b[0m                                Traceback (most recent call last)",
      "Cell \u001b[1;32mIn[29], line 7\u001b[0m\n\u001b[0;32m      4\u001b[0m vowels \u001b[38;5;241m=\u001b[39m (\u001b[38;5;124m'\u001b[39m\u001b[38;5;124ma\u001b[39m\u001b[38;5;124m'\u001b[39m, \u001b[38;5;124m'\u001b[39m\u001b[38;5;124me\u001b[39m\u001b[38;5;124m'\u001b[39m, \u001b[38;5;124m'\u001b[39m\u001b[38;5;124mi\u001b[39m\u001b[38;5;124m'\u001b[39m, \u001b[38;5;124m'\u001b[39m\u001b[38;5;124mo\u001b[39m\u001b[38;5;124m'\u001b[39m, \u001b[38;5;124m'\u001b[39m\u001b[38;5;124mu\u001b[39m\u001b[38;5;124m'\u001b[39m)\n\u001b[0;32m      6\u001b[0m \u001b[38;5;66;03m# index of'p' is vowels\u001b[39;00m\n\u001b[1;32m----> 7\u001b[0m index \u001b[38;5;241m=\u001b[39m \u001b[43mvowels\u001b[49m\u001b[38;5;241;43m.\u001b[39;49m\u001b[43mindex\u001b[49m\u001b[43m(\u001b[49m\u001b[38;5;124;43m'\u001b[39;49m\u001b[38;5;124;43mp\u001b[39;49m\u001b[38;5;124;43m'\u001b[39;49m\u001b[43m)\u001b[49m\n\u001b[0;32m      8\u001b[0m \u001b[38;5;28mprint\u001b[39m(\u001b[38;5;124m'\u001b[39m\u001b[38;5;124mThe index of p:\u001b[39m\u001b[38;5;124m'\u001b[39m, index)\n",
      "\u001b[1;31mValueError\u001b[0m: tuple.index(x): x not in tuple"
     ]
    }
   ],
   "source": [
    "# Example 2: Index of the Element not Present in the Tuple\n",
    "\n",
    "# vowels tuple\n",
    "vowels = ('a', 'e', 'i', 'o', 'u')\n",
    "\n",
    "# index of'p' is vowels\n",
    "index = vowels.index('p')\n",
    "print('The index of p:', index)\n"
   ]
  },
  {
   "cell_type": "code",
   "execution_count": 30,
   "id": "f3a80a1a-eadc-4209-84cc-bc1c1d96a65d",
   "metadata": {},
   "outputs": [
    {
     "name": "stdout",
     "output_type": "stream",
     "text": [
      "The index of e: 1\n",
      "The index of i: 6\n"
     ]
    },
    {
     "ename": "ValueError",
     "evalue": "tuple.index(x): x not in tuple",
     "output_type": "error",
     "traceback": [
      "\u001b[1;31m---------------------------------------------------------------------------\u001b[0m",
      "\u001b[1;31mValueError\u001b[0m                                Traceback (most recent call last)",
      "Cell \u001b[1;32mIn[30], line 15\u001b[0m\n\u001b[0;32m     12\u001b[0m \u001b[38;5;28mprint\u001b[39m(\u001b[38;5;124m'\u001b[39m\u001b[38;5;124mThe index of i:\u001b[39m\u001b[38;5;124m'\u001b[39m, index)\n\u001b[0;32m     14\u001b[0m \u001b[38;5;66;03m# 'i' between 3rd and 5th index is searched\u001b[39;00m\n\u001b[1;32m---> 15\u001b[0m index \u001b[38;5;241m=\u001b[39m \u001b[43malphabets\u001b[49m\u001b[38;5;241;43m.\u001b[39;49m\u001b[43mindex\u001b[49m\u001b[43m(\u001b[49m\u001b[38;5;124;43m'\u001b[39;49m\u001b[38;5;124;43mi\u001b[39;49m\u001b[38;5;124;43m'\u001b[39;49m\u001b[43m,\u001b[49m\u001b[43m \u001b[49m\u001b[38;5;241;43m3\u001b[39;49m\u001b[43m,\u001b[49m\u001b[43m \u001b[49m\u001b[38;5;241;43m5\u001b[39;49m\u001b[43m)\u001b[49m   \u001b[38;5;66;03m# Error!\u001b[39;00m\n\u001b[0;32m     16\u001b[0m \u001b[38;5;28mprint\u001b[39m(\u001b[38;5;124m'\u001b[39m\u001b[38;5;124mThe index of i:\u001b[39m\u001b[38;5;124m'\u001b[39m, index)\n",
      "\u001b[1;31mValueError\u001b[0m: tuple.index(x): x not in tuple"
     ]
    }
   ],
   "source": [
    "\n",
    "# Example 3: Working of index() With Start and End Parameters\n",
    "\n",
    "# alphabets tuple\n",
    "alphabets = ('a', 'e', 'i', 'o', 'g', 'l', 'i', 'u')\n",
    "\n",
    "# index of 'i' in alphabets\n",
    "index = alphabets.index('e')   # 1\n",
    "print('The index of e:', index)\n",
    "\n",
    "# 'i' after the 4th index is searched\n",
    "index = alphabets.index('i', 4)   # 6\n",
    "print('The index of i:', index)\n",
    "\n",
    "# 'i' between 3rd and 5th index is searched\n",
    "index = alphabets.index('i', 3, 5)   # Error!\n",
    "print('The index of i:', index)"
   ]
  },
  {
   "cell_type": "code",
   "execution_count": null,
   "id": "e86c49ef-526e-4f84-bdf7-6e5b7d69dd54",
   "metadata": {},
   "outputs": [],
   "source": []
  }
 ],
 "metadata": {
  "kernelspec": {
   "display_name": "Python 3 (ipykernel)",
   "language": "python",
   "name": "python3"
  },
  "language_info": {
   "codemirror_mode": {
    "name": "ipython",
    "version": 3
   },
   "file_extension": ".py",
   "mimetype": "text/x-python",
   "name": "python",
   "nbconvert_exporter": "python",
   "pygments_lexer": "ipython3",
   "version": "3.10.2"
  }
 },
 "nbformat": 4,
 "nbformat_minor": 5
}
