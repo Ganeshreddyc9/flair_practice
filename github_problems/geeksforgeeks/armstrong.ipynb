{
 "cells": [
  {
   "cell_type": "code",
   "execution_count": 1,
   "id": "9a79e5e7-6370-4a78-a320-d8d0effd171a",
   "metadata": {},
   "outputs": [],
   "source": [
    "# Input : 153\n",
    "# Output : Yes\n",
    "# 153 is an Armstrong number.\n",
    "# 1*1*1 + 5*5*5 + 3*3*3 = 153\n",
    "\n",
    "# Input : 120\n",
    "# Output : No\n",
    "# 120 is not a Armstrong number.\n",
    "# 1*1*1 + 2*2*2 + 0*0*0 = 9"
   ]
  },
  {
   "cell_type": "code",
   "execution_count": 3,
   "id": "31d8b3e4-3a91-4108-98c5-613f0344aea9",
   "metadata": {},
   "outputs": [
    {
     "name": "stdin",
     "output_type": "stream",
     "text": [
      "enter the number to check armstrng: 120\n"
     ]
    },
    {
     "name": "stdout",
     "output_type": "stream",
     "text": [
      "Given number 120 is not an  armstrong number\n"
     ]
    }
   ],
   "source": [
    "n = int(input(\"enter the number to check armstrng:\"))\n",
    "s = n\n",
    "b = len(str(n))\n",
    "\n",
    "sum1 = 0\n",
    "\n",
    "while n != 0:\n",
    "    r = n % 10\n",
    "    sum1 += r**b\n",
    "    n //= 10\n",
    "\n",
    "if s == sum1:\n",
    "    print(f\"Given number {s} is an  armstrong number\")\n",
    "else:\n",
    "    print(f\"Given number {s} is not an  armstrong number\")\n",
    "\n"
   ]
  },
  {
   "cell_type": "code",
   "execution_count": null,
   "id": "265be30b-377b-4de6-b62e-0f07e57ffb90",
   "metadata": {},
   "outputs": [],
   "source": []
  },
  {
   "cell_type": "code",
   "execution_count": 30,
   "id": "653ebcfd-27c8-4989-a17c-cd56b6d5df62",
   "metadata": {},
   "outputs": [],
   "source": [
    "def is_armstrong(num):\n",
    "    digits = []\n",
    "    source = num\n",
    "    length = 0\n",
    "    # print(num)\n",
    "    while num > 0:\n",
    "        digits.append(num % 10)\n",
    "        num //= 10\n",
    "        length += 1\n",
    "        # print(num,\",,,,,,,,,,,\")\n",
    "    result = 0\n",
    "    for i in digits:\n",
    "        result += i ** length\n",
    "    return result == source\n",
    "# num = 153\n",
    "\n",
    "\n",
    "        \n",
    "    "
   ]
  },
  {
   "cell_type": "code",
   "execution_count": 31,
   "id": "4d450a8a-1d11-46c4-85ea-3b4ee24d853c",
   "metadata": {},
   "outputs": [
    {
     "data": {
      "text/plain": [
       "(True, False)"
      ]
     },
     "execution_count": 31,
     "metadata": {},
     "output_type": "execute_result"
    }
   ],
   "source": [
    "(is_armstrong(153)), (is_armstrong(120))"
   ]
  },
  {
   "cell_type": "code",
   "execution_count": 33,
   "id": "ff5b4590-183d-44a2-b44a-330cc6cd221e",
   "metadata": {},
   "outputs": [
    {
     "name": "stdout",
     "output_type": "stream",
     "text": [
      "0,1,2,3,4,5,6,7,8,9,153,370,371,407,1634,8208,9474,"
     ]
    }
   ],
   "source": [
    "for i in range(10000):\n",
    "    \n",
    "  is_am = is_armstrong(i)\n",
    "  if is_am:\n",
    "      print(i,end=\",\")\n",
    "# for i in range(10000):\n",
    "#     is_am = is_armstrong(i)\n",
    "#     if is_am:\n",
    "#         print(i,\"...\")"
   ]
  },
  {
   "cell_type": "code",
   "execution_count": null,
   "id": "5ea81f28-f733-4bff-ab3f-46a53768e4c4",
   "metadata": {},
   "outputs": [],
   "source": []
  },
  {
   "cell_type": "code",
   "execution_count": 34,
   "id": "26ea6198-16ef-4c4a-9cd5-7b4f5efb8e66",
   "metadata": {},
   "outputs": [],
   "source": [
    "data = {\n",
    "\"key1\": {\"key11\": {\"key111\": {\"key1111\": 1}}},\n",
    "\"key2\": {\"key22\": {\"key222\": 2}},\n",
    "\"key3\": {\"key33\": 3},\n",
    "\"key4\": 4\n",
    "}\n",
    "\n",
    "# 1. I need only values from data [1, 2, 3, 4]"
   ]
  },
  {
   "cell_type": "code",
   "execution_count": 36,
   "id": "d83bb264-5984-42de-a6b6-162038b72ff0",
   "metadata": {},
   "outputs": [
    {
     "data": {
      "text/plain": [
       "[4]"
      ]
     },
     "execution_count": 36,
     "metadata": {},
     "output_type": "execute_result"
    }
   ],
   "source": [
    "def get_values(data):\n",
    "    result = []\n",
    "\n",
    "    for key, values in data.items():\n",
    "        if isinstance(values,dict):\n",
    "            result.extend(get_values(\n",
    "        else:\n",
    "            result.append(values)\n",
    "    return result\n",
    "\n",
    "get_values(data)"
   ]
  },
  {
   "cell_type": "code",
   "execution_count": null,
   "id": "ebd12501-a9ac-470b-9d91-a736f4df3074",
   "metadata": {},
   "outputs": [],
   "source": []
  },
  {
   "cell_type": "code",
   "execution_count": 40,
   "id": "447321de-b059-40df-a3e0-0c8db57b4fa1",
   "metadata": {},
   "outputs": [],
   "source": [
    "def is_armstrong1(num):\n",
    "    source = num\n",
    "    digits = []\n",
    "    length = 0\n",
    "    while num > 0:\n",
    "        digits.append(num%10)\n",
    "        num //=10\n",
    "        length += 1\n",
    "    result = 0\n",
    "    for i in digits:\n",
    "        result += i ** length\n",
    "    return result == source\n"
   ]
  },
  {
   "cell_type": "code",
   "execution_count": 41,
   "id": "d864255d-8b89-4e93-b554-58136c86b040",
   "metadata": {},
   "outputs": [
    {
     "data": {
      "text/plain": [
       "True"
      ]
     },
     "execution_count": 41,
     "metadata": {},
     "output_type": "execute_result"
    }
   ],
   "source": [
    "is_armstrong1(153)"
   ]
  },
  {
   "cell_type": "code",
   "execution_count": 42,
   "id": "02c60eab-94d7-4504-a17b-2d2783efc163",
   "metadata": {},
   "outputs": [
    {
     "name": "stdout",
     "output_type": "stream",
     "text": [
      "0\n",
      "1\n",
      "2\n",
      "3\n",
      "4\n",
      "5\n",
      "6\n",
      "7\n",
      "8\n",
      "9\n",
      "153\n",
      "370\n",
      "371\n",
      "407\n",
      "1634\n",
      "8208\n",
      "9474\n"
     ]
    }
   ],
   "source": [
    "for i in range(10000):\n",
    "    is_am = is_armstrong1(i)\n",
    "    if is_am:\n",
    "        print(i)"
   ]
  },
  {
   "cell_type": "code",
   "execution_count": 44,
   "id": "d778047a-1980-4e71-9cce-631f48a9b521",
   "metadata": {},
   "outputs": [],
   "source": [
    "# Input: a = 2, b = 4\n",
    "# Output: 4\n",
    "\n",
    "# Input: a = -1, b = -4\n",
    "# Output: -1\n"
   ]
  },
  {
   "cell_type": "code",
   "execution_count": 47,
   "id": "ccc800ee-28b5-4d24-bd84-5f3125979cc2",
   "metadata": {},
   "outputs": [],
   "source": [
    " # a = 2, b = 4\n",
    "\n",
    "def is_maximum(a,b):\n",
    "    if a > b:\n",
    "        return a \n",
    "    else:\n",
    "        return b\n",
    "a = 2\n",
    "b = 4\n"
   ]
  },
  {
   "cell_type": "code",
   "execution_count": 48,
   "id": "98edc8ab-111a-4210-be7b-53d084b72042",
   "metadata": {},
   "outputs": [
    {
     "data": {
      "text/plain": [
       "4"
      ]
     },
     "execution_count": 48,
     "metadata": {},
     "output_type": "execute_result"
    }
   ],
   "source": [
    "is_maximum(a,b)"
   ]
  },
  {
   "cell_type": "code",
   "execution_count": 49,
   "id": "a1834232-21c0-44f3-a417-7425e6eacf17",
   "metadata": {},
   "outputs": [],
   "source": [
    "# Input: a = 2, b = 4\n",
    "# Output: 4\n",
    "\n",
    "# Input: a = -1, b = -4\n",
    "# Output: -1"
   ]
  },
  {
   "cell_type": "code",
   "execution_count": 51,
   "id": "8906faaf-8714-4689-ac9b-3a4119ea9e34",
   "metadata": {},
   "outputs": [
    {
     "name": "stdout",
     "output_type": "stream",
     "text": [
      "4\n"
     ]
    }
   ],
   "source": [
    "a = 2\n",
    "b = 4\n",
    "\n",
    "print(a if a >= b else b)"
   ]
  },
  {
   "cell_type": "code",
   "execution_count": 52,
   "id": "16f10074-4fd8-48d3-b14d-34b97ababdf5",
   "metadata": {},
   "outputs": [],
   "source": [
    "\n",
    "maximum = lambda a, b : a if a>=b else b\n"
   ]
  },
  {
   "cell_type": "code",
   "execution_count": 55,
   "id": "c47c95ba-0105-43f6-9558-78c3ed81b9f4",
   "metadata": {},
   "outputs": [
    {
     "name": "stdout",
     "output_type": "stream",
     "text": [
      "4\n"
     ]
    }
   ],
   "source": [
    "print(maximum(a,b))"
   ]
  },
  {
   "cell_type": "code",
   "execution_count": 56,
   "id": "d8a916d3-df57-466c-804e-0c9a21d48d9b",
   "metadata": {},
   "outputs": [],
   "source": [
    "minimum = lambda a, b :a if a < b else b"
   ]
  },
  {
   "cell_type": "code",
   "execution_count": 57,
   "id": "87177843-35e9-4a13-b49d-166857830b8f",
   "metadata": {},
   "outputs": [
    {
     "data": {
      "text/plain": [
       "2"
      ]
     },
     "execution_count": 57,
     "metadata": {},
     "output_type": "execute_result"
    }
   ],
   "source": [
    "minimum(a,b)"
   ]
  },
  {
   "cell_type": "code",
   "execution_count": 58,
   "id": "73e5a252-7bb2-4b3d-b4d7-0a88a09b7588",
   "metadata": {},
   "outputs": [],
   "source": [
    "pow = lambda a, b : a**b"
   ]
  },
  {
   "cell_type": "code",
   "execution_count": 59,
   "id": "be6f62c7-803c-4b59-9ca4-04c44cdf94f0",
   "metadata": {},
   "outputs": [
    {
     "data": {
      "text/plain": [
       "8"
      ]
     },
     "execution_count": 59,
     "metadata": {},
     "output_type": "execute_result"
    }
   ],
   "source": [
    "pow(2,3)"
   ]
  },
  {
   "cell_type": "code",
   "execution_count": null,
   "id": "2728735f-4718-48cf-ad61-b4f90046676c",
   "metadata": {},
   "outputs": [],
   "source": []
  }
 ],
 "metadata": {
  "kernelspec": {
   "display_name": "Python 3 (ipykernel)",
   "language": "python",
   "name": "python3"
  },
  "language_info": {
   "codemirror_mode": {
    "name": "ipython",
    "version": 3
   },
   "file_extension": ".py",
   "mimetype": "text/x-python",
   "name": "python",
   "nbconvert_exporter": "python",
   "pygments_lexer": "ipython3",
   "version": "3.10.2"
  }
 },
 "nbformat": 4,
 "nbformat_minor": 5
}
