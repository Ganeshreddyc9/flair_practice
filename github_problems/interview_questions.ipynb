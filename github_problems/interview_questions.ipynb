{
 "cells": [
  {
   "cell_type": "code",
   "execution_count": 1,
   "id": "b4c7a155-51d9-4d3b-b1c8-240c93da3286",
   "metadata": {},
   "outputs": [],
   "source": [
    " # Explain 'Everything in Python is an object'.?\n",
    "\n"
   ]
  },
  {
   "cell_type": "code",
   "execution_count": 2,
   "id": "e3ac9286-2ae6-47b1-97fb-9a96e56baba2",
   "metadata": {},
   "outputs": [],
   "source": [
    "# # An object in a object-oriented programming language is an entity \n",
    "# # that contains data along with some methods for operations related to that data.\n",
    "    \n",
    "# # Everything from numbers, lists, strings, functions and classes are python objects.\n",
    "\n",
    "# # # object is insatance of class  or copy of class \n",
    "\n",
    "# an object is a object oriented programming language is an entity that contains data along with some methods and \n",
    "# to perform some operations with that data "
   ]
  },
  {
   "cell_type": "code",
   "execution_count": 5,
   "id": "dd406998-ee6e-4878-82df-2a0f86abf9cf",
   "metadata": {},
   "outputs": [
    {
     "data": {
      "text/plain": [
       "False"
      ]
     },
     "execution_count": 5,
     "metadata": {},
     "output_type": "execute_result"
    }
   ],
   "source": [
    "a = 10.5\n",
    "a.is_integer()"
   ]
  },
  {
   "cell_type": "code",
   "execution_count": 7,
   "id": "e9e34ecb-07be-4412-89f4-5b4ffb126972",
   "metadata": {},
   "outputs": [
    {
     "name": "stdout",
     "output_type": "stream",
     "text": [
      "<class 'float'>\n"
     ]
    }
   ],
   "source": [
    "print(type(a))"
   ]
  },
  {
   "cell_type": "code",
   "execution_count": 11,
   "id": "e334a70e-ae42-4f96-9e6d-6fc186c92209",
   "metadata": {},
   "outputs": [
    {
     "name": "stdout",
     "output_type": "stream",
     "text": [
      "<class 'function'>\n"
     ]
    }
   ],
   "source": [
    "def func():\n",
    "    \n",
    "    pass\n",
    "print(type(func))\n",
    "\n"
   ]
  },
  {
   "cell_type": "code",
   "execution_count": 12,
   "id": "330f774c-8f70-4647-b480-709a1ce2564d",
   "metadata": {},
   "outputs": [],
   "source": [
    "var = 'Tom' # Object 'Tom' is created in memory and name 'var' is binded to it. \n",
    "var = 'Harry' # Another object is created however note that name 'var' is now binded to 'Harry' but 'Tom' is still somewhere in memory and is unaffected.\n"
   ]
  },
  {
   "cell_type": "code",
   "execution_count": 13,
   "id": "0c50fbf0-95cc-48ad-acff-e23f14bf4999",
   "metadata": {},
   "outputs": [
    {
     "data": {
      "text/plain": [
       "'Harry'"
      ]
     },
     "execution_count": 13,
     "metadata": {},
     "output_type": "execute_result"
    }
   ],
   "source": [
    "var"
   ]
  },
  {
   "cell_type": "code",
   "execution_count": 18,
   "id": "6991d870-37a1-49b2-a041-22e0c53cf477",
   "metadata": {},
   "outputs": [
    {
     "name": "stdout",
     "output_type": "stream",
     "text": [
      "[17, 10]\n",
      "1671941756864\n",
      "[17, 10, 17]\n",
      "1671941756864\n"
     ]
    }
   ],
   "source": [
    "# What is mutable and immutable objects/data types in Python?\n",
    "# Mutable objects in Python -- Objects that can change after creation.\n",
    "# Lists, byte arrays, sets, and dictionaries.\n",
    "list_var = [17, 10]\n",
    "print(list_var)\n",
    "print(id(list_var))\n",
    "list_var += [17]\n",
    "print(list_var)\n",
    "\n",
    "print(id(list_var))"
   ]
  },
  {
   "cell_type": "code",
   "execution_count": 20,
   "id": "6ac8093d-5546-481a-be3e-715d85ed7856",
   "metadata": {},
   "outputs": [
    {
     "name": "stdout",
     "output_type": "stream",
     "text": [
      "1671941756864\n"
     ]
    }
   ],
   "source": [
    "list_var[2] = 3\n",
    "list_var\n",
    "print(id(list_var))"
   ]
  },
  {
   "cell_type": "code",
   "execution_count": 23,
   "id": "ae356b9b-252e-4d3a-aa33-6385ada7dfe8",
   "metadata": {},
   "outputs": [
    {
     "name": "stdout",
     "output_type": "stream",
     "text": [
      "1671941756864\n"
     ]
    }
   ],
   "source": [
    "list_var[2] =  4\n",
    "print(id(list_var))"
   ]
  },
  {
   "cell_type": "code",
   "execution_count": 24,
   "id": "90d18df6-c2f9-408d-9e50-50f2bcd86652",
   "metadata": {},
   "outputs": [],
   "source": [
    "list_var.append(4)"
   ]
  },
  {
   "cell_type": "code",
   "execution_count": 25,
   "id": "93857d3b-8d9f-42b5-8e30-2b1aa209b0aa",
   "metadata": {},
   "outputs": [
    {
     "name": "stdout",
     "output_type": "stream",
     "text": [
      "1671941756864\n"
     ]
    }
   ],
   "source": [
    "print(id(list_var))"
   ]
  },
  {
   "cell_type": "code",
   "execution_count": 27,
   "id": "59fe300f-bae3-4c57-a6cd-5cdee087124c",
   "metadata": {},
   "outputs": [
    {
     "name": "stdout",
     "output_type": "stream",
     "text": [
      "before 1671940568128\n",
      "list: 1671940570880\n",
      "after: 1671941953792\n",
      "list: 1671940570880\n"
     ]
    }
   ],
   "source": [
    "a= [1,2,[1,2]]\n",
    "\n",
    "print(\"before\",id(a[2]))\n",
    "\n",
    "print('list:',id(a))\n",
    "a[2] = [1,2,3,4]\n",
    "\n",
    "print(\"after:\",id(a[2]))\n",
    "print('list:',id(a))"
   ]
  },
  {
   "cell_type": "code",
   "execution_count": null,
   "id": "faf815e3-1344-42db-b103-c9b992ee19ed",
   "metadata": {},
   "outputs": [],
   "source": []
  }
 ],
 "metadata": {
  "kernelspec": {
   "display_name": "Python 3 (ipykernel)",
   "language": "python",
   "name": "python3"
  },
  "language_info": {
   "codemirror_mode": {
    "name": "ipython",
    "version": 3
   },
   "file_extension": ".py",
   "mimetype": "text/x-python",
   "name": "python",
   "nbconvert_exporter": "python",
   "pygments_lexer": "ipython3",
   "version": "3.10.2"
  }
 },
 "nbformat": 4,
 "nbformat_minor": 5
}
