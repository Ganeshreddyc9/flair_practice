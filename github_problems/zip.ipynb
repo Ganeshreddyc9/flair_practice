{
 "cells": [
  {
   "cell_type": "code",
   "execution_count": 1,
   "id": "d34065bc-d730-4072-837e-8bff7a2e0894",
   "metadata": {},
   "outputs": [
    {
     "data": {
      "text/plain": [
       "<zip at 0x1df53b84840>"
      ]
     },
     "execution_count": 1,
     "metadata": {},
     "output_type": "execute_result"
    }
   ],
   "source": [
    "zip()"
   ]
  },
  {
   "cell_type": "code",
   "execution_count": 2,
   "id": "81a34aa4-f3b4-4704-acda-a95140023679",
   "metadata": {},
   "outputs": [
    {
     "name": "stdout",
     "output_type": "stream",
     "text": [
      "<zip object at 0x000001DF53BF0040>\n"
     ]
    }
   ],
   "source": [
    "print(zip())"
   ]
  },
  {
   "cell_type": "code",
   "execution_count": 3,
   "id": "23ebb055-df48-4a62-bb6f-74f386591905",
   "metadata": {},
   "outputs": [
    {
     "name": "stdout",
     "output_type": "stream",
     "text": [
      "[('Java', 14), ('Python', 3), ('JavaScript', 6)]\n"
     ]
    }
   ],
   "source": [
    "languages = ['Java', 'Python', 'JavaScript']\n",
    "versions = [14, 3, 6]\n",
    "\n",
    "result = zip(languages, versions)\n",
    "print(list(result))"
   ]
  },
  {
   "cell_type": "code",
   "execution_count": 5,
   "id": "14cf4a69-0845-446e-8736-55cc51842847",
   "metadata": {},
   "outputs": [
    {
     "name": "stdout",
     "output_type": "stream",
     "text": [
      "<zip object at 0x000001DF53BF3900>\n"
     ]
    }
   ],
   "source": [
    "languages = ('Java', 'Python', 'JavaScript')\n",
    "versions = (14, 3, 6)\n",
    "\n",
    "res = zip(languages,versions)\n",
    "print(res)"
   ]
  },
  {
   "cell_type": "code",
   "execution_count": null,
   "id": "4a1fb815-5ea7-43fc-b733-ff929c089d21",
   "metadata": {},
   "outputs": [],
   "source": []
  },
  {
   "cell_type": "code",
   "execution_count": 6,
   "id": "b878ed9d-8cbd-4c1a-af7c-b076c909f031",
   "metadata": {},
   "outputs": [
    {
     "name": "stdout",
     "output_type": "stream",
     "text": [
      "<zip object at 0x000001DF53B42280>\n"
     ]
    }
   ],
   "source": [
    "languages = {'Java', 'Python', 'JavaScript'}\n",
    "versions = {14, 3, 6}\n",
    "\n",
    "res = zip(languages,versions)\n",
    "print(res)"
   ]
  },
  {
   "cell_type": "code",
   "execution_count": null,
   "id": "bf2fa3e8-7585-4b5f-b7e4-76bbc68fc733",
   "metadata": {},
   "outputs": [],
   "source": []
  }
 ],
 "metadata": {
  "kernelspec": {
   "display_name": "Python 3 (ipykernel)",
   "language": "python",
   "name": "python3"
  },
  "language_info": {
   "codemirror_mode": {
    "name": "ipython",
    "version": 3
   },
   "file_extension": ".py",
   "mimetype": "text/x-python",
   "name": "python",
   "nbconvert_exporter": "python",
   "pygments_lexer": "ipython3",
   "version": "3.10.2"
  }
 },
 "nbformat": 4,
 "nbformat_minor": 5
}
