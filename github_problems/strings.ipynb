{
 "cells": [
  {
   "cell_type": "code",
   "execution_count": 1,
   "id": "36a66a5e-3d94-462d-8e0d-be309762171f",
   "metadata": {},
   "outputs": [],
   "source": [
    "# Python String capitalize()\n",
    "# In Python, the capitalize() method converts first character of a string to uppercase letter and lowercases all other characters, if any.\n",
    "\n",
    "# Syntax:\n",
    "\n",
    "# string.capitalize()\n",
    "# capitalize() Parameters\n",
    "# The capitalize() function doesn't take any parameter.\n",
    "\n",
    "# Return Value from capitalize()\n",
    "# The capitalize() function returns a string with the first letter capitalized and all other characters lowercased. It doesn't modify the original string."
   ]
  },
  {
   "cell_type": "code",
   "execution_count": 2,
   "id": "3f2a642f-6db2-4e77-aabb-8e7bfa044fbb",
   "metadata": {},
   "outputs": [
    {
     "name": "stdout",
     "output_type": "stream",
     "text": [
      "Old String:  python is AWesome.\n",
      "Capitalized String: Python is awesome.\n"
     ]
    }
   ],
   "source": [
    "# Example 1: Capitalize a Sentence\n",
    "\n",
    "string = \"python is AWesome.\"\n",
    "\n",
    "capitalized_string = string.capitalize()\n",
    "\n",
    "print('Old String: ', string)\n",
    "print('Capitalized String:', capitalized_string)"
   ]
  },
  {
   "cell_type": "code",
   "execution_count": 3,
   "id": "e0262175-1ec3-4b73-982c-31df30673fea",
   "metadata": {},
   "outputs": [
    {
     "name": "stdout",
     "output_type": "stream",
     "text": [
      "Old String: + is an operator.\n",
      "New String: + is an operator.\n"
     ]
    }
   ],
   "source": [
    "# Example 2: Non-alphabetic First Character\n",
    "\n",
    "string = \"+ is an operator.\"\n",
    "\n",
    "new_string = string.capitalize()\n",
    "\n",
    "print('Old String:', string)\n",
    "print('New String:', new_string)"
   ]
  },
  {
   "cell_type": "code",
   "execution_count": 4,
   "id": "193a66c0-6fcd-4a2b-a72c-9d14a55708bf",
   "metadata": {},
   "outputs": [],
   "source": [
    "# Python String center()\n",
    "# The center() method returns a string which is padded with the specified character.\n",
    "\n",
    "# Syntax:\n",
    "\n",
    "# string.center(width[, fillchar])\n",
    "# center() Parameters\n",
    "# The center() method takes two arguments:\n",
    "\n",
    "# width - length of the string with padded characters\n",
    "# fillchar (optional) - padding character\n",
    "# The fillchar argument is optional. If it's not provided, space is taken as default argument.\n",
    "\n",
    "# Return Value from center()\n",
    "# The center() method returns a string padded with specified fillchar. It doesn't modify the original string."
   ]
  },
  {
   "cell_type": "code",
   "execution_count": 8,
   "id": "5c46cefe-cb95-446b-aaf3-bfc682adaf44",
   "metadata": {},
   "outputs": [
    {
     "name": "stdout",
     "output_type": "stream",
     "text": [
      "17\n",
      "Centered String:     Python is awesome    \n"
     ]
    }
   ],
   "source": [
    "# Example 1: center() Method With Default fillchar\n",
    "\n",
    "string = \"Python is awesome\"\n",
    "\n",
    "print(len(string))\n",
    "new_string = string.center(24)\n",
    "\n",
    "print(\"Centered String: \", new_string)"
   ]
  },
  {
   "cell_type": "code",
   "execution_count": 9,
   "id": "3fd08a6b-aa1f-4313-b51f-58ca9e8985c4",
   "metadata": {},
   "outputs": [
    {
     "name": "stdout",
     "output_type": "stream",
     "text": [
      "17\n",
      "Centered String:  ***Python is awesome****\n"
     ]
    }
   ],
   "source": [
    "string = \"Python is awesome\"\n",
    "\n",
    "print(len(string))\n",
    "new_string = string.center(24,\"*\")\n",
    "\n",
    "print(\"Centered String: \", new_string)\n",
    "\n",
    "# length is 17 and we given string.center(24,\"*\") so 17 is the length of the string and remaining is 7 -- 3 default is spaces it will give 3 spaces left and remaining on rigth side "
   ]
  },
  {
   "cell_type": "code",
   "execution_count": 10,
   "id": "20999752-f707-4ecf-bc77-9d8f63a14f45",
   "metadata": {},
   "outputs": [],
   "source": [
    " # If the distribution of the remaining space cannot be divided equally between the left and right sides of the string, Python prefers to bias towards adding extra space on the right side rather than the left side. This decision ensures that the original string remains centered within the specified width, maintaining visual balance. "
   ]
  },
  {
   "cell_type": "code",
   "execution_count": 11,
   "id": "94c86990-d0cc-4caf-99c5-d8a01cd6a0a3",
   "metadata": {},
   "outputs": [],
   "source": [
    "# Python String casefold()\n",
    "# The casefold() method is an aggressive lower() method which converts strings to case folded strings for caseless matching.\n",
    "\n",
    "# The casefold() method removes all case distinctions present in a string. It is used for caseless matching, i.e. ignores cases when comparing.\n",
    "\n",
    "# For example, the German lowercase letter ß is equivalent to ss. However, since ß is already lowercase, the lower() method does nothing to it. But, casefold() converts it to ss.\n",
    "\n",
    "# Syntax:\n",
    "\n",
    "# string.casefold()\n",
    "# casefold() Parameters\n",
    "# Return Value from casefold()\n",
    "# The casefold() method returns the case folded string."
   ]
  },
  {
   "cell_type": "code",
   "execution_count": 12,
   "id": "68512a7b-c177-4496-9f62-5cd283a0bdd6",
   "metadata": {},
   "outputs": [
    {
     "name": "stdout",
     "output_type": "stream",
     "text": [
      "Lowercase string: python is awesome\n"
     ]
    }
   ],
   "source": [
    "# Example 1: Lowercase using casefold()\n",
    "\n",
    "string = \"PYTHON IS AWESOME\"\n",
    "\n",
    "# print lowercase string\n",
    "print(\"Lowercase string:\", string.casefold())"
   ]
  },
  {
   "cell_type": "code",
   "execution_count": 13,
   "id": "0dd5e2ca-fb40-4e41-85fd-5c3a5d638dd5",
   "metadata": {},
   "outputs": [
    {
     "name": "stdout",
     "output_type": "stream",
     "text": [
      "The strings are equal.\n"
     ]
    }
   ],
   "source": [
    "# Example 2: Comparison using casefold()\n",
    "\n",
    "firstString = \"der Fluß\"\n",
    "secondString = \"der Fluss\"\n",
    "\n",
    "# ß is equivalent to ss\n",
    "if firstString.casefold() == secondString.casefold():\n",
    "    print('The strings are equal.')\n",
    "else:\n",
    "    print('The strings are not equal.')"
   ]
  },
  {
   "cell_type": "code",
   "execution_count": null,
   "id": "1b3c361c-48b5-4697-bd62-fc0358bbb9de",
   "metadata": {},
   "outputs": [],
   "source": []
  },
  {
   "cell_type": "code",
   "execution_count": 14,
   "id": "a0f0ef9d-fc44-43ab-b598-da3b691aa063",
   "metadata": {},
   "outputs": [],
   "source": [
    "# # Python String count()\n",
    "\n",
    "# The count() method returns the number of occurrences of a substring in the given string.\n",
    "\n",
    "# In simple words, count() method searches the substring in the given string and returns how many times the substring is present in it.\n",
    "\n",
    "# It also takes optional parameters start and end to specify the starting and ending positions in the string respectively.\n",
    "\n",
    "# Syntax:\n",
    "\n",
    "# string.count(substring, start=..., end=...)"
   ]
  },
  {
   "cell_type": "code",
   "execution_count": 16,
   "id": "aae4e128-632a-4286-a1ef-094cbf6f0371",
   "metadata": {},
   "outputs": [],
   "source": [
    "# count() Parameters\n",
    "# The count() method only requires a single parameter for execution. However, it also has two optional parameters:\n",
    "\n",
    "# substring - string whose count is to be found.\n",
    "# start (Optional) - starting index within the string where search starts.\n",
    "# end (Optional) - ending index within the string where search ends.\n",
    "# Note: Index in Python starts from 0, not 1.\n",
    "\n",
    "# Return Value from count()\n",
    "# The count() method returns the number of occurrences of the substring in the given string"
   ]
  },
  {
   "cell_type": "code",
   "execution_count": 20,
   "id": "962d459b-6b0b-4e74-b367-9303ab609d08",
   "metadata": {},
   "outputs": [
    {
     "name": "stdout",
     "output_type": "stream",
     "text": [
      "2\n",
      "The count is: 2\n",
      "3\n"
     ]
    }
   ],
   "source": [
    "# Example 1: Count number of occurrences of a given substring\n",
    "\n",
    "# define string\n",
    "string = \"Python is awesome, isn't it?\"\n",
    "substring = \"is\"\n",
    "\n",
    "count = string.count(substring)\n",
    "\n",
    "count1 = string.count('is')\n",
    "print(count1)\n",
    "# print count\n",
    "print(\"The count is:\", count)\n",
    "\n",
    "count2 = string.count('i')\n",
    "print(count2)"
   ]
  },
  {
   "cell_type": "code",
   "execution_count": 21,
   "id": "c894c72d-24d1-47d1-9a6a-2b86469c3788",
   "metadata": {},
   "outputs": [
    {
     "name": "stdout",
     "output_type": "stream",
     "text": [
      "The count is: 1\n"
     ]
    }
   ],
   "source": [
    "# Example 2: Count number of occurrences of a given substring using start and end\n",
    "\n",
    "# define string\n",
    "string = \"Python is awesome, isn't it?\"\n",
    "substring = \"i\"\n",
    "\n",
    "# count after first 'i' and before the last 'i'\n",
    "count = string.count(substring, 8, 25)\n",
    "\n",
    "# print count\n",
    "print(\"The count is:\", count)"
   ]
  },
  {
   "cell_type": "code",
   "execution_count": 22,
   "id": "513ab399-2ced-44ce-b393-d08019f03d3f",
   "metadata": {},
   "outputs": [
    {
     "name": "stdout",
     "output_type": "stream",
     "text": [
      "The count is: 2\n"
     ]
    }
   ],
   "source": [
    "string = \"Python is awesome, isn't it?\"\n",
    "substring = \"is\"\n",
    "\n",
    "count = 0\n",
    "start = 0\n",
    "\n",
    "while True:\n",
    "    start = string.find(substring, start) # Find the next occurrence of the substring\n",
    "    if start == -1: # If no more occurrences are found, exit the loop\n",
    "        break\n",
    "    count += 1\n",
    "    start += 1 # Move the starting index for the next search\n",
    "\n",
    "print(\"The count is:\", count)"
   ]
  },
  {
   "cell_type": "code",
   "execution_count": 1,
   "id": "23f57af5-556b-41ff-b892-af37d2129528",
   "metadata": {},
   "outputs": [
    {
     "name": "stdout",
     "output_type": "stream",
     "text": [
      "The count is: 4\n"
     ]
    }
   ],
   "source": [
    "string = \"AAAA\"\n",
    "substring = \"A\"\n",
    "\n",
    "count = 0\n",
    "start = 0\n",
    "\n",
    "while True:\n",
    "    start = string.find(substring, start) # Find the next occurrence of the substring\n",
    "    if start == -1: # If no more occurrences are found, exit the loop\n",
    "        break\n",
    "    count += 1\n",
    "    start += 1 # Move the starting index for the next search\n",
    "\n",
    "print(\"The count is:\", count)"
   ]
  },
  {
   "cell_type": "code",
   "execution_count": null,
   "id": "fe41a4a3-aa36-4502-8fe7-c159eb6bbdc2",
   "metadata": {},
   "outputs": [],
   "source": []
  },
  {
   "cell_type": "code",
   "execution_count": 3,
   "id": "2483b4c3-98c9-4054-90ba-0c72675cff44",
   "metadata": {},
   "outputs": [
    {
     "name": "stdout",
     "output_type": "stream",
     "text": [
      "['Python', 'is', 'awesome,', \"isn't\", 'it?']\n"
     ]
    }
   ],
   "source": [
    "string = \"Python is awesome, isn't it?\"\n",
    "\n",
    "s = string.split()\n",
    "print(s)"
   ]
  },
  {
   "cell_type": "code",
   "execution_count": 4,
   "id": "f77d4689-4c9b-4ab8-94a0-fb8fc2ee8705",
   "metadata": {},
   "outputs": [
    {
     "data": {
      "text/plain": [
       "1"
      ]
     },
     "execution_count": 4,
     "metadata": {},
     "output_type": "execute_result"
    }
   ],
   "source": [
    "s.count('is')"
   ]
  },
  {
   "cell_type": "code",
   "execution_count": 5,
   "id": "876517ee-c721-44a6-ae3a-5dbd98d88624",
   "metadata": {},
   "outputs": [
    {
     "name": "stdout",
     "output_type": "stream",
     "text": [
      "The count is: 1\n"
     ]
    }
   ],
   "source": [
    "# Example 2: Count number of occurrences of a given substring using start and end\n",
    "\n",
    "# define string\n",
    "string = \"Python is awesome, isn't it?\"\n",
    "substring = \"i\"\n",
    "\n",
    "# count after first 'i' and before the last 'i'\n",
    "count = string.count(substring, 8, 25)\n",
    "\n",
    "# print count\n",
    "print(\"The count is:\", count)"
   ]
  },
  {
   "cell_type": "code",
   "execution_count": 7,
   "id": "1b2a97b5-139c-4ebc-9f95-47c2f1f0ecce",
   "metadata": {},
   "outputs": [
    {
     "name": "stdout",
     "output_type": "stream",
     "text": [
      "s awesome, isn't \n"
     ]
    }
   ],
   "source": [
    "print(string[8:25])"
   ]
  },
  {
   "cell_type": "code",
   "execution_count": 8,
   "id": "3bd19fea-68c2-4666-b221-6c4f5b9eff1d",
   "metadata": {},
   "outputs": [
    {
     "name": "stdout",
     "output_type": "stream",
     "text": [
      "3\n",
      "2\n",
      "2\n",
      "0\n"
     ]
    }
   ],
   "source": [
    "# Example 3:\n",
    "\n",
    "s=\"I Love Python Tutorial\"\n",
    "print(s.count('o'))      # 3\n",
    "print(s.count('o',5))    # 2\n",
    "print(s.count('t'))      # 2\n",
    "print(s.count('t',2,9))  # 0"
   ]
  },
  {
   "cell_type": "code",
   "execution_count": 9,
   "id": "eca4adf9-178f-4de0-a207-b9f423c50f38",
   "metadata": {},
   "outputs": [],
   "source": [
    "# Python String endswith()\n",
    "# The endswith() method returns True if a string ends with the specified suffix. If not, it returns False.\n",
    "\n",
    "# Syntax:\n",
    "\n",
    "# str.endswith(suffix[, start[, end]])"
   ]
  },
  {
   "cell_type": "code",
   "execution_count": 10,
   "id": "8c5b8bd0-84fd-4f8d-95eb-14c625988f7f",
   "metadata": {},
   "outputs": [],
   "source": [
    "# endswith() Parameters\n",
    "# The endswith() method takes three parameters:\n",
    "\n",
    "# suffix - String or tuple of suffixes to be checked.\n",
    "# start (Optional) - Beginning position where suffix is to be checked within the string.\n",
    "# end (Optional) - Ending position where suffix is to be checked within the string."
   ]
  },
  {
   "cell_type": "code",
   "execution_count": 11,
   "id": "d5eb8169-c9dd-4080-b689-03318f6c5633",
   "metadata": {},
   "outputs": [],
   "source": [
    "# Return Value from endswith()\n",
    "# The endswith() method returns a boolean.\n",
    "\n",
    "# It returns True if strings ends with the specified suffix.\n",
    "# It returns False if string doesn't end with the specified suffix."
   ]
  },
  {
   "cell_type": "code",
   "execution_count": 12,
   "id": "f52b358d-f886-4393-9223-a9a2ed19e66e",
   "metadata": {},
   "outputs": [
    {
     "name": "stdout",
     "output_type": "stream",
     "text": [
      "False\n",
      "True\n",
      "True\n"
     ]
    }
   ],
   "source": [
    "text = \"Python is easy to learn.\"\n",
    "\n",
    "result = text.endswith('to learn')\n",
    "# returns False\n",
    "print(result)\n",
    "\n",
    "result = text.endswith('to learn.')\n",
    "# returns True\n",
    "print(result)\n",
    "\n",
    "result = text.endswith('Python is easy to learn.')\n",
    "# returns True\n",
    "print(result)"
   ]
  },
  {
   "cell_type": "code",
   "execution_count": 13,
   "id": "ad5c1216-5fd6-4a11-a79b-82ffed2dabb4",
   "metadata": {},
   "outputs": [
    {
     "name": "stdout",
     "output_type": "stream",
     "text": [
      "True\n",
      "False\n",
      "True\n"
     ]
    }
   ],
   "source": [
    "# Example 2: endswith() With start and end Parameters\n",
    "\n",
    "text = \"Python programming is easy to learn.\"\n",
    "\n",
    "# start parameter: 7\n",
    "# \"programming is easy to learn.\" string is searched\n",
    "result = text.endswith('learn.', 7)\n",
    "print(result)\n",
    "\n",
    "# Both start and end is provided\n",
    "# start: 7, end: 26\n",
    "# \"programming is easy\" string is searched\n",
    "\n",
    "result = text.endswith('is', 7, 26)\n",
    "# Returns False\n",
    "print(result)\n",
    "\n",
    "result = text.endswith('easy', 7, 26)\n",
    "# returns True\n",
    "print(result)"
   ]
  },
  {
   "cell_type": "code",
   "execution_count": 14,
   "id": "87b25266-90ea-4ea2-a0b1-3f3ce60d0c38",
   "metadata": {},
   "outputs": [],
   "source": [
    "# Passing Tuple to endswith()\n",
    "# It's possible to pass a tuple suffixes to the endswith() method in Python.\n",
    "\n",
    "# If the string ends with any item of the tuple, endswith() returns True. If not, it returns False."
   ]
  },
  {
   "cell_type": "code",
   "execution_count": 20,
   "id": "39feebcd-a835-4c18-896d-3706bdb3af7c",
   "metadata": {},
   "outputs": [
    {
     "name": "stdout",
     "output_type": "stream",
     "text": [
      "False\n",
      "True\n",
      "True\n"
     ]
    }
   ],
   "source": [
    "# Example 3: endswith() With Tuple Suffix\n",
    "\n",
    "text = \"programming is easy\"\n",
    "result = text.endswith(('programming', 'python'))\n",
    "\n",
    "# prints False\n",
    "print(result)\n",
    "\n",
    "result = text.endswith(('python', 'easy', 'java'))\n",
    "\n",
    "#prints True\n",
    "print(result)\n",
    "\n",
    "# With start and end parameter\n",
    "# 'programming is' string is checked\n",
    "result = text.endswith(('is', 'an'), 0, 14)\n",
    "\n",
    "# prints True\n",
    "print(result)"
   ]
  },
  {
   "cell_type": "code",
   "execution_count": null,
   "id": "87a802b4-bccd-4b20-bb56-26b44ff30c95",
   "metadata": {},
   "outputs": [],
   "source": []
  },
  {
   "cell_type": "code",
   "execution_count": 21,
   "id": "d0888ba4-2166-460b-a726-0e1f445f8ac3",
   "metadata": {},
   "outputs": [],
   "source": [
    "# Python String expandtabs()\n",
    "# The expandtabs() method returns a copy of string with all tab characters '\\t' replaced with whitespace characters until the next multiple of tabsize parameter"
   ]
  },
  {
   "cell_type": "code",
   "execution_count": 22,
   "id": "35258dcb-3d18-4942-958d-ee62e2f8fa1d",
   "metadata": {},
   "outputs": [],
   "source": [
    "# Syntax:\n",
    "\n",
    "# string.expandtabs(tabsize)\n",
    "# expandtabs() Parameters\n",
    "# The expandtabs() method takes an integer tabsize argument. The default tabsize is 8.\n",
    "\n",
    "# Return Value from expandtabs()\n",
    "# The expandtabs() method returns a string where all '\\t' characters are replaced with whitespace characters until the next multiple of tabsize parameter."
   ]
  },
  {
   "cell_type": "code",
   "execution_count": 25,
   "id": "ed36f8b7-129a-4ff6-b7d8-8a5b7135a853",
   "metadata": {},
   "outputs": [
    {
     "name": "stdout",
     "output_type": "stream",
     "text": [
      "xyz     12345   abc\n"
     ]
    }
   ],
   "source": [
    "# Example 1: expandtabs() With no Argument\n",
    "\n",
    "str = 'xyz\\t12345\\tabc'\n",
    "\n",
    "# no argument is passed\n",
    "# default tabsize is 8\n",
    "result = str.expandtabs()\n",
    "\n",
    "print(result)"
   ]
  },
  {
   "cell_type": "code",
   "execution_count": 26,
   "id": "87fc693f-9d80-473d-98c9-cb65802f83e5",
   "metadata": {},
   "outputs": [
    {
     "name": "stdout",
     "output_type": "stream",
     "text": [
      "Original String: xyz\t12345\tabc\n",
      "Tabsize 2: xyz 12345 abc\n",
      "Tabsize 3: xyz   12345 abc\n",
      "Tabsize 4: xyz 12345   abc\n",
      "Tabsize 5: xyz  12345     abc\n",
      "Tabsize 6: xyz   12345 abc\n"
     ]
    }
   ],
   "source": [
    "# Example 2: expandtabs() With Different Argument\n",
    "\n",
    "str = \"xyz\\t12345\\tabc\"\n",
    "print('Original String:', str)\n",
    "\n",
    "# tabsize is set to 2\n",
    "print('Tabsize 2:', str.expandtabs(2))\n",
    "\n",
    "# tabsize is set to 3\n",
    "print('Tabsize 3:', str.expandtabs(3))\n",
    "\n",
    "# tabsize is set to 4\n",
    "print('Tabsize 4:', str.expandtabs(4))\n",
    "\n",
    "# tabsize is set to 5\n",
    "print('Tabsize 5:', str.expandtabs(5))\n",
    "\n",
    "# tabsize is set to 6\n",
    "print('Tabsize 6:', str.expandtabs(6))"
   ]
  },
  {
   "cell_type": "code",
   "execution_count": 27,
   "id": "3c28d1db-130b-4689-9633-77b63553727b",
   "metadata": {},
   "outputs": [
    {
     "name": "stdout",
     "output_type": "stream",
     "text": [
      "13\n"
     ]
    }
   ],
   "source": [
    "print(len(str))"
   ]
  },
  {
   "cell_type": "code",
   "execution_count": 28,
   "id": "47bdbed0-209d-429f-bd32-23b974efe73f",
   "metadata": {},
   "outputs": [],
   "source": [
    "# Explanation:\n",
    "\n",
    "# The default tabsize is 8. The tab stops are 8, 16 and so on. Hence, there is 5 spaces after 'xyz' and 3 after '12345' when you print the original string.\n",
    "\n",
    "# When you set the tabsize to 2. The tab stops are 2, 4, 6, 8 and so on. For 'xyz', the tab stop is 4, and for '12345', the tab stop is 10. Hence, there is 1 space after 'xyz' and 1 space after '12345'.\n",
    "\n",
    "# When you set the tabsize to 3. The tab stops are 3, 6, 9 and so on. For 'xyz', the tab stop is 6, and for '12345', the tab stop is 12. Hence, there are 3 spaces after 'xyz' and 1 space after '12345'.\n",
    "\n",
    "# When you set the tabsize to 4. The tab stops are 4, 8, 12 and so on. For 'xyz', the tab stop is 4 and for '12345', the tab stop is 12. Hence, there is 1 space after 'xyz' and 3 spaces after '12345'.\n",
    "\n",
    "# When you set the tabsize to 5v. The tab stops are **5, 10, 15 and so on. For 'xyz', the tab stop is 5 and for '12345', the tab stop is 15. Hence, there are 2 spaces after 'xyz' and 5 spaces after '12345'.\n",
    "\n",
    "# When you set the tabsize to 6. The tab stops are 6, 12, 18 and so on. For 'xyz', the tab stop is 6 and for '12345', the tab stop is 12. Hence, there are 3 spaces after 'xyz' and 1 space after '12345'"
   ]
  },
  {
   "cell_type": "code",
   "execution_count": null,
   "id": "59dee6db-4ce4-4b69-8d7a-6ec2253ac956",
   "metadata": {},
   "outputs": [],
   "source": []
  },
  {
   "cell_type": "code",
   "execution_count": 29,
   "id": "0e3f2f54-a339-4995-8f0b-762a2c7ae4ce",
   "metadata": {},
   "outputs": [],
   "source": [
    "# # Python String encode()\n",
    "# # The encode() method returns encoded version of the given string.\n",
    "\n",
    "# # Since Python 3.0, string are stored as Unicode, i.e. each character in the string is represented by a code point. So, each string is just a sequence of Unicode code points.\n",
    "\n",
    "# # For efficient storage of these strings, the sequence of code points is converted into a set of bytes. The process is known as encodings.\n",
    "\n",
    "# # There are various encodings present which treats a string differently. The popular encoding being utf-8, ascii, etc.\n",
    "\n",
    "# # Using string's encode() method, you can convert unicoded strings into any encodings supported by Python. By default, Python uses utf-8 encoding.\n",
    "\n",
    "# # Syntax:\n",
    "\n",
    "# # string.encode(encoding='UTF-8',errors='strict')\n",
    "\n",
    "# encode() Parameters\n",
    "# By default, encode() method doesn't require any parameters.\n",
    "\n",
    "# It returns utf-8 encoded version of the string. In case of failure, it raises a UnicodeDecodeError exception.\n",
    "\n",
    "# However, it takes two parameters:\n",
    "\n",
    "# encoding - the encoding type a string has to be encoded to\n",
    "# errors - response when encoding fails. There are six types of error response\n",
    "# strict - default response which raises a UnicodeDecodeError exception on failure\n",
    "# ignore - ignores the unencodable unicode from the result\n",
    "# replace - replaces the unencodable unicode to a question mark ?\n",
    "# xmlcharrefreplace - inserts XML character reference instead of unencodable unicode\n",
    "# backslashreplace - inserts a \\uNNNN escape sequence instead of unencodable unicode\n",
    "# namereplace - inserts a \\N{...} escape sequence instead of unencodable unicode"
   ]
  },
  {
   "cell_type": "code",
   "execution_count": 30,
   "id": "1875ec0e-1c16-4ac4-b58e-1b4185cb1e5f",
   "metadata": {},
   "outputs": [
    {
     "name": "stdout",
     "output_type": "stream",
     "text": [
      "The string is: pythön!\n",
      "The encoded version is: b'pyth\\xc3\\xb6n!'\n"
     ]
    }
   ],
   "source": [
    "# Example 1: Encode to Default Utf-8 Encoding\n",
    "\n",
    "# unicode string\n",
    "string = 'pythön!'\n",
    "\n",
    "# print string\n",
    "print('The string is:', string)\n",
    "\n",
    "# default encoding to utf-8\n",
    "string_utf = string.encode()\n",
    "\n",
    "# print result\n",
    "print('The encoded version is:', string_utf)"
   ]
  },
  {
   "cell_type": "code",
   "execution_count": 31,
   "id": "28b67d53-48d2-487b-9b9f-0d1106bd4e27",
   "metadata": {},
   "outputs": [
    {
     "name": "stdout",
     "output_type": "stream",
     "text": [
      "The string is: pythön!\n",
      "The encoded version (with ignore) is: b'pythn!'\n",
      "The encoded version (with replace) is: b'pyth?n!'\n"
     ]
    }
   ],
   "source": [
    "# Example 2: Encoding with error parameter\n",
    "\n",
    "# unicode string\n",
    "string = 'pythön!'\n",
    "\n",
    "# print string\n",
    "print('The string is:', string)\n",
    "\n",
    "# ignore error\n",
    "print('The encoded version (with ignore) is:', string.encode(\"ascii\", \"ignore\"))\n",
    "\n",
    "# replace error\n",
    "print('The encoded version (with replace) is:', string.encode(\"ascii\", \"replace\"))"
   ]
  },
  {
   "cell_type": "code",
   "execution_count": null,
   "id": "2607f3cd-d9fd-442a-8b99-d74203052c19",
   "metadata": {},
   "outputs": [],
   "source": []
  },
  {
   "cell_type": "code",
   "execution_count": 32,
   "id": "04eede10-f9ac-4468-a2ea-9d7f205497c4",
   "metadata": {},
   "outputs": [],
   "source": [
    "# Python String find()\n",
    "# The find() method returns the index of first occurrence of the substring (if found). If not found, it returns -1.\n",
    "\n",
    "# Syntax:\n",
    "\n",
    "# str.find(sub[, start[, end]] )\n",
    "# find() Parameters\n",
    "# The find() method takes maximum of three parameters:\n",
    "\n",
    "# sub - It is the substring to be searched in the str string.\n",
    "# start and end (optional) - The range str[start:end] within which substring is searched.\n",
    "# Return Value from find()\n",
    "# The find() method returns an integer value:\n",
    "\n",
    "# If the substring exists inside the string, it returns the index of the first occurence of the substring.\n",
    "# If substring doesn't exist inside the string, it returns -1.\n",
    "# Working of find() method\n"
   ]
  },
  {
   "cell_type": "code",
   "execution_count": 33,
   "id": "4266b377-31f5-468f-b7f3-ccb882e11e31",
   "metadata": {},
   "outputs": [
    {
     "name": "stdout",
     "output_type": "stream",
     "text": [
      "Substring 'let it': 11\n",
      "Substring 'small ': -1\n",
      "Contains substring 'be,'\n"
     ]
    }
   ],
   "source": [
    "# Example 1: find() With No start and end Argument\n",
    "\n",
    "quote = 'Let it be, let it be, let it be'\n",
    "\n",
    "# first occurance of 'let it'(case sensitive)\n",
    "result = quote.find('let it')\n",
    "print(\"Substring 'let it':\", result)\n",
    "\n",
    "# find returns -1 if substring not found\n",
    "result = quote.find('small')\n",
    "print(\"Substring 'small ':\", result)\n",
    "\n",
    "# How to use find()\n",
    "if (quote.find('be,') != -1):\n",
    "    print(\"Contains substring 'be,'\")\n",
    "else:\n",
    "    print(\"Doesn't contain substring\")\n"
   ]
  },
  {
   "cell_type": "code",
   "execution_count": 34,
   "id": "071a9b12-b528-4101-b91e-6c94216fad99",
   "metadata": {},
   "outputs": [
    {
     "name": "stdout",
     "output_type": "stream",
     "text": [
      "Help on built-in function find:\n",
      "\n",
      "find(...) method of builtins.str instance\n",
      "    S.find(sub[, start[, end]]) -> int\n",
      "    \n",
      "    Return the lowest index in S where substring sub is found,\n",
      "    such that sub is contained within S[start:end].  Optional\n",
      "    arguments start and end are interpreted as in slice notation.\n",
      "    \n",
      "    Return -1 on failure.\n",
      "\n"
     ]
    }
   ],
   "source": [
    "help(quote.find)"
   ]
  },
  {
   "cell_type": "code",
   "execution_count": 35,
   "id": "44808a3a-96d5-4630-bc81-e7e4f4ded6bf",
   "metadata": {},
   "outputs": [
    {
     "name": "stdout",
     "output_type": "stream",
     "text": [
      "0\n",
      "-1\n",
      "2\n",
      "9\n"
     ]
    }
   ],
   "source": [
    "s=\"I Love Python Tutorial\"\n",
    "print(s.find('I'))\n",
    "print(s.find('I',2))\n",
    "print(s.find('Love'))\n",
    "print(s.find('t',2,10))"
   ]
  },
  {
   "cell_type": "code",
   "execution_count": 36,
   "id": "61b8b9da-b307-4500-a98b-90131a2fda5c",
   "metadata": {},
   "outputs": [
    {
     "name": "stdout",
     "output_type": "stream",
     "text": [
      "Hello Adam, your balance is 230.2346.\n",
      "Hello Adam, your balance is 230.2346.\n",
      "Hello Adam, your balance is 230.2346.\n",
      "Hello Adam, your balance is 230.2346.\n"
     ]
    }
   ],
   "source": [
    "# Example 1: Basic formatting for default, positional and keyword arguments\n",
    "\n",
    "# default arguments\n",
    "print(\"Hello {}, your balance is {}.\".format(\"Adam\", 230.2346))\n",
    "\n",
    "# positional arguments\n",
    "print(\"Hello {0}, your balance is {1}.\".format(\"Adam\", 230.2346))\n",
    "\n",
    "# keyword arguments\n",
    "print(\"Hello {name}, your balance is {blc}.\".format(name=\"Adam\", blc=230.2346))\n",
    "\n",
    "# mixed arguments\n",
    "print(\"Hello {0}, your balance is {blc}.\".format(\"Adam\", blc=230.2346))"
   ]
  },
  {
   "cell_type": "code",
   "execution_count": 37,
   "id": "6c6de528-adec-4079-8b02-771ff7bdd103",
   "metadata": {},
   "outputs": [
    {
     "name": "stdout",
     "output_type": "stream",
     "text": [
      "The number is:123\n",
      "The float number is:123.456790\n",
      "bin: 1100, oct: 14, hex: c\n"
     ]
    }
   ],
   "source": [
    "\n",
    "# Example 2: Simple number formatting\n",
    "\n",
    "# integer arguments\n",
    "print(\"The number is:{:d}\".format(123))\n",
    "\n",
    "# float arguments\n",
    "print(\"The float number is:{:f}\".format(123.4567898))\n",
    "\n",
    "# octal, binary and hexadecimal format\n",
    "print(\"bin: {0:b}, oct: {0:o}, hex: {0:x}\".format(12))"
   ]
  },
  {
   "cell_type": "code",
   "execution_count": null,
   "id": "5834ecf1-db1b-46d2-8c5a-d24d0514716e",
   "metadata": {},
   "outputs": [],
   "source": []
  },
  {
   "cell_type": "code",
   "execution_count": 38,
   "id": "8b194ccd-4529-42a4-a203-593d31244bc9",
   "metadata": {},
   "outputs": [
    {
     "name": "stdout",
     "output_type": "stream",
     "text": [
      "   12\n",
      "1234\n",
      "  12.235\n",
      "00012\n",
      "0012.235\n"
     ]
    }
   ],
   "source": [
    "# Example 3: Number formatting with padding for int and floats\n",
    "    \n",
    "# integer numbers with minimum width\n",
    "print(\"{:5d}\".format(12))\n",
    "\n",
    "# width doesn't work for numbers longer than padding\n",
    "print(\"{:2d}\".format(1234))\n",
    "\n",
    "# padding for float numbers\n",
    "print(\"{:8.3f}\".format(12.2346))\n",
    "\n",
    "# integer numbers with minimum width filled with zeros\n",
    "print(\"{:05d}\".format(12))\n",
    "\n",
    "# padding for float numbers filled with zeros\n",
    "print(\"{:08.3f}\".format(12.2346))"
   ]
  },
  {
   "cell_type": "code",
   "execution_count": 39,
   "id": "ce59c29f-67f6-47cd-b3db-b41b310c751b",
   "metadata": {},
   "outputs": [
    {
     "name": "stdout",
     "output_type": "stream",
     "text": [
      "+12.230000 -12.230000\n",
      "12.230000 -12.230000\n",
      " 12.230000 -12.230000\n"
     ]
    }
   ],
   "source": [
    "# Example 4: Number formatting for signed numbers\n",
    "\n",
    "# show the + sign\n",
    "print(\"{:+f} {:+f}\".format(12.23, -12.23))\n",
    "\n",
    "# show the - sign only\n",
    "print(\"{:-f} {:-f}\".format(12.23, -12.23))\n",
    "\n",
    "# show space for + sign\n",
    "print(\"{: f} {: f}\".format(12.23, -12.23))"
   ]
  },
  {
   "cell_type": "code",
   "execution_count": 40,
   "id": "cea6d40f-72f3-4769-b3e5-d0b6076c1e24",
   "metadata": {},
   "outputs": [],
   "source": [
    "# Number formatting with alignment\n",
    "# The operators <, ^, > and = are used for alignment when assigned a certain width to the numbers.\n",
    "\n",
    "# Type\tMeaning\n",
    "# <\tLeft aligned to the remaining space\n",
    "# ^\tCenter aligned to the remaining space\n",
    "# >\tRight aligned to the remaining space\n",
    "# =\tForces the signed (+) (-) to the leftmost position"
   ]
  },
  {
   "cell_type": "code",
   "execution_count": 41,
   "id": "9cddd4d0-18bd-4bbf-bec1-42a2333416e1",
   "metadata": {},
   "outputs": [
    {
     "name": "stdout",
     "output_type": "stream",
     "text": [
      "   12\n",
      "  12.235  \n",
      "12000\n",
      "- 12.235\n"
     ]
    }
   ],
   "source": [
    "# Example 5: Number formatting with left, right and center alignment\n",
    "\n",
    "# integer numbers with right alignment\n",
    "print(\"{:5d}\".format(12))\n",
    "\n",
    "# float numbers with center alignment\n",
    "print(\"{:^10.3f}\".format(12.2346))\n",
    "\n",
    "# integer left alignment filled with zeros\n",
    "print(\"{:<05d}\".format(12))\n",
    "\n",
    "# float numbers with center alignment\n",
    "print(\"{:=8.3f}\".format(-12.2346))"
   ]
  },
  {
   "cell_type": "code",
   "execution_count": 43,
   "id": "c4e2ba8a-6de9-43db-bc9c-a6dc0eb1e74c",
   "metadata": {},
   "outputs": [
    {
     "name": "stdout",
     "output_type": "stream",
     "text": [
      "cat  \n",
      "  cat\n",
      " cat \n",
      "*cat*\n"
     ]
    }
   ],
   "source": [
    " # Example 6: String formatting with padding and alignment\n",
    "\n",
    "# string padding with left alignment\n",
    "print(\"{:5}\".format(\"cat\"))\n",
    "\n",
    "# string padding with right alignment\n",
    "print(\"{:>5}\".format(\"cat\"))\n",
    "\n",
    "# string padding with center alignment\n",
    "print(\"{:^5}\".format(\"cat\"))\n",
    "\n",
    "# string padding with center alignment\n",
    "# and '*' padding character\n",
    "print(\"{:*^5}\".format(\"cat\"))"
   ]
  },
  {
   "cell_type": "code",
   "execution_count": null,
   "id": "4b6a8d45-9e97-49b0-9b0f-60d5539b7160",
   "metadata": {},
   "outputs": [],
   "source": []
  },
  {
   "cell_type": "code",
   "execution_count": 44,
   "id": "47075b1a-48b9-4e6f-8e96-86862843920b",
   "metadata": {},
   "outputs": [],
   "source": [
    "# Formatting class and dictionary members using format()\n",
    "# Python internally uses getattr() for class members in the form \".age\". And, it uses __getitem__() lookup for dictionary members in the form \"[index]\""
   ]
  },
  {
   "cell_type": "code",
   "execution_count": 45,
   "id": "c0b4e042-a7ab-4896-91f3-9378f976f0fb",
   "metadata": {},
   "outputs": [
    {
     "name": "stdout",
     "output_type": "stream",
     "text": [
      "Adam's age is: 23\n"
     ]
    }
   ],
   "source": [
    "class Person:\n",
    "    age = 23\n",
    "    name = 'Adam'\n",
    "\n",
    "# format age\n",
    "\n",
    "print(\"{p.name}'s age is: {p.age}\".format(p=Person))"
   ]
  },
  {
   "cell_type": "code",
   "execution_count": 48,
   "id": "4dfb0e74-4776-48c5-bc00-e2d38e4f204a",
   "metadata": {},
   "outputs": [
    {
     "name": "stdout",
     "output_type": "stream",
     "text": [
      "Adam's age  is: 23\n"
     ]
    }
   ],
   "source": [
    "# Example 9: Formatting dictionary members using format()\n",
    "\n",
    "# define Person dictionary\n",
    "person = {'age': 23, 'name': 'Adam'}\n",
    "\n",
    "print(\"{p[name]}'s age  is: {p[age]}\".format(p=person))"
   ]
  },
  {
   "cell_type": "code",
   "execution_count": 50,
   "id": "02d57f8f-1a3f-412d-9b39-082736549717",
   "metadata": {},
   "outputs": [
    {
     "data": {
      "text/plain": [
       "'Adam'"
      ]
     },
     "execution_count": 50,
     "metadata": {},
     "output_type": "execute_result"
    }
   ],
   "source": [
    "person['name']"
   ]
  },
  {
   "cell_type": "code",
   "execution_count": 51,
   "id": "909173db-7250-4c10-af1a-a59799a84f20",
   "metadata": {},
   "outputs": [
    {
     "name": "stdout",
     "output_type": "stream",
     "text": [
      "Adam's age is: 23\n"
     ]
    }
   ],
   "source": [
    "# define Person dictionary\n",
    "\n",
    "person = {'age': 23, 'name': 'Adam'}\n",
    "\n",
    "# format age\n",
    "print(\"{name}'s age is: {age}\".format(**person))"
   ]
  },
  {
   "cell_type": "code",
   "execution_count": 54,
   "id": "d1a4846d-e63b-42ff-ad67-f2923f859806",
   "metadata": {},
   "outputs": [
    {
     "name": "stdout",
     "output_type": "stream",
     "text": [
      "It's now: 2024/03/20 19:40:19\n"
     ]
    }
   ],
   "source": [
    "# Example 11: Type-specific formatting with format() and overriding __format__() method\n",
    "\n",
    "import datetime\n",
    "# datetime formatting\n",
    "date = datetime.datetime.now()\n",
    "print(\"It's now: {:%Y/%m/%d %H:%M:%S}\".format(date))\n",
    "\n",
    "# print(\"its now: {:%Y/%m/%d %H:%M:%S}\".format(date))"
   ]
  },
  {
   "cell_type": "code",
   "execution_count": 55,
   "id": "5f2a378a-c002-46ad-bc17-618c9f8b228a",
   "metadata": {},
   "outputs": [
    {
     "name": "stdout",
     "output_type": "stream",
     "text": [
      "Real part: 1.0 and Imaginary part: 2.0\n"
     ]
    }
   ],
   "source": [
    "\n",
    "complexNumber = 1+2j\n",
    "print(\"Real part: {0.real} and Imaginary part: {0.imag}\".format(complexNumber))\n"
   ]
  },
  {
   "cell_type": "code",
   "execution_count": 63,
   "id": "0340b8cc-89ed-46ff-a3db-7fe9c8ba0299",
   "metadata": {},
   "outputs": [
    {
     "name": "stdout",
     "output_type": "stream",
     "text": [
      "Adam's age is:23\n",
      "Adam's age is:None\n"
     ]
    }
   ],
   "source": [
    "class Person:\n",
    "\n",
    "    def __format__(self,format):\n",
    "        if(format == 'age'):\n",
    "            return '23'\n",
    "        return 'None'\n",
    "print(\"Adam's age is:{:age}\".format(Person()))\n",
    "print(\"Adam's age is:{}\".format(Person()))"
   ]
  },
  {
   "cell_type": "code",
   "execution_count": null,
   "id": "8d553384-5a95-4742-a5bd-312d478d1940",
   "metadata": {},
   "outputs": [],
   "source": [
    "# You can also use object's __str__() and __repr__() functionality with shorthand notations using format().\n",
    "\n",
    "# Like __format__(), you can easily override object's __str__() and __repr_() methods."
   ]
  },
  {
   "cell_type": "code",
   "execution_count": 64,
   "id": "2e13e0be-563e-4e5c-94cb-988df6adbf19",
   "metadata": {},
   "outputs": [
    {
     "name": "stdout",
     "output_type": "stream",
     "text": [
      "Quotes: 'cat', Without Quotes: cat\n"
     ]
    }
   ],
   "source": [
    "# Example 12: __str()__ and __repr()__ shorthand !r and !s using format()\n",
    "\n",
    "# __str__() and __repr__() shorthand !r and !s\n",
    "print(\"Quotes: {0!r}, Without Quotes: {0!s}\".format(\"cat\"))"
   ]
  },
  {
   "cell_type": "code",
   "execution_count": 70,
   "id": "6e8f9e36-a8ef-4eee-885b-45681a340956",
   "metadata": {},
   "outputs": [
    {
     "name": "stdout",
     "output_type": "stream",
     "text": [
      "repr: REPR, str: STR\n"
     ]
    }
   ],
   "source": [
    "# __str__() and __repr__() implementation for class\n",
    "class Person:\n",
    "    def __str__(self):\n",
    "        return \"STR\"\n",
    "    def __repr__(self):\n",
    "        return \"REPR\"\n",
    "\n",
    "print(\"repr: {p!r}, str: {p!s}\".format(p=Person()))"
   ]
  },
  {
   "cell_type": "code",
   "execution_count": 71,
   "id": "edf1babf-90b1-48b9-8539-7bcfcd735fa6",
   "metadata": {},
   "outputs": [
    {
     "name": "stdout",
     "output_type": "stream",
     "text": [
      "The value is: 42\n"
     ]
    }
   ],
   "source": [
    "value = 42\n",
    "print(f\"The value is: {value!r}\")"
   ]
  },
  {
   "cell_type": "code",
   "execution_count": 74,
   "id": "c069058c-f7d9-4cb0-8da4-b56e97e8b54f",
   "metadata": {},
   "outputs": [
    {
     "name": "stdout",
     "output_type": "stream",
     "text": [
      "Welcome, John!\n"
     ]
    }
   ],
   "source": [
    "user_name = \"John\"\n",
    "print(f\"Welcome, {user_name!s}!\")"
   ]
  },
  {
   "cell_type": "code",
   "execution_count": 76,
   "id": "af910476-e089-4c4a-ad15-5318a295070e",
   "metadata": {},
   "outputs": [
    {
     "name": "stdout",
     "output_type": "stream",
     "text": [
      "Using repr: Example str\n",
      "Using str: Example str\n"
     ]
    }
   ],
   "source": [
    "class Example:\n",
    "    def __repr__(self):\n",
    "        return \"Example repr\"\n",
    "    \n",
    "    def __str__(self):\n",
    "        return \"Example str\"\n",
    "\n",
    "obj = Example()\n",
    "print(f\"Using repr: {obj!r}\")\n",
    "print(f\"Using str: {obj!s}\")"
   ]
  },
  {
   "cell_type": "code",
   "execution_count": 77,
   "id": "80243478-1d6a-48b0-a4de-e0dfb749f1e7",
   "metadata": {},
   "outputs": [
    {
     "name": "stdout",
     "output_type": "stream",
     "text": [
      "List contents: [1, 2, 3]\n",
      "Dictionary contents: {'a': 1, 'b': 2}\n"
     ]
    }
   ],
   "source": [
    "# Debugging list contents\n",
    "my_list = [1, 2, 3]\n",
    "print(f\"List contents: {my_list!r}\")\n",
    "\n",
    "# Debugging dictionary contents\n",
    "my_dict = {'a': 1, 'b': 2}\n",
    "print(f\"Dictionary contents: {my_dict!r}\")"
   ]
  },
  {
   "cell_type": "code",
   "execution_count": 82,
   "id": "96afd7e3-91d6-49b1-8cc1-d422101f1f4f",
   "metadata": {},
   "outputs": [
    {
     "name": "stdout",
     "output_type": "stream",
     "text": [
      "The book title is: Harry Potter and the title is J.K. Rowling\n"
     ]
    }
   ],
   "source": [
    "class Book:\n",
    "    def __init__(self, title, author):\n",
    "        self.title = title\n",
    "        self.author = author\n",
    "    \n",
    "    def __str__(self):\n",
    "        return f\"{self.title} and the title is {self.author}\"\n",
    "\n",
    "book = Book(\"Harry Potter\", \"J.K. Rowling\")\n",
    "print(f\"The book title is: {book!s}\")"
   ]
  },
  {
   "cell_type": "code",
   "execution_count": 83,
   "id": "6f072195-6a46-492d-9773-2a5f2fffc328",
   "metadata": {},
   "outputs": [
    {
     "name": "stdout",
     "output_type": "stream",
     "text": [
      "Using repr: Point(3, 4)\n",
      "Using str: (3, 4)\n"
     ]
    }
   ],
   "source": [
    "class Point:\n",
    "    def __init__(self, x, y):\n",
    "        self.x = x\n",
    "        self.y = y\n",
    "    \n",
    "    def __repr__(self):\n",
    "        return f\"Point({self.x!r}, {self.y!r})\"\n",
    "    \n",
    "    def __str__(self):\n",
    "        return f\"({self.x!s}, {self.y!s})\"\n",
    "\n",
    "point = Point(3, 4)\n",
    "print(f\"Using repr: {point!r}\")\n",
    "print(f\"Using str: {point!s}\")"
   ]
  },
  {
   "cell_type": "code",
   "execution_count": 84,
   "id": "0b99968d-b51f-42e8-bb4d-8e36f80fdc05",
   "metadata": {},
   "outputs": [
    {
     "name": "stdout",
     "output_type": "stream",
     "text": [
      "Using repr: Product(name='Laptop', price=999.99)\n",
      "Using str: Laptop: $999.99\n"
     ]
    }
   ],
   "source": [
    "class Product:\n",
    "    def __init__(self, name, price):\n",
    "        self.name = name\n",
    "        self.price = price\n",
    "    \n",
    "    def __repr__(self):\n",
    "        return f\"Product(name={self.name!r}, price={self.price!r})\"\n",
    "    \n",
    "    def __str__(self):\n",
    "        return f\"{self.name}: ${self.price}\"\n",
    "\n",
    "product = Product(\"Laptop\", 999.99)\n",
    "print(f\"Using repr: {product!r}\")\n",
    "print(f\"Using str: {product!s}\")"
   ]
  },
  {
   "cell_type": "code",
   "execution_count": null,
   "id": "2930bbc4-9735-4716-b8b8-57dd7ff92b58",
   "metadata": {},
   "outputs": [],
   "source": []
  },
  {
   "cell_type": "code",
   "execution_count": null,
   "id": "1d123d43-7ace-44ac-a911-e5f819dd30c3",
   "metadata": {},
   "outputs": [],
   "source": []
  },
  {
   "cell_type": "code",
   "execution_count": 85,
   "id": "dce3d579-cbd1-465b-a097-3a747f61c0c2",
   "metadata": {},
   "outputs": [],
   "source": [
    "# Python String index()\n",
    "# The string index() method returns the index of a substring inside the string (if found). If the substring is not found, it raises an exception.\n",
    "\n",
    "# Syntax:\n",
    "\n",
    "# str.index(sub[, start[, end]] )\n",
    "# index() Parameters\n",
    "# The index() method takes three parameters:\n",
    "\n",
    "# sub - substring to be searched in the string str.\n",
    "# start and end (optional) - substring is searched within str[start:end]."
   ]
  },
  {
   "cell_type": "code",
   "execution_count": 86,
   "id": "cf4d8151-9ac5-47a3-8e3b-06b6e1799550",
   "metadata": {},
   "outputs": [],
   "source": [
    "# Return Value from index()\n",
    "# If substring exists inside the string, it returns the lowest index in the string where substring is found.\n",
    "# If substring doesn't exist inside the string, it raises a ValueError exception.\n",
    "# The index() method is similar to find() method for strings.\n",
    "\n",
    "# The only difference is that find() method returns -1 if the substring is not found, whereas index() throws an exception."
   ]
  },
  {
   "cell_type": "code",
   "execution_count": 87,
   "id": "dc3ccc72-602b-4c88-9189-05783ffe8230",
   "metadata": {},
   "outputs": [
    {
     "name": "stdout",
     "output_type": "stream",
     "text": [
      "Substring 'is fun': 19\n"
     ]
    },
    {
     "ename": "ValueError",
     "evalue": "substring not found",
     "output_type": "error",
     "traceback": [
      "\u001b[1;31m---------------------------------------------------------------------------\u001b[0m",
      "\u001b[1;31mValueError\u001b[0m                                Traceback (most recent call last)",
      "Cell \u001b[1;32mIn[87], line 8\u001b[0m\n\u001b[0;32m      5\u001b[0m result \u001b[38;5;241m=\u001b[39m sentence\u001b[38;5;241m.\u001b[39mindex(\u001b[38;5;124m'\u001b[39m\u001b[38;5;124mis fun\u001b[39m\u001b[38;5;124m'\u001b[39m)\n\u001b[0;32m      6\u001b[0m \u001b[38;5;28mprint\u001b[39m(\u001b[38;5;124m\"\u001b[39m\u001b[38;5;124mSubstring \u001b[39m\u001b[38;5;124m'\u001b[39m\u001b[38;5;124mis fun\u001b[39m\u001b[38;5;124m'\u001b[39m\u001b[38;5;124m:\u001b[39m\u001b[38;5;124m\"\u001b[39m, result)\n\u001b[1;32m----> 8\u001b[0m result \u001b[38;5;241m=\u001b[39m \u001b[43msentence\u001b[49m\u001b[38;5;241;43m.\u001b[39;49m\u001b[43mindex\u001b[49m\u001b[43m(\u001b[49m\u001b[38;5;124;43m'\u001b[39;49m\u001b[38;5;124;43mJava\u001b[39;49m\u001b[38;5;124;43m'\u001b[39;49m\u001b[43m)\u001b[49m\n\u001b[0;32m      9\u001b[0m \u001b[38;5;28mprint\u001b[39m(\u001b[38;5;124m\"\u001b[39m\u001b[38;5;124mSubstring \u001b[39m\u001b[38;5;124m'\u001b[39m\u001b[38;5;124mJava\u001b[39m\u001b[38;5;124m'\u001b[39m\u001b[38;5;124m:\u001b[39m\u001b[38;5;124m\"\u001b[39m, result)\n",
      "\u001b[1;31mValueError\u001b[0m: substring not found"
     ]
    }
   ],
   "source": [
    "# Example 1: index() With Substring argument Only\n",
    "\n",
    "sentence = 'Python programming is fun.'\n",
    "\n",
    "result = sentence.index('is fun')\n",
    "print(\"Substring 'is fun':\", result)\n",
    "\n",
    "result = sentence.index('Java')\n",
    "print(\"Substring 'Java':\", result)"
   ]
  },
  {
   "cell_type": "code",
   "execution_count": 88,
   "id": "41f6d721-37da-4a8c-89f5-03eead021abf",
   "metadata": {},
   "outputs": [
    {
     "name": "stdout",
     "output_type": "stream",
     "text": [
      "15\n",
      "17\n"
     ]
    },
    {
     "ename": "ValueError",
     "evalue": "substring not found",
     "output_type": "error",
     "traceback": [
      "\u001b[1;31m---------------------------------------------------------------------------\u001b[0m",
      "\u001b[1;31mValueError\u001b[0m                                Traceback (most recent call last)",
      "Cell \u001b[1;32mIn[88], line 12\u001b[0m\n\u001b[0;32m      9\u001b[0m \u001b[38;5;28mprint\u001b[39m(sentence\u001b[38;5;241m.\u001b[39mindex(\u001b[38;5;124m'\u001b[39m\u001b[38;5;124mg is\u001b[39m\u001b[38;5;124m'\u001b[39m, \u001b[38;5;241m10\u001b[39m, \u001b[38;5;241m-\u001b[39m\u001b[38;5;241m4\u001b[39m))\n\u001b[0;32m     11\u001b[0m \u001b[38;5;66;03m# Substring is searched in 'programming'\u001b[39;00m\n\u001b[1;32m---> 12\u001b[0m \u001b[38;5;28mprint\u001b[39m(\u001b[43msentence\u001b[49m\u001b[38;5;241;43m.\u001b[39;49m\u001b[43mindex\u001b[49m\u001b[43m(\u001b[49m\u001b[38;5;124;43m'\u001b[39;49m\u001b[38;5;124;43mfun\u001b[39;49m\u001b[38;5;124;43m'\u001b[39;49m\u001b[43m,\u001b[49m\u001b[43m \u001b[49m\u001b[38;5;241;43m7\u001b[39;49m\u001b[43m,\u001b[49m\u001b[43m \u001b[49m\u001b[38;5;241;43m18\u001b[39;49m\u001b[43m)\u001b[49m)\n",
      "\u001b[1;31mValueError\u001b[0m: substring not found"
     ]
    }
   ],
   "source": [
    "# Example 2: index() With start and end Arguments\n",
    "\n",
    "sentence = 'Python programming is fun.'\n",
    "\n",
    "# Substring is searched in 'gramming is fun.'\n",
    "print(sentence.index('ing', 10))\n",
    "\n",
    "# Substring is searched in 'gramming is '\n",
    "print(sentence.index('g is', 10, -4))\n",
    "\n",
    "# Substring is searched in 'programming'\n",
    "print(sentence.index('fun', 7, 18))\n"
   ]
  },
  {
   "cell_type": "code",
   "execution_count": 89,
   "id": "47e1d4b0-e7e5-4d9c-8e1f-62113eb94fa7",
   "metadata": {},
   "outputs": [
    {
     "name": "stdout",
     "output_type": "stream",
     "text": [
      "19\n",
      "19\n",
      "2\n"
     ]
    },
    {
     "ename": "ValueError",
     "evalue": "substring not found",
     "output_type": "error",
     "traceback": [
      "\u001b[1;31m---------------------------------------------------------------------------\u001b[0m",
      "\u001b[1;31mValueError\u001b[0m                                Traceback (most recent call last)",
      "Cell \u001b[1;32mIn[89], line 7\u001b[0m\n\u001b[0;32m      5\u001b[0m \u001b[38;5;28mprint\u001b[39m(s\u001b[38;5;241m.\u001b[39mindex(\u001b[38;5;124m'\u001b[39m\u001b[38;5;124mi\u001b[39m\u001b[38;5;124m'\u001b[39m,\u001b[38;5;241m2\u001b[39m))\n\u001b[0;32m      6\u001b[0m \u001b[38;5;28mprint\u001b[39m(s\u001b[38;5;241m.\u001b[39mindex(\u001b[38;5;124m'\u001b[39m\u001b[38;5;124mLove\u001b[39m\u001b[38;5;124m'\u001b[39m))\n\u001b[1;32m----> 7\u001b[0m \u001b[38;5;28mprint\u001b[39m(\u001b[43ms\u001b[49m\u001b[38;5;241;43m.\u001b[39;49m\u001b[43mindex\u001b[49m\u001b[43m(\u001b[49m\u001b[38;5;124;43m'\u001b[39;49m\u001b[38;5;124;43mLove\u001b[39;49m\u001b[38;5;124;43m'\u001b[39;49m\u001b[43m,\u001b[49m\u001b[38;5;241;43m7\u001b[39;49m\u001b[43m)\u001b[49m)\n\u001b[0;32m      8\u001b[0m \u001b[38;5;28mprint\u001b[39m(s\u001b[38;5;241m.\u001b[39mindex(\u001b[38;5;124m'\u001b[39m\u001b[38;5;124mi\u001b[39m\u001b[38;5;124m'\u001b[39m,\u001b[38;5;241m0\u001b[39m,\u001b[38;5;241m10\u001b[39m))\n",
      "\u001b[1;31mValueError\u001b[0m: substring not found"
     ]
    }
   ],
   "source": [
    "# Example 3:\n",
    "\n",
    "s=\"I Love Python Tutorial\"\n",
    "print(s.index('i'))\n",
    "print(s.index('i',2))\n",
    "print(s.index('Love'))\n",
    "print(s.index('Love',7))\n",
    "print(s.index('i',0,10))"
   ]
  },
  {
   "cell_type": "code",
   "execution_count": 1,
   "id": "6f6d47fc-67e4-4072-ab94-7a171d0ca489",
   "metadata": {},
   "outputs": [],
   "source": [
    "# # find vs index\n",
    "\n",
    "# find returns -1 if value is not presnet if there return least value \n",
    "\n",
    "# index return value error if not present if there it return where the value of that index "
   ]
  },
  {
   "cell_type": "code",
   "execution_count": 2,
   "id": "36cb13fb-9301-40eb-9d62-928425f325a6",
   "metadata": {},
   "outputs": [],
   "source": [
    "# Python String isalnum()\n",
    "# The string isalnum() method returns \n",
    "# True if all characters in the string are alphanumeric (either alphabets or numbers).\n",
    "# If not, it returns False.\n",
    "\n",
    "# Syntax:\n",
    "\n",
    "# string.isalnum()\n",
    "\n",
    "# isalnum() Parameters\n",
    "# The isalnum() method doesn't take any parameters.\n",
    "\n",
    "# Return Value from isalnum()\n",
    "# The isalnum() returns:\n",
    "\n",
    "# True if all characters in the string are alphanumeric\n",
    "# False if at least one character is not alphanumeric"
   ]
  },
  {
   "cell_type": "code",
   "execution_count": 5,
   "id": "cb000279-a698-4d38-b5f0-0645591d8a15",
   "metadata": {},
   "outputs": [
    {
     "name": "stdout",
     "output_type": "stream",
     "text": [
      "True\n",
      "False\n",
      "True\n",
      "True\n"
     ]
    }
   ],
   "source": [
    "# Example 1: Working of isalnum()\n",
    "\n",
    "name = \"M234onica\"\n",
    "print(name.isalnum())\n",
    "\n",
    "# contains whitespace\n",
    "name = \"M3onica Gell22er \"\n",
    "print(name.isalnum())\n",
    "\n",
    "name = \"Mo3nicaGell22er\"\n",
    "print(name.isalnum())\n",
    "\n",
    "name = \"133\"\n",
    "print(name.isalnum())"
   ]
  },
  {
   "cell_type": "code",
   "execution_count": 6,
   "id": "ad88d3f2-efb1-40e2-b49e-b4bc057b382c",
   "metadata": {},
   "outputs": [
    {
     "name": "stdout",
     "output_type": "stream",
     "text": [
      "All characters of the string (name) are alphanumeric.\n"
     ]
    }
   ],
   "source": [
    "# Example 2: Working of isalnum()\n",
    "\n",
    "name = \"M0n1caG3ll3r\"\n",
    "\n",
    "if name.isalnum() == True:\n",
    "    print(\"All characters of the string (name) are alphanumeric.\")\n",
    "else:\n",
    "    print(\"All chracters are not alphanumeric.\")"
   ]
  },
  {
   "cell_type": "code",
   "execution_count": 8,
   "id": "5ec0259f-9062-4068-8470-e0ec077b6cbf",
   "metadata": {},
   "outputs": [
    {
     "name": "stdout",
     "output_type": "stream",
     "text": [
      "False\n",
      "True\n"
     ]
    }
   ],
   "source": [
    "s = \"I Love pyhton 3 Tutorial\"\n",
    "\n",
    "print(s.isalnum())\n",
    "\n",
    "s = \"python\"\n",
    "print(s.isalnum())"
   ]
  },
  {
   "cell_type": "code",
   "execution_count": null,
   "id": "030d5a0c-9720-4acd-b548-9166f5cc0c06",
   "metadata": {},
   "outputs": [],
   "source": []
  },
  {
   "cell_type": "code",
   "execution_count": 9,
   "id": "0f14ddf2-e1e6-4bcb-9aa4-aca9b3377b76",
   "metadata": {},
   "outputs": [],
   "source": [
    "# # isalpha\n",
    "\n",
    "\n",
    "# Python String isalpha()\n",
    "# The string isalpha() method returns True\n",
    "# if all characters in the string are alphabets. If not, it returns False.\n",
    "\n",
    "# Syntax:\n",
    "\n",
    "# string.isalpha()\n",
    "\n",
    "# isalpha() Parameters\n",
    "# The isalpha() method doesn't take any parameters.\n",
    "# Return Value from isalpha()\n",
    "# The isalpha() returns:\n",
    "\n",
    "# True if all characters in the string are alphabets (can be both lowercase and uppercase).\n",
    "# False if at least one character is not alphabet.\n",
    "\n"
   ]
  },
  {
   "cell_type": "code",
   "execution_count": 12,
   "id": "2d75a1e4-1198-443a-8990-628545b36737",
   "metadata": {},
   "outputs": [
    {
     "name": "stdout",
     "output_type": "stream",
     "text": [
      "True\n",
      "False\n",
      "False\n"
     ]
    }
   ],
   "source": [
    "# Example 1: Working of isalpha()\n",
    "# True if all characters in the string are alphabets (can be both lowercase and uppercase).\n",
    "\n",
    "\n",
    "name = \"Monica\"\n",
    "print(name.isalpha())\n",
    "\n",
    "\n",
    "name = \"gane124usda\"\n",
    "print(name.isalpha())\n",
    "\n",
    "# contains whitespace\n",
    "name = \"Monica Geller\"\n",
    "print(name.isalpha())\n"
   ]
  },
  {
   "cell_type": "code",
   "execution_count": 13,
   "id": "7996574e-796c-4de3-a80f-59ed7c9cbbdd",
   "metadata": {},
   "outputs": [
    {
     "name": "stdout",
     "output_type": "stream",
     "text": [
      "All characters are alphabets\n"
     ]
    }
   ],
   "source": [
    "# Example 2: Working of isalpha()\n",
    "\n",
    "name = \"MonicaGeller\"\n",
    "\n",
    "if name.isalpha() == True:\n",
    "    print(\"All characters are alphabets\")\n",
    "\n",
    "else:\n",
    "    print(\"All characters are not alphabets\")"
   ]
  },
  {
   "cell_type": "code",
   "execution_count": 14,
   "id": "4ddb0381-a463-4f3c-8fb1-78f02e1e49a7",
   "metadata": {},
   "outputs": [
    {
     "name": "stdout",
     "output_type": "stream",
     "text": [
      "False\n",
      "True\n"
     ]
    }
   ],
   "source": [
    "# Example 3:\n",
    "\n",
    "s=\"I Love Python 3 Tutorial\"\n",
    "print(s.isalpha())\n",
    "s=\"Python\" # No space & digit in this string\n",
    "print(s.isalpha())\n"
   ]
  },
  {
   "cell_type": "code",
   "execution_count": null,
   "id": "afe7f32b-c5fb-4192-87a7-7bce9b17a368",
   "metadata": {},
   "outputs": [],
   "source": []
  },
  {
   "cell_type": "code",
   "execution_count": 15,
   "id": "c358a13d-b06b-4d21-bda8-8caaad98070f",
   "metadata": {},
   "outputs": [],
   "source": [
    "# decimal\n",
    "\n",
    "# Python String isdecimal()\n",
    "\n",
    "# The string isdecimal() method returns True if all characters in the string are decimal characters. \n",
    "# If not, it returns False.\n",
    "\n",
    "# Syntax:\n",
    "\n",
    "# string.isdecimal()\n",
    "\n",
    "# Return Value from isdecimal()\n",
    "# The isdecimal() returns:\n",
    "\n",
    "# True if all characters in the string are decimal characters.\n",
    "# False if at least one character is not decimal characters."
   ]
  },
  {
   "cell_type": "code",
   "execution_count": 16,
   "id": "f8dcad98-ac25-4ef3-945f-edb4ef4847b1",
   "metadata": {},
   "outputs": [
    {
     "name": "stdout",
     "output_type": "stream",
     "text": [
      "True\n",
      "False\n",
      "False\n"
     ]
    }
   ],
   "source": [
    "# Example 1: Working of isdecimal()\n",
    "\n",
    "s = \"28212\"\n",
    "print(s.isdecimal())\n",
    "\n",
    "# contains alphabets\n",
    "s = \"32ladk3\"\n",
    "print(s.isdecimal())\n",
    "\n",
    "# contains alphabets and spaces\n",
    "s = \"Mo3 nicaG el l22er\"\n",
    "print(s.isdecimal())"
   ]
  },
  {
   "cell_type": "code",
   "execution_count": 18,
   "id": "7c7f81da-4485-41c4-b80c-3b617e593d30",
   "metadata": {},
   "outputs": [
    {
     "name": "stdout",
     "output_type": "stream",
     "text": [
      "True\n",
      "False\n",
      "False\n"
     ]
    }
   ],
   "source": [
    "s = '23456'\n",
    "print(s.isdecimal())\n",
    "\n",
    "#s = '²3455'\n",
    "s = '\\u00B23455'\n",
    "print(s.isdecimal())\n",
    "\n",
    "# s = '½'\n",
    "s = '\\u00BD'\n",
    "print(s.isdecimal())"
   ]
  },
  {
   "cell_type": "code",
   "execution_count": 22,
   "id": "49ed6971-1624-4985-880d-7eaba71c4ae1",
   "metadata": {},
   "outputs": [
    {
     "data": {
      "text/plain": [
       "True"
      ]
     },
     "execution_count": 22,
     "metadata": {},
     "output_type": "execute_result"
    }
   ],
   "source": [
    "s = '23'\n",
    "s.isdecimal()"
   ]
  },
  {
   "cell_type": "code",
   "execution_count": 23,
   "id": "aea57cae-ae3c-4e67-9060-ea943e065116",
   "metadata": {},
   "outputs": [],
   "source": [
    "# Python String isdigit()\n",
    "# The string isdigit() method returns True if all characters in the string are digits. If not, it returns False.\n",
    "\n",
    "# Syntax:\n",
    "\n",
    "# string.isdigit()\n",
    "\n",
    "# isdigit() Parameters\n",
    "# The isdigit() method doesn't take any parameters.\n",
    "\n",
    "# Return Value from isdigit()\n",
    "# The isdigit() returns:\n",
    "\n",
    "# True if all characters in the string are digits.\n",
    "# False if at least one character is not digits."
   ]
  },
  {
   "cell_type": "code",
   "execution_count": 24,
   "id": "253445d4-005b-4097-bea6-6366f31cbf88",
   "metadata": {},
   "outputs": [
    {
     "name": "stdout",
     "output_type": "stream",
     "text": [
      "True\n",
      "False\n"
     ]
    }
   ],
   "source": [
    "# Example 1: Working of isdigit()\n",
    "\n",
    "s = \"28212\"\n",
    "print(s.isdigit())\n",
    "\n",
    "# contains alphabets and spaces\n",
    "s = \"Mo3 nicaG el l22er\"\n",
    "print(s.isdigit())"
   ]
  },
  {
   "cell_type": "code",
   "execution_count": 25,
   "id": "259c10f7-063a-44b7-9a72-1140c6907261",
   "metadata": {},
   "outputs": [
    {
     "name": "stdout",
     "output_type": "stream",
     "text": [
      "True\n",
      "True\n",
      "False\n"
     ]
    }
   ],
   "source": [
    "# In Python, superscript and subscripts (usually written using unicode) are also considered digit characters.\n",
    "# Hence, if the string contains these characters along with decimal characters, isdigit() returns True.\n",
    "\n",
    "# Example 2: String Containing digits and Numeric Characters\n",
    "\n",
    "s = '23455'\n",
    "print(s.isdigit())\n",
    "\n",
    "#s = '²3455'\n",
    "# subscript is a digit\n",
    "s = '\\u00B23455'\n",
    "print(s.isdigit())\n",
    "\n",
    "# s = '½'\n",
    "# fraction is not a digit\n",
    "s = '\\u00BD'\n",
    "print(s.isdigit())"
   ]
  },
  {
   "cell_type": "code",
   "execution_count": 26,
   "id": "4f75e6ef-578f-4c54-944e-be16683dfaba",
   "metadata": {},
   "outputs": [
    {
     "name": "stdout",
     "output_type": "stream",
     "text": [
      "False\n",
      "True\n"
     ]
    }
   ],
   "source": [
    "\n",
    "s=\"I Love 3 Python Tutorial\"\n",
    "\n",
    "print(s.isdigit())\n",
    "s=\"123\" # Only digit in this string\n",
    "print(s.isdigit())"
   ]
  },
  {
   "cell_type": "code",
   "execution_count": null,
   "id": "f9bc3ea9-1875-46fd-9d19-a44d7a1436ca",
   "metadata": {},
   "outputs": [],
   "source": []
  },
  {
   "cell_type": "code",
   "execution_count": 27,
   "id": "211edcf9-1bef-46d2-954b-452f565e5a38",
   "metadata": {},
   "outputs": [],
   "source": [
    "# isidentifier\n",
    "# Python String isidentifier()\n",
    "# The string isidentifier() method returns True if the string is a valid identifier in Python. \n",
    "# If not, it returns False.Syntax:\n",
    "# Syntax:\n",
    "\n",
    "# string.isidentifier()\n",
    "\n",
    "# isidentifier() Parameters\n",
    "# The isidentifier() method doesn't take any parameters.\n",
    "\n",
    "# Return Value from isidentifier()\n",
    "# The isidentifier() returns:\n",
    "\n",
    "# True is a valid identifier.\n",
    "# False if the string is not a invalid identifier.\n"
   ]
  },
  {
   "cell_type": "code",
   "execution_count": 34,
   "id": "b784fdea-fd9e-4065-b655-9600c3709db7",
   "metadata": {},
   "outputs": [
    {
     "name": "stdout",
     "output_type": "stream",
     "text": [
      "True\n",
      "False\n",
      "True\n"
     ]
    }
   ],
   "source": [
    "str = 'Python'\n",
    "\n",
    "print(str.isidentifier())\n",
    "\n",
    "str = 'py thon'\n",
    "print(str.isidentifier())\n",
    "\n",
    "str = 'py3thon'\n",
    "print(str.isidentifier())\n",
    "\n"
   ]
  },
  {
   "cell_type": "code",
   "execution_count": null,
   "id": "c2939d04-c1cc-47ad-9363-ce132b50c9b4",
   "metadata": {},
   "outputs": [],
   "source": [
    "# we cant use reserved words as an identifier \n",
    "# either it has to be startswith _ or alphabets \n",
    "# middle of isidentifier we can't use special char except '_' - underscore str = 'pyt_hon'"
   ]
  },
  {
   "cell_type": "code",
   "execution_count": 38,
   "id": "0c430128-da23-4ab5-8173-287e8b0e60dc",
   "metadata": {},
   "outputs": [
    {
     "name": "stdout",
     "output_type": "stream",
     "text": [
      "True\n"
     ]
    }
   ],
   "source": [
    "str = 'pyt_hon'\n",
    "print(str.isidentifier())\n",
    "\n"
   ]
  },
  {
   "cell_type": "code",
   "execution_count": 40,
   "id": "b8163f95-93c1-451e-b60e-c9a515675fd6",
   "metadata": {},
   "outputs": [
    {
     "name": "stdout",
     "output_type": "stream",
     "text": [
      "root33 is a valid identifier.\n",
      "33root is not a valid identifier.\n",
      "root 33 is not a valid identifier.\n"
     ]
    }
   ],
   "source": [
    "# Example 2: More Example of isidentifier()\n",
    "\n",
    "str = 'root33'\n",
    "\n",
    "if str.isidentifier() == True:\n",
    "    print(str, 'is a valid identifier.')\n",
    "else:\n",
    "    print(str,'is not a valid identifier.')\n",
    "\n",
    "str = '33root'\n",
    "\n",
    "if str.isidentifier() == True:\n",
    "    print(str, 'is a valid identifier.')\n",
    "else:\n",
    "    print(str,'is not a valid identifier.')\n",
    "\n",
    "\n",
    "str = 'root 33'\n",
    "if str.isidentifier() == True:\n",
    "    print(str, 'is a valid identifier.')\n",
    "else:\n",
    "    print(str, 'is not a valid identifier.')\n"
   ]
  },
  {
   "cell_type": "code",
   "execution_count": null,
   "id": "93d5e8a8-aed6-447b-abae-4e027b80e676",
   "metadata": {},
   "outputs": [],
   "source": []
  },
  {
   "cell_type": "code",
   "execution_count": 41,
   "id": "d72c88b5-339a-439e-81bf-8c7ed622f8ea",
   "metadata": {},
   "outputs": [],
   "source": [
    "# Python String islower()\n",
    "# The string islower() method returns True if all alphabets in a string are lowercase alphabets. If the string contains at least one uppercase alphabet, it returns False.\n",
    "\n",
    "# Syntax:\n",
    "# string.islower()\n",
    "\n",
    "# islower() Parameters\n",
    "# The islower() method doesn't take any parameters.\n",
    "\n",
    "# Return Value from islower()\n",
    "# The islower() returns:\n",
    "\n",
    "# True if all alphabets that exist in the string are lowercase alphabets.\n",
    "# False if the string contains at least one uppercase alphabet."
   ]
  },
  {
   "cell_type": "code",
   "execution_count": 51,
   "id": "7e6a10da-ddf5-489c-ad1c-cbba0a30ddb3",
   "metadata": {},
   "outputs": [
    {
     "name": "stdout",
     "output_type": "stream",
     "text": [
      "True\n",
      "True\n",
      "False\n"
     ]
    }
   ],
   "source": [
    "# Example 1: Return Value from islower()\n",
    "\n",
    "s = 'this is good'\n",
    "print(s.islower())\n",
    "\n",
    "s = 'th!s is a122so g00d'\n",
    "print(s.islower())\n",
    "\n",
    "s = 'this is Not good'\n",
    "print(s.islower())"
   ]
  },
  {
   "cell_type": "markdown",
   "id": "cdb3ee26-1eb1-4422-8da7-ab8d6a96803d",
   "metadata": {},
   "source": []
  },
  {
   "cell_type": "code",
   "execution_count": 52,
   "id": "dca052fd-c640-44ce-93cb-ee37d19ffef0",
   "metadata": {},
   "outputs": [
    {
     "name": "stdout",
     "output_type": "stream",
     "text": [
      "Does not contain uppercase letter.\n",
      "Contains uppercase letter.\n"
     ]
    }
   ],
   "source": [
    "s = 'this is good'\n",
    "if s.islower() == True:\n",
    "    print('Does not contain uppercase letter.')\n",
    "else:\n",
    "    print('Contains uppercase letter.')\n",
    "  \n",
    "s = 'this is Good'\n",
    "if s.islower() == True:\n",
    "    print('Does not contain uppercase letter.')\n",
    "else:\n",
    "    print('Contains uppercase letter.')"
   ]
  },
  {
   "cell_type": "code",
   "execution_count": 53,
   "id": "b3776252-9671-45fc-bb72-92cbae1b76c2",
   "metadata": {},
   "outputs": [
    {
     "name": "stdout",
     "output_type": "stream",
     "text": [
      "False\n",
      "True\n"
     ]
    }
   ],
   "source": [
    "s=\"I Love Python 3 Tutorial\"\n",
    "\n",
    "print(s.islower())\n",
    "p=\"python\"\n",
    "print(p.islower())"
   ]
  },
  {
   "cell_type": "code",
   "execution_count": null,
   "id": "fd6c4578-c87a-4d4b-8538-937ce4f59e49",
   "metadata": {},
   "outputs": [],
   "source": []
  },
  {
   "cell_type": "code",
   "execution_count": 57,
   "id": "046189de-0897-444a-a7d0-83a49e479226",
   "metadata": {},
   "outputs": [],
   "source": [
    "# Python String isnumeric()\n",
    "# The string isnumeric() method returns True if all characters in a string are numeric characters. If not, it returns False.\n",
    "\n",
    "# A numeric character has following properties:\n",
    "\n",
    "# Numeric_Type=Decimal\n",
    "# Numeric_Type=Digit\n",
    "# Numeric_Type=Numeric\n",
    "\n",
    "# s = '½'/\n",
    "# >>>s = '\\u00BD'/\n",
    "# Syntax:\n",
    "\n",
    "# string.isnumeric()\n",
    "# isnumeric() Parameters\n",
    "# The isnumeric() method doesn't take any parameters.\n",
    "\n",
    "# Return Value from isnumeric()\n",
    "# The isnumeric() returns:\n",
    "\n",
    "# True if all characters in the string are numeric characters.\n",
    "# False if at least one character is not a numeric character.\n"
   ]
  },
  {
   "cell_type": "code",
   "execution_count": 58,
   "id": "120b4931-dcce-4673-b773-04fd8c4e37f2",
   "metadata": {},
   "outputs": [
    {
     "name": "stdout",
     "output_type": "stream",
     "text": [
      "True\n",
      "True\n",
      "True\n",
      "False\n"
     ]
    }
   ],
   "source": [
    "# Example 1: Working of isnumeric()\n",
    "\n",
    "s = '1242323'\n",
    "print(s.isnumeric())\n",
    "\n",
    "#s = '²3455'\n",
    "s = '\\u00B23455'\n",
    "print(s.isnumeric())\n",
    "\n",
    "# s = '½'\n",
    "s = '\\u00BD'\n",
    "print(s.isnumeric())\n",
    "\n",
    "s = '1242323'\n",
    "s='python12'\n",
    "print(s.isnumeric())"
   ]
  },
  {
   "cell_type": "code",
   "execution_count": 59,
   "id": "05359899-0180-489f-b804-95a58588a9cc",
   "metadata": {},
   "outputs": [
    {
     "name": "stdout",
     "output_type": "stream",
     "text": [
      "All characters are numeric.\n"
     ]
    }
   ],
   "source": [
    "# Example 2: How to use isnumeric()?\n",
    "    \n",
    "#s = '²3455'\n",
    "s = '\\u00B23455'\n",
    "\n",
    "if s.isnumeric() == True:\n",
    "    print('All characters are numeric.')\n",
    "else:\n",
    "    print('All characters are not numeric.')"
   ]
  },
  {
   "cell_type": "code",
   "execution_count": 61,
   "id": "402b426d-fd32-46b4-93d1-5a899b794ce7",
   "metadata": {},
   "outputs": [
    {
     "data": {
      "text/plain": [
       "True"
      ]
     },
     "execution_count": 61,
     "metadata": {},
     "output_type": "execute_result"
    }
   ],
   "source": [
    "s = '1233456788'\n",
    "s.isnumeric()"
   ]
  },
  {
   "cell_type": "code",
   "execution_count": 62,
   "id": "ca0f69cb-f2d9-485e-afb2-44d7a8a1cc85",
   "metadata": {},
   "outputs": [
    {
     "name": "stdout",
     "output_type": "stream",
     "text": [
      "False\n",
      "True\n"
     ]
    }
   ],
   "source": [
    "# Example 3:\n",
    "\n",
    "str = \"helloworld99\"\n",
    "\n",
    "print (str.isnumeric())\n",
    "str = \"10121997\"\n",
    "print (str.isnumeric())"
   ]
  },
  {
   "cell_type": "code",
   "execution_count": null,
   "id": "3473a27b-f71b-46b6-bf09-5d385fd770b1",
   "metadata": {},
   "outputs": [],
   "source": []
  },
  {
   "cell_type": "code",
   "execution_count": 63,
   "id": "a24c0b6e-2945-4037-bbc0-8037871fb534",
   "metadata": {},
   "outputs": [],
   "source": [
    "# Python String isprintable()\n",
    "# The string isprintable() method returns True if all characters in a string are printable or the string is empty. If not, it returns False.\n",
    "\n",
    "# Characters that occupy printing space on the screen are known as printable characters. For example:\n",
    "\n",
    "# letters and symbols\n",
    "# digits\n",
    "# punctuation\n",
    "# whitespace\n"
   ]
  },
  {
   "cell_type": "code",
   "execution_count": 64,
   "id": "25b4e5a0-ae6a-4604-8dd2-65005b0c76c5",
   "metadata": {},
   "outputs": [],
   "source": [
    "# Syntax:\n",
    "\n",
    "# string.isprintable()\n",
    "# isprintable() Parameters\n",
    "# The isprintable() method doesn't take any parameters.\n",
    "\n",
    "# Return Value from isprintable()\n",
    "# The isprintable() returns:\n",
    "\n",
    "# True if all characters in the string are printable.\n",
    "# False if the string contains at least one non-printable character."
   ]
  },
  {
   "cell_type": "code",
   "execution_count": 65,
   "id": "8a007e0e-0895-4b88-8d9b-3076f69a3220",
   "metadata": {},
   "outputs": [
    {
     "name": "stdout",
     "output_type": "stream",
     "text": [
      "Space is a printable\n",
      "True\n"
     ]
    }
   ],
   "source": [
    "s = 'Space is a printable'\n",
    "print(s)\n",
    "print(s.isprintable())\n"
   ]
  },
  {
   "cell_type": "code",
   "execution_count": 66,
   "id": "9dbb8259-a4db-479a-9f09-9afcc6d1ed4d",
   "metadata": {},
   "outputs": [
    {
     "name": "stdout",
     "output_type": "stream",
     "text": [
      "\n",
      "New Line is printable\n",
      "False\n",
      "\n",
      "Empty string printable? True\n"
     ]
    }
   ],
   "source": [
    "s = '\\nNew Line is printable'\n",
    "print(s)\n",
    "print(s.isprintable())\n",
    "\n",
    "s = ''\n",
    "print('\\nEmpty string printable?', s.isprintable())"
   ]
  },
  {
   "cell_type": "code",
   "execution_count": 67,
   "id": "80eddfba-ebe9-4caf-b7aa-effacef29ea8",
   "metadata": {},
   "outputs": [
    {
     "name": "stdout",
     "output_type": "stream",
     "text": [
      "Help on built-in function isprintable:\n",
      "\n",
      "isprintable() method of builtins.str instance\n",
      "    Return True if the string is printable, False otherwise.\n",
      "    \n",
      "    A string is printable if all of its characters are considered printable in\n",
      "    repr() or if it is empty.\n",
      "\n"
     ]
    }
   ],
   "source": [
    "help(s.isprintable)"
   ]
  },
  {
   "cell_type": "code",
   "execution_count": 68,
   "id": "32fffdd5-fe5a-4181-8c59-5c69116afc26",
   "metadata": {},
   "outputs": [
    {
     "name": "stdout",
     "output_type": "stream",
     "text": [
      "\n",
      "New Line is printable\n",
      "False\n"
     ]
    }
   ],
   "source": [
    "s = '\\nNew Line is printable'\n",
    "print(s)\n",
    "print(s.isprintable())"
   ]
  },
  {
   "cell_type": "code",
   "execution_count": 69,
   "id": "15a2a1a0-060f-41f1-9aa7-f10747e73369",
   "metadata": {},
   "outputs": [
    {
     "data": {
      "text/plain": [
       "\"'\\\\nNew Line is printable'\""
      ]
     },
     "execution_count": 69,
     "metadata": {},
     "output_type": "execute_result"
    }
   ],
   "source": [
    "repr(s)"
   ]
  },
  {
   "cell_type": "code",
   "execution_count": 73,
   "id": "79f02ec7-d11e-4461-846d-817e60c9976c",
   "metadata": {},
   "outputs": [
    {
     "data": {
      "text/plain": [
       "\"''\""
      ]
     },
     "execution_count": 73,
     "metadata": {},
     "output_type": "execute_result"
    }
   ],
   "source": [
    "s = ''\n",
    "repr(s)"
   ]
  },
  {
   "cell_type": "code",
   "execution_count": 74,
   "id": "4e69b7c7-33f4-41f3-8d8b-471700608bf5",
   "metadata": {},
   "outputs": [
    {
     "name": "stdout",
     "output_type": "stream",
     "text": [
      "Not Printable\n",
      "Printable\n"
     ]
    }
   ],
   "source": [
    "# written using ASCII\n",
    "# chr(27) is escape character\n",
    "# char(97) is letter 'a'\n",
    "s = chr(27) + chr(97)\n",
    "\n",
    "if s.isprintable() == True:\n",
    "    print('Printable')\n",
    "else:\n",
    "    print('Not Printable')\n",
    "  \n",
    "s = '2+2 = 4'\n",
    "\n",
    "if s.isprintable() == True:\n",
    "    print('Printable')\n",
    "else:\n",
    "    print('Not Printable')"
   ]
  },
  {
   "cell_type": "code",
   "execution_count": 79,
   "id": "cf0fcb48-bbb9-4112-b20c-98a0c14e9a79",
   "metadata": {},
   "outputs": [
    {
     "name": "stdout",
     "output_type": "stream",
     "text": [
      "False\n",
      "True\n",
      "True\n"
     ]
    }
   ],
   "source": [
    "# isspace\n",
    "\n",
    "s = ''\n",
    "print(s.isspace())\n",
    "\n",
    "\n",
    "s = ' '\n",
    "print(s.isspace())\n",
    "\n",
    "s = '\\t'\n",
    "print(s.isspace())"
   ]
  },
  {
   "cell_type": "code",
   "execution_count": null,
   "id": "7b81af0f-13d5-42c7-a357-040f4b3c55ec",
   "metadata": {},
   "outputs": [],
   "source": []
  },
  {
   "cell_type": "code",
   "execution_count": 81,
   "id": "d41dd088-b330-4c36-b3ea-52b88c93dc17",
   "metadata": {},
   "outputs": [],
   "source": [
    "# Python String istitle()\n",
    "# The string istitle() method returns True if the string is a titlecased string.\n",
    "# If not, it returns False.\n",
    "\n",
    "# Syntax:\n",
    "\n",
    "# string.istitle()\n",
    "\n",
    "# Return Value from istitle()\n",
    "# The istitle() returns:\n",
    "\n",
    "# True if the string is a titlecased string.\n",
    "# False if the string is not a titlecased string or an empty string."
   ]
  },
  {
   "cell_type": "code",
   "execution_count": 86,
   "id": "590ffb79-0c6a-4000-b91b-c7a8cf5bcbae",
   "metadata": {},
   "outputs": [
    {
     "name": "stdout",
     "output_type": "stream",
     "text": [
      "True\n",
      "False\n",
      "True\n",
      "True\n",
      "False\n"
     ]
    }
   ],
   "source": [
    "# Example 1: Working of istitle()\n",
    "\n",
    "s = 'Python Is Good.'\n",
    "print(s.istitle())\n",
    "\n",
    "s = 'Python is good'\n",
    "print(s.istitle())\n",
    "\n",
    "s = 'This Is @ Symbol.'\n",
    "print(s.istitle())\n",
    "\n",
    "s = '99 Is A Number'\n",
    "print(s.istitle())\n",
    "\n",
    "s = 'PYTHON'\n",
    "print(s.istitle())"
   ]
  },
  {
   "cell_type": "code",
   "execution_count": 90,
   "id": "d909d805-3b7a-48e0-89a2-d0982ab8ae47",
   "metadata": {},
   "outputs": [
    {
     "name": "stdout",
     "output_type": "stream",
     "text": [
      "Titlecased String\n",
      "Not a Titlecased String\n"
     ]
    }
   ],
   "source": [
    "s = 'I Love Pyhton 3 Tutorial'\n",
    "\n",
    "# print(s.istitle())\n",
    "if s.istitle() == True:\n",
    "    print('Titlecased String')\n",
    "else:\n",
    "    print('Not a TItlecased String')\n",
    "\n",
    "s = 'PYthon'\n",
    "if s.istitle() == True:\n",
    "    print('Titlecased String')\n",
    "else:\n",
    "    print('Not a Titlecased String')"
   ]
  },
  {
   "cell_type": "code",
   "execution_count": 91,
   "id": "3fc6d22d-ab18-4149-a8e0-d01aa59c0c50",
   "metadata": {},
   "outputs": [
    {
     "name": "stdout",
     "output_type": "stream",
     "text": [
      "True\n",
      "False\n"
     ]
    }
   ],
   "source": [
    "# Example 3:\n",
    "\n",
    "s1='I Love Python Tutorial'\n",
    "\n",
    "print(s1.istitle())\n",
    "s2='I love python 3'\n",
    "print(s2.istitle())"
   ]
  },
  {
   "cell_type": "code",
   "execution_count": null,
   "id": "e301ef07-5b4d-4f7a-8a5b-20b2275a80ba",
   "metadata": {},
   "outputs": [],
   "source": []
  },
  {
   "cell_type": "code",
   "execution_count": 93,
   "id": "936cbcf9-5f1e-4313-89c1-40fd31cfb71f",
   "metadata": {},
   "outputs": [],
   "source": [
    "# isupper()\n",
    "\n",
    "# Python String isupper()\n",
    "# The string isupper() method returns True if all alphabets in a string are uppercase alphabets. If the string contains at least one lowercase alphabet, it returns False.\n",
    "\n",
    "# Syntax:\n",
    "\n",
    "# string.isupper()\n",
    "# isupper() Parameters\n",
    "# The isupper() method doesn't take any parameters.\n",
    "\n",
    "# Return Value from isupper()\n",
    "# The isupper() returns:\n",
    "\n",
    "# True if all characters in a string are uppercase characters.\n",
    "# False if any characters in a string are lowercase characters.\n"
   ]
  },
  {
   "cell_type": "code",
   "execution_count": 96,
   "id": "eb9304e0-d861-40b3-b804-180f801a6cb6",
   "metadata": {},
   "outputs": [
    {
     "name": "stdout",
     "output_type": "stream",
     "text": [
      "True\n",
      "True\n",
      "False\n"
     ]
    }
   ],
   "source": [
    "# Example 1: Return value of isupper()\n",
    "\n",
    "# example string\n",
    "string = \"THIS IS GOOD!\"\n",
    "print(string.isupper())\n",
    "\n",
    "# numbers in place of alphabets\n",
    "string = \"THIS IS ALSO G00D!\"\n",
    "print(string.isupper());\n",
    "\n",
    "# lowercase string\n",
    "string = \"THIS IS not GOOD!\"\n",
    "print(string.isupper());"
   ]
  },
  {
   "cell_type": "code",
   "execution_count": 97,
   "id": "86c268e2-3323-4006-aea6-6af37bd3ae7a",
   "metadata": {},
   "outputs": [
    {
     "name": "stdout",
     "output_type": "stream",
     "text": [
      "Does not contain lowercase letter.\n",
      "Contains lowercase letter.\n"
     ]
    }
   ],
   "source": [
    "# Example 2: How to use isupper() in a program?\n",
    "\n",
    "string = 'THIS IS GOOD'\n",
    "\n",
    "if string.isupper() == True:\n",
    "    print('Does not contain lowercase letter.')\n",
    "\n",
    "else:\n",
    "    print('Contains lowercase letter.')\n",
    "\n",
    "\n",
    "string = 'THIS IS gOOD'\n",
    "if string.isupper() == True:\n",
    "    print('Does not contain lowercase letter.')\n",
    "else:\n",
    "    print('Contains lowercase letter.')"
   ]
  },
  {
   "cell_type": "code",
   "execution_count": null,
   "id": "604acd10-dca9-4aa6-a12b-b278e2bdfd0d",
   "metadata": {},
   "outputs": [],
   "source": []
  },
  {
   "cell_type": "code",
   "execution_count": 98,
   "id": "e1b1a03e-177e-4b22-8b72-384da74f69a6",
   "metadata": {},
   "outputs": [],
   "source": [
    "# Python String join()\n",
    "\n",
    "# The string join() method returns a string by joining all the elements of an iterable, \n",
    "# separated by a string separator.\n",
    "\n",
    "# The join() method provides a flexible way to create strings from iterable objects.\n",
    "# It joins each element of an iterable (such as list, string, and tuple) by a string separator \n",
    "# (the string on which the join() method is called) and returns the concatenated string.\n",
    "\n",
    "# Syntax:\n",
    "\n",
    "# string.join(iterable)\n",
    "# join() Parameters\n",
    "# The join() takes an iterable (objects capable of returning its members one at a time) as its parameter.\n"
   ]
  },
  {
   "cell_type": "code",
   "execution_count": 99,
   "id": "170b0e0d-b257-47fe-8f28-cbf24706409c",
   "metadata": {},
   "outputs": [],
   "source": [
    "# Some of the example of iterables are:\n",
    "\n",
    "# Native data types - List, Tuple, String, Dictionary and Set."
   ]
  },
  {
   "cell_type": "code",
   "execution_count": 104,
   "id": "c14fdd23-8827-402e-bcd2-9aefcc71e636",
   "metadata": {},
   "outputs": [
    {
     "name": "stdout",
     "output_type": "stream",
     "text": [
      "1* 2* 3* 4\n",
      "1* 2* 3* 4\n",
      "s1.join(s2): 1abc2abc3\n"
     ]
    }
   ],
   "source": [
    "# Example 1: Working of the join() method\n",
    "\n",
    "# .join() with lists\n",
    "numList = ['1', '2', '3', '4']\n",
    "separator = '* '\n",
    "print(separator.join(numList))\n",
    "\n",
    "# .join() with tuples\n",
    "numTuple = ('1', '2', '3', '4')\n",
    "print(separator.join(numTuple))\n",
    "\n",
    "s1 = 'abc'\n",
    "s2 = '123'\n",
    "\n",
    "# each element of s2 is separated by s1\n",
    "# '1'+ 'abc'+ '2'+ 'abc'+ '3'\n",
    "print('s1.join(s2):', s1.join(s2)) # s2+s1 it works like thiss\n",
    "\n"
   ]
  },
  {
   "cell_type": "code",
   "execution_count": 106,
   "id": "52f66b34-7ad0-44d1-aa84-32980e25c8e0",
   "metadata": {},
   "outputs": [
    {
     "data": {
      "text/plain": [
       "'a123b123c'"
      ]
     },
     "execution_count": 106,
     "metadata": {},
     "output_type": "execute_result"
    }
   ],
   "source": [
    "s1 = 'abc'\n",
    "s2 = '123'\n",
    "\n",
    "s2.join(s1) # s1 +s2  a123b123c"
   ]
  },
  {
   "cell_type": "code",
   "execution_count": 108,
   "id": "a474336b-12de-47ba-8a5d-ffb0517149fb",
   "metadata": {},
   "outputs": [
    {
     "name": "stdout",
     "output_type": "stream",
     "text": [
      "3, 1, 2\n"
     ]
    }
   ],
   "source": [
    "# Example 2: The join() method with sets\n",
    "\n",
    "# .join() with sets\n",
    "test = {'2', '1', '3'}\n",
    "s = ', '\n",
    "print(s.join(test))  # set is unordered"
   ]
  },
  {
   "cell_type": "code",
   "execution_count": 109,
   "id": "1e194b4e-29a1-4a57-a4ab-f16f5683af38",
   "metadata": {},
   "outputs": [
    {
     "name": "stdout",
     "output_type": "stream",
     "text": [
      "Ruby->->Python->->Java\n"
     ]
    }
   ],
   "source": [
    "test = {'Python', 'Java', 'Ruby'}\n",
    "s = '->->'\n",
    "print(s.join(test)) # python->->Java->->Ruby "
   ]
  },
  {
   "cell_type": "code",
   "execution_count": null,
   "id": "a7dcb438-1639-40f3-9b45-12f2fa3d2165",
   "metadata": {},
   "outputs": [],
   "source": []
  },
  {
   "cell_type": "code",
   "execution_count": 110,
   "id": "1e159851-ed7f-4d9d-b7ae-52c702cfbcd5",
   "metadata": {},
   "outputs": [
    {
     "name": "stdout",
     "output_type": "stream",
     "text": [
      "mat->that\n"
     ]
    },
    {
     "ename": "TypeError",
     "evalue": "sequence item 0: expected str instance, int found",
     "output_type": "error",
     "traceback": [
      "\u001b[1;31m---------------------------------------------------------------------------\u001b[0m",
      "\u001b[1;31mTypeError\u001b[0m                                 Traceback (most recent call last)",
      "Cell \u001b[1;32mIn[110], line 14\u001b[0m\n\u001b[0;32m     11\u001b[0m s \u001b[38;5;241m=\u001b[39m \u001b[38;5;124m'\u001b[39m\u001b[38;5;124m, \u001b[39m\u001b[38;5;124m'\u001b[39m\n\u001b[0;32m     13\u001b[0m \u001b[38;5;66;03m# this gives error since key isn't string\u001b[39;00m\n\u001b[1;32m---> 14\u001b[0m \u001b[38;5;28mprint\u001b[39m(\u001b[43ms\u001b[49m\u001b[38;5;241;43m.\u001b[39;49m\u001b[43mjoin\u001b[49m\u001b[43m(\u001b[49m\u001b[43mtest\u001b[49m\u001b[43m)\u001b[49m)\n",
      "\u001b[1;31mTypeError\u001b[0m: sequence item 0: expected str instance, int found"
     ]
    }
   ],
   "source": [
    "# Example 3: The join() method with dictionaries\n",
    "\n",
    "# .join() with dictionaries\n",
    "test = {'mat': 1, 'that': 2}\n",
    "s = '->'\n",
    "\n",
    "# joins the keys only\n",
    "print(s.join(test))\n",
    "\n",
    "test = {1: 'mat', 2: 'that'}\n",
    "s = ', '\n",
    "\n",
    "# this gives error since key isn't string\n",
    "print(s.join(test))"
   ]
  },
  {
   "cell_type": "code",
   "execution_count": null,
   "id": "a2b38d89-6dcc-4c44-9e66-9f2a9f9fe654",
   "metadata": {},
   "outputs": [],
   "source": []
  },
  {
   "cell_type": "code",
   "execution_count": 111,
   "id": "45825134-9d25-42da-8a53-7c0358de083b",
   "metadata": {},
   "outputs": [],
   "source": [
    "# Python String lower()\n",
    "# The string lower() method converts all uppercase characters in a string into lowercase characters and returns it.\n",
    "\n",
    "# Syntax:\n",
    "\n",
    "# string.lower()\n",
    "# lower() Parameters\n",
    "# The lower() method doesn't take any parameters.\n",
    "\n",
    "# Return Value from lower()\n",
    "\n",
    "# The lower() method returns the lowercased string from the given string. It converts all uppercase characters to lowercase.\n",
    "\n",
    "# If no uppercase characters exist, it returns the original string."
   ]
  },
  {
   "cell_type": "code",
   "execution_count": 112,
   "id": "c4af1f2b-5bab-48a1-89ab-9509259e2891",
   "metadata": {},
   "outputs": [
    {
     "name": "stdout",
     "output_type": "stream",
     "text": [
      "The strings are same \n"
     ]
    }
   ],
   "source": [
    "# Example 2: How lower() is used in a program?\n",
    "\n",
    "# first string\n",
    "firstString = \"PYTHON IS AWESOME!\"\n",
    "\n",
    "# second string\n",
    "secondString = \"PyThOn Is AwEsOmE!\"\n",
    "\n",
    "if firstString.lower() == secondString.lower():\n",
    "    print(\"The strings are same \")\n",
    "else:\n",
    "    print(\"The strings are different\")\n"
   ]
  },
  {
   "cell_type": "code",
   "execution_count": 114,
   "id": "b07af821-3da4-4a1f-838f-49d3e441e67a",
   "metadata": {},
   "outputs": [],
   "source": [
    "# ljust and r just\n",
    "\n",
    "# yntax:\n",
    "\n",
    "# string.rjust(width[, fillchar])\n",
    "# Note: Here, fillchar is an optional parameter.\n",
    "\n",
    "# string.ljust(width[, fillchar])\n",
    "# Note: Here, fillchar is an optional parameter.\n"
   ]
  },
  {
   "cell_type": "code",
   "execution_count": null,
   "id": "725f7bf8-3e1b-4256-b037-508ab1b6a7b3",
   "metadata": {},
   "outputs": [],
   "source": []
  },
  {
   "cell_type": "code",
   "execution_count": 115,
   "id": "2de86639-9854-4636-a8c2-6dd8e288484d",
   "metadata": {},
   "outputs": [],
   "source": [
    "# Python String upper()\n",
    "# The string upper() method converts all lowercase characters in a string into uppercase characters and returns it.\n",
    "\n",
    "# Syntax:\n",
    "\n",
    "# # string.upper()"
   ]
  },
  {
   "cell_type": "code",
   "execution_count": 116,
   "id": "1314be7c-109a-4b8f-a130-40352060cf82",
   "metadata": {},
   "outputs": [],
   "source": [
    "# Return Value from upper()\n",
    "# The upper() method returns the uppercased string from the given string. It converts all lowercase characters to uppercase.\n",
    "\n",
    "# If no lowercase characters exist, it returns the original string."
   ]
  },
  {
   "cell_type": "code",
   "execution_count": 117,
   "id": "f4970b18-417b-46fa-9061-ea2fdb73f283",
   "metadata": {},
   "outputs": [
    {
     "name": "stdout",
     "output_type": "stream",
     "text": [
      "THIS SHOULD BE UPPERCASE!\n",
      "TH!S SH0ULD B3 UPP3RCAS3!\n"
     ]
    }
   ],
   "source": [
    "# Example 1: Convert a string to uppercase\n",
    "\n",
    "# example string\n",
    "string = \"this should be uppercase!\"\n",
    "print(string.upper())\n",
    "\n",
    "# string with numbers\n",
    "# all alphabets whould be lowercase\n",
    "string = \"Th!s Sh0uLd B3 uPp3rCas3!\"\n",
    "print(string.upper())"
   ]
  },
  {
   "cell_type": "code",
   "execution_count": 118,
   "id": "feb0a215-3c0d-4162-a9ae-d0e2d56eb8ae",
   "metadata": {},
   "outputs": [
    {
     "name": "stdout",
     "output_type": "stream",
     "text": [
      "The strings are same.\n"
     ]
    }
   ],
   "source": [
    "# Example 2: How upper() is used in a program?\n",
    "\n",
    "# first string\n",
    "firstString = \"python is awesome!\"\n",
    "\n",
    "# second string\n",
    "secondString = \"PyThOn Is AwEsOmE!\"\n",
    "\n",
    "if(firstString.upper() == secondString.upper()):\n",
    "    print(\"The strings are same.\")\n",
    "else:\n",
    "    print(\"The strings are not same.\")"
   ]
  },
  {
   "cell_type": "code",
   "execution_count": 119,
   "id": "253769a7-4631-4ca0-897e-9cbac88a4ced",
   "metadata": {},
   "outputs": [],
   "source": [
    "# Python String swapcase()\n",
    "# The string swapcase() method converts all uppercase characters to lowercase and all lowercase characters to uppercase characters of the given string, and returns it.\n",
    "\n",
    "# Syntax:\n",
    "\n",
    "# string.swapcase()\n",
    "# Note: Not necessarily, string.swapcase().swapcase() == string\n",
    "\n",
    "# swapcase() Parameters\n",
    "# The swapcase() method doesn't take any parameters.\n",
    "\n",
    "# Return Value from swapcase()\n",
    "# The swapcase() method returns the string where all uppercase characters are converted to lowercase, and lowercase characters are converted to uppercase."
   ]
  },
  {
   "cell_type": "code",
   "execution_count": 120,
   "id": "2bec9240-341e-4f53-87d3-81b7e9e78f19",
   "metadata": {},
   "outputs": [
    {
     "data": {
      "text/plain": [
       "'HeY tHEre how rae u'"
      ]
     },
     "execution_count": 120,
     "metadata": {},
     "output_type": "execute_result"
    }
   ],
   "source": [
    "s = 'hEy TheRE HOW RAE U'\n",
    "s.swapcase()"
   ]
  },
  {
   "cell_type": "code",
   "execution_count": 121,
   "id": "2d62223c-b4eb-4237-bdd1-fe9457ec2250",
   "metadata": {},
   "outputs": [
    {
     "name": "stdout",
     "output_type": "stream",
     "text": [
      "this should all be lowercase.\n",
      "THIS SHOULD ALL BE UPPERCASE.\n",
      "tHiS sHoUlD bE mIxEd CaSeD.\n"
     ]
    }
   ],
   "source": [
    "# Example 1: Swap lowercase to uppercase and vice versa using swapcase()\n",
    "\n",
    "# example string\n",
    "string = \"THIS SHOULD ALL BE LOWERCASE.\"\n",
    "print(string.swapcase())\n",
    "\n",
    "string = \"this should all be uppercase.\"\n",
    "print(string.swapcase())\n",
    "\n",
    "string = \"ThIs ShOuLd Be MiXeD cAsEd.\"\n",
    "print(string.swapcase())"
   ]
  },
  {
   "cell_type": "code",
   "execution_count": null,
   "id": "5aa24493-ee59-48a0-8b2d-6cf4804764db",
   "metadata": {},
   "outputs": [],
   "source": []
  },
  {
   "cell_type": "code",
   "execution_count": 122,
   "id": "e7c3ecf1-f635-44d8-a5cb-65c3b8022062",
   "metadata": {},
   "outputs": [],
   "source": [
    "# Python String lstrip()\n",
    "# The string lstrip() method returns a copy of the string with leading characters removed (based on the string argument passed).\n",
    "\n",
    "# The lstrip() removes characters from the left based on the argument (a string specifying the set of characters to be removed).\n",
    "\n",
    "# Syntax:\n",
    "\n",
    "# string.lstrip([chars])\n",
    "# lstrip() Parameters\n",
    "# The lstrip() method takes one parameter:\n",
    "\n",
    "# chars (optional) - a string specifying the set of characters to be removed.\n",
    "# If chars argument is not provided, all leading whitespaces are removed from the string.\n",
    "\n",
    "# Return Value from lstrip()\n",
    "# The lstrip() method returns a copy of the string with leading characters stripped.\n",
    "\n",
    "# All combinations of characters in the chars argument are removed from the left of the string until the first mismatch."
   ]
  },
  {
   "cell_type": "code",
   "execution_count": 123,
   "id": "7fcb6b80-7ca9-4734-b10a-5abb2a9fedda",
   "metadata": {},
   "outputs": [
    {
     "name": "stdout",
     "output_type": "stream",
     "text": [
      "this is good \n"
     ]
    }
   ],
   "source": [
    "# Example 1: Working of lstrip()\n",
    "\n",
    "random_string = '   this is good '\n",
    "\n",
    "# Leading whitepsace are removed\n",
    "print(random_string.lstrip())"
   ]
  },
  {
   "cell_type": "code",
   "execution_count": 124,
   "id": "e56ef881-d984-423f-bf58-56293b5738c2",
   "metadata": {},
   "outputs": [
    {
     "name": "stdout",
     "output_type": "stream",
     "text": [
      "   this is good \n"
     ]
    }
   ],
   "source": [
    "# Argument doesn't contain space\n",
    "# No characters are removed.\n",
    "print(random_string.lstrip('sti'))"
   ]
  },
  {
   "cell_type": "code",
   "execution_count": 134,
   "id": "d5638115-261a-4b17-bcd0-7ccd4edac4fe",
   "metadata": {},
   "outputs": [
    {
     "name": "stdout",
     "output_type": "stream",
     "text": [
      "his is good \n",
      "www.github.com/\n"
     ]
    }
   ],
   "source": [
    "print(random_string.lstrip(' ti'))\n",
    "\n",
    "website = 'https://www.github.com/' \n",
    "print(website.lstrip('htps:/.'))"
   ]
  },
  {
   "cell_type": "code",
   "execution_count": 135,
   "id": "0c6c670e-13cc-45a8-b53a-4d48ad5ffd27",
   "metadata": {},
   "outputs": [
    {
     "name": "stdout",
     "output_type": "stream",
     "text": [
      "I Love Python Tutorial \n"
     ]
    }
   ],
   "source": [
    "s1=' I Love Python Tutorial '\n",
    "print(s1.lstrip())"
   ]
  },
  {
   "cell_type": "code",
   "execution_count": 136,
   "id": "b09034be-4e25-442e-8fb6-f3ba4ff4448f",
   "metadata": {},
   "outputs": [
    {
     "name": "stdout",
     "output_type": "stream",
     "text": [
      "HelloWorld###\n"
     ]
    }
   ],
   "source": [
    "s2='###HelloWorld###'\n",
    "print(s2.lstrip('#'))"
   ]
  },
  {
   "cell_type": "code",
   "execution_count": null,
   "id": "c2590981-c3cd-4c90-af7a-203e7204b9d7",
   "metadata": {},
   "outputs": [],
   "source": []
  },
  {
   "cell_type": "code",
   "execution_count": 137,
   "id": "78a8e411-8764-47dd-8df8-71005aba8b1f",
   "metadata": {},
   "outputs": [],
   "source": [
    "# # Python String rstrip()\n",
    "# # The string rstrip() method returns a copy of the string with trailing characters removed (based on the string argument passed).\n",
    "\n",
    "# # The rstrip() removes characters from the right based on the argument (a string specifying the set of characters to be removed).\n",
    "\n",
    "# # Syntax:\n",
    "\n",
    "# # string.rstrip([chars])\n",
    "\n",
    "# rstrip() Parameters\n",
    "# The rstrip() method takes one parameter:\n",
    "\n",
    "# chars (optional) - a string specifying the set of characters to be removed.\n",
    "# If chars argument is not provided, all leading whitespaces on the right are removed from the string.\n",
    "# a\n",
    "# Return Value from rstrip()\n",
    "# The rstrip() method returns a copy of the string with trailing characters stripped.\n",
    "\n",
    "# All combinations of characters in chars argument are removed from the right of the string until first mismatch."
   ]
  },
  {
   "cell_type": "code",
   "execution_count": 138,
   "id": "7b1651ce-0ff4-484d-af0f-512ce9ca2e56",
   "metadata": {},
   "outputs": [
    {
     "name": "stdout",
     "output_type": "stream",
     "text": [
      "###HelloWorld\n"
     ]
    }
   ],
   "source": [
    "s2='###HelloWorld###'\n",
    "print(s2.rstrip('#'))"
   ]
  },
  {
   "cell_type": "code",
   "execution_count": 140,
   "id": "6cf34e99-c013-4c49-b6bc-388be9ddfca4",
   "metadata": {},
   "outputs": [
    {
     "name": "stdout",
     "output_type": "stream",
     "text": [
      "('Python ', 'is ', 'fun i love this ')\n",
      "('Python is fun i love this ', '', '')\n",
      "('Python ', 'is', \" fun, isn't it\")\n"
     ]
    }
   ],
   "source": [
    "# head middle tail\n",
    "# Example 1: How partition() works?\n",
    "\n",
    "string = \"Python is fun i love this \" # is \n",
    "\n",
    "# 'is' separator is found\n",
    "print(string.partition('is '))\n",
    "\n",
    "# 'not' separator is not found\n",
    "print(string.partition('not '))\n",
    "\n",
    "string = \"Python is fun, isn't it\"\n",
    "\n",
    "# splits at first occurence of 'is'\n",
    "print(string.partition('is'))"
   ]
  },
  {
   "cell_type": "code",
   "execution_count": null,
   "id": "8e0e7307-7d1d-43e1-b8d2-800f87a15138",
   "metadata": {},
   "outputs": [],
   "source": []
  },
  {
   "cell_type": "code",
   "execution_count": 141,
   "id": "9d1f73c6-9cab-4cf0-a56f-38f1d02cfced",
   "metadata": {},
   "outputs": [],
   "source": [
    "# Python String maketrans()\n",
    "# The string maketrans() method returns a mapping table for translation usable for translate() method.\n",
    "\n",
    "# In simple terms, maketrans() method is a static method that creates a one to one mapping of a character to its translation/replacement.\n",
    "\n",
    "# It creates a Unicode representation of each character for translation.\n",
    "\n",
    "# This translation mapping is then used for replacing a character to its mapped character when used in translate() method."
   ]
  },
  {
   "cell_type": "code",
   "execution_count": 143,
   "id": "7bb7ed7b-6df9-492e-9e76-4e94787bdbac",
   "metadata": {},
   "outputs": [],
   "source": [
    "# Syntax:\n",
    "\n",
    "# string.maketrans(x[, y[, z]])\n",
    "# Note: Here, y and z are optional arguments.\n",
    "\n",
    "# maketrans() Parameters\n",
    "# The maketrans() method takes 3 parameters:\n",
    "\n",
    "# x - If only one argument is supplied, it must be a dictionary. The dictionary should contain a 1-to-1 mapping from a single character string to its translation OR a Unicode number (97 for 'a') to its translation.\n",
    "\n",
    "# y - If two arguments are passed, it must be two strings with equal length. Each character in the first string is a replacement to its corresponding index in the second string.\n",
    "\n",
    "# z - If three arguments are passed, each character in the third argument is mapped to None."
   ]
  },
  {
   "cell_type": "code",
   "execution_count": 144,
   "id": "27a49bd1-11a2-4214-9a44-b6e5320950ef",
   "metadata": {},
   "outputs": [],
   "source": [
    "\n",
    "# Return Value from maketrans()\n",
    "# The maketrans() method returns a translation table with a 1-to-1 mapping of a Unicode ordinal to its translation/replacement."
   ]
  },
  {
   "cell_type": "code",
   "execution_count": 145,
   "id": "4fbee3f2-e11a-401d-b690-a588cdbac826",
   "metadata": {},
   "outputs": [
    {
     "name": "stdout",
     "output_type": "stream",
     "text": [
      "{97: '123', 98: '456', 99: '789'}\n"
     ]
    }
   ],
   "source": [
    "dict = {\"a\": \"123\", \"b\": \"456\", \"c\": \"789\"}\n",
    "string = \"abc\"\n",
    "print(string.maketrans(dict))\n"
   ]
  },
  {
   "cell_type": "code",
   "execution_count": 146,
   "id": "8a289c15-f87b-4902-9a38-f11851dbd615",
   "metadata": {},
   "outputs": [
    {
     "name": "stdout",
     "output_type": "stream",
     "text": [
      "{97: '123', 98: '456', 99: '789'}\n"
     ]
    }
   ],
   "source": [
    "# example dictionary\n",
    "dict = {97: \"123\", 98: \"456\", 99: \"789\"}\n",
    "string = \"abc\"\n",
    "print(string.maketrans(dict))"
   ]
  },
  {
   "cell_type": "code",
   "execution_count": 147,
   "id": "5327edd2-9700-4ab6-bca6-c197dc69f205",
   "metadata": {},
   "outputs": [
    {
     "name": "stdout",
     "output_type": "stream",
     "text": [
      "{97: 100, 98: 101, 99: 102}\n"
     ]
    }
   ],
   "source": [
    "# first string\n",
    "firstString = \"abc\"\n",
    "secondString = \"def\"\n",
    "string = \"abc\"\n",
    "print(string.maketrans(firstString, secondString))\n"
   ]
  },
  {
   "cell_type": "code",
   "execution_count": null,
   "id": "f42fe4d4-8ab2-4d62-b196-de1a82bd9f10",
   "metadata": {},
   "outputs": [],
   "source": []
  },
  {
   "cell_type": "code",
   "execution_count": 148,
   "id": "998986ca-a0ca-4a1c-8794-82afc6462e79",
   "metadata": {},
   "outputs": [
    {
     "name": "stdout",
     "output_type": "stream",
     "text": [
      "Original string: abcdef\n",
      "{97: None, 98: None, 99: 105}\n",
      "Translated string: idef\n"
     ]
    }
   ],
   "source": [
    "# first string\n",
    "firstString = \"abc\"\n",
    "secondString = \"ghi\"\n",
    "thirdString = \"ab\"\n",
    "\n",
    "string = \"abcdef\"\n",
    "print(\"Original string:\", string)\n",
    "\n",
    "translation = string.maketrans(firstString, secondString, thirdString)\n",
    "\n",
    "print(translation)\n",
    "# translate string\n",
    "print(\"Translated string:\", string.translate(translation))"
   ]
  },
  {
   "cell_type": "code",
   "execution_count": null,
   "id": "d01c5996-537f-4f4b-848d-6d1f34ff6e5f",
   "metadata": {},
   "outputs": [],
   "source": []
  },
  {
   "cell_type": "code",
   "execution_count": null,
   "id": "571fa58d-c2d0-4457-b84d-207340ae96ca",
   "metadata": {},
   "outputs": [],
   "source": []
  },
  {
   "cell_type": "code",
   "execution_count": 149,
   "id": "28388680-d1e9-4b84-8278-863c11f92169",
   "metadata": {},
   "outputs": [],
   "source": [
    "# # replace\n",
    "# Python String replace()\n",
    "# The string replace() method returns a copy of the string where all occurrences of a substring is replaced with another substring.\n",
    "\n",
    "# Syntax:\n",
    "\n",
    "# str.replace(old, new [, count])"
   ]
  },
  {
   "cell_type": "code",
   "execution_count": 150,
   "id": "2cda4640-8d49-45fd-a6ee-4e14320b52cf",
   "metadata": {},
   "outputs": [],
   "source": [
    "# replace() Parameters\n",
    "# The replace() method can take maximum of 3 parameters:\n",
    "\n",
    "# old - old substring you want to replace\n",
    "# new - new substring which will replace the old substring\n",
    "# count (optional) - the number of times you want to replace the old substring with the new substring\n",
    "# Note: If count is not specified, the replace() method replaces all occurrences of the old substring with the new substring."
   ]
  },
  {
   "cell_type": "code",
   "execution_count": 151,
   "id": "ece4d973-99a3-4bbf-8d33-6c38fafc69b1",
   "metadata": {},
   "outputs": [],
   "source": [
    "# # str.replace(old,new[,count])\n",
    "# # Note: If count is not specified, the replace() method \n",
    "# replaces all occurrences of the old substring with the new substring."
   ]
  },
  {
   "cell_type": "code",
   "execution_count": 163,
   "id": "d0f7ac9b-4bd8-4c76-9c2e-936629cffeb3",
   "metadata": {},
   "outputs": [
    {
     "name": "stdout",
     "output_type": "stream",
     "text": [
      "Let it be, don't let it be, don't let it be, let it be\n"
     ]
    }
   ],
   "source": [
    "# exmple1\n",
    "\n",
    "song = 'cold hi, cold cold cold heart'\n",
    "# replacing 'cold' with 'hurt'\n",
    "\n",
    "song.replace('cold','hurt',2)\n",
    "\n",
    "song = 'Let it be, let it be, let it be, let it be'\n",
    "# replacing only two occurences of 'let'\n",
    "print(song.replace('let', \"don't let\", 2))"
   ]
  },
  {
   "cell_type": "code",
   "execution_count": 169,
   "id": "45158bd3-25a9-40e4-8ba1-8843fd37a036",
   "metadata": {},
   "outputs": [
    {
     "name": "stdout",
     "output_type": "stream",
     "text": [
      "Original string: cold, cold heart\n",
      "Replaced string: celd, celd heart\n",
      "let it be, let it be, let it be\n"
     ]
    }
   ],
   "source": [
    "# Example 2: Using replace()\n",
    "\n",
    "song = 'cold, cold heart'\n",
    "replaced_song = song.replace('o', 'e')\n",
    "\n",
    "# The original string is unchanged\n",
    "print('Original string:', song)\n",
    "\n",
    "print('Replaced string:', replaced_song)\n",
    "\n",
    "song = 'let it be, let it be, let it be'\n",
    "\n",
    "# maximum of 0 substring is replaced\n",
    "# returns copy of the original string\n",
    "print(song.replace('let', 'so', 0))"
   ]
  },
  {
   "cell_type": "code",
   "execution_count": null,
   "id": "63dbbd77-516e-441d-aa38-3840dbee6e15",
   "metadata": {},
   "outputs": [],
   "source": []
  },
  {
   "cell_type": "code",
   "execution_count": 173,
   "id": "801d9b38-026b-4dad-8f18-4fa0162bca95",
   "metadata": {},
   "outputs": [
    {
     "name": "stdout",
     "output_type": "stream",
     "text": [
      "I Like pyhton Tutorial, I Like Life, I love Coding\n"
     ]
    }
   ],
   "source": [
    "s1 = 'I love pyhton Tutorial, I love Life, I love Coding'\n",
    "\n",
    "print(s1.replace('love','Like',2))"
   ]
  },
  {
   "cell_type": "code",
   "execution_count": null,
   "id": "1c5eae0d-68ac-44b4-a3fc-c933e8238832",
   "metadata": {},
   "outputs": [],
   "source": []
  },
  {
   "cell_type": "code",
   "execution_count": 184,
   "id": "920fc394-36f2-4175-9593-c6ba7db0a46d",
   "metadata": {},
   "outputs": [
    {
     "name": "stdout",
     "output_type": "stream",
     "text": [
      "Substring 'let it': 22\n",
      "Substring 'small ': -1\n",
      "Highest index where 'be,' occurs: 18\n"
     ]
    }
   ],
   "source": [
    "# rfind\n",
    "quote = 'Let it be, let it be, let it be'\n",
    "\n",
    "result = quote.rfind('let it')\n",
    "print(\"Substring 'let it':\", result)\n",
    "\n",
    "# rfind give the index position highest indext position \n",
    "\n",
    "result = quote.rfind('small')\n",
    "print(\"Substring 'small ':\", result)\n",
    "\n",
    "result = quote.rfind('be,')\n",
    "# print(result)\n",
    "\n",
    "if (result != -1):\n",
    "    print(\"Highest index where 'be,' occurs:\", result)\n",
    "else:\n",
    "    print(\"Doesn't contain substring\")"
   ]
  },
  {
   "cell_type": "code",
   "execution_count": null,
   "id": "040b0c18-5ec8-445d-8a95-918e5931abc2",
   "metadata": {},
   "outputs": [],
   "source": []
  },
  {
   "cell_type": "code",
   "execution_count": null,
   "id": "c2f0fa33-0aac-4a6a-9ebe-5b4365389a12",
   "metadata": {},
   "outputs": [],
   "source": []
  },
  {
   "cell_type": "code",
   "execution_count": 185,
   "id": "a5dd602b-d187-46a3-b500-bf323b5441f1",
   "metadata": {},
   "outputs": [],
   "source": [
    "# Return Value from split()\n",
    "# The split() method breaks the string at the separator and returns a list of strings."
   ]
  },
  {
   "cell_type": "code",
   "execution_count": 191,
   "id": "42e3ee03-d700-4f40-b21c-c4a1bdc080c3",
   "metadata": {},
   "outputs": [
    {
     "name": "stdout",
     "output_type": "stream",
     "text": [
      "['Love', 'thy', 'neighbor']\n",
      "['Milk', 'Chicken', 'Bread']\n",
      "with seperator: ['Milk, Chicken, Bread']\n"
     ]
    }
   ],
   "source": [
    "# Example 1: How split() works in Python?\n",
    "\n",
    "text= 'Love thy neighbor'\n",
    "\n",
    "# splits at space\n",
    "print(text.split())\n",
    "\n",
    "grocery = 'Milk, Chicken, Bread'\n",
    "print(grocery.split(', '))\n",
    "print('with seperator:',grocery.split(':'))"
   ]
  },
  {
   "cell_type": "code",
   "execution_count": null,
   "id": "c4b5355f-bfbd-4203-8d0d-4a7221793ae1",
   "metadata": {},
   "outputs": [],
   "source": []
  },
  {
   "cell_type": "code",
   "execution_count": 192,
   "id": "d13bc375-0936-4180-9bed-1996c2924605",
   "metadata": {},
   "outputs": [
    {
     "name": "stdout",
     "output_type": "stream",
     "text": [
      "['Milk', 'Chicken', 'Bread, Butter']\n"
     ]
    }
   ],
   "source": [
    "# Example 2: How split() works when maxsplit is specified?\n",
    "\n",
    "grocery = 'Milk, Chicken, Bread, Butter'\n",
    "# maxsplit: 2\n",
    "print(grocery.split(', ', 2))\n"
   ]
  },
  {
   "cell_type": "code",
   "execution_count": 193,
   "id": "bf338a0f-80e2-4bb9-83a4-ddfdae6a109d",
   "metadata": {},
   "outputs": [
    {
     "name": "stdout",
     "output_type": "stream",
     "text": [
      "['Milk', 'Chicken, Bread, Butter']\n"
     ]
    }
   ],
   "source": [
    "# maxsplit: 1\n",
    "print(grocery.split(', ', 1))\n"
   ]
  },
  {
   "cell_type": "code",
   "execution_count": 194,
   "id": "bac6c1ba-3c0c-4c2c-9a83-741b1333c325",
   "metadata": {},
   "outputs": [
    {
     "name": "stdout",
     "output_type": "stream",
     "text": [
      "['Milk', 'Chicken', 'Bread', 'Butter']\n",
      "['Milk, Chicken, Bread, Butter']\n"
     ]
    }
   ],
   "source": [
    "# maxsplit: 5\n",
    "print(grocery.split(', ', 5))\n",
    "\n",
    "# maxsplit: 0\n",
    "print(grocery.split(', ', 0))"
   ]
  },
  {
   "cell_type": "code",
   "execution_count": 196,
   "id": "30b23532-4e11-4179-8be2-0e3306d260f1",
   "metadata": {},
   "outputs": [
    {
     "name": "stdout",
     "output_type": "stream",
     "text": [
      "Milk\n",
      "Coffee\n",
      "Butter\n",
      "['Milk', 'Coffee', 'Bread', 'Butter']\n"
     ]
    }
   ],
   "source": [
    "\n",
    "# spllitlines\n",
    "\n",
    "grocery = 'Milk\\nCoffee\\r\\nBread\\rButter'\n",
    "print(grocery)\n",
    "print(grocery.splitlines())\n"
   ]
  },
  {
   "cell_type": "code",
   "execution_count": 199,
   "id": "1be1ff67-a1f7-4874-9250-2d76f53f4fdd",
   "metadata": {},
   "outputs": [
    {
     "name": "stdout",
     "output_type": "stream",
     "text": [
      "['Milk\\n', 'Coffee\\r\\n', 'Bread\\r', 'Butter']\n"
     ]
    }
   ],
   "source": [
    "print(grocery.splitlines(True))"
   ]
  },
  {
   "cell_type": "code",
   "execution_count": null,
   "id": "6b7b389b-4114-441e-96e2-5725199cbd3e",
   "metadata": {},
   "outputs": [],
   "source": []
  },
  {
   "cell_type": "code",
   "execution_count": 200,
   "id": "aa048ac0-8709-48ce-afe9-ce76d9ab3b7b",
   "metadata": {},
   "outputs": [],
   "source": [
    "# Return Value from startswith()\n",
    "# The startswith() method returns a boolean.\n",
    "\n",
    "# It returns True if the string starts with the specified prefix.\n",
    "# It returns False if the string doesn't start with the specified prefix."
   ]
  },
  {
   "cell_type": "code",
   "execution_count": 204,
   "id": "e4a4d649-9abc-41b5-ae46-d581d2999efb",
   "metadata": {},
   "outputs": [
    {
     "name": "stdout",
     "output_type": "stream",
     "text": [
      "False\n",
      "True\n",
      "True\n"
     ]
    }
   ],
   "source": [
    "text = \"Python is easy to learn.\"\n",
    "\n",
    "result = text.startswith('is easy')\n",
    "# returns False\n",
    "print(result)\n",
    "\n",
    "result = text.startswith('Python is easy')\n",
    "\n",
    "print(result)\n",
    "\n",
    "result = text.startswith('Python is easy to learn')\n",
    "\n",
    "print(result)"
   ]
  },
  {
   "cell_type": "code",
   "execution_count": null,
   "id": "908cfee9-ee86-4434-a15e-aa73cdbfab89",
   "metadata": {},
   "outputs": [],
   "source": []
  },
  {
   "cell_type": "code",
   "execution_count": 205,
   "id": "97eaac0a-c8fb-4ade-9a92-866ec3c28d0d",
   "metadata": {},
   "outputs": [
    {
     "name": "stdout",
     "output_type": "stream",
     "text": [
      "True\n",
      "False\n",
      "True\n"
     ]
    }
   ],
   "source": [
    "# Example 2: startswith() With start and end Parameters\n",
    "\n",
    "text = \"Python programming is easy.\"\n",
    "\n",
    "# start parameter: 7\n",
    "# 'programming is easy.' string is searched\n",
    "result = text.startswith('programming is', 7)\n",
    "print(result)\n",
    "\n",
    "# start: 7, end: 18\n",
    "# 'programming' string is searched\n",
    "result = text.startswith('programming is', 7, 18)\n",
    "print(result)\n",
    "\n",
    "result = text.startswith('program', 7, 18)\n",
    "print(result)"
   ]
  },
  {
   "cell_type": "code",
   "execution_count": null,
   "id": "0a4d9659-2b2d-404f-a8ad-4dcaeb47d515",
   "metadata": {},
   "outputs": [],
   "source": []
  },
  {
   "cell_type": "code",
   "execution_count": null,
   "id": "247c9434-f788-4c15-960f-3a3cbd58a7c0",
   "metadata": {},
   "outputs": [],
   "source": []
  },
  {
   "cell_type": "code",
   "execution_count": 207,
   "id": "587d0b3a-9541-40e5-aeea-7eb99895f078",
   "metadata": {},
   "outputs": [
    {
     "name": "stdout",
     "output_type": "stream",
     "text": [
      "-0000690\n",
      "+0000690\n",
      "+0000000-random+text\n"
     ]
    }
   ],
   "source": [
    "# Example 2: How zfill() works with Sign Prefix?\n",
    "\n",
    "number = \"-690\"\n",
    "print(number.zfill(8))\n",
    "\n",
    "number = \"+690\"\n",
    "print(number.zfill(8))\n",
    "\n",
    "text = \"+-random+text\"\n",
    "print(text.zfill(20))\n"
   ]
  },
  {
   "cell_type": "code",
   "execution_count": null,
   "id": "837475a2-6f88-4e4f-9e14-d3fd9612d8ad",
   "metadata": {},
   "outputs": [],
   "source": []
  },
  {
   "cell_type": "code",
   "execution_count": 208,
   "id": "bd9d7808-4eba-4551-97b3-344f9a93e1b4",
   "metadata": {},
   "outputs": [],
   "source": [
    "# format_map() Parameters\n",
    "# The format_map() method takes a single argument mapping(dictionary).\n",
    "\n",
    "# Return Value from format_map()\n",
    "# The format_map() method formats the given string and returns it."
   ]
  },
  {
   "cell_type": "code",
   "execution_count": 209,
   "id": "56f13be4-f020-4277-829a-f84a80812fe2",
   "metadata": {},
   "outputs": [
    {
     "name": "stdout",
     "output_type": "stream",
     "text": [
      "9 -6\n"
     ]
    }
   ],
   "source": [
    "\n",
    "# Example 1: How format_map() works?\n",
    "\n",
    "point = {'x':9,'y':-6}\n",
    "print('{x} {y}'.format_map(point))\n"
   ]
  },
  {
   "cell_type": "code",
   "execution_count": 213,
   "id": "bb474f03-92ca-46ee-bc96-e42ac31410bc",
   "metadata": {},
   "outputs": [
    {
     "name": "stdout",
     "output_type": "stream",
     "text": [
      "9 -6 0\n"
     ]
    }
   ],
   "source": [
    "point = {'x':9,'y':-6, 'z': 0}\n",
    "print('{x} {y} {z}'.format_map(point))"
   ]
  },
  {
   "cell_type": "code",
   "execution_count": null,
   "id": "ae83d0d9-b01a-4f2d-96f0-a1a5da1641d5",
   "metadata": {},
   "outputs": [],
   "source": []
  },
  {
   "cell_type": "code",
   "execution_count": 220,
   "id": "418f99cb-68a2-4711-acbf-0f4a9a6ea718",
   "metadata": {},
   "outputs": [],
   "source": [
    "# Example 2: How format_map() works with dict subclass"
   ]
  },
  {
   "cell_type": "code",
   "execution_count": 227,
   "id": "85d9ba1d-c9f5-4ed7-a88e-eec5a62be142",
   "metadata": {},
   "outputs": [
    {
     "ename": "TypeError",
     "evalue": "Coordinate() takes no arguments",
     "output_type": "error",
     "traceback": [
      "\u001b[1;31m---------------------------------------------------------------------------\u001b[0m",
      "\u001b[1;31mTypeError\u001b[0m                                 Traceback (most recent call last)",
      "Cell \u001b[1;32mIn[227], line 9\u001b[0m\n\u001b[0;32m      5\u001b[0m     \u001b[38;5;28;01mdef\u001b[39;00m \u001b[38;5;21m__missing__\u001b[39m(\u001b[38;5;28mself\u001b[39m, key):\n\u001b[0;32m      6\u001b[0m         \u001b[38;5;28;01mreturn\u001b[39;00m key\n\u001b[1;32m----> 9\u001b[0m \u001b[38;5;28mprint\u001b[39m(\u001b[38;5;124m'\u001b[39m\u001b[38;5;124m(\u001b[39m\u001b[38;5;132;01m{x}\u001b[39;00m\u001b[38;5;124m, \u001b[39m\u001b[38;5;132;01m{y}\u001b[39;00m\u001b[38;5;124m)\u001b[39m\u001b[38;5;124m'\u001b[39m\u001b[38;5;241m.\u001b[39mformat_map(\u001b[43mCoordinate\u001b[49m\u001b[43m(\u001b[49m\u001b[43mx\u001b[49m\u001b[38;5;241;43m=\u001b[39;49m\u001b[38;5;124;43m'\u001b[39;49m\u001b[38;5;124;43m9\u001b[39;49m\u001b[38;5;124;43m'\u001b[39;49m\u001b[43m)\u001b[49m))\n\u001b[0;32m     10\u001b[0m \u001b[38;5;28mprint\u001b[39m(\u001b[38;5;124m'\u001b[39m\u001b[38;5;124m(\u001b[39m\u001b[38;5;132;01m{x}\u001b[39;00m\u001b[38;5;124m, \u001b[39m\u001b[38;5;132;01m{y}\u001b[39;00m\u001b[38;5;124m)\u001b[39m\u001b[38;5;124m'\u001b[39m\u001b[38;5;241m.\u001b[39mformat_map(Coordinate(y\u001b[38;5;241m=\u001b[39m\u001b[38;5;124m'\u001b[39m\u001b[38;5;124m5\u001b[39m\u001b[38;5;124m'\u001b[39m)))\n\u001b[0;32m     11\u001b[0m \u001b[38;5;28mprint\u001b[39m(\u001b[38;5;124m'\u001b[39m\u001b[38;5;124m(\u001b[39m\u001b[38;5;132;01m{x}\u001b[39;00m\u001b[38;5;124m, \u001b[39m\u001b[38;5;132;01m{y}\u001b[39;00m\u001b[38;5;124m)\u001b[39m\u001b[38;5;124m'\u001b[39m\u001b[38;5;241m.\u001b[39mformat_map(Coordinate(x\u001b[38;5;241m=\u001b[39m\u001b[38;5;124m'\u001b[39m\u001b[38;5;124m9\u001b[39m\u001b[38;5;124m'\u001b[39m, y\u001b[38;5;241m=\u001b[39m\u001b[38;5;124m'\u001b[39m\u001b[38;5;124m6\u001b[39m\u001b[38;5;124m'\u001b[39m)))\n",
      "\u001b[1;31mTypeError\u001b[0m: Coordinate() takes no arguments"
     ]
    }
   ],
   "source": [
    "\n",
    "# Example 2: How format_map() works with dict subclass?\n",
    "a = 1\n",
    "class Coordinate():\n",
    "\n",
    "    def __missing__(self, key):\n",
    "        return key\n",
    "\n",
    "\n",
    "print('({x}, {y})'.format_map(Coordinate(x='9')))\n",
    "print('({x}, {y})'.format_map(Coordinate(y='5')))\n",
    "print('({x}, {y})'.format_map(Coordinate(x='9', y='6')))\n",
    "print(a)"
   ]
  },
  {
   "cell_type": "code",
   "execution_count": null,
   "id": "8527e800-0d30-4ef8-bdf0-31726b61caec",
   "metadata": {},
   "outputs": [],
   "source": []
  },
  {
   "cell_type": "code",
   "execution_count": 228,
   "id": "eb6e8999-0ee8-4888-ae66-8fc7642c4c41",
   "metadata": {},
   "outputs": [
    {
     "name": "stdout",
     "output_type": "stream",
     "text": [
      "['__add__', '__class__', '__contains__', '__delattr__', '__dir__', '__doc__', '__eq__', '__format__', '__ge__', '__getattribute__', '__getitem__', '__getnewargs__', '__gt__', '__hash__', '__init__', '__init_subclass__', '__iter__', '__le__', '__len__', '__lt__', '__mod__', '__mul__', '__ne__', '__new__', '__reduce__', '__reduce_ex__', '__repr__', '__rmod__', '__rmul__', '__setattr__', '__sizeof__', '__str__', '__subclasshook__', 'capitalize', 'casefold', 'center', 'count', 'encode', 'endswith', 'expandtabs', 'find', 'format', 'format_map', 'index', 'isalnum', 'isalpha', 'isascii', 'isdecimal', 'isdigit', 'isidentifier', 'islower', 'isnumeric', 'isprintable', 'isspace', 'istitle', 'isupper', 'join', 'ljust', 'lower', 'lstrip', 'maketrans', 'partition', 'removeprefix', 'removesuffix', 'replace', 'rfind', 'rindex', 'rjust', 'rpartition', 'rsplit', 'rstrip', 'split', 'splitlines', 'startswith', 'strip', 'swapcase', 'title', 'translate', 'upper', 'zfill']\n"
     ]
    }
   ],
   "source": [
    "s = \"hi\"\n",
    "\n",
    "print(dir(s))"
   ]
  },
  {
   "cell_type": "code",
   "execution_count": null,
   "id": "f384eec2-6360-4eef-be4f-3f04346394d7",
   "metadata": {},
   "outputs": [],
   "source": []
  },
  {
   "cell_type": "code",
   "execution_count": 1,
   "id": "cf61cd46-d27c-4c0f-bc85-944caf41fa0f",
   "metadata": {},
   "outputs": [],
   "source": [
    "s= 'i am in bangaluru'\n"
   ]
  },
  {
   "cell_type": "code",
   "execution_count": 2,
   "id": "b5a67777-1733-4385-8ada-ab91c61edc83",
   "metadata": {},
   "outputs": [
    {
     "data": {
      "text/plain": [
       "6"
      ]
     },
     "execution_count": 2,
     "metadata": {},
     "output_type": "execute_result"
    }
   ],
   "source": [
    "# c = 'center'\n",
    "\n",
    "# len(c)"
   ]
  },
  {
   "cell_type": "code",
   "execution_count": 6,
   "id": "2830249f-e8f0-4cee-90f9-3c4805043ae2",
   "metadata": {},
   "outputs": [
    {
     "data": {
      "text/plain": [
       "'i am in bangaluru'"
      ]
     },
     "execution_count": 6,
     "metadata": {},
     "output_type": "execute_result"
    }
   ],
   "source": [
    "s"
   ]
  },
  {
   "cell_type": "code",
   "execution_count": 9,
   "id": "4916abfd-eaff-4886-beed-03874d81dbcd",
   "metadata": {},
   "outputs": [
    {
     "data": {
      "text/plain": [
       "(True, True, False)"
      ]
     },
     "execution_count": 9,
     "metadata": {},
     "output_type": "execute_result"
    }
   ],
   "source": [
    "s.endswith('u'),s.endswith('ru'),s.endswith('a')"
   ]
  },
  {
   "cell_type": "code",
   "execution_count": 10,
   "id": "22130cd2-0702-44fb-afac-d0abf096f78e",
   "metadata": {},
   "outputs": [],
   "source": [
    "resume = \"python-dev-resume.pdf\""
   ]
  },
  {
   "cell_type": "code",
   "execution_count": 14,
   "id": "bbd420f5-b8d3-433e-b6c4-622ab7abc401",
   "metadata": {},
   "outputs": [
    {
     "name": "stdout",
     "output_type": "stream",
     "text": [
      "False\n"
     ]
    }
   ],
   "source": [
    "print((resume.endswith('pdf')) or (resume.endswith('.doc')))"
   ]
  },
  {
   "cell_type": "code",
   "execution_count": 16,
   "id": "296365fa-a5af-4e90-aaa9-944291ab6fb3",
   "metadata": {},
   "outputs": [
    {
     "data": {
      "text/plain": [
       "True"
      ]
     },
     "execution_count": 16,
     "metadata": {},
     "output_type": "execute_result"
    }
   ],
   "source": [
    "resume = \"python-dev-resume.pdf\"\n",
    "resume.endswith('pdf')"
   ]
  },
  {
   "cell_type": "code",
   "execution_count": 17,
   "id": "0d03ec23-3b04-4a6b-999a-6ea6f620d780",
   "metadata": {},
   "outputs": [
    {
     "data": {
      "text/plain": [
       "True"
      ]
     },
     "execution_count": 17,
     "metadata": {},
     "output_type": "execute_result"
    }
   ],
   "source": [
    "resume = \"python-dev-resume.pdf\"\n",
    "resume.endswith(('pdf','.doc'))"
   ]
  },
  {
   "cell_type": "code",
   "execution_count": 18,
   "id": "aaa9da8c-c05c-4fe7-8c6d-1f87d3e1d9c1",
   "metadata": {},
   "outputs": [
    {
     "name": "stdout",
     "output_type": "stream",
     "text": [
      "Help on built-in function endswith:\n",
      "\n",
      "endswith(...) method of builtins.str instance\n",
      "    S.endswith(suffix[, start[, end]]) -> bool\n",
      "    \n",
      "    Return True if S ends with the specified suffix, False otherwise.\n",
      "    With optional start, test S beginning at that position.\n",
      "    With optional end, stop comparing S at that position.\n",
      "    suffix can also be a tuple of strings to try.\n",
      "\n"
     ]
    }
   ],
   "source": [
    "help(resume.endswith)"
   ]
  },
  {
   "cell_type": "code",
   "execution_count": 19,
   "id": "8aba4263-9a8a-46fc-a823-c16defeb053a",
   "metadata": {},
   "outputs": [
    {
     "data": {
      "text/plain": [
       "True"
      ]
     },
     "execution_count": 19,
     "metadata": {},
     "output_type": "execute_result"
    }
   ],
   "source": [
    "vehicle = \"KA-04-GF-9837\"\n",
    "vehicle.startswith(('KA','TN','AP','TS'))"
   ]
  },
  {
   "cell_type": "code",
   "execution_count": 26,
   "id": "a24ea5fe-9061-4b8d-8dc9-8844a01f0f38",
   "metadata": {},
   "outputs": [
    {
     "data": {
      "text/plain": [
       "False"
      ]
     },
     "execution_count": 26,
     "metadata": {},
     "output_type": "execute_result"
    }
   ],
   "source": [
    "vehicle = \"MH 04-GF-9837\"\n",
    "vehicle.startswith(('KA','TN','AP','TS'))"
   ]
  },
  {
   "cell_type": "code",
   "execution_count": 28,
   "id": "5ebd0189-297e-47d8-9f54-10922cc70e3e",
   "metadata": {},
   "outputs": [
    {
     "ename": "TypeError",
     "evalue": "'str' object cannot be interpreted as an integer",
     "output_type": "error",
     "traceback": [
      "\u001b[1;31m---------------------------------------------------------------------------\u001b[0m",
      "\u001b[1;31mTypeError\u001b[0m                                 Traceback (most recent call last)",
      "Cell \u001b[1;32mIn[28], line 1\u001b[0m\n\u001b[1;32m----> 1\u001b[0m \u001b[43mvehicle\u001b[49m\u001b[38;5;241;43m.\u001b[39;49m\u001b[43mexpandtabs\u001b[49m\u001b[43m(\u001b[49m\u001b[38;5;124;43m\"\u001b[39;49m\u001b[38;5;124;43m\"\u001b[39;49m\u001b[43m)\u001b[49m\n",
      "\u001b[1;31mTypeError\u001b[0m: 'str' object cannot be interpreted as an integer"
     ]
    }
   ],
   "source": [
    "vehicle.expandtabs(\"\")"
   ]
  },
  {
   "cell_type": "code",
   "execution_count": 31,
   "id": "36007771-bfca-4378-b3d2-20ada76252a0",
   "metadata": {},
   "outputs": [
    {
     "data": {
      "text/plain": [
       "'i       am      in      bengaluru'"
      ]
     },
     "execution_count": 31,
     "metadata": {},
     "output_type": "execute_result"
    }
   ],
   "source": [
    "s  = 'i\\tam\\tin\\tbengaluru'\n",
    "\n",
    "s.expandtabs(8)"
   ]
  },
  {
   "cell_type": "code",
   "execution_count": 32,
   "id": "4c774569-6011-4c54-b4f1-98ff78b3fe1e",
   "metadata": {},
   "outputs": [
    {
     "data": {
      "text/plain": [
       "'i\\tam\\tin\\tbengaluru'"
      ]
     },
     "execution_count": 32,
     "metadata": {},
     "output_type": "execute_result"
    }
   ],
   "source": [
    "s"
   ]
  },
  {
   "cell_type": "code",
   "execution_count": 33,
   "id": "20ad53bc-4daa-40ca-aca8-ae136937e21f",
   "metadata": {},
   "outputs": [
    {
     "name": "stdout",
     "output_type": "stream",
     "text": [
      "Help on built-in function isalnum:\n",
      "\n",
      "isalnum() method of builtins.str instance\n",
      "    Return True if the string is an alpha-numeric string, False otherwise.\n",
      "    \n",
      "    A string is alpha-numeric if all characters in the string are alpha-numeric and\n",
      "    there is at least one character in the string.\n",
      "\n"
     ]
    }
   ],
   "source": [
    "help(s.isalnum)"
   ]
  },
  {
   "cell_type": "code",
   "execution_count": 34,
   "id": "db1a1d30-9fd4-4cb2-bd14-524bb06c4a80",
   "metadata": {},
   "outputs": [
    {
     "name": "stdout",
     "output_type": "stream",
     "text": [
      "Help on built-in function isalpha:\n",
      "\n",
      "isalpha() method of builtins.str instance\n",
      "    Return True if the string is an alphabetic string, False otherwise.\n",
      "    \n",
      "    A string is alphabetic if all characters in the string are alphabetic and there\n",
      "    is at least one character in the string.\n",
      "\n"
     ]
    }
   ],
   "source": [
    "help(s.isalpha)"
   ]
  },
  {
   "cell_type": "code",
   "execution_count": null,
   "id": "4c51aa51-1c56-4a18-a20f-03cf700b1d2d",
   "metadata": {},
   "outputs": [],
   "source": [
    "s.isnumeric"
   ]
  }
 ],
 "metadata": {
  "kernelspec": {
   "display_name": "Python 3 (ipykernel)",
   "language": "python",
   "name": "python3"
  },
  "language_info": {
   "codemirror_mode": {
    "name": "ipython",
    "version": 3
   },
   "file_extension": ".py",
   "mimetype": "text/x-python",
   "name": "python",
   "nbconvert_exporter": "python",
   "pygments_lexer": "ipython3",
   "version": "3.10.2"
  }
 },
 "nbformat": 4,
 "nbformat_minor": 5
}
