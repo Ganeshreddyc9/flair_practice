{
 "cells": [
  {
   "cell_type": "code",
   "execution_count": 1,
   "id": "e12c8ee9-5338-49e8-b245-7f2db3352342",
   "metadata": {},
   "outputs": [
    {
     "name": "stdout",
     "output_type": "stream",
     "text": [
      "['__add__', '__class__', '__class_getitem__', '__contains__', '__delattr__', '__delitem__', '__dir__', '__doc__', '__eq__', '__format__', '__ge__', '__getattribute__', '__getitem__', '__gt__', '__hash__', '__iadd__', '__imul__', '__init__', '__init_subclass__', '__iter__', '__le__', '__len__', '__lt__', '__mul__', '__ne__', '__new__', '__reduce__', '__reduce_ex__', '__repr__', '__reversed__', '__rmul__', '__setattr__', '__setitem__', '__sizeof__', '__str__', '__subclasshook__', 'append', 'clear', 'copy', 'count', 'extend', 'index', 'insert', 'pop', 'remove', 'reverse', 'sort']\n"
     ]
    }
   ],
   "source": [
    "print(dir(list))"
   ]
  },
  {
   "cell_type": "code",
   "execution_count": 2,
   "id": "d781ed7f-0b8c-456f-ade5-29305f1747d8",
   "metadata": {},
   "outputs": [
    {
     "name": "stdout",
     "output_type": "stream",
     "text": [
      "Help on method_descriptor:\n",
      "\n",
      "index(self, value, start=0, stop=9223372036854775807, /)\n",
      "    Return first index of value.\n",
      "    \n",
      "    Raises ValueError if the value is not present.\n",
      "\n"
     ]
    }
   ],
   "source": [
    "# index()\n",
    "help(list.index)"
   ]
  },
  {
   "cell_type": "code",
   "execution_count": 3,
   "id": "1afb1d46-ccba-4c35-8bf9-cc249e335707",
   "metadata": {},
   "outputs": [],
   "source": [
    "# syntax\n",
    "\n",
    "# list.index(elements,start, end)"
   ]
  },
  {
   "cell_type": "code",
   "execution_count": 4,
   "id": "5c10c56d-c82e-4b12-8eed-e338c98d4053",
   "metadata": {},
   "outputs": [],
   "source": [
    "# index() Parameters\n",
    "# The list index() method can take a maximum of three arguments:\n",
    "# element - the element to be searched \n",
    "# start (optional) - start searching from this index\n",
    "# end (optional) - search the element up to this index"
   ]
  },
  {
   "cell_type": "code",
   "execution_count": 5,
   "id": "d40ad4b9-40cc-4cc2-9195-64d3b9c2db8f",
   "metadata": {},
   "outputs": [],
   "source": [
    "# return Value from index()\n",
    "# --the index() method returns the index of the given element in the list \n",
    "# -- if the element is not found a valueError exception is raised \n",
    "\n",
    "\n",
    "# Note:The index method return the first occurance of the matching element "
   ]
  },
  {
   "cell_type": "code",
   "execution_count": 11,
   "id": "d4543421-30a8-4d50-a04c-7aa9e9cc0a08",
   "metadata": {},
   "outputs": [],
   "source": [
    "# Example 1: Find the index of the element\n",
    "\n",
    "# vowels list\n",
    "vowels = ['a', 'e', 'i', 'o', 'i', 'u']\n",
    "\n",
    "index = vowels.index('a')\n",
    "index_1 = vowels.index('e')"
   ]
  },
  {
   "cell_type": "code",
   "execution_count": 14,
   "id": "48e8d101-e922-4685-802d-cb33d154aa9d",
   "metadata": {},
   "outputs": [
    {
     "name": "stdout",
     "output_type": "stream",
     "text": [
      "the index of a: 2\n",
      "1\n"
     ]
    }
   ],
   "source": [
    "print('the index of a:',index)\n",
    "print(index_1)"
   ]
  },
  {
   "cell_type": "code",
   "execution_count": 15,
   "id": "956cd3b8-a957-41c3-8c76-d3ab0c2bcec8",
   "metadata": {},
   "outputs": [
    {
     "name": "stdout",
     "output_type": "stream",
     "text": [
      "the index of i: 2\n"
     ]
    }
   ],
   "source": [
    "# element 'i' is searched\n",
    "# index of the first 'i' is returned\n",
    "index = vowels.index('i')\n",
    "print('the index of i:', index)"
   ]
  },
  {
   "cell_type": "code",
   "execution_count": 20,
   "id": "f1c9cb98-28b3-4f93-b2d5-b373218b4531",
   "metadata": {},
   "outputs": [
    {
     "name": "stdout",
     "output_type": "stream",
     "text": [
      "second index of i: 2\n"
     ]
    }
   ],
   "source": [
    "# to find the second i : \n",
    "index = vowels.index('i',vowels.index('i')+1)\n",
    "print('second index of i:',index)"
   ]
  },
  {
   "cell_type": "code",
   "execution_count": null,
   "id": "a863a312-29aa-4a05-81b5-c0ed40986c5e",
   "metadata": {},
   "outputs": [],
   "source": []
  },
  {
   "cell_type": "code",
   "execution_count": null,
   "id": "7bd87dbe-1d8e-4e97-851f-5718b50431f9",
   "metadata": {},
   "outputs": [],
   "source": []
  }
 ],
 "metadata": {
  "kernelspec": {
   "display_name": "Python 3 (ipykernel)",
   "language": "python",
   "name": "python3"
  },
  "language_info": {
   "codemirror_mode": {
    "name": "ipython",
    "version": 3
   },
   "file_extension": ".py",
   "mimetype": "text/x-python",
   "name": "python",
   "nbconvert_exporter": "python",
   "pygments_lexer": "ipython3",
   "version": "3.10.2"
  }
 },
 "nbformat": 4,
 "nbformat_minor": 5
}
