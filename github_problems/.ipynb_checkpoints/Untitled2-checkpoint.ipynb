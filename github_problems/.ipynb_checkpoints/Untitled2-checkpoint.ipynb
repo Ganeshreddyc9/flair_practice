{
 "cells": [
  {
   "cell_type": "code",
   "execution_count": 2,
   "id": "22d14c29-72b0-4774-9012-09617171247e",
   "metadata": {},
   "outputs": [
    {
     "name": "stdout",
     "output_type": "stream",
     "text": [
      "45\n"
     ]
    }
   ],
   "source": [
    "# Write a python program to find the sum of\n",
    "s = [1, 2, [3, 4], [5, 6, 7], 8, 9]\n",
    "\n",
    "res = []\n",
    "count = 0\n",
    "for i in s:\n",
    "    if isinstance(i,list):\n",
    "        res.extend(i)\n",
    "    else:\n",
    "        res.append(i)\n",
    "\n",
    "\n",
    "print(sum(res))"
   ]
  },
  {
   "cell_type": "code",
   "execution_count": null,
   "id": "595332e2-051c-41a9-9662-11ed89a2785d",
   "metadata": {},
   "outputs": [],
   "source": [
    "s = [1, 2, [3, 4], [5, 6, 7], 8, 9]\n",
    "\n",
    "count = 0\n",
    "for i in s:\n",
    "    if isinstance(i, list):\n",
    "        count += sum(i)\n",
    "        print(count)\n",
    "    else:\n",
    "        count += i\n",
    "\n",
    "print(count)\n"
   ]
  }
 ],
 "metadata": {
  "kernelspec": {
   "display_name": "Python 3 (ipykernel)",
   "language": "python",
   "name": "python3"
  },
  "language_info": {
   "codemirror_mode": {
    "name": "ipython",
    "version": 3
   },
   "file_extension": ".py",
   "mimetype": "text/x-python",
   "name": "python",
   "nbconvert_exporter": "python",
   "pygments_lexer": "ipython3",
   "version": "3.10.2"
  }
 },
 "nbformat": 4,
 "nbformat_minor": 5
}
