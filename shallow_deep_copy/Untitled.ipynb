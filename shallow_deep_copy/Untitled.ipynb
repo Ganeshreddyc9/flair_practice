{
 "cells": [
  {
   "cell_type": "code",
   "execution_count": 1,
   "id": "7f3605f5-7ddf-4332-91d5-7d4332658221",
   "metadata": {},
   "outputs": [],
   "source": [
    "# Python Shallow Copy and Deep Copy\n",
    "# In this class,\n",
    "# you’ll learn about shallow copy and deep copy in Python with the help of examples."
   ]
  },
  {
   "cell_type": "code",
   "execution_count": 2,
   "id": "37b112e5-0ea7-4510-bc7c-5ede0f589722",
   "metadata": {},
   "outputs": [],
   "source": [
    "# Copy an Object in Python"
   ]
  },
  {
   "cell_type": "code",
   "execution_count": 3,
   "id": "e982ad31-c0d1-4436-b466-20c9df9efcd6",
   "metadata": {},
   "outputs": [],
   "source": [
    "# n Python, we use = operator to create a copy of an object. \n",
    "# You may think that this creates a new object; it doesn't.\n",
    "# It only creates a new variable that shares the reference of the original object."
   ]
  },
  {
   "cell_type": "code",
   "execution_count": 4,
   "id": "3ed1264b-f910-40c4-8f62-2c5ee597ac31",
   "metadata": {},
   "outputs": [
    {
     "name": "stdout",
     "output_type": "stream",
     "text": [
      "Old List: [[1, 2, 3], [4, 5, 6], [7, 8, 9]]\n",
      "ID of Old List: 2522998904832\n",
      "New List: [[1, 2, 3], [4, 5, 6], [7, 8, 9]]\n",
      "ID of New List: 2522998904832\n"
     ]
    }
   ],
   "source": [
    "old_list = [[1, 2, 3], [4, 5, 6], [7, 8, 'a']]\n",
    "new_list = old_list\n",
    "\n",
    "new_list[2][2] = 9\n",
    "\n",
    "print('Old List:', old_list)\n",
    "print('ID of Old List:', id(old_list))\n",
    "\n",
    "print('New List:', new_list)\n",
    "print('ID of New List:', id(new_list))"
   ]
  },
  {
   "cell_type": "code",
   "execution_count": 5,
   "id": "3fe1b3dd-4262-40a8-9a50-ca1bd8149f9f",
   "metadata": {},
   "outputs": [],
   "source": [
    "# So, if you want to modify any values in new_list or old_list, the change is visible in both."
   ]
  },
  {
   "cell_type": "code",
   "execution_count": 6,
   "id": "f4e8969c-e245-4663-a19c-9fa3a8bd3a78",
   "metadata": {},
   "outputs": [],
   "source": [
    "# Essentially, sometimes you may want to have the original values unchanged and only modify the new values or vice versa. In Python, there are two ways to create copies:\n",
    "\n",
    "# Shallow Copy\n",
    "# Deep Copy\n",
    "# To make these copy work, we use the copy module."
   ]
  },
  {
   "cell_type": "code",
   "execution_count": 7,
   "id": "5ffe19e4-1bdc-4712-b33d-1c425f6dce72",
   "metadata": {},
   "outputs": [],
   "source": [
    "# Copy Module\n",
    "# We use the copy() module of Python for shallow and deep copy operations.\n",
    "# Suppose, you need to copy the compound list say x.\n",
    "# For example:\n",
    "\n",
    "# import copy\n",
    "# copy.copy(x)\n",
    "# copy.deepcopy(x)\n",
    "# Here, the copy() return a shallow copy of x. Similarly, deepcopy() return a deep copy of x."
   ]
  },
  {
   "cell_type": "code",
   "execution_count": 8,
   "id": "35cc82c5-a1e5-4d57-9ea5-1928d8fc95e9",
   "metadata": {},
   "outputs": [],
   "source": [
    "# Shallow Copy\n",
    "# A shallow copy creates a new object which stores the reference of the original elements."
   ]
  },
  {
   "cell_type": "code",
   "execution_count": 9,
   "id": "ffe6e428-15ae-43e5-b922-a787390a299e",
   "metadata": {},
   "outputs": [],
   "source": [
    "# So, a shallow copy doesn't create a copy of nested objects, instead it just copies the reference of nested objects. This means, a copy process does not recurse or create copies of nested objects itself."
   ]
  },
  {
   "cell_type": "code",
   "execution_count": 10,
   "id": "7d1a6f38-0040-4c3d-a4b1-472046d230e7",
   "metadata": {},
   "outputs": [
    {
     "name": "stdout",
     "output_type": "stream",
     "text": [
      "Old list: [[1, 2, 3], [4, 5, 6], [7, 8, 9]]\n",
      "New list: [[1, 2, 3], [4, 5, 6], [7, 8, 9]]\n"
     ]
    }
   ],
   "source": [
    "\n",
    "# Example 2: Create a copy using shallow copy\n",
    "\n",
    "import copy\n",
    "\n",
    "old_list = [[1, 2, 3], [4, 5, 6], [7, 8, 9]]\n",
    "new_list = copy.copy(old_list)\n",
    "\n",
    "print(\"Old list:\", old_list)\n",
    "print(\"New list:\", new_list)"
   ]
  },
  {
   "cell_type": "code",
   "execution_count": 13,
   "id": "0a742905-0cd8-4949-9792-049c7966be68",
   "metadata": {},
   "outputs": [
    {
     "name": "stdout",
     "output_type": "stream",
     "text": [
      "2522998879872\n",
      "2522998876736\n",
      "2522998877440\n"
     ]
    }
   ],
   "source": [
    "print(id(old_list[0])) \n",
    "print(id(old_list[1])) \n",
    "print(id(old_list[2])) "
   ]
  },
  {
   "cell_type": "code",
   "execution_count": 12,
   "id": "aabf73e5-d40f-406e-a199-8b88bee08d14",
   "metadata": {},
   "outputs": [
    {
     "name": "stdout",
     "output_type": "stream",
     "text": [
      "2522998879872\n",
      "2522998876736\n",
      "2522998877440\n"
     ]
    }
   ],
   "source": [
    "\n",
    "print(id(new_list[0])) \n",
    "print(id(new_list[1])) \n",
    "print(id(new_list[2])) "
   ]
  },
  {
   "cell_type": "code",
   "execution_count": 14,
   "id": "351a063a-8e4f-4c90-984b-a94a7b2bcba1",
   "metadata": {},
   "outputs": [
    {
     "name": "stdout",
     "output_type": "stream",
     "text": [
      "Old list: [[1, 1, 1], [2, 2, 2], [3, 3, 3], [4, 4, 4]]\n",
      "New list: [[1, 1, 1], [2, 2, 2], [3, 3, 3]]\n"
     ]
    }
   ],
   "source": [
    "# Example 3: Adding [4, 4, 4] to old_list, using shallow copy\n",
    "\n",
    "import copy\n",
    "\n",
    "old_list = [[1, 1, 1], [2, 2, 2], [3, 3, 3]]\n",
    "new_list = copy.copy(old_list)\n",
    "\n",
    "old_list.append([4, 4, 4])\n",
    "\n",
    "print(\"Old list:\", old_list)\n",
    "print(\"New list:\", new_list)"
   ]
  },
  {
   "cell_type": "code",
   "execution_count": 16,
   "id": "df3a193f-f9ba-49ec-b696-c9aa33efa048",
   "metadata": {},
   "outputs": [],
   "source": [
    "(old_list[0].append(1))"
   ]
  },
  {
   "cell_type": "code",
   "execution_count": 17,
   "id": "fb708beb-d5ec-41a0-bded-dc9caecdf49f",
   "metadata": {
    "scrolled": true
   },
   "outputs": [
    {
     "name": "stdout",
     "output_type": "stream",
     "text": [
      "Old list: [[1, 1, 1, 1, 1], [2, 2, 2], [3, 3, 3], [4, 4, 4]]\n",
      "New list: [[1, 1, 1, 1, 1], [2, 2, 2], [3, 3, 3]]\n"
     ]
    }
   ],
   "source": [
    "print(\"Old list:\", old_list)\n",
    "print(\"New list:\", new_list)"
   ]
  },
  {
   "cell_type": "code",
   "execution_count": 18,
   "id": "62bc7b74-bc83-4c67-92cc-fc9da6cc722f",
   "metadata": {},
   "outputs": [
    {
     "name": "stdout",
     "output_type": "stream",
     "text": [
      "Old list: [[1, 1, 1], [2, 'AA', 2], [3, 3, 3]]\n",
      "New list: [[1, 1, 1], [2, 'AA', 2], [3, 3, 3]]\n"
     ]
    }
   ],
   "source": [
    "# Example 4: Adding new nested object using Shallow copy\n",
    "\n",
    "import copy\n",
    "\n",
    "old_list = [[1, 1, 1], [2, 2, 2], [3, 3, 3]]\n",
    "new_list = copy.copy(old_list)\n",
    "\n",
    "old_list[1][1] = 'AA'\n",
    "\n",
    "print(\"Old list:\", old_list)\n",
    "print(\"New list:\", new_list)"
   ]
  },
  {
   "cell_type": "code",
   "execution_count": null,
   "id": "8f6c9277-6d2c-444d-8882-7ceeabc5fa6f",
   "metadata": {},
   "outputs": [],
   "source": []
  },
  {
   "cell_type": "code",
   "execution_count": 21,
   "id": "b8b3593e-5757-4d99-9d70-f0e0af6e924e",
   "metadata": {},
   "outputs": [],
   "source": [
    "# Deep Copy\n",
    "# A deep copy creates a new object and recursively adds the copies of nested objects present in the original elements.\n",
    "\n",
    "# Let’s continue with example 2. However, we are going to create deep copy using deepcopy() function present in copy module. The deep copy creates independent copy of original object and all its nested objects."
   ]
  },
  {
   "cell_type": "code",
   "execution_count": 22,
   "id": "5006a9b7-7fbb-4299-8fac-225f904d6472",
   "metadata": {},
   "outputs": [
    {
     "name": "stdout",
     "output_type": "stream",
     "text": [
      "Old list: [[1, 1, 1], [2, 2, 2], [3, 3, 3]]\n",
      "New list: [[1, 1, 1], [2, 2, 2], [3, 3, 3]]\n"
     ]
    }
   ],
   "source": [
    "# Example 5: Copying a list using deepcopy()\n",
    "\n",
    "import copy\n",
    "\n",
    "old_list = [[1, 1, 1], [2, 2, 2], [3, 3, 3]]\n",
    "new_list = copy.deepcopy(old_list)\n",
    "\n",
    "print(\"Old list:\", old_list)\n",
    "print(\"New list:\", new_list)\n",
    "\n"
   ]
  },
  {
   "cell_type": "code",
   "execution_count": 23,
   "id": "478799a1-23a4-44aa-83fe-f9a998fb80d8",
   "metadata": {},
   "outputs": [],
   "source": [
    "# In the above program, we use deepcopy() function to create copy which looks similar.\n",
    "\n",
    "# However, if you make changes to any nested objects in original object old_list, \n",
    "# you’ll see no changes to the copy new_list."
   ]
  },
  {
   "cell_type": "code",
   "execution_count": 24,
   "id": "5d7b4897-f8ae-48e5-ba9e-cc4e8ae81268",
   "metadata": {},
   "outputs": [
    {
     "name": "stdout",
     "output_type": "stream",
     "text": [
      "Old list: [[1, 1, 1], ['BB', 2, 2], [3, 3, 3]]\n",
      "New list: [[1, 1, 1], [2, 2, 2], [3, 3, 3]]\n"
     ]
    }
   ],
   "source": [
    "# Example 6: Adding a new nested object in the list using Deep copy\n",
    "\n",
    "import copy\n",
    "\n",
    "old_list = [[1, 1, 1], [2, 2, 2], [3, 3, 3]]\n",
    "new_list = copy.deepcopy(old_list)\n",
    "\n",
    "old_list[1][0] = 'BB'\n",
    "\n",
    "print(\"Old list:\", old_list)\n",
    "print(\"New list:\", new_list)\n",
    "\n"
   ]
  },
  {
   "cell_type": "code",
   "execution_count": 25,
   "id": "93f88d52-0180-45cb-a802-0ce77626523f",
   "metadata": {},
   "outputs": [
    {
     "name": "stdout",
     "output_type": "stream",
     "text": [
      "2523004193856\n",
      "2523003636416\n",
      "2522998505728\n"
     ]
    }
   ],
   "source": [
    "\n",
    "print(id(new_list[0])) \n",
    "print(id(new_list[1])) \n",
    "print(id(new_list[2])) "
   ]
  },
  {
   "cell_type": "code",
   "execution_count": 26,
   "id": "33208324-5b80-4184-8f70-6a90051bb3e3",
   "metadata": {},
   "outputs": [
    {
     "name": "stdout",
     "output_type": "stream",
     "text": [
      "2523002848960\n",
      "2522998049536\n",
      "2523003717376\n"
     ]
    }
   ],
   "source": [
    "print(id(old_list[0])) \n",
    "print(id(old_list[1])) \n",
    "print(id(old_list[2])) "
   ]
  },
  {
   "cell_type": "code",
   "execution_count": 29,
   "id": "c3a5fcbe-a14b-45b8-bd69-c228007e9ed4",
   "metadata": {},
   "outputs": [
    {
     "name": "stdout",
     "output_type": "stream",
     "text": [
      "[[1, 3], [3, 4]]\n",
      "[[1, 3], [3, 4]]\n"
     ]
    }
   ],
   "source": [
    "# this is shallow copy\n",
    "\n",
    "a = [[1,2],[3,4]]\n",
    "\n",
    "b = copy.copy(a)\n",
    "\n",
    "a[0][1] = 3\n",
    "\n",
    "print(a)\n",
    "print(b)"
   ]
  },
  {
   "cell_type": "code",
   "execution_count": 30,
   "id": "61c5d567-3ee8-422a-a1d8-93c759ad11a5",
   "metadata": {},
   "outputs": [
    {
     "name": "stdout",
     "output_type": "stream",
     "text": [
      "[[1, 3], [3, 4], [4, 5]]\n",
      "[[1, 3], [3, 4]]\n"
     ]
    }
   ],
   "source": [
    "a = [[1,2],[3,4]]\n",
    "\n",
    "b = copy.copy(a)\n",
    "\n",
    "a[0][1] = 3\n",
    "a.append([4,5])\n",
    "\n",
    "print(a)\n",
    "print(b)"
   ]
  },
  {
   "cell_type": "code",
   "execution_count": null,
   "id": "f949dd46-f81d-4e0c-a1a0-70d3d8239001",
   "metadata": {},
   "outputs": [],
   "source": []
  },
  {
   "cell_type": "code",
   "execution_count": 31,
   "id": "31688e04-186f-42f6-8247-08c13ac4ef82",
   "metadata": {},
   "outputs": [
    {
     "name": "stdout",
     "output_type": "stream",
     "text": [
      "[[1, 3], [3, 4], [4, 5]]\n",
      "[[1, 2], [3, 4]]\n"
     ]
    }
   ],
   "source": [
    "# deep copy\n",
    "\n",
    "a = [[1,2],[3,4]]\n",
    "\n",
    "b = copy.deepcopy(a)\n",
    "\n",
    "a[0][1] = 3\n",
    "a.append([4,5])\n",
    "print(a)\n",
    "print(b)"
   ]
  },
  {
   "cell_type": "code",
   "execution_count": null,
   "id": "c7bbd847-5f56-4616-9850-cc73b5e4814e",
   "metadata": {},
   "outputs": [],
   "source": []
  }
 ],
 "metadata": {
  "kernelspec": {
   "display_name": "Python 3 (ipykernel)",
   "language": "python",
   "name": "python3"
  },
  "language_info": {
   "codemirror_mode": {
    "name": "ipython",
    "version": 3
   },
   "file_extension": ".py",
   "mimetype": "text/x-python",
   "name": "python",
   "nbconvert_exporter": "python",
   "pygments_lexer": "ipython3",
   "version": "3.10.2"
  }
 },
 "nbformat": 4,
 "nbformat_minor": 5
}
