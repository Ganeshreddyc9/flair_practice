{
 "cells": [
  {
   "cell_type": "code",
   "execution_count": 1,
   "id": "3ea29354-7db1-41c9-b099-999ef51fee1f",
   "metadata": {},
   "outputs": [],
   "source": [
    "# given a list of integers, return True if the\n",
    "# sequence of 1,2,3 appers in the list some where\n",
    "\n",
    "# arreycheck = ([1,1,2,3,1]) --> True\n",
    "# arreycheck = ([1,1,2,4,1]) --> False\n",
    "# arreycheck = ([1,1,2,2,3]) --> True"
   ]
  },
  {
   "cell_type": "code",
   "execution_count": 12,
   "id": "21e82feb-924f-4359-8e52-d04c6f5128bb",
   "metadata": {},
   "outputs": [],
   "source": [
    "# [1,1,2,3,1]\n",
    "# if nums[i] ==1 and nums[i+1] ==2 and nums[i+2] ==3: \n",
    "# 0 , 0+1 , 0+2 --> 1,1,2,\n",
    "# 1 , 1+1 , 1+2 -->1,2,3\n",
    "# 2,   2+1, 2+2 -->2,3,1\n",
    "# how this works is ([1,1,2,3,1]) i values - 0 ,1,2 - \n",
    "\n",
    "\n",
    "def value_check(nums):\n",
    "\n",
    "    for i in range(len(nums)-2): # len(nums) -2 is bcz we are checking for 3 values \n",
    "        print(i)\n",
    "        if nums[i] ==1 and nums[i+1] ==2 and nums[i+2] ==3:\n",
    "            return True\n",
    "    return False\n",
    "\n"
   ]
  },
  {
   "cell_type": "code",
   "execution_count": 13,
   "id": "445de060-e1c7-45ce-80bf-bfcd5dd96b43",
   "metadata": {},
   "outputs": [
    {
     "name": "stdout",
     "output_type": "stream",
     "text": [
      "0\n",
      "1\n",
      "2\n",
      "3\n",
      "4\n"
     ]
    },
    {
     "data": {
      "text/plain": [
       "False"
      ]
     },
     "execution_count": 13,
     "metadata": {},
     "output_type": "execute_result"
    }
   ],
   "source": [
    "l = [1,1,2,2,3]\n",
    "value_check(l)"
   ]
  },
  {
   "cell_type": "code",
   "execution_count": 15,
   "id": "28bd19aa-2fac-4a32-89eb-6e0211e21908",
   "metadata": {},
   "outputs": [],
   "source": [
    "# given a string return a new string made of every other character starting\n",
    "# with the first, so 'hello' yields 'hlo'.\n",
    "\n",
    "# ex\n",
    "# stringBits('hello') -> 'Hlo'\n",
    "# stringbuts('Hi') -> 'H'\n",
    "# stringbits('heeololeo')-> 'Hello'"
   ]
  },
  {
   "cell_type": "code",
   "execution_count": 16,
   "id": "2e5c8e34-a492-4513-a3de-27836a12e7ea",
   "metadata": {},
   "outputs": [
    {
     "data": {
      "text/plain": [
       "'hlo'"
      ]
     },
     "execution_count": 16,
     "metadata": {},
     "output_type": "execute_result"
    }
   ],
   "source": [
    "s = 'hello'\n",
    "s[0:len(s):2]"
   ]
  },
  {
   "cell_type": "code",
   "execution_count": 17,
   "id": "0223465f-b7fb-424a-82e1-b7482b807ae4",
   "metadata": {},
   "outputs": [
    {
     "data": {
      "text/plain": [
       "'hello'"
      ]
     },
     "execution_count": 17,
     "metadata": {},
     "output_type": "execute_result"
    }
   ],
   "source": [
    "s = 'heeololeo'\n",
    "s[0:len(s):2]"
   ]
  },
  {
   "cell_type": "code",
   "execution_count": 18,
   "id": "f13fa848-f9be-4859-a532-e8da24dbed05",
   "metadata": {},
   "outputs": [
    {
     "data": {
      "text/plain": [
       "'h'"
      ]
     },
     "execution_count": 18,
     "metadata": {},
     "output_type": "execute_result"
    }
   ],
   "source": [
    "s = 'hi'\n",
    "s[0:len(s):2]"
   ]
  },
  {
   "cell_type": "code",
   "execution_count": 21,
   "id": "6a59ab4c-d513-4559-b7b2-75523e934e11",
   "metadata": {},
   "outputs": [
    {
     "name": "stdin",
     "output_type": "stream",
     "text": [
      "enter the word:  Heeololeo\n"
     ]
    },
    {
     "data": {
      "text/plain": [
       "'Hello'"
      ]
     },
     "execution_count": 21,
     "metadata": {},
     "output_type": "execute_result"
    }
   ],
   "source": [
    "def stringbits(mystring):\n",
    "\n",
    "    length = len(mystring)\n",
    "    word = str[0:length:2]\n",
    "\n",
    "    return word\n",
    "\n",
    "str = input(\"enter the word: \")\n",
    "stringbits(str)"
   ]
  },
  {
   "cell_type": "code",
   "execution_count": null,
   "id": "fcebfa12-2dcc-49bb-8a68-dfe2bec95f37",
   "metadata": {},
   "outputs": [],
   "source": [
    "# given two strings , return True if either of the strings appers at the very end \n",
    "# of the other string , ignoring upper/lower case difference(in other words, the \n",
    "# computation should not be 'case sensitive').\n",
    "\n",
    "# examples =:\n",
    "# end_other('Hiabc','abc')->true\n",
    "# end_other('Abc','HiaBc')->true\n",
    "# end_other('abc','abXabc')->true"
   ]
  },
  {
   "cell_type": "code",
   "execution_count": 27,
   "id": "40420dce-7271-420e-bbb4-6640173ff812",
   "metadata": {},
   "outputs": [],
   "source": [
    "def end_other(a,b):\n",
    "    a = a.lower()\n",
    "    b = b.lower()\n",
    "\n",
    "    return  (b.endswith(a) or a.endswith(b))\n"
   ]
  },
  {
   "cell_type": "code",
   "execution_count": 30,
   "id": "a0fbf4c3-2296-40d5-9e64-82ebc7d1e24d",
   "metadata": {},
   "outputs": [
    {
     "name": "stdout",
     "output_type": "stream",
     "text": [
      "True\n",
      "True\n",
      "True\n"
     ]
    }
   ],
   "source": [
    "print(end_other('Hiabc','abc'))\n",
    "print(end_other('Abc','HiaBc'))\n",
    "print(end_other('abc','abXabc'))"
   ]
  },
  {
   "cell_type": "code",
   "execution_count": 31,
   "id": "0ba4dc95-50b8-4ea5-a8d0-31a9c84a2807",
   "metadata": {},
   "outputs": [],
   "source": [
    "# given a string, return a string where for every char in the original \n",
    "# there are two chars.\n",
    "\n",
    "# doubleChar('The') -> 'TThhee'\n",
    "# doubleChar('AABB') -> 'AAAABBBB'\n",
    "# doubleChar('Hi-There') -> 'HHii--TThheerree'"
   ]
  },
  {
   "cell_type": "code",
   "execution_count": 37,
   "id": "61e3760c-04a2-49eb-85cf-e3b4780f30f3",
   "metadata": {},
   "outputs": [
    {
     "name": "stdout",
     "output_type": "stream",
     "text": [
      "TThhee\n",
      "AAAABBBB\n",
      "HHii--TThheerree\n"
     ]
    }
   ],
   "source": [
    "def doubleChar(mystring):\n",
    "\n",
    "    result = \"\"\n",
    "    for i in mystring:\n",
    "        result += i*2\n",
    "        \n",
    "    return result\n",
    "print(doubleChar('The'))\n",
    "print(doubleChar('AABB'))\n",
    "print(doubleChar('Hi-There'))"
   ]
  },
  {
   "cell_type": "code",
   "execution_count": null,
   "id": "a853a088-e13f-44fc-9bd9-4bc0a5449cf4",
   "metadata": {},
   "outputs": [],
   "source": []
  },
  {
   "cell_type": "code",
   "execution_count": null,
   "id": "2e852ce3-f7eb-453c-80d4-f655085ee8a4",
   "metadata": {},
   "outputs": [],
   "source": []
  },
  {
   "cell_type": "code",
   "execution_count": 35,
   "id": "d89b3ef1-e8a3-4007-944b-8e1dc0fd3e6b",
   "metadata": {},
   "outputs": [
    {
     "name": "stdout",
     "output_type": "stream",
     "text": [
      "HH\n",
      "ii\n",
      "--\n",
      "TT\n",
      "hh\n",
      "ee\n",
      "rr\n",
      "ee\n"
     ]
    }
   ],
   "source": [
    "s ='Hi-There'\n",
    "\n",
    "for i in s:\n",
    "    print(i*2)"
   ]
  },
  {
   "cell_type": "code",
   "execution_count": 38,
   "id": "8ad0bba9-2860-4130-b291-2b01387c4c77",
   "metadata": {},
   "outputs": [],
   "source": [
    "\n",
    "# given 3 int values ,a,b,c return their sum However if any of the values is \n",
    "# teen - in the range 13 - 19 inclusive -- then that value counts 0 except 15 and 16 \n",
    "# and do not count as a teen write a seperate helper \"def fix_teen(n):\n",
    "# that takes in an int values and returns that fixed for the teen rule \n",
    "\n",
    "# in this way , you avoid repeating the teen code 3 times(decpompotion)\n",
    "# Define the helper below and at the same indent level as the main \n",
    "# no_teen_sum()\n",
    "\n",
    "# again you have to use two funtions for this problem \n",
    "\n",
    "# print(no_teen_sum(1,2,3) -6\n",
    "# print(no_teen_sum(2,13,1) -3\n",
    "# print(no_teen_sum(2,1,14) -3"
   ]
  },
  {
   "cell_type": "code",
   "execution_count": 49,
   "id": "570e5b1a-a02e-4ca7-9569-27f35e1d9980",
   "metadata": {},
   "outputs": [
    {
     "name": "stdout",
     "output_type": "stream",
     "text": [
      "6\n",
      "15\n",
      "3\n",
      "0\n",
      "3\n",
      "0\n"
     ]
    }
   ],
   "source": [
    "def no_teen_sum(a,b,c):\n",
    "\n",
    "    return fix_teen(a)+ fix_teen(b)+ fix_teen(c)\n",
    "def fix_teen(n):\n",
    "\n",
    "    if n in [13,14,17,18,19]:\n",
    "        return 0\n",
    "    return n\n",
    "\n",
    "\n",
    "print(no_teen_sum(1,2,3))\n",
    "print(fix_teen(15))\n",
    "\n",
    "print(no_teen_sum(2,13,1))\n",
    "print(fix_teen(13))\n",
    "\n",
    "print(no_teen_sum(2,1,14))\n",
    "print(fix_teen(14))"
   ]
  },
  {
   "cell_type": "code",
   "execution_count": null,
   "id": "029ffabf-0789-44f4-9c96-88ae455f0dee",
   "metadata": {},
   "outputs": [],
   "source": []
  },
  {
   "cell_type": "code",
   "execution_count": null,
   "id": "13068df1-d78c-4915-b3b8-055e6a6e1251",
   "metadata": {},
   "outputs": [],
   "source": []
  }
 ],
 "metadata": {
  "kernelspec": {
   "display_name": "Python 3 (ipykernel)",
   "language": "python",
   "name": "python3"
  },
  "language_info": {
   "codemirror_mode": {
    "name": "ipython",
    "version": 3
   },
   "file_extension": ".py",
   "mimetype": "text/x-python",
   "name": "python",
   "nbconvert_exporter": "python",
   "pygments_lexer": "ipython3",
   "version": "3.10.2"
  }
 },
 "nbformat": 4,
 "nbformat_minor": 5
}
