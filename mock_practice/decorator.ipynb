{
 "cells": [
  {
   "cell_type": "code",
   "execution_count": 1,
   "id": "719ec5dc-bffe-41bf-addb-2e06b12d8b75",
   "metadata": {},
   "outputs": [],
   "source": [
    "import math\n",
    "def square(func):\n",
    "    def number(num):\n",
    "        result = func(num)\n",
    "        return math.sqrt(result)\n",
    "    return number\n",
    "@square\n",
    "def square_of_number(num):\n",
    "    return num * num\n",
    "    "
   ]
  },
  {
   "cell_type": "code",
   "execution_count": 2,
   "id": "b589b0ca-2ae1-403d-8fc7-aeec749f41b5",
   "metadata": {},
   "outputs": [
    {
     "data": {
      "text/plain": [
       "9"
      ]
     },
     "execution_count": 2,
     "metadata": {},
     "output_type": "execute_result"
    }
   ],
   "source": [
    "square_of_number(3)"
   ]
  },
  {
   "cell_type": "code",
   "execution_count": null,
   "id": "1cbb7c2c-429d-42cd-b639-f35b413ac9ac",
   "metadata": {},
   "outputs": [],
   "source": []
  }
 ],
 "metadata": {
  "kernelspec": {
   "display_name": "Python 3 (ipykernel)",
   "language": "python",
   "name": "python3"
  },
  "language_info": {
   "codemirror_mode": {
    "name": "ipython",
    "version": 3
   },
   "file_extension": ".py",
   "mimetype": "text/x-python",
   "name": "python",
   "nbconvert_exporter": "python",
   "pygments_lexer": "ipython3",
   "version": "3.10.2"
  }
 },
 "nbformat": 4,
 "nbformat_minor": 5
}
