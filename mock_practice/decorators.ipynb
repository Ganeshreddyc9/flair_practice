{
 "cells": [
  {
   "cell_type": "code",
   "execution_count": 1,
   "id": "4e075d4b-1641-4b0e-9b01-9e06063920ff",
   "metadata": {},
   "outputs": [],
   "source": [
    "# decorator defination\n",
    "\n",
    "# if you want add some functionality without changing the current functionlity we can go for decorator\n",
    "# or\n",
    "\n",
    "# if you want to add some functionality before and/or after the functionality without changing the current functionlity we can go for\n",
    "# decorator \n",
    "\n",
    "# or \n",
    "\n",
    "# we can pass function as an argument to the other function"
   ]
  },
  {
   "cell_type": "code",
   "execution_count": 3,
   "id": "ab2e00b1-8f5b-4d8c-8982-e0413bd6f78e",
   "metadata": {},
   "outputs": [],
   "source": [
    "def outer(func):\n",
    "    def inner(*args,**kwargs):\n",
    "        #before the functionlity \n",
    "        print(\"*\" * 50)\n",
    "        func(*args,**kwargs)\n",
    "        #after  the functionlity\n",
    "        print(\"#\" * 50)\n",
    "    return inner\n",
    "def fun(s):\n",
    "    print(s)"
   ]
  },
  {
   "cell_type": "code",
   "execution_count": 4,
   "id": "de213177-f0a1-44ab-bac7-ebae5618a565",
   "metadata": {},
   "outputs": [
    {
     "ename": "TypeError",
     "evalue": "outer() missing 1 required positional argument: 'func'",
     "output_type": "error",
     "traceback": [
      "\u001b[1;31m---------------------------------------------------------------------------\u001b[0m",
      "\u001b[1;31mTypeError\u001b[0m                                 Traceback (most recent call last)",
      "Cell \u001b[1;32mIn[4], line 1\u001b[0m\n\u001b[1;32m----> 1\u001b[0m \u001b[43mouter\u001b[49m\u001b[43m(\u001b[49m\u001b[43m)\u001b[49m\n",
      "\u001b[1;31mTypeError\u001b[0m: outer() missing 1 required positional argument: 'func'"
     ]
    }
   ],
   "source": [
    "outer()"
   ]
  },
  {
   "cell_type": "code",
   "execution_count": 5,
   "id": "47a01649-e0c2-40fe-aa97-6ec2c2873f70",
   "metadata": {},
   "outputs": [
    {
     "data": {
      "text/plain": [
       "<function __main__.outer.<locals>.inner(*args, **kwargs)>"
      ]
     },
     "execution_count": 5,
     "metadata": {},
     "output_type": "execute_result"
    }
   ],
   "source": [
    "outer(fun)"
   ]
  },
  {
   "cell_type": "code",
   "execution_count": 8,
   "id": "ddc34bee-4b0f-4542-9f6c-dbf66dcc4f33",
   "metadata": {},
   "outputs": [
    {
     "name": "stdout",
     "output_type": "stream",
     "text": [
      "**************************************************\n",
      "i am in bangalore\n",
      "##################################################\n"
     ]
    }
   ],
   "source": [
    "outer(fun)(\"i am in bangalore\")"
   ]
  },
  {
   "cell_type": "code",
   "execution_count": 9,
   "id": "e3465aca-366b-4fec-895d-0a3288eb94a0",
   "metadata": {},
   "outputs": [],
   "source": [
    "def outer(func):\n",
    "    def inner(*args,**kwargs):\n",
    "        #before the functionlity \n",
    "        print(\"*\" * 50)\n",
    "        func()\n",
    "        #after  the functionlity\n",
    "        print(\"#\" * 50)\n",
    "    return inner\n",
    "def fun(s):\n",
    "    print(s)"
   ]
  },
  {
   "cell_type": "code",
   "execution_count": 10,
   "id": "25ae62bc-c601-494a-9a59-b99a7aec38e7",
   "metadata": {},
   "outputs": [
    {
     "name": "stdout",
     "output_type": "stream",
     "text": [
      "**************************************************\n"
     ]
    },
    {
     "ename": "TypeError",
     "evalue": "fun() missing 1 required positional argument: 's'",
     "output_type": "error",
     "traceback": [
      "\u001b[1;31m---------------------------------------------------------------------------\u001b[0m",
      "\u001b[1;31mTypeError\u001b[0m                                 Traceback (most recent call last)",
      "Cell \u001b[1;32mIn[10], line 1\u001b[0m\n\u001b[1;32m----> 1\u001b[0m \u001b[43mouter\u001b[49m\u001b[43m(\u001b[49m\u001b[43mfun\u001b[49m\u001b[43m)\u001b[49m\u001b[43m(\u001b[49m\u001b[38;5;124;43m\"\u001b[39;49m\u001b[38;5;124;43mi am in bangalore\u001b[39;49m\u001b[38;5;124;43m\"\u001b[39;49m\u001b[43m)\u001b[49m\n",
      "Cell \u001b[1;32mIn[9], line 5\u001b[0m, in \u001b[0;36mouter.<locals>.inner\u001b[1;34m(*args, **kwargs)\u001b[0m\n\u001b[0;32m      2\u001b[0m \u001b[38;5;28;01mdef\u001b[39;00m \u001b[38;5;21minner\u001b[39m(\u001b[38;5;241m*\u001b[39margs,\u001b[38;5;241m*\u001b[39m\u001b[38;5;241m*\u001b[39mkwargs):\n\u001b[0;32m      3\u001b[0m     \u001b[38;5;66;03m#before the functionlity \u001b[39;00m\n\u001b[0;32m      4\u001b[0m     \u001b[38;5;28mprint\u001b[39m(\u001b[38;5;124m\"\u001b[39m\u001b[38;5;124m*\u001b[39m\u001b[38;5;124m\"\u001b[39m \u001b[38;5;241m*\u001b[39m \u001b[38;5;241m50\u001b[39m)\n\u001b[1;32m----> 5\u001b[0m     \u001b[43mfunc\u001b[49m\u001b[43m(\u001b[49m\u001b[43m)\u001b[49m\n\u001b[0;32m      6\u001b[0m     \u001b[38;5;66;03m#after  the functionlity\u001b[39;00m\n\u001b[0;32m      7\u001b[0m     \u001b[38;5;28mprint\u001b[39m(\u001b[38;5;124m\"\u001b[39m\u001b[38;5;124m#\u001b[39m\u001b[38;5;124m\"\u001b[39m \u001b[38;5;241m*\u001b[39m \u001b[38;5;241m50\u001b[39m)\n",
      "\u001b[1;31mTypeError\u001b[0m: fun() missing 1 required positional argument: 's'"
     ]
    }
   ],
   "source": [
    "outer(fun)(\"i am in bangalore\")"
   ]
  },
  {
   "cell_type": "code",
   "execution_count": null,
   "id": "a7d17ed2-5e63-444f-b56c-9f3fafebe329",
   "metadata": {},
   "outputs": [],
   "source": []
  }
 ],
 "metadata": {
  "kernelspec": {
   "display_name": "Python 3 (ipykernel)",
   "language": "python",
   "name": "python3"
  },
  "language_info": {
   "codemirror_mode": {
    "name": "ipython",
    "version": 3
   },
   "file_extension": ".py",
   "mimetype": "text/x-python",
   "name": "python",
   "nbconvert_exporter": "python",
   "pygments_lexer": "ipython3",
   "version": "3.10.2"
  }
 },
 "nbformat": 4,
 "nbformat_minor": 5
}
