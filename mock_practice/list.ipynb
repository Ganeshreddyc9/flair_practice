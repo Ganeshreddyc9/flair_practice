{
 "cells": [
  {
   "cell_type": "code",
   "execution_count": 4,
   "id": "e1dda49a-d9e7-4ead-8846-94c0e54129a3",
   "metadata": {},
   "outputs": [],
   "source": [
    "# list\n",
    "\n",
    "# list is an oredered, sequenced and mutable datatype \n",
    "# ex:a = ['a','b',1,2,3]"
   ]
  },
  {
   "cell_type": "code",
   "execution_count": 5,
   "id": "fde17679-d937-4d8b-8e06-55cb24c35dc4",
   "metadata": {},
   "outputs": [],
   "source": [
    "# type()\n",
    "# type() is used to find which datatype it is "
   ]
  },
  {
   "cell_type": "code",
   "execution_count": 6,
   "id": "12cca54d-a20f-4ae2-b070-ffb463d0e190",
   "metadata": {},
   "outputs": [],
   "source": [
    "# oredered, sequenced\n",
    "# unordered, non sequesnced"
   ]
  },
  {
   "cell_type": "code",
   "execution_count": 7,
   "id": "1299c1f0-9a59-4bc5-b4a5-e16bc3890372",
   "metadata": {},
   "outputs": [],
   "source": [
    "# oredered\n",
    "\n",
    "# in which order the data is formed for a datatype while retriving if u get the data in the same order then that will be an ordered data type "
   ]
  },
  {
   "cell_type": "code",
   "execution_count": 8,
   "id": "c53583c5-d898-4c88-b563-c6674fe8c2d9",
   "metadata": {},
   "outputs": [],
   "source": [
    "a = ['a','b',1,2,3]"
   ]
  },
  {
   "cell_type": "code",
   "execution_count": 9,
   "id": "21330ded-eba1-462b-bbe5-3ad68fc4afe9",
   "metadata": {},
   "outputs": [
    {
     "data": {
      "text/plain": [
       "['a', 'b', 1, 2, 3]"
      ]
     },
     "execution_count": 9,
     "metadata": {},
     "output_type": "execute_result"
    }
   ],
   "source": [
    "a"
   ]
  },
  {
   "cell_type": "code",
   "execution_count": 11,
   "id": "6e89ab7b-7fde-4fe0-8a55-6a9e35bb4e4c",
   "metadata": {},
   "outputs": [
    {
     "name": "stdout",
     "output_type": "stream",
     "text": [
      "<class 'list'>\n"
     ]
    },
    {
     "data": {
      "text/plain": [
       "(list, None)"
      ]
     },
     "execution_count": 11,
     "metadata": {},
     "output_type": "execute_result"
    }
   ],
   "source": [
    "type(a),print(type(a))"
   ]
  },
  {
   "cell_type": "code",
   "execution_count": 12,
   "id": "66f87eb6-22a6-4bb1-9b4f-0a8ac59b9efd",
   "metadata": {},
   "outputs": [],
   "source": [
    "# sequenced datatype\n",
    "# 0-n \n",
    "# starts with 0 to n -- sequence 0,1,2,3,4..........\n",
    "\n",
    "# by using sequence 0-n-1 --> -1 to  -n  if we can able to retive each and every element in an iterable then that will be a sequence data type "
   ]
  },
  {
   "cell_type": "code",
   "execution_count": 13,
   "id": "e2423aa7-4c69-4d3c-b1c9-0fb86a3d4cec",
   "metadata": {},
   "outputs": [],
   "source": [
    "# for indexing we use [] braces and () for function calling we use ()-->"
   ]
  },
  {
   "cell_type": "code",
   "execution_count": 14,
   "id": "0231c068-79fa-4a87-a249-f2d9b9a5d761",
   "metadata": {},
   "outputs": [
    {
     "data": {
      "text/plain": [
       "'a'"
      ]
     },
     "execution_count": 14,
     "metadata": {},
     "output_type": "execute_result"
    }
   ],
   "source": [
    "a[-len(a)]"
   ]
  },
  {
   "cell_type": "code",
   "execution_count": 17,
   "id": "26f0b0f4-7912-41f1-beda-d80b42f0d07d",
   "metadata": {},
   "outputs": [
    {
     "data": {
      "text/plain": [
       "'b'"
      ]
     },
     "execution_count": 17,
     "metadata": {},
     "output_type": "execute_result"
    }
   ],
   "source": [
    "a[-len(a)+1]"
   ]
  },
  {
   "cell_type": "code",
   "execution_count": 18,
   "id": "c83072ba-6cd3-471a-a05c-3645765bf3bd",
   "metadata": {},
   "outputs": [
    {
     "data": {
      "text/plain": [
       "1"
      ]
     },
     "execution_count": 18,
     "metadata": {},
     "output_type": "execute_result"
    }
   ],
   "source": [
    "a[-len(a)+2]"
   ]
  },
  {
   "cell_type": "code",
   "execution_count": 19,
   "id": "990f8152-4cd3-4ac9-952f-d6cff3695c28",
   "metadata": {},
   "outputs": [
    {
     "data": {
      "text/plain": [
       "1"
      ]
     },
     "execution_count": 19,
     "metadata": {},
     "output_type": "execute_result"
    }
   ],
   "source": [
    "a[-len(a)+2]"
   ]
  },
  {
   "cell_type": "code",
   "execution_count": 20,
   "id": "357f593f-ca8a-49eb-b613-0ae250be4028",
   "metadata": {},
   "outputs": [
    {
     "data": {
      "text/plain": [
       "['a', 'b', 1, 2, 3]"
      ]
     },
     "execution_count": 20,
     "metadata": {},
     "output_type": "execute_result"
    }
   ],
   "source": [
    "a"
   ]
  },
  {
   "cell_type": "code",
   "execution_count": 21,
   "id": "af5d89a1-db3e-4b71-a760-97d195f99c02",
   "metadata": {},
   "outputs": [
    {
     "name": "stdout",
     "output_type": "stream",
     "text": [
      "b\n"
     ]
    }
   ],
   "source": [
    "print(a[1])"
   ]
  },
  {
   "cell_type": "code",
   "execution_count": null,
   "id": "5b392d5d-7882-4807-b2be-e122b3537179",
   "metadata": {},
   "outputs": [],
   "source": [
    "# __<>__ --> Magic methods "
   ]
  },
  {
   "cell_type": "code",
   "execution_count": 24,
   "id": "5e0368a2-dc97-425f-b6db-24dd54669fb1",
   "metadata": {},
   "outputs": [],
   "source": [
    "# dir ---> \n",
    "\n",
    "# it will give you which are the methods are supported by the perticular datatype\n",
    "\n",
    "\n",
    "# help--->\n",
    "# it will help you how to use the preticualr method in a correct way "
   ]
  },
  {
   "cell_type": "code",
   "execution_count": 25,
   "id": "bc31ec98-07b6-40ba-865f-4ccd7ecb1c43",
   "metadata": {},
   "outputs": [
    {
     "name": "stdout",
     "output_type": "stream",
     "text": [
      "Help on built-in function append:\n",
      "\n",
      "append(object, /) method of builtins.list instance\n",
      "    Append object to the end of the list.\n",
      "\n"
     ]
    }
   ],
   "source": [
    "help(a.append)"
   ]
  },
  {
   "cell_type": "code",
   "execution_count": null,
   "id": "bb63c58f-42fe-4eb7-a390-5019b69bb407",
   "metadata": {},
   "outputs": [],
   "source": [
    "# append(object, /) -- (/) means -- nothing"
   ]
  },
  {
   "cell_type": "code",
   "execution_count": 26,
   "id": "41017a70-ded3-467b-b777-eaf1a8d9188b",
   "metadata": {},
   "outputs": [
    {
     "data": {
      "text/plain": [
       "\u001b[1;31mSignature:\u001b[0m \u001b[0ma\u001b[0m\u001b[1;33m.\u001b[0m\u001b[0mappend\u001b[0m\u001b[1;33m(\u001b[0m\u001b[0mobject\u001b[0m\u001b[1;33m,\u001b[0m \u001b[1;33m/\u001b[0m\u001b[1;33m)\u001b[0m\u001b[1;33m\u001b[0m\u001b[1;33m\u001b[0m\u001b[0m\n",
       "\u001b[1;31mDocstring:\u001b[0m Append object to the end of the list.\n",
       "\u001b[1;31mType:\u001b[0m      builtin_function_or_method"
      ]
     },
     "metadata": {},
     "output_type": "display_data"
    }
   ],
   "source": [
    "a.append?"
   ]
  },
  {
   "cell_type": "code",
   "execution_count": 27,
   "id": "f206a84e-e3b6-42a4-b69d-3c6bb6e93d0b",
   "metadata": {},
   "outputs": [
    {
     "data": {
      "text/plain": [
       "\u001b[1;31mSignature:\u001b[0m \u001b[0ma\u001b[0m\u001b[1;33m.\u001b[0m\u001b[0mextend\u001b[0m\u001b[1;33m(\u001b[0m\u001b[0miterable\u001b[0m\u001b[1;33m,\u001b[0m \u001b[1;33m/\u001b[0m\u001b[1;33m)\u001b[0m\u001b[1;33m\u001b[0m\u001b[1;33m\u001b[0m\u001b[0m\n",
       "\u001b[1;31mDocstring:\u001b[0m Extend list by appending elements from the iterable.\n",
       "\u001b[1;31mType:\u001b[0m      builtin_function_or_method"
      ]
     },
     "metadata": {},
     "output_type": "display_data"
    }
   ],
   "source": [
    "a.extend?"
   ]
  },
  {
   "cell_type": "code",
   "execution_count": 2,
   "id": "6c7a386c-a6e3-48df-9a82-cf63abf87cc4",
   "metadata": {},
   "outputs": [],
   "source": [
    "# clear\n",
    "\n",
    "a = ['a','b',1,2,3]"
   ]
  },
  {
   "cell_type": "code",
   "execution_count": 3,
   "id": "4742b0ee-c16d-4885-8429-df828739edff",
   "metadata": {},
   "outputs": [
    {
     "name": "stdout",
     "output_type": "stream",
     "text": [
      "Help on built-in function clear:\n",
      "\n",
      "clear() method of builtins.list instance\n",
      "    Remove all items from list.\n",
      "\n"
     ]
    }
   ],
   "source": [
    "help(a.clear)"
   ]
  },
  {
   "cell_type": "code",
   "execution_count": 4,
   "id": "0831fdf2-9e91-46ee-9604-858ff283909a",
   "metadata": {},
   "outputs": [],
   "source": [
    "a.clear()"
   ]
  },
  {
   "cell_type": "code",
   "execution_count": 5,
   "id": "be12d571-8b9e-4031-a4aa-911d22b3acb9",
   "metadata": {},
   "outputs": [
    {
     "data": {
      "text/plain": [
       "[]"
      ]
     },
     "execution_count": 5,
     "metadata": {},
     "output_type": "execute_result"
    }
   ],
   "source": [
    "a"
   ]
  },
  {
   "cell_type": "code",
   "execution_count": 6,
   "id": "e4c2c267-c723-4a9d-b8d8-975fc3b8c16c",
   "metadata": {},
   "outputs": [],
   "source": [
    "del a"
   ]
  },
  {
   "cell_type": "code",
   "execution_count": 7,
   "id": "d4f6531c-a015-4135-9d21-c651c9c952ee",
   "metadata": {},
   "outputs": [
    {
     "ename": "NameError",
     "evalue": "name 'a' is not defined",
     "output_type": "error",
     "traceback": [
      "\u001b[1;31m---------------------------------------------------------------------------\u001b[0m",
      "\u001b[1;31mNameError\u001b[0m                                 Traceback (most recent call last)",
      "Cell \u001b[1;32mIn[7], line 1\u001b[0m\n\u001b[1;32m----> 1\u001b[0m \u001b[43ma\u001b[49m\n",
      "\u001b[1;31mNameError\u001b[0m: name 'a' is not defined"
     ]
    }
   ],
   "source": [
    "a"
   ]
  },
  {
   "cell_type": "code",
   "execution_count": 11,
   "id": "d66d1cdd-00b8-483b-b29f-bbb223582c5a",
   "metadata": {},
   "outputs": [],
   "source": [
    "a = ['a','b',1,2,3,1,2,3]"
   ]
  },
  {
   "cell_type": "code",
   "execution_count": 12,
   "id": "d2093771-2559-4d9b-bbaf-1abf8b7062b6",
   "metadata": {},
   "outputs": [
    {
     "data": {
      "text/plain": [
       "2"
      ]
     },
     "execution_count": 12,
     "metadata": {},
     "output_type": "execute_result"
    }
   ],
   "source": [
    "a.count(1)"
   ]
  },
  {
   "cell_type": "code",
   "execution_count": 13,
   "id": "d2297e2b-3d43-440b-b35c-26a4633175b6",
   "metadata": {},
   "outputs": [],
   "source": [
    "aa = [1,a,1.0,5,True]"
   ]
  },
  {
   "cell_type": "code",
   "execution_count": 15,
   "id": "de81f872-a9ed-42fb-bb5f-d658b4b2fea8",
   "metadata": {},
   "outputs": [
    {
     "data": {
      "text/plain": [
       "(3, 3)"
      ]
     },
     "execution_count": 15,
     "metadata": {},
     "output_type": "execute_result"
    }
   ],
   "source": [
    "aa.count(True),aa.count(1)"
   ]
  },
  {
   "cell_type": "code",
   "execution_count": 16,
   "id": "7dd547aa-4cc7-4184-9b4f-4e437434e3de",
   "metadata": {},
   "outputs": [
    {
     "data": {
      "text/plain": [
       "True"
      ]
     },
     "execution_count": 16,
     "metadata": {},
     "output_type": "execute_result"
    }
   ],
   "source": [
    "\n",
    "1 == 1.0 == True"
   ]
  },
  {
   "cell_type": "code",
   "execution_count": 17,
   "id": "0d7b59d8-6cdd-45e2-8c6d-8d0f243c70c4",
   "metadata": {},
   "outputs": [
    {
     "data": {
      "text/plain": [
       "False"
      ]
     },
     "execution_count": 17,
     "metadata": {},
     "output_type": "execute_result"
    }
   ],
   "source": [
    "True == False"
   ]
  },
  {
   "cell_type": "code",
   "execution_count": 18,
   "id": "8eaa5d13-c0c7-4961-b543-bf7014093612",
   "metadata": {},
   "outputs": [
    {
     "data": {
      "text/plain": [
       "True"
      ]
     },
     "execution_count": 18,
     "metadata": {},
     "output_type": "execute_result"
    }
   ],
   "source": [
    "True or False"
   ]
  },
  {
   "cell_type": "code",
   "execution_count": 19,
   "id": "8f1d51b9-6449-4c6a-b628-dcf07d6e3699",
   "metadata": {},
   "outputs": [
    {
     "data": {
      "text/plain": [
       "False"
      ]
     },
     "execution_count": 19,
     "metadata": {},
     "output_type": "execute_result"
    }
   ],
   "source": [
    "True and False"
   ]
  },
  {
   "cell_type": "code",
   "execution_count": 26,
   "id": "b01181e1-62f6-4962-806f-ad462bc5c738",
   "metadata": {},
   "outputs": [
    {
     "name": "stdout",
     "output_type": "stream",
     "text": [
      "hey there.....\n"
     ]
    }
   ],
   "source": [
    "if True:\n",
    "    print('hey there.....')"
   ]
  },
  {
   "cell_type": "code",
   "execution_count": 27,
   "id": "964f1734-392f-41b3-ae70-a47a03dd024d",
   "metadata": {},
   "outputs": [
    {
     "name": "stdout",
     "output_type": "stream",
     "text": [
      "hey there.....\n"
     ]
    }
   ],
   "source": [
    "if True or False:\n",
    "    print('hey there.....')"
   ]
  },
  {
   "cell_type": "code",
   "execution_count": 29,
   "id": "79db35d7-38ab-47e7-afdb-8c1086ff4edc",
   "metadata": {},
   "outputs": [
    {
     "data": {
      "text/plain": [
       "(2247765459184, 2247841632304, 140704666667880)"
      ]
     },
     "execution_count": 29,
     "metadata": {},
     "output_type": "execute_result"
    }
   ],
   "source": [
    "id(1),id(1.0),id(True)"
   ]
  },
  {
   "cell_type": "code",
   "execution_count": 31,
   "id": "a54cf383-0414-46e7-ad1d-a3be6b9ad249",
   "metadata": {},
   "outputs": [
    {
     "name": "stdout",
     "output_type": "stream",
     "text": [
      "Help on built-in function extend:\n",
      "\n",
      "extend(iterable, /) method of builtins.list instance\n",
      "    Extend list by appending elements from the iterable.\n",
      "\n"
     ]
    }
   ],
   "source": [
    "# extend\\\n",
    "help(a.extend)"
   ]
  },
  {
   "cell_type": "code",
   "execution_count": 3,
   "id": "1b379213-e046-4c68-b425-0d07751d3bb5",
   "metadata": {},
   "outputs": [],
   "source": [
    "a = ['a','b',1,2,3,1,2,3]\n",
    "b = [1,2,3,4,'a','b','c']\n",
    "a.append(b)"
   ]
  },
  {
   "cell_type": "code",
   "execution_count": 4,
   "id": "cbceb037-ebf1-4cd8-8ecd-468259d10302",
   "metadata": {},
   "outputs": [
    {
     "data": {
      "text/plain": [
       "['a', 'b', 1, 2, 3, 1, 2, 3, [1, 2, 3, 4, 'a', 'b', 'c']]"
      ]
     },
     "execution_count": 4,
     "metadata": {},
     "output_type": "execute_result"
    }
   ],
   "source": [
    "a"
   ]
  },
  {
   "cell_type": "code",
   "execution_count": 5,
   "id": "9d0bf07b-1583-436a-bdb3-3b48f7868c84",
   "metadata": {},
   "outputs": [],
   "source": [
    "a.append(a)"
   ]
  },
  {
   "cell_type": "code",
   "execution_count": 6,
   "id": "c42ef43c-f1ee-42b8-b9d2-9d8560ef2d08",
   "metadata": {},
   "outputs": [
    {
     "data": {
      "text/plain": [
       "['a', 'b', 1, 2, 3, 1, 2, 3, [1, 2, 3, 4, 'a', 'b', 'c'], [...]]"
      ]
     },
     "execution_count": 6,
     "metadata": {},
     "output_type": "execute_result"
    }
   ],
   "source": [
    "a"
   ]
  },
  {
   "cell_type": "code",
   "execution_count": 7,
   "id": "ffa772c9-5ef0-41eb-bbf3-eacb10d7f04c",
   "metadata": {},
   "outputs": [],
   "source": [
    "a = [1,2]\n",
    "a.append(a)"
   ]
  },
  {
   "cell_type": "code",
   "execution_count": 8,
   "id": "954ade5a-3f19-41a3-89dd-b55df7a803ee",
   "metadata": {},
   "outputs": [
    {
     "data": {
      "text/plain": [
       "[1, 2, [...]]"
      ]
     },
     "execution_count": 8,
     "metadata": {},
     "output_type": "execute_result"
    }
   ],
   "source": [
    "a"
   ]
  },
  {
   "cell_type": "code",
   "execution_count": 9,
   "id": "2d52c1c1-22b3-4b7b-9291-9462d4c1d86a",
   "metadata": {},
   "outputs": [
    {
     "name": "stdout",
     "output_type": "stream",
     "text": [
      "[1, 2, [...]]\n"
     ]
    }
   ],
   "source": [
    "print(a)"
   ]
  },
  {
   "cell_type": "code",
   "execution_count": 10,
   "id": "0edc29d8-8b41-4bb5-b817-9cd85988f4ac",
   "metadata": {},
   "outputs": [],
   "source": [
    "a.extend(a)"
   ]
  },
  {
   "cell_type": "code",
   "execution_count": 11,
   "id": "ad462839-5271-4379-9125-89817acb3edb",
   "metadata": {},
   "outputs": [
    {
     "data": {
      "text/plain": [
       "[1, 2, [...], 1, 2, [...]]"
      ]
     },
     "execution_count": 11,
     "metadata": {},
     "output_type": "execute_result"
    }
   ],
   "source": [
    "a"
   ]
  },
  {
   "cell_type": "code",
   "execution_count": 12,
   "id": "999aca95-4dd9-40e8-aef7-df8f121776ec",
   "metadata": {},
   "outputs": [],
   "source": [
    "a.extend(b)"
   ]
  },
  {
   "cell_type": "code",
   "execution_count": 13,
   "id": "6cdada42-14f9-4e23-bc96-134f46500d7c",
   "metadata": {},
   "outputs": [
    {
     "data": {
      "text/plain": [
       "[1, 2, [...], 1, 2, [...], 1, 2, 3, 4, 'a', 'b', 'c']"
      ]
     },
     "execution_count": 13,
     "metadata": {},
     "output_type": "execute_result"
    }
   ],
   "source": [
    "a\n"
   ]
  },
  {
   "cell_type": "code",
   "execution_count": 14,
   "id": "1fc5e1c3-6669-4d8a-92d6-aa65e7270d78",
   "metadata": {},
   "outputs": [
    {
     "data": {
      "text/plain": [
       "0"
      ]
     },
     "execution_count": 14,
     "metadata": {},
     "output_type": "execute_result"
    }
   ],
   "source": [
    "a.index(1)"
   ]
  },
  {
   "cell_type": "code",
   "execution_count": 28,
   "id": "99eb0f20-f87f-4a3f-8324-c1c0bb3a7405",
   "metadata": {},
   "outputs": [
    {
     "data": {
      "text/plain": [
       "3"
      ]
     },
     "execution_count": 28,
     "metadata": {},
     "output_type": "execute_result"
    }
   ],
   "source": [
    "a = [1,2,3,'a','b',[1,'a',2,3],'a','b',2,'a']\n",
    "\n",
    "# first ocuurance\n",
    "a.index('a')"
   ]
  },
  {
   "cell_type": "code",
   "execution_count": 29,
   "id": "44156814-34c9-4188-a723-cf8234f2a126",
   "metadata": {},
   "outputs": [
    {
     "data": {
      "text/plain": [
       "6"
      ]
     },
     "execution_count": 29,
     "metadata": {},
     "output_type": "execute_result"
    }
   ],
   "source": [
    "# second ocuurance\n",
    "a.index('a',a.index('a')+1)"
   ]
  },
  {
   "cell_type": "code",
   "execution_count": 30,
   "id": "5d0c810a-a3d5-4c42-88b0-1b2a0630842f",
   "metadata": {},
   "outputs": [
    {
     "data": {
      "text/plain": [
       "9"
      ]
     },
     "execution_count": 30,
     "metadata": {},
     "output_type": "execute_result"
    }
   ],
   "source": [
    "# third coourance\n",
    "a.index('a',a.index('a',a.index('a')+1)+1)"
   ]
  },
  {
   "cell_type": "code",
   "execution_count": 31,
   "id": "d09caeb3-0f1d-42c6-8625-5fc6f1008fa3",
   "metadata": {},
   "outputs": [
    {
     "data": {
      "text/plain": [
       "5"
      ]
     },
     "execution_count": 31,
     "metadata": {},
     "output_type": "execute_result"
    }
   ],
   "source": [
    "a.index([1,'a',2,3])"
   ]
  },
  {
   "cell_type": "code",
   "execution_count": 32,
   "id": "afadd513-d9e7-46ba-8953-5583e688d589",
   "metadata": {},
   "outputs": [
    {
     "data": {
      "text/plain": [
       "1"
      ]
     },
     "execution_count": 32,
     "metadata": {},
     "output_type": "execute_result"
    }
   ],
   "source": [
    "a[5].index('a')"
   ]
  },
  {
   "cell_type": "code",
   "execution_count": 33,
   "id": "a8b31f30-5399-4091-8777-01ffafed6148",
   "metadata": {},
   "outputs": [
    {
     "data": {
      "text/plain": [
       "'a'"
      ]
     },
     "execution_count": 33,
     "metadata": {},
     "output_type": "execute_result"
    }
   ],
   "source": [
    "a[5][1]"
   ]
  },
  {
   "cell_type": "code",
   "execution_count": 34,
   "id": "b7a36d94-01c8-404a-99f4-50b7d03d2c7b",
   "metadata": {},
   "outputs": [
    {
     "data": {
      "text/plain": [
       "[1, 2, 3, 'a', 'b', [1, 'a', 2, 3], 'a', 'b', 2, 'a']"
      ]
     },
     "execution_count": 34,
     "metadata": {},
     "output_type": "execute_result"
    }
   ],
   "source": [
    "a"
   ]
  },
  {
   "cell_type": "code",
   "execution_count": 35,
   "id": "11b4bc42-f609-4ce8-bd71-4358309fab3a",
   "metadata": {},
   "outputs": [],
   "source": [
    "a.remove( [1, 'a', 2, 3])"
   ]
  },
  {
   "cell_type": "code",
   "execution_count": 36,
   "id": "ae162144-1e0f-4e7d-9e46-47ff12d5d845",
   "metadata": {},
   "outputs": [
    {
     "data": {
      "text/plain": [
       "[1, 2, 3, 'a', 'b', 'a', 'b', 2, 'a']"
      ]
     },
     "execution_count": 36,
     "metadata": {},
     "output_type": "execute_result"
    }
   ],
   "source": [
    "a"
   ]
  },
  {
   "cell_type": "code",
   "execution_count": 38,
   "id": "f8f25e7e-5ec0-4971-9f4b-24f0ba53f9e2",
   "metadata": {},
   "outputs": [],
   "source": [
    "a.insert(100000,'pos')"
   ]
  },
  {
   "cell_type": "code",
   "execution_count": 39,
   "id": "ca7b7007-72ad-492d-a8ae-3b38a29041fb",
   "metadata": {},
   "outputs": [
    {
     "data": {
      "text/plain": [
       "[1, 2, 3, 'a', 'b', 'a', 'b', 2, 'a', 'pos']"
      ]
     },
     "execution_count": 39,
     "metadata": {},
     "output_type": "execute_result"
    }
   ],
   "source": [
    "a"
   ]
  },
  {
   "cell_type": "code",
   "execution_count": 40,
   "id": "b1f96764-33cb-483b-9526-71022bb1cc50",
   "metadata": {},
   "outputs": [],
   "source": [
    "a.insert(-1000000,'neg')"
   ]
  },
  {
   "cell_type": "code",
   "execution_count": 41,
   "id": "8214b69f-32c6-4313-bc2f-05cdd1528f32",
   "metadata": {},
   "outputs": [
    {
     "data": {
      "text/plain": [
       "['neg', 1, 2, 3, 'a', 'b', 'a', 'b', 2, 'a', 'pos']"
      ]
     },
     "execution_count": 41,
     "metadata": {},
     "output_type": "execute_result"
    }
   ],
   "source": [
    "a"
   ]
  },
  {
   "cell_type": "code",
   "execution_count": null,
   "id": "293fa37f-c78a-416c-a22a-fe462694aef6",
   "metadata": {},
   "outputs": [],
   "source": []
  },
  {
   "cell_type": "code",
   "execution_count": 47,
   "id": "2a494967-2b50-451f-8027-0f4b28f3081b",
   "metadata": {},
   "outputs": [],
   "source": [
    "a = [1,2]\n",
    "a.append(a)"
   ]
  },
  {
   "cell_type": "code",
   "execution_count": 48,
   "id": "189d03ea-270e-49b4-8728-cbac1a6dda7d",
   "metadata": {},
   "outputs": [
    {
     "data": {
      "text/plain": [
       "[1, 2, [...]]"
      ]
     },
     "execution_count": 48,
     "metadata": {},
     "output_type": "execute_result"
    }
   ],
   "source": [
    "a"
   ]
  },
  {
   "cell_type": "code",
   "execution_count": 52,
   "id": "ebdd900a-2c5e-48d5-b70a-6e6a678f0180",
   "metadata": {
    "scrolled": true
   },
   "outputs": [
    {
     "data": {
      "text/plain": [
       "(1, 2, [1, 2, [...]])"
      ]
     },
     "execution_count": 52,
     "metadata": {},
     "output_type": "execute_result"
    }
   ],
   "source": [
    "a[0],a[1],a[2]"
   ]
  },
  {
   "cell_type": "code",
   "execution_count": 53,
   "id": "b4440d54-c75c-4005-8acf-5473a03e55c3",
   "metadata": {},
   "outputs": [
    {
     "data": {
      "text/plain": [
       "[1, 2, [...]]"
      ]
     },
     "execution_count": 53,
     "metadata": {},
     "output_type": "execute_result"
    }
   ],
   "source": [
    "# pop\n",
    "\n",
    "a"
   ]
  },
  {
   "cell_type": "code",
   "execution_count": 56,
   "id": "8859cfe7-f74f-4d92-bd38-1ac084e7688e",
   "metadata": {},
   "outputs": [
    {
     "data": {
      "text/plain": [
       "2"
      ]
     },
     "execution_count": 56,
     "metadata": {},
     "output_type": "execute_result"
    }
   ],
   "source": [
    "a.pop(1)"
   ]
  },
  {
   "cell_type": "code",
   "execution_count": 58,
   "id": "1cb70706-452c-4fc7-a106-d3f91e034ea8",
   "metadata": {},
   "outputs": [
    {
     "data": {
      "text/plain": [
       "[1]"
      ]
     },
     "execution_count": 58,
     "metadata": {},
     "output_type": "execute_result"
    }
   ],
   "source": [
    "a.pop(1)"
   ]
  },
  {
   "cell_type": "code",
   "execution_count": 59,
   "id": "9deae0cf-b551-4423-89be-00efefbeddce",
   "metadata": {},
   "outputs": [
    {
     "data": {
      "text/plain": [
       "1"
      ]
     },
     "execution_count": 59,
     "metadata": {},
     "output_type": "execute_result"
    }
   ],
   "source": [
    "a[0]"
   ]
  },
  {
   "cell_type": "code",
   "execution_count": 60,
   "id": "9104e9e3-5f1e-428f-b603-321459be5ade",
   "metadata": {},
   "outputs": [
    {
     "data": {
      "text/plain": [
       "[1]"
      ]
     },
     "execution_count": 60,
     "metadata": {},
     "output_type": "execute_result"
    }
   ],
   "source": [
    "a"
   ]
  },
  {
   "cell_type": "code",
   "execution_count": 61,
   "id": "8c5578e2-6b74-4de8-9c16-6d6d9b0fbe57",
   "metadata": {},
   "outputs": [
    {
     "ename": "IndexError",
     "evalue": "pop index out of range",
     "output_type": "error",
     "traceback": [
      "\u001b[1;31m---------------------------------------------------------------------------\u001b[0m",
      "\u001b[1;31mIndexError\u001b[0m                                Traceback (most recent call last)",
      "Cell \u001b[1;32mIn[61], line 1\u001b[0m\n\u001b[1;32m----> 1\u001b[0m \u001b[43ma\u001b[49m\u001b[38;5;241;43m.\u001b[39;49m\u001b[43mpop\u001b[49m\u001b[43m(\u001b[49m\u001b[38;5;241;43m100\u001b[39;49m\u001b[43m)\u001b[49m\n",
      "\u001b[1;31mIndexError\u001b[0m: pop index out of range"
     ]
    }
   ],
   "source": [
    "a.pop(100)"
   ]
  },
  {
   "cell_type": "code",
   "execution_count": null,
   "id": "daae380e-f1f0-4ea4-8bf6-bfccf0a2850c",
   "metadata": {},
   "outputs": [],
   "source": []
  }
 ],
 "metadata": {
  "kernelspec": {
   "display_name": "Python 3 (ipykernel)",
   "language": "python",
   "name": "python3"
  },
  "language_info": {
   "codemirror_mode": {
    "name": "ipython",
    "version": 3
   },
   "file_extension": ".py",
   "mimetype": "text/x-python",
   "name": "python",
   "nbconvert_exporter": "python",
   "pygments_lexer": "ipython3",
   "version": "3.10.2"
  }
 },
 "nbformat": 4,
 "nbformat_minor": 5
}
