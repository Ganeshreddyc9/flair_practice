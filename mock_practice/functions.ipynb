{
 "cells": [
  {
   "cell_type": "code",
   "execution_count": 2,
   "id": "bf76fe3b-9c77-48b9-9906-85934f1f9897",
   "metadata": {},
   "outputs": [],
   "source": [
    "def test():\n",
    "  print(\"The addition of two odd numbers 3 and 7\")\n",
    "  print(3 + 7)\n",
    "  print(\"is always an even number\")\n",
    "\n"
   ]
  },
  {
   "cell_type": "code",
   "execution_count": 3,
   "id": "4fb9d382-5136-4876-9266-971a442a7688",
   "metadata": {},
   "outputs": [
    {
     "name": "stdout",
     "output_type": "stream",
     "text": [
      "The addition of two odd numbers 3 and 7\n",
      "10\n",
      "is always an even number\n"
     ]
    }
   ],
   "source": [
    "test()"
   ]
  },
  {
   "cell_type": "code",
   "execution_count": 4,
   "id": "607fe2c5-1384-4b77-840f-297482c95588",
   "metadata": {},
   "outputs": [],
   "source": [
    "# defining decorator function\n",
    "\n",
    "def sum_decorator(func):\n",
    "    def inner_deco():\n",
    "        print(\"the addition of two odd numbers 3 and 7\")\n",
    "        func()\n",
    "        print(\"is always an even number\")\n",
    "    return inner_deco"
   ]
  },
  {
   "cell_type": "code",
   "execution_count": 10,
   "id": "0b40e9d1-38bc-4eac-b9a0-52677348cbd0",
   "metadata": {},
   "outputs": [
    {
     "data": {
      "text/plain": [
       "<function __main__.sum_decorator.<locals>.inner_deco()>"
      ]
     },
     "execution_count": 10,
     "metadata": {},
     "output_type": "execute_result"
    }
   ],
   "source": [
    "sum_decorator(1)\n",
    "# print(inner_deco())"
   ]
  },
  {
   "cell_type": "code",
   "execution_count": null,
   "id": "00141a75-c515-4ddc-8104-4713ce6743db",
   "metadata": {},
   "outputs": [],
   "source": [
    "# function without using decorator"
   ]
  },
  {
   "cell_type": "code",
   "execution_count": 11,
   "id": "f2aec85f-9acc-4cc8-9fd7-95d4bba02bd9",
   "metadata": {},
   "outputs": [
    {
     "name": "stdout",
     "output_type": "stream",
     "text": [
      "10\n"
     ]
    }
   ],
   "source": [
    "def odd_add():\n",
    "    print(3+7)\n",
    "odd_add()"
   ]
  },
  {
   "cell_type": "code",
   "execution_count": 12,
   "id": "e49e8b4c-0069-49b3-af37-c2ae30c473ef",
   "metadata": {},
   "outputs": [
    {
     "name": "stdout",
     "output_type": "stream",
     "text": [
      "the addition of two odd numbers 3 and 7\n",
      "10\n",
      "is always an even number\n"
     ]
    }
   ],
   "source": [
    "# using a decorator to extend the functionality of a normal odd addition function\n",
    "@sum_decorator\n",
    "def odd_add():\n",
    "    print(3+7)\n",
    "odd_add()"
   ]
  },
  {
   "cell_type": "code",
   "execution_count": 14,
   "id": "6d13ad6d-b130-42bb-a619-e8c1b774d725",
   "metadata": {},
   "outputs": [
    {
     "name": "stdout",
     "output_type": "stream",
     "text": [
      "the addition of two odd numbers 3 and 7\n",
      "10\n",
      "is always an even number\n"
     ]
    }
   ],
   "source": [
    "def sum_decorator(func):\n",
    "    def inner_deco():\n",
    "        print(\"the addition of two odd numbers 3 and 7\")\n",
    "        func()\n",
    "        print(\"is always an even number\")\n",
    "    return inner_deco\n",
    "\n",
    "@sum_decorator\n",
    "def odd_add():\n",
    "    print(3+7)\n",
    "odd_add()"
   ]
  },
  {
   "cell_type": "code",
   "execution_count": null,
   "id": "6a3916fe-1efd-4795-b985-0dd6d1552ae3",
   "metadata": {},
   "outputs": [],
   "source": []
  }
 ],
 "metadata": {
  "kernelspec": {
   "display_name": "Python 3 (ipykernel)",
   "language": "python",
   "name": "python3"
  },
  "language_info": {
   "codemirror_mode": {
    "name": "ipython",
    "version": 3
   },
   "file_extension": ".py",
   "mimetype": "text/x-python",
   "name": "python",
   "nbconvert_exporter": "python",
   "pygments_lexer": "ipython3",
   "version": "3.10.2"
  }
 },
 "nbformat": 4,
 "nbformat_minor": 5
}
