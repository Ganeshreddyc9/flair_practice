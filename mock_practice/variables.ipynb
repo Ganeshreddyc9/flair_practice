{
 "cells": [
  {
   "cell_type": "code",
   "execution_count": 1,
   "id": "d0bd3db4-9bc4-41dd-9fc8-4c9ee347d680",
   "metadata": {},
   "outputs": [],
   "source": [
    "# 2. Variables — Object Types And Scope"
   ]
  },
  {
   "cell_type": "code",
   "execution_count": 3,
   "id": "fd69209c-0cbb-4544-a877-2dc1486f9575",
   "metadata": {},
   "outputs": [],
   "source": [
    "# variables store information that can be used or changed in your program this information can be integer text collections \n",
    "# variables are used and that can hold user inputs \n",
    "# variables have a name so that can be referenced in the code \n",
    "# the fundamental concept to understand everything is an object in python "
   ]
  },
  {
   "cell_type": "code",
   "execution_count": 4,
   "id": "5459631f-0221-4ea7-8d8f-3b53774882c2",
   "metadata": {},
   "outputs": [],
   "source": [
    "# Python supports numbers, strings, sets, lists, tuples, and dictionaries. \n",
    "# These are the standard data types."
   ]
  },
  {
   "cell_type": "code",
   "execution_count": 5,
   "id": "a64840e8-3ac8-40c4-98e2-1360e1774c92",
   "metadata": {},
   "outputs": [],
   "source": [
    "# Declare and assign a value to a variable \n",
    "\n",
    "# Assignments sets a value to a variable \n",
    "\n",
    "# To assign a values we use (=) operator / operator \n"
   ]
  },
  {
   "cell_type": "code",
   "execution_count": 11,
   "id": "2b9465e1-2c8a-4489-be28-0ceb525ae43f",
   "metadata": {},
   "outputs": [],
   "source": [
    "myfirstvaribale = 1\n",
    "mysecondvaribale =2\n",
    "myfirstvaribale = 'helloguru'"
   ]
  },
  {
   "cell_type": "code",
   "execution_count": 13,
   "id": "2c8a0430-192c-4f6f-8f1c-121447c3161a",
   "metadata": {},
   "outputs": [
    {
     "data": {
      "text/plain": [
       "('helloguru', 'helloguru')"
      ]
     },
     "execution_count": 13,
     "metadata": {},
     "output_type": "execute_result"
    }
   ],
   "source": [
    "myfirstvaribale,myfirstvaribale"
   ]
  },
  {
   "cell_type": "code",
   "execution_count": 14,
   "id": "31586318-183d-4a44-b1c8-89332a6c44c9",
   "metadata": {},
   "outputs": [],
   "source": [
    "# Assigning a value is known as binding in Python. In the example above, we have assigned the value of 1 to myFirstVariable."
   ]
  },
  {
   "cell_type": "code",
   "execution_count": null,
   "id": "63ef9caf-b57c-43be-b3d6-16167e49dc60",
   "metadata": {},
   "outputs": [],
   "source": [
    "# Note how I assigned an integer value of 1 and then a string value of \n",
    "# \"Hello You\" to the same myFirstVariable variable. \n",
    "# This is possible due to the fact that the data types are dynamically typed in python.\n",
    "\n",
    "# dynamically typed in python: types are checked during the execution"
   ]
  },
  {
   "cell_type": "code",
   "execution_count": 15,
   "id": "858fa59e-0953-4c5f-b937-3a2a033cb1c2",
   "metadata": {},
   "outputs": [],
   "source": [
    "# If you want to assign the same value to more than one variables then you can use the chained assignment:"
   ]
  },
  {
   "cell_type": "code",
   "execution_count": 16,
   "id": "fbb0f0c7-b297-4527-93e7-2e5d3a09afdd",
   "metadata": {},
   "outputs": [],
   "source": [
    "myfirstvaribale = mysecondvaribale = 1"
   ]
  },
  {
   "cell_type": "code",
   "execution_count": 17,
   "id": "705f4dbe-5905-44bf-b582-ed39d40f1e30",
   "metadata": {},
   "outputs": [
    {
     "data": {
      "text/plain": [
       "(1, 1)"
      ]
     },
     "execution_count": 17,
     "metadata": {},
     "output_type": "execute_result"
    }
   ],
   "source": [
    "myfirstvaribale ,mysecondvaribale"
   ]
  },
  {
   "cell_type": "code",
   "execution_count": null,
   "id": "a480a0f0-7011-4997-b516-fb1bffc6b78a",
   "metadata": {},
   "outputs": [],
   "source": [
    "# Numeric\n",
    "# Integers, decimals, floats are supported."
   ]
  }
 ],
 "metadata": {
  "kernelspec": {
   "display_name": "Python 3 (ipykernel)",
   "language": "python",
   "name": "python3"
  },
  "language_info": {
   "codemirror_mode": {
    "name": "ipython",
    "version": 3
   },
   "file_extension": ".py",
   "mimetype": "text/x-python",
   "name": "python",
   "nbconvert_exporter": "python",
   "pygments_lexer": "ipython3",
   "version": "3.10.2"
  }
 },
 "nbformat": 4,
 "nbformat_minor": 5
}
