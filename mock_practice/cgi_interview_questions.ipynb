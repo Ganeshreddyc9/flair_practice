{
 "cells": [
  {
   "cell_type": "code",
   "execution_count": 1,
   "id": "4f167c3d-52a3-4ad8-83a3-eb8d22fa4f30",
   "metadata": {},
   "outputs": [],
   "source": [
    "\n",
    "#  3.Declaring a 2 variable and assign same value and check address and change value for 2nd variable does the address get changes or not ?\n",
    "# 4.What is garbage collector \n",
    "# How it works \n",
    "# How can you check no value is pointing to that object ?\n",
    "# 5.What is interpreter based language \n",
    "# Where does the python executed machine code stores?\n",
    "# 6.What is while loop and what is for loop and difference?\n",
    "# 7.What is the difference between recursion and loop?\n",
    "# 8.What is logging \n",
    "# 9.Custom logging and root logging ?\n",
    "# 10.What is set and how do you declare a set ?\n",
    "# 11.What is slicing ?\n",
    "# 12.What is negative indexing \n",
    "# What will be the output for a string of 3 characters when sliced from 1-100 with step 1?\n",
    "# 13.What is a generator and why it is used \n",
    "# Is tuple mutable or immutable and how do you declare it ?\n",
    "# 14.What is the package and module?\n",
    "# 15.What is init file?\n",
    "# 16.What is the main function and how do you declare?\n",
    "# 17.What is pylint and pytest ?\n",
    "# 18.What is a closure function?\n",
    "# 19.What is pytest and mocking ?\n",
    "# 20.Why do you use mocking?\n",
    "# 21.What is polymorphism \n",
    "# Does python support it?\n",
    "# 22.What is method overloading and over riding why it happens?\n",
    "# 23.What is abstract class and why it is used \n",
    "# If an empty child class is created using abstract class then what will be the output of it?\n",
    "# 24.What is boto3 module \n",
    "# How do you install it?\n",
    "# 25.Difference between package and module \n",
    "# 26.What are access modifiers \n",
    "# 27.What are class level variables?\n",
    "# 28.Python file is module or package ?\n",
    "# 29.Test .py is module or package ?\n",
    "# 30.Where does the machine code stores in python?\n",
    "# 31.What is the extension for  python machine  code file ?\n",
    "# 32.How do you declare a main function in python \n",
    "# How can you check whether a file is executed by itself or any other module?\n",
    "# 33.Is there a concept of constant in python \n",
    "# What are rules to declare a constant in python?\n",
    "# 34.What are the services used in AWS ?\n",
    "# 35.How do you set rules in AWS ?\n",
    "# 36.What is the purpose of s3?\n",
    "# 37.What is django and the rest API?\n",
    "# 38.Can we create an api without using the rest API in django?\n",
    "# 39.Is api MVC or mvt architecture ?\n",
    "# 40.What is MVC and mvt architecture?\n",
    "# 41.What are the authentications used in django Jwt and oath ?\n",
    "# 42.How  jwt token works \n",
    "# What is refresh token \n",
    "# If there are two files in a repository in git what do we call them as packages or modules? \n",
    "# 43.Boto3 module or package ?\n",
    "# 44.What is MVC architecture? \n",
    "# 45.Why Do we use status codes\n",
    "# 400,201,internal server error ?\n",
    "# 46.What is the rest API \n",
    "# Have you used docker \n",
    "# What is the database u have used? \n",
    "# 47.Shallow copy and deep copy?"
   ]
  },
  {
   "cell_type": "code",
   "execution_count": 3,
   "id": "9a4cc24f-a9f3-434f-be8e-2b46dca4f9d5",
   "metadata": {},
   "outputs": [],
   "source": [
    "# 1.What is mutable and immutable ?\n",
    "\n",
    "# sol:mutable means we can able to change the internal reference \n",
    "\n",
    "# immutable --> means we can't able to change the internal reference\n",
    "\n",
    "\n"
   ]
  },
  {
   "cell_type": "code",
   "execution_count": 14,
   "id": "1bc49f0a-05d9-4377-ac2f-620510b9993f",
   "metadata": {},
   "outputs": [
    {
     "name": "stdout",
     "output_type": "stream",
     "text": [
      "before chnaging the internal reference: 2737673601264\n",
      "[3, 2]\n",
      "after changing the internal reference: 2737673601328\n"
     ]
    }
   ],
   "source": [
    "# 2.How can you prove they are immutable and mutable ?\n",
    "\n",
    "# mutable \n",
    "l = [1, 2]\n",
    "\n",
    "print(\"before chnaging the internal reference:\",id(l[0]))\n",
    "      \n",
    "l[0] = 3\n",
    "\n",
    "print(l)\n",
    "print(\"after changing the internal reference:\",id(l[0]))"
   ]
  },
  {
   "cell_type": "code",
   "execution_count": 21,
   "id": "dac62ec9-d3b0-4fe2-b57e-910f3ca2b18f",
   "metadata": {},
   "outputs": [
    {
     "name": "stdout",
     "output_type": "stream",
     "text": [
      "before chnaging the internal reference: 2737749781824\n",
      "(1, 2, [1, 2, 3])\n",
      "after changing the internal reference: 2737749781824\n"
     ]
    }
   ],
   "source": [
    "# immutable\n",
    "\n",
    "t = (1,2,[1, 2])\n",
    "\n",
    "print(\"before chnaging the internal reference:\",id(t[2]))\n",
    "t[2].append(3)\n",
    "print(t)\n",
    "print(\"after changing the internal reference:\",id(t[2]))"
   ]
  },
  {
   "cell_type": "code",
   "execution_count": 22,
   "id": "27cb05c1-0d57-4c52-8c2e-1bd3d78b2a98",
   "metadata": {},
   "outputs": [],
   "source": [
    "#  3.Declaring a 2 variable and assign same value and check address and change value for 2nd variable does the address get changes or not ?\n",
    "# 4.What is garbage collector \n",
    "# How it works \n",
    "# How can you check no value is pointing to that object ?"
   ]
  },
  {
   "cell_type": "code",
   "execution_count": 24,
   "id": "33c08baa-f393-4dd4-9722-c1be23ca3235",
   "metadata": {},
   "outputs": [],
   "source": [
    "#   3.Declaring a 2 variable and assign same value and check address and change value for 2nd variable does the address get changes or not ?\n",
    "# # 4.What is garbage collector "
   ]
  },
  {
   "cell_type": "code",
   "execution_count": 32,
   "id": "d15f6045-0494-43ca-8e66-6a73c080e540",
   "metadata": {},
   "outputs": [
    {
     "name": "stdout",
     "output_type": "stream",
     "text": [
      "2737673601552\n",
      "2737673601552\n"
     ]
    }
   ],
   "source": [
    "a = 10 \n",
    "# b = 10\n",
    "\n",
    "print(id(a))\n",
    "# print(id(b))\n",
    "\n",
    "b = 10\n",
    "print(id(b))"
   ]
  },
  {
   "cell_type": "code",
   "execution_count": 33,
   "id": "cc6ec588-b6a9-4def-9041-5485ffa34379",
   "metadata": {},
   "outputs": [
    {
     "name": "stdout",
     "output_type": "stream",
     "text": [
      "2737745643056\n",
      "2737745643056\n"
     ]
    }
   ],
   "source": [
    "x = \"hello\"\n",
    "y = \"hello\"\n",
    "print(id(x))\n",
    "print(id(y))"
   ]
  },
  {
   "cell_type": "code",
   "execution_count": 34,
   "id": "7402f4db-3faf-471a-b038-11e7bfdf0e0c",
   "metadata": {},
   "outputs": [
    {
     "name": "stdout",
     "output_type": "stream",
     "text": [
      "2737750246336\n",
      "2737750246720\n"
     ]
    }
   ],
   "source": [
    "list1 = [1, 2, 3]\n",
    "list2 = [1, 2, 3]\n",
    "\n",
    "print(id(list1))  # Memory address of the first list object\n",
    "print(id(list2))  # Memory address of the second list object\n"
   ]
  },
  {
   "cell_type": "code",
   "execution_count": null,
   "id": "b03107bc-dbf8-4ab0-9b50-79386aa24f9d",
   "metadata": {},
   "outputs": [],
   "source": []
  }
 ],
 "metadata": {
  "kernelspec": {
   "display_name": "Python 3 (ipykernel)",
   "language": "python",
   "name": "python3"
  },
  "language_info": {
   "codemirror_mode": {
    "name": "ipython",
    "version": 3
   },
   "file_extension": ".py",
   "mimetype": "text/x-python",
   "name": "python",
   "nbconvert_exporter": "python",
   "pygments_lexer": "ipython3",
   "version": "3.10.2"
  }
 },
 "nbformat": 4,
 "nbformat_minor": 5
}
