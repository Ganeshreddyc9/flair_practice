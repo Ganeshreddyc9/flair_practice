{
 "cells": [
  {
   "cell_type": "code",
   "execution_count": 1,
   "id": "5908088c-c70b-4aed-b650-4e991fbc1efd",
   "metadata": {},
   "outputs": [],
   "source": [
    "# tuple\n",
    "# tuple is an ordered , sequenced and immutable data type\n",
    "\n",
    "# ex:\n",
    "t = (1,2,'a','b')\n"
   ]
  },
  {
   "cell_type": "code",
   "execution_count": 2,
   "id": "7c29d13c-2bef-476f-aedc-60b4eec6b570",
   "metadata": {},
   "outputs": [
    {
     "data": {
      "text/plain": [
       "2"
      ]
     },
     "execution_count": 2,
     "metadata": {},
     "output_type": "execute_result"
    }
   ],
   "source": [
    "t = (1,2,'a','b','a','e','a')\n",
    "\n",
    "t.index('a')"
   ]
  },
  {
   "cell_type": "code",
   "execution_count": 7,
   "id": "f8ad863f-3a26-42b3-95f1-f34116c56d2f",
   "metadata": {},
   "outputs": [
    {
     "data": {
      "text/plain": [
       "4"
      ]
     },
     "execution_count": 7,
     "metadata": {},
     "output_type": "execute_result"
    }
   ],
   "source": [
    "#second\n",
    "t.index('a',t.index('a')+1)"
   ]
  },
  {
   "cell_type": "code",
   "execution_count": 10,
   "id": "d1448f59-99e9-4f4a-8192-1d7d79a8a566",
   "metadata": {},
   "outputs": [
    {
     "data": {
      "text/plain": [
       "6"
      ]
     },
     "execution_count": 10,
     "metadata": {},
     "output_type": "execute_result"
    }
   ],
   "source": [
    "t.index('a',t.index('a',t.index('a')+1)+1)"
   ]
  },
  {
   "cell_type": "code",
   "execution_count": null,
   "id": "de77d965-f52b-4bc9-a3ca-f00a39c731b5",
   "metadata": {},
   "outputs": [],
   "source": []
  }
 ],
 "metadata": {
  "kernelspec": {
   "display_name": "Python 3 (ipykernel)",
   "language": "python",
   "name": "python3"
  },
  "language_info": {
   "codemirror_mode": {
    "name": "ipython",
    "version": 3
   },
   "file_extension": ".py",
   "mimetype": "text/x-python",
   "name": "python",
   "nbconvert_exporter": "python",
   "pygments_lexer": "ipython3",
   "version": "3.10.2"
  }
 },
 "nbformat": 4,
 "nbformat_minor": 5
}
