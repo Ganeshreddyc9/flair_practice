{
 "cells": [
  {
   "cell_type": "code",
   "execution_count": 1,
   "id": "8fbe5061-5ce5-4a24-8ab1-7136d83e2b34",
   "metadata": {},
   "outputs": [],
   "source": [
    "# list : list is an oredered, sesqenced and mutable datatype \n"
   ]
  },
  {
   "cell_type": "code",
   "execution_count": 6,
   "id": "713f5c6c-b9af-48e2-acb4-cb3fe9e27351",
   "metadata": {},
   "outputs": [],
   "source": [
    "l = [\"suresh\", \"kumar\", \"B.Tech\", \"HCL\", \"Bangalore\"]\n",
    "t = (\"suresh\", \"kumar\", \"B.Tech\", \"HCL\", \"Bangalore\")"
   ]
  },
  {
   "cell_type": "code",
   "execution_count": 8,
   "id": "df309652-abd7-4625-b7ab-b06a6d68f528",
   "metadata": {},
   "outputs": [],
   "source": [
    "from sys import getsizeof"
   ]
  },
  {
   "cell_type": "code",
   "execution_count": 10,
   "id": "e359b807-cb41-4d06-9645-73808adc4fb6",
   "metadata": {},
   "outputs": [
    {
     "name": "stdout",
     "output_type": "stream",
     "text": [
      "120\n",
      "80\n"
     ]
    }
   ],
   "source": [
    "print(getsizeof(l))\n",
    "print(getsizeof(t))"
   ]
  },
  {
   "cell_type": "code",
   "execution_count": 11,
   "id": "7c1afc00-d917-464b-a0fd-e310dc690031",
   "metadata": {},
   "outputs": [
    {
     "name": "stdout",
     "output_type": "stream",
     "text": [
      "['__add__', '__class__', '__class_getitem__', '__contains__', '__delattr__', '__delitem__', '__dir__', '__doc__', '__eq__', '__format__', '__ge__', '__getattribute__', '__getitem__', '__gt__', '__hash__', '__iadd__', '__imul__', '__init__', '__init_subclass__', '__iter__', '__le__', '__len__', '__lt__', '__mul__', '__ne__', '__new__', '__reduce__', '__reduce_ex__', '__repr__', '__reversed__', '__rmul__', '__setattr__', '__setitem__', '__sizeof__', '__str__', '__subclasshook__', 'append', 'clear', 'copy', 'count', 'extend', 'index', 'insert', 'pop', 'remove', 'reverse', 'sort']\n"
     ]
    }
   ],
   "source": [
    "l = [1,2,3,4,5,6]\n",
    "print(dir(l))"
   ]
  },
  {
   "cell_type": "code",
   "execution_count": 14,
   "id": "bd536cf8-1a61-4159-a0a7-af4b49abb32c",
   "metadata": {},
   "outputs": [],
   "source": [
    "# we can create list in two ways\n",
    "l1 = [1,2,3]\n",
    "t = 1,2,3\n",
    "l2 = list(t)"
   ]
  },
  {
   "cell_type": "code",
   "execution_count": 15,
   "id": "6b567025-ecc4-4909-b0ed-03a6737fd611",
   "metadata": {},
   "outputs": [
    {
     "data": {
      "text/plain": [
       "(1, 2, 3)"
      ]
     },
     "execution_count": 15,
     "metadata": {},
     "output_type": "execute_result"
    }
   ],
   "source": [
    "t"
   ]
  },
  {
   "cell_type": "code",
   "execution_count": 17,
   "id": "5f0b4ffa-2df0-4dc5-a06c-76c2de8ea1c1",
   "metadata": {},
   "outputs": [
    {
     "data": {
      "text/plain": [
       "[1, 2, 3]"
      ]
     },
     "execution_count": 17,
     "metadata": {},
     "output_type": "execute_result"
    }
   ],
   "source": [
    "l2"
   ]
  },
  {
   "cell_type": "code",
   "execution_count": 18,
   "id": "25b5dbca-2cb9-4122-a950-3b44cb84de44",
   "metadata": {},
   "outputs": [
    {
     "data": {
      "text/plain": [
       "[]"
      ]
     },
     "execution_count": 18,
     "metadata": {},
     "output_type": "execute_result"
    }
   ],
   "source": [
    "list()"
   ]
  },
  {
   "cell_type": "code",
   "execution_count": 19,
   "id": "287dd859-10db-4c26-b4a1-37ac7ba202e7",
   "metadata": {},
   "outputs": [],
   "source": [
    "l2 = []"
   ]
  },
  {
   "cell_type": "code",
   "execution_count": 20,
   "id": "ff825995-9046-4b4b-9e0c-dbaa0e8e42c4",
   "metadata": {},
   "outputs": [
    {
     "data": {
      "text/plain": [
       "[]"
      ]
     },
     "execution_count": 20,
     "metadata": {},
     "output_type": "execute_result"
    }
   ],
   "source": [
    "l2"
   ]
  },
  {
   "cell_type": "code",
   "execution_count": 21,
   "id": "764877bc-704e-4020-80d3-f3c74d7eda25",
   "metadata": {},
   "outputs": [
    {
     "data": {
      "text/plain": [
       "True"
      ]
     },
     "execution_count": 21,
     "metadata": {},
     "output_type": "execute_result"
    }
   ],
   "source": [
    "list() == l2"
   ]
  },
  {
   "cell_type": "code",
   "execution_count": 22,
   "id": "e1cc0b91-c74c-48f1-b740-1ec23c6aebc8",
   "metadata": {},
   "outputs": [
    {
     "data": {
      "text/plain": [
       "False"
      ]
     },
     "execution_count": 22,
     "metadata": {},
     "output_type": "execute_result"
    }
   ],
   "source": [
    "list() is l2"
   ]
  },
  {
   "cell_type": "code",
   "execution_count": 23,
   "id": "fe1ebd03-7fc8-4d3b-9f68-28f5106883ee",
   "metadata": {},
   "outputs": [
    {
     "data": {
      "text/plain": [
       "1325790411584"
      ]
     },
     "execution_count": 23,
     "metadata": {},
     "output_type": "execute_result"
    }
   ],
   "source": [
    "id(list())"
   ]
  },
  {
   "cell_type": "code",
   "execution_count": 24,
   "id": "9f26fbb7-f9c1-4fd1-8342-08ad6636899a",
   "metadata": {},
   "outputs": [
    {
     "data": {
      "text/plain": [
       "1325790411712"
      ]
     },
     "execution_count": 24,
     "metadata": {},
     "output_type": "execute_result"
    }
   ],
   "source": [
    "id(l2)"
   ]
  },
  {
   "cell_type": "code",
   "execution_count": 25,
   "id": "437a2680-67f5-4180-b14b-7d56a8b0a0d8",
   "metadata": {},
   "outputs": [],
   "source": [
    "# accessing elements from list\n",
    "# List indices start from 0"
   ]
  },
  {
   "cell_type": "code",
   "execution_count": 26,
   "id": "f964461e-3a4d-4831-ab44-988009399186",
   "metadata": {},
   "outputs": [
    {
     "data": {
      "text/plain": [
       "[1, 2, 3, 4, 5, 6]"
      ]
     },
     "execution_count": 26,
     "metadata": {},
     "output_type": "execute_result"
    }
   ],
   "source": [
    "l"
   ]
  },
  {
   "cell_type": "code",
   "execution_count": 27,
   "id": "782d7025-45e7-4f9f-aae2-a90ca9f34c2f",
   "metadata": {},
   "outputs": [
    {
     "data": {
      "text/plain": [
       "1"
      ]
     },
     "execution_count": 27,
     "metadata": {},
     "output_type": "execute_result"
    }
   ],
   "source": [
    "l[0]"
   ]
  },
  {
   "cell_type": "code",
   "execution_count": 28,
   "id": "2b553c00-f236-4895-b123-93fce6f61351",
   "metadata": {},
   "outputs": [
    {
     "data": {
      "text/plain": [
       "2"
      ]
     },
     "execution_count": 28,
     "metadata": {},
     "output_type": "execute_result"
    }
   ],
   "source": [
    "l[1]"
   ]
  },
  {
   "cell_type": "code",
   "execution_count": 29,
   "id": "a20226e7-78bf-49b3-ac9d-b04dc5061127",
   "metadata": {},
   "outputs": [
    {
     "data": {
      "text/plain": [
       "6"
      ]
     },
     "execution_count": 29,
     "metadata": {},
     "output_type": "execute_result"
    }
   ],
   "source": [
    "# negative index\n",
    "l[-1]"
   ]
  },
  {
   "cell_type": "code",
   "execution_count": 30,
   "id": "a4e27fc6-d4a3-4244-8981-ccb7caf4f6d0",
   "metadata": {},
   "outputs": [
    {
     "data": {
      "text/plain": [
       "5"
      ]
     },
     "execution_count": 30,
     "metadata": {},
     "output_type": "execute_result"
    }
   ],
   "source": [
    "l[-2]"
   ]
  },
  {
   "cell_type": "code",
   "execution_count": 32,
   "id": "b8eca565-ab5d-46af-8dee-9309cd9e4151",
   "metadata": {},
   "outputs": [
    {
     "ename": "SyntaxError",
     "evalue": "leading zeros in decimal integer literals are not permitted; use an 0o prefix for octal integers (2323915127.py, line 1)",
     "output_type": "error",
     "traceback": [
      "\u001b[1;36m  Cell \u001b[1;32mIn[32], line 1\u001b[1;36m\u001b[0m\n\u001b[1;33m    0-01\u001b[0m\n\u001b[1;37m      ^\u001b[0m\n\u001b[1;31mSyntaxError\u001b[0m\u001b[1;31m:\u001b[0m leading zeros in decimal integer literals are not permitted; use an 0o prefix for octal integers\n"
     ]
    }
   ],
   "source": []
  },
  {
   "cell_type": "code",
   "execution_count": 33,
   "id": "aea0bde6-367b-4e90-8ef7-0795033cf350",
   "metadata": {},
   "outputs": [],
   "source": [
    "# List Slicing:\n",
    "# We can specify range of indexes. start and stop. stop index is not included."
   ]
  },
  {
   "cell_type": "code",
   "execution_count": 34,
   "id": "2f505cbe-69e3-4aff-b921-f4819d3d1a16",
   "metadata": {},
   "outputs": [
    {
     "data": {
      "text/plain": [
       "[2, 3, 4]"
      ]
     },
     "execution_count": 34,
     "metadata": {},
     "output_type": "execute_result"
    }
   ],
   "source": [
    "l[1:4]"
   ]
  },
  {
   "cell_type": "code",
   "execution_count": 35,
   "id": "94c932bd-5b83-4736-81ae-08ac10439f8f",
   "metadata": {},
   "outputs": [
    {
     "data": {
      "text/plain": [
       "[1, 2, 3, 4, 5, 6]"
      ]
     },
     "execution_count": 35,
     "metadata": {},
     "output_type": "execute_result"
    }
   ],
   "source": [
    "l"
   ]
  },
  {
   "cell_type": "code",
   "execution_count": 39,
   "id": "80631efb-ee41-4528-aed8-3390fd7de69a",
   "metadata": {},
   "outputs": [
    {
     "data": {
      "text/plain": [
       "[1, 2, 3, 4, 5, 6]"
      ]
     },
     "execution_count": 39,
     "metadata": {},
     "output_type": "execute_result"
    }
   ],
   "source": [
    "l[0:6:1]"
   ]
  },
  {
   "cell_type": "code",
   "execution_count": 41,
   "id": "7df476bd-0f89-47db-b99d-94caa058f682",
   "metadata": {},
   "outputs": [
    {
     "data": {
      "text/plain": [
       "[2, 3, 4, 5, 6]"
      ]
     },
     "execution_count": 41,
     "metadata": {},
     "output_type": "execute_result"
    }
   ],
   "source": [
    "l[1:6:1]"
   ]
  },
  {
   "cell_type": "code",
   "execution_count": 42,
   "id": "f9a2163a-feab-405f-981f-aca8bb522019",
   "metadata": {},
   "outputs": [
    {
     "data": {
      "text/plain": [
       "[2, 4, 6]"
      ]
     },
     "execution_count": 42,
     "metadata": {},
     "output_type": "execute_result"
    }
   ],
   "source": [
    "l[1:6:2]"
   ]
  },
  {
   "cell_type": "code",
   "execution_count": 43,
   "id": "8ab847bd-7dd6-43f2-83e4-adaf1f88c693",
   "metadata": {},
   "outputs": [
    {
     "data": {
      "text/plain": [
       "[1, 2, 3, 4, 5, 6]"
      ]
     },
     "execution_count": 43,
     "metadata": {},
     "output_type": "execute_result"
    }
   ],
   "source": [
    "l"
   ]
  },
  {
   "cell_type": "code",
   "execution_count": 45,
   "id": "6b8564d6-81f8-4bb3-9aea-73109388b312",
   "metadata": {},
   "outputs": [
    {
     "data": {
      "text/plain": [
       "[6]"
      ]
     },
     "execution_count": 45,
     "metadata": {},
     "output_type": "execute_result"
    }
   ],
   "source": [
    "l[-1:6:1]"
   ]
  },
  {
   "cell_type": "code",
   "execution_count": 46,
   "id": "747efcd3-a27d-456b-810f-52cdc95d9c17",
   "metadata": {},
   "outputs": [],
   "source": [
    "# Updating List:\n",
    "# Inserting elements into the list. insert method will insert elements into the list at a specified index."
   ]
  },
  {
   "cell_type": "code",
   "execution_count": 47,
   "id": "6b98ecff-1ac0-47ac-89ef-fc4d496175a2",
   "metadata": {},
   "outputs": [
    {
     "name": "stdout",
     "output_type": "stream",
     "text": [
      "['__add__', '__class__', '__class_getitem__', '__contains__', '__delattr__', '__delitem__', '__dir__', '__doc__', '__eq__', '__format__', '__ge__', '__getattribute__', '__getitem__', '__gt__', '__hash__', '__iadd__', '__imul__', '__init__', '__init_subclass__', '__iter__', '__le__', '__len__', '__lt__', '__mul__', '__ne__', '__new__', '__reduce__', '__reduce_ex__', '__repr__', '__reversed__', '__rmul__', '__setattr__', '__setitem__', '__sizeof__', '__str__', '__subclasshook__', 'append', 'clear', 'copy', 'count', 'extend', 'index', 'insert', 'pop', 'remove', 'reverse', 'sort']\n"
     ]
    }
   ],
   "source": [
    "print(dir(l))"
   ]
  },
  {
   "cell_type": "code",
   "execution_count": 48,
   "id": "59d5228f-1c40-4657-85f1-185cc297a0a1",
   "metadata": {},
   "outputs": [],
   "source": [
    "l.append(7)"
   ]
  },
  {
   "cell_type": "code",
   "execution_count": 49,
   "id": "ce200f50-939a-4de0-a33d-28be84be85aa",
   "metadata": {},
   "outputs": [
    {
     "data": {
      "text/plain": [
       "[1, 2, 3, 4, 5, 6, 7]"
      ]
     },
     "execution_count": 49,
     "metadata": {},
     "output_type": "execute_result"
    }
   ],
   "source": [
    "l"
   ]
  },
  {
   "cell_type": "code",
   "execution_count": 50,
   "id": "e777d0fc-c5a3-4f14-9054-59428e1aa57a",
   "metadata": {},
   "outputs": [
    {
     "name": "stdout",
     "output_type": "stream",
     "text": [
      "Help on built-in function append:\n",
      "\n",
      "append(object, /) method of builtins.list instance\n",
      "    Append object to the end of the list.\n",
      "\n"
     ]
    }
   ],
   "source": [
    "help(l.append)"
   ]
  },
  {
   "cell_type": "code",
   "execution_count": 52,
   "id": "686452ab-436a-47ad-8e6d-7fba96fd43e9",
   "metadata": {},
   "outputs": [],
   "source": [
    "l.append(7)"
   ]
  },
  {
   "cell_type": "code",
   "execution_count": 53,
   "id": "5d88da62-28ea-42c4-8ce4-d9935c794857",
   "metadata": {},
   "outputs": [],
   "source": [
    "# clear', 'copy', 'count', 'extend', 'index', 'insert', 'pop', 'remove', 'reverse', 'sort']"
   ]
  },
  {
   "cell_type": "code",
   "execution_count": 55,
   "id": "af401d4b-b892-4ef6-9766-4ee72e8a303a",
   "metadata": {},
   "outputs": [],
   "source": [
    "l2 = [1, 2, 3, 4, 5, 6, 7]"
   ]
  },
  {
   "cell_type": "code",
   "execution_count": 56,
   "id": "57e0f8a5-4a33-4656-a5e7-f1f30f6e9be4",
   "metadata": {},
   "outputs": [
    {
     "data": {
      "text/plain": [
       "[1, 2, 3, 4, 5, 6, 7]"
      ]
     },
     "execution_count": 56,
     "metadata": {},
     "output_type": "execute_result"
    }
   ],
   "source": [
    "l2"
   ]
  },
  {
   "cell_type": "code",
   "execution_count": 57,
   "id": "8af30cb0-557f-484f-a5fe-77975dc11b74",
   "metadata": {},
   "outputs": [],
   "source": [
    "# clear'"
   ]
  },
  {
   "cell_type": "code",
   "execution_count": 58,
   "id": "1b557d40-f28e-401b-b1c1-63434da5429e",
   "metadata": {},
   "outputs": [
    {
     "name": "stdout",
     "output_type": "stream",
     "text": [
      "Help on built-in function clear:\n",
      "\n",
      "clear() method of builtins.list instance\n",
      "    Remove all items from list.\n",
      "\n"
     ]
    }
   ],
   "source": [
    "help(l2.clear)"
   ]
  },
  {
   "cell_type": "code",
   "execution_count": 59,
   "id": "0c158a25-fd6d-4209-8e94-d08c1a25aeb8",
   "metadata": {},
   "outputs": [],
   "source": [
    "l2.clear()"
   ]
  },
  {
   "cell_type": "code",
   "execution_count": 60,
   "id": "f7d8080f-dea9-4b32-8501-8bf5570713ba",
   "metadata": {},
   "outputs": [
    {
     "data": {
      "text/plain": [
       "[]"
      ]
     },
     "execution_count": 60,
     "metadata": {},
     "output_type": "execute_result"
    }
   ],
   "source": [
    "l2"
   ]
  },
  {
   "cell_type": "code",
   "execution_count": 61,
   "id": "e99947f8-563d-4708-bdae-6dc2f8c7372f",
   "metadata": {},
   "outputs": [],
   "source": [
    "# 'copy', 'count', 'extend', 'index', 'insert', 'pop', 'remove', 'reverse', 'sort']"
   ]
  },
  {
   "cell_type": "code",
   "execution_count": 62,
   "id": "30e8a590-8b6a-45cd-b6d7-9eccf3d9f2ab",
   "metadata": {},
   "outputs": [],
   "source": [
    "# count"
   ]
  },
  {
   "cell_type": "code",
   "execution_count": 63,
   "id": "4de0da1b-cab8-4f55-ac2c-149763bf2472",
   "metadata": {},
   "outputs": [
    {
     "name": "stdout",
     "output_type": "stream",
     "text": [
      "Help on built-in function count:\n",
      "\n",
      "count(value, /) method of builtins.list instance\n",
      "    Return number of occurrences of value.\n",
      "\n"
     ]
    }
   ],
   "source": [
    "help(l.count)"
   ]
  },
  {
   "cell_type": "code",
   "execution_count": 64,
   "id": "6ffdb7fd-e921-4253-9c18-328349fee2ea",
   "metadata": {},
   "outputs": [
    {
     "data": {
      "text/plain": [
       "1"
      ]
     },
     "execution_count": 64,
     "metadata": {},
     "output_type": "execute_result"
    }
   ],
   "source": [
    "l.count(1)"
   ]
  },
  {
   "cell_type": "code",
   "execution_count": 65,
   "id": "7825e0ae-b42a-4a1c-abf7-56a7635e1655",
   "metadata": {},
   "outputs": [
    {
     "data": {
      "text/plain": [
       "0"
      ]
     },
     "execution_count": 65,
     "metadata": {},
     "output_type": "execute_result"
    }
   ],
   "source": [
    "l.count('a')"
   ]
  },
  {
   "cell_type": "code",
   "execution_count": 66,
   "id": "91e46833-e676-4542-bd19-0edee74ce3e0",
   "metadata": {},
   "outputs": [],
   "source": [
    "# Updating List: Inserting elements into the list. insert method will insert elements into the list at a specified index. l1=[1,2,3]\n",
    "\n",
    "#It will insert element 4 at index 3."
   ]
  },
  {
   "cell_type": "code",
   "execution_count": 67,
   "id": "3c4f155c-87b9-4e53-abc9-e95176fee34f",
   "metadata": {},
   "outputs": [
    {
     "name": "stdout",
     "output_type": "stream",
     "text": [
      "Help on built-in function extend:\n",
      "\n",
      "extend(iterable, /) method of builtins.list instance\n",
      "    Extend list by appending elements from the iterable.\n",
      "\n"
     ]
    }
   ],
   "source": [
    "# 'extend', 'index', 'insert', 'pop', 'remove', 'reverse', 'sort'\n",
    "\n",
    "help(l.extend)"
   ]
  },
  {
   "cell_type": "code",
   "execution_count": 68,
   "id": "b6430392-bd10-43d8-925b-cf4fce1584aa",
   "metadata": {},
   "outputs": [
    {
     "ename": "TypeError",
     "evalue": "'int' object is not iterable",
     "output_type": "error",
     "traceback": [
      "\u001b[1;31m---------------------------------------------------------------------------\u001b[0m",
      "\u001b[1;31mTypeError\u001b[0m                                 Traceback (most recent call last)",
      "Cell \u001b[1;32mIn[68], line 1\u001b[0m\n\u001b[1;32m----> 1\u001b[0m \u001b[43ml\u001b[49m\u001b[38;5;241;43m.\u001b[39;49m\u001b[43mextend\u001b[49m\u001b[43m(\u001b[49m\u001b[38;5;241;43m1\u001b[39;49m\u001b[43m)\u001b[49m\n",
      "\u001b[1;31mTypeError\u001b[0m: 'int' object is not iterable"
     ]
    }
   ],
   "source": [
    "l.extend(1)"
   ]
  },
  {
   "cell_type": "code",
   "execution_count": 69,
   "id": "cc313356-fd09-4376-acd7-e67f385894f7",
   "metadata": {},
   "outputs": [],
   "source": [
    "s = '123'\n",
    "l.extend(s)"
   ]
  },
  {
   "cell_type": "code",
   "execution_count": 71,
   "id": "b46d6bd6-2faa-4ebf-af20-43b18eb43743",
   "metadata": {},
   "outputs": [
    {
     "data": {
      "text/plain": [
       "[1, 2, 3, 4, 5, 6, 7, 7, '1', '2', '3']"
      ]
     },
     "execution_count": 71,
     "metadata": {},
     "output_type": "execute_result"
    }
   ],
   "source": [
    "l"
   ]
  },
  {
   "cell_type": "code",
   "execution_count": 75,
   "id": "6f08855c-f567-43b8-80ad-8b1200dcfc5e",
   "metadata": {},
   "outputs": [],
   "source": [
    "t = (1,2,3)\n",
    "l.extend(t)"
   ]
  },
  {
   "cell_type": "code",
   "execution_count": 76,
   "id": "a3959f39-4f51-4052-845e-23790872c11b",
   "metadata": {},
   "outputs": [
    {
     "data": {
      "text/plain": [
       "[1, 2, 3, 4, 5, 6, 7, 7, '1', '2', '3', '1', '2', '3', 1, 2, 3, 1, 2, 3]"
      ]
     },
     "execution_count": 76,
     "metadata": {},
     "output_type": "execute_result"
    }
   ],
   "source": [
    "l"
   ]
  },
  {
   "cell_type": "code",
   "execution_count": 77,
   "id": "b68680be-e874-4de4-9d88-bc442015f129",
   "metadata": {},
   "outputs": [],
   "source": [
    "li = [1,2,3]\n",
    "l.extend(li)"
   ]
  },
  {
   "cell_type": "code",
   "execution_count": 79,
   "id": "fd020e73-aa96-44d4-8e2f-b422c5dd55b8",
   "metadata": {},
   "outputs": [
    {
     "name": "stdout",
     "output_type": "stream",
     "text": [
      "[1, 2, 3, 4, 5, 6, 7, 7, '1', '2', '3', '1', '2', '3', 1, 2, 3, 1, 2, 3, 1, 2, 3]\n"
     ]
    }
   ],
   "source": [
    "print(l)"
   ]
  },
  {
   "cell_type": "code",
   "execution_count": 80,
   "id": "1318a327-a9ea-4642-819d-60046f1ddb5b",
   "metadata": {},
   "outputs": [
    {
     "data": {
      "text/plain": [
       "3"
      ]
     },
     "execution_count": 80,
     "metadata": {},
     "output_type": "execute_result"
    }
   ],
   "source": [
    "l.pop()"
   ]
  },
  {
   "cell_type": "code",
   "execution_count": 81,
   "id": "233b7866-93a9-44be-8bef-c25f7378728f",
   "metadata": {},
   "outputs": [
    {
     "data": {
      "text/plain": [
       "3"
      ]
     },
     "execution_count": 81,
     "metadata": {},
     "output_type": "execute_result"
    }
   ],
   "source": [
    "l.pop(l.pop(0))"
   ]
  },
  {
   "cell_type": "code",
   "execution_count": 82,
   "id": "febcd9fa-0b6b-4d21-ae41-4f846287b6e1",
   "metadata": {},
   "outputs": [
    {
     "data": {
      "text/plain": [
       "7"
      ]
     },
     "execution_count": 82,
     "metadata": {},
     "output_type": "execute_result"
    }
   ],
   "source": [
    "l.pop(l.pop(1))"
   ]
  },
  {
   "cell_type": "code",
   "execution_count": 83,
   "id": "5467d243-c3c5-45a5-af7e-6c2d67410caa",
   "metadata": {},
   "outputs": [
    {
     "data": {
      "text/plain": [
       "[2, 5, 6, 7, '1', '2', '3', '1', '2', '3', 1, 2, 3, 1, 2, 3, 1, 2]"
      ]
     },
     "execution_count": 83,
     "metadata": {},
     "output_type": "execute_result"
    }
   ],
   "source": [
    "l"
   ]
  },
  {
   "cell_type": "code",
   "execution_count": 84,
   "id": "57b8aa8a-e972-4292-909c-9df4c9ab54fc",
   "metadata": {},
   "outputs": [
    {
     "data": {
      "text/plain": [
       "2"
      ]
     },
     "execution_count": 84,
     "metadata": {},
     "output_type": "execute_result"
    }
   ],
   "source": [
    "l.pop()"
   ]
  },
  {
   "cell_type": "code",
   "execution_count": 85,
   "id": "4a52f908-7408-4a4a-918b-da2e31072dd1",
   "metadata": {},
   "outputs": [
    {
     "data": {
      "text/plain": [
       "7"
      ]
     },
     "execution_count": 85,
     "metadata": {},
     "output_type": "execute_result"
    }
   ],
   "source": [
    "l.pop(l.pop(0))"
   ]
  },
  {
   "cell_type": "code",
   "execution_count": 86,
   "id": "94d0982b-c2f9-4a70-9ec5-8281f1f494af",
   "metadata": {},
   "outputs": [
    {
     "data": {
      "text/plain": [
       "[5, 6, '1', '2', '3', '1', '2', '3', 1, 2, 3, 1, 2, 3, 1]"
      ]
     },
     "execution_count": 86,
     "metadata": {},
     "output_type": "execute_result"
    }
   ],
   "source": [
    "l"
   ]
  },
  {
   "cell_type": "code",
   "execution_count": 87,
   "id": "7913453b-1b76-4b53-b25b-aa1e46ea1d53",
   "metadata": {},
   "outputs": [
    {
     "data": {
      "text/plain": [
       "'2'"
      ]
     },
     "execution_count": 87,
     "metadata": {},
     "output_type": "execute_result"
    }
   ],
   "source": [
    "l.pop(l.pop(0))\n"
   ]
  },
  {
   "cell_type": "code",
   "execution_count": 88,
   "id": "fe7b312d-6931-4842-981d-e7eea84c810d",
   "metadata": {},
   "outputs": [
    {
     "data": {
      "text/plain": [
       "[6, '1', '2', '3', '1', '3', 1, 2, 3, 1, 2, 3, 1]"
      ]
     },
     "execution_count": 88,
     "metadata": {},
     "output_type": "execute_result"
    }
   ],
   "source": [
    "l"
   ]
  },
  {
   "cell_type": "code",
   "execution_count": 89,
   "id": "c6ec561d-355a-4947-8d1f-09ed34deb414",
   "metadata": {},
   "outputs": [
    {
     "data": {
      "text/plain": [
       "'1'"
      ]
     },
     "execution_count": 89,
     "metadata": {},
     "output_type": "execute_result"
    }
   ],
   "source": [
    "l.pop(1)"
   ]
  },
  {
   "cell_type": "code",
   "execution_count": 90,
   "id": "81da2615-0b81-4f9d-adce-37718db964f6",
   "metadata": {},
   "outputs": [],
   "source": [
    "l = [1,2,3,4,5,6]"
   ]
  },
  {
   "cell_type": "code",
   "execution_count": 91,
   "id": "2060b61c-449b-4983-81f1-cce2aeb68be7",
   "metadata": {},
   "outputs": [
    {
     "data": {
      "text/plain": [
       "6"
      ]
     },
     "execution_count": 91,
     "metadata": {},
     "output_type": "execute_result"
    }
   ],
   "source": [
    "l.pop()"
   ]
  },
  {
   "cell_type": "code",
   "execution_count": 94,
   "id": "240d6364-cd42-4da7-a730-50fad123d5ec",
   "metadata": {},
   "outputs": [
    {
     "data": {
      "text/plain": [
       "[2, 4, 5]"
      ]
     },
     "execution_count": 94,
     "metadata": {},
     "output_type": "execute_result"
    }
   ],
   "source": [
    "l"
   ]
  },
  {
   "cell_type": "code",
   "execution_count": 95,
   "id": "3d808f29-a43f-40b6-9df1-5e0460ed56e9",
   "metadata": {},
   "outputs": [
    {
     "ename": "IndexError",
     "evalue": "pop index out of range",
     "output_type": "error",
     "traceback": [
      "\u001b[1;31m---------------------------------------------------------------------------\u001b[0m",
      "\u001b[1;31mIndexError\u001b[0m                                Traceback (most recent call last)",
      "Cell \u001b[1;32mIn[95], line 1\u001b[0m\n\u001b[1;32m----> 1\u001b[0m \u001b[43ml\u001b[49m\u001b[38;5;241;43m.\u001b[39;49m\u001b[43mpop\u001b[49m\u001b[43m(\u001b[49m\u001b[43ml\u001b[49m\u001b[38;5;241;43m.\u001b[39;49m\u001b[43mpop\u001b[49m\u001b[43m(\u001b[49m\u001b[38;5;241;43m0\u001b[39;49m\u001b[43m)\u001b[49m\u001b[43m)\u001b[49m\n",
      "\u001b[1;31mIndexError\u001b[0m: pop index out of range"
     ]
    }
   ],
   "source": [
    "l.pop(l.pop(0))"
   ]
  },
  {
   "cell_type": "code",
   "execution_count": 96,
   "id": "c572788c-b3ed-4760-b0e6-a47eb6b4d2c0",
   "metadata": {},
   "outputs": [
    {
     "data": {
      "text/plain": [
       "[4, 5]"
      ]
     },
     "execution_count": 96,
     "metadata": {},
     "output_type": "execute_result"
    }
   ],
   "source": [
    "l"
   ]
  },
  {
   "cell_type": "code",
   "execution_count": 97,
   "id": "9e2926cd-e22e-4ebe-97a9-c9d49049ba00",
   "metadata": {},
   "outputs": [],
   "source": [
    "l = [1,2,3,4,5,6]"
   ]
  },
  {
   "cell_type": "code",
   "execution_count": 98,
   "id": "474a9fe4-8651-427c-9050-748400647cc5",
   "metadata": {},
   "outputs": [
    {
     "data": {
      "text/plain": [
       "3"
      ]
     },
     "execution_count": 98,
     "metadata": {},
     "output_type": "execute_result"
    }
   ],
   "source": [
    "l.pop(l.pop(0))"
   ]
  },
  {
   "cell_type": "code",
   "execution_count": 100,
   "id": "4cc34b08-f08f-415e-bfe6-31a027e5287b",
   "metadata": {},
   "outputs": [
    {
     "data": {
      "text/plain": [
       "[2, 4, 5, 6]"
      ]
     },
     "execution_count": 100,
     "metadata": {},
     "output_type": "execute_result"
    }
   ],
   "source": [
    "l"
   ]
  },
  {
   "cell_type": "code",
   "execution_count": 101,
   "id": "83969686-c986-40e6-a08b-cf705733bad8",
   "metadata": {},
   "outputs": [
    {
     "data": {
      "text/plain": [
       "4"
      ]
     },
     "execution_count": 101,
     "metadata": {},
     "output_type": "execute_result"
    }
   ],
   "source": [
    "l = [1, 2, 3, 4, 5]\n",
    "l.pop(l.pop(1))"
   ]
  },
  {
   "cell_type": "code",
   "execution_count": 102,
   "id": "b5e0db51-bc9d-409d-b3ad-b0c27f18e242",
   "metadata": {},
   "outputs": [
    {
     "data": {
      "text/plain": [
       "[1, 3, 5]"
      ]
     },
     "execution_count": 102,
     "metadata": {},
     "output_type": "execute_result"
    }
   ],
   "source": [
    "l"
   ]
  },
  {
   "cell_type": "code",
   "execution_count": 103,
   "id": "ab7d5fe7-4fd6-4303-80e7-35db3afdbd76",
   "metadata": {},
   "outputs": [],
   "source": [
    "# 'index', 'insert', 'pop', 'remove', 'reverse', 'sort'"
   ]
  },
  {
   "cell_type": "code",
   "execution_count": 105,
   "id": "50762f11-a502-42b9-ba00-724d9b68538c",
   "metadata": {},
   "outputs": [],
   "source": [
    "l = [1, 2, 3, 4, 5, 6, 7]"
   ]
  },
  {
   "cell_type": "code",
   "execution_count": 106,
   "id": "1be0a1eb-d743-4774-8488-d731a770a7a3",
   "metadata": {},
   "outputs": [
    {
     "name": "stdout",
     "output_type": "stream",
     "text": [
      "Help on built-in function index:\n",
      "\n",
      "index(value, start=0, stop=9223372036854775807, /) method of builtins.list instance\n",
      "    Return first index of value.\n",
      "    \n",
      "    Raises ValueError if the value is not present.\n",
      "\n"
     ]
    }
   ],
   "source": [
    "help(l.index)"
   ]
  },
  {
   "cell_type": "code",
   "execution_count": 107,
   "id": "d3385d75-b08f-4607-bc85-f82ea7975be5",
   "metadata": {},
   "outputs": [],
   "source": [
    "a = [1,2,'a','b',4,'python','b',1,'a','b',2]"
   ]
  },
  {
   "cell_type": "code",
   "execution_count": 111,
   "id": "8e5def93-9329-4d5c-a9cf-f7c0b1cd5a26",
   "metadata": {},
   "outputs": [
    {
     "data": {
      "text/plain": [
       "8"
      ]
     },
     "execution_count": 111,
     "metadata": {},
     "output_type": "execute_result"
    }
   ],
   "source": [
    "a.index('a',a.index('a')+1)"
   ]
  },
  {
   "cell_type": "code",
   "execution_count": null,
   "id": "cbf5cb7e-4f14-4e72-b195-3a12afc2e2a5",
   "metadata": {},
   "outputs": [],
   "source": []
  }
 ],
 "metadata": {
  "kernelspec": {
   "display_name": "Python 3 (ipykernel)",
   "language": "python",
   "name": "python3"
  },
  "language_info": {
   "codemirror_mode": {
    "name": "ipython",
    "version": 3
   },
   "file_extension": ".py",
   "mimetype": "text/x-python",
   "name": "python",
   "nbconvert_exporter": "python",
   "pygments_lexer": "ipython3",
   "version": "3.10.2"
  }
 },
 "nbformat": 4,
 "nbformat_minor": 5
}
