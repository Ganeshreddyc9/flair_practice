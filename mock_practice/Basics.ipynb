{
 "cells": [
  {
   "cell_type": "code",
   "execution_count": 1,
   "id": "ed83f017-53b2-4783-b26f-a37a0b9048aa",
   "metadata": {},
   "outputs": [],
   "source": [
    "num_int = 5\n",
    "num_float = 1.5\n",
    "\n",
    "result = num_int + num_float"
   ]
  },
  {
   "cell_type": "code",
   "execution_count": 2,
   "id": "63367922-0938-4fb1-bc58-448811865531",
   "metadata": {},
   "outputs": [
    {
     "data": {
      "text/plain": [
       "6.5"
      ]
     },
     "execution_count": 2,
     "metadata": {},
     "output_type": "execute_result"
    }
   ],
   "source": [
    "result"
   ]
  },
  {
   "cell_type": "code",
   "execution_count": 6,
   "id": "caea9ebe-396e-45ed-bd8e-a15460417ff9",
   "metadata": {},
   "outputs": [],
   "source": [
    "int_str = '10'\n",
    "res = int(int_str)"
   ]
  },
  {
   "cell_type": "code",
   "execution_count": 7,
   "id": "b03cc883-3c75-4750-b571-9bab3aae7beb",
   "metadata": {},
   "outputs": [
    {
     "data": {
      "text/plain": [
       "10"
      ]
     },
     "execution_count": 7,
     "metadata": {},
     "output_type": "execute_result"
    }
   ],
   "source": [
    "res"
   ]
  },
  {
   "cell_type": "code",
   "execution_count": 8,
   "id": "5e0d1b19-d34b-4229-9d8c-13d9318c3235",
   "metadata": {},
   "outputs": [
    {
     "ename": "ValueError",
     "evalue": "invalid literal for int() with base 10: '3.14'",
     "output_type": "error",
     "traceback": [
      "\u001b[1;31m---------------------------------------------------------------------------\u001b[0m",
      "\u001b[1;31mValueError\u001b[0m                                Traceback (most recent call last)",
      "Cell \u001b[1;32mIn[8], line 2\u001b[0m\n\u001b[0;32m      1\u001b[0m num \u001b[38;5;241m=\u001b[39m \u001b[38;5;124m'\u001b[39m\u001b[38;5;124m3.14\u001b[39m\u001b[38;5;124m'\u001b[39m\n\u001b[1;32m----> 2\u001b[0m res\u001b[38;5;241m=\u001b[39m \u001b[38;5;28;43mint\u001b[39;49m\u001b[43m(\u001b[49m\u001b[43mnum\u001b[49m\u001b[43m)\u001b[49m\n",
      "\u001b[1;31mValueError\u001b[0m: invalid literal for int() with base 10: '3.14'"
     ]
    }
   ],
   "source": [
    "num = '3.14'\n",
    "res= int(num)"
   ]
  },
  {
   "cell_type": "code",
   "execution_count": 9,
   "id": "0092114a-edbc-4407-9ad4-ae2753b62ab1",
   "metadata": {},
   "outputs": [],
   "source": [
    "num = '3.14'\n",
    "res=float(num)"
   ]
  },
  {
   "cell_type": "code",
   "execution_count": 10,
   "id": "46859118-b91c-4a85-95af-89268fb82ae3",
   "metadata": {},
   "outputs": [
    {
     "data": {
      "text/plain": [
       "3.14"
      ]
     },
     "execution_count": 10,
     "metadata": {},
     "output_type": "execute_result"
    }
   ],
   "source": [
    "res"
   ]
  },
  {
   "cell_type": "code",
   "execution_count": 12,
   "id": "198b2e14-2d13-4569-9b15-2c974303b128",
   "metadata": {},
   "outputs": [],
   "source": [
    "num = 3.14\n",
    "res=int(num)"
   ]
  },
  {
   "cell_type": "code",
   "execution_count": 13,
   "id": "b3628547-2609-4b56-8c36-4c6be2d3adfa",
   "metadata": {},
   "outputs": [
    {
     "data": {
      "text/plain": [
       "3"
      ]
     },
     "execution_count": 13,
     "metadata": {},
     "output_type": "execute_result"
    }
   ],
   "source": [
    "res"
   ]
  },
  {
   "cell_type": "code",
   "execution_count": 14,
   "id": "aa3522fd-6649-4bee-9102-d6f0c7c38a11",
   "metadata": {},
   "outputs": [
    {
     "ename": "TypeError",
     "evalue": "unsupported operand type(s) for +: 'float' and 'str'",
     "output_type": "error",
     "traceback": [
      "\u001b[1;31m---------------------------------------------------------------------------\u001b[0m",
      "\u001b[1;31mTypeError\u001b[0m                                 Traceback (most recent call last)",
      "Cell \u001b[1;32mIn[14], line 1\u001b[0m\n\u001b[1;32m----> 1\u001b[0m \u001b[38;5;241;43m3.14\u001b[39;49m\u001b[38;5;241;43m+\u001b[39;49m\u001b[38;5;124;43m'\u001b[39;49m\u001b[38;5;124;43mstring\u001b[39;49m\u001b[38;5;124;43m'\u001b[39;49m\n",
      "\u001b[1;31mTypeError\u001b[0m: unsupported operand type(s) for +: 'float' and 'str'"
     ]
    }
   ],
   "source": [
    "3.14+'string'"
   ]
  },
  {
   "cell_type": "code",
   "execution_count": 15,
   "id": "0aacbad9-4346-4743-96f5-e21447681a13",
   "metadata": {},
   "outputs": [
    {
     "ename": "TypeError",
     "evalue": "unsupported operand type(s) for +: 'int' and 'str'",
     "output_type": "error",
     "traceback": [
      "\u001b[1;31m---------------------------------------------------------------------------\u001b[0m",
      "\u001b[1;31mTypeError\u001b[0m                                 Traceback (most recent call last)",
      "Cell \u001b[1;32mIn[15], line 1\u001b[0m\n\u001b[1;32m----> 1\u001b[0m \u001b[38;5;241;43m3\u001b[39;49m\u001b[38;5;241;43m+\u001b[39;49m\u001b[38;5;124;43m'\u001b[39;49m\u001b[38;5;124;43mstring\u001b[39;49m\u001b[38;5;124;43m'\u001b[39;49m\n",
      "\u001b[1;31mTypeError\u001b[0m: unsupported operand type(s) for +: 'int' and 'str'"
     ]
    }
   ],
   "source": [
    "3+'string'"
   ]
  },
  {
   "cell_type": "code",
   "execution_count": 16,
   "id": "e4155c51-e478-4ea1-95f8-a260905b1fb1",
   "metadata": {},
   "outputs": [
    {
     "data": {
      "text/plain": [
       "'sstring'"
      ]
     },
     "execution_count": 16,
     "metadata": {},
     "output_type": "execute_result"
    }
   ],
   "source": [
    "'s'+'string'"
   ]
  },
  {
   "cell_type": "code",
   "execution_count": 17,
   "id": "7ef8fe9c-e3a7-4550-a9e1-218f10d329aa",
   "metadata": {},
   "outputs": [
    {
     "data": {
      "text/plain": [
       "5.3"
      ]
     },
     "execution_count": 17,
     "metadata": {},
     "output_type": "execute_result"
    }
   ],
   "source": [
    "3+2.3"
   ]
  },
  {
   "cell_type": "code",
   "execution_count": 18,
   "id": "d3628ced-424f-4be6-b17d-71da2af04788",
   "metadata": {},
   "outputs": [
    {
     "ename": "TypeError",
     "evalue": "can only concatenate str (not \"int\") to str",
     "output_type": "error",
     "traceback": [
      "\u001b[1;31m---------------------------------------------------------------------------\u001b[0m",
      "\u001b[1;31mTypeError\u001b[0m                                 Traceback (most recent call last)",
      "Cell \u001b[1;32mIn[18], line 1\u001b[0m\n\u001b[1;32m----> 1\u001b[0m \u001b[38;5;124;43m'\u001b[39;49m\u001b[38;5;124;43md\u001b[39;49m\u001b[38;5;124;43m'\u001b[39;49m\u001b[38;5;241;43m+\u001b[39;49m\u001b[38;5;241;43m3\u001b[39;49m\n",
      "\u001b[1;31mTypeError\u001b[0m: can only concatenate str (not \"int\") to str"
     ]
    }
   ],
   "source": [
    "'d'+3"
   ]
  },
  {
   "cell_type": "code",
   "execution_count": 22,
   "id": "87f3a5c7-a321-4df3-b470-57313a1fecf0",
   "metadata": {},
   "outputs": [],
   "source": []
  },
  {
   "cell_type": "code",
   "execution_count": 23,
   "id": "974101a8-c628-48db-be8b-9dcc675b3979",
   "metadata": {},
   "outputs": [
    {
     "ename": "TypeError",
     "evalue": "unsupported operand type(s) for +: 'set' and 'str'",
     "output_type": "error",
     "traceback": [
      "\u001b[1;31m---------------------------------------------------------------------------\u001b[0m",
      "\u001b[1;31mTypeError\u001b[0m                                 Traceback (most recent call last)",
      "Cell \u001b[1;32mIn[23], line 1\u001b[0m\n\u001b[1;32m----> 1\u001b[0m \u001b[43m{\u001b[49m\u001b[38;5;241;43m1\u001b[39;49m\u001b[43m,\u001b[49m\u001b[38;5;241;43m2\u001b[39;49m\u001b[43m}\u001b[49m\u001b[38;5;241;43m+\u001b[39;49m\u001b[38;5;124;43m'\u001b[39;49m\u001b[38;5;124;43ms\u001b[39;49m\u001b[38;5;124;43m'\u001b[39;49m\n",
      "\u001b[1;31mTypeError\u001b[0m: unsupported operand type(s) for +: 'set' and 'str'"
     ]
    }
   ],
   "source": [
    "{1,2}+'s'"
   ]
  },
  {
   "cell_type": "code",
   "execution_count": 24,
   "id": "9e93e2dc-fdbd-4523-ab72-a69522cf1d9a",
   "metadata": {},
   "outputs": [],
   "source": [
    "[1,2].append('s')"
   ]
  },
  {
   "cell_type": "code",
   "execution_count": 25,
   "id": "3e346d49-478a-4bda-83c7-a0dcdcee47d6",
   "metadata": {},
   "outputs": [
    {
     "data": {
      "text/plain": [
       "[1, 2]"
      ]
     },
     "execution_count": 25,
     "metadata": {},
     "output_type": "execute_result"
    }
   ],
   "source": [
    "[1,2]"
   ]
  },
  {
   "cell_type": "code",
   "execution_count": 26,
   "id": "1476ec7f-96c6-4db9-9bd0-20ae9161699f",
   "metadata": {},
   "outputs": [
    {
     "ename": "NameError",
     "evalue": "name 'some_function_returning_true' is not defined",
     "output_type": "error",
     "traceback": [
      "\u001b[1;31m---------------------------------------------------------------------------\u001b[0m",
      "\u001b[1;31mNameError\u001b[0m                                 Traceback (most recent call last)",
      "Cell \u001b[1;32mIn[26], line 2\u001b[0m\n\u001b[0;32m      1\u001b[0m x \u001b[38;5;241m=\u001b[39m \u001b[38;5;28;01mTrue\u001b[39;00m\n\u001b[1;32m----> 2\u001b[0m y \u001b[38;5;241m=\u001b[39m \u001b[43msome_function_returning_true\u001b[49m()\n\u001b[0;32m      4\u001b[0m result \u001b[38;5;241m=\u001b[39m x \u001b[38;5;129;01mand\u001b[39;00m y \n",
      "\u001b[1;31mNameError\u001b[0m: name 'some_function_returning_true' is not defined"
     ]
    }
   ],
   "source": [
    "x = True\n",
    "y = some_function_returning_true()\n",
    "\n",
    "result = x and y "
   ]
  },
  {
   "cell_type": "code",
   "execution_count": 27,
   "id": "27505094-0d37-416b-a4ff-a67f657cbe2c",
   "metadata": {},
   "outputs": [],
   "source": [
    "x = 43\n",
    "y = 0"
   ]
  },
  {
   "cell_type": "code",
   "execution_count": 28,
   "id": "ed5db12c-871e-4bb8-8bca-1fac36122246",
   "metadata": {},
   "outputs": [
    {
     "data": {
      "text/plain": [
       "(True, False)"
      ]
     },
     "execution_count": 28,
     "metadata": {},
     "output_type": "execute_result"
    }
   ],
   "source": [
    "bool(x),bool(y)"
   ]
  },
  {
   "cell_type": "code",
   "execution_count": 29,
   "id": "27b60b9d-2809-4efc-958b-668659211d75",
   "metadata": {},
   "outputs": [
    {
     "data": {
      "text/plain": [
       "(True, True, True)"
      ]
     },
     "execution_count": 29,
     "metadata": {},
     "output_type": "execute_result"
    }
   ],
   "source": [
    "bool(1),bool(1.0),bool(True)"
   ]
  },
  {
   "cell_type": "code",
   "execution_count": 30,
   "id": "af2ec7b1-cfb0-443d-8f70-9b88ebf8d03e",
   "metadata": {},
   "outputs": [
    {
     "data": {
      "text/plain": [
       "{1}"
      ]
     },
     "execution_count": 30,
     "metadata": {},
     "output_type": "execute_result"
    }
   ],
   "source": [
    "{1,1.0,True}"
   ]
  },
  {
   "cell_type": "code",
   "execution_count": 31,
   "id": "fdec3a8f-6421-4801-a105-bfacc92deef7",
   "metadata": {},
   "outputs": [],
   "source": [
    "x = True\n",
    "y = False\n",
    "\n",
    "result_and = x and y  # False\n",
    "result_or = x or y   # True \n",
    "result_not = not x  # False"
   ]
  },
  {
   "cell_type": "code",
   "execution_count": 32,
   "id": "9a4737da-d65a-419c-956b-60945b758c72",
   "metadata": {},
   "outputs": [
    {
     "name": "stdout",
     "output_type": "stream",
     "text": [
      "False\n",
      "True\n",
      "False\n"
     ]
    }
   ],
   "source": [
    "print(result_and)\n",
    "print(result_or)\n",
    "print(result_not)"
   ]
  },
  {
   "cell_type": "code",
   "execution_count": 33,
   "id": "d8530e19-2ca9-4355-bf47-b34b5dc3cae1",
   "metadata": {},
   "outputs": [],
   "source": [
    "list_of_tuples = [(1, 5), (2, 3), (3, 8), (4, 2)]"
   ]
  },
  {
   "cell_type": "code",
   "execution_count": 34,
   "id": "bb3c0aff-b2cb-4593-a34d-3369529d5319",
   "metadata": {},
   "outputs": [
    {
     "data": {
      "text/plain": [
       "(4, 2)"
      ]
     },
     "execution_count": 34,
     "metadata": {},
     "output_type": "execute_result"
    }
   ],
   "source": [
    "max(list_of_tuples)"
   ]
  },
  {
   "cell_type": "code",
   "execution_count": 35,
   "id": "db555413-99d8-4105-b6ab-832962cbeb62",
   "metadata": {},
   "outputs": [
    {
     "data": {
      "text/plain": [
       "(1, 5)"
      ]
     },
     "execution_count": 35,
     "metadata": {},
     "output_type": "execute_result"
    }
   ],
   "source": [
    "min(list_of_tuples)"
   ]
  },
  {
   "cell_type": "code",
   "execution_count": 38,
   "id": "1013ce5f-b418-4381-b7e5-b874ee88fc8a",
   "metadata": {},
   "outputs": [],
   "source": [
    "list_of_tuples.sort()"
   ]
  },
  {
   "cell_type": "code",
   "execution_count": 39,
   "id": "a11e74ee-4d52-4fb8-bcf1-44d82671fb9c",
   "metadata": {},
   "outputs": [
    {
     "data": {
      "text/plain": [
       "[(1, 5), (2, 3), (3, 8), (4, 2)]"
      ]
     },
     "execution_count": 39,
     "metadata": {},
     "output_type": "execute_result"
    }
   ],
   "source": [
    "list_of_tuples"
   ]
  },
  {
   "cell_type": "code",
   "execution_count": null,
   "id": "4956e65f-e405-4e6a-bc30-a7318ad84139",
   "metadata": {},
   "outputs": [],
   "source": []
  }
 ],
 "metadata": {
  "kernelspec": {
   "display_name": "Python 3 (ipykernel)",
   "language": "python",
   "name": "python3"
  },
  "language_info": {
   "codemirror_mode": {
    "name": "ipython",
    "version": 3
   },
   "file_extension": ".py",
   "mimetype": "text/x-python",
   "name": "python",
   "nbconvert_exporter": "python",
   "pygments_lexer": "ipython3",
   "version": "3.10.2"
  }
 },
 "nbformat": 4,
 "nbformat_minor": 5
}
