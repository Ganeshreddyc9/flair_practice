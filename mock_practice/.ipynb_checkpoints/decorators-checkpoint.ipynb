{
 "cells": [
  {
   "cell_type": "code",
   "execution_count": 1,
   "id": "4e075d4b-1641-4b0e-9b01-9e06063920ff",
   "metadata": {},
   "outputs": [],
   "source": [
    "# decorator defination\n",
    "\n",
    "# if you want add some functionality without changing the current functionlity we can go for decorator\n",
    "# or\n",
    "\n",
    "# if you want to add some functionality before and/or after the functionality without changing the current functionlity we can go for\n",
    "# decorator \n",
    "\n",
    "# or \n",
    "\n",
    "# we can pass function as an argument to the other function"
   ]
  },
  {
   "cell_type": "code",
   "execution_count": 2,
   "id": "ab2e00b1-8f5b-4d8c-8982-e0413bd6f78e",
   "metadata": {},
   "outputs": [
    {
     "ename": "SyntaxError",
     "evalue": "invalid syntax. Perhaps you forgot a comma? (4087749588.py, line 5)",
     "output_type": "error",
     "traceback": [
      "\u001b[1;36m  Cell \u001b[1;32mIn[2], line 5\u001b[1;36m\u001b[0m\n\u001b[1;33m    func(*args,**kwargs\u001b[0m\n\u001b[1;37m                 ^\u001b[0m\n\u001b[1;31mSyntaxError\u001b[0m\u001b[1;31m:\u001b[0m invalid syntax. Perhaps you forgot a comma?\n"
     ]
    }
   ],
   "source": [
    "def outer(func):\n",
    "    def inner(*args,**kwargs):\n",
    "        #before the functionlity \n",
    "        print(\"*\" * 50)\n",
    "        func(*args,**kwargs)\n",
    "        #after  the functionlity\n",
    "        print(\"#\" * 50)\n",
    "    return inner\n",
    "def fun(s):\n",
    "    print(s)"
   ]
  },
  {
   "cell_type": "code",
   "execution_count": null,
   "id": "de213177-f0a1-44ab-bac7-ebae5618a565",
   "metadata": {},
   "outputs": [],
   "source": []
  }
 ],
 "metadata": {
  "kernelspec": {
   "display_name": "Python 3 (ipykernel)",
   "language": "python",
   "name": "python3"
  },
  "language_info": {
   "codemirror_mode": {
    "name": "ipython",
    "version": 3
   },
   "file_extension": ".py",
   "mimetype": "text/x-python",
   "name": "python",
   "nbconvert_exporter": "python",
   "pygments_lexer": "ipython3",
   "version": "3.10.2"
  }
 },
 "nbformat": 4,
 "nbformat_minor": 5
}
