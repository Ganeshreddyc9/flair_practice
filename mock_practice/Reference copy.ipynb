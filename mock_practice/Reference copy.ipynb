{
 "cells": [
  {
   "cell_type": "code",
   "execution_count": 1,
   "id": "15678025-02fb-49e3-b695-d4dcb92a6e59",
   "metadata": {},
   "outputs": [
    {
     "name": "stdout",
     "output_type": "stream",
     "text": [
      "10\n",
      "11\n"
     ]
    }
   ],
   "source": [
    "a = 10\n",
    "b = a\n",
    "\n",
    "b+=1\n",
    "print(a)\n",
    "print(b)"
   ]
  },
  {
   "cell_type": "code",
   "execution_count": 2,
   "id": "3a8bce2a-8e1a-40ed-aa39-6732fac3860d",
   "metadata": {},
   "outputs": [
    {
     "data": {
      "text/plain": [
       "(2050135818768, 2050135818800)"
      ]
     },
     "execution_count": 2,
     "metadata": {},
     "output_type": "execute_result"
    }
   ],
   "source": [
    "id(a),id(b)"
   ]
  },
  {
   "cell_type": "code",
   "execution_count": 3,
   "id": "ac8c054e-8be5-4913-9c00-ac3de11bd619",
   "metadata": {},
   "outputs": [],
   "source": [
    "# numbers\n",
    "\n",
    "# copy support cheyadhu"
   ]
  },
  {
   "cell_type": "code",
   "execution_count": 7,
   "id": "2e4069c4-3ccf-410d-9172-5495a59162a0",
   "metadata": {},
   "outputs": [
    {
     "name": "stdout",
     "output_type": "stream",
     "text": [
      "True\n",
      "True\n"
     ]
    }
   ],
   "source": [
    "a = [1,2]\n",
    "b = a\n",
    "\n",
    "a.append(2)\n",
    "\n",
    "a\n",
    "print(a== b)\n",
    "print(a is b)"
   ]
  },
  {
   "cell_type": "code",
   "execution_count": 5,
   "id": "a6c53784-6729-4fa9-8562-f45360b03cd9",
   "metadata": {},
   "outputs": [
    {
     "data": {
      "text/plain": [
       "[1, 2, 2]"
      ]
     },
     "execution_count": 5,
     "metadata": {},
     "output_type": "execute_result"
    }
   ],
   "source": [
    "b"
   ]
  },
  {
   "cell_type": "code",
   "execution_count": 9,
   "id": "e55124bc-4293-4078-b3ce-0430f263e39a",
   "metadata": {},
   "outputs": [
    {
     "data": {
      "text/plain": [
       "(True, False)"
      ]
     },
     "execution_count": 9,
     "metadata": {},
     "output_type": "execute_result"
    }
   ],
   "source": [
    "a = [1,2]\n",
    "b = [1,2]\n",
    "\n",
    "(a == b,a is b)"
   ]
  },
  {
   "cell_type": "code",
   "execution_count": 10,
   "id": "4f20d8b6-b726-42aa-b556-a5c91465a70d",
   "metadata": {},
   "outputs": [],
   "source": [
    "\n",
    "# a = [1,2] #-- here always in a address will be stored in the a  adress will be stored in b \n"
   ]
  },
  {
   "cell_type": "code",
   "execution_count": 11,
   "id": "5614430f-b8b1-43a8-b3bd-86b3fa045d0f",
   "metadata": {},
   "outputs": [
    {
     "data": {
      "text/plain": [
       "(2050216197888, 2050216571264)"
      ]
     },
     "execution_count": 11,
     "metadata": {},
     "output_type": "execute_result"
    }
   ],
   "source": [
    "a = [1,2]\n",
    "b = a.copy()\n",
    "\n",
    "id(a),id(b)"
   ]
  },
  {
   "cell_type": "code",
   "execution_count": 13,
   "id": "04ad9c1d-26b0-4950-9edc-61bfec4fe049",
   "metadata": {},
   "outputs": [
    {
     "name": "stdout",
     "output_type": "stream",
     "text": [
      "[1, 2]\n",
      "[1, 2]\n"
     ]
    }
   ],
   "source": [
    "a = [1,2]\n",
    "b = a[::]\n",
    "print(a)\n",
    "print(b)"
   ]
  },
  {
   "cell_type": "code",
   "execution_count": 17,
   "id": "066fb9fd-2cdb-4bdf-94e5-9cc5859c2498",
   "metadata": {},
   "outputs": [
    {
     "name": "stdout",
     "output_type": "stream",
     "text": [
      "== checks True\n",
      "is checks: True\n",
      "is checks: False\n"
     ]
    }
   ],
   "source": [
    "#difference between == and is \n",
    "\n",
    "\n",
    "# == --> always checks the values are same or not \n",
    "\n",
    "# a - values  and b values both same or not\n",
    "\n",
    "# ex:\n",
    "a = [1,2]\n",
    "b = [1,2]\n",
    "\n",
    "print(\"== checks\",a == b) \n",
    "# true\n",
    "\n",
    "# is -> is always checks both are pointing to the same address or not \n",
    "\n",
    "a = [1,2]\n",
    "b = a\n",
    "print(\"is checks:\",a is b)\n",
    "\n",
    "a = [1,2]\n",
    "b = [1,2]\n",
    "print(\"is checks:\",a is b)"
   ]
  },
  {
   "cell_type": "code",
   "execution_count": null,
   "id": "fe46f7c3-5bb3-4de6-8251-0884ea5682b5",
   "metadata": {},
   "outputs": [],
   "source": []
  }
 ],
 "metadata": {
  "kernelspec": {
   "display_name": "Python 3 (ipykernel)",
   "language": "python",
   "name": "python3"
  },
  "language_info": {
   "codemirror_mode": {
    "name": "ipython",
    "version": 3
   },
   "file_extension": ".py",
   "mimetype": "text/x-python",
   "name": "python",
   "nbconvert_exporter": "python",
   "pygments_lexer": "ipython3",
   "version": "3.10.2"
  }
 },
 "nbformat": 4,
 "nbformat_minor": 5
}
