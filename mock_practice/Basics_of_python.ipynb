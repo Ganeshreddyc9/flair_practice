{
 "cells": [
  {
   "cell_type": "code",
   "execution_count": 1,
   "id": "fec19d6e-a845-4ffb-bf1a-bc7c79dc0266",
   "metadata": {},
   "outputs": [],
   "source": [
    "# why people are learning python ?\n",
    "\n",
    "# python is interprated language .\n",
    "\n",
    "# interprated language?\n",
    "# -- run the code in interprator \n",
    "\n",
    "# two types of progrmaing language \n",
    "\n",
    "# compiled and interprated language\n",
    "\n",
    "# converting source code to byte code  u use comiper to comile the progrm \n",
    "\n",
    "# python is an interpretor language \n",
    "\n",
    "# python3 or python in cmd:\n",
    "\n",
    ">>>\n",
    "\n",
    "# open source ?\n",
    "\n",
    "# we can able to use that preticular progrmming language in that ...\n",
    "# we can develop and applications and we can sell to any body without.....\n",
    "\n",
    "\n",
    "# two types of progrmmaing languge ..\n",
    "\n",
    "# 1> statically \n",
    "# 2> dynamically \n",
    "\n",
    "\n",
    "# 1> statically \n",
    "# -- c,java,\n",
    "\n",
    "# if we want to use we want to declare it first  like :\n",
    "# ex: int = 10 like that....\n",
    "\n",
    "# 2> dynamically \n",
    "\n",
    "# python is an dynamically typed  language it will check the type while executing \n",
    "\n",
    "# ex: a = 10 -- we can check that type \n",
    "# -- type(a) >> <class 'int'>\n",
    "\n",
    "\n",
    "# what is interaction language ?\n",
    "\n",
    "# interaction in programming what is that mean --> \n",
    "\n",
    "# python is an general purpose lanaguage "
   ]
  },
  {
   "cell_type": "code",
   "execution_count": 3,
   "id": "2227854e-304e-42dc-b05d-ebd54f5e5ab0",
   "metadata": {},
   "outputs": [],
   "source": [
    "a = 10 \n",
    "b = 30\n",
    "a = 40 "
   ]
  },
  {
   "cell_type": "code",
   "execution_count": 4,
   "id": "e54e2563-192e-4ebe-8b4e-5cb867a56f88",
   "metadata": {},
   "outputs": [
    {
     "data": {
      "text/plain": [
       "(40, 30)"
      ]
     },
     "execution_count": 4,
     "metadata": {},
     "output_type": "execute_result"
    }
   ],
   "source": [
    "a,b"
   ]
  },
  {
   "cell_type": "code",
   "execution_count": 6,
   "id": "f6a0d710-074b-43fe-b33b-5af6c379dab3",
   "metadata": {},
   "outputs": [],
   "source": [
    "int = 10"
   ]
  },
  {
   "cell_type": "code",
   "execution_count": 7,
   "id": "5b226a52-67bd-4a03-ab21-4a4583f29b19",
   "metadata": {},
   "outputs": [
    {
     "data": {
      "text/plain": [
       "10"
      ]
     },
     "execution_count": 7,
     "metadata": {},
     "output_type": "execute_result"
    }
   ],
   "source": [
    "int"
   ]
  },
  {
   "cell_type": "code",
   "execution_count": null,
   "id": "ff655151-2a98-49d5-8708-45b06737880e",
   "metadata": {},
   "outputs": [],
   "source": []
  }
 ],
 "metadata": {
  "kernelspec": {
   "display_name": "Python 3 (ipykernel)",
   "language": "python",
   "name": "python3"
  },
  "language_info": {
   "codemirror_mode": {
    "name": "ipython",
    "version": 3
   },
   "file_extension": ".py",
   "mimetype": "text/x-python",
   "name": "python",
   "nbconvert_exporter": "python",
   "pygments_lexer": "ipython3",
   "version": "3.10.2"
  }
 },
 "nbformat": 4,
 "nbformat_minor": 5
}
