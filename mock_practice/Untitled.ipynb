{
 "cells": [
  {
   "cell_type": "code",
   "execution_count": 1,
   "id": "6fd13894-be58-4414-a6f2-9822b978dd91",
   "metadata": {},
   "outputs": [],
   "source": [
    "students_list = [\"Alice\", \"Bob\", \"Charlie\"]\n",
    "grades_list = [85, 92, 78]"
   ]
  },
  {
   "cell_type": "code",
   "execution_count": 4,
   "id": "94a50752-23a7-49b9-a451-b4cd503963f5",
   "metadata": {},
   "outputs": [
    {
     "name": "stdout",
     "output_type": "stream",
     "text": [
      "{'Alice': 85, 'Bob': 92, 'Charlie': 78}\n"
     ]
    }
   ],
   "source": [
    "print(dict(zip(students_list,grades_list)))"
   ]
  },
  {
   "cell_type": "code",
   "execution_count": null,
   "id": "7a9f15a2-7386-4fe2-8ddd-78c2df9ee776",
   "metadata": {},
   "outputs": [],
   "source": []
  }
 ],
 "metadata": {
  "kernelspec": {
   "display_name": "Python 3 (ipykernel)",
   "language": "python",
   "name": "python3"
  },
  "language_info": {
   "codemirror_mode": {
    "name": "ipython",
    "version": 3
   },
   "file_extension": ".py",
   "mimetype": "text/x-python",
   "name": "python",
   "nbconvert_exporter": "python",
   "pygments_lexer": "ipython3",
   "version": "3.10.2"
  }
 },
 "nbformat": 4,
 "nbformat_minor": 5
}
