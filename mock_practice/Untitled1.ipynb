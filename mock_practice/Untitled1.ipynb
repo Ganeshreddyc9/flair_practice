{
 "cells": [
  {
   "cell_type": "code",
   "execution_count": 3,
   "id": "0b98df39-ecd4-472e-9cb2-a07e97098af6",
   "metadata": {},
   "outputs": [],
   "source": [
    "def student_info(*args, **kwargs):\n",
    "\n",
    "    print(args)\n",
    "    print(kwargs)\n",
    "\n",
    "courses = ['math', 'art']\n",
    "info = {'name': 'Jhon', 'age': 22}"
   ]
  },
  {
   "cell_type": "code",
   "execution_count": 5,
   "id": "92024fc9-bcc0-4c2e-8761-92f5543e59f7",
   "metadata": {},
   "outputs": [
    {
     "name": "stdout",
     "output_type": "stream",
     "text": [
      "(['math', 'art'], {'name': 'Jhon', 'age': 22})\n",
      "{}\n"
     ]
    }
   ],
   "source": [
    "student_info(courses, info)"
   ]
  },
  {
   "cell_type": "code",
   "execution_count": 10,
   "id": "57b3287e-373a-4f6a-bd59-8d04bca08556",
   "metadata": {},
   "outputs": [],
   "source": [
    "def student_info(*args, **kwargs):\n",
    "\n",
    "    print(args)\n",
    "    print(kwargs)\n",
    "\n",
    "courses = ['math', 'art']\n",
    "info = {'name': 'Jhon', 'age': 22}"
   ]
  },
  {
   "cell_type": "code",
   "execution_count": 9,
   "id": "07119a57-16e8-4225-bd81-74c8f61ebd97",
   "metadata": {},
   "outputs": [
    {
     "name": "stdout",
     "output_type": "stream",
     "text": [
      "('math', 'art')\n",
      "{'name': 'Jhon', 'age': 22}\n"
     ]
    }
   ],
   "source": [
    "student_info(*courses, **info)"
   ]
  },
  {
   "cell_type": "code",
   "execution_count": null,
   "id": "30f02402-c64e-47a1-bc85-4fba8d656f9c",
   "metadata": {},
   "outputs": [],
   "source": []
  },
  {
   "cell_type": "code",
   "execution_count": null,
   "id": "603f24ee-af5d-4206-9272-44e20b36e4f7",
   "metadata": {},
   "outputs": [],
   "source": []
  },
  {
   "cell_type": "code",
   "execution_count": 32,
   "id": "d36e64cd-8e62-4973-8f18-243ae721126e",
   "metadata": {},
   "outputs": [],
   "source": [
    "month_days = [0, 31, 28, 31, 30, 31, 30, 31, 31, 30, 31, 30, 31]\n",
    "\n",
    "def is_leap(year):\n",
    "    \"\"\"Returns True for leap years, False for non-leap years.\"\"\"\n",
    "    return year % 4 == 0 and (year % 100 != 0 or year % 400 == 0)\n",
    "\n",
    "def days_in_month(year, month):\n",
    "    \"\"\"Return number of days in that month in that year \"\"\"\n",
    "\n",
    "    if not 1 <= month <= 12: \n",
    "        return \"Invalid Month\"\n",
    "\n",
    "    if month == 2 and is_leap(year):\n",
    "        return 29\n",
    "    return month_days[month]\n",
    "        "
   ]
  },
  {
   "cell_type": "code",
   "execution_count": 33,
   "id": "7883bda0-6dca-4f60-aad3-68f4977790f2",
   "metadata": {},
   "outputs": [
    {
     "data": {
      "text/plain": [
       "(False, True)"
      ]
     },
     "execution_count": 33,
     "metadata": {},
     "output_type": "execute_result"
    }
   ],
   "source": [
    "is_leap(2017),is_leap(2020)"
   ]
  },
  {
   "cell_type": "code",
   "execution_count": 34,
   "id": "41a119e4-99aa-489e-b456-e106e05ffdf7",
   "metadata": {},
   "outputs": [
    {
     "data": {
      "text/plain": [
       "(28, 29)"
      ]
     },
     "execution_count": 34,
     "metadata": {},
     "output_type": "execute_result"
    }
   ],
   "source": [
    "days_in_month(2017,2),days_in_month(2020,2)"
   ]
  },
  {
   "cell_type": "code",
   "execution_count": 35,
   "id": "9ee5c7f4-4848-4521-9548-b6ce147a3f3e",
   "metadata": {},
   "outputs": [
    {
     "data": {
      "text/plain": [
       "17"
      ]
     },
     "execution_count": 35,
     "metadata": {},
     "output_type": "execute_result"
    }
   ],
   "source": [
    "2017 % 100 "
   ]
  },
  {
   "cell_type": "code",
   "execution_count": 36,
   "id": "d1add2dd-e58d-4f56-98f7-5c1ddde093e4",
   "metadata": {},
   "outputs": [
    {
     "data": {
      "text/plain": [
       "17"
      ]
     },
     "execution_count": 36,
     "metadata": {},
     "output_type": "execute_result"
    }
   ],
   "source": [
    "2017 % 400 "
   ]
  },
  {
   "cell_type": "code",
   "execution_count": 30,
   "id": "b43706a9-61e6-4a08-a1ee-902515d175c7",
   "metadata": {},
   "outputs": [
    {
     "data": {
      "text/plain": [
       "1"
      ]
     },
     "execution_count": 30,
     "metadata": {},
     "output_type": "execute_result"
    }
   ],
   "source": [
    "2017  % 4"
   ]
  },
  {
   "cell_type": "code",
   "execution_count": 31,
   "id": "e5b27687-19a6-4263-93a3-6f6a1fd5d55e",
   "metadata": {},
   "outputs": [
    {
     "data": {
      "text/plain": [
       "(0, 20, 20)"
      ]
     },
     "execution_count": 31,
     "metadata": {},
     "output_type": "execute_result"
    }
   ],
   "source": [
    "2020 % 4 , 2020 % 100 , 2020 % 400"
   ]
  },
  {
   "cell_type": "code",
   "execution_count": 22,
   "id": "78e20ac4-56d3-47a4-90d1-68f8a376aae8",
   "metadata": {},
   "outputs": [
    {
     "ename": "SyntaxError",
     "evalue": "invalid syntax (2364164644.py, line 1)",
     "output_type": "error",
     "traceback": [
      "\u001b[1;36m  Cell \u001b[1;32mIn[22], line 1\u001b[1;36m\u001b[0m\n\u001b[1;33m    if month <= 1 and month < = 12\u001b[0m\n\u001b[1;37m                              ^\u001b[0m\n\u001b[1;31mSyntaxError\u001b[0m\u001b[1;31m:\u001b[0m invalid syntax\n"
     ]
    }
   ],
   "source": []
  },
  {
   "cell_type": "code",
   "execution_count": null,
   "id": "c6c1b615-3d5a-4897-806c-e2f96ab06c9d",
   "metadata": {},
   "outputs": [],
   "source": []
  }
 ],
 "metadata": {
  "kernelspec": {
   "display_name": "Python 3 (ipykernel)",
   "language": "python",
   "name": "python3"
  },
  "language_info": {
   "codemirror_mode": {
    "name": "ipython",
    "version": 3
   },
   "file_extension": ".py",
   "mimetype": "text/x-python",
   "name": "python",
   "nbconvert_exporter": "python",
   "pygments_lexer": "ipython3",
   "version": "3.10.2"
  }
 },
 "nbformat": 4,
 "nbformat_minor": 5
}
