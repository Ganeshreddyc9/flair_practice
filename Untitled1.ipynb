{
 "cells": [
  {
   "cell_type": "code",
   "execution_count": 8,
   "id": "ac3ec660-26e5-4ec6-abc8-9be7dc3d03eb",
   "metadata": {},
   "outputs": [
    {
     "data": {
      "text/plain": [
       "'i am has aangalore'"
      ]
     },
     "execution_count": 8,
     "metadata": {},
     "output_type": "execute_result"
    }
   ],
   "source": [
    "s = 'i am has bangalore'\n",
    "\n",
    "s1 = 'i bm hbs abngblore'\n",
    "\n",
    "s.replace('a','b').replace('b','a')"
   ]
  },
  {
   "cell_type": "code",
   "execution_count": 9,
   "id": "9d7098b8-e7b4-4bc9-bb72-ad15dfa2cb0c",
   "metadata": {},
   "outputs": [
    {
     "data": {
      "text/plain": [
       "'i ^m h^s a^ng^lore'"
      ]
     },
     "execution_count": 9,
     "metadata": {},
     "output_type": "execute_result"
    }
   ],
   "source": [
    "s.replace('a','^').replace('b','a')"
   ]
  },
  {
   "cell_type": "code",
   "execution_count": 10,
   "id": "a2c1ada7-78f3-45af-a08e-71c22a4f356c",
   "metadata": {},
   "outputs": [
    {
     "data": {
      "text/plain": [
       "True"
      ]
     },
     "execution_count": 10,
     "metadata": {},
     "output_type": "execute_result"
    }
   ],
   "source": [
    "s1 == s.replace('a','^').replace('b','a').replace('^','b')"
   ]
  },
  {
   "cell_type": "code",
   "execution_count": null,
   "id": "f578ca97-60d5-4ffe-82e5-5b23fc49a84e",
   "metadata": {},
   "outputs": [],
   "source": []
  },
  {
   "cell_type": "code",
   "execution_count": null,
   "id": "72fee97c-6eaa-44ae-95ef-1cc6354e8dec",
   "metadata": {},
   "outputs": [],
   "source": []
  }
 ],
 "metadata": {
  "kernelspec": {
   "display_name": "Python 3 (ipykernel)",
   "language": "python",
   "name": "python3"
  },
  "language_info": {
   "codemirror_mode": {
    "name": "ipython",
    "version": 3
   },
   "file_extension": ".py",
   "mimetype": "text/x-python",
   "name": "python",
   "nbconvert_exporter": "python",
   "pygments_lexer": "ipython3",
   "version": "3.10.2"
  }
 },
 "nbformat": 4,
 "nbformat_minor": 5
}
