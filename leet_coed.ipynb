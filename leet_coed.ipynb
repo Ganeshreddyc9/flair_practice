{
 "cells": [
  {
   "cell_type": "code",
   "execution_count": 4,
   "id": "00deec50-aa4e-4e52-b8de-9555267c86cf",
   "metadata": {},
   "outputs": [],
   "source": [
    "# Given two strings needle and haystack, return the index of the\n",
    "# first occurrence of needle in haystack, or -1 if needle is not part of haystack.\n",
    "\n",
    " \n",
    "\n",
    "# Input: haystack = \"sadbutsad\", needle = \"sad\"\n",
    "# Output: 0\n",
    "# Explanation: \"sad\" occurs at index 0 and 6.\n",
    "# The first occurrence is at index 0, so we return 0.\n",
    "# Example 2:\n",
    "\n",
    "# Input: haystack = \"leetcode\", needle = \"leeto\"\n",
    "# Output: -1\n",
    "# Explanation: \"leeto\" did not occur in \"leetcode\", so we return -1."
   ]
  },
  {
   "cell_type": "code",
   "execution_count": 6,
   "id": "424e8197-b0cc-4802-9211-a438473a0b66",
   "metadata": {},
   "outputs": [],
   "source": [
    "haystack = \"sadbutsad\"\n",
    "needle = \"sad\""
   ]
  },
  {
   "cell_type": "code",
   "execution_count": 8,
   "id": "ba3cad94-334b-4629-8d86-07dc28836e57",
   "metadata": {},
   "outputs": [
    {
     "name": "stdout",
     "output_type": "stream",
     "text": [
      "5\n"
     ]
    }
   ],
   "source": [
    "def first_occurance(haystack,needle):\n",
    "    length = len(needle)\n",
    "    print(length)\n",
    "first_occurance(\"leetcode\",\"leeto\")"
   ]
  },
  {
   "cell_type": "code",
   "execution_count": 11,
   "id": "3364ce99-2dbe-46fa-bd2c-99139ac316fe",
   "metadata": {},
   "outputs": [
    {
     "ename": "SyntaxError",
     "evalue": "invalid syntax (4251402748.py, line 3)",
     "output_type": "error",
     "traceback": [
      "\u001b[1;36m  Cell \u001b[1;32mIn[11], line 3\u001b[1;36m\u001b[0m\n\u001b[1;33m    [0:7:5]\u001b[0m\n\u001b[1;37m      ^\u001b[0m\n\u001b[1;31mSyntaxError\u001b[0m\u001b[1;31m:\u001b[0m invalid syntax\n"
     ]
    }
   ],
   "source": [
    "# leeto\n",
    "\n",
    "[0:7:5]"
   ]
  },
  {
   "cell_type": "code",
   "execution_count": 13,
   "id": "b4adef7e-de1f-42a5-b284-5a948ec77803",
   "metadata": {},
   "outputs": [
    {
     "ename": "NameError",
     "evalue": "name 'l' is not defined",
     "output_type": "error",
     "traceback": [
      "\u001b[1;31m---------------------------------------------------------------------------\u001b[0m",
      "\u001b[1;31mNameError\u001b[0m                                 Traceback (most recent call last)",
      "Cell \u001b[1;32mIn[13], line 1\u001b[0m\n\u001b[1;32m----> 1\u001b[0m \u001b[38;5;28mlen\u001b[39m(haystack)\u001b[38;5;241m-\u001b[39m\u001b[43ml\u001b[49m\u001b[38;5;241m+\u001b[39m\u001b[38;5;241m1\u001b[39m\n",
      "\u001b[1;31mNameError\u001b[0m: name 'l' is not defined"
     ]
    }
   ],
   "source": [
    "len(haystack)-l+1"
   ]
  },
  {
   "cell_type": "code",
   "execution_count": null,
   "id": "71225095-2395-4e0c-8a12-a794551c5360",
   "metadata": {},
   "outputs": [],
   "source": []
  }
 ],
 "metadata": {
  "kernelspec": {
   "display_name": "Python 3 (ipykernel)",
   "language": "python",
   "name": "python3"
  },
  "language_info": {
   "codemirror_mode": {
    "name": "ipython",
    "version": 3
   },
   "file_extension": ".py",
   "mimetype": "text/x-python",
   "name": "python",
   "nbconvert_exporter": "python",
   "pygments_lexer": "ipython3",
   "version": "3.10.2"
  }
 },
 "nbformat": 4,
 "nbformat_minor": 5
}
