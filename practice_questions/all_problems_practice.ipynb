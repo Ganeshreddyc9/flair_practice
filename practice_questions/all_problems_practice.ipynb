{
 "cells": [
  {
   "cell_type": "code",
   "execution_count": 1,
   "id": "7a825118-39b1-4604-8fac-11a1ad0d0b88",
   "metadata": {},
   "outputs": [],
   "source": [
    "data = ['a','b','c',3,4,5]"
   ]
  },
  {
   "cell_type": "code",
   "execution_count": 2,
   "id": "fd77e3dc-f040-497c-b54f-7291c03bfe92",
   "metadata": {},
   "outputs": [
    {
     "name": "stdout",
     "output_type": "stream",
     "text": [
      "['__add__', '__class__', '__class_getitem__', '__contains__', '__delattr__', '__delitem__', '__dir__', '__doc__', '__eq__', '__format__', '__ge__', '__getattribute__', '__getitem__', '__gt__', '__hash__', '__iadd__', '__imul__', '__init__', '__init_subclass__', '__iter__', '__le__', '__len__', '__lt__', '__mul__', '__ne__', '__new__', '__reduce__', '__reduce_ex__', '__repr__', '__reversed__', '__rmul__', '__setattr__', '__setitem__', '__sizeof__', '__str__', '__subclasshook__', 'append', 'clear', 'copy', 'count', 'extend', 'index', 'insert', 'pop', 'remove', 'reverse', 'sort']\n"
     ]
    }
   ],
   "source": [
    "print(dir(data))"
   ]
  },
  {
   "cell_type": "code",
   "execution_count": 4,
   "id": "92ba5469-b1b6-4ca8-8d72-c27a9fc497d8",
   "metadata": {},
   "outputs": [],
   "source": [
    "# 'append', 'clear', 'copy', 'count', 'extend', 'index', 'insert', 'pop', 'remove', 'reverse', 'sort'\n"
   ]
  },
  {
   "cell_type": "code",
   "execution_count": 5,
   "id": "e7682bed-9150-4cab-8876-52bf412047a6",
   "metadata": {},
   "outputs": [],
   "source": [
    "data.append(6)"
   ]
  },
  {
   "cell_type": "code",
   "execution_count": 6,
   "id": "ed391152-2222-4c26-9e8b-611298173953",
   "metadata": {},
   "outputs": [
    {
     "data": {
      "text/plain": [
       "['a', 'b', 'c', 3, 4, 5, 6]"
      ]
     },
     "execution_count": 6,
     "metadata": {},
     "output_type": "execute_result"
    }
   ],
   "source": [
    "data "
   ]
  },
  {
   "cell_type": "code",
   "execution_count": 7,
   "id": "d7b3d292-3f5b-4e9a-974b-9d83d6b8a847",
   "metadata": {},
   "outputs": [
    {
     "data": {
      "text/plain": [
       "['a', 'b', 'c', 3, 4, 5, 6]"
      ]
     },
     "execution_count": 7,
     "metadata": {},
     "output_type": "execute_result"
    }
   ],
   "source": [
    "data"
   ]
  },
  {
   "cell_type": "code",
   "execution_count": 8,
   "id": "5f3b479c-7cf0-4f44-ab13-c8849795c36c",
   "metadata": {},
   "outputs": [],
   "source": [
    "# 'append',"
   ]
  },
  {
   "cell_type": "code",
   "execution_count": 9,
   "id": "166e8a45-a88b-421a-ad6b-e374d58c2d27",
   "metadata": {},
   "outputs": [
    {
     "data": {
      "text/plain": [
       "['a', 'b', 'c', 3, 4, 5, 6]"
      ]
     },
     "execution_count": 9,
     "metadata": {},
     "output_type": "execute_result"
    }
   ],
   "source": [
    "data"
   ]
  },
  {
   "cell_type": "code",
   "execution_count": 10,
   "id": "4f7fc5e6-3f2a-4c7b-81b8-a4179ca42070",
   "metadata": {},
   "outputs": [
    {
     "name": "stdout",
     "output_type": "stream",
     "text": [
      "Help on built-in function append:\n",
      "\n",
      "append(object, /) method of builtins.list instance\n",
      "    Append object to the end of the list.\n",
      "\n"
     ]
    }
   ],
   "source": [
    "help(data.append)"
   ]
  },
  {
   "cell_type": "code",
   "execution_count": 11,
   "id": "17fb238c-5c48-4fa3-9c4a-83451578a0ce",
   "metadata": {},
   "outputs": [],
   "source": [
    "data.append(7)"
   ]
  },
  {
   "cell_type": "code",
   "execution_count": 12,
   "id": "f8045e14-d0ca-4748-aa2d-e99d1e64f841",
   "metadata": {},
   "outputs": [
    {
     "data": {
      "text/plain": [
       "['a', 'b', 'c', 3, 4, 5, 6, 7]"
      ]
     },
     "execution_count": 12,
     "metadata": {},
     "output_type": "execute_result"
    }
   ],
   "source": [
    "data"
   ]
  },
  {
   "cell_type": "code",
   "execution_count": 13,
   "id": "84708351-d707-4af6-a0fd-6293b26f8a05",
   "metadata": {},
   "outputs": [],
   "source": [
    " # 'clear', 'copy', 'count', 'extend', 'index', 'insert', 'pop', 'remove', 'reverse', 'sort'"
   ]
  },
  {
   "cell_type": "code",
   "execution_count": 14,
   "id": "fb1efed6-07e6-4b24-b575-1d0950c4945e",
   "metadata": {},
   "outputs": [
    {
     "name": "stdout",
     "output_type": "stream",
     "text": [
      "Help on built-in function clear:\n",
      "\n",
      "clear() method of builtins.list instance\n",
      "    Remove all items from list.\n",
      "\n"
     ]
    }
   ],
   "source": [
    "help(data.clear)"
   ]
  },
  {
   "cell_type": "code",
   "execution_count": 15,
   "id": "eae7b734-21c3-4a73-97c0-89281019cc22",
   "metadata": {},
   "outputs": [],
   "source": [
    "data.clear()"
   ]
  },
  {
   "cell_type": "code",
   "execution_count": 16,
   "id": "48d794da-f050-4f53-9a45-5b4cf0862331",
   "metadata": {},
   "outputs": [
    {
     "data": {
      "text/plain": [
       "[]"
      ]
     },
     "execution_count": 16,
     "metadata": {},
     "output_type": "execute_result"
    }
   ],
   "source": [
    "data"
   ]
  },
  {
   "cell_type": "code",
   "execution_count": null,
   "id": "57ed96cf-37f8-452c-8ff7-7f3f25f15e79",
   "metadata": {},
   "outputs": [],
   "source": []
  },
  {
   "cell_type": "code",
   "execution_count": null,
   "id": "fd9010cd-9fee-41c8-8aa5-71d8b909712d",
   "metadata": {},
   "outputs": [],
   "source": [
    "#'count',  "
   ]
  },
  {
   "cell_type": "code",
   "execution_count": 18,
   "id": "e65d4bc0-04bf-4c2c-8295-faaf7f8f86a7",
   "metadata": {},
   "outputs": [],
   "source": [
    "# count\n",
    "data = ['a','b','c',3,4,5]"
   ]
  },
  {
   "cell_type": "code",
   "execution_count": 19,
   "id": "92d655ee-3fbc-4d56-95aa-70dc35f289e9",
   "metadata": {},
   "outputs": [
    {
     "name": "stdout",
     "output_type": "stream",
     "text": [
      "Help on built-in function count:\n",
      "\n",
      "count(value, /) method of builtins.list instance\n",
      "    Return number of occurrences of value.\n",
      "\n"
     ]
    }
   ],
   "source": [
    "help(data.count)"
   ]
  },
  {
   "cell_type": "code",
   "execution_count": 20,
   "id": "819776a7-6a32-416f-b597-f4a54853d5f5",
   "metadata": {},
   "outputs": [
    {
     "data": {
      "text/plain": [
       "1"
      ]
     },
     "execution_count": 20,
     "metadata": {},
     "output_type": "execute_result"
    }
   ],
   "source": [
    "data.count(5)"
   ]
  },
  {
   "cell_type": "code",
   "execution_count": 21,
   "id": "6dd7c947-74f0-4f96-a2eb-eaacbfd0860d",
   "metadata": {},
   "outputs": [],
   "source": [
    "data = ['a','b','c',3,4,5,5,4]"
   ]
  },
  {
   "cell_type": "code",
   "execution_count": 22,
   "id": "0f5b582c-12df-4bbc-adac-94339b89fae2",
   "metadata": {},
   "outputs": [
    {
     "data": {
      "text/plain": [
       "2"
      ]
     },
     "execution_count": 22,
     "metadata": {},
     "output_type": "execute_result"
    }
   ],
   "source": [
    "data.count(5)"
   ]
  },
  {
   "cell_type": "code",
   "execution_count": 23,
   "id": "92686b5c-f1ae-46fd-9690-2c256a9ab205",
   "metadata": {},
   "outputs": [
    {
     "data": {
      "text/plain": [
       "['a', 'b', 'c', 3, 4, 5, 5, 4]"
      ]
     },
     "execution_count": 23,
     "metadata": {},
     "output_type": "execute_result"
    }
   ],
   "source": [
    "# 'extend', 'index', 'insert', 'pop', 'remove', 'reverse', 'sort', 'copy',\n",
    "data"
   ]
  },
  {
   "cell_type": "code",
   "execution_count": 24,
   "id": "cb098fb2-56ec-4e1d-8d1e-b2600983a33d",
   "metadata": {},
   "outputs": [
    {
     "name": "stdout",
     "output_type": "stream",
     "text": [
      "Help on built-in function extend:\n",
      "\n",
      "extend(iterable, /) method of builtins.list instance\n",
      "    Extend list by appending elements from the iterable.\n",
      "\n"
     ]
    }
   ],
   "source": [
    "help(data.extend)"
   ]
  },
  {
   "cell_type": "code",
   "execution_count": 25,
   "id": "11712066-1519-4e28-8edb-4063e6e4867c",
   "metadata": {},
   "outputs": [],
   "source": [
    "# Objects like lists, tuples, sets, dictionaries, strings, etc. are called iterables"
   ]
  },
  {
   "cell_type": "code",
   "execution_count": 29,
   "id": "9a2955bd-4bf3-4567-a610-1570228ea33c",
   "metadata": {},
   "outputs": [],
   "source": [
    "s = [[1,2,3]]"
   ]
  },
  {
   "cell_type": "code",
   "execution_count": 30,
   "id": "895c50b5-e8c6-4f5a-b606-8436bda7f629",
   "metadata": {},
   "outputs": [],
   "source": [
    "data.extend(s)"
   ]
  },
  {
   "cell_type": "code",
   "execution_count": 31,
   "id": "b22999a0-72fd-4fe9-8387-41178ee30490",
   "metadata": {},
   "outputs": [
    {
     "data": {
      "text/plain": [
       "['a', 'b', 'c', 3, 4, 5, 5, 4, 1, 2, 3, [1, 2, 3]]"
      ]
     },
     "execution_count": 31,
     "metadata": {},
     "output_type": "execute_result"
    }
   ],
   "source": [
    "data"
   ]
  },
  {
   "cell_type": "code",
   "execution_count": 32,
   "id": "943a7fc8-1b93-4224-9a68-b7be307cd57f",
   "metadata": {},
   "outputs": [],
   "source": [
    "st = 'hey'"
   ]
  },
  {
   "cell_type": "code",
   "execution_count": 33,
   "id": "fd20e8a3-db00-401a-9f99-4d773d1ddcd3",
   "metadata": {},
   "outputs": [],
   "source": [
    "data.extend(st)"
   ]
  },
  {
   "cell_type": "code",
   "execution_count": 34,
   "id": "0dde6736-6090-4dab-adf6-f67f7964e546",
   "metadata": {},
   "outputs": [
    {
     "data": {
      "text/plain": [
       "['a', 'b', 'c', 3, 4, 5, 5, 4, 1, 2, 3, [1, 2, 3], 'h', 'e', 'y']"
      ]
     },
     "execution_count": 34,
     "metadata": {},
     "output_type": "execute_result"
    }
   ],
   "source": [
    "data"
   ]
  },
  {
   "cell_type": "code",
   "execution_count": 35,
   "id": "0d4bdeed-be83-431c-8e79-9f2ec5d296b0",
   "metadata": {},
   "outputs": [
    {
     "data": {
      "text/plain": [
       "['a', 'b', 'c', 3, 4, 5, 5, 4, 1, 2, 3, [1, 2, 3], 'h', 'e', 'y']"
      ]
     },
     "execution_count": 35,
     "metadata": {},
     "output_type": "execute_result"
    }
   ],
   "source": [
    "data"
   ]
  },
  {
   "cell_type": "code",
   "execution_count": 36,
   "id": "819d53da-272a-42f1-b68a-66a914f1eb56",
   "metadata": {},
   "outputs": [],
   "source": [
    "s= {12,3,4}"
   ]
  },
  {
   "cell_type": "code",
   "execution_count": 37,
   "id": "1002ceb0-a032-4a4e-986a-4638f166f3b9",
   "metadata": {},
   "outputs": [],
   "source": [
    "data.extend(s)"
   ]
  },
  {
   "cell_type": "code",
   "execution_count": 38,
   "id": "fffda47a-cc84-4805-affd-02b0dfb05879",
   "metadata": {},
   "outputs": [
    {
     "data": {
      "text/plain": [
       "['a', 'b', 'c', 3, 4, 5, 5, 4, 1, 2, 3, [1, 2, 3], 'h', 'e', 'y', 3, 12, 4]"
      ]
     },
     "execution_count": 38,
     "metadata": {},
     "output_type": "execute_result"
    }
   ],
   "source": [
    "data"
   ]
  },
  {
   "cell_type": "code",
   "execution_count": 39,
   "id": "0c50c817-573d-4940-b5ef-12e3ac9dfbbd",
   "metadata": {},
   "outputs": [
    {
     "data": {
      "text/plain": [
       "list"
      ]
     },
     "execution_count": 39,
     "metadata": {},
     "output_type": "execute_result"
    }
   ],
   "source": [
    "type(data)"
   ]
  },
  {
   "cell_type": "code",
   "execution_count": 40,
   "id": "75cfbe4d-5264-4455-b46e-08712d4d3ab0",
   "metadata": {},
   "outputs": [],
   "source": [
    "# 'index', 'insert', 'pop', 'remove', 'reverse', 'sort', 'copy',\n"
   ]
  },
  {
   "cell_type": "code",
   "execution_count": 42,
   "id": "89678b53-e090-4ab4-afe8-247a1e430f15",
   "metadata": {},
   "outputs": [],
   "source": [
    "# index"
   ]
  },
  {
   "cell_type": "code",
   "execution_count": 43,
   "id": "abeea185-dc1d-4ed1-9b16-1e11813f6c4a",
   "metadata": {},
   "outputs": [
    {
     "name": "stdout",
     "output_type": "stream",
     "text": [
      "Help on built-in function index:\n",
      "\n",
      "index(value, start=0, stop=9223372036854775807, /) method of builtins.list instance\n",
      "    Return first index of value.\n",
      "    \n",
      "    Raises ValueError if the value is not present.\n",
      "\n"
     ]
    }
   ],
   "source": [
    "help(data.index)"
   ]
  },
  {
   "cell_type": "code",
   "execution_count": 44,
   "id": "8b32aa85-d8e4-4eb5-951e-2479514521eb",
   "metadata": {},
   "outputs": [
    {
     "data": {
      "text/plain": [
       "8"
      ]
     },
     "execution_count": 44,
     "metadata": {},
     "output_type": "execute_result"
    }
   ],
   "source": [
    "data.index(1)"
   ]
  },
  {
   "cell_type": "code",
   "execution_count": 45,
   "id": "77ef76c5-8c68-4da6-a37c-915b882b363e",
   "metadata": {},
   "outputs": [
    {
     "ename": "ValueError",
     "evalue": "10 is not in list",
     "output_type": "error",
     "traceback": [
      "\u001b[1;31m---------------------------------------------------------------------------\u001b[0m",
      "\u001b[1;31mValueError\u001b[0m                                Traceback (most recent call last)",
      "Cell \u001b[1;32mIn[45], line 1\u001b[0m\n\u001b[1;32m----> 1\u001b[0m \u001b[43mdata\u001b[49m\u001b[38;5;241;43m.\u001b[39;49m\u001b[43mindex\u001b[49m\u001b[43m(\u001b[49m\u001b[38;5;241;43m10\u001b[39;49m\u001b[43m)\u001b[49m\n",
      "\u001b[1;31mValueError\u001b[0m: 10 is not in list"
     ]
    }
   ],
   "source": [
    "data.index(10)"
   ]
  },
  {
   "cell_type": "code",
   "execution_count": 46,
   "id": "1033cb13-3298-41e7-aef5-6d53f4ab40ff",
   "metadata": {},
   "outputs": [
    {
     "data": {
      "text/plain": [
       "5"
      ]
     },
     "execution_count": 46,
     "metadata": {},
     "output_type": "execute_result"
    }
   ],
   "source": [
    "data.index(5,2)"
   ]
  },
  {
   "cell_type": "code",
   "execution_count": 47,
   "id": "9769b859-802f-4b95-869c-65e4189f8e0d",
   "metadata": {},
   "outputs": [
    {
     "data": {
      "text/plain": [
       "['a', 'b', 'c', 3, 4, 5, 5, 4, 1, 2, 3, [1, 2, 3], 'h', 'e', 'y', 3, 12, 4]"
      ]
     },
     "execution_count": 47,
     "metadata": {},
     "output_type": "execute_result"
    }
   ],
   "source": [
    "data"
   ]
  },
  {
   "cell_type": "code",
   "execution_count": 48,
   "id": "9d0f1f37-3832-4481-a4cf-463d729b2230",
   "metadata": {},
   "outputs": [
    {
     "data": {
      "text/plain": [
       "5"
      ]
     },
     "execution_count": 48,
     "metadata": {},
     "output_type": "execute_result"
    }
   ],
   "source": [
    "data.index(5,5)"
   ]
  },
  {
   "cell_type": "code",
   "execution_count": 49,
   "id": "15a15e12-54aa-4c6e-9c44-0bed6bff8f98",
   "metadata": {},
   "outputs": [
    {
     "data": {
      "text/plain": [
       "6"
      ]
     },
     "execution_count": 49,
     "metadata": {},
     "output_type": "execute_result"
    }
   ],
   "source": [
    "data.index(5,6)"
   ]
  },
  {
   "cell_type": "code",
   "execution_count": 50,
   "id": "6b770cd7-a711-48de-ba3a-cefa8e388f93",
   "metadata": {},
   "outputs": [],
   "source": [
    "# 'insert', 'pop', 'remove', 'reverse', 'sort', 'copy',\n"
   ]
  },
  {
   "cell_type": "code",
   "execution_count": 51,
   "id": "4a9d06df-f348-4cd4-a68c-c9efd48158dd",
   "metadata": {},
   "outputs": [],
   "source": [
    "data =  ['a','b','c',3,4,5]"
   ]
  },
  {
   "cell_type": "code",
   "execution_count": 52,
   "id": "c0f9fae5-bf5f-4232-8caf-3bcbde2d9417",
   "metadata": {},
   "outputs": [
    {
     "name": "stdout",
     "output_type": "stream",
     "text": [
      "Help on built-in function insert:\n",
      "\n",
      "insert(index, object, /) method of builtins.list instance\n",
      "    Insert object before index.\n",
      "\n"
     ]
    }
   ],
   "source": [
    "help(data.insert)"
   ]
  },
  {
   "cell_type": "code",
   "execution_count": 53,
   "id": "2b4b5124-f97d-4c12-a41e-127170aaad2b",
   "metadata": {},
   "outputs": [],
   "source": [
    "data.insert(1,'z')"
   ]
  },
  {
   "cell_type": "code",
   "execution_count": 54,
   "id": "ef411fe7-d88f-4bef-a2c1-b42dc5481226",
   "metadata": {},
   "outputs": [
    {
     "data": {
      "text/plain": [
       "['a', 'z', 'b', 'c', 3, 4, 5]"
      ]
     },
     "execution_count": 54,
     "metadata": {},
     "output_type": "execute_result"
    }
   ],
   "source": [
    "data"
   ]
  },
  {
   "cell_type": "code",
   "execution_count": 56,
   "id": "a50ac4ef-1ee5-4559-99f7-9bbc4e1bfcaa",
   "metadata": {},
   "outputs": [],
   "source": [
    "data.insert(9,7)"
   ]
  },
  {
   "cell_type": "code",
   "execution_count": 57,
   "id": "db9c0061-1bdb-438e-823a-4ae4e171991c",
   "metadata": {},
   "outputs": [
    {
     "data": {
      "text/plain": [
       "['a', 'z', 'b', 'c', 3, 4, 5, 7]"
      ]
     },
     "execution_count": 57,
     "metadata": {},
     "output_type": "execute_result"
    }
   ],
   "source": [
    "data"
   ]
  },
  {
   "cell_type": "code",
   "execution_count": 58,
   "id": "509e8aef-5652-4fcd-ae9a-6f131afbe262",
   "metadata": {},
   "outputs": [],
   "source": [
    "# 'pop',"
   ]
  },
  {
   "cell_type": "code",
   "execution_count": 59,
   "id": "324c535d-dafd-4b4d-8a7e-15f0ca40737e",
   "metadata": {},
   "outputs": [
    {
     "data": {
      "text/plain": [
       "['a', 'z', 'b', 'c', 3, 4, 5, 7]"
      ]
     },
     "execution_count": 59,
     "metadata": {},
     "output_type": "execute_result"
    }
   ],
   "source": [
    "data"
   ]
  },
  {
   "cell_type": "code",
   "execution_count": 60,
   "id": "fb66931f-5cf1-4552-a588-3258c4e206dd",
   "metadata": {},
   "outputs": [
    {
     "name": "stdout",
     "output_type": "stream",
     "text": [
      "Help on built-in function pop:\n",
      "\n",
      "pop(index=-1, /) method of builtins.list instance\n",
      "    Remove and return item at index (default last).\n",
      "    \n",
      "    Raises IndexError if list is empty or index is out of range.\n",
      "\n"
     ]
    }
   ],
   "source": [
    "help(data.pop)"
   ]
  },
  {
   "cell_type": "code",
   "execution_count": 61,
   "id": "77e2f775-eade-4f79-b379-6a775b5fcdef",
   "metadata": {},
   "outputs": [
    {
     "data": {
      "text/plain": [
       "7"
      ]
     },
     "execution_count": 61,
     "metadata": {},
     "output_type": "execute_result"
    }
   ],
   "source": [
    "data.pop()"
   ]
  },
  {
   "cell_type": "code",
   "execution_count": 62,
   "id": "d2415d92-7100-4c61-80e9-d70c3a22eee6",
   "metadata": {},
   "outputs": [
    {
     "data": {
      "text/plain": [
       "'z'"
      ]
     },
     "execution_count": 62,
     "metadata": {},
     "output_type": "execute_result"
    }
   ],
   "source": [
    "data.pop(1)"
   ]
  },
  {
   "cell_type": "code",
   "execution_count": 63,
   "id": "20ee39fb-0694-4ee4-a423-5ffd735e56e6",
   "metadata": {},
   "outputs": [
    {
     "data": {
      "text/plain": [
       "['a', 'b', 'c', 3, 4, 5]"
      ]
     },
     "execution_count": 63,
     "metadata": {},
     "output_type": "execute_result"
    }
   ],
   "source": [
    "data"
   ]
  },
  {
   "cell_type": "code",
   "execution_count": 64,
   "id": "ef96aa50-aec1-475b-a365-a01542a18db4",
   "metadata": {},
   "outputs": [],
   "source": [
    "l = []\n"
   ]
  },
  {
   "cell_type": "code",
   "execution_count": 65,
   "id": "cfe9adb8-0506-46da-b7fd-0335b0e59eb0",
   "metadata": {},
   "outputs": [
    {
     "ename": "IndexError",
     "evalue": "pop from empty list",
     "output_type": "error",
     "traceback": [
      "\u001b[1;31m---------------------------------------------------------------------------\u001b[0m",
      "\u001b[1;31mIndexError\u001b[0m                                Traceback (most recent call last)",
      "Cell \u001b[1;32mIn[65], line 1\u001b[0m\n\u001b[1;32m----> 1\u001b[0m \u001b[43ml\u001b[49m\u001b[38;5;241;43m.\u001b[39;49m\u001b[43mpop\u001b[49m\u001b[43m(\u001b[49m\u001b[43m)\u001b[49m\n",
      "\u001b[1;31mIndexError\u001b[0m: pop from empty list"
     ]
    }
   ],
   "source": [
    "l.pop()"
   ]
  },
  {
   "cell_type": "code",
   "execution_count": 66,
   "id": "2aa40d50-d148-498f-ad3f-f9a9e4e9a441",
   "metadata": {},
   "outputs": [],
   "source": [
    " # 'remove', 'reverse', 'sort', 'copy',\n"
   ]
  },
  {
   "cell_type": "code",
   "execution_count": 67,
   "id": "565db9eb-8d18-4cf4-b01d-62ea7b811912",
   "metadata": {},
   "outputs": [
    {
     "name": "stdout",
     "output_type": "stream",
     "text": [
      "Help on built-in function remove:\n",
      "\n",
      "remove(value, /) method of builtins.list instance\n",
      "    Remove first occurrence of value.\n",
      "    \n",
      "    Raises ValueError if the value is not present.\n",
      "\n"
     ]
    }
   ],
   "source": [
    "help(data.remove)"
   ]
  },
  {
   "cell_type": "code",
   "execution_count": 68,
   "id": "d30b33ca-0f50-4fe7-80ee-9a1aa8daac96",
   "metadata": {},
   "outputs": [
    {
     "ename": "TypeError",
     "evalue": "list.remove() takes exactly one argument (0 given)",
     "output_type": "error",
     "traceback": [
      "\u001b[1;31m---------------------------------------------------------------------------\u001b[0m",
      "\u001b[1;31mTypeError\u001b[0m                                 Traceback (most recent call last)",
      "Cell \u001b[1;32mIn[68], line 1\u001b[0m\n\u001b[1;32m----> 1\u001b[0m \u001b[43mdata\u001b[49m\u001b[38;5;241;43m.\u001b[39;49m\u001b[43mremove\u001b[49m\u001b[43m(\u001b[49m\u001b[43m)\u001b[49m\n",
      "\u001b[1;31mTypeError\u001b[0m: list.remove() takes exactly one argument (0 given)"
     ]
    }
   ],
   "source": [
    "data.remove()"
   ]
  },
  {
   "cell_type": "code",
   "execution_count": 69,
   "id": "048c040e-a73b-4cc0-816a-8ab2780657d1",
   "metadata": {},
   "outputs": [
    {
     "ename": "ValueError",
     "evalue": "list.remove(x): x not in list",
     "output_type": "error",
     "traceback": [
      "\u001b[1;31m---------------------------------------------------------------------------\u001b[0m",
      "\u001b[1;31mValueError\u001b[0m                                Traceback (most recent call last)",
      "Cell \u001b[1;32mIn[69], line 1\u001b[0m\n\u001b[1;32m----> 1\u001b[0m \u001b[43mdata\u001b[49m\u001b[38;5;241;43m.\u001b[39;49m\u001b[43mremove\u001b[49m\u001b[43m(\u001b[49m\u001b[38;5;241;43m1\u001b[39;49m\u001b[43m)\u001b[49m\n",
      "\u001b[1;31mValueError\u001b[0m: list.remove(x): x not in list"
     ]
    }
   ],
   "source": [
    "data.remove(1)"
   ]
  },
  {
   "cell_type": "code",
   "execution_count": 70,
   "id": "8f3e6dc5-0056-4a09-8a0c-640a7087c9be",
   "metadata": {},
   "outputs": [],
   "source": [
    "data.remove(3)"
   ]
  },
  {
   "cell_type": "code",
   "execution_count": 71,
   "id": "5804caeb-7d84-4d47-8a74-7b421bd7f0cd",
   "metadata": {},
   "outputs": [
    {
     "data": {
      "text/plain": [
       "['a', 'b', 'c', 4, 5]"
      ]
     },
     "execution_count": 71,
     "metadata": {},
     "output_type": "execute_result"
    }
   ],
   "source": [
    "data"
   ]
  },
  {
   "cell_type": "code",
   "execution_count": 72,
   "id": "65b6792c-3f3d-4e35-a60f-ea03df6520aa",
   "metadata": {},
   "outputs": [],
   "source": [
    "data.insert(3,3)"
   ]
  },
  {
   "cell_type": "code",
   "execution_count": 73,
   "id": "b7f1586c-52c9-40e9-a936-bc731b2b95db",
   "metadata": {},
   "outputs": [
    {
     "data": {
      "text/plain": [
       "['a', 'b', 'c', 3, 4, 5]"
      ]
     },
     "execution_count": 73,
     "metadata": {},
     "output_type": "execute_result"
    }
   ],
   "source": [
    "data"
   ]
  },
  {
   "cell_type": "code",
   "execution_count": 74,
   "id": "ba7a870c-e9c5-43bd-b9d6-6ba8a2e14ee5",
   "metadata": {},
   "outputs": [
    {
     "name": "stdout",
     "output_type": "stream",
     "text": [
      "Help on built-in function insert:\n",
      "\n",
      "insert(index, object, /) method of builtins.list instance\n",
      "    Insert object before index.\n",
      "\n"
     ]
    }
   ],
   "source": [
    "help(data.insert)"
   ]
  },
  {
   "cell_type": "code",
   "execution_count": 75,
   "id": "26742e49-625a-4179-85a7-ebbd77d43a38",
   "metadata": {},
   "outputs": [],
   "source": [
    "# 'reverse',"
   ]
  },
  {
   "cell_type": "code",
   "execution_count": 76,
   "id": "e2a9fe46-134b-42d8-a726-46eb895f422e",
   "metadata": {},
   "outputs": [
    {
     "data": {
      "text/plain": [
       "['a', 'b', 'c', 3, 4, 5]"
      ]
     },
     "execution_count": 76,
     "metadata": {},
     "output_type": "execute_result"
    }
   ],
   "source": [
    "data"
   ]
  },
  {
   "cell_type": "code",
   "execution_count": 77,
   "id": "5cc2576f-738a-4084-bacd-f9f7fed27048",
   "metadata": {},
   "outputs": [
    {
     "name": "stdout",
     "output_type": "stream",
     "text": [
      "Help on built-in function reverse:\n",
      "\n",
      "reverse() method of builtins.list instance\n",
      "    Reverse *IN PLACE*.\n",
      "\n"
     ]
    }
   ],
   "source": [
    "help(data.reverse)"
   ]
  },
  {
   "cell_type": "code",
   "execution_count": 78,
   "id": "28e93ff2-66e1-4a80-b8a3-9531e177b63d",
   "metadata": {},
   "outputs": [
    {
     "data": {
      "text/plain": [
       "<function list.reverse()>"
      ]
     },
     "execution_count": 78,
     "metadata": {},
     "output_type": "execute_result"
    }
   ],
   "source": [
    "data.reverse"
   ]
  },
  {
   "cell_type": "code",
   "execution_count": 79,
   "id": "6521b230-7680-478d-9133-3e26660f828e",
   "metadata": {},
   "outputs": [],
   "source": [
    "data.reverse()"
   ]
  },
  {
   "cell_type": "code",
   "execution_count": 80,
   "id": "148e9b3f-a35e-4666-80e4-bf4098091b41",
   "metadata": {},
   "outputs": [
    {
     "data": {
      "text/plain": [
       "[5, 4, 3, 'c', 'b', 'a']"
      ]
     },
     "execution_count": 80,
     "metadata": {},
     "output_type": "execute_result"
    }
   ],
   "source": [
    "data"
   ]
  },
  {
   "cell_type": "code",
   "execution_count": 81,
   "id": "47f62cd6-a038-4bba-b903-36ae0fc3b9fc",
   "metadata": {},
   "outputs": [],
   "source": [
    "data.reverse()"
   ]
  },
  {
   "cell_type": "code",
   "execution_count": 82,
   "id": "75cb2524-28c6-4b8f-8505-dce3569966ed",
   "metadata": {},
   "outputs": [
    {
     "data": {
      "text/plain": [
       "['a', 'b', 'c', 3, 4, 5]"
      ]
     },
     "execution_count": 82,
     "metadata": {},
     "output_type": "execute_result"
    }
   ],
   "source": [
    "data"
   ]
  },
  {
   "cell_type": "code",
   "execution_count": 83,
   "id": "cafc2e8a-5050-4f05-a0cc-14262a77c8c5",
   "metadata": {},
   "outputs": [],
   "source": [
    " # 'sort',"
   ]
  },
  {
   "cell_type": "code",
   "execution_count": null,
   "id": "ea91a0a0-e6e5-4821-b1e9-7ad286b52fe8",
   "metadata": {},
   "outputs": [],
   "source": []
  },
  {
   "cell_type": "code",
   "execution_count": 84,
   "id": "c33dbf65-7b27-4c6f-ba35-08bb07285941",
   "metadata": {},
   "outputs": [
    {
     "name": "stdout",
     "output_type": "stream",
     "text": [
      "Help on built-in function sort:\n",
      "\n",
      "sort(*, key=None, reverse=False) method of builtins.list instance\n",
      "    Sort the list in ascending order and return None.\n",
      "    \n",
      "    The sort is in-place (i.e. the list itself is modified) and stable (i.e. the\n",
      "    order of two equal elements is maintained).\n",
      "    \n",
      "    If a key function is given, apply it once to each list item and sort them,\n",
      "    ascending or descending, according to their function values.\n",
      "    \n",
      "    The reverse flag can be set to sort in descending order.\n",
      "\n"
     ]
    }
   ],
   "source": [
    "help(data.sort)"
   ]
  },
  {
   "cell_type": "code",
   "execution_count": 85,
   "id": "f27f3f96-c87d-47f0-acf6-9406ee7b20bd",
   "metadata": {},
   "outputs": [
    {
     "ename": "TypeError",
     "evalue": "'<' not supported between instances of 'int' and 'str'",
     "output_type": "error",
     "traceback": [
      "\u001b[1;31m---------------------------------------------------------------------------\u001b[0m",
      "\u001b[1;31mTypeError\u001b[0m                                 Traceback (most recent call last)",
      "Cell \u001b[1;32mIn[85], line 1\u001b[0m\n\u001b[1;32m----> 1\u001b[0m \u001b[43mdata\u001b[49m\u001b[38;5;241;43m.\u001b[39;49m\u001b[43msort\u001b[49m\u001b[43m(\u001b[49m\u001b[43m)\u001b[49m\n",
      "\u001b[1;31mTypeError\u001b[0m: '<' not supported between instances of 'int' and 'str'"
     ]
    }
   ],
   "source": [
    "data.sort()"
   ]
  },
  {
   "cell_type": "code",
   "execution_count": 86,
   "id": "25f62003-2b7a-4c8f-a064-867e4887c645",
   "metadata": {},
   "outputs": [],
   "source": [
    "d = [1,2,3,4,5,6]"
   ]
  },
  {
   "cell_type": "code",
   "execution_count": 87,
   "id": "5ce91f22-49a8-4eb0-a294-32e749a95e95",
   "metadata": {},
   "outputs": [],
   "source": [
    "d.sort()"
   ]
  },
  {
   "cell_type": "code",
   "execution_count": 88,
   "id": "431972d6-490b-42fc-9f58-d836960a3d0c",
   "metadata": {},
   "outputs": [
    {
     "data": {
      "text/plain": [
       "[1, 2, 3, 4, 5, 6]"
      ]
     },
     "execution_count": 88,
     "metadata": {},
     "output_type": "execute_result"
    }
   ],
   "source": [
    "d"
   ]
  },
  {
   "cell_type": "code",
   "execution_count": 89,
   "id": "1d3ae2f5-e63b-47e0-9ba6-3ed80eeaf9a6",
   "metadata": {},
   "outputs": [],
   "source": [
    "d.sort(reverse = True)"
   ]
  },
  {
   "cell_type": "code",
   "execution_count": 90,
   "id": "b21b3252-cd66-4765-917b-855c09a8ec10",
   "metadata": {},
   "outputs": [
    {
     "data": {
      "text/plain": [
       "[6, 5, 4, 3, 2, 1]"
      ]
     },
     "execution_count": 90,
     "metadata": {},
     "output_type": "execute_result"
    }
   ],
   "source": [
    "d"
   ]
  },
  {
   "cell_type": "code",
   "execution_count": 91,
   "id": "f9030eaa-cb2e-48a4-bd07-5dd6b6763354",
   "metadata": {},
   "outputs": [
    {
     "data": {
      "text/plain": [
       "['a', 'b', 'c', 3, 4, 5]"
      ]
     },
     "execution_count": 91,
     "metadata": {},
     "output_type": "execute_result"
    }
   ],
   "source": [
    "data"
   ]
  },
  {
   "cell_type": "code",
   "execution_count": 92,
   "id": "0c8e605c-a8f8-40ac-a8cf-7e3483f43948",
   "metadata": {},
   "outputs": [
    {
     "data": {
      "text/plain": [
       "[6, 5, 4, 3, 2, 1]"
      ]
     },
     "execution_count": 92,
     "metadata": {},
     "output_type": "execute_result"
    }
   ],
   "source": [
    "d"
   ]
  },
  {
   "cell_type": "code",
   "execution_count": 93,
   "id": "ba8c9c41-1573-487e-aa84-4ef0c773a777",
   "metadata": {},
   "outputs": [],
   "source": [
    " # 'copy',"
   ]
  },
  {
   "cell_type": "code",
   "execution_count": null,
   "id": "a1b19e71-670a-430c-965e-c008b6c1e20d",
   "metadata": {},
   "outputs": [],
   "source": [
    "# value copy , reference copy "
   ]
  },
  {
   "cell_type": "code",
   "execution_count": 94,
   "id": "4a27d9ca-784d-405c-a996-6ae5516965d0",
   "metadata": {},
   "outputs": [],
   "source": [
    "# reference copy\n",
    "\n",
    "a = [1,2]\n",
    "\n",
    "b = a"
   ]
  },
  {
   "cell_type": "code",
   "execution_count": 95,
   "id": "460e1bcc-6b65-485f-8946-069f420baae3",
   "metadata": {},
   "outputs": [
    {
     "data": {
      "text/plain": [
       "[1, 2]"
      ]
     },
     "execution_count": 95,
     "metadata": {},
     "output_type": "execute_result"
    }
   ],
   "source": [
    "a"
   ]
  },
  {
   "cell_type": "code",
   "execution_count": 96,
   "id": "c4dad925-b162-42fa-9ea2-035a5bf1184b",
   "metadata": {},
   "outputs": [
    {
     "data": {
      "text/plain": [
       "[1, 2]"
      ]
     },
     "execution_count": 96,
     "metadata": {},
     "output_type": "execute_result"
    }
   ],
   "source": [
    "b"
   ]
  },
  {
   "cell_type": "code",
   "execution_count": 97,
   "id": "8fca8644-8226-4981-8bd2-8113c10eef3d",
   "metadata": {},
   "outputs": [],
   "source": [
    "b.append(3)"
   ]
  },
  {
   "cell_type": "code",
   "execution_count": 98,
   "id": "94136d1e-3514-4e43-9c9b-91419cced46d",
   "metadata": {},
   "outputs": [
    {
     "data": {
      "text/plain": [
       "[1, 2, 3]"
      ]
     },
     "execution_count": 98,
     "metadata": {},
     "output_type": "execute_result"
    }
   ],
   "source": [
    "a"
   ]
  },
  {
   "cell_type": "code",
   "execution_count": 99,
   "id": "8dd980ea-e05a-465f-b621-17caca4e5224",
   "metadata": {},
   "outputs": [
    {
     "data": {
      "text/plain": [
       "[1, 2, 3]"
      ]
     },
     "execution_count": 99,
     "metadata": {},
     "output_type": "execute_result"
    }
   ],
   "source": [
    "b"
   ]
  },
  {
   "cell_type": "code",
   "execution_count": 100,
   "id": "4ca16d8a-4b15-4c24-9286-e7c1ee42248f",
   "metadata": {},
   "outputs": [
    {
     "name": "stdout",
     "output_type": "stream",
     "text": [
      "Help on built-in function copy:\n",
      "\n",
      "copy() method of builtins.list instance\n",
      "    Return a shallow copy of the list.\n",
      "\n"
     ]
    }
   ],
   "source": [
    "help(a.copy)"
   ]
  },
  {
   "cell_type": "code",
   "execution_count": 101,
   "id": "4eba591b-594d-4ab1-a295-38505ab33a71",
   "metadata": {},
   "outputs": [
    {
     "data": {
      "text/plain": [
       "2586893635840"
      ]
     },
     "execution_count": 101,
     "metadata": {},
     "output_type": "execute_result"
    }
   ],
   "source": [
    "id(a)"
   ]
  },
  {
   "cell_type": "code",
   "execution_count": 102,
   "id": "83ffd332-712d-4094-ab79-a22a8a9c8e4c",
   "metadata": {},
   "outputs": [
    {
     "data": {
      "text/plain": [
       "2586893635840"
      ]
     },
     "execution_count": 102,
     "metadata": {},
     "output_type": "execute_result"
    }
   ],
   "source": [
    "id(b)"
   ]
  },
  {
   "cell_type": "code",
   "execution_count": 103,
   "id": "cb4d7c91-787b-493b-8ad6-8a14ae9fe65d",
   "metadata": {},
   "outputs": [],
   "source": [
    "# value copy\n"
   ]
  },
  {
   "cell_type": "code",
   "execution_count": 104,
   "id": "0ba1ccd7-fb56-4ea9-8e11-267829ae3e6d",
   "metadata": {},
   "outputs": [],
   "source": [
    "a = [1,2]"
   ]
  },
  {
   "cell_type": "code",
   "execution_count": 105,
   "id": "53c76157-c972-4036-8bd4-8f1667d14e59",
   "metadata": {},
   "outputs": [
    {
     "data": {
      "text/plain": [
       "2586893785344"
      ]
     },
     "execution_count": 105,
     "metadata": {},
     "output_type": "execute_result"
    }
   ],
   "source": [
    "id(a)"
   ]
  },
  {
   "cell_type": "code",
   "execution_count": 106,
   "id": "f6d44d22-a1a6-4dc8-a843-0db13e759b62",
   "metadata": {},
   "outputs": [],
   "source": [
    "b = a.copy()"
   ]
  },
  {
   "cell_type": "code",
   "execution_count": 107,
   "id": "1635c5de-abd5-4951-b7a4-b382734a9434",
   "metadata": {},
   "outputs": [
    {
     "data": {
      "text/plain": [
       "2586893261440"
      ]
     },
     "execution_count": 107,
     "metadata": {},
     "output_type": "execute_result"
    }
   ],
   "source": [
    "id(b)"
   ]
  },
  {
   "cell_type": "code",
   "execution_count": 108,
   "id": "a857540d-e9f1-463c-83ff-1265f4abe8fb",
   "metadata": {},
   "outputs": [],
   "source": [
    "b.append(3)"
   ]
  },
  {
   "cell_type": "code",
   "execution_count": 109,
   "id": "0a4b2034-aca6-4b19-a6df-7f1f3467b4e6",
   "metadata": {},
   "outputs": [
    {
     "data": {
      "text/plain": [
       "[1, 2, 3]"
      ]
     },
     "execution_count": 109,
     "metadata": {},
     "output_type": "execute_result"
    }
   ],
   "source": [
    "b"
   ]
  },
  {
   "cell_type": "code",
   "execution_count": 110,
   "id": "202dbf2b-3280-4d9b-b179-39acce95dff7",
   "metadata": {},
   "outputs": [
    {
     "data": {
      "text/plain": [
       "[1, 2]"
      ]
     },
     "execution_count": 110,
     "metadata": {},
     "output_type": "execute_result"
    }
   ],
   "source": [
    "a"
   ]
  },
  {
   "cell_type": "code",
   "execution_count": 111,
   "id": "9ba389ef-eb14-4fed-a6bc-cae3b88d98c1",
   "metadata": {},
   "outputs": [],
   "source": [
    "\n",
    "\n",
    "# difference btw '==' and 'is'\n"
   ]
  },
  {
   "cell_type": "code",
   "execution_count": 112,
   "id": "71d659bd-4688-4f40-85db-127677b66107",
   "metadata": {},
   "outputs": [],
   "source": [
    "\n",
    "# ==\n",
    "a = [1,2]\n",
    "b = [3,4]"
   ]
  },
  {
   "cell_type": "code",
   "execution_count": 113,
   "id": "17b81b9a-ecc5-40bc-812b-266540a3a24d",
   "metadata": {},
   "outputs": [
    {
     "data": {
      "text/plain": [
       "False"
      ]
     },
     "execution_count": 113,
     "metadata": {},
     "output_type": "execute_result"
    }
   ],
   "source": [
    "a == b"
   ]
  },
  {
   "cell_type": "code",
   "execution_count": 114,
   "id": "2b7a9347-d0d4-490a-8f95-548c9f0a633c",
   "metadata": {},
   "outputs": [],
   "source": [
    "a = [1,2]\n",
    "b = [1,2]"
   ]
  },
  {
   "cell_type": "code",
   "execution_count": 115,
   "id": "99487351-56f3-43cf-ad00-1740265fe16c",
   "metadata": {},
   "outputs": [
    {
     "data": {
      "text/plain": [
       "True"
      ]
     },
     "execution_count": 115,
     "metadata": {},
     "output_type": "execute_result"
    }
   ],
   "source": [
    "a == b\n"
   ]
  },
  {
   "cell_type": "code",
   "execution_count": 116,
   "id": "5363314e-0e4c-4530-aaba-43fcde6b0861",
   "metadata": {},
   "outputs": [],
   "source": [
    "a = [1,2]\n",
    "b = 1,2"
   ]
  },
  {
   "cell_type": "code",
   "execution_count": 117,
   "id": "c13b0f9e-50a5-4e1d-bbd6-b54e69ea01a5",
   "metadata": {},
   "outputs": [
    {
     "data": {
      "text/plain": [
       "tuple"
      ]
     },
     "execution_count": 117,
     "metadata": {},
     "output_type": "execute_result"
    }
   ],
   "source": [
    "type(b)"
   ]
  },
  {
   "cell_type": "code",
   "execution_count": 118,
   "id": "e04a1bf5-d631-446f-ba7f-bf9b3c5274da",
   "metadata": {},
   "outputs": [
    {
     "data": {
      "text/plain": [
       "False"
      ]
     },
     "execution_count": 118,
     "metadata": {},
     "output_type": "execute_result"
    }
   ],
   "source": [
    "a == b"
   ]
  },
  {
   "cell_type": "code",
   "execution_count": 119,
   "id": "40015937-2158-4630-8574-2fd67e577005",
   "metadata": {},
   "outputs": [
    {
     "data": {
      "text/plain": [
       "False"
      ]
     },
     "execution_count": 119,
     "metadata": {},
     "output_type": "execute_result"
    }
   ],
   "source": [
    "a is b"
   ]
  },
  {
   "cell_type": "code",
   "execution_count": 126,
   "id": "b90d2d10-6100-4a9f-96cf-f7e04893bf22",
   "metadata": {},
   "outputs": [],
   "source": [
    "a = [1,2]\n",
    "b = [1,2]"
   ]
  },
  {
   "cell_type": "code",
   "execution_count": 127,
   "id": "17c02188-d4a1-4050-91a6-5f8d6950383c",
   "metadata": {},
   "outputs": [
    {
     "data": {
      "text/plain": [
       "False"
      ]
     },
     "execution_count": 127,
     "metadata": {},
     "output_type": "execute_result"
    }
   ],
   "source": [
    "a is b"
   ]
  },
  {
   "cell_type": "code",
   "execution_count": 128,
   "id": "79663cbd-0142-447c-aac6-457b18657eec",
   "metadata": {},
   "outputs": [
    {
     "data": {
      "text/plain": [
       "2586893632960"
      ]
     },
     "execution_count": 128,
     "metadata": {},
     "output_type": "execute_result"
    }
   ],
   "source": [
    "id(a)"
   ]
  },
  {
   "cell_type": "code",
   "execution_count": 129,
   "id": "0543289e-8eeb-4632-81cc-e7ebc4d5a02c",
   "metadata": {},
   "outputs": [
    {
     "data": {
      "text/plain": [
       "2586893272448"
      ]
     },
     "execution_count": 129,
     "metadata": {},
     "output_type": "execute_result"
    }
   ],
   "source": [
    "id(b)"
   ]
  },
  {
   "cell_type": "code",
   "execution_count": 130,
   "id": "fb5b23ee-4079-44ec-b7b6-3399ba2d1634",
   "metadata": {},
   "outputs": [],
   "source": [
    "a1 = [1,2]\n",
    "b1 = [1,2]"
   ]
  },
  {
   "cell_type": "code",
   "execution_count": 131,
   "id": "ccfc53dc-a42d-419a-b32c-b277bc4ea9d8",
   "metadata": {},
   "outputs": [
    {
     "data": {
      "text/plain": [
       "2586893632960"
      ]
     },
     "execution_count": 131,
     "metadata": {},
     "output_type": "execute_result"
    }
   ],
   "source": [
    "id(a)"
   ]
  },
  {
   "cell_type": "code",
   "execution_count": 132,
   "id": "f3d2cdd5-37db-4a7c-91c2-984e716de79e",
   "metadata": {},
   "outputs": [
    {
     "data": {
      "text/plain": [
       "2586893272448"
      ]
     },
     "execution_count": 132,
     "metadata": {},
     "output_type": "execute_result"
    }
   ],
   "source": [
    "id(b)"
   ]
  },
  {
   "cell_type": "code",
   "execution_count": 133,
   "id": "0f53a772-5d15-4def-a1f1-58a31e548f23",
   "metadata": {},
   "outputs": [
    {
     "data": {
      "text/plain": [
       "True"
      ]
     },
     "execution_count": 133,
     "metadata": {},
     "output_type": "execute_result"
    }
   ],
   "source": [
    "a == b"
   ]
  },
  {
   "cell_type": "code",
   "execution_count": 134,
   "id": "4922b233-90ac-4685-b474-65a5c820dbc2",
   "metadata": {},
   "outputs": [
    {
     "data": {
      "text/plain": [
       "False"
      ]
     },
     "execution_count": 134,
     "metadata": {},
     "output_type": "execute_result"
    }
   ],
   "source": [
    "a is b"
   ]
  },
  {
   "cell_type": "code",
   "execution_count": 135,
   "id": "bd7c6368-552d-4fb5-ba08-127ec4049837",
   "metadata": {},
   "outputs": [],
   "source": [
    "data = [\"a\",\"b\",\"c\",3,4,5]\n",
    "# If it is an integer then add 10 to integer and print\n",
    "# O/p -- a,b,c,13,14,15"
   ]
  },
  {
   "cell_type": "code",
   "execution_count": 139,
   "id": "be2f8154-cfca-42f1-8d82-c67c78e09b44",
   "metadata": {},
   "outputs": [
    {
     "name": "stdout",
     "output_type": "stream",
     "text": [
      "a,b,c,13,14,15,"
     ]
    }
   ],
   "source": [
    "for i in data:\n",
    "    # print(i)\n",
    "    if type(i) == int:\n",
    "        print(i+10 ,end =\",\")\n",
    "    else:\n",
    "        print(i,end= \",\")"
   ]
  },
  {
   "cell_type": "code",
   "execution_count": 140,
   "id": "3930191f-d263-4e54-9aef-508010cc9fdd",
   "metadata": {},
   "outputs": [
    {
     "name": "stdout",
     "output_type": "stream",
     "text": [
      "a,b,c,13,14,15,"
     ]
    }
   ],
   "source": [
    "for i in data:\n",
    "    if isinstance(i,int):\n",
    "        print(i+10 , end = \",\")\n",
    "    else:\n",
    "        print(i,end=\",\")"
   ]
  },
  {
   "cell_type": "code",
   "execution_count": 141,
   "id": "74218735-bdd9-4060-8a73-a1205717b01d",
   "metadata": {},
   "outputs": [
    {
     "name": "stdout",
     "output_type": "stream",
     "text": [
      "a,b,c,13,14,15,"
     ]
    }
   ],
   "source": [
    "for i in data:\n",
    "    print(i+10 if isinstance(i,int) else i ,end = \",\")"
   ]
  },
  {
   "cell_type": "code",
   "execution_count": 144,
   "id": "3afcab42-cb89-493e-8828-2fbe434d6bec",
   "metadata": {},
   "outputs": [],
   "source": [
    "result = []\n",
    "for i in data:\n",
    "    result.append(i+10 if isinstance(i,int) else i)"
   ]
  },
  {
   "cell_type": "code",
   "execution_count": 145,
   "id": "f7ef573c-f86e-4ba2-9dd2-669640c0abf5",
   "metadata": {},
   "outputs": [
    {
     "name": "stdout",
     "output_type": "stream",
     "text": [
      "['a', 'b', 'c', 13, 14, 15]\n"
     ]
    }
   ],
   "source": [
    "print(result)"
   ]
  },
  {
   "cell_type": "code",
   "execution_count": 146,
   "id": "1c6df726-7081-4576-9dfb-56f9bdcac296",
   "metadata": {},
   "outputs": [],
   "source": [
    "# 2 question\n",
    "\n",
    "data1 = [3,4,5,6]\n",
    "data2 = [4,3,2,1]\n",
    "# Result list should be addition of elements in both lists O/p -- Result List -- [7,7,7,7]\n"
   ]
  },
  {
   "cell_type": "code",
   "execution_count": 148,
   "id": "364263c9-48fe-4d72-af56-241d31ddb6e2",
   "metadata": {},
   "outputs": [],
   "source": [
    "result = []\n",
    "for i in range(len(data1)):\n",
    "    data = data1[i] + data2[i]\n",
    "    result.append(data)"
   ]
  },
  {
   "cell_type": "code",
   "execution_count": 149,
   "id": "4080cddd-8097-4904-b2ee-94c49fe4cd0b",
   "metadata": {},
   "outputs": [
    {
     "data": {
      "text/plain": [
       "[7, 7, 7, 7]"
      ]
     },
     "execution_count": 149,
     "metadata": {},
     "output_type": "execute_result"
    }
   ],
   "source": [
    "result"
   ]
  },
  {
   "cell_type": "code",
   "execution_count": 154,
   "id": "a4a4fa43-e23e-4cb6-a23a-0d1bff5be217",
   "metadata": {},
   "outputs": [
    {
     "name": "stdout",
     "output_type": "stream",
     "text": [
      "[(3, 4), (4, 3), (5, 2), (6, 1)]\n"
     ]
    }
   ],
   "source": [
    "result = []\n",
    "for i in range(len(data1)):\n",
    "    data = (data1[i] , data2[i])\n",
    "    result.append(data)\n",
    "print(result)"
   ]
  },
  {
   "cell_type": "code",
   "execution_count": 160,
   "id": "c5612748-3cad-4197-8df9-4b1d5d301102",
   "metadata": {},
   "outputs": [
    {
     "name": "stdout",
     "output_type": "stream",
     "text": [
      "[7, 7, 7, 7]\n",
      "[(3, 4), (4, 3), (5, 2), (6, 1)]\n",
      "{3: 4, 4: 3, 5: 2, 6: 1}\n"
     ]
    }
   ],
   "source": [
    "data1 = [3,4,5,6]\n",
    "data2 = [4,3,2,1]\n",
    "r1 = []\n",
    "r2 = []\n",
    "r3 = {}\n",
    "\n",
    "\n",
    "for i in range(len(data1)):\n",
    "    r1.append(data1[i]+data2[i])\n",
    "    r2.append((data1[i],data2[i]))\n",
    "    r3[data1[i]] = data2[i]\n",
    "print(r1)\n",
    "print(r2)\n",
    "print(r3)"
   ]
  },
  {
   "cell_type": "code",
   "execution_count": null,
   "id": "9da482f2-016e-498a-bc16-f6511857345f",
   "metadata": {},
   "outputs": [],
   "source": []
  },
  {
   "cell_type": "code",
   "execution_count": 161,
   "id": "8ebe6c31-f259-43d8-a3c8-7f64c4f033ad",
   "metadata": {},
   "outputs": [],
   "source": [
    "# data = [1,1,2,3,4,5,1,12,1,2,1,1,2]\n",
    "# remove duplicates without using set? Try with and without a temporary list?"
   ]
  },
  {
   "cell_type": "code",
   "execution_count": 162,
   "id": "d5f5f621-ffae-49f7-813a-4f1be0d715d2",
   "metadata": {},
   "outputs": [],
   "source": [
    "data = [1,1,2,3,4,5,1,12,1,2,1,1,2]"
   ]
  },
  {
   "cell_type": "code",
   "execution_count": 164,
   "id": "0eb24fb4-54bf-48de-bc1d-e5cdc6c53354",
   "metadata": {},
   "outputs": [
    {
     "data": {
      "text/plain": [
       "{1, 2, 3, 4, 5, 12}"
      ]
     },
     "execution_count": 164,
     "metadata": {},
     "output_type": "execute_result"
    }
   ],
   "source": [
    "set(data)"
   ]
  },
  {
   "cell_type": "code",
   "execution_count": 167,
   "id": "ba541164-28d8-4181-81d3-e85b679eefd8",
   "metadata": {},
   "outputs": [
    {
     "data": {
      "text/plain": [
       "[1, 2, 3, 4, 5, 12]"
      ]
     },
     "execution_count": 167,
     "metadata": {},
     "output_type": "execute_result"
    }
   ],
   "source": [
    "list(set(data))"
   ]
  },
  {
   "cell_type": "code",
   "execution_count": 165,
   "id": "8e349fd4-5b6f-4c42-8ce3-ab1486622ea7",
   "metadata": {},
   "outputs": [],
   "source": [
    "result = []\n",
    "\n",
    "for i in data:\n",
    "    if i not in result:\n",
    "        result.append(i)"
   ]
  },
  {
   "cell_type": "code",
   "execution_count": 166,
   "id": "b3d70050-77a7-4519-8b6c-2514d5769557",
   "metadata": {},
   "outputs": [
    {
     "name": "stdout",
     "output_type": "stream",
     "text": [
      "[1, 2, 3, 4, 5, 12]\n"
     ]
    }
   ],
   "source": [
    "print(result)"
   ]
  },
  {
   "cell_type": "code",
   "execution_count": 170,
   "id": "eb591060-1ae0-4606-9dd3-158178483fac",
   "metadata": {},
   "outputs": [
    {
     "name": "stdout",
     "output_type": "stream",
     "text": [
      "[1, 2, 3, 4, 5, 12]\n"
     ]
    }
   ],
   "source": [
    "data = [1,1,2,3,4,5,1,12,1,2,1,1,2]\n",
    "\n",
    "i = 0 \n",
    "\n",
    "while i <len(data):\n",
    "    current_value = data[i] # 0 th element ..........................\n",
    "\n",
    "    j = i+1 # i value \n",
    "    while j <len(data):\n",
    "       if data[j] == current_value: # data[j] data[1] .............\n",
    "           data.pop(j)\n",
    "       else:\n",
    "           j+=1\n",
    "    i +=1\n",
    "print(data)    "
   ]
  },
  {
   "cell_type": "code",
   "execution_count": 169,
   "id": "fe26ac98-c39f-4872-88d6-3415a66a3abd",
   "metadata": {},
   "outputs": [
    {
     "data": {
      "text/plain": [
       "[1, 2, 3, 4, 5, 12]"
      ]
     },
     "execution_count": 169,
     "metadata": {},
     "output_type": "execute_result"
    }
   ],
   "source": [
    "data"
   ]
  },
  {
   "cell_type": "code",
   "execution_count": 171,
   "id": "d04c1d58-4117-496f-9d12-720b0a5e77e2",
   "metadata": {},
   "outputs": [],
   "source": [
    "# 4\n",
    "\n",
    "# S = \"I am in hyderabad\"\n",
    "# Result = \"I Am In Hyderabad\".\n",
    "# Do this without using title ()"
   ]
  },
  {
   "cell_type": "code",
   "execution_count": 172,
   "id": "3e6df4e7-2776-42a5-ab8d-20bdcd5df6f7",
   "metadata": {},
   "outputs": [],
   "source": [
    "S = \"I am in hyderabad\"\n"
   ]
  },
  {
   "cell_type": "code",
   "execution_count": 173,
   "id": "818b4124-8f1c-4764-8083-3d7fe4aef0a9",
   "metadata": {},
   "outputs": [
    {
     "data": {
      "text/plain": [
       "'I Am In Hyderabad'"
      ]
     },
     "execution_count": 173,
     "metadata": {},
     "output_type": "execute_result"
    }
   ],
   "source": [
    "\n",
    "S.title()"
   ]
  },
  {
   "cell_type": "code",
   "execution_count": 174,
   "id": "d6935bf8-f858-46e9-8756-0170ea217136",
   "metadata": {},
   "outputs": [
    {
     "data": {
      "text/plain": [
       "['I', 'am', 'in', 'hyderabad']"
      ]
     },
     "execution_count": 174,
     "metadata": {},
     "output_type": "execute_result"
    }
   ],
   "source": [
    "S.split()"
   ]
  },
  {
   "cell_type": "code",
   "execution_count": 190,
   "id": "5e951ae1-baad-45d3-885d-fd0870465ac4",
   "metadata": {},
   "outputs": [
    {
     "name": "stdout",
     "output_type": "stream",
     "text": [
      "['I', 'Am', 'In', 'Hyderabad']\n"
     ]
    }
   ],
   "source": [
    "data = []\n",
    "for i in S.split():\n",
    "    cap_word = i[0].upper()+i[1:]\n",
    "    data.append(cap_word)\n",
    "    \n",
    "print(data)   "
   ]
  },
  {
   "cell_type": "code",
   "execution_count": 199,
   "id": "46a52b31-9433-4c42-b265-915f9e53c538",
   "metadata": {},
   "outputs": [],
   "source": [
    "data =[i.capitalize() for i in S.split()] \n",
    "\n"
   ]
  },
  {
   "cell_type": "code",
   "execution_count": 200,
   "id": "f69258f3-0910-446b-ba8f-294d79265b85",
   "metadata": {},
   "outputs": [
    {
     "data": {
      "text/plain": [
       "['I', 'Am', 'In', 'Hyderabad']"
      ]
     },
     "execution_count": 200,
     "metadata": {},
     "output_type": "execute_result"
    }
   ],
   "source": [
    "data"
   ]
  },
  {
   "cell_type": "code",
   "execution_count": 202,
   "id": "c7afd720-acf2-4845-8c8a-74a3dd178194",
   "metadata": {},
   "outputs": [
    {
     "data": {
      "text/plain": [
       "str"
      ]
     },
     "execution_count": 202,
     "metadata": {},
     "output_type": "execute_result"
    }
   ],
   "source": [
    "type(data[0])"
   ]
  },
  {
   "cell_type": "code",
   "execution_count": 207,
   "id": "d0745980-f09a-4c4b-b754-e5718e242aa7",
   "metadata": {},
   "outputs": [],
   "source": [
    "s = \"mylist program myfunction program\"\n"
   ]
  },
  {
   "cell_type": "code",
   "execution_count": 208,
   "id": "feacebd3-fb71-4792-8ba1-ca061f535e1d",
   "metadata": {},
   "outputs": [],
   "source": [
    "# print(s.replace(\"program\",\"\"))"
   ]
  },
  {
   "cell_type": "code",
   "execution_count": 213,
   "id": "a490f9b8-819f-4c0f-a8fd-7faf3e93278d",
   "metadata": {},
   "outputs": [
    {
     "name": "stdout",
     "output_type": "stream",
     "text": [
      "mylist\n"
     ]
    }
   ],
   "source": [
    "print(s.split()[0])"
   ]
  },
  {
   "cell_type": "code",
   "execution_count": 214,
   "id": "7333f526-a7fd-4f28-a58f-5e5abac71097",
   "metadata": {},
   "outputs": [
    {
     "name": "stdout",
     "output_type": "stream",
     "text": [
      "mylist\n"
     ]
    }
   ],
   "source": [
    "print(s.split()[0].strip())"
   ]
  },
  {
   "cell_type": "code",
   "execution_count": null,
   "id": "c02772c4-342c-409f-aadb-ee32ad154eb6",
   "metadata": {},
   "outputs": [],
   "source": []
  },
  {
   "cell_type": "code",
   "execution_count": null,
   "id": "73fd6f17-5eba-4370-847b-ac2106052a8d",
   "metadata": {},
   "outputs": [],
   "source": []
  },
  {
   "cell_type": "code",
   "execution_count": 215,
   "id": "b72e505c-79af-46f1-8ebc-f1d0be0d045d",
   "metadata": {},
   "outputs": [],
   "source": [
    "l = [3,10,15,9,(2,1,6)]"
   ]
  },
  {
   "cell_type": "code",
   "execution_count": 216,
   "id": "710388f3-f3d3-4f34-a418-b48b89a9514c",
   "metadata": {},
   "outputs": [
    {
     "data": {
      "text/plain": [
       "(2, 1, 6)"
      ]
     },
     "execution_count": 216,
     "metadata": {},
     "output_type": "execute_result"
    }
   ],
   "source": [
    "l.pop(4)"
   ]
  },
  {
   "cell_type": "code",
   "execution_count": 1,
   "id": "66dd8a62-0e81-4a7c-9106-1677692e12f3",
   "metadata": {},
   "outputs": [
    {
     "data": {
      "text/plain": [
       "True"
      ]
     },
     "execution_count": 1,
     "metadata": {},
     "output_type": "execute_result"
    }
   ],
   "source": [
    "\n",
    "# list\n",
    "# 1. Check if a list contains an element\n",
    "# The in operator will return True if a specific element is in a list.\n",
    "\n",
    "li = [1,2,3,'a','b','c']\n",
    "'a' in li \n",
    "#=> True"
   ]
  },
  {
   "cell_type": "code",
   "execution_count": null,
   "id": "6a65a244-f655-45d5-a725-1521db51604f",
   "metadata": {},
   "outputs": [],
   "source": [
    "Difference between append and extend?\n",
    "append:\n",
    "\n",
    "num1=[1,2,3]\n",
    "num2=[4,5,6]\n",
    "num1.append(num2)\n",
    "print (num1)\n",
    "#Output:[1, 2, 3, [4, 5, 6]]"
   ]
  },
  {
   "cell_type": "code",
   "execution_count": 6,
   "id": "8e2ea8ce-d429-41d7-ad71-ac1154678d71",
   "metadata": {},
   "outputs": [],
   "source": [
    "\n",
    "num1=[1,2,3]\n",
    "num2=[4,5,6]\n",
    "num3 = 8\n",
    "\n",
    "num1.append(num2)"
   ]
  },
  {
   "cell_type": "code",
   "execution_count": 7,
   "id": "e9b35e1c-9efd-4959-b552-006935ab04b9",
   "metadata": {},
   "outputs": [
    {
     "data": {
      "text/plain": [
       "[1, 2, 3, [4, 5, 6]]"
      ]
     },
     "execution_count": 7,
     "metadata": {},
     "output_type": "execute_result"
    }
   ],
   "source": [
    "num1"
   ]
  },
  {
   "cell_type": "code",
   "execution_count": 9,
   "id": "9c6a194d-fe24-4ed2-b3ec-242de3f85d29",
   "metadata": {},
   "outputs": [
    {
     "name": "stdout",
     "output_type": "stream",
     "text": [
      "None\n"
     ]
    }
   ],
   "source": [
    "print(num1.append(num3))"
   ]
  },
  {
   "cell_type": "code",
   "execution_count": 10,
   "id": "9614f56d-9189-45b5-9efa-69a0d61134b8",
   "metadata": {},
   "outputs": [
    {
     "data": {
      "text/plain": [
       "[1, 2, 3, [4, 5, 6], 8, 8]"
      ]
     },
     "execution_count": 10,
     "metadata": {},
     "output_type": "execute_result"
    }
   ],
   "source": [
    "num1"
   ]
  },
  {
   "cell_type": "code",
   "execution_count": 11,
   "id": "e229cb01-ecbe-4450-8629-37aaeae552c1",
   "metadata": {},
   "outputs": [],
   "source": [
    "data = ['a','b','c',3,4,5]"
   ]
  },
  {
   "cell_type": "code",
   "execution_count": 12,
   "id": "35bc386d-0339-4970-9e7e-5bd59653e67c",
   "metadata": {},
   "outputs": [],
   "source": [
    "data.append(6)"
   ]
  },
  {
   "cell_type": "code",
   "execution_count": 13,
   "id": "1c6b6bc0-2a45-4af4-8724-2f63fca7af47",
   "metadata": {},
   "outputs": [
    {
     "data": {
      "text/plain": [
       "['a', 'b', 'c', 3, 4, 5, 6]"
      ]
     },
     "execution_count": 13,
     "metadata": {},
     "output_type": "execute_result"
    }
   ],
   "source": [
    "data"
   ]
  },
  {
   "cell_type": "code",
   "execution_count": 14,
   "id": "3e1df911-12bf-4c35-aa42-5453ce3594b1",
   "metadata": {},
   "outputs": [],
   "source": [
    "d1 = [1,2]\n",
    "data.append(d1)"
   ]
  },
  {
   "cell_type": "code",
   "execution_count": 15,
   "id": "add694a5-6f07-4577-bfc8-864feab67519",
   "metadata": {},
   "outputs": [
    {
     "data": {
      "text/plain": [
       "['a', 'b', 'c', 3, 4, 5, 6, [1, 2]]"
      ]
     },
     "execution_count": 15,
     "metadata": {},
     "output_type": "execute_result"
    }
   ],
   "source": [
    "data"
   ]
  },
  {
   "cell_type": "code",
   "execution_count": 16,
   "id": "fdb9cb07-3425-46b4-b021-96255158304c",
   "metadata": {},
   "outputs": [
    {
     "name": "stdout",
     "output_type": "stream",
     "text": [
      "[1, 2, 3, 4, 5, 6]\n"
     ]
    }
   ],
   "source": [
    "num1=[1,2,3]\n",
    "num2=[4,5,6]\n",
    "num1.extend(num2)\n",
    "print (num1)\n",
    "#Output:[1, 2, 3, 4, 5, 6]"
   ]
  },
  {
   "cell_type": "code",
   "execution_count": 17,
   "id": "c8140233-66d9-41c1-8b43-06faa140b8a7",
   "metadata": {},
   "outputs": [
    {
     "name": "stdout",
     "output_type": "stream",
     "text": [
      "[1, 2, 3, [4, 5, 6]]\n"
     ]
    }
   ],
   "source": [
    "num1=[1,2,3]\n",
    "num2=[4,5,6]\n",
    "num1.append(num2)\n",
    "print (num1)"
   ]
  },
  {
   "cell_type": "code",
   "execution_count": null,
   "id": "afcf2507-3d83-47c5-8fef-55a588880c9d",
   "metadata": {},
   "outputs": [],
   "source": [
    "\n",
    "\n"
   ]
  },
  {
   "cell_type": "code",
   "execution_count": null,
   "id": "d2a7b0b0-b4b3-437e-b6ea-20e93350e547",
   "metadata": {},
   "outputs": [],
   "source": []
  },
  {
   "cell_type": "code",
   "execution_count": 44,
   "id": "fee1d684-dbbd-4dda-9f49-9fc4e9b2abb7",
   "metadata": {},
   "outputs": [
    {
     "name": "stdout",
     "output_type": "stream",
     "text": [
      "3\n"
     ]
    }
   ],
   "source": [
    "l = [1,2,3,4,5]\n",
    "\n",
    "# [3,4]\n",
    "# print(l[2],l[3])\n",
    "length = len(l)\n",
    "\n",
    "if length%2 == 0:\n",
    "    print(l[length//2 -1:length//2 +1])\n",
    "else:\n",
    "    print(l[length//2])\n",
    "# print(l[length-1 :length+1])\n",
    "\n",
    "\n"
   ]
  },
  {
   "cell_type": "code",
   "execution_count": null,
   "id": "53d5226b-e7f6-420b-98e3-688e8ea178bf",
   "metadata": {},
   "outputs": [],
   "source": [
    "data = [1,1,2,3,4,5,1,12,1,2,1,1,2]\n",
    "# remove duplicates without using set? Try with and without a temporary list?"
   ]
  },
  {
   "cell_type": "code",
   "execution_count": 48,
   "id": "76e118e7-5796-47ae-85e8-d2d4abb1e2ad",
   "metadata": {},
   "outputs": [
    {
     "name": "stdout",
     "output_type": "stream",
     "text": [
      "[1, 2, 3, 4, 5, 12]\n"
     ]
    }
   ],
   "source": [
    "data = [1,1,2,3,4,5,1,12,1,2,1,1,2]\n",
    "i = 0\n",
    "\n",
    "while i < len(data):\n",
    "    cu_value = i\n",
    "    j = i+1\n",
    "\n",
    "    while j < len(data):\n",
    "        if data[j] == data[cu_value]:\n",
    "            data.pop(j)\n",
    "        else:\n",
    "            j+=1\n",
    "    i +=1\n",
    "\n",
    "print(data)"
   ]
  },
  {
   "cell_type": "code",
   "execution_count": null,
   "id": "bcdd5451-c6df-446d-9f7b-4a82dafc89bb",
   "metadata": {},
   "outputs": [],
   "source": [
    "S = \"I am in hyderabad\"\n",
    "# Result = \"I Am In Hyderabad\".\n",
    "# Do this without using title ()\n",
    "    "
   ]
  },
  {
   "cell_type": "code",
   "execution_count": 69,
   "id": "ca43e5e5-ffe9-46d4-afc8-9320db5b56d2",
   "metadata": {},
   "outputs": [
    {
     "name": "stdout",
     "output_type": "stream",
     "text": [
      "Hyderabad\n",
      "['I', 'Am', 'In', 'Hyderabad']\n",
      "I Am In Hyderabad\n"
     ]
    }
   ],
   "source": [
    "S = \"I am in hyderabad\"\n",
    "res = []\n",
    "for i in S.split():\n",
    "    data = i[0].upper()+i[1:]\n",
    "    res.append(data)\n",
    "    s = \" \".join(res)\n",
    "    \n",
    "    \n",
    "    \n",
    "print(data)\n",
    "print(res)\n",
    "print(s)"
   ]
  },
  {
   "cell_type": "code",
   "execution_count": null,
   "id": "b7e449a7-e57b-4cc7-b2e6-e480c7261264",
   "metadata": {},
   "outputs": [],
   "source": []
  },
  {
   "cell_type": "code",
   "execution_count": 70,
   "id": "ce1f499a-4a28-408e-8773-1aed02ef9e9e",
   "metadata": {},
   "outputs": [],
   "source": [
    "s = \"I am in hyderabad\"\n",
    "# If we give centre = 50\n",
    "# Result = \" I am in hyderabad \"\n",
    "# Do this without using center ( )"
   ]
  },
  {
   "cell_type": "code",
   "execution_count": 71,
   "id": "8f7b2508-528a-4c81-9e12-798cdeee4497",
   "metadata": {},
   "outputs": [
    {
     "data": {
      "text/plain": [
       "'                I am in hyderabad                 '"
      ]
     },
     "execution_count": 71,
     "metadata": {},
     "output_type": "execute_result"
    }
   ],
   "source": [
    "s.center(50)"
   ]
  },
  {
   "cell_type": "code",
   "execution_count": null,
   "id": "68e738d3-b4f9-4b01-a76e-8e57352232e3",
   "metadata": {},
   "outputs": [],
   "source": []
  },
  {
   "cell_type": "code",
   "execution_count": null,
   "id": "60686bdf-9b41-43d3-9a72-cc3927d6ce9e",
   "metadata": {},
   "outputs": [],
   "source": []
  },
  {
   "cell_type": "code",
   "execution_count": 72,
   "id": "63b51af5-33cc-4a0c-9abb-c7cf6bf3f3ce",
   "metadata": {},
   "outputs": [],
   "source": [
    "\n",
    "s = \"I am in bangalore\"\n",
    "# Count how many times letters are repeated in above string\n",
    "# O/P -- I = 2,a = 2,m=1,n=2,b=1,g=1,l=1,o=1,r=1,e=1"
   ]
  },
  {
   "cell_type": "code",
   "execution_count": 74,
   "id": "c1c02811-7084-4e02-9442-95bd18576d74",
   "metadata": {},
   "outputs": [
    {
     "name": "stdout",
     "output_type": "stream",
     "text": [
      "{}\n"
     ]
    }
   ],
   "source": [
    "# res = {}\n",
    "# for i in s:\n",
    "#     res.get(i,0)\n",
    "# print(res)"
   ]
  },
  {
   "cell_type": "code",
   "execution_count": null,
   "id": "3404c393-5819-4ce3-9364-544354ff7c40",
   "metadata": {},
   "outputs": [],
   "source": []
  }
 ],
 "metadata": {
  "kernelspec": {
   "display_name": "Python 3 (ipykernel)",
   "language": "python",
   "name": "python3"
  },
  "language_info": {
   "codemirror_mode": {
    "name": "ipython",
    "version": 3
   },
   "file_extension": ".py",
   "mimetype": "text/x-python",
   "name": "python",
   "nbconvert_exporter": "python",
   "pygments_lexer": "ipython3",
   "version": "3.10.2"
  }
 },
 "nbformat": 4,
 "nbformat_minor": 5
}
