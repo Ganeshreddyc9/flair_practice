{
 "cells": [
  {
   "cell_type": "code",
   "execution_count": 1,
   "id": "6bef2192-97eb-4e15-861e-706b527f2581",
   "metadata": {},
   "outputs": [],
   "source": [
    "list = [1,0,2,3,0,5]\n",
    "\n",
    "for i in list:\n",
    "    print(i)\n",
    "    if i == 0:\n",
    "        list.remove(i)\n",
    "        list.append(i)"
   ]
  },
  {
   "cell_type": "code",
   "execution_count": 2,
   "id": "4378ed4a-a9aa-49b0-aada-3af157156fd4",
   "metadata": {},
   "outputs": [
    {
     "name": "stdout",
     "output_type": "stream",
     "text": [
      "[1, 2, 3, 5, 0, 0]\n"
     ]
    }
   ],
   "source": [
    "print(list)"
   ]
  },
  {
   "cell_type": "code",
   "execution_count": 3,
   "id": "90cbcc78-b7f3-40da-86b6-acb18efbdacc",
   "metadata": {},
   "outputs": [],
   "source": [
    "list = [1,0,2,3,0,5]\n",
    "\n",
    "list.remove(i)"
   ]
  },
  {
   "cell_type": "code",
   "execution_count": 4,
   "id": "9eac5a0e-0b02-452b-947d-d61997256995",
   "metadata": {},
   "outputs": [
    {
     "data": {
      "text/plain": [
       "[1, 2, 3, 0, 5]"
      ]
     },
     "execution_count": 4,
     "metadata": {},
     "output_type": "execute_result"
    }
   ],
   "source": [
    "list"
   ]
  },
  {
   "cell_type": "code",
   "execution_count": 5,
   "id": "dc13c34e-3b83-423d-a9a6-eff8aae890e2",
   "metadata": {},
   "outputs": [],
   "source": [
    "list.remove(i)"
   ]
  },
  {
   "cell_type": "code",
   "execution_count": 6,
   "id": "98fccacb-a8d2-4579-a8ca-e73dcc4309b4",
   "metadata": {},
   "outputs": [
    {
     "data": {
      "text/plain": [
       "[1, 2, 3, 5]"
      ]
     },
     "execution_count": 6,
     "metadata": {},
     "output_type": "execute_result"
    }
   ],
   "source": [
    "list"
   ]
  },
  {
   "cell_type": "code",
   "execution_count": 7,
   "id": "c5badb89-d1e4-453f-a324-f0605b25dc5f",
   "metadata": {
    "scrolled": true
   },
   "outputs": [
    {
     "name": "stdout",
     "output_type": "stream",
     "text": [
      "Help on built-in function remove:\n",
      "\n",
      "remove(value, /) method of builtins.list instance\n",
      "    Remove first occurrence of value.\n",
      "    \n",
      "    Raises ValueError if the value is not present.\n",
      "\n"
     ]
    }
   ],
   "source": [
    "help(list.remove)"
   ]
  },
  {
   "cell_type": "code",
   "execution_count": 8,
   "id": "93e93667-17bb-4f7b-a662-e5e9faba976d",
   "metadata": {},
   "outputs": [],
   "source": [
    "# str_week_temps_f=\"75.7,77.7,88.9,34.6,73.5\" convert to integer \n"
   ]
  },
  {
   "cell_type": "code",
   "execution_count": 49,
   "id": "cd34df76-84d3-40e0-96b7-38da9608f855",
   "metadata": {},
   "outputs": [],
   "source": [
    "str_week_temps_f=\"75.7,77.7,88.9,34.6,73.5\"\n",
    "\n",
    "# print(int(str_week_temps_f))\n",
    "res = str_week_temps_f.split(',')\n",
    "# print(float(res))\n",
    "res_list = []\n",
    "for i in res:\n",
    "    # print(i)\n",
    "    float_value = (float(((i))))\n",
    "    int_value = (int(float_value))\n",
    "    res_list.append(int_value)\n",
    "    # result = \",\".join(res)\n",
    "   \n",
    "        \n"
   ]
  },
  {
   "cell_type": "code",
   "execution_count": 50,
   "id": "4b7a0b63-b57a-4989-82fd-c85ba86219b5",
   "metadata": {},
   "outputs": [
    {
     "name": "stdout",
     "output_type": "stream",
     "text": [
      "[75, 77, 88, 34, 73]\n"
     ]
    }
   ],
   "source": [
    "print(res_list)"
   ]
  },
  {
   "cell_type": "code",
   "execution_count": 51,
   "id": "8af04420-941b-4032-a6c9-2b7a57fccaaa",
   "metadata": {},
   "outputs": [
    {
     "ename": "ValueError",
     "evalue": "invalid literal for int() with base 10: '23.0'",
     "output_type": "error",
     "traceback": [
      "\u001b[1;31m---------------------------------------------------------------------------\u001b[0m",
      "\u001b[1;31mValueError\u001b[0m                                Traceback (most recent call last)",
      "Cell \u001b[1;32mIn[51], line 3\u001b[0m\n\u001b[0;32m      1\u001b[0m s \u001b[38;5;241m=\u001b[39m \u001b[38;5;124m'\u001b[39m\u001b[38;5;124m23.0\u001b[39m\u001b[38;5;124m'\u001b[39m\n\u001b[0;32m      2\u001b[0m \u001b[38;5;66;03m# float(s)\u001b[39;00m\n\u001b[1;32m----> 3\u001b[0m \u001b[38;5;28;43mint\u001b[39;49m\u001b[43m(\u001b[49m\u001b[43ms\u001b[49m\u001b[43m)\u001b[49m\n",
      "\u001b[1;31mValueError\u001b[0m: invalid literal for int() with base 10: '23.0'"
     ]
    }
   ],
   "source": [
    "s = '23.0'\n",
    "# float(s)\n",
    "int(s)\n"
   ]
  },
  {
   "cell_type": "code",
   "execution_count": null,
   "id": "1a86a960-9179-42d8-b50d-b6f0193ef795",
   "metadata": {},
   "outputs": [],
   "source": []
  }
 ],
 "metadata": {
  "kernelspec": {
   "display_name": "Python 3 (ipykernel)",
   "language": "python",
   "name": "python3"
  },
  "language_info": {
   "codemirror_mode": {
    "name": "ipython",
    "version": 3
   },
   "file_extension": ".py",
   "mimetype": "text/x-python",
   "name": "python",
   "nbconvert_exporter": "python",
   "pygments_lexer": "ipython3",
   "version": "3.10.2"
  }
 },
 "nbformat": 4,
 "nbformat_minor": 5
}
