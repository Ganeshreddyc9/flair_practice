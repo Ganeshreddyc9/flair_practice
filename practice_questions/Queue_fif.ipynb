{
 "cells": [
  {
   "cell_type": "code",
   "execution_count": 3,
   "id": "2a8a7ec6-3c02-4843-aa29-0b036075fb6d",
   "metadata": {},
   "outputs": [
    {
     "name": "stdout",
     "output_type": "stream",
     "text": [
      "Enqueued: 5\n",
      "Enqueued: 10\n",
      "Enqueued: 15\n",
      "Front element:5\n",
      "Dequeued: 5\n",
      "Dequeued element: 5\n",
      "Queue size: 2\n"
     ]
    }
   ],
   "source": [
    "# Queue -- first in first out\\\n",
    "# The is_empty() method is not a special method in the sense of being a built-in Python dunder method (e.g., __init__, __str__). It's just a custom method that is part of the Stack class in the provided example.\n",
    "# In this context, is_empty() is a convenient method that checks whether the stack is empty by examining the length of the items list. If the length is 0, it means the stack is empty; otherwise, it's not.\n",
    "\n",
    "\n",
    "class Queue:\n",
    "\n",
    "    def __init__(self):\n",
    "        self.items = []\n",
    "    def enqueue(self,item):\n",
    "        self.items.insert(0,item)\n",
    "        print(f\"Enqueued: {item}\")\n",
    "    def dequeue(self):\n",
    "        if not self.is_empty():\n",
    "            dequeued_item = self.items.pop()\n",
    "            print(f\"Dequeued: {dequeued_item}\")\n",
    "            return dequeued_item\n",
    "        else:\n",
    "            print(\"Queue is empty. cannot be Dequeue.\")\n",
    "    def get_front(self):\n",
    "        if not self.is_empty():\n",
    "            return self.items[-1]\n",
    "\n",
    "        else:\n",
    "            print(\"Queue is empty. No front element.\")\n",
    "    def is_empty(self):\n",
    "        return len(self.items) ==0\n",
    "    def size(self):\n",
    "        return len(self.items)\n",
    "\n",
    "queue_example = Queue()\n",
    "\n",
    "queue_example.enqueue(5)\n",
    "queue_example.enqueue(10)\n",
    "queue_example.enqueue(15)\n",
    "\n",
    "\n",
    "\n",
    "front_element = queue_example.get_front()\n",
    "print(f\"Front element:{front_element}\")\n",
    "\n",
    "dequeued_element = queue_example.dequeue()\n",
    "print(f\"Dequeued element: {dequeued_element}\")\n",
    "\n",
    "print(f\"Queue size: {queue_example.size()}\")\n",
    "        "
   ]
  },
  {
   "cell_type": "code",
   "execution_count": null,
   "id": "702a6b5e-fed9-46a5-aa89-debdaaa7692d",
   "metadata": {},
   "outputs": [],
   "source": []
  },
  {
   "cell_type": "code",
   "execution_count": 1,
   "id": "65f28e18-a790-4e04-b76e-c7ecfa808971",
   "metadata": {},
   "outputs": [
    {
     "name": "stdout",
     "output_type": "stream",
     "text": [
      "Initial queue\n",
      "['a', 'b', 'c']\n",
      "a\n",
      "b\n",
      "c\n",
      "\n",
      "Queue after removing elements\n",
      "[]\n"
     ]
    }
   ],
   "source": [
    "# first in first out\n",
    "\n",
    "queue = []\n",
    "queue.append('a')\n",
    "queue.append('b')\n",
    "queue.append('c')\n",
    "print(\"Initial queue\")\n",
    "print(queue)\n",
    "print(queue.pop(0))\n",
    "print(queue.pop(0))\n",
    "print(queue.pop(0))\n",
    "print(\"\\nQueue after removing elements\")\n",
    "print(queue)"
   ]
  },
  {
   "cell_type": "code",
   "execution_count": null,
   "id": "a4deb29b-6cf7-49de-9439-f2f3430171a0",
   "metadata": {},
   "outputs": [],
   "source": []
  },
  {
   "cell_type": "code",
   "execution_count": 2,
   "id": "21e2f8c1-ba47-44bd-8f52-c65561e88f49",
   "metadata": {},
   "outputs": [
    {
     "name": "stdout",
     "output_type": "stream",
     "text": [
      "Dequeued elements: 1 2\n"
     ]
    }
   ],
   "source": [
    "# you can use the built-in queue module to implement queues.\n",
    "# The queue module provides the Queue class, which is a first-in, first-out (FIFO) data structure\n",
    "\n",
    "#\n",
    "# from queue import Queue\n",
    "from \n",
    "queue import Queue\n",
    "\n",
    "my_queue = Queue()\n",
    "\n",
    "my_queue.put(1)\n",
    "my_queue.put(2)\n",
    "my_queue.put(3)\n",
    "\n",
    "\n",
    "first_element = my_queue.get()\n",
    "second_element = my_queue.get()\n",
    "\n",
    "print(\"Dequeued elements:\", first_element, second_element)\n"
   ]
  },
  {
   "cell_type": "code",
   "execution_count": null,
   "id": "24a40c1a-bc8d-40b3-b052-d1871257651f",
   "metadata": {},
   "outputs": [],
   "source": []
  }
 ],
 "metadata": {
  "kernelspec": {
   "display_name": "Python 3 (ipykernel)",
   "language": "python",
   "name": "python3"
  },
  "language_info": {
   "codemirror_mode": {
    "name": "ipython",
    "version": 3
   },
   "file_extension": ".py",
   "mimetype": "text/x-python",
   "name": "python",
   "nbconvert_exporter": "python",
   "pygments_lexer": "ipython3",
   "version": "3.10.2"
  }
 },
 "nbformat": 4,
 "nbformat_minor": 5
}
