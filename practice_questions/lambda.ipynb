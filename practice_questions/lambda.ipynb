{
 "cells": [
  {
   "cell_type": "code",
   "execution_count": 13,
   "id": "75882869-4086-44e6-a541-242f53b44367",
   "metadata": {},
   "outputs": [
    {
     "name": "stdin",
     "output_type": "stream",
     "text": [
      "Enter the numbers seperated by comma: 9,10,20,15\n"
     ]
    },
    {
     "name": "stdout",
     "output_type": "stream",
     "text": [
      "[9, 10, 20, 15]\n",
      "[18, 20, 40, 30]\n"
     ]
    }
   ],
   "source": [
    "# write a piece of code to take input from the use like 9,10,20,15\n",
    "# using a lambda function double each element in the sequence\n",
    "\n",
    "# x = lambda [9, 10, 20, 15]  :\n",
    "# output = [18, 20, 40, 30]\n",
    "\n",
    "input_sequnece = input(\"Enter the numbers seperated by comma:\").split(',')\n",
    "\n",
    "input_sequnece = list(map(int, input_sequnece))\n",
    "\n",
    "print((input_sequnece))\n",
    "\n",
    "doubled_sequnce = list(map(lambda x: x * 2, input_sequnece ))\n",
    "\n",
    "print(doubled_sequnce)"
   ]
  },
  {
   "cell_type": "code",
   "execution_count": 12,
   "id": "a8a4c38e-45d1-4cec-ba10-ec9038f3eb09",
   "metadata": {},
   "outputs": [
    {
     "name": "stdin",
     "output_type": "stream",
     "text": [
      "Enter the numbers separated by commas:  9,10,20,15\n"
     ]
    },
    {
     "name": "stdout",
     "output_type": "stream",
     "text": [
      "Input sequence: [9, 10, 20, 15]\n",
      "Doubled sequence: [18, 20, 40, 30]\n"
     ]
    }
   ],
   "source": [
    "input_sequence = input(\"Enter the numbers separated by commas: \").split(',')\n",
    "\n",
    "input_sequence = list(map(int, input_sequence))\n",
    "\n",
    "print(\"Input sequence:\", input_sequence)\n",
    "\n",
    "doubled_sequence = list(map(lambda x: x * 2, input_sequence))\n",
    "\n",
    "\n",
    "print(\"Doubled sequence:\", doubled_sequence)"
   ]
  },
  {
   "cell_type": "code",
   "execution_count": null,
   "id": "bae6300a-613a-4d12-b137-5352bd2b10a5",
   "metadata": {},
   "outputs": [],
   "source": []
  }
 ],
 "metadata": {
  "kernelspec": {
   "display_name": "Python 3 (ipykernel)",
   "language": "python",
   "name": "python3"
  },
  "language_info": {
   "codemirror_mode": {
    "name": "ipython",
    "version": 3
   },
   "file_extension": ".py",
   "mimetype": "text/x-python",
   "name": "python",
   "nbconvert_exporter": "python",
   "pygments_lexer": "ipython3",
   "version": "3.10.2"
  }
 },
 "nbformat": 4,
 "nbformat_minor": 5
}
