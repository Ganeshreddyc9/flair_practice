{
 "cells": [
  {
   "cell_type": "code",
   "execution_count": 24,
   "id": "84dca5f5-c821-45a6-a052-43e3f7f2b3e8",
   "metadata": {},
   "outputs": [],
   "source": [
    "# definations\n",
    "\n",
    "oops: oops is a collection of methods and properties \n",
    "\n",
    "python supports \n",
    "\n",
    "\n",
    "\n",
    "class StudentInfo:\n",
    "\n",
    "    state = 'Ap'\n",
    "    place = 'marathalli'\n",
    "\n",
    "\n",
    "    def __init__(self,fname,lname):\n",
    "        self.fname = fname\n",
    "        self.lname = lname\n",
    "\n",
    "    def student_name(self):\n",
    "        \n",
    "        print(\"hello there my fname is {a} and my lname is {b}\".format(a=self.fname,b =self.lname))\n",
    "\n",
    "    def student_details(self):\n",
    "        print(f\" this is {self.student_name} i am from {self.state} and currently i am staying in {self.place}\")\n",
    "\n",
    "\n"
   ]
  },
  {
   "cell_type": "code",
   "execution_count": null,
   "id": "e63f39a3-b512-4d18-82db-f977ec6ca0d0",
   "metadata": {},
   "outputs": [],
   "source": []
  },
  {
   "cell_type": "code",
   "execution_count": 28,
   "id": "68e7b966-d54f-47e9-8ce7-7c797bcb28d6",
   "metadata": {},
   "outputs": [],
   "source": [
    "obj = StudentInfo(\"ganesh\",\"c\")\n",
    "# obj.student_details()"
   ]
  },
  {
   "cell_type": "code",
   "execution_count": 32,
   "id": "e3ce6baa-3811-48c8-8c18-2c977cfd7472",
   "metadata": {},
   "outputs": [
    {
     "name": "stdout",
     "output_type": "stream",
     "text": [
      "hello there my fname is ganesh and my lname is c\n"
     ]
    }
   ],
   "source": [
    "obj.student_name()\n"
   ]
  },
  {
   "cell_type": "code",
   "execution_count": 33,
   "id": "76265a3c-6945-4266-89fd-40bdccbd72ec",
   "metadata": {},
   "outputs": [
    {
     "data": {
      "text/plain": [
       "{'fname': 'ganesh', 'lname': 'c'}"
      ]
     },
     "execution_count": 33,
     "metadata": {},
     "output_type": "execute_result"
    }
   ],
   "source": [
    "obj.__dict__"
   ]
  },
  {
   "cell_type": "code",
   "execution_count": 34,
   "id": "3083d5e1-c0b0-4792-a572-872ca30863e8",
   "metadata": {},
   "outputs": [
    {
     "name": "stdout",
     "output_type": "stream",
     "text": [
      "<built-in function dir>\n"
     ]
    }
   ],
   "source": [
    "print(dir)"
   ]
  },
  {
   "cell_type": "code",
   "execution_count": null,
   "id": "e648e3af-884f-479f-8775-69d956e2d523",
   "metadata": {},
   "outputs": [],
   "source": []
  },
  {
   "cell_type": "code",
   "execution_count": null,
   "id": "aa400ad1-4546-49e0-85ec-fd617f4b02a1",
   "metadata": {},
   "outputs": [],
   "source": []
  }
 ],
 "metadata": {
  "kernelspec": {
   "display_name": "Python 3 (ipykernel)",
   "language": "python",
   "name": "python3"
  },
  "language_info": {
   "codemirror_mode": {
    "name": "ipython",
    "version": 3
   },
   "file_extension": ".py",
   "mimetype": "text/x-python",
   "name": "python",
   "nbconvert_exporter": "python",
   "pygments_lexer": "ipython3",
   "version": "3.10.2"
  }
 },
 "nbformat": 4,
 "nbformat_minor": 5
}
