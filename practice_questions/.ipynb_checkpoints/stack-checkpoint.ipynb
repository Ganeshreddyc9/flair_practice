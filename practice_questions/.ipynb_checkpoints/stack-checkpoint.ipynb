{
 "cells": [
  {
   "cell_type": "code",
   "execution_count": 3,
   "id": "064da1a9-8a41-48d1-beb3-0818e565311a",
   "metadata": {},
   "outputs": [
    {
     "name": "stdout",
     "output_type": "stream",
     "text": [
      "pushed:5\n",
      "pushed:12\n",
      "pushed:15\n",
      "Top element:15\n",
      "popped element:15\n",
      "Stack size: 2\n"
     ]
    }
   ],
   "source": [
    "# stack -- last in first out \n",
    "# The is_empty() method is not a special method in the sense of being a built-in Python dunder method (e.g., __init__, __str__). It's just a custom method that is part of the Stack class in the provided example.\n",
    "\n",
    "# In this context, is_empty() is a convenient method that checks whether the stack is empty by examining the length of the items list. If the length is 0, it means the stack is empty; otherwise, it's not.\n",
    "\n",
    "\n",
    "class Stack:\n",
    "\n",
    "    def __init__(self):\n",
    "        self.items = []\n",
    "\n",
    "    def push(self,item):\n",
    "        self.items.append(item)\n",
    "        print(f\"pushed:{item}\")\n",
    "    def pop(self):\n",
    "        if not self.is_empty(): #checking  empty kakaunte # The is_empty() method is not a special method in the sense of being a built-in Python dunder method (e.g., __init__, __str__). It's just a custom method that is part of the Stack class in the provided example\n",
    "            popped_item = self.items.pop()\n",
    "            return popped_item\n",
    "        else:\n",
    "            print(\"stack is empty. Cannot pop.\")\n",
    "    def get_top(self):\n",
    "        if not self.is_empty():\n",
    "            return self.items[-1]\n",
    "        else:\n",
    "            print(\"Stack is empty.No top elements.\")\n",
    "    def is_empty(self):\n",
    "        return len(self.items)==0\n",
    "\n",
    "    def size(self):\n",
    "        return len(self.items)\n",
    "\n",
    "stack_example = Stack()\n",
    "\n",
    "stack_example.push(5)\n",
    "stack_example.push(12)\n",
    "stack_example.push(15)\n",
    "\n",
    "top_element = stack_example.get_top()\n",
    "print(f\"Top element:{top_element}\")\n",
    "\n",
    "popped_element = stack_example.pop()\n",
    "print(f\"popped element:{popped_element}\")\n",
    "\n",
    "print(f\"Stack size: {stack_example.size()}\")\n",
    "\n",
    "\n",
    "        \n",
    "        \n",
    "    \n",
    "            \n",
    "            \n",
    "            "
   ]
  },
  {
   "cell_type": "code",
   "execution_count": null,
   "id": "575723ae-69bc-4e8f-aa79-fd847be450d3",
   "metadata": {},
   "outputs": [],
   "source": []
  },
  {
   "cell_type": "code",
   "execution_count": 11,
   "id": "8109e11f-c321-41c3-8fcf-6c24276530f7",
   "metadata": {},
   "outputs": [
    {
     "name": "stdout",
     "output_type": "stream",
     "text": [
      "[1, 2, 3]\n",
      "3\n"
     ]
    }
   ],
   "source": [
    "# Stack This module queue also provides LIFO Queue which technically works as a Stack.\n",
    "\n",
    "\n",
    "stack = []\n",
    "\n",
    "# pushing elements into stack\n",
    "\n",
    "stack.append(1)\n",
    "stack.append(2)\n",
    "stack.append(3)\n",
    "print(stack)\n",
    "# poping element from the stack\n",
    "popped_item = stack.pop()\n",
    "print(popped_item)\n",
    "\n",
    "\n",
    "# for element in stack:\n",
    "#     print(element,\"loop element\")\n",
    "#     popped_item = stack.pop()\n",
    "#     print(\"in loop:\",popped_item)\n",
    "# # print(\"out of the loop:\",popped_item)"
   ]
  },
  {
   "cell_type": "code",
   "execution_count": null,
   "id": "8c628b07-87a5-4f76-b311-8244b10788cf",
   "metadata": {},
   "outputs": [],
   "source": []
  },
  {
   "cell_type": "code",
   "execution_count": 9,
   "id": "c9afffd7-1455-4e4e-b66f-16cf8192cedb",
   "metadata": {},
   "outputs": [],
   "source": [
    "# addition, substraction , multiplication"
   ]
  },
  {
   "cell_type": "code",
   "execution_count": 5,
   "id": "eb6eb514-f048-4842-bf36-28d8625319ba",
   "metadata": {},
   "outputs": [],
   "source": [
    "class Calculator:\n",
    "    def add(self, a, b):\n",
    "        return a + b\n",
    "\n",
    "    def bulk_add(self, **args):\n",
    "        result = 0\n",
    "        for value in args.values():\n",
    "            result += value\n",
    "        return result\n",
    "\n",
    "    def subtract(self, a, b):\n",
    "        return a - b\n",
    "\n",
    "    def bulk_subtraction(self, **args):\n",
    "        results = {}\n",
    "        for key, value in args.items():\n",
    "            results[key] = value - 0 \n",
    "        return results\n",
    "\n",
    "    def multiply(self, a, b):\n",
    "        return a * b\n",
    "\n",
    "    def bulk_multiplication(self, **args):\n",
    "        results = {}\n",
    "        for key, value in args.items():\n",
    "            results[key] = value * 2 \n",
    "        return results"
   ]
  },
  {
   "cell_type": "code",
   "execution_count": 6,
   "id": "af463ba7-b7db-4a84-ab2b-cf63ca36f7a1",
   "metadata": {},
   "outputs": [
    {
     "name": "stdout",
     "output_type": "stream",
     "text": [
      "Single Multiplication Result: 12\n",
      "Bulk Multiplication Results: {'x': 4, 'y': 6, 'z': 8}\n"
     ]
    }
   ],
   "source": [
    "calculator = Calculator()\n",
    "\n",
    "# Single multiplication\n",
    "result_single_multiply = calculator.multiply(3, 4)\n",
    "print(\"Single Multiplication Result:\", result_single_multiply)\n",
    "\n",
    "# Bulk multiplication\n",
    "result_bulk_multiply = calculator.bulk_multiplication(x=2, y=3, z=4)\n",
    "print(\"Bulk Multiplication Results:\", result_bulk_multiply)"
   ]
  },
  {
   "cell_type": "code",
   "execution_count": 7,
   "id": "976a59ed-9aa8-442a-b932-6f5381fde3c1",
   "metadata": {},
   "outputs": [
    {
     "name": "stdout",
     "output_type": "stream",
     "text": [
      "Single add Result: 7\n",
      "Bulk addition Results: 9\n"
     ]
    }
   ],
   "source": [
    "calculator = Calculator()\n",
    "\n",
    "# Single add\n",
    "result_single_add = calculator.add(3, 4)\n",
    "print(\"Single add Result:\",result_single_add)\n",
    "\n",
    "# Bulk addition\n",
    "result_bulk_add = calculator.bulk_add(x=2, y=3, z=4)\n",
    "print(\"Bulk addition Results:\", result_bulk_add)"
   ]
  },
  {
   "cell_type": "code",
   "execution_count": 8,
   "id": "2d611b79-6ed7-4ae7-a727-f896ecd59804",
   "metadata": {},
   "outputs": [
    {
     "name": "stdout",
     "output_type": "stream",
     "text": [
      "Single substraction Result: -1\n",
      "Bulk substraction Results: {'x': 2, 'y': 3, 'z': 4}\n"
     ]
    }
   ],
   "source": [
    "calculator = Calculator()\n",
    "\n",
    "# Single substaction\n",
    "result_single_substraction = calculator.subtract(3, 4)\n",
    "print(\"Single substraction Result:\",result_single_substraction)\n",
    "\n",
    "# bulk substaction\n",
    "result_bulk_substraction = calculator.bulk_subtraction(x=2, y=3, z=4)\n",
    "print(\"Bulk substraction Results:\", result_bulk_substraction )"
   ]
  },
  {
   "cell_type": "code",
   "execution_count": null,
   "id": "f0a63563-5908-426b-8aed-f3a02ca14948",
   "metadata": {},
   "outputs": [],
   "source": []
  },
  {
   "cell_type": "code",
   "execution_count": null,
   "id": "91c193df-7247-4298-a78a-feaa4b402cca",
   "metadata": {},
   "outputs": [],
   "source": []
  }
 ],
 "metadata": {
  "kernelspec": {
   "display_name": "Python 3 (ipykernel)",
   "language": "python",
   "name": "python3"
  },
  "language_info": {
   "codemirror_mode": {
    "name": "ipython",
    "version": 3
   },
   "file_extension": ".py",
   "mimetype": "text/x-python",
   "name": "python",
   "nbconvert_exporter": "python",
   "pygments_lexer": "ipython3",
   "version": "3.10.2"
  }
 },
 "nbformat": 4,
 "nbformat_minor": 5
}
