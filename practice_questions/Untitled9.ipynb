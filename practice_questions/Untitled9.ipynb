{
 "cells": [
  {
   "cell_type": "code",
   "execution_count": 1,
   "id": "767e4a2a-9b61-4986-aed6-d732d667627b",
   "metadata": {},
   "outputs": [],
   "source": [
    "# 3\n",
    "# Krishna 67 68 69\n",
    "# Arjun 70 98 63\n",
    "# Malika 52 56 60\n",
    "# Malika\n",
    "\n",
    "\n",
    "# # Sample Output 0\n",
    "\n",
    "# # 56.00"
   ]
  },
  {
   "cell_type": "code",
   "execution_count": 9,
   "id": "861045c8-9bc3-4c2a-ab8e-8ac987a30746",
   "metadata": {},
   "outputs": [
    {
     "name": "stdin",
     "output_type": "stream",
     "text": [
      " 3\n"
     ]
    },
    {
     "name": "stdout",
     "output_type": "stream",
     "text": [
      "{}\n"
     ]
    },
    {
     "name": "stdin",
     "output_type": "stream",
     "text": [
      " Krishna 67 68 69\n"
     ]
    },
    {
     "name": "stdout",
     "output_type": "stream",
     "text": [
      "line name ['Krishna', '67', '68', '69']\n",
      "name: Krishna\n",
      "scores: [67.0, 68.0, 69.0]\n"
     ]
    },
    {
     "name": "stdin",
     "output_type": "stream",
     "text": [
      " Arjun 70 98 63\n"
     ]
    },
    {
     "name": "stdout",
     "output_type": "stream",
     "text": [
      "line name ['Arjun', '70', '98', '63']\n",
      "name: Arjun\n",
      "scores: [70.0, 98.0, 63.0]\n"
     ]
    },
    {
     "name": "stdin",
     "output_type": "stream",
     "text": [
      " Malika 52 56 60\n"
     ]
    },
    {
     "name": "stdout",
     "output_type": "stream",
     "text": [
      "line name ['Malika', '52', '56', '60']\n",
      "name: Malika\n",
      "scores: [52.0, 56.0, 60.0]\n"
     ]
    },
    {
     "name": "stdin",
     "output_type": "stream",
     "text": [
      "  Malika\n"
     ]
    },
    {
     "name": "stdout",
     "output_type": "stream",
     "text": [
      "Student ' Malika' not found\n"
     ]
    }
   ],
   "source": [
    "num = int(input())\n",
    "\n",
    "\n",
    "student_marks = {}\n",
    "\n",
    "print(student_marks)\n",
    "for _ in range(num):\n",
    "\n",
    "    line = input().split()\n",
    "    print(\"line name\",line)\n",
    "    name = line[0]\n",
    "    print(\"name:\",name)\n",
    "    scores = list(map(float, line[1:]))\n",
    "    print(\"scores:\",scores)\n",
    "\n",
    "    student_marks[name] = scores\n",
    "\n",
    "query_name = input()\n",
    "\n",
    "if query_name in student_marks:\n",
    "    scores = student_marks[query_name]\n",
    "    print(scores)\n",
    "\n",
    "\n",
    "\n",
    "    \n",
    "    average_marks = sum(scores) / len(scores)\n",
    "\n",
    "     # Print the average formatted to two decimal places\n",
    "    print(f\"{average_marks:.2f}\")\n",
    "else:\n",
    "    print(f\"Student '{query_name}' not found\")\n",
    "\n",
    "# 3\n",
    "# Krishna 67 68 69\n",
    "# Arjun 70 98 63\n",
    "# Malika 52 56 60\n",
    "# Malika\n",
    "\n"
   ]
  },
  {
   "cell_type": "code",
   "execution_count": null,
   "id": "13c6a8e5-cc82-4f7c-83a5-042f32d351f8",
   "metadata": {},
   "outputs": [],
   "source": []
  }
 ],
 "metadata": {
  "kernelspec": {
   "display_name": "Python 3 (ipykernel)",
   "language": "python",
   "name": "python3"
  },
  "language_info": {
   "codemirror_mode": {
    "name": "ipython",
    "version": 3
   },
   "file_extension": ".py",
   "mimetype": "text/x-python",
   "name": "python",
   "nbconvert_exporter": "python",
   "pygments_lexer": "ipython3",
   "version": "3.10.2"
  }
 },
 "nbformat": 4,
 "nbformat_minor": 5
}
