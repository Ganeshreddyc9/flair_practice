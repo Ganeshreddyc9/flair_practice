{
 "cells": [
  {
   "cell_type": "code",
   "execution_count": 1,
   "id": "fa663846-c538-4a01-baf9-b3516d7f21b6",
   "metadata": {},
   "outputs": [],
   "source": [
    "# is and == difference\n",
    "\n",
    "# \"==\"  always checks for values if the values are same it will return True else false \n",
    "# \"is\" always checks for identy or reference for the values if the ids are same it will return True else false.\n",
    "\n",
    "# == is for value equality. Use it when you would like to know if two objects have the same value.\n",
    "# is is for reference equality. Use it when you would like to know if two references refer to the same object."
   ]
  },
  {
   "cell_type": "code",
   "execution_count": 3,
   "id": "14b442c9-ccc9-427e-b927-3a36a21c3581",
   "metadata": {},
   "outputs": [
    {
     "name": "stdout",
     "output_type": "stream",
     "text": [
      "1877237313712\n",
      "1877237317488\n",
      "False\n",
      "True\n"
     ]
    }
   ],
   "source": [
    "# is \n",
    "\n",
    "a = 500\n",
    "b = 500\n",
    "\n",
    "print(id(a))\n",
    "print(id(b))\n",
    "print(a is b)\n",
    "print(a==b)"
   ]
  },
  {
   "cell_type": "code",
   "execution_count": 4,
   "id": "e68136a6-965e-41d9-bd72-b32b4fd58104",
   "metadata": {},
   "outputs": [
    {
     "name": "stdout",
     "output_type": "stream",
     "text": [
      "1877161541872\n",
      "1877161541872\n",
      "True\n",
      "True\n"
     ]
    }
   ],
   "source": [
    "\n",
    "a = 1\n",
    "b = 1\n",
    "\n",
    "print(id(a))\n",
    "print(id(b))\n",
    "print(a is b)\n",
    "print(a==b)"
   ]
  },
  {
   "cell_type": "code",
   "execution_count": 5,
   "id": "3d2754d2-99d2-40a9-a9d8-db28b28ff155",
   "metadata": {},
   "outputs": [
    {
     "name": "stdout",
     "output_type": "stream",
     "text": [
      "1877237412592\n",
      "1877237412592\n",
      "True\n",
      "True\n"
     ]
    }
   ],
   "source": [
    "\n",
    "a = \"Hello\"\n",
    "b = \"Hello\"\n",
    "\n",
    "\n",
    "print(id(a))\n",
    "print(id(b))\n",
    "print(a is b)\n",
    "print(a==b)"
   ]
  },
  {
   "cell_type": "code",
   "execution_count": 6,
   "id": "83438f12-afca-4ca2-b6ba-281c3cf41296",
   "metadata": {},
   "outputs": [
    {
     "data": {
      "text/plain": [
       "True"
      ]
     },
     "execution_count": 6,
     "metadata": {},
     "output_type": "execute_result"
    }
   ],
   "source": [
    "\n",
    "a = [1,2]\n",
    "b = [1,2]\n",
    "\n",
    "a == b"
   ]
  },
  {
   "cell_type": "code",
   "execution_count": 7,
   "id": "91d3f29d-2c89-4e7b-a1a2-1e55b0e07685",
   "metadata": {},
   "outputs": [
    {
     "data": {
      "text/plain": [
       "False"
      ]
     },
     "execution_count": 7,
     "metadata": {},
     "output_type": "execute_result"
    }
   ],
   "source": [
    "a == b"
   ]
  },
  {
   "cell_type": "code",
   "execution_count": 8,
   "id": "fe84636f-a4be-42b1-b77e-33c881090653",
   "metadata": {},
   "outputs": [],
   "source": [
    "a = 1,2,3\n",
    "b = 1,2"
   ]
  },
  {
   "cell_type": "code",
   "execution_count": 10,
   "id": "4be7e4b4-e0b5-47bb-a215-2b74495eb9ca",
   "metadata": {},
   "outputs": [
    {
     "name": "stdout",
     "output_type": "stream",
     "text": [
      "False\n",
      "False\n"
     ]
    }
   ],
   "source": [
    "print(a == b)\n",
    "print(a is b)\n"
   ]
  },
  {
   "cell_type": "code",
   "execution_count": 11,
   "id": "897c0195-a692-4db9-8143-f5aff67e5b9c",
   "metadata": {},
   "outputs": [
    {
     "name": "stdout",
     "output_type": "stream",
     "text": [
      "True\n",
      "False\n"
     ]
    }
   ],
   "source": [
    "a = [1, 2, 3]\n",
    "b = [1, 2, 3]\n",
    "print(a == b) #True\n",
    "print(a is b) #false"
   ]
  },
  {
   "cell_type": "code",
   "execution_count": 12,
   "id": "a7d26a69-7335-469f-a1c7-ca2a57972fe9",
   "metadata": {},
   "outputs": [
    {
     "name": "stdout",
     "output_type": "stream",
     "text": [
      "True\n",
      "True\n"
     ]
    }
   ],
   "source": [
    "a = [1, 2, 3]\n",
    "b = a\n",
    "print(a == b) #True\n",
    "print(a is b) #True"
   ]
  },
  {
   "cell_type": "code",
   "execution_count": 25,
   "id": "7eafb82a-8377-4b27-b3d5-f57c9e930273",
   "metadata": {},
   "outputs": [
    {
     "name": "stdout",
     "output_type": "stream",
     "text": [
      "Yay!\n",
      "Yay!.....\n"
     ]
    },
    {
     "name": "stderr",
     "output_type": "stream",
     "text": [
      "<>:7: SyntaxWarning: \"is\" with a literal. Did you mean \"==\"?\n",
      "<>:7: SyntaxWarning: \"is\" with a literal. Did you mean \"==\"?\n",
      "C:\\Users\\91798\\AppData\\Local\\Temp\\ipykernel_21616\\915179982.py:7: SyntaxWarning: \"is\" with a literal. Did you mean \"==\"?\n",
      "  if n is 5:\n"
     ]
    }
   ],
   "source": [
    "n = 5\n",
    "# Test one.\n",
    "if n == 5:\n",
    "    print('Yay!')\n",
    "\n",
    "# Test two.\n",
    "if n is 5:\n",
    "    print('Yay!.....')\n",
    "else:\n",
    "    print(\"hi\")\n",
    "    "
   ]
  },
  {
   "cell_type": "code",
   "execution_count": null,
   "id": "3d2876d8-6b7b-4fb3-bdb3-13be29edccaa",
   "metadata": {},
   "outputs": [],
   "source": []
  },
  {
   "cell_type": "code",
   "execution_count": 29,
   "id": "232e3f74-f721-4977-b337-5e22e3bef255",
   "metadata": {},
   "outputs": [
    {
     "name": "stdout",
     "output_type": "stream",
     "text": [
      "Yay!\n",
      "1877263226048\n",
      "1877263225920\n"
     ]
    }
   ],
   "source": [
    "L = [] # 0 \n",
    "L.append(1) #[1]\n",
    "if L == [1]: # TrUE\n",
    "    print('Yay!') # Yay!\n",
    "# Holds true, but...\n",
    "\n",
    "if L is [1]: #False\n",
    "    print('Yay!')\n",
    "# Doesn't.\n",
    "\n",
    "print(id([1]))\n",
    "print(id(L))"
   ]
  },
  {
   "cell_type": "code",
   "execution_count": null,
   "id": "1fff56a9-33db-4560-b1aa-e3322659ca60",
   "metadata": {},
   "outputs": [],
   "source": []
  },
  {
   "cell_type": "code",
   "execution_count": null,
   "id": "7bef6bba-86be-48f7-8187-fda2abe8e941",
   "metadata": {},
   "outputs": [],
   "source": []
  },
  {
   "cell_type": "code",
   "execution_count": null,
   "id": "26b28326-891a-4c3e-a30c-cd4b446380c5",
   "metadata": {},
   "outputs": [],
   "source": []
  },
  {
   "cell_type": "code",
   "execution_count": 30,
   "id": "b6053646-d3b1-4958-8eb3-26f2ae79a555",
   "metadata": {},
   "outputs": [
    {
     "name": "stdout",
     "output_type": "stream",
     "text": [
      "100\n",
      "100\n",
      "100.0\n",
      "True\n",
      "(100+0j)\n"
     ]
    }
   ],
   "source": [
    "# type convertions\n",
    "\n",
    "# int\n",
    "\n",
    "print(str(100))\n",
    "print(int(100))\n",
    "print(float(100))\n",
    "print(bool(100))\n",
    "print(complex(100))\n",
    "\n"
   ]
  },
  {
   "cell_type": "code",
   "execution_count": 31,
   "id": "1984d6e3-f055-48e5-9c46-7cd19a74ba93",
   "metadata": {},
   "outputs": [
    {
     "ename": "ValueError",
     "evalue": "invalid literal for int() with base 10: 'hi'",
     "output_type": "error",
     "traceback": [
      "\u001b[1;31m---------------------------------------------------------------------------\u001b[0m",
      "\u001b[1;31mValueError\u001b[0m                                Traceback (most recent call last)",
      "Cell \u001b[1;32mIn[31], line 2\u001b[0m\n\u001b[0;32m      1\u001b[0m s \u001b[38;5;241m=\u001b[39m \u001b[38;5;124m'\u001b[39m\u001b[38;5;124mhi\u001b[39m\u001b[38;5;124m'\u001b[39m\n\u001b[1;32m----> 2\u001b[0m \u001b[38;5;28mprint\u001b[39m(\u001b[38;5;28;43mint\u001b[39;49m\u001b[43m(\u001b[49m\u001b[43ms\u001b[49m\u001b[43m)\u001b[49m)\n",
      "\u001b[1;31mValueError\u001b[0m: invalid literal for int() with base 10: 'hi'"
     ]
    }
   ],
   "source": [
    "s = 'hi'\n",
    "print(int(s))"
   ]
  },
  {
   "cell_type": "code",
   "execution_count": 35,
   "id": "478bfe4f-bd57-4b5a-89a2-188414b87686",
   "metadata": {},
   "outputs": [
    {
     "ename": "ValueError",
     "evalue": "4 is not in list",
     "output_type": "error",
     "traceback": [
      "\u001b[1;31m---------------------------------------------------------------------------\u001b[0m",
      "\u001b[1;31mValueError\u001b[0m                                Traceback (most recent call last)",
      "Cell \u001b[1;32mIn[35], line 3\u001b[0m\n\u001b[0;32m      1\u001b[0m a \u001b[38;5;241m=\u001b[39m [\u001b[38;5;241m1\u001b[39m,\u001b[38;5;241m2\u001b[39m,\u001b[38;5;241m3\u001b[39m]\n\u001b[1;32m----> 3\u001b[0m \u001b[38;5;28mprint\u001b[39m(\u001b[43ma\u001b[49m\u001b[38;5;241;43m.\u001b[39;49m\u001b[43mindex\u001b[49m\u001b[43m(\u001b[49m\u001b[38;5;241;43m4\u001b[39;49m\u001b[43m,\u001b[49m\u001b[38;5;241;43m1\u001b[39;49m\u001b[43m)\u001b[49m)\n\u001b[0;32m      4\u001b[0m \u001b[38;5;28mprint\u001b[39m(a[\u001b[38;5;241m4\u001b[39m])\n",
      "\u001b[1;31mValueError\u001b[0m: 4 is not in list"
     ]
    }
   ],
   "source": [
    "a = [1,2,3]\n",
    "\n",
    "\n",
    "print(a[4])"
   ]
  },
  {
   "cell_type": "code",
   "execution_count": 36,
   "id": "1243a16c-0675-458e-b9e0-10abf460ec27",
   "metadata": {},
   "outputs": [
    {
     "ename": "TypeError",
     "evalue": "can only concatenate str (not \"int\") to str",
     "output_type": "error",
     "traceback": [
      "\u001b[1;31m---------------------------------------------------------------------------\u001b[0m",
      "\u001b[1;31mTypeError\u001b[0m                                 Traceback (most recent call last)",
      "Cell \u001b[1;32mIn[36], line 1\u001b[0m\n\u001b[1;32m----> 1\u001b[0m \u001b[38;5;124;43m\"\u001b[39;49m\u001b[38;5;124;43mHello\u001b[39;49m\u001b[38;5;124;43m\"\u001b[39;49m\u001b[43m \u001b[49m\u001b[38;5;241;43m+\u001b[39;49m\u001b[43m \u001b[49m\u001b[38;5;241;43m5\u001b[39;49m  \u001b[38;5;66;03m# this will raise an typeerror\u001b[39;00m\n",
      "\u001b[1;31mTypeError\u001b[0m: can only concatenate str (not \"int\") to str"
     ]
    }
   ],
   "source": [
    "\"Hello\" + 5  # this will raise an typeerror"
   ]
  },
  {
   "cell_type": "code",
   "execution_count": 37,
   "id": "29b0285c-1249-4c7a-8c5a-81e65e628b3b",
   "metadata": {},
   "outputs": [
    {
     "ename": "SyntaxError",
     "evalue": "invalid decimal literal (505920452.py, line 1)",
     "output_type": "error",
     "traceback": [
      "\u001b[1;36m  Cell \u001b[1;32mIn[37], line 1\u001b[1;36m\u001b[0m\n\u001b[1;33m    5.append(\"world\")\u001b[0m\n\u001b[1;37m     ^\u001b[0m\n\u001b[1;31mSyntaxError\u001b[0m\u001b[1;31m:\u001b[0m invalid decimal literal\n"
     ]
    }
   ],
   "source": [
    "5.append(\"world\")"
   ]
  },
  {
   "cell_type": "code",
   "execution_count": 1,
   "id": "6857006e-54b9-4d8d-b04e-120443d234ea",
   "metadata": {},
   "outputs": [
    {
     "name": "stdout",
     "output_type": "stream",
     "text": [
      "15\n"
     ]
    }
   ],
   "source": [
    "s1 = [1, 2, 3, 4, 5]\n",
    "s = sum([i for i in s1])\n",
    "print(s)"
   ]
  },
  {
   "cell_type": "code",
   "execution_count": null,
   "id": "ced2c7b0-f561-41e3-9c70-347c2c5dd4f0",
   "metadata": {},
   "outputs": [],
   "source": []
  }
 ],
 "metadata": {
  "kernelspec": {
   "display_name": "Python 3 (ipykernel)",
   "language": "python",
   "name": "python3"
  },
  "language_info": {
   "codemirror_mode": {
    "name": "ipython",
    "version": 3
   },
   "file_extension": ".py",
   "mimetype": "text/x-python",
   "name": "python",
   "nbconvert_exporter": "python",
   "pygments_lexer": "ipython3",
   "version": "3.10.2"
  }
 },
 "nbformat": 4,
 "nbformat_minor": 5
}
