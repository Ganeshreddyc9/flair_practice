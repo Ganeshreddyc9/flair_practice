{
 "cells": [
  {
   "cell_type": "code",
   "execution_count": 1,
   "id": "3eebf768-f576-4c2f-a493-4a1e7826ddee",
   "metadata": {},
   "outputs": [
    {
     "name": "stdout",
     "output_type": "stream",
     "text": [
      "hi\n"
     ]
    }
   ],
   "source": [
    "print('hi')"
   ]
  },
  {
   "cell_type": "code",
   "execution_count": 2,
   "id": "815329e5-9293-4e92-8f0c-224e910a81b3",
   "metadata": {},
   "outputs": [],
   "source": [
    "tup = (1,2)"
   ]
  },
  {
   "cell_type": "code",
   "execution_count": 1,
   "id": "5b260d75-685a-4122-85d9-5c4d54a2018e",
   "metadata": {},
   "outputs": [],
   "source": [
    "mytuple = tuple(['max',28,'boston'])"
   ]
  },
  {
   "cell_type": "code",
   "execution_count": 2,
   "id": "dff8000b-54ca-48c2-ba2d-9395f0898d04",
   "metadata": {},
   "outputs": [
    {
     "data": {
      "text/plain": [
       "('max', 28, 'boston')"
      ]
     },
     "execution_count": 2,
     "metadata": {},
     "output_type": "execute_result"
    }
   ],
   "source": [
    "mytuple"
   ]
  },
  {
   "cell_type": "code",
   "execution_count": 4,
   "id": "5ec2ece6-3837-4271-9e37-88adb7063c3b",
   "metadata": {},
   "outputs": [],
   "source": [
    "mytuple = tuple(('max',28,'boston'))"
   ]
  },
  {
   "cell_type": "code",
   "execution_count": 5,
   "id": "ab440bd7-cec6-4c1a-a9ec-38e9ab365cf9",
   "metadata": {},
   "outputs": [
    {
     "data": {
      "text/plain": [
       "('max', 28, 'boston')"
      ]
     },
     "execution_count": 5,
     "metadata": {},
     "output_type": "execute_result"
    }
   ],
   "source": [
    "mytuple"
   ]
  },
  {
   "cell_type": "code",
   "execution_count": 6,
   "id": "c853e318-1564-4425-b941-5dac3bd28f61",
   "metadata": {},
   "outputs": [
    {
     "data": {
      "text/plain": [
       "'max'"
      ]
     },
     "execution_count": 6,
     "metadata": {},
     "output_type": "execute_result"
    }
   ],
   "source": [
    "mytuple[0]"
   ]
  },
  {
   "cell_type": "code",
   "execution_count": 7,
   "id": "79417edb-67a1-48b4-a565-e6697175c25e",
   "metadata": {},
   "outputs": [
    {
     "data": {
      "text/plain": [
       "28"
      ]
     },
     "execution_count": 7,
     "metadata": {},
     "output_type": "execute_result"
    }
   ],
   "source": [
    "mytuple[1]"
   ]
  },
  {
   "cell_type": "code",
   "execution_count": 8,
   "id": "835bbe0d-0e2d-4dbe-925e-287fafefba27",
   "metadata": {},
   "outputs": [
    {
     "data": {
      "text/plain": [
       "'boston'"
      ]
     },
     "execution_count": 8,
     "metadata": {},
     "output_type": "execute_result"
    }
   ],
   "source": [
    "mytuple[2]"
   ]
  },
  {
   "cell_type": "code",
   "execution_count": 10,
   "id": "6a99cda6-718c-4242-ac48-38198dffd06d",
   "metadata": {},
   "outputs": [
    {
     "name": "stdout",
     "output_type": "stream",
     "text": [
      "yes\n"
     ]
    }
   ],
   "source": [
    "if 'max' in mytuple:\n",
    "    print(\"yes\")\n",
    "else:\n",
    "    print(\"no\")"
   ]
  },
  {
   "cell_type": "code",
   "execution_count": 11,
   "id": "3d0365ab-207c-4ae1-9922-f67d3ef7ab9b",
   "metadata": {},
   "outputs": [
    {
     "name": "stdout",
     "output_type": "stream",
     "text": [
      "yes\n"
     ]
    }
   ],
   "source": [
    "if True:\n",
    "    print(\"yes\")\n",
    "else:\n",
    "    print(\"no\")"
   ]
  },
  {
   "cell_type": "code",
   "execution_count": 12,
   "id": "576e9660-834f-4cae-96a1-2e28cb46bd55",
   "metadata": {},
   "outputs": [
    {
     "name": "stdout",
     "output_type": "stream",
     "text": [
      "no\n"
     ]
    }
   ],
   "source": [
    "if False:\n",
    "    print(\"yes\")\n",
    "else:\n",
    "    print(\"no\")"
   ]
  },
  {
   "cell_type": "code",
   "execution_count": 13,
   "id": "543ec886-595d-4a50-a455-d12b6fed4e22",
   "metadata": {},
   "outputs": [],
   "source": [
    "my_tuple = ('a','b','p','u','o')"
   ]
  },
  {
   "cell_type": "code",
   "execution_count": 14,
   "id": "811e8d37-8053-43cd-b5a6-013cfa6d935b",
   "metadata": {},
   "outputs": [
    {
     "name": "stdout",
     "output_type": "stream",
     "text": [
      "5\n"
     ]
    }
   ],
   "source": [
    "print(len(my_tuple))"
   ]
  },
  {
   "cell_type": "code",
   "execution_count": 15,
   "id": "bebd8f6f-0cda-4dc7-b6d3-0372a8e6683d",
   "metadata": {},
   "outputs": [
    {
     "name": "stdout",
     "output_type": "stream",
     "text": [
      "['__add__', '__class__', '__class_getitem__', '__contains__', '__delattr__', '__dir__', '__doc__', '__eq__', '__format__', '__ge__', '__getattribute__', '__getitem__', '__getnewargs__', '__gt__', '__hash__', '__init__', '__init_subclass__', '__iter__', '__le__', '__len__', '__lt__', '__mul__', '__ne__', '__new__', '__reduce__', '__reduce_ex__', '__repr__', '__rmul__', '__setattr__', '__sizeof__', '__str__', '__subclasshook__', 'count', 'index']\n"
     ]
    }
   ],
   "source": [
    "print(dir(my_tuple))"
   ]
  },
  {
   "cell_type": "code",
   "execution_count": 18,
   "id": "1a558066-7c49-45c4-a2a4-8435b05c39de",
   "metadata": {},
   "outputs": [
    {
     "data": {
      "text/plain": [
       "1"
      ]
     },
     "execution_count": 18,
     "metadata": {},
     "output_type": "execute_result"
    }
   ],
   "source": [
    "my_tuple.count('p')"
   ]
  },
  {
   "cell_type": "code",
   "execution_count": 19,
   "id": "9c09aa2c-8c1f-4ad1-a3a7-a0c55ad29818",
   "metadata": {},
   "outputs": [
    {
     "name": "stdout",
     "output_type": "stream",
     "text": [
      "Help on built-in function count:\n",
      "\n",
      "count(value, /) method of builtins.tuple instance\n",
      "    Return number of occurrences of value.\n",
      "\n"
     ]
    }
   ],
   "source": [
    "help(my_tuple.count)"
   ]
  },
  {
   "cell_type": "code",
   "execution_count": 20,
   "id": "33c4ad20-8226-4cb1-8c9b-13b1b6d93123",
   "metadata": {},
   "outputs": [
    {
     "name": "stdout",
     "output_type": "stream",
     "text": [
      "['a', 'b', 'p', 'u', 'o']\n",
      "('a', 'b', 'p', 'u', 'o')\n"
     ]
    }
   ],
   "source": [
    "my_tuple = ('a','b','p','u','o')\n",
    "\n",
    "my_list = list(my_tuple)\n",
    "print(my_list)\n",
    "print(my_tuple)"
   ]
  },
  {
   "cell_type": "code",
   "execution_count": 21,
   "id": "af25eacf-0fa1-4e68-9e4c-7cfc58f581fa",
   "metadata": {},
   "outputs": [],
   "source": [
    "a = [1,2,3,4,5,6,7,8,9]\n",
    "b = a[2:6]"
   ]
  },
  {
   "cell_type": "code",
   "execution_count": 22,
   "id": "db33d132-0335-4f47-9db6-421050be704e",
   "metadata": {},
   "outputs": [
    {
     "data": {
      "text/plain": [
       "[3, 4, 5, 6]"
      ]
     },
     "execution_count": 22,
     "metadata": {},
     "output_type": "execute_result"
    }
   ],
   "source": [
    "b"
   ]
  },
  {
   "cell_type": "code",
   "execution_count": 23,
   "id": "cf69e154-24dc-40a6-8341-d31e0291000c",
   "metadata": {},
   "outputs": [],
   "source": [
    "b = a[::-1]"
   ]
  },
  {
   "cell_type": "code",
   "execution_count": 24,
   "id": "9e9726e9-1fc5-459b-a9ce-2185addaed3b",
   "metadata": {},
   "outputs": [
    {
     "data": {
      "text/plain": [
       "[9, 8, 7, 6, 5, 4, 3, 2, 1]"
      ]
     },
     "execution_count": 24,
     "metadata": {},
     "output_type": "execute_result"
    }
   ],
   "source": [
    "b"
   ]
  },
  {
   "cell_type": "code",
   "execution_count": 26,
   "id": "a8b2c5b7-caa2-4dce-bd2f-889a25f858a9",
   "metadata": {},
   "outputs": [],
   "source": [
    " b = a[::1]"
   ]
  },
  {
   "cell_type": "code",
   "execution_count": 27,
   "id": "9c81e49d-7b78-4207-8481-53946d86d53a",
   "metadata": {},
   "outputs": [
    {
     "data": {
      "text/plain": [
       "[1, 2, 3, 4, 5, 6, 7, 8, 9]"
      ]
     },
     "execution_count": 27,
     "metadata": {},
     "output_type": "execute_result"
    }
   ],
   "source": [
    "b"
   ]
  },
  {
   "cell_type": "code",
   "execution_count": 30,
   "id": "b0e04376-cd1a-44ad-b6d8-5eea2389f70a",
   "metadata": {},
   "outputs": [],
   "source": [
    " b = a[1::2]"
   ]
  },
  {
   "cell_type": "code",
   "execution_count": 31,
   "id": "b491e394-5d9e-4e3b-9e31-9179466f06a9",
   "metadata": {},
   "outputs": [
    {
     "data": {
      "text/plain": [
       "[2, 4, 6, 8]"
      ]
     },
     "execution_count": 31,
     "metadata": {},
     "output_type": "execute_result"
    }
   ],
   "source": [
    "b"
   ]
  },
  {
   "cell_type": "code",
   "execution_count": 32,
   "id": "86777df6-08bd-4266-b96f-87845b330050",
   "metadata": {},
   "outputs": [],
   "source": [
    "b = a[2:7:4]"
   ]
  },
  {
   "cell_type": "code",
   "execution_count": 33,
   "id": "b8c092f5-af12-4608-84a5-6067745e6dd2",
   "metadata": {},
   "outputs": [
    {
     "data": {
      "text/plain": [
       "[3, 7]"
      ]
     },
     "execution_count": 33,
     "metadata": {},
     "output_type": "execute_result"
    }
   ],
   "source": [
    "b"
   ]
  },
  {
   "cell_type": "code",
   "execution_count": 34,
   "id": "119ada89-5b52-40a9-853d-6cd8446bba53",
   "metadata": {},
   "outputs": [
    {
     "data": {
      "text/plain": [
       "[1, 2, 3, 4, 5, 6, 7, 8, 9]"
      ]
     },
     "execution_count": 34,
     "metadata": {},
     "output_type": "execute_result"
    }
   ],
   "source": [
    "a"
   ]
  },
  {
   "cell_type": "code",
   "execution_count": 35,
   "id": "69bdaba0-96ea-4b91-bff8-87a54e3caa4a",
   "metadata": {},
   "outputs": [],
   "source": [
    "b = a[3:8:2]"
   ]
  },
  {
   "cell_type": "code",
   "execution_count": 36,
   "id": "8e13e21c-49af-404e-a384-10c3d8f7199a",
   "metadata": {},
   "outputs": [
    {
     "data": {
      "text/plain": [
       "[4, 6, 8]"
      ]
     },
     "execution_count": 36,
     "metadata": {},
     "output_type": "execute_result"
    }
   ],
   "source": [
    "b"
   ]
  },
  {
   "cell_type": "code",
   "execution_count": 37,
   "id": "eba675b1-9188-4dbb-a461-9577f86d0044",
   "metadata": {},
   "outputs": [],
   "source": [
    "b = a[8:2:2]"
   ]
  },
  {
   "cell_type": "code",
   "execution_count": 38,
   "id": "44d36a19-b38a-444b-ae87-8d301bb99103",
   "metadata": {},
   "outputs": [
    {
     "data": {
      "text/plain": [
       "[]"
      ]
     },
     "execution_count": 38,
     "metadata": {},
     "output_type": "execute_result"
    }
   ],
   "source": [
    "b"
   ]
  },
  {
   "cell_type": "code",
   "execution_count": 41,
   "id": "88504928-8a7b-4c28-86df-fab406406e61",
   "metadata": {},
   "outputs": [],
   "source": [
    "b = a[1:2:2]"
   ]
  },
  {
   "cell_type": "code",
   "execution_count": 42,
   "id": "fae8c359-fdcb-47bf-b755-654a59d3aba3",
   "metadata": {},
   "outputs": [
    {
     "data": {
      "text/plain": [
       "[2]"
      ]
     },
     "execution_count": 42,
     "metadata": {},
     "output_type": "execute_result"
    }
   ],
   "source": [
    "b"
   ]
  },
  {
   "cell_type": "code",
   "execution_count": 47,
   "id": "189e3a2a-b4b7-4971-821e-a7264995c770",
   "metadata": {},
   "outputs": [],
   "source": [
    "b = a[8:2:-2]"
   ]
  },
  {
   "cell_type": "code",
   "execution_count": 48,
   "id": "3fc89db1-64ae-482f-bb9f-5c821c29a851",
   "metadata": {},
   "outputs": [
    {
     "data": {
      "text/plain": [
       "[9, 7, 5]"
      ]
     },
     "execution_count": 48,
     "metadata": {},
     "output_type": "execute_result"
    }
   ],
   "source": [
    "b"
   ]
  },
  {
   "cell_type": "code",
   "execution_count": null,
   "id": "dfa8f4e4-9eec-45b4-a9e3-ef6809bcfddc",
   "metadata": {},
   "outputs": [],
   "source": []
  },
  {
   "cell_type": "code",
   "execution_count": 49,
   "id": "daa365e2-0421-4fd5-bbb3-73080eb0ddd7",
   "metadata": {},
   "outputs": [
    {
     "data": {
      "text/plain": [
       "[1, 2, 3, 4, 5, 6, 7, 8, 9]"
      ]
     },
     "execution_count": 49,
     "metadata": {},
     "output_type": "execute_result"
    }
   ],
   "source": [
    "a"
   ]
  },
  {
   "cell_type": "code",
   "execution_count": 50,
   "id": "d39fece2-e6b2-4c11-949c-f7114268cfda",
   "metadata": {},
   "outputs": [],
   "source": [
    "b = a[-2:1:-3]"
   ]
  },
  {
   "cell_type": "code",
   "execution_count": 51,
   "id": "bb31f04d-468c-4e30-94e9-97246ed7d6b9",
   "metadata": {},
   "outputs": [
    {
     "data": {
      "text/plain": [
       "[8, 5]"
      ]
     },
     "execution_count": 51,
     "metadata": {},
     "output_type": "execute_result"
    }
   ],
   "source": [
    "b"
   ]
  },
  {
   "cell_type": "code",
   "execution_count": 52,
   "id": "1686eee6-40f4-4801-a691-0d56a74d501e",
   "metadata": {},
   "outputs": [],
   "source": [
    "b = a[8:-9:-3]"
   ]
  },
  {
   "cell_type": "code",
   "execution_count": 53,
   "id": "15be2e44-3433-45b8-8286-5a3eeab15cc0",
   "metadata": {},
   "outputs": [
    {
     "data": {
      "text/plain": [
       "[9, 6, 3]"
      ]
     },
     "execution_count": 53,
     "metadata": {},
     "output_type": "execute_result"
    }
   ],
   "source": [
    "b"
   ]
  },
  {
   "cell_type": "code",
   "execution_count": 56,
   "id": "5072da2b-a80b-4c98-a9f5-2642c5fbd36a",
   "metadata": {},
   "outputs": [],
   "source": [
    "b = a[-2:-9:-3]\n"
   ]
  },
  {
   "cell_type": "code",
   "execution_count": 57,
   "id": "dd4f74dd-d84c-4473-a5e2-eb08abc9cee7",
   "metadata": {},
   "outputs": [
    {
     "data": {
      "text/plain": [
       "[8, 5, 2]"
      ]
     },
     "execution_count": 57,
     "metadata": {},
     "output_type": "execute_result"
    }
   ],
   "source": [
    "b"
   ]
  },
  {
   "cell_type": "code",
   "execution_count": 58,
   "id": "51489fe6-0810-4582-bd07-3f494b3d00c8",
   "metadata": {},
   "outputs": [
    {
     "name": "stdout",
     "output_type": "stream",
     "text": [
      "max\n",
      "28\n",
      "boston\n"
     ]
    }
   ],
   "source": [
    "my_tuple = ('max', 28, 'boston')\n",
    "\n",
    "name,age,city = my_tuple\n",
    "print(name)\n",
    "print(age)\n",
    "print(city)"
   ]
  },
  {
   "cell_type": "code",
   "execution_count": 59,
   "id": "bbe47620-0be4-4f66-be57-ea3cdf93dabf",
   "metadata": {},
   "outputs": [
    {
     "ename": "ValueError",
     "evalue": "too many values to unpack (expected 2)",
     "output_type": "error",
     "traceback": [
      "\u001b[1;31m---------------------------------------------------------------------------\u001b[0m",
      "\u001b[1;31mValueError\u001b[0m                                Traceback (most recent call last)",
      "Cell \u001b[1;32mIn[59], line 3\u001b[0m\n\u001b[0;32m      1\u001b[0m my_tuple \u001b[38;5;241m=\u001b[39m (\u001b[38;5;124m'\u001b[39m\u001b[38;5;124mmax\u001b[39m\u001b[38;5;124m'\u001b[39m, \u001b[38;5;241m28\u001b[39m, \u001b[38;5;124m'\u001b[39m\u001b[38;5;124mboston\u001b[39m\u001b[38;5;124m'\u001b[39m)\n\u001b[1;32m----> 3\u001b[0m name,age\u001b[38;5;241m=\u001b[39m my_tuple\n\u001b[0;32m      4\u001b[0m \u001b[38;5;28mprint\u001b[39m(name)\n\u001b[0;32m      5\u001b[0m \u001b[38;5;28mprint\u001b[39m(age)\n",
      "\u001b[1;31mValueError\u001b[0m: too many values to unpack (expected 2)"
     ]
    }
   ],
   "source": [
    "my_tuple = ('max', 28, 'boston')\n",
    "\n",
    "name,age= my_tuple\n",
    "print(name)\n",
    "print(age)\n",
    "print(city)"
   ]
  },
  {
   "cell_type": "code",
   "execution_count": null,
   "id": "a0e19122-ef49-4831-b61d-7f54ac951ca1",
   "metadata": {},
   "outputs": [],
   "source": []
  },
  {
   "cell_type": "code",
   "execution_count": 61,
   "id": "075cbd24-1820-48b5-9c03-c71e227830a9",
   "metadata": {},
   "outputs": [
    {
     "name": "stdout",
     "output_type": "stream",
     "text": [
      "1\n",
      "5\n",
      "6\n",
      "[2, 3, 4]\n"
     ]
    }
   ],
   "source": [
    "my_tuple = (1,2,3,4,5,6)\n",
    "\n",
    "i1 ,*i2,i3,i4 = my_tuple\n",
    "print(i1)\n",
    "print(i3)\n",
    "print(i4)\n",
    "print(i2)"
   ]
  },
  {
   "cell_type": "code",
   "execution_count": null,
   "id": "a5d83002-605f-4c74-b77c-62cac889253d",
   "metadata": {},
   "outputs": [],
   "source": []
  }
 ],
 "metadata": {
  "kernelspec": {
   "display_name": "Python 3 (ipykernel)",
   "language": "python",
   "name": "python3"
  },
  "language_info": {
   "codemirror_mode": {
    "name": "ipython",
    "version": 3
   },
   "file_extension": ".py",
   "mimetype": "text/x-python",
   "name": "python",
   "nbconvert_exporter": "python",
   "pygments_lexer": "ipython3",
   "version": "3.10.2"
  }
 },
 "nbformat": 4,
 "nbformat_minor": 5
}
