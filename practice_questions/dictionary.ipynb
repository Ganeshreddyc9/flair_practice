{
 "cells": [
  {
   "cell_type": "code",
   "execution_count": 1,
   "id": "9c0f1df2-28c3-4aa5-b1b3-0a5252464577",
   "metadata": {},
   "outputs": [],
   "source": [
    "#  Dictionary is an unordered , mutable datatype .\n",
    "# it contains key:value pairs key and value are seperated by (:) colan\n",
    "# key value pairs are seperated by ',' everything enclosed in {} "
   ]
  },
  {
   "cell_type": "code",
   "execution_count": 2,
   "id": "d6268daf-e7cf-45d1-b575-953911132db8",
   "metadata": {},
   "outputs": [],
   "source": [
    "# ex:\n",
    "mydict = {'name' :'max','age':28,'city':'new york'}"
   ]
  },
  {
   "cell_type": "code",
   "execution_count": 3,
   "id": "afbc6c84-e8ce-4b1d-a6f5-eabd2e4e3579",
   "metadata": {},
   "outputs": [
    {
     "data": {
      "text/plain": [
       "{'name': 'max', 'age': 28, 'city': 'new york'}"
      ]
     },
     "execution_count": 3,
     "metadata": {},
     "output_type": "execute_result"
    }
   ],
   "source": [
    "mydict"
   ]
  },
  {
   "cell_type": "code",
   "execution_count": 4,
   "id": "86dd4761-e12c-4d61-b66c-fc870118dd4f",
   "metadata": {},
   "outputs": [],
   "source": [
    "mydict2 = dict(name ='ganesh',age = 27,city= 'boston')"
   ]
  },
  {
   "cell_type": "code",
   "execution_count": 5,
   "id": "5c843b31-3be1-492d-8bb2-a627036c5527",
   "metadata": {},
   "outputs": [
    {
     "data": {
      "text/plain": [
       "{'name': 'ganesh', 'age': 27, 'city': 'boston'}"
      ]
     },
     "execution_count": 5,
     "metadata": {},
     "output_type": "execute_result"
    }
   ],
   "source": [
    "mydict2"
   ]
  },
  {
   "cell_type": "code",
   "execution_count": 6,
   "id": "c0b7cb24-b9fa-4ffb-9234-f94de069819b",
   "metadata": {},
   "outputs": [
    {
     "ename": "SyntaxError",
     "evalue": "invalid syntax (856611967.py, line 1)",
     "output_type": "error",
     "traceback": [
      "\u001b[1;36m  Cell \u001b[1;32mIn[6], line 1\u001b[1;36m\u001b[0m\n\u001b[1;33m    mydict2 = dict(name :'ganesh',age : 27,city: 'boston')\u001b[0m\n\u001b[1;37m                        ^\u001b[0m\n\u001b[1;31mSyntaxError\u001b[0m\u001b[1;31m:\u001b[0m invalid syntax\n"
     ]
    }
   ],
   "source": [
    "mydict2 = dict(name ='ganesh',age : 27,city: 'boston')"
   ]
  },
  {
   "cell_type": "code",
   "execution_count": 8,
   "id": "00470f5e-1bda-419b-9d4c-ac194cc07fbb",
   "metadata": {},
   "outputs": [
    {
     "name": "stdout",
     "output_type": "stream",
     "text": [
      "['__class__', '__class_getitem__', '__contains__', '__delattr__', '__delitem__', '__dir__', '__doc__', '__eq__', '__format__', '__ge__', '__getattribute__', '__getitem__', '__gt__', '__hash__', '__init__', '__init_subclass__', '__ior__', '__iter__', '__le__', '__len__', '__lt__', '__ne__', '__new__', '__or__', '__reduce__', '__reduce_ex__', '__repr__', '__reversed__', '__ror__', '__setattr__', '__setitem__', '__sizeof__', '__str__', '__subclasshook__', 'clear', 'copy', 'fromkeys', 'get', 'items', 'keys', 'pop', 'popitem', 'setdefault', 'update', 'values']\n"
     ]
    }
   ],
   "source": [
    "print(dir(mydict2))"
   ]
  },
  {
   "cell_type": "code",
   "execution_count": 10,
   "id": "802fb8e6-a7c7-43a7-91bb-c587659ed15f",
   "metadata": {},
   "outputs": [],
   "source": [
    "# 'clear', 'copy', 'fromkeys', 'get', 'items', \n",
    "# 'keys', 'pop', 'popitem', 'setdefault', 'update', 'values']"
   ]
  },
  {
   "cell_type": "code",
   "execution_count": 11,
   "id": "4407b684-925d-4932-b942-9d07477829ed",
   "metadata": {},
   "outputs": [
    {
     "data": {
      "text/plain": [
       "{'name': 'max', 'age': 28, 'city': 'new york'}"
      ]
     },
     "execution_count": 11,
     "metadata": {},
     "output_type": "execute_result"
    }
   ],
   "source": [
    "mydict"
   ]
  },
  {
   "cell_type": "code",
   "execution_count": 21,
   "id": "db38f330-f94e-455d-b4b1-cd937e32ca54",
   "metadata": {},
   "outputs": [],
   "source": [
    "# to access values\n",
    "value1 = mydict[\"name\"]\n",
    "value2 = mydict[\"age\"]\n",
    "value3 = mydict[\"city\"]"
   ]
  },
  {
   "cell_type": "code",
   "execution_count": 22,
   "id": "3be61f60-ee0a-4f99-9fd5-45f783379bbd",
   "metadata": {},
   "outputs": [
    {
     "name": "stdout",
     "output_type": "stream",
     "text": [
      "max\n",
      "28\n",
      "new york\n"
     ]
    }
   ],
   "source": [
    "print(value1)\n",
    "print(value2)\n",
    "print(value3)"
   ]
  },
  {
   "cell_type": "code",
   "execution_count": 23,
   "id": "c3e50db3-d7ee-4b94-af4f-2ecd4b81f96d",
   "metadata": {},
   "outputs": [
    {
     "ename": "KeyError",
     "evalue": "'lname'",
     "output_type": "error",
     "traceback": [
      "\u001b[1;31m---------------------------------------------------------------------------\u001b[0m",
      "\u001b[1;31mKeyError\u001b[0m                                  Traceback (most recent call last)",
      "Cell \u001b[1;32mIn[23], line 1\u001b[0m\n\u001b[1;32m----> 1\u001b[0m \u001b[38;5;28mprint\u001b[39m(\u001b[43mmydict\u001b[49m\u001b[43m[\u001b[49m\u001b[38;5;124;43m'\u001b[39;49m\u001b[38;5;124;43mlname\u001b[39;49m\u001b[38;5;124;43m'\u001b[39;49m\u001b[43m]\u001b[49m)\n",
      "\u001b[1;31mKeyError\u001b[0m: 'lname'"
     ]
    }
   ],
   "source": [
    "print(mydict['lname'])"
   ]
  },
  {
   "cell_type": "code",
   "execution_count": 24,
   "id": "32fb3d5e-7c0d-426f-87c0-68a99d8d7e8b",
   "metadata": {},
   "outputs": [],
   "source": [
    "# to adding key,value\n",
    "mydict['emial'] = 'abc@xyz.com'"
   ]
  },
  {
   "cell_type": "code",
   "execution_count": 25,
   "id": "2294d221-b242-401e-afb1-195f567c9509",
   "metadata": {},
   "outputs": [
    {
     "data": {
      "text/plain": [
       "{'name': 'max', 'age': 28, 'city': 'new york', 'emial': 'abc@xyz.com'}"
      ]
     },
     "execution_count": 25,
     "metadata": {},
     "output_type": "execute_result"
    }
   ],
   "source": [
    "mydict"
   ]
  },
  {
   "cell_type": "code",
   "execution_count": 27,
   "id": "93f9d897-2b18-4ee5-b8f0-0d1ca51cf8ae",
   "metadata": {},
   "outputs": [],
   "source": [
    "mydict['emial'] = 'coolabc@xyz.com'"
   ]
  },
  {
   "cell_type": "code",
   "execution_count": 28,
   "id": "9caa1340-fbb0-45c8-bb33-762b0a2fd2d8",
   "metadata": {},
   "outputs": [
    {
     "data": {
      "text/plain": [
       "{'name': 'max', 'age': 28, 'city': 'new york', 'emial': 'coolabc@xyz.com'}"
      ]
     },
     "execution_count": 28,
     "metadata": {},
     "output_type": "execute_result"
    }
   ],
   "source": [
    "mydict"
   ]
  },
  {
   "cell_type": "code",
   "execution_count": 30,
   "id": "cc7f65b3-30df-482b-9a10-fe8d5115126a",
   "metadata": {},
   "outputs": [],
   "source": [
    "del mydict['emial']"
   ]
  },
  {
   "cell_type": "code",
   "execution_count": 31,
   "id": "e70139f1-60e8-47cc-ba01-4a41607eb7fe",
   "metadata": {},
   "outputs": [
    {
     "data": {
      "text/plain": [
       "{'name': 'max', 'age': 28, 'city': 'new york'}"
      ]
     },
     "execution_count": 31,
     "metadata": {},
     "output_type": "execute_result"
    }
   ],
   "source": [
    "mydict"
   ]
  },
  {
   "cell_type": "code",
   "execution_count": 32,
   "id": "69c76b02-072e-4f3d-9c3e-c4f1da5cdabd",
   "metadata": {},
   "outputs": [],
   "source": [
    "# 'clear', 'copy', 'fromkeys', 'get', 'items', \n",
    "# 'keys', 'pop', 'popitem', 'setdefault', 'update', 'values']"
   ]
  },
  {
   "cell_type": "code",
   "execution_count": 33,
   "id": "4db73382-4e27-406f-b32e-a6086aa0eaa0",
   "metadata": {},
   "outputs": [
    {
     "name": "stdout",
     "output_type": "stream",
     "text": [
      "Help on built-in function fromkeys:\n",
      "\n",
      "fromkeys(iterable, value=None, /) method of builtins.type instance\n",
      "    Create a new dictionary with keys from iterable and values set to value.\n",
      "\n"
     ]
    }
   ],
   "source": [
    "help(mydict.fromkeys)"
   ]
  },
  {
   "cell_type": "code",
   "execution_count": 34,
   "id": "67057cb3-fba8-4dc8-9eab-e4ec1778ba65",
   "metadata": {},
   "outputs": [],
   "source": [
    "l = [1,2,3]"
   ]
  },
  {
   "cell_type": "code",
   "execution_count": 38,
   "id": "a5a82837-ba21-4f40-abcd-393f88a46e37",
   "metadata": {},
   "outputs": [
    {
     "data": {
      "text/plain": [
       "{1: 'hey', 2: 'hey', 3: 'hey'}"
      ]
     },
     "execution_count": 38,
     "metadata": {},
     "output_type": "execute_result"
    }
   ],
   "source": [
    "mydict.fromkeys(l,'hey')"
   ]
  },
  {
   "cell_type": "code",
   "execution_count": 39,
   "id": "eeaf110f-adab-4b23-a6d0-2ba52abf630d",
   "metadata": {},
   "outputs": [],
   "source": [
    " # 'get', 'items', # 'clear', 'copy',\n",
    "# 'keys', 'pop', 'popitem', 'setdefault', 'update', 'values']"
   ]
  },
  {
   "cell_type": "code",
   "execution_count": 40,
   "id": "6925c2a0-89c7-446e-ba84-9abf9a6c953f",
   "metadata": {},
   "outputs": [
    {
     "data": {
      "text/plain": [
       "28"
      ]
     },
     "execution_count": 40,
     "metadata": {},
     "output_type": "execute_result"
    }
   ],
   "source": [
    "mydict.pop('age')"
   ]
  },
  {
   "cell_type": "code",
   "execution_count": 41,
   "id": "51257148-e8b4-4011-a209-e37aa73ecdd8",
   "metadata": {},
   "outputs": [
    {
     "data": {
      "text/plain": [
       "{'name': 'max', 'city': 'new york'}"
      ]
     },
     "execution_count": 41,
     "metadata": {},
     "output_type": "execute_result"
    }
   ],
   "source": [
    "mydict"
   ]
  },
  {
   "cell_type": "code",
   "execution_count": 42,
   "id": "26056d17-7e9b-4c22-9a24-8f7dc20259df",
   "metadata": {},
   "outputs": [
    {
     "data": {
      "text/plain": [
       "('city', 'new york')"
      ]
     },
     "execution_count": 42,
     "metadata": {},
     "output_type": "execute_result"
    }
   ],
   "source": [
    "mydict.popitem()"
   ]
  },
  {
   "cell_type": "code",
   "execution_count": 43,
   "id": "7dce2e87-83ec-4781-b529-12830fb91d5e",
   "metadata": {},
   "outputs": [],
   "source": [
    "mydict2 = dict(name ='ganesh',age = 27,city= 'boston')"
   ]
  },
  {
   "cell_type": "code",
   "execution_count": 45,
   "id": "2f8ee98d-eebe-4f81-9604-1ca5ffeaaeff",
   "metadata": {},
   "outputs": [
    {
     "data": {
      "text/plain": [
       "('city', 'boston')"
      ]
     },
     "execution_count": 45,
     "metadata": {},
     "output_type": "execute_result"
    }
   ],
   "source": [
    "mydict2.popitem()"
   ]
  },
  {
   "cell_type": "code",
   "execution_count": 47,
   "id": "6cd30cc8-9a5b-4500-a598-986f27b81924",
   "metadata": {},
   "outputs": [],
   "source": [
    "mydict2 = dict(name ='ganesh',age = 27,city= 'boston')"
   ]
  },
  {
   "cell_type": "code",
   "execution_count": 48,
   "id": "d5ce4da2-c3a6-4136-9105-4ac0fa17ecc6",
   "metadata": {},
   "outputs": [
    {
     "data": {
      "text/plain": [
       "('city', 'boston')"
      ]
     },
     "execution_count": 48,
     "metadata": {},
     "output_type": "execute_result"
    }
   ],
   "source": [
    "mydict2.popitem()"
   ]
  },
  {
   "cell_type": "code",
   "execution_count": 53,
   "id": "fab4c270-aba6-4315-b05e-a49bda96eafc",
   "metadata": {},
   "outputs": [
    {
     "name": "stdout",
     "output_type": "stream",
     "text": [
      "ganesh\n"
     ]
    }
   ],
   "source": [
    "if 'name' in mydict2:\n",
    "    print(mydict2['name'])\n",
    "else:\n",
    "    print('value is not present')"
   ]
  },
  {
   "cell_type": "code",
   "execution_count": 54,
   "id": "20d5c398-dcb1-4565-accc-9aeef82ff292",
   "metadata": {},
   "outputs": [
    {
     "data": {
      "text/plain": [
       "{'name': 'ganesh', 'age': 27}"
      ]
     },
     "execution_count": 54,
     "metadata": {},
     "output_type": "execute_result"
    }
   ],
   "source": [
    "mydict2"
   ]
  },
  {
   "cell_type": "code",
   "execution_count": 52,
   "id": "1f5764ae-9440-413a-8fdf-4a1afabe248a",
   "metadata": {},
   "outputs": [
    {
     "data": {
      "text/plain": [
       "'ganesh'"
      ]
     },
     "execution_count": 52,
     "metadata": {},
     "output_type": "execute_result"
    }
   ],
   "source": [
    "mydict2['name']"
   ]
  },
  {
   "cell_type": "code",
   "execution_count": 55,
   "id": "6191dbb3-fea3-4acf-9951-f489eebfdcb7",
   "metadata": {},
   "outputs": [
    {
     "name": "stdout",
     "output_type": "stream",
     "text": [
      "ganesh\n"
     ]
    }
   ],
   "source": [
    "\n",
    "try:\n",
    "    print(mydict2['name'])\n",
    "except:\n",
    "    print('error')"
   ]
  },
  {
   "cell_type": "code",
   "execution_count": 56,
   "id": "d822fa11-a37e-4e51-a660-8c928bd227d5",
   "metadata": {},
   "outputs": [
    {
     "name": "stdout",
     "output_type": "stream",
     "text": [
      "error\n"
     ]
    }
   ],
   "source": [
    "\n",
    "try:\n",
    "    print(mydict2['lname'])\n",
    "except:\n",
    "    print('error')"
   ]
  },
  {
   "cell_type": "code",
   "execution_count": 57,
   "id": "7007ee70-aa41-40aa-9885-dc33aac059ad",
   "metadata": {},
   "outputs": [
    {
     "name": "stdout",
     "output_type": "stream",
     "text": [
      "name\n",
      "age\n"
     ]
    }
   ],
   "source": [
    "# using loop\\\n",
    "\n",
    "for key in mydict2:\n",
    "    print(key)"
   ]
  },
  {
   "cell_type": "code",
   "execution_count": 62,
   "id": "c9b57342-321c-4359-b5c2-998e8d8f6f3b",
   "metadata": {},
   "outputs": [
    {
     "name": "stdout",
     "output_type": "stream",
     "text": [
      "name\n",
      "age\n",
      "city\n"
     ]
    }
   ],
   "source": [
    "mydict2 = dict(name ='ganesh',age = 27,city= 'boston')\n",
    "\n",
    "for key in mydict2:\n",
    "    print(key)"
   ]
  },
  {
   "cell_type": "code",
   "execution_count": 65,
   "id": "91377412-e86b-4ac0-8382-ac1f58ab4f21",
   "metadata": {},
   "outputs": [
    {
     "name": "stdout",
     "output_type": "stream",
     "text": [
      "ganesh\n",
      "27\n",
      "boston\n"
     ]
    }
   ],
   "source": [
    "mydict2 = dict(name ='ganesh',age = 27,city= 'boston')\n",
    "\n",
    "for key in mydict2.values():\n",
    "    print(key)"
   ]
  },
  {
   "cell_type": "code",
   "execution_count": 67,
   "id": "59d2ed8e-0faa-44e3-a3f5-61580f667810",
   "metadata": {},
   "outputs": [
    {
     "name": "stdout",
     "output_type": "stream",
     "text": [
      "name ganesh\n",
      "age 27\n",
      "city boston\n"
     ]
    }
   ],
   "source": [
    "mydict2 = dict(name ='ganesh',age = 27,city= 'boston')\n",
    "\n",
    "for key,value in mydict2.items():\n",
    "    print(key,value)"
   ]
  },
  {
   "cell_type": "code",
   "execution_count": 68,
   "id": "5feaae88-725a-4b86-ab59-35452a472b55",
   "metadata": {},
   "outputs": [],
   "source": [
    "# 'get', 'items', # 'clear', 'copy',\n",
    "# 'keys', 'pop', 'popitem', 'setdefault', 'update', 'values']"
   ]
  },
  {
   "cell_type": "code",
   "execution_count": 69,
   "id": "48062d20-1299-4f7e-97b2-7b938618f0ec",
   "metadata": {},
   "outputs": [
    {
     "data": {
      "text/plain": [
       "dict_keys(['name', 'age', 'city'])"
      ]
     },
     "execution_count": 69,
     "metadata": {},
     "output_type": "execute_result"
    }
   ],
   "source": [
    "mydict2.keys()"
   ]
  },
  {
   "cell_type": "code",
   "execution_count": 71,
   "id": "e86b4b3c-0f1a-44f2-8ba8-146e329c05fb",
   "metadata": {},
   "outputs": [
    {
     "data": {
      "text/plain": [
       "dict_values(['ganesh', 27, 'boston'])"
      ]
     },
     "execution_count": 71,
     "metadata": {},
     "output_type": "execute_result"
    }
   ],
   "source": [
    "mydict2.values()"
   ]
  },
  {
   "cell_type": "code",
   "execution_count": 73,
   "id": "72e32c54-6560-4ad1-9e58-92daca1bd363",
   "metadata": {},
   "outputs": [
    {
     "name": "stdout",
     "output_type": "stream",
     "text": [
      "Help on built-in function setdefault:\n",
      "\n",
      "setdefault(key, default=None, /) method of builtins.dict instance\n",
      "    Insert key with a value of default if key is not in the dictionary.\n",
      "    \n",
      "    Return the value for key if key is in the dictionary, else default.\n",
      "\n"
     ]
    }
   ],
   "source": [
    "help(mydict2.setdefault)"
   ]
  },
  {
   "cell_type": "code",
   "execution_count": 77,
   "id": "57192764-c652-4268-91af-32a497e40b22",
   "metadata": {},
   "outputs": [
    {
     "data": {
      "text/plain": [
       "123"
      ]
     },
     "execution_count": 77,
     "metadata": {},
     "output_type": "execute_result"
    }
   ],
   "source": [
    "mydict.setdefault('name',123)"
   ]
  },
  {
   "cell_type": "code",
   "execution_count": 78,
   "id": "5133457e-25c0-4cb2-953a-ab8c59e34822",
   "metadata": {},
   "outputs": [
    {
     "data": {
      "text/plain": [
       "{'name': 123}"
      ]
     },
     "execution_count": 78,
     "metadata": {},
     "output_type": "execute_result"
    }
   ],
   "source": [
    "mydict"
   ]
  },
  {
   "cell_type": "code",
   "execution_count": 79,
   "id": "d3966a47-45fa-49ef-97b3-0f1461c08407",
   "metadata": {},
   "outputs": [],
   "source": [
    "#  'get', 'items', # 'clear', 'copy',\n",
    "# # 'keys', 'pop', 'popitem', 'setdefault', 'update', 'values']"
   ]
  },
  {
   "cell_type": "code",
   "execution_count": 81,
   "id": "5cd8dc4b-70b9-4013-bd72-38e87337c0e2",
   "metadata": {},
   "outputs": [
    {
     "data": {
      "text/plain": [
       "123"
      ]
     },
     "execution_count": 81,
     "metadata": {},
     "output_type": "execute_result"
    }
   ],
   "source": [
    "mydict.pop('name')"
   ]
  },
  {
   "cell_type": "code",
   "execution_count": 82,
   "id": "ffc8a343-b894-49dd-9f05-33fad6438f1f",
   "metadata": {},
   "outputs": [
    {
     "data": {
      "text/plain": [
       "('city', 'new york')"
      ]
     },
     "execution_count": 82,
     "metadata": {},
     "output_type": "execute_result"
    }
   ],
   "source": [
    "mydict = {'name' :'max','age':28,'city':'new york'}\n",
    "\n",
    "mydict.popitem()"
   ]
  },
  {
   "cell_type": "code",
   "execution_count": 83,
   "id": "95f8c1a4-b07f-40c8-9dc2-929f3b8a660b",
   "metadata": {},
   "outputs": [
    {
     "name": "stdout",
     "output_type": "stream",
     "text": [
      "Help on built-in function update:\n",
      "\n",
      "update(...) method of builtins.dict instance\n",
      "    D.update([E, ]**F) -> None.  Update D from dict/iterable E and F.\n",
      "    If E is present and has a .keys() method, then does:  for k in E: D[k] = E[k]\n",
      "    If E is present and lacks a .keys() method, then does:  for k, v in E: D[k] = v\n",
      "    In either case, this is followed by: for k in F:  D[k] = F[k]\n",
      "\n"
     ]
    }
   ],
   "source": [
    "help(mydict.update)"
   ]
  },
  {
   "cell_type": "code",
   "execution_count": 84,
   "id": "2d5225c5-31a9-4390-bfee-df1e97bcac6c",
   "metadata": {},
   "outputs": [
    {
     "data": {
      "text/plain": [
       "{'name': 'ganesh', 'age': 27, 'city': 'boston'}"
      ]
     },
     "execution_count": 84,
     "metadata": {},
     "output_type": "execute_result"
    }
   ],
   "source": [
    "mydict2"
   ]
  },
  {
   "cell_type": "code",
   "execution_count": 85,
   "id": "5e7a4801-16d3-4788-90e7-aee03718c682",
   "metadata": {},
   "outputs": [],
   "source": [
    "mydictc = mydict2"
   ]
  },
  {
   "cell_type": "code",
   "execution_count": 86,
   "id": "b5b3ceca-50af-45eb-b9f6-a0fef7df2935",
   "metadata": {},
   "outputs": [
    {
     "data": {
      "text/plain": [
       "{'name': 'ganesh', 'age': 27, 'city': 'boston'}"
      ]
     },
     "execution_count": 86,
     "metadata": {},
     "output_type": "execute_result"
    }
   ],
   "source": [
    "mydictc"
   ]
  },
  {
   "cell_type": "code",
   "execution_count": 87,
   "id": "815e6a3d-cb72-4fd9-b9cd-c94429c7b227",
   "metadata": {},
   "outputs": [
    {
     "data": {
      "text/plain": [
       "{'name': 'ganesh', 'age': 27, 'city': 'boston'}"
      ]
     },
     "execution_count": 87,
     "metadata": {},
     "output_type": "execute_result"
    }
   ],
   "source": [
    "mydict2"
   ]
  },
  {
   "cell_type": "code",
   "execution_count": 88,
   "id": "da3fe12e-8de6-49de-9193-fe8585c5c4fb",
   "metadata": {},
   "outputs": [],
   "source": [
    "mydict2['place'] = 'marathalli'"
   ]
  },
  {
   "cell_type": "code",
   "execution_count": 89,
   "id": "8c3e4dbc-008e-460d-ace8-6cd4f522e626",
   "metadata": {},
   "outputs": [
    {
     "data": {
      "text/plain": [
       "{'name': 'ganesh', 'age': 27, 'city': 'boston', 'place': 'marathalli'}"
      ]
     },
     "execution_count": 89,
     "metadata": {},
     "output_type": "execute_result"
    }
   ],
   "source": [
    "mydictc"
   ]
  },
  {
   "cell_type": "code",
   "execution_count": 90,
   "id": "75167f09-a713-4684-9fef-5ed67948a1cf",
   "metadata": {},
   "outputs": [
    {
     "data": {
      "text/plain": [
       "{'name': 'ganesh', 'age': 27, 'city': 'boston', 'place': 'marathalli'}"
      ]
     },
     "execution_count": 90,
     "metadata": {},
     "output_type": "execute_result"
    }
   ],
   "source": [
    "mydict2"
   ]
  },
  {
   "cell_type": "code",
   "execution_count": 91,
   "id": "b2ded0a7-7860-45ae-b923-0e2fcd55490c",
   "metadata": {},
   "outputs": [
    {
     "data": {
      "text/plain": [
       "{'name': 'ganesh', 'age': 27, 'city': 'boston', 'place': 'marathalli'}"
      ]
     },
     "execution_count": 91,
     "metadata": {},
     "output_type": "execute_result"
    }
   ],
   "source": [
    "mydict2"
   ]
  },
  {
   "cell_type": "code",
   "execution_count": 93,
   "id": "7a89a446-95b3-497a-a714-70cca7d2bf72",
   "metadata": {},
   "outputs": [],
   "source": [
    "my_dict = mydict2.copy()"
   ]
  },
  {
   "cell_type": "code",
   "execution_count": 95,
   "id": "862d9f64-337a-4363-9cdd-2c50ceb6a6e2",
   "metadata": {},
   "outputs": [
    {
     "data": {
      "text/plain": [
       "{'name': 'ganesh', 'age': 27, 'city': 'boston', 'place': 'marathalli'}"
      ]
     },
     "execution_count": 95,
     "metadata": {},
     "output_type": "execute_result"
    }
   ],
   "source": [
    "my_dict"
   ]
  },
  {
   "cell_type": "code",
   "execution_count": 96,
   "id": "32ea1bb2-fa97-4d40-b086-4d87dbea735d",
   "metadata": {},
   "outputs": [],
   "source": [
    "my_dict['email'] = 'xyz@.com'"
   ]
  },
  {
   "cell_type": "code",
   "execution_count": 97,
   "id": "48e5fa13-6d75-440f-94c6-a89e842d2ae8",
   "metadata": {},
   "outputs": [
    {
     "data": {
      "text/plain": [
       "{'name': 'ganesh', 'age': 27, 'city': 'boston', 'place': 'marathalli'}"
      ]
     },
     "execution_count": 97,
     "metadata": {},
     "output_type": "execute_result"
    }
   ],
   "source": [
    "mydict2"
   ]
  },
  {
   "cell_type": "code",
   "execution_count": 98,
   "id": "489e86a8-407d-4379-beec-74a53ecb37a7",
   "metadata": {},
   "outputs": [
    {
     "data": {
      "text/plain": [
       "{'name': 'ganesh',\n",
       " 'age': 27,\n",
       " 'city': 'boston',\n",
       " 'place': 'marathalli',\n",
       " 'email': 'xyz@.com'}"
      ]
     },
     "execution_count": 98,
     "metadata": {},
     "output_type": "execute_result"
    }
   ],
   "source": [
    "my_dict"
   ]
  },
  {
   "cell_type": "code",
   "execution_count": 99,
   "id": "bc99fc9d-4970-487c-aee7-9c5584994c6e",
   "metadata": {},
   "outputs": [],
   "source": [
    "# 'get', 'items', # 'clear', 'copy',\n",
    "# 'keys', 'pop', 'popitem', 'setdefault', 'update', 'values']"
   ]
  },
  {
   "cell_type": "code",
   "execution_count": 100,
   "id": "b38a76f0-78ba-41a4-8d11-6f3f0c085fe7",
   "metadata": {},
   "outputs": [
    {
     "data": {
      "text/plain": [
       "'ganesh'"
      ]
     },
     "execution_count": 100,
     "metadata": {},
     "output_type": "execute_result"
    }
   ],
   "source": [
    "my_dict.get('name')"
   ]
  },
  {
   "cell_type": "code",
   "execution_count": 103,
   "id": "9c92ab02-004f-4d00-b514-7393dc8255c5",
   "metadata": {},
   "outputs": [
    {
     "name": "stdout",
     "output_type": "stream",
     "text": [
      "None\n"
     ]
    }
   ],
   "source": [
    "print(my_dict.get('lname'))"
   ]
  },
  {
   "cell_type": "code",
   "execution_count": 105,
   "id": "8303b997-e36d-4966-9217-b3314e92d12c",
   "metadata": {},
   "outputs": [],
   "source": [
    "mydict.clear()"
   ]
  },
  {
   "cell_type": "code",
   "execution_count": 106,
   "id": "ebd48a0c-ae12-4e12-9100-148cc9064cc2",
   "metadata": {},
   "outputs": [
    {
     "data": {
      "text/plain": [
       "{}"
      ]
     },
     "execution_count": 106,
     "metadata": {},
     "output_type": "execute_result"
    }
   ],
   "source": [
    "mydict"
   ]
  },
  {
   "cell_type": "code",
   "execution_count": 107,
   "id": "c7530dca-71fc-450c-9bc4-804b4301c1fd",
   "metadata": {},
   "outputs": [
    {
     "data": {
      "text/plain": [
       "{'name': 'ganesh',\n",
       " 'age': 27,\n",
       " 'city': 'boston',\n",
       " 'place': 'marathalli',\n",
       " 'email': 'xyz@.com'}"
      ]
     },
     "execution_count": 107,
     "metadata": {},
     "output_type": "execute_result"
    }
   ],
   "source": [
    "my_dict"
   ]
  },
  {
   "cell_type": "code",
   "execution_count": 108,
   "id": "79833fcd-0848-42af-ace9-5bb74cbcdb9c",
   "metadata": {},
   "outputs": [
    {
     "data": {
      "text/plain": [
       "{'name': 'ganesh', 'age': 27, 'city': 'boston', 'place': 'marathalli'}"
      ]
     },
     "execution_count": 108,
     "metadata": {},
     "output_type": "execute_result"
    }
   ],
   "source": [
    "mydict2"
   ]
  },
  {
   "cell_type": "code",
   "execution_count": 109,
   "id": "bd80d519-ac4b-456b-996c-4ac3224ba477",
   "metadata": {},
   "outputs": [],
   "source": []
  },
  {
   "cell_type": "code",
   "execution_count": 112,
   "id": "b8b796f6-3081-4637-87ca-6641dab2dedb",
   "metadata": {},
   "outputs": [
    {
     "name": "stdout",
     "output_type": "stream",
     "text": [
      "{'name': 'ganesh', 'age': 27, 'city': 'boston', 'place': 'marathalli', 'email': 'xyz@.com'}\n"
     ]
    }
   ],
   "source": [
    "print(my_dict)"
   ]
  },
  {
   "cell_type": "code",
   "execution_count": 114,
   "id": "cdd2705d-21f4-46c5-bb76-0ec514b57de3",
   "metadata": {},
   "outputs": [
    {
     "name": "stdout",
     "output_type": "stream",
     "text": [
      "{'name': 'ganesh', 'age': 27, 'city': 'boston', 'place': 'marathalli'}\n"
     ]
    }
   ],
   "source": [
    "print(mydict2)"
   ]
  },
  {
   "cell_type": "code",
   "execution_count": 115,
   "id": "0302361f-fe4d-4ace-97a9-c57ed276a803",
   "metadata": {},
   "outputs": [],
   "source": [
    "my_dict.update(mydict2)"
   ]
  },
  {
   "cell_type": "code",
   "execution_count": 116,
   "id": "f474a0e9-8b17-4315-bd6b-c3eedcd81157",
   "metadata": {},
   "outputs": [
    {
     "name": "stdout",
     "output_type": "stream",
     "text": [
      "{'name': 'ganesh', 'age': 27, 'city': 'boston', 'place': 'marathalli', 'email': 'xyz@.com'}\n"
     ]
    }
   ],
   "source": [
    "print(my_dict)"
   ]
  },
  {
   "cell_type": "code",
   "execution_count": 117,
   "id": "8cc07f4c-3928-46eb-a3fb-0f956176799d",
   "metadata": {},
   "outputs": [
    {
     "name": "stdout",
     "output_type": "stream",
     "text": [
      "{'name': 'ganesh', 'age': 27, 'city': 'boston', 'place': 'marathalli'}\n"
     ]
    }
   ],
   "source": [
    "print(mydict2)"
   ]
  },
  {
   "cell_type": "code",
   "execution_count": 118,
   "id": "b71ec001-b378-4054-a708-ed9095d8a583",
   "metadata": {},
   "outputs": [],
   "source": [
    "mydict2.update(my_dict)"
   ]
  },
  {
   "cell_type": "code",
   "execution_count": 119,
   "id": "d8348a16-718b-4206-b3cc-241ee3faacb3",
   "metadata": {},
   "outputs": [
    {
     "data": {
      "text/plain": [
       "{'name': 'ganesh',\n",
       " 'age': 27,\n",
       " 'city': 'boston',\n",
       " 'place': 'marathalli',\n",
       " 'email': 'xyz@.com'}"
      ]
     },
     "execution_count": 119,
     "metadata": {},
     "output_type": "execute_result"
    }
   ],
   "source": [
    "mydict2"
   ]
  },
  {
   "cell_type": "code",
   "execution_count": 120,
   "id": "cbf6393b-bb8e-47c2-8849-3f732067109a",
   "metadata": {},
   "outputs": [
    {
     "name": "stdout",
     "output_type": "stream",
     "text": [
      "Help on built-in function update:\n",
      "\n",
      "update(...) method of builtins.dict instance\n",
      "    D.update([E, ]**F) -> None.  Update D from dict/iterable E and F.\n",
      "    If E is present and has a .keys() method, then does:  for k in E: D[k] = E[k]\n",
      "    If E is present and lacks a .keys() method, then does:  for k, v in E: D[k] = v\n",
      "    In either case, this is followed by: for k in F:  D[k] = F[k]\n",
      "\n"
     ]
    }
   ],
   "source": [
    "help(mydict2.update)"
   ]
  },
  {
   "cell_type": "code",
   "execution_count": 130,
   "id": "a03a03c5-19b3-4113-af87-ff709c9d3231",
   "metadata": {},
   "outputs": [],
   "source": [
    "my_dict = {'name' :'vartur','age':23,'email':'xyz@.com','place':'marathalli'}\n",
    "my_dict2 = dict(name ='mary' ,age = 25,city = 'boston',place = 'goa',trip= 'mallesvaram')"
   ]
  },
  {
   "cell_type": "code",
   "execution_count": 131,
   "id": "a120beb0-e059-417b-b489-e1ca029bd115",
   "metadata": {},
   "outputs": [],
   "source": [
    "my_dict.update(my_dict2)"
   ]
  },
  {
   "cell_type": "code",
   "execution_count": 132,
   "id": "debeac91-b1e2-4af7-98a2-eb24f71c28a4",
   "metadata": {},
   "outputs": [
    {
     "name": "stdout",
     "output_type": "stream",
     "text": [
      "{'name': 'mary', 'age': 25, 'email': 'xyz@.com', 'place': 'goa', 'city': 'boston', 'trip': 'mallesvaram'}\n"
     ]
    }
   ],
   "source": [
    "print(my_dict)"
   ]
  },
  {
   "cell_type": "code",
   "execution_count": 134,
   "id": "908cfcf2-98f4-46b7-861b-b05d1f83eb87",
   "metadata": {},
   "outputs": [],
   "source": [
    "mytuple = (8,9)\n",
    "mydict = {mytuple:17}"
   ]
  },
  {
   "cell_type": "code",
   "execution_count": 135,
   "id": "4eaef007-0e7d-4ca2-9752-99d541110a4c",
   "metadata": {},
   "outputs": [
    {
     "data": {
      "text/plain": [
       "{(8, 9): 17}"
      ]
     },
     "execution_count": 135,
     "metadata": {},
     "output_type": "execute_result"
    }
   ],
   "source": [
    "mydict"
   ]
  },
  {
   "cell_type": "code",
   "execution_count": 136,
   "id": "f5589196-8f8a-4f1a-bee1-286373f3f358",
   "metadata": {},
   "outputs": [
    {
     "ename": "TypeError",
     "evalue": "unhashable type: 'list'",
     "output_type": "error",
     "traceback": [
      "\u001b[1;31m---------------------------------------------------------------------------\u001b[0m",
      "\u001b[1;31mTypeError\u001b[0m                                 Traceback (most recent call last)",
      "Cell \u001b[1;32mIn[136], line 2\u001b[0m\n\u001b[0;32m      1\u001b[0m mytuple \u001b[38;5;241m=\u001b[39m [\u001b[38;5;241m8\u001b[39m,\u001b[38;5;241m9\u001b[39m]\n\u001b[1;32m----> 2\u001b[0m mydict \u001b[38;5;241m=\u001b[39m {mytuple:\u001b[38;5;241m17\u001b[39m}\n",
      "\u001b[1;31mTypeError\u001b[0m: unhashable type: 'list'"
     ]
    }
   ],
   "source": [
    "mytuple = [8,9]\n",
    "mydict = {mytuple:17}"
   ]
  },
  {
   "cell_type": "code",
   "execution_count": 138,
   "id": "ee1b6d03-9d01-4f20-b229-c287d15959ec",
   "metadata": {},
   "outputs": [
    {
     "ename": "TypeError",
     "evalue": "unhashable type: 'dict'",
     "output_type": "error",
     "traceback": [
      "\u001b[1;31m---------------------------------------------------------------------------\u001b[0m",
      "\u001b[1;31mTypeError\u001b[0m                                 Traceback (most recent call last)",
      "Cell \u001b[1;32mIn[138], line 2\u001b[0m\n\u001b[0;32m      1\u001b[0m mytuple \u001b[38;5;241m=\u001b[39m {\u001b[38;5;241m8\u001b[39m:\u001b[38;5;241m9\u001b[39m}\n\u001b[1;32m----> 2\u001b[0m mydict \u001b[38;5;241m=\u001b[39m {mytuple:\u001b[38;5;241m17\u001b[39m}\n",
      "\u001b[1;31mTypeError\u001b[0m: unhashable type: 'dict'"
     ]
    }
   ],
   "source": [
    "mytuple = {8:9}\n",
    "mydict = {mytuple:17}"
   ]
  },
  {
   "cell_type": "code",
   "execution_count": null,
   "id": "b85e21c7-8960-48b7-9932-63f220ccfa0f",
   "metadata": {},
   "outputs": [],
   "source": []
  }
 ],
 "metadata": {
  "kernelspec": {
   "display_name": "Python 3 (ipykernel)",
   "language": "python",
   "name": "python3"
  },
  "language_info": {
   "codemirror_mode": {
    "name": "ipython",
    "version": 3
   },
   "file_extension": ".py",
   "mimetype": "text/x-python",
   "name": "python",
   "nbconvert_exporter": "python",
   "pygments_lexer": "ipython3",
   "version": "3.10.2"
  }
 },
 "nbformat": 4,
 "nbformat_minor": 5
}
