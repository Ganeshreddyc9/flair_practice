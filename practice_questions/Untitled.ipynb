{
 "cells": [
  {
   "cell_type": "code",
   "execution_count": 1,
   "id": "4bd23af7-6dc5-4448-95dc-66ab5e368800",
   "metadata": {},
   "outputs": [
    {
     "name": "stdin",
     "output_type": "stream",
     "text": [
      "Enter your age:  13\n"
     ]
    },
    {
     "name": "stdout",
     "output_type": "stream",
     "text": [
      "You are not eligible to vote yet.\n"
     ]
    }
   ],
   "source": [
    "\n",
    "def can_vote(age):\n",
    "    # returns True if the person is eligible to vote\n",
    "\n",
    "    voting_age = 18\n",
    "\n",
    "    if age >= voting_age:\n",
    "        return True\n",
    "    else:\n",
    "        return False\n",
    "\n",
    "\n",
    "user_age = int(input(\"Enter your age: \"))\n",
    "\n",
    "# Call the can_vote function and check the result\n",
    "if can_vote(user_age):\n",
    "    print(\"You are eligible to vote.\")\n",
    "else:\n",
    "    print(\"You are not eligible to vote yet.\")"
   ]
  },
  {
   "cell_type": "markdown",
   "id": "d399792b-94e0-43c5-b795-188190558796",
   "metadata": {},
   "source": [
    "# def can_vote(age):\n",
    "\n",
    "    voter_age = 18\n",
    "    if voters_age >=18:\n",
    "        return True\n",
    "    else:\n",
    "        return False\n",
    "\n",
    "\n",
    "user_age = int(input(\"enter your age: \"))\n",
    "\n",
    "if can_vote(user_age):\n",
    "    print(\"You are elgible for vote.\")\n",
    "else:\n",
    "    print(\"You are not elgible for voting.\")\n",
    "    "
   ]
  },
  {
   "cell_type": "code",
   "execution_count": null,
   "id": "6e7796d1-62c4-4aba-9bba-da6475ed1fcf",
   "metadata": {},
   "outputs": [],
   "source": []
  }
 ],
 "metadata": {
  "kernelspec": {
   "display_name": "Python 3 (ipykernel)",
   "language": "python",
   "name": "python3"
  },
  "language_info": {
   "codemirror_mode": {
    "name": "ipython",
    "version": 3
   },
   "file_extension": ".py",
   "mimetype": "text/x-python",
   "name": "python",
   "nbconvert_exporter": "python",
   "pygments_lexer": "ipython3",
   "version": "3.10.2"
  }
 },
 "nbformat": 4,
 "nbformat_minor": 5
}
