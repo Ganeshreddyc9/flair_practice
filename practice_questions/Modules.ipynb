{
 "cells": [
  {
   "cell_type": "code",
   "execution_count": 2,
   "id": "667a4248-780d-4d5f-ab45-4e5eb2b6d587",
   "metadata": {},
   "outputs": [
    {
     "name": "stdout",
     "output_type": "stream",
     "text": [
      "0.00016679998952895403\n",
      "3.0099996365606785e-05\n"
     ]
    }
   ],
   "source": [
    "import timeit\n",
    "\n",
    "print(timeit.timeit(stmt = \"[0,1,2,3,4,5]\",number = 1000))\n",
    "print(timeit.timeit(stmt = \"(0,1,2,3,4,5)\",number = 1000))"
   ]
  },
  {
   "cell_type": "code",
   "execution_count": 5,
   "id": "ac68e854-03b4-48b8-864d-25c63ede6033",
   "metadata": {},
   "outputs": [
    {
     "name": "stdout",
     "output_type": "stream",
     "text": [
      "True\n",
      "0.00013669999316334724\n"
     ]
    }
   ],
   "source": [
    "\n",
    "a = 0.00016679998952895403\n",
    "b = 3.0099996365606785e-05\n",
    "\n",
    "print(a >b)\n",
    "print(a-b)"
   ]
  },
  {
   "cell_type": "code",
   "execution_count": 6,
   "id": "94ccc363-c59f-4184-b1e5-51b29d08d50a",
   "metadata": {},
   "outputs": [
    {
     "name": "stdout",
     "output_type": "stream",
     "text": [
      "120 bytes\n",
      "80 bytes\n"
     ]
    }
   ],
   "source": [
    "import sys\n",
    "\n",
    "my_list = [0,1,2,\"hello\",True]\n",
    "my_tuple = (0,1,2,\"hello\",True)\n",
    "print(sys.getsizeof(my_list),\"bytes\")\n",
    "print(sys.getsizeof(my_tuple),\"bytes\")"
   ]
  },
  {
   "cell_type": "code",
   "execution_count": 8,
   "id": "a3b74cd1-2926-4909-a69a-d72377a8ceb2",
   "metadata": {},
   "outputs": [
    {
     "name": "stdout",
     "output_type": "stream",
     "text": [
      "Help on module timeit:\n",
      "\n",
      "NAME\n",
      "    timeit - Tool for measuring execution time of small code snippets.\n",
      "\n",
      "MODULE REFERENCE\n",
      "    https://docs.python.org/3.10/library/timeit.html\n",
      "    \n",
      "    The following documentation is automatically generated from the Python\n",
      "    source files.  It may be incomplete, incorrect or include features that\n",
      "    are considered implementation detail and may vary between Python\n",
      "    implementations.  When in doubt, consult the module reference at the\n",
      "    location listed above.\n",
      "\n",
      "DESCRIPTION\n",
      "    This module avoids a number of common traps for measuring execution\n",
      "    times.  See also Tim Peters' introduction to the Algorithms chapter in\n",
      "    the Python Cookbook, published by O'Reilly.\n",
      "    \n",
      "    Library usage: see the Timer class.\n",
      "    \n",
      "    Command line usage:\n",
      "        python timeit.py [-n N] [-r N] [-s S] [-p] [-h] [--] [statement]\n",
      "    \n",
      "    Options:\n",
      "      -n/--number N: how many times to execute 'statement' (default: see below)\n",
      "      -r/--repeat N: how many times to repeat the timer (default 5)\n",
      "      -s/--setup S: statement to be executed once initially (default 'pass').\n",
      "                    Execution time of this setup statement is NOT timed.\n",
      "      -p/--process: use time.process_time() (default is time.perf_counter())\n",
      "      -v/--verbose: print raw timing results; repeat for more digits precision\n",
      "      -u/--unit: set the output time unit (nsec, usec, msec, or sec)\n",
      "      -h/--help: print this usage message and exit\n",
      "      --: separate options from statement, use when statement starts with -\n",
      "      statement: statement to be timed (default 'pass')\n",
      "    \n",
      "    A multi-line statement may be given by specifying each line as a\n",
      "    separate argument; indented lines are possible by enclosing an\n",
      "    argument in quotes and using leading spaces.  Multiple -s options are\n",
      "    treated similarly.\n",
      "    \n",
      "    If -n is not given, a suitable number of loops is calculated by trying\n",
      "    increasing numbers from the sequence 1, 2, 5, 10, 20, 50, ... until the\n",
      "    total time is at least 0.2 seconds.\n",
      "    \n",
      "    Note: there is a certain baseline overhead associated with executing a\n",
      "    pass statement.  It differs between versions.  The code here doesn't try\n",
      "    to hide it, but you should be aware of it.  The baseline overhead can be\n",
      "    measured by invoking the program without arguments.\n",
      "    \n",
      "    Classes:\n",
      "    \n",
      "        Timer\n",
      "    \n",
      "    Functions:\n",
      "    \n",
      "        timeit(string, string) -> float\n",
      "        repeat(string, string) -> list\n",
      "        default_timer() -> float\n",
      "\n",
      "CLASSES\n",
      "    builtins.object\n",
      "        Timer\n",
      "    \n",
      "    class Timer(builtins.object)\n",
      "     |  Timer(stmt='pass', setup='pass', timer=<built-in function perf_counter>, globals=None)\n",
      "     |  \n",
      "     |  Class for timing execution speed of small code snippets.\n",
      "     |  \n",
      "     |  The constructor takes a statement to be timed, an additional\n",
      "     |  statement used for setup, and a timer function.  Both statements\n",
      "     |  default to 'pass'; the timer function is platform-dependent (see\n",
      "     |  module doc string).  If 'globals' is specified, the code will be\n",
      "     |  executed within that namespace (as opposed to inside timeit's\n",
      "     |  namespace).\n",
      "     |  \n",
      "     |  To measure the execution time of the first statement, use the\n",
      "     |  timeit() method.  The repeat() method is a convenience to call\n",
      "     |  timeit() multiple times and return a list of results.\n",
      "     |  \n",
      "     |  The statements may contain newlines, as long as they don't contain\n",
      "     |  multi-line string literals.\n",
      "     |  \n",
      "     |  Methods defined here:\n",
      "     |  \n",
      "     |  __init__(self, stmt='pass', setup='pass', timer=<built-in function perf_counter>, globals=None)\n",
      "     |      Constructor.  See class doc string.\n",
      "     |  \n",
      "     |  autorange(self, callback=None)\n",
      "     |      Return the number of loops and time taken so that total time >= 0.2.\n",
      "     |      \n",
      "     |      Calls the timeit method with increasing numbers from the sequence\n",
      "     |      1, 2, 5, 10, 20, 50, ... until the time taken is at least 0.2\n",
      "     |      second.  Returns (number, time_taken).\n",
      "     |      \n",
      "     |      If *callback* is given and is not None, it will be called after\n",
      "     |      each trial with two arguments: ``callback(number, time_taken)``.\n",
      "     |  \n",
      "     |  print_exc(self, file=None)\n",
      "     |      Helper to print a traceback from the timed code.\n",
      "     |      \n",
      "     |      Typical use:\n",
      "     |      \n",
      "     |          t = Timer(...)       # outside the try/except\n",
      "     |          try:\n",
      "     |              t.timeit(...)    # or t.repeat(...)\n",
      "     |          except:\n",
      "     |              t.print_exc()\n",
      "     |      \n",
      "     |      The advantage over the standard traceback is that source lines\n",
      "     |      in the compiled template will be displayed.\n",
      "     |      \n",
      "     |      The optional file argument directs where the traceback is\n",
      "     |      sent; it defaults to sys.stderr.\n",
      "     |  \n",
      "     |  repeat(self, repeat=5, number=1000000)\n",
      "     |      Call timeit() a few times.\n",
      "     |      \n",
      "     |      This is a convenience function that calls the timeit()\n",
      "     |      repeatedly, returning a list of results.  The first argument\n",
      "     |      specifies how many times to call timeit(), defaulting to 5;\n",
      "     |      the second argument specifies the timer argument, defaulting\n",
      "     |      to one million.\n",
      "     |      \n",
      "     |      Note: it's tempting to calculate mean and standard deviation\n",
      "     |      from the result vector and report these.  However, this is not\n",
      "     |      very useful.  In a typical case, the lowest value gives a\n",
      "     |      lower bound for how fast your machine can run the given code\n",
      "     |      snippet; higher values in the result vector are typically not\n",
      "     |      caused by variability in Python's speed, but by other\n",
      "     |      processes interfering with your timing accuracy.  So the min()\n",
      "     |      of the result is probably the only number you should be\n",
      "     |      interested in.  After that, you should look at the entire\n",
      "     |      vector and apply common sense rather than statistics.\n",
      "     |  \n",
      "     |  timeit(self, number=1000000)\n",
      "     |      Time 'number' executions of the main statement.\n",
      "     |      \n",
      "     |      To be precise, this executes the setup statement once, and\n",
      "     |      then returns the time it takes to execute the main statement\n",
      "     |      a number of times, as a float measured in seconds.  The\n",
      "     |      argument is the number of times through the loop, defaulting\n",
      "     |      to one million.  The main statement, the setup statement and\n",
      "     |      the timer function to be used are passed to the constructor.\n",
      "     |  \n",
      "     |  ----------------------------------------------------------------------\n",
      "     |  Data descriptors defined here:\n",
      "     |  \n",
      "     |  __dict__\n",
      "     |      dictionary for instance variables (if defined)\n",
      "     |  \n",
      "     |  __weakref__\n",
      "     |      list of weak references to the object (if defined)\n",
      "\n",
      "FUNCTIONS\n",
      "    default_timer = perf_counter(...)\n",
      "        perf_counter() -> float\n",
      "        \n",
      "        Performance counter for benchmarking.\n",
      "    \n",
      "    repeat(stmt='pass', setup='pass', timer=<built-in function perf_counter>, repeat=5, number=1000000, globals=None)\n",
      "        Convenience function to create Timer object and call repeat method.\n",
      "    \n",
      "    timeit(stmt='pass', setup='pass', timer=<built-in function perf_counter>, number=1000000, globals=None)\n",
      "        Convenience function to create Timer object and call timeit method.\n",
      "\n",
      "DATA\n",
      "    __all__ = ['Timer', 'timeit', 'repeat', 'default_timer']\n",
      "\n",
      "FILE\n",
      "    c:\\program files\\python310\\lib\\timeit.py\n",
      "\n",
      "\n"
     ]
    }
   ],
   "source": [
    "help(timeit)"
   ]
  },
  {
   "cell_type": "code",
   "execution_count": 9,
   "id": "42bf5631-4b06-44c8-9295-0da03a429c7c",
   "metadata": {},
   "outputs": [
    {
     "ename": "SyntaxError",
     "evalue": "invalid syntax (2583247161.py, line 1)",
     "output_type": "error",
     "traceback": [
      "\u001b[1;36m  Cell \u001b[1;32mIn[9], line 1\u001b[1;36m\u001b[0m\n\u001b[1;33m    python -m timeit -s 'text = \"sample string\"; char = \"g\"'  'char in text'\u001b[0m\n\u001b[1;37m              ^\u001b[0m\n\u001b[1;31mSyntaxError\u001b[0m\u001b[1;31m:\u001b[0m invalid syntax\n"
     ]
    }
   ],
   "source": [
    "python -m timeit -s 'text = \"sample string\"; char = \"g\"'  'char in text'"
   ]
  },
  {
   "cell_type": "code",
   "execution_count": null,
   "id": "06b91959-ddf8-4802-98d6-b72e4d37eba9",
   "metadata": {},
   "outputs": [],
   "source": []
  }
 ],
 "metadata": {
  "kernelspec": {
   "display_name": "Python 3 (ipykernel)",
   "language": "python",
   "name": "python3"
  },
  "language_info": {
   "codemirror_mode": {
    "name": "ipython",
    "version": 3
   },
   "file_extension": ".py",
   "mimetype": "text/x-python",
   "name": "python",
   "nbconvert_exporter": "python",
   "pygments_lexer": "ipython3",
   "version": "3.10.2"
  }
 },
 "nbformat": 4,
 "nbformat_minor": 5
}
