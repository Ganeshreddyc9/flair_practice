{
 "cells": [
  {
   "cell_type": "code",
   "execution_count": 1,
   "id": "2ed42e80-3b10-48db-bb42-c8b18f7cda97",
   "metadata": {},
   "outputs": [],
   "source": [
    " # Write a Python program to get a list, sorted in increasing order by the last element in each tuple from a given list of non-empty tuples. \n",
    "\t# Sample List : [(2, 5), (1, 2), (4, 4), (2, 3), (2, 1)]\n",
    "\t# Expected Result : [(2, 1), (1, 2), (2, 3), (4, 4), (2, 5)]"
   ]
  },
  {
   "cell_type": "code",
   "execution_count": 3,
   "id": "3b6d61bf-a19b-4a05-8aba-d1716b63fb8d",
   "metadata": {},
   "outputs": [],
   "source": [
    "Sample_List = [(2, 5), (1, 2), (4, 4), (2, 3), (2, 1)]\n",
    "# Expected Result : [(2, 1), (1, 2), (2, 3), (4, 4), (2, 5)]"
   ]
  },
  {
   "cell_type": "code",
   "execution_count": 6,
   "id": "5ac4ef0e-8fe2-42e2-8d63-ff1283ae30ad",
   "metadata": {},
   "outputs": [],
   "source": [
    "Sample_List = [(2, 5), (1, 2), (4, 4), (2, 3), (2, 1)]\n",
    "\n",
    "Sample_List.sort()"
   ]
  },
  {
   "cell_type": "code",
   "execution_count": 7,
   "id": "11bbe235-f3c2-4f05-8fc2-e40c7494a57a",
   "metadata": {},
   "outputs": [
    {
     "data": {
      "text/plain": [
       "[(1, 2), (2, 1), (2, 3), (2, 5), (4, 4)]"
      ]
     },
     "execution_count": 7,
     "metadata": {},
     "output_type": "execute_result"
    }
   ],
   "source": [
    "Sample_List"
   ]
  },
  {
   "cell_type": "code",
   "execution_count": 8,
   "id": "e9c81dd5-2f0d-4268-9014-54a642558ee6",
   "metadata": {},
   "outputs": [
    {
     "name": "stdout",
     "output_type": "stream",
     "text": [
      "Help on built-in function sort:\n",
      "\n",
      "sort(*, key=None, reverse=False) method of builtins.list instance\n",
      "    Sort the list in ascending order and return None.\n",
      "    \n",
      "    The sort is in-place (i.e. the list itself is modified) and stable (i.e. the\n",
      "    order of two equal elements is maintained).\n",
      "    \n",
      "    If a key function is given, apply it once to each list item and sort them,\n",
      "    ascending or descending, according to their function values.\n",
      "    \n",
      "    The reverse flag can be set to sort in descending order.\n",
      "\n"
     ]
    }
   ],
   "source": [
    "help(Sample_List.sort)"
   ]
  },
  {
   "cell_type": "code",
   "execution_count": 11,
   "id": "36970c66-b02b-44fd-92d4-99854b04833e",
   "metadata": {},
   "outputs": [
    {
     "data": {
      "text/plain": [
       "[(1, 2), (2, 1), (2, 3), (2, 5), (4, 4)]"
      ]
     },
     "execution_count": 11,
     "metadata": {},
     "output_type": "execute_result"
    }
   ],
   "source": [
    "Sample_List = [(2, 5), (1, 2), (4, 4), (2, 3), (2, 1)]\n",
    "\n",
    "sorted(Sample_List)"
   ]
  },
  {
   "cell_type": "code",
   "execution_count": 12,
   "id": "ff9d47cb-708e-47c1-a402-e35c87be66cb",
   "metadata": {},
   "outputs": [],
   "source": [
    "def custom_list(item):\n",
    "    \n",
    "    return item[1],item[0]\n",
    "\n",
    "\n",
    "Sample_List = [(2, 5), (1, 2), (4, 4), (2, 3), (2, 1)]\n",
    "\n",
    "sorted_list = sorted(Sample_List,key= custom_list)\n"
   ]
  },
  {
   "cell_type": "code",
   "execution_count": 13,
   "id": "e90d9889-0839-473d-a368-ba86bab9fee8",
   "metadata": {},
   "outputs": [
    {
     "name": "stdout",
     "output_type": "stream",
     "text": [
      "[(2, 1), (1, 2), (2, 3), (4, 4), (2, 5)]\n"
     ]
    }
   ],
   "source": [
    "print(sorted_list)"
   ]
  },
  {
   "cell_type": "code",
   "execution_count": 16,
   "id": "f6f3ad6b-e622-4bbc-949f-cc642c09bc75",
   "metadata": {},
   "outputs": [],
   "source": [
    "from operator import itemgetter\n",
    "\n",
    "Sample_List = [(2, 5), (1, 2), (4, 4), (2, 3), (2, 1)]\n",
    "\n",
    "sorted_list = sorted(Sample_List,key = itemgetter(1,0),reverse=True)"
   ]
  },
  {
   "cell_type": "code",
   "execution_count": 17,
   "id": "c3d0f42a-a444-4ddc-93fd-28c821f932ec",
   "metadata": {},
   "outputs": [
    {
     "data": {
      "text/plain": [
       "[(2, 5), (4, 4), (2, 3), (1, 2), (2, 1)]"
      ]
     },
     "execution_count": 17,
     "metadata": {},
     "output_type": "execute_result"
    }
   ],
   "source": [
    "sorted_list"
   ]
  },
  {
   "cell_type": "code",
   "execution_count": 24,
   "id": "9452f0c0-a834-41e8-ad88-5583c39040f4",
   "metadata": {},
   "outputs": [],
   "source": [
    "# Write a Python program to count the number of strings where the string length is 2 or more and the first and last character are same from a given list of strings. \n",
    "# \t\tSample List : ['abc', 'xyz', 'aba', '1221']\n",
    "# \t\tExpected Result : 2\n",
    "\n",
    "Sample_List = ['abc', 'xyz', 'aba', '1221']\n",
    "\n",
    "count = 0\n",
    "for data in Sample_List:\n",
    "    if data[0] == data[-1] and len(data)>=2:\n",
    "        count += 1"
   ]
  },
  {
   "cell_type": "code",
   "execution_count": null,
   "id": "5eb1deb4-48e5-463e-b724-9ef46e97bfa4",
   "metadata": {},
   "outputs": [],
   "source": []
  },
  {
   "cell_type": "code",
   "execution_count": 25,
   "id": "c2267e4c-5414-40e1-9088-bef7294b5f6b",
   "metadata": {},
   "outputs": [
    {
     "data": {
      "text/plain": [
       "2"
      ]
     },
     "execution_count": 25,
     "metadata": {},
     "output_type": "execute_result"
    }
   ],
   "source": [
    "count"
   ]
  },
  {
   "cell_type": "code",
   "execution_count": 26,
   "id": "84a667b9-2cd9-49cf-aa31-9a18712a9afd",
   "metadata": {},
   "outputs": [],
   "source": [
    "# Write a Python function that takes two lists and returns True if they have at least one common member\n"
   ]
  },
  {
   "cell_type": "code",
   "execution_count": 40,
   "id": "aaf18b43-9777-4638-964a-964ac5e61444",
   "metadata": {},
   "outputs": [
    {
     "name": "stdout",
     "output_type": "stream",
     "text": [
      "True\n"
     ]
    }
   ],
   "source": [
    "# Write a Python function that takes two lists and returns True if they have at least one common member\n",
    "def check(list_1 , list_2):\n",
    "\n",
    "    for i in list_1:\n",
    "        if i in list_2:\n",
    "           return True\n",
    "    return False \n",
    "\n",
    "list_1 = [1,2,3,4] \n",
    "list_2 = [10,2,3,40]\n",
    "    \n",
    "print(check(list_1 , list_2))\n",
    "    "
   ]
  },
  {
   "cell_type": "code",
   "execution_count": 30,
   "id": "78d51789-4e06-45ca-a6ee-7c24aaa4a7e0",
   "metadata": {},
   "outputs": [
    {
     "name": "stdout",
     "output_type": "stream",
     "text": [
      "2 are in list_2True\n",
      "3 are in list_2True\n"
     ]
    }
   ],
   "source": [
    "list_1 = [1,2,3,4] \n",
    "list_2 = [10,2,3,40]\n",
    "\n",
    "for i in list_1:\n",
    "    if i in list_2:\n",
    "        print(f\"{i} are in list_2{True}\")\n"
   ]
  },
  {
   "cell_type": "code",
   "execution_count": null,
   "id": "0e4adef4-aa5a-40d8-8224-16cddca61386",
   "metadata": {},
   "outputs": [],
   "source": []
  },
  {
   "cell_type": "code",
   "execution_count": 31,
   "id": "a89bbe5e-0cbc-499d-aba1-52157a2a6314",
   "metadata": {},
   "outputs": [],
   "source": [
    "# Write a Python program to find the list of words that are longer than n from a given list of words. "
   ]
  },
  {
   "cell_type": "code",
   "execution_count": 37,
   "id": "cac4d72e-1379-4ba9-94e4-21ffcf3b8cc9",
   "metadata": {},
   "outputs": [
    {
     "name": "stdout",
     "output_type": "stream",
     "text": [
      "list of words greater than n is 5 is ['banana', 'orange']\n"
     ]
    }
   ],
   "source": [
    "def word_len5(word, n):\n",
    "    return [data for data in word if len(data) >5]\n",
    "\n",
    "word =  ['apple', 'banana', 'orange', 'grape', 'kiwi','is']\n",
    "n = 5\n",
    "res= word_len5(word,n)\n",
    "print(f\"list of words greater than n is {n} is {res}\")"
   ]
  },
  {
   "cell_type": "code",
   "execution_count": null,
   "id": "f160149b-aa97-40ce-931d-d8c4bbcbe97c",
   "metadata": {},
   "outputs": [],
   "source": []
  },
  {
   "cell_type": "code",
   "execution_count": 41,
   "id": "8170c571-12ab-4cc3-8449-3be052be0505",
   "metadata": {},
   "outputs": [],
   "source": [
    "# Write a Python program to print a specified list after removing the 0th, 4th and 5th elements. \n",
    "# \t\tSample List : ['Red', 'Green', 'White', 'Black', 'Pink', 'Yellow']\n",
    "# \t\tExpected Output : ['Green', 'White', 'Black']"
   ]
  },
  {
   "cell_type": "code",
   "execution_count": 46,
   "id": "570f8e3a-9e92-4fa4-b6e6-be6a0177b8b6",
   "metadata": {
    "scrolled": true
   },
   "outputs": [
    {
     "name": "stdout",
     "output_type": "stream",
     "text": [
      "0\n",
      "1\n",
      "2\n",
      "3\n",
      "4\n",
      "5\n"
     ]
    },
    {
     "ename": "IndexError",
     "evalue": "pop index out of range",
     "output_type": "error",
     "traceback": [
      "\u001b[1;31m---------------------------------------------------------------------------\u001b[0m",
      "\u001b[1;31mIndexError\u001b[0m                                Traceback (most recent call last)",
      "Cell \u001b[1;32mIn[46], line 6\u001b[0m\n\u001b[0;32m      4\u001b[0m     \u001b[38;5;28mprint\u001b[39m(i)\n\u001b[0;32m      5\u001b[0m     \u001b[38;5;28;01mif\u001b[39;00m i \u001b[38;5;241m==\u001b[39m \u001b[38;5;241m0\u001b[39m \u001b[38;5;129;01mor\u001b[39;00m i \u001b[38;5;241m==\u001b[39m \u001b[38;5;241m4\u001b[39m \u001b[38;5;129;01mor\u001b[39;00m i \u001b[38;5;241m==\u001b[39m \u001b[38;5;241m5\u001b[39m:\n\u001b[1;32m----> 6\u001b[0m         \u001b[43mSample_List\u001b[49m\u001b[38;5;241;43m.\u001b[39;49m\u001b[43mpop\u001b[49m\u001b[43m(\u001b[49m\u001b[43mi\u001b[49m\u001b[43m)\u001b[49m\n\u001b[0;32m      7\u001b[0m \u001b[38;5;28mprint\u001b[39m(Sample_List)\n",
      "\u001b[1;31mIndexError\u001b[0m: pop index out of range"
     ]
    }
   ],
   "source": [
    "# Write a Python program to print a specified list after removing the 0th, 4th and 5th elements. \n",
    "# \t\tSample List : ['Red', 'Green', 'White', 'Black', 'Pink', 'Yellow']\n",
    "# \t\tExpected Output : ['Green', 'White', 'Black']\n",
    "Sample_List = ['Red', 'Green', 'White', 'Black', 'Pink', 'Yellow']\n",
    "\n",
    "for i in range(len(Sample_List)):\n",
    "    # print(i)\n",
    "    if i == 0 or i == 4 or i == 5:\n",
    "        Sample_List.pop(i)\n",
    "print(Sample_List)"
   ]
  },
  {
   "cell_type": "code",
   "execution_count": 51,
   "id": "9bb9af59-5ca5-44df-a062-f9711217139c",
   "metadata": {},
   "outputs": [
    {
     "name": "stdout",
     "output_type": "stream",
     "text": [
      "3\n",
      "2\n",
      "1\n",
      "0\n"
     ]
    }
   ],
   "source": [
    "for i in range(len(Sample_List) - 1, -1, -1):\n",
    "    print(i)"
   ]
  },
  {
   "cell_type": "code",
   "execution_count": null,
   "id": "614b1128-0057-48cd-9a4e-b1ab3de2e8e0",
   "metadata": {},
   "outputs": [],
   "source": [
    "5 -1 ,-1,-1\n",
    "\n",
    "4 ,-1,-1\n",
    "3,-1,-1\n",
    "2,-1,-1\n",
    "1,-1,-1"
   ]
  },
  {
   "cell_type": "code",
   "execution_count": 54,
   "id": "4541da2e-95ca-42c5-a838-12a5bc388b0c",
   "metadata": {},
   "outputs": [
    {
     "name": "stdout",
     "output_type": "stream",
     "text": [
      "5\n",
      "['Red', 'Green', 'White', 'Black', 'Pink']\n",
      "4\n",
      "['Red', 'Green', 'White', 'Black']\n",
      "3\n",
      "2\n",
      "1\n",
      "0\n",
      "['Green', 'White', 'Black']\n",
      "['Green', 'White', 'Black']\n"
     ]
    }
   ],
   "source": [
    "Sample_List = ['Red', 'Green', 'White', 'Black', 'Pink', 'Yellow']\n",
    "\n",
    "# Iterate over the indices of the list in reverse order\n",
    "for i in range(len(Sample_List) - 1, -1, -1):\n",
    "    print(i)\n",
    "    if i == 0 or i == 4 or i == 5:\n",
    "        Sample_List.pop(i)\n",
    "        print(Sample_List)\n",
    "\n",
    "print(Sample_List)\n"
   ]
  },
  {
   "cell_type": "code",
   "execution_count": 55,
   "id": "7c36bea1-dc7e-43dd-bace-aa23ff31f94a",
   "metadata": {},
   "outputs": [
    {
     "data": {
      "text/plain": [
       "['Green', 'White', 'Black']"
      ]
     },
     "execution_count": 55,
     "metadata": {},
     "output_type": "execute_result"
    }
   ],
   "source": [
    "Sample_List = ['Red', 'Green', 'White', 'Black', 'Pink', 'Yellow']\n",
    "\n",
    "\n",
    "for data in range(len(Sample_List)-1 , -1, -1):\n",
    "    if data == 0 or data ==4 or data == 5:\n",
    "        Sample_List.pop(data)\n",
    "Sample_List"
   ]
  },
  {
   "cell_type": "code",
   "execution_count": null,
   "id": "2feffa09-9ffe-4744-b191-1662d6bc739c",
   "metadata": {},
   "outputs": [],
   "source": []
  }
 ],
 "metadata": {
  "kernelspec": {
   "display_name": "Python 3 (ipykernel)",
   "language": "python",
   "name": "python3"
  },
  "language_info": {
   "codemirror_mode": {
    "name": "ipython",
    "version": 3
   },
   "file_extension": ".py",
   "mimetype": "text/x-python",
   "name": "python",
   "nbconvert_exporter": "python",
   "pygments_lexer": "ipython3",
   "version": "3.10.2"
  }
 },
 "nbformat": 4,
 "nbformat_minor": 5
}
