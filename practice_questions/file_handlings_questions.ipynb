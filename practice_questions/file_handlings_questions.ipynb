{
 "cells": [
  {
   "cell_type": "code",
   "execution_count": 1,
   "id": "1ed9acb2-9f3a-4350-a984-d2cf09d52b8b",
   "metadata": {},
   "outputs": [],
   "source": [
    "\n",
    "# 1. Create a text file “intro.txt” in python and ask the user to write a single line of text by user input.\n",
    "# 2. Create a text file “MyFile.txt” in python and ask the user to write separate 3 lines with three input statements from the user.\n",
    "# 3. Write a program to read the contents of both the files created in the above programs and merge the contents into “merge.txt”.\n",
    "#    Avoid using the close() function to close the files.\n",
    "# 4. Count the total number of upper case, lower case, and digits used in the text file “merge.txt”.\n",
    "# 5. Write a program to count a total number of lines and count the total number of lines starting with ‘A’, ‘B’, and ‘C’. (Consider the merge.txt file)\n",
    "# 6. Find the total occurrences of a specific word from a text file.\n",
    "# 7. Read first N no. letters from a text file, read the first line, read a specific line from a text file.\n",
    "# 8. Replace all spaces from text with – (dash).\n",
    "# 9. Write a program to know the cursor position and print the text according to below-given specifications:\n",
    "# a. Print the initial position\n",
    "# b. Move the cursor to 4th position\n",
    "# c. Display next 5 characters\n",
    "# 10. Append the contents in entered by the user in the text file.\n",
    "# 11. Read the contents of file in reverse order.\n",
    "# 12. Replace multiple spaces with single space in a text file."
   ]
  },
  {
   "cell_type": "code",
   "execution_count": null,
   "id": "e6a06cde-0045-4b7a-9d97-77c5ce42cc56",
   "metadata": {},
   "outputs": [],
   "source": [
    "text = input(\"please enter your information!! \")\n",
    "\n",
    "file = open,'w')\n",
    "file"
   ]
  }
 ],
 "metadata": {
  "kernelspec": {
   "display_name": "Python 3 (ipykernel)",
   "language": "python",
   "name": "python3"
  },
  "language_info": {
   "codemirror_mode": {
    "name": "ipython",
    "version": 3
   },
   "file_extension": ".py",
   "mimetype": "text/x-python",
   "name": "python",
   "nbconvert_exporter": "python",
   "pygments_lexer": "ipython3",
   "version": "3.10.2"
  }
 },
 "nbformat": 4,
 "nbformat_minor": 5
}
