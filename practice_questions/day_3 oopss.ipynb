{
 "cells": [
  {
   "cell_type": "code",
   "execution_count": 9,
   "id": "1ca20415-9c51-4a4c-bd89-2d60b05d0c9d",
   "metadata": {},
   "outputs": [],
   "source": [
    "class A:\n",
    "    def foo(self):\n",
    "        print(\"A.foo\")\n",
    "class B(A):\n",
    "    pass\n",
    "    # def foo(self):\n",
    "    #     print(\"B.foo\")\n",
    "class C(A):\n",
    "    def foo(self):\n",
    "        print(\"C.foo\")\n",
    "class D(B, C): #b -> c\n",
    "    pass"
   ]
  },
  {
   "cell_type": "code",
   "execution_count": 10,
   "id": "f255c8af-a17f-47d7-85bb-7e053f02482e",
   "metadata": {},
   "outputs": [],
   "source": [
    "obj = D()"
   ]
  },
  {
   "cell_type": "code",
   "execution_count": 11,
   "id": "6af6a996-9163-4687-be6d-d4dfe4ecd7a0",
   "metadata": {},
   "outputs": [
    {
     "name": "stdout",
     "output_type": "stream",
     "text": [
      "B.foo\n"
     ]
    }
   ],
   "source": [
    "obj.foo() #-->B.foo"
   ]
  },
  {
   "cell_type": "code",
   "execution_count": 8,
   "id": "bf92703e-6742-4980-880b-72728132dd9a",
   "metadata": {},
   "outputs": [
    {
     "name": "stdout",
     "output_type": "stream",
     "text": [
      "C.foo\n"
     ]
    }
   ],
   "source": [
    "obj.foo() #-->c.foo"
   ]
  },
  {
   "cell_type": "code",
   "execution_count": 16,
   "id": "68acfc91-4f02-4693-a986-0b3265960504",
   "metadata": {},
   "outputs": [
    {
     "data": {
      "text/plain": [
       "(__main__.D, __main__.B, __main__.C, __main__.A, object)"
      ]
     },
     "execution_count": 16,
     "metadata": {},
     "output_type": "execute_result"
    }
   ],
   "source": [
    "D.__mro__"
   ]
  },
  {
   "cell_type": "code",
   "execution_count": null,
   "id": "a8d7f7e3-1b55-4576-8ba8-c04600a20765",
   "metadata": {},
   "outputs": [],
   "source": [
    "# Mro--method resolution order"
   ]
  },
  {
   "cell_type": "code",
   "execution_count": 31,
   "id": "70e3ce3c-885f-4f25-a94f-cc402c6adace",
   "metadata": {},
   "outputs": [],
   "source": [
    "class AA:\n",
    "    # def foo(self):\n",
    "    #     print(\"AA.foo\")\n",
    "    def bar(self):\n",
    "        print(\"AA.bar\")\n",
    "class A(AA):\n",
    "    # def foo(self):\n",
    "    #     print(\"A.foo\")\n",
    "    def bar(self):\n",
    "        print(\"A.bar\")\n",
    "class B(A):\n",
    "    # def foo(self):\n",
    "    #     print(\"B.foo\")\n",
    "    def bar(self):\n",
    "        print(\"B.bar\")\n",
    "\n",
    "class C:\n",
    "    def foo(self):\n",
    "        print(\"C.foo\")\n",
    "    def bar(self):\n",
    "        print(\"C.bar\")\n",
    "class D(B, C):\n",
    "    pass\n",
    "    # def foo(self):\n",
    "    # print(\"D.foo\")"
   ]
  },
  {
   "cell_type": "code",
   "execution_count": 32,
   "id": "954a42bc-68f2-43b8-b851-77ae13d8fc3e",
   "metadata": {},
   "outputs": [],
   "source": [
    "obj = D()"
   ]
  },
  {
   "cell_type": "code",
   "execution_count": 19,
   "id": "2692b03e-0c15-4be2-8aca-742f39af6f5c",
   "metadata": {},
   "outputs": [
    {
     "name": "stdout",
     "output_type": "stream",
     "text": [
      "B.foo\n"
     ]
    }
   ],
   "source": [
    "obj.foo() #--> B.foo"
   ]
  },
  {
   "cell_type": "code",
   "execution_count": 23,
   "id": "4ac6c0b3-626d-43e3-98e0-e3b37b125cb0",
   "metadata": {},
   "outputs": [
    {
     "name": "stdout",
     "output_type": "stream",
     "text": [
      "A.foo\n"
     ]
    }
   ],
   "source": [
    "obj.foo() #--> A.foo"
   ]
  },
  {
   "cell_type": "code",
   "execution_count": 30,
   "id": "96cf037d-2042-450e-95a2-eb2c64080a35",
   "metadata": {},
   "outputs": [
    {
     "name": "stdout",
     "output_type": "stream",
     "text": [
      "AA.foo\n"
     ]
    }
   ],
   "source": [
    "obj.foo() #--> AA.foo"
   ]
  },
  {
   "cell_type": "code",
   "execution_count": 33,
   "id": "1cf33bb5-ba5c-4e41-b728-7b052ca9c9ba",
   "metadata": {},
   "outputs": [
    {
     "name": "stdout",
     "output_type": "stream",
     "text": [
      "C.foo\n"
     ]
    }
   ],
   "source": [
    "obj.foo() # -->c.foo"
   ]
  },
  {
   "cell_type": "code",
   "execution_count": 34,
   "id": "d7dbf064-cb28-48e2-b79e-fa2cf77f5212",
   "metadata": {},
   "outputs": [
    {
     "data": {
      "text/plain": [
       "(__main__.B, __main__.C)"
      ]
     },
     "execution_count": 34,
     "metadata": {},
     "output_type": "execute_result"
    }
   ],
   "source": [
    "D.__bases__"
   ]
  },
  {
   "cell_type": "code",
   "execution_count": 35,
   "id": "9e6620cc-92ef-4772-b5f3-72a61e348ea5",
   "metadata": {},
   "outputs": [
    {
     "data": {
      "text/plain": [
       "(__main__.D, __main__.B, __main__.A, __main__.AA, __main__.C, object)"
      ]
     },
     "execution_count": 35,
     "metadata": {},
     "output_type": "execute_result"
    }
   ],
   "source": [
    "D.__mro__"
   ]
  },
  {
   "cell_type": "code",
   "execution_count": null,
   "id": "b5a315b2-3fda-40cb-a013-57ae76ca5a59",
   "metadata": {},
   "outputs": [],
   "source": []
  }
 ],
 "metadata": {
  "kernelspec": {
   "display_name": "Python 3 (ipykernel)",
   "language": "python",
   "name": "python3"
  },
  "language_info": {
   "codemirror_mode": {
    "name": "ipython",
    "version": 3
   },
   "file_extension": ".py",
   "mimetype": "text/x-python",
   "name": "python",
   "nbconvert_exporter": "python",
   "pygments_lexer": "ipython3",
   "version": "3.10.2"
  }
 },
 "nbformat": 4,
 "nbformat_minor": 5
}
