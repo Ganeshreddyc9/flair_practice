{
 "cells": [
  {
   "cell_type": "code",
   "execution_count": 2,
   "id": "aa134616-61e1-41ec-825a-236d1ed1ea11",
   "metadata": {},
   "outputs": [
    {
     "name": "stdout",
     "output_type": "stream",
     "text": [
      "[1, 2, 3, 4, 5]\n",
      "[1, 2, 3, 4, 5]\n",
      "sample string\n",
      "'sample string'\n"
     ]
    }
   ],
   "source": [
    "a = [1, 2, 3, 4, 5]\n",
    "b = 'sample string'\n",
    "\n",
    "print(str(a))\n",
    "print(repr(a))\n",
    "\n",
    "print(str(b))\n",
    "print(repr(b))"
   ]
  },
  {
   "cell_type": "code",
   "execution_count": 4,
   "id": "c6f719e7-cf24-484f-9980-f18e9f964691",
   "metadata": {},
   "outputs": [
    {
     "name": "stdout",
     "output_type": "stream",
     "text": [
      "str(a): 2024-04-27 07:08:14.519088+00:00:\n",
      "str(b): 2024-04-27 07:08:14.519088+00:00:\n"
     ]
    }
   ],
   "source": [
    "import datetime \n",
    "import pytz\n",
    "\n",
    "a = datetime.datetime.utcnow().replace(tzinfo= pytz.UTC)\n",
    "\n",
    "b = str(a)\n",
    "\n",
    "print('str(a): {}:'.format(str(a)))\n",
    "print('str(b): {}:'.format(str(b)))  "
   ]
  },
  {
   "cell_type": "code",
   "execution_count": 5,
   "id": "59dd2905-d4de-4224-b37f-a62846590772",
   "metadata": {},
   "outputs": [
    {
     "name": "stdout",
     "output_type": "stream",
     "text": [
      "repr(a): datetime.datetime(2024, 4, 27, 7, 8, 14, 519088, tzinfo=<UTC>):\n",
      "repr(b): '2024-04-27 07:08:14.519088+00:00':\n"
     ]
    }
   ],
   "source": [
    "\n",
    "print('repr(a): {}:'.format(repr(a)))\n",
    "print('repr(b): {}:'.format(repr(b)))  "
   ]
  },
  {
   "cell_type": "code",
   "execution_count": 13,
   "id": "f099ebdd-d27a-4455-bdb3-d081ef23b4ef",
   "metadata": {},
   "outputs": [
    {
     "name": "stdout",
     "output_type": "stream",
     "text": [
      "str(a): 2024-04-27 12:40:23.819451:\n",
      "str(b): 2024-04-27 12:40:23.819451:\n"
     ]
    }
   ],
   "source": [
    "import datetime \n",
    "# import pytz\n",
    "\n",
    "a = datetime.datetime.now()\n",
    "\n",
    "b = str(a)\n",
    "\n",
    "print('str(a): {}:'.format(str(a)))\n",
    "print('str(b): {}:'.format(str(b)))  "
   ]
  },
  {
   "cell_type": "code",
   "execution_count": 14,
   "id": "6bc73518-bed6-4920-9de6-09659e50b2ca",
   "metadata": {},
   "outputs": [
    {
     "name": "stdout",
     "output_type": "stream",
     "text": [
      "repr(a): datetime.datetime(2024, 4, 27, 12, 40, 23, 819451):\n",
      "repr(b): '2024-04-27 12:40:23.819451':\n"
     ]
    }
   ],
   "source": [
    "\n",
    "print('repr(a): {}:'.format(repr(a)))\n",
    "print('repr(b): {}:'.format(repr(b)))  "
   ]
  },
  {
   "cell_type": "code",
   "execution_count": null,
   "id": "909ec812-763f-4caa-9adf-30df8519d8fd",
   "metadata": {},
   "outputs": [],
   "source": []
  },
  {
   "cell_type": "code",
   "execution_count": null,
   "id": "52d176ef-6f89-4a63-956b-454a68130c75",
   "metadata": {},
   "outputs": [],
   "source": []
  },
  {
   "cell_type": "code",
   "execution_count": null,
   "id": "3bbfa1c0-e57d-46b3-b9d6-c579097a7acb",
   "metadata": {},
   "outputs": [],
   "source": []
  }
 ],
 "metadata": {
  "kernelspec": {
   "display_name": "Python 3 (ipykernel)",
   "language": "python",
   "name": "python3"
  },
  "language_info": {
   "codemirror_mode": {
    "name": "ipython",
    "version": 3
   },
   "file_extension": ".py",
   "mimetype": "text/x-python",
   "name": "python",
   "nbconvert_exporter": "python",
   "pygments_lexer": "ipython3",
   "version": "3.10.2"
  }
 },
 "nbformat": 4,
 "nbformat_minor": 5
}
