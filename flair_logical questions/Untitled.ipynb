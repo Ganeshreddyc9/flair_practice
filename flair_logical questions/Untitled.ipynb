{
 "cells": [
  {
   "cell_type": "code",
   "execution_count": 1,
   "id": "69a1b0ea-9bb0-4713-8634-19dc2da769d8",
   "metadata": {},
   "outputs": [],
   "source": [
    "l = [0, [1,2,3], [4,5,[6,7,8,[9,10,11]], [12, 13]], 15, 16]"
   ]
  },
  {
   "cell_type": "code",
   "execution_count": 9,
   "id": "a7e6a78b-6f25-4ca4-8a22-93234030b270",
   "metadata": {},
   "outputs": [
    {
     "name": "stdout",
     "output_type": "stream",
     "text": [
      "0\n",
      "[1, 2, 3]\n",
      "[4, 5, [6, 7, 8, [9, 10, 11]], [12, 13]]\n",
      "15\n",
      "16\n",
      "[0, 1, 2, 3, 4, 5, [6, 7, 8, [9, 10, 11]], [12, 13], 15, 16]\n"
     ]
    }
   ],
   "source": [
    "result = []\n",
    "for i in l:\n",
    "    print(i)\n",
    "    if isinstance(i, list):\n",
    "        result.extend(i)\n",
    "    else:\n",
    "        result.append(i)\n",
    "print(result)\n"
   ]
  },
  {
   "cell_type": "code",
   "execution_count": null,
   "id": "1961c086-a74a-4c4f-af17-1b4c2d5542a8",
   "metadata": {},
   "outputs": [],
   "source": []
  },
  {
   "cell_type": "code",
   "execution_count": 11,
   "id": "f6134058-0f96-4281-bb1e-15e1e2e34c43",
   "metadata": {},
   "outputs": [
    {
     "name": "stdout",
     "output_type": "stream",
     "text": [
      "[0, 1, 2, 3, 4, 5, 6, 7, 8, 9, 10, 11, 12, 13, 15, 16]\n"
     ]
    }
   ],
   "source": [
    "def flatten_list(lst):\n",
    "    result = []\n",
    "    for item in lst:\n",
    "        if isinstance(item, list):\n",
    "            result.extend(flatten_list(item))\n",
    "        else:\n",
    "            result.append(item)\n",
    "    return result\n",
    "\n",
    "l = [0, [1,2,3], [4,5,[6,7,8,[9,10,11]], [12, 13]], 15, 16]\n",
    "flattened_list = flatten_list(l)\n",
    "print(flattened_list)"
   ]
  },
  {
   "cell_type": "code",
   "execution_count": null,
   "id": "ff027618-859c-44b9-823d-7d1c30c949d9",
   "metadata": {},
   "outputs": [],
   "source": []
  }
 ],
 "metadata": {
  "kernelspec": {
   "display_name": "Python 3 (ipykernel)",
   "language": "python",
   "name": "python3"
  },
  "language_info": {
   "codemirror_mode": {
    "name": "ipython",
    "version": 3
   },
   "file_extension": ".py",
   "mimetype": "text/x-python",
   "name": "python",
   "nbconvert_exporter": "python",
   "pygments_lexer": "ipython3",
   "version": "3.10.2"
  }
 },
 "nbformat": 4,
 "nbformat_minor": 5
}
