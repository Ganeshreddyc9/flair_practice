{
 "cells": [
  {
   "cell_type": "code",
   "execution_count": 1,
   "id": "70c0fc14-3296-4f2a-9297-ac50d2de0034",
   "metadata": {},
   "outputs": [],
   "source": [
    "# Instance methods :its an object specific \n",
    "# 1st Argument will be self and we can able to call with object only \n",
    "\n",
    "# classmethod:\n",
    "# 1 st argument will be cls and decorated with @classmethod\n",
    "# and able to call with class name and object \n",
    "\n",
    "# # static method:\n",
    "# 1st argument not be self or cls and decorated with staticmethod\n",
    "\n",
    "# able to call with object and class and name"
   ]
  },
  {
   "cell_type": "code",
   "execution_count": 15,
   "id": "185731ca-7d90-4aa1-8326-3ac826a807b7",
   "metadata": {},
   "outputs": [],
   "source": [
    "import datetime\n",
    "\n",
    "class Student:\n",
    "\n",
    "    collage_name = 'RLJIT'\n",
    "\n",
    "    def __init__(self, fname, lname, age):\n",
    "        self.fname = fname\n",
    "        self.lname = lname\n",
    "        self.age = age\n",
    "    @staticmethod\n",
    "    def full_name():\n",
    "        print(f\"{self.fname}-{self.lname}\")\n",
    "    @classmethod\n",
    "    def get_full_name(cls, fname, lname, dob):\n",
    "\n",
    "        age = datetime.datetime.now().year - dob.year\n",
    "        return cls(fname, lname, age)\n",
    "        \n",
    "        "
   ]
  },
  {
   "cell_type": "code",
   "execution_count": 16,
   "id": "acce864d-adc1-42da-9d9c-61629a24d14c",
   "metadata": {},
   "outputs": [],
   "source": [
    "obj = Student(\"Ganesh\", 'Chintala', 25)"
   ]
  },
  {
   "cell_type": "code",
   "execution_count": 17,
   "id": "0fdd573c-add8-4a1b-9de0-0fb2fd6db20a",
   "metadata": {},
   "outputs": [
    {
     "data": {
      "text/plain": [
       "<bound method Student.get_full_name of <class '__main__.Student'>>"
      ]
     },
     "execution_count": 17,
     "metadata": {},
     "output_type": "execute_result"
    }
   ],
   "source": [
    "obj.get_full_name"
   ]
  },
  {
   "cell_type": "code",
   "execution_count": 25,
   "id": "0bb8f78c-3360-4b78-b5be-83619dcd32f1",
   "metadata": {},
   "outputs": [],
   "source": [
    "ganesh = obj.get_full_name(\"Ganesh\",\"Kumar\", datetime.datetime(1996,5,12))"
   ]
  },
  {
   "cell_type": "code",
   "execution_count": 28,
   "id": "fae99d98-a920-412e-aa71-a08de038db53",
   "metadata": {},
   "outputs": [
    {
     "data": {
      "text/plain": [
       "{'fname': 'Ganesh', 'lname': 'Kumar', 'age': 28}"
      ]
     },
     "execution_count": 28,
     "metadata": {},
     "output_type": "execute_result"
    }
   ],
   "source": [
    "ganesh.__dict__"
   ]
  },
  {
   "cell_type": "code",
   "execution_count": null,
   "id": "4e087b00-755b-423d-948a-471e6f2f0896",
   "metadata": {},
   "outputs": [],
   "source": []
  },
  {
   "cell_type": "code",
   "execution_count": null,
   "id": "03659c08-fbc2-4c96-8ad3-bc29ff575296",
   "metadata": {},
   "outputs": [],
   "source": []
  }
 ],
 "metadata": {
  "kernelspec": {
   "display_name": "Python 3 (ipykernel)",
   "language": "python",
   "name": "python3"
  },
  "language_info": {
   "codemirror_mode": {
    "name": "ipython",
    "version": 3
   },
   "file_extension": ".py",
   "mimetype": "text/x-python",
   "name": "python",
   "nbconvert_exporter": "python",
   "pygments_lexer": "ipython3",
   "version": "3.10.2"
  }
 },
 "nbformat": 4,
 "nbformat_minor": 5
}
