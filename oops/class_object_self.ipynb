{
 "cells": [
  {
   "cell_type": "code",
   "execution_count": 8,
   "id": "16f8454e-5f19-429b-b8ef-96bb1a5a4081",
   "metadata": {},
   "outputs": [
    {
     "name": "stdout",
     "output_type": "stream",
     "text": [
      "I am in __init__ \n"
     ]
    }
   ],
   "source": [
    "class Student:\n",
    "\n",
    "    location = 'Bangaluru'\n",
    "    collage = 'Rljit'\n",
    "\n",
    "    def __init__(self, fname, lname, age, per):\n",
    "        self.fname = fname\n",
    "        self.lname = lname\n",
    "        self.age = age\n",
    "        self.per = per\n",
    "        print(\"I am in __init__ \")\n",
    "        \n",
    "    def full_name(self):\n",
    "        return f\"{self.fname} {self.lname}\"\n",
    "\n",
    "    def info(self):\n",
    "\n",
    "        return f\"my name is {self.full_name()} am currently -{self.age}-i scored {self.per}-i percued in {self.location}-at {self.collage}\"\n",
    "\n",
    "obj = Student('Ganesh', 'chintala', 25, 54)\n",
    "    "
   ]
  },
  {
   "cell_type": "code",
   "execution_count": 9,
   "id": "902d9579-a486-467e-8779-fe0c2d94b131",
   "metadata": {},
   "outputs": [
    {
     "data": {
      "text/plain": [
       "'Ganesh chintala'"
      ]
     },
     "execution_count": 9,
     "metadata": {},
     "output_type": "execute_result"
    }
   ],
   "source": [
    "obj.full_name()"
   ]
  },
  {
   "cell_type": "code",
   "execution_count": 10,
   "id": "edf602a0-848b-4e93-9f9b-6ea7a32f1bbb",
   "metadata": {},
   "outputs": [
    {
     "data": {
      "text/plain": [
       "'my name is Ganesh chintala am currently -25-i scored 54-i percued in Bangaluru-at Rljit'"
      ]
     },
     "execution_count": 10,
     "metadata": {},
     "output_type": "execute_result"
    }
   ],
   "source": [
    "obj.info()"
   ]
  },
  {
   "cell_type": "code",
   "execution_count": 11,
   "id": "96368812-a1c3-45b3-880d-cfc6dd7af7e9",
   "metadata": {},
   "outputs": [
    {
     "data": {
      "text/plain": [
       "{'fname': 'Ganesh', 'lname': 'chintala', 'age': 25, 'per': 54}"
      ]
     },
     "execution_count": 11,
     "metadata": {},
     "output_type": "execute_result"
    }
   ],
   "source": [
    "obj.__dict__"
   ]
  },
  {
   "cell_type": "code",
   "execution_count": null,
   "id": "bb8b514b-f230-4f0b-9902-cf7830ffd11e",
   "metadata": {},
   "outputs": [],
   "source": []
  }
 ],
 "metadata": {
  "kernelspec": {
   "display_name": "Python 3 (ipykernel)",
   "language": "python",
   "name": "python3"
  },
  "language_info": {
   "codemirror_mode": {
    "name": "ipython",
    "version": 3
   },
   "file_extension": ".py",
   "mimetype": "text/x-python",
   "name": "python",
   "nbconvert_exporter": "python",
   "pygments_lexer": "ipython3",
   "version": "3.10.2"
  }
 },
 "nbformat": 4,
 "nbformat_minor": 5
}
