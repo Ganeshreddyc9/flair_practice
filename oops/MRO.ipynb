{
 "cells": [
  {
   "cell_type": "code",
   "execution_count": 1,
   "id": "863c9e29-ed3b-4b09-a461-b6ad90a61455",
   "metadata": {},
   "outputs": [],
   "source": [
    "# MRo - method resoltion order"
   ]
  },
  {
   "cell_type": "code",
   "execution_count": 22,
   "id": "a985a9d6-fcec-4dd1-8c6e-3e232c916df9",
   "metadata": {},
   "outputs": [],
   "source": [
    "class AA:\n",
    "    # def foo(self):\n",
    "    #     print('AA.foo')\n",
    "\n",
    "    def bar(self):\n",
    "        print('AA.bar')\n",
    "\n",
    "class A(AA):\n",
    "    # def foo(self):\n",
    "    #     print('A.foo')\n",
    "\n",
    "    def bar(self):\n",
    "        print('A.bar')\n",
    "\n",
    "class B(A):\n",
    "\n",
    "    # def foo(self):\n",
    "    #     print('B.foo')\n",
    "\n",
    "    def bar(self):\n",
    "        print('B.bar')\n",
    "\n",
    "\n",
    "\n",
    "class C:\n",
    "\n",
    "    # def foo(self):\n",
    "    #     print('C.foo')\n",
    "\n",
    "    def bar(self):\n",
    "        print('C.bar')\n",
    "\n",
    "\n",
    "class D(B, C):\n",
    "    pass\n",
    "    # def foo(self):\n",
    "    #     print('D.foo')\n",
    "        "
   ]
  },
  {
   "cell_type": "code",
   "execution_count": 23,
   "id": "9f1834be-7ffe-4de0-a9a5-6c9a6bdcd876",
   "metadata": {},
   "outputs": [
    {
     "data": {
      "text/plain": [
       "(__main__.D, __main__.B, __main__.A, __main__.AA, __main__.C, object)"
      ]
     },
     "execution_count": 23,
     "metadata": {},
     "output_type": "execute_result"
    }
   ],
   "source": [
    "obj = D()\n",
    "D.__mro__"
   ]
  },
  {
   "cell_type": "code",
   "execution_count": 24,
   "id": "05a722a0-8d97-4089-bc5f-993f1676c391",
   "metadata": {},
   "outputs": [
    {
     "ename": "AttributeError",
     "evalue": "'D' object has no attribute 'foo'",
     "output_type": "error",
     "traceback": [
      "\u001b[1;31m---------------------------------------------------------------------------\u001b[0m",
      "\u001b[1;31mAttributeError\u001b[0m                            Traceback (most recent call last)",
      "Cell \u001b[1;32mIn[24], line 1\u001b[0m\n\u001b[1;32m----> 1\u001b[0m \u001b[43mobj\u001b[49m\u001b[38;5;241;43m.\u001b[39;49m\u001b[43mfoo\u001b[49m()\n",
      "\u001b[1;31mAttributeError\u001b[0m: 'D' object has no attribute 'foo'"
     ]
    }
   ],
   "source": [
    "obj.foo()"
   ]
  },
  {
   "cell_type": "code",
   "execution_count": 25,
   "id": "6ce9809d-f242-40a7-bed2-8992d9dceab9",
   "metadata": {},
   "outputs": [
    {
     "data": {
      "text/plain": [
       "(__main__.B, __main__.C)"
      ]
     },
     "execution_count": 25,
     "metadata": {},
     "output_type": "execute_result"
    }
   ],
   "source": [
    "D.__bases__"
   ]
  },
  {
   "cell_type": "code",
   "execution_count": 26,
   "id": "0fddd057-7c36-4675-a7da-3437f5d758d4",
   "metadata": {},
   "outputs": [
    {
     "name": "stdout",
     "output_type": "stream",
     "text": [
      "B.bar\n"
     ]
    }
   ],
   "source": [
    "obj.bar()"
   ]
  },
  {
   "cell_type": "code",
   "execution_count": null,
   "id": "e2c5cf49-456f-40d9-9fc0-26bcd1ef248d",
   "metadata": {},
   "outputs": [],
   "source": []
  }
 ],
 "metadata": {
  "kernelspec": {
   "display_name": "Python 3 (ipykernel)",
   "language": "python",
   "name": "python3"
  },
  "language_info": {
   "codemirror_mode": {
    "name": "ipython",
    "version": 3
   },
   "file_extension": ".py",
   "mimetype": "text/x-python",
   "name": "python",
   "nbconvert_exporter": "python",
   "pygments_lexer": "ipython3",
   "version": "3.10.2"
  }
 },
 "nbformat": 4,
 "nbformat_minor": 5
}
