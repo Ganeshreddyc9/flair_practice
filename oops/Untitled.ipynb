{
 "cells": [
  {
   "cell_type": "code",
   "execution_count": 2,
   "id": "fb5c1cd7-42df-4637-8972-6cd14aa00e26",
   "metadata": {},
   "outputs": [],
   "source": [
    "# encapsulation (or) acess specifiers (or) Acess modifiers\n",
    "# public protected and private\n",
    "\n",
    "# by using encapsulation we can able to hide the data \n",
    "\n",
    "# process of hiding or putting restrictions on accessing the methods, varibales, properties, from outside the class #\n",
    "\n",
    "# we can ab;e to call private methods or varibles by object classname<method/varible>"
   ]
  },
  {
   "cell_type": "code",
   "execution_count": 3,
   "id": "5542ab84-5b67-4f85-ba09-0b2382fbd721",
   "metadata": {},
   "outputs": [],
   "source": [
    "class Test:\n",
    "    a = 10  # public\n",
    "    _b = 20 #private\n",
    "    __c = 30 # protected \n",
    "\n",
    "\n",
    "    def show(self):\n",
    "        print(\"I am in bangalore\")\n",
    "\n",
    "    def _display(self):\n",
    "        print(\"i am in disply mehtod private\")\n",
    "\n",
    "    def __pprint(self):\n",
    "        print(\"i am in __pprint\")\n",
    "\n",
    "    def local_test(self):\n",
    "\n",
    "        print(self.__pprint())\n",
    "        print(self.__c)\n",
    "\n",
    "        \n",
    "\n",
    "    "
   ]
  },
  {
   "cell_type": "code",
   "execution_count": 4,
   "id": "869e8f6e-855b-4f39-8f20-fa7bc7a68ebb",
   "metadata": {},
   "outputs": [],
   "source": [
    "obj = Test()"
   ]
  },
  {
   "cell_type": "code",
   "execution_count": 5,
   "id": "a9ed14b1-4185-4d9e-9d11-53dbf19060f1",
   "metadata": {},
   "outputs": [
    {
     "data": {
      "text/plain": [
       "10"
      ]
     },
     "execution_count": 5,
     "metadata": {},
     "output_type": "execute_result"
    }
   ],
   "source": [
    "obj.a"
   ]
  },
  {
   "cell_type": "code",
   "execution_count": 7,
   "id": "5afc3aac-a63f-44f4-9069-ec6e3d36f6d2",
   "metadata": {},
   "outputs": [
    {
     "data": {
      "text/plain": [
       "20"
      ]
     },
     "execution_count": 7,
     "metadata": {},
     "output_type": "execute_result"
    }
   ],
   "source": [
    "obj._b"
   ]
  },
  {
   "cell_type": "code",
   "execution_count": 10,
   "id": "23e3a634-c4d1-4ff8-ae91-cf9968b30f71",
   "metadata": {},
   "outputs": [
    {
     "ename": "AttributeError",
     "evalue": "'Test' object has no attribute '__c'",
     "output_type": "error",
     "traceback": [
      "\u001b[1;31m---------------------------------------------------------------------------\u001b[0m",
      "\u001b[1;31mAttributeError\u001b[0m                            Traceback (most recent call last)",
      "Cell \u001b[1;32mIn[10], line 1\u001b[0m\n\u001b[1;32m----> 1\u001b[0m \u001b[43mobj\u001b[49m\u001b[38;5;241;43m.\u001b[39;49m\u001b[43m__c\u001b[49m\n",
      "\u001b[1;31mAttributeError\u001b[0m: 'Test' object has no attribute '__c'"
     ]
    }
   ],
   "source": [
    "obj.__c"
   ]
  },
  {
   "cell_type": "code",
   "execution_count": null,
   "id": "4289f2dd-e84f-49c0-b0bc-e9b5345e88ba",
   "metadata": {},
   "outputs": [],
   "source": [
    "obj.__"
   ]
  }
 ],
 "metadata": {
  "kernelspec": {
   "display_name": "Python 3 (ipykernel)",
   "language": "python",
   "name": "python3"
  },
  "language_info": {
   "codemirror_mode": {
    "name": "ipython",
    "version": 3
   },
   "file_extension": ".py",
   "mimetype": "text/x-python",
   "name": "python",
   "nbconvert_exporter": "python",
   "pygments_lexer": "ipython3",
   "version": "3.10.2"
  }
 },
 "nbformat": 4,
 "nbformat_minor": 5
}
