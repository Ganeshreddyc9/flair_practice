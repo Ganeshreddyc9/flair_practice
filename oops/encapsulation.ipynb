{
 "cells": [
  {
   "cell_type": "code",
   "execution_count": 1,
   "id": "c4774355-1632-428a-960d-f7b54f0384f1",
   "metadata": {},
   "outputs": [],
   "source": [
    "# Encapsulation: we can able to hide the data or \n",
    "# process of hiding or putting ristrictions to methods and properties from the outside the class \n",
    "# Acess specifier modifiers or public private, protected\n"
   ]
  },
  {
   "cell_type": "code",
   "execution_count": 2,
   "id": "f6c2b5eb-946c-4370-9666-48bfb16f728a",
   "metadata": {},
   "outputs": [],
   "source": [
    "# we can able to call private method or  private variable by \n",
    "# obj._classname<method/variable>"
   ]
  },
  {
   "cell_type": "code",
   "execution_count": 3,
   "id": "6520ad23-9886-4e21-861a-f6c6ef7e9d0b",
   "metadata": {},
   "outputs": [],
   "source": [
    "class Test:\n",
    "    a = 10 #public \n",
    "    _b = 20 #private\n",
    "    __c = 30 # protected \n",
    "\n",
    "    def show(self):\n",
    "        print(\"I am in show method\")\n",
    "\n",
    "    def _display(self):\n",
    "        print(\"I am in dispaly method\")\n",
    "\n",
    "    def __pprint(self):\n",
    "        # private --> you unable to access we will get Attribute error \n",
    "        print(\"I am in __pprint method\")\n",
    "\n",
    "    def local_test(self):\n",
    "\n",
    "        self.__pprint()\n",
    "        print(self.__c)\n",
    "        \n",
    "        \n",
    "# we can able to call above private methods/ variables with the following obj._Test__c\n",
    "   "
   ]
  },
  {
   "cell_type": "code",
   "execution_count": 4,
   "id": "93b21333-3a2c-4f8e-8ccc-c6cc601f6c07",
   "metadata": {},
   "outputs": [],
   "source": [
    "obj = Test()"
   ]
  },
  {
   "cell_type": "code",
   "execution_count": 6,
   "id": "4e0f36ed-b3f0-4e80-8170-b25a97470bad",
   "metadata": {},
   "outputs": [
    {
     "name": "stdout",
     "output_type": "stream",
     "text": [
      "I am in show method\n"
     ]
    }
   ],
   "source": [
    "obj.show()"
   ]
  },
  {
   "cell_type": "code",
   "execution_count": 7,
   "id": "d0c5f7bb-0dcf-4312-ba71-72de5321e49d",
   "metadata": {},
   "outputs": [
    {
     "name": "stdout",
     "output_type": "stream",
     "text": [
      "I am in dispaly method\n"
     ]
    }
   ],
   "source": [
    "obj._display()"
   ]
  },
  {
   "cell_type": "code",
   "execution_count": 9,
   "id": "097fc64c-ce58-414c-b936-6ac1bb974851",
   "metadata": {},
   "outputs": [
    {
     "ename": "AttributeError",
     "evalue": "'Test' object has no attribute '__pprint'",
     "output_type": "error",
     "traceback": [
      "\u001b[1;31m---------------------------------------------------------------------------\u001b[0m",
      "\u001b[1;31mAttributeError\u001b[0m                            Traceback (most recent call last)",
      "Cell \u001b[1;32mIn[9], line 1\u001b[0m\n\u001b[1;32m----> 1\u001b[0m \u001b[43mobj\u001b[49m\u001b[38;5;241;43m.\u001b[39;49m\u001b[43m__pprint\u001b[49m()\n",
      "\u001b[1;31mAttributeError\u001b[0m: 'Test' object has no attribute '__pprint'"
     ]
    }
   ],
   "source": [
    "obj.__pprint()"
   ]
  },
  {
   "cell_type": "code",
   "execution_count": 10,
   "id": "d959b7d2-8c8d-4898-a3c1-f077bb35cd1e",
   "metadata": {},
   "outputs": [
    {
     "data": {
      "text/plain": [
       "(10, 20)"
      ]
     },
     "execution_count": 10,
     "metadata": {},
     "output_type": "execute_result"
    }
   ],
   "source": [
    "# with class name \n",
    "Test.a, Test._b"
   ]
  },
  {
   "cell_type": "code",
   "execution_count": 12,
   "id": "dd8ce1f2-5626-4b25-ac6e-dba6fb245f97",
   "metadata": {},
   "outputs": [],
   "source": [
    "# Test.__c"
   ]
  },
  {
   "cell_type": "code",
   "execution_count": 13,
   "id": "70a295b6-428d-4196-831c-049460ece222",
   "metadata": {},
   "outputs": [
    {
     "name": "stdout",
     "output_type": "stream",
     "text": [
      "I am in __pprint method\n",
      "30\n"
     ]
    }
   ],
   "source": [
    "obj.local_test()"
   ]
  },
  {
   "cell_type": "code",
   "execution_count": 14,
   "id": "3c9d2c75-be4f-4330-a64f-15776cde04ca",
   "metadata": {},
   "outputs": [
    {
     "data": {
      "text/plain": [
       "30"
      ]
     },
     "execution_count": 14,
     "metadata": {},
     "output_type": "execute_result"
    }
   ],
   "source": [
    "obj._Test__c"
   ]
  },
  {
   "cell_type": "code",
   "execution_count": 15,
   "id": "f01b5af1-07de-4e22-9164-f3b882da4156",
   "metadata": {},
   "outputs": [
    {
     "name": "stdout",
     "output_type": "stream",
     "text": [
      "I am in __pprint method\n"
     ]
    }
   ],
   "source": [
    "obj._Test__pprint()"
   ]
  },
  {
   "cell_type": "code",
   "execution_count": 17,
   "id": "9ebce51c-0314-4d7b-91e9-6159d3b5401e",
   "metadata": {},
   "outputs": [
    {
     "data": {
      "text/plain": [
       "30"
      ]
     },
     "execution_count": 17,
     "metadata": {},
     "output_type": "execute_result"
    }
   ],
   "source": [
    "Test._Test__c"
   ]
  },
  {
   "cell_type": "code",
   "execution_count": null,
   "id": "2b2ce415-3ba9-404f-8866-6c286c170f6a",
   "metadata": {},
   "outputs": [],
   "source": [
    "\n",
    "\n",
    "\n",
    "\n",
    "\n",
    "\n"
   ]
  }
 ],
 "metadata": {
  "kernelspec": {
   "display_name": "Python 3 (ipykernel)",
   "language": "python",
   "name": "python3"
  },
  "language_info": {
   "codemirror_mode": {
    "name": "ipython",
    "version": 3
   },
   "file_extension": ".py",
   "mimetype": "text/x-python",
   "name": "python",
   "nbconvert_exporter": "python",
   "pygments_lexer": "ipython3",
   "version": "3.10.2"
  }
 },
 "nbformat": 4,
 "nbformat_minor": 5
}
