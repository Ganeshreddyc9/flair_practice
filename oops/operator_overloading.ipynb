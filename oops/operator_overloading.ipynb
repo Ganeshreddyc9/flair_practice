{
 "cells": [
  {
   "cell_type": "code",
   "execution_count": 1,
   "id": "1404dadd-2dcd-495a-a609-781a500f74e3",
   "metadata": {},
   "outputs": [],
   "source": [
    "# example operator + is used to add two integers as well as join two strings and merge two lists. \n",
    "# It is achievable because ‘+’ operator is overloaded by int class and str class.\n",
    "# You might have noticed that the same built-in operator or function shows \n",
    "# different behavior for objects of different classes, this is called Operator Overloading. "
   ]
  },
  {
   "cell_type": "code",
   "execution_count": 2,
   "id": "c71c64ab-0132-42c0-b366-7af7d2edfba0",
   "metadata": {},
   "outputs": [],
   "source": [
    "# operator + is used to concatinate two integers and aswell as two strings \n",
    "\n",
    "# that means + sign is overloaded with string class and int class "
   ]
  },
  {
   "cell_type": "code",
   "execution_count": null,
   "id": "bcc48421-694c-48db-b639-05f5431b8150",
   "metadata": {},
   "outputs": [],
   "source": []
  }
 ],
 "metadata": {
  "kernelspec": {
   "display_name": "Python 3 (ipykernel)",
   "language": "python",
   "name": "python3"
  },
  "language_info": {
   "codemirror_mode": {
    "name": "ipython",
    "version": 3
   },
   "file_extension": ".py",
   "mimetype": "text/x-python",
   "name": "python",
   "nbconvert_exporter": "python",
   "pygments_lexer": "ipython3",
   "version": "3.10.2"
  }
 },
 "nbformat": 4,
 "nbformat_minor": 5
}
