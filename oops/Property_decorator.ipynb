{
 "cells": [
  {
   "cell_type": "code",
   "execution_count": 3,
   "id": "e8247e7d-fb73-4063-8d12-a0b9bfa3acb8",
   "metadata": {},
   "outputs": [],
   "source": [
    "class Employee:\n",
    "\n",
    "    def __init__(self, first, last):\n",
    "        self.first = first\n",
    "        self.last = last\n",
    "        self.email = first + '.' +last + '@email.com'\n",
    "\n",
    "    def fullname(self):\n",
    "\n",
    "        return '{} {}'.format(self.first, self.last)\n"
   ]
  },
  {
   "cell_type": "code",
   "execution_count": 7,
   "id": "703f422a-13ad-457b-9fa2-f1cf9b584dcd",
   "metadata": {},
   "outputs": [
    {
     "name": "stdout",
     "output_type": "stream",
     "text": [
      "jim\n",
      "John.Smith@email.com\n",
      "jim Smith\n"
     ]
    }
   ],
   "source": [
    "emp_1 = Employee('John', 'Smith')\n",
    "\n",
    "emp_1.first = 'jim'\n",
    "\n",
    "print(emp_1.first)\n",
    "print(emp_1.email)\n",
    "print(emp_1.fullname())"
   ]
  },
  {
   "cell_type": "code",
   "execution_count": null,
   "id": "b367c6a0-cf48-4e46-a5cd-6f7350730984",
   "metadata": {},
   "outputs": [],
   "source": []
  },
  {
   "cell_type": "code",
   "execution_count": 8,
   "id": "665bdca2-0540-4d2d-85ff-c6d76308cf26",
   "metadata": {},
   "outputs": [],
   "source": [
    "#  here we are using property decorator bcz in above \n",
    "# example:\n",
    "# if we chnage the first name in the full name it is updating and in email it not \n"
   ]
  },
  {
   "cell_type": "code",
   "execution_count": 15,
   "id": "8ef5732a-8e8c-40e0-91d9-a736dd44add3",
   "metadata": {},
   "outputs": [],
   "source": [
    "class Employee:\n",
    "\n",
    "    def __init__(self, first, last):\n",
    "        self.first = first\n",
    "        self.last = last\n",
    "        # self.email = first + '.' +last + '@email.com'\n",
    "    @property\n",
    "    def email(self):\n",
    "\n",
    "        return '{}.{}@email.com'.format(self.first, self.last)\n",
    "\n",
    "    def fullname(self):\n",
    "\n",
    "        return '{} {}'.format(self.first, self.last)\n"
   ]
  },
  {
   "cell_type": "code",
   "execution_count": 18,
   "id": "afa61c13-8d15-44d9-9c77-3d416b2b8187",
   "metadata": {},
   "outputs": [
    {
     "name": "stdout",
     "output_type": "stream",
     "text": [
      "jim\n",
      "jim.Smith@email.com\n",
      "jim Smith\n"
     ]
    }
   ],
   "source": [
    "emp_1 = Employee('James', 'Smith')\n",
    "\n",
    "emp_1.first = 'jim'\n",
    "\n",
    "print(emp_1.first)\n",
    "print(emp_1.email)\n",
    "print(emp_1.fullname())"
   ]
  },
  {
   "cell_type": "code",
   "execution_count": null,
   "id": "b3b5fdb4-21e1-4b99-ae09-f5f1067d2089",
   "metadata": {},
   "outputs": [],
   "source": []
  },
  {
   "cell_type": "code",
   "execution_count": 21,
   "id": "7176b7a6-74e4-487a-a8b0-1150cadc8d9e",
   "metadata": {},
   "outputs": [],
   "source": [
    "class Employee:\n",
    "\n",
    "    def __init__(self, first, last):\n",
    "        self.first = first\n",
    "        self.last = last\n",
    "        # self.email = first + '.' +last + '@email.com'\n",
    "    @property\n",
    "    def email(self):\n",
    "\n",
    "        return '{}.{}@email.com'.format(self.first, self.last)\n",
    "    @property\n",
    "    def fullname(self):\n",
    "\n",
    "        return '{} {}'.format(self.first, self.last)"
   ]
  },
  {
   "cell_type": "code",
   "execution_count": 23,
   "id": "94862111-cdac-45e3-9cc2-6738fe71a6b8",
   "metadata": {},
   "outputs": [
    {
     "name": "stdout",
     "output_type": "stream",
     "text": [
      "jim\n",
      "jim.Smith@email.com\n",
      "jim Smith\n"
     ]
    }
   ],
   "source": [
    "emp_1 = Employee('James', 'Smith')\n",
    "\n",
    "emp_1.first = 'jim'\n",
    "\n",
    "print(emp_1.first)\n",
    "print(emp_1.email)\n",
    "print(emp_1.fullname)"
   ]
  },
  {
   "cell_type": "code",
   "execution_count": null,
   "id": "cad31c18-5e58-4f6a-b42c-71857bb295c3",
   "metadata": {},
   "outputs": [],
   "source": []
  },
  {
   "cell_type": "code",
   "execution_count": 28,
   "id": "3ba957b4-c9f2-40ce-ad44-ba6eb6e97186",
   "metadata": {},
   "outputs": [],
   "source": [
    "class Employee:\n",
    "\n",
    "    def __init__(self, first, last):\n",
    "        self.first = first\n",
    "        self.last = last\n",
    "        # self.email = first + '.' +last + '@email.com'\n",
    "    @property\n",
    "    def email(self):\n",
    "\n",
    "        return '{}.{}@email.com'.format(self.first, self.last)\n",
    "    @property\n",
    "    def fullname(self):\n",
    "\n",
    "        return '{} {}'.format(self.first, self.last)"
   ]
  },
  {
   "cell_type": "code",
   "execution_count": 29,
   "id": "1f94620f-6ee3-4f70-9e2e-689fbae7ca43",
   "metadata": {},
   "outputs": [
    {
     "name": "stdout",
     "output_type": "stream",
     "text": [
      "James\n",
      "James.Smith@email.com\n",
      "James Smith\n"
     ]
    }
   ],
   "source": [
    "emp_1 = Employee('James', 'Smith')\n",
    "\n",
    "# emp_1.fullname = 'Ganesh Reddy'\n",
    "\n",
    "print(emp_1.first)\n",
    "print(emp_1.email)\n",
    "print(emp_1.fullname)"
   ]
  },
  {
   "cell_type": "code",
   "execution_count": null,
   "id": "c6ae8192-0f50-4aee-a83d-f0d16f450874",
   "metadata": {},
   "outputs": [],
   "source": []
  },
  {
   "cell_type": "code",
   "execution_count": 32,
   "id": "73d01cb7-201c-40fa-9af6-e58d5bd69582",
   "metadata": {},
   "outputs": [],
   "source": [
    "# setter\n",
    " \n",
    "class Employee:\n",
    "\n",
    "    def __init__(self, first, last):\n",
    "        self.first = first\n",
    "        self.last = last\n",
    "        # self.email = first + '.' +last + '@email.com'\n",
    "    @property\n",
    "    def email(self):\n",
    "\n",
    "        return '{}.{}@email.com'.format(self.first, self.last)\n",
    "    @property\n",
    "    def fullname(self):\n",
    "\n",
    "        return '{} {}'.format(self.first, self.last)\n",
    "    @fullname.setter\n",
    "    def fullname(self, name):\n",
    "\n",
    "        first, last  = name.split(' ')\n",
    "        self.first = first\n",
    "        self.last = last\n",
    "\n",
    "        "
   ]
  },
  {
   "cell_type": "code",
   "execution_count": 33,
   "id": "e6c662f0-6772-4224-8a55-3f4f23050863",
   "metadata": {},
   "outputs": [
    {
     "name": "stdout",
     "output_type": "stream",
     "text": [
      "Ganesh\n",
      "Ganesh.Reddy@email.com\n",
      "Ganesh Reddy\n"
     ]
    }
   ],
   "source": [
    "emp_1 = Employee('James', 'Smith')\n",
    "\n",
    "emp_1.fullname = 'Ganesh Reddy'\n",
    "\n",
    "print(emp_1.first)\n",
    "print(emp_1.email)\n",
    "print(emp_1.fullname)"
   ]
  },
  {
   "cell_type": "code",
   "execution_count": null,
   "id": "0bdef730-e5e8-40d9-9271-e084bc9ad5d8",
   "metadata": {},
   "outputs": [],
   "source": []
  },
  {
   "cell_type": "code",
   "execution_count": 34,
   "id": "1a13e3c3-933c-4a28-9c50-20d3fe062b89",
   "metadata": {},
   "outputs": [],
   "source": [
    "# deleter\n",
    "\n",
    "class Employee:\n",
    "\n",
    "    def __init__(self, first, last):\n",
    "        self.first = first\n",
    "        self.last = last\n",
    "        # self.email = first + '.' +last + '@email.com'\n",
    "    @property\n",
    "    def email(self):\n",
    "\n",
    "        return '{}.{}@email.com'.format(self.first, self.last)\n",
    "    @property\n",
    "    def fullname(self):\n",
    "\n",
    "        return '{} {}'.format(self.first, self.last)\n",
    "    @fullname.setter\n",
    "    def fullname(self, name):\n",
    "\n",
    "        first, last  = name.split(' ')\n",
    "        self.first = first\n",
    "        self.last = last\n",
    "    @fullname.deleter\n",
    "    def fullname(self):\n",
    "        print('Delete Name!')\n",
    "        self.first = None\n",
    "        self.last = None\n",
    "        \n"
   ]
  },
  {
   "cell_type": "code",
   "execution_count": 38,
   "id": "d21b2ee2-bafe-4e77-97fc-44738a2886ca",
   "metadata": {},
   "outputs": [
    {
     "name": "stdout",
     "output_type": "stream",
     "text": [
      "Ganesh\n",
      "Ganesh.Reddy@email.com\n",
      "Ganesh Reddy\n",
      "Delete Name!\n"
     ]
    }
   ],
   "source": [
    "emp_1 = Employee('James', 'Smith')\n",
    "\n",
    "emp_1.fullname = 'Ganesh Reddy'\n",
    "\n",
    "print(emp_1.first)\n",
    "print(emp_1.email)\n",
    "print(emp_1.fullname)\n",
    "\n",
    "del emp_1.fullname"
   ]
  },
  {
   "cell_type": "code",
   "execution_count": null,
   "id": "86e5398b-088f-40e5-939f-4e2e7e3edf4c",
   "metadata": {},
   "outputs": [],
   "source": []
  }
 ],
 "metadata": {
  "kernelspec": {
   "display_name": "Python 3 (ipykernel)",
   "language": "python",
   "name": "python3"
  },
  "language_info": {
   "codemirror_mode": {
    "name": "ipython",
    "version": 3
   },
   "file_extension": ".py",
   "mimetype": "text/x-python",
   "name": "python",
   "nbconvert_exporter": "python",
   "pygments_lexer": "ipython3",
   "version": "3.10.2"
  }
 },
 "nbformat": 4,
 "nbformat_minor": 5
}
