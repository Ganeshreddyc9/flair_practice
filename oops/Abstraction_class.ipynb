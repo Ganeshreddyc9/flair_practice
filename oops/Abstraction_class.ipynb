{
 "cells": [
  {
   "cell_type": "markdown",
   "id": "86a52f48-f790-43fe-82e5-9cb7f76b5984",
   "metadata": {},
   "source": [
    "<!-- -- # Abstraction:\r\n",
    "#     For a abstract class we unable to create an object\r\n",
    "#     An abstract class can be considered as a skeleton for other class'\n",
    "\n",
    "\n",
    "Note: Only you can inherit in the child class\r\n",
    "# and you can able to use tha -->t -->\r\n",
    "es"
   ]
  },
  {
   "cell_type": "code",
   "execution_count": 1,
   "id": "f5721dc7-bb1f-45e0-9dbc-548c3ef850cc",
   "metadata": {},
   "outputs": [],
   "source": [
    "# how to create an abstract class \n",
    "\n",
    "# The class must inherit from ABC and one method should be any one of \n",
    "\n",
    "# 1. abstractclassmethod,\n",
    "# 2. abstractmethod,\n",
    "# 3. abstractproperty,\n",
    "# 4. abstractstaticmethod"
   ]
  },
  {
   "cell_type": "code",
   "execution_count": 2,
   "id": "f6f6c664-9b57-46b8-a6d1-f50c789aeba8",
   "metadata": {},
   "outputs": [],
   "source": [
    "from abc import (ABC, abstractclassmethod, abstractmethod, abstractproperty,abstractstaticmethod)\n",
    "\n",
    "\n",
    "class Parent(ABC):\n",
    "    @abstractmethod\n",
    "    def foo(self):\n",
    "        print(\"I am in parent.foo\")\n",
    "    def bar(self):\n",
    "        print(\"I am in Parent.bar\")\n"
   ]
  },
  {
   "cell_type": "code",
   "execution_count": 3,
   "id": "a9d033b2-0f26-4a17-b786-cd2476ea174f",
   "metadata": {},
   "outputs": [
    {
     "ename": "TypeError",
     "evalue": "Can't instantiate abstract class Parent with abstract method foo",
     "output_type": "error",
     "traceback": [
      "\u001b[1;31m---------------------------------------------------------------------------\u001b[0m",
      "\u001b[1;31mTypeError\u001b[0m                                 Traceback (most recent call last)",
      "Cell \u001b[1;32mIn[3], line 1\u001b[0m\n\u001b[1;32m----> 1\u001b[0m obj \u001b[38;5;241m=\u001b[39m \u001b[43mParent\u001b[49m\u001b[43m(\u001b[49m\u001b[43m)\u001b[49m\n",
      "\u001b[1;31mTypeError\u001b[0m: Can't instantiate abstract class Parent with abstract method foo"
     ]
    }
   ],
   "source": [
    "obj = Parent()"
   ]
  },
  {
   "cell_type": "code",
   "execution_count": 4,
   "id": "be9d0006-9f9c-4c89-9868-e653a08c067a",
   "metadata": {},
   "outputs": [],
   "source": [
    "class Child(Parent):\n",
    "    pass"
   ]
  },
  {
   "cell_type": "code",
   "execution_count": 5,
   "id": "1aa27aad-ab27-49c3-8df1-ac75383befec",
   "metadata": {},
   "outputs": [
    {
     "ename": "TypeError",
     "evalue": "Can't instantiate abstract class Child with abstract method foo",
     "output_type": "error",
     "traceback": [
      "\u001b[1;31m---------------------------------------------------------------------------\u001b[0m",
      "\u001b[1;31mTypeError\u001b[0m                                 Traceback (most recent call last)",
      "Cell \u001b[1;32mIn[5], line 1\u001b[0m\n\u001b[1;32m----> 1\u001b[0m \u001b[43mChild\u001b[49m\u001b[43m(\u001b[49m\u001b[43m)\u001b[49m\n",
      "\u001b[1;31mTypeError\u001b[0m: Can't instantiate abstract class Child with abstract method foo"
     ]
    }
   ],
   "source": [
    "Child()"
   ]
  },
  {
   "cell_type": "code",
   "execution_count": 6,
   "id": "12edbf70-17d5-48cf-9d6c-852e16ae436c",
   "metadata": {},
   "outputs": [],
   "source": [
    "class Child(Parent):\n",
    "    def foo(self):\n",
    "        print(\"I am in Child.foo\")"
   ]
  },
  {
   "cell_type": "code",
   "execution_count": 7,
   "id": "5e8c5e3f-e28a-46c6-bb00-5238cc9ba305",
   "metadata": {},
   "outputs": [],
   "source": [
    "obj = Child()"
   ]
  },
  {
   "cell_type": "code",
   "execution_count": 9,
   "id": "fea00447-c1f7-4959-905f-f681f7328875",
   "metadata": {},
   "outputs": [],
   "source": [
    "# obj = Parent()"
   ]
  },
  {
   "cell_type": "code",
   "execution_count": null,
   "id": "79547aee-618d-4045-a59a-34936b555657",
   "metadata": {},
   "outputs": [],
   "source": []
  }
 ],
 "metadata": {
  "kernelspec": {
   "display_name": "Python 3 (ipykernel)",
   "language": "python",
   "name": "python3"
  },
  "language_info": {
   "codemirror_mode": {
    "name": "ipython",
    "version": 3
   },
   "file_extension": ".py",
   "mimetype": "text/x-python",
   "name": "python",
   "nbconvert_exporter": "python",
   "pygments_lexer": "ipython3",
   "version": "3.10.2"
  }
 },
 "nbformat": 4,
 "nbformat_minor": 5
}
