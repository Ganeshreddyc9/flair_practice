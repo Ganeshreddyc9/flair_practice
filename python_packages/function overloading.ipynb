{
 "cells": [
  {
   "cell_type": "code",
   "execution_count": 3,
   "id": "c0e09b7f-bd58-44c2-a524-db27cb4e8ce9",
   "metadata": {},
   "outputs": [
    {
     "data": {
      "text/plain": [
       "80"
      ]
     },
     "execution_count": 3,
     "metadata": {},
     "output_type": "execute_result"
    }
   ],
   "source": [
    "def fun(a,b):\n",
    "\n",
    "    return a + b\n",
    "\n",
    "def fun(a, b, c):\n",
    "\n",
    "    return a + b + c\n",
    "\n",
    "# fun(10, 20)\n",
    "fun(10, 30, 40)"
   ]
  },
  {
   "cell_type": "code",
   "execution_count": 11,
   "id": "479fc25c-d8ee-41b4-9eee-5a5d99b47ec1",
   "metadata": {},
   "outputs": [
    {
     "name": "stdout",
     "output_type": "stream",
     "text": [
      "\n",
      "    Returns the square of number \n",
      "\n",
      "    parameter x\n",
      "\n",
      "    x(int): the number to be squared\n",
      "\n",
      "    returns:\n",
      "\n",
      "    int : the square values\n",
      "     10000000000\n"
     ]
    }
   ],
   "source": [
    "\n",
    "\n",
    "# doc strings\n",
    "\n",
    "def square(x):\n",
    "\n",
    "    \"\"\"\n",
    "    Returns the square of number \n",
    "\n",
    "    parameter x\n",
    "\n",
    "    x(int): the number to be squared\n",
    "\n",
    "    returns:\n",
    "\n",
    "    int : the square values\n",
    "    \"\"\"\n",
    "\n",
    "    return x ** 10\n",
    "\n",
    "\n",
    "\n",
    "# print)\n",
    "print((square.__doc__),square(10))"
   ]
  },
  {
   "cell_type": "code",
   "execution_count": 17,
   "id": "fb61d75b-b164-4fb0-86a7-4b6be2f3d300",
   "metadata": {},
   "outputs": [
    {
     "name": "stdout",
     "output_type": "stream",
     "text": [
      "1 2 "
     ]
    }
   ],
   "source": [
    "\n",
    "\n",
    "# controled statements\n",
    "\n",
    "# break:\n",
    "# if u want to break the iteration we got for break statement \n",
    "\n",
    "\n",
    "l = [1, 2, 3, 4, 5]\n",
    "\n",
    "for i in l:\n",
    "\n",
    "    if i == 3:\n",
    "        break\n",
    "    else:\n",
    "        print(i, end=\" \")\n",
    "\n"
   ]
  },
  {
   "cell_type": "code",
   "execution_count": 16,
   "id": "e7638b1b-5af9-4cf1-8744-1c128f46c5b4",
   "metadata": {},
   "outputs": [
    {
     "name": "stdout",
     "output_type": "stream",
     "text": [
      "1 2 4 5 "
     ]
    }
   ],
   "source": [
    "# continue:\n",
    "\n",
    "# if we want to skip the current iteration we can go for continue\n",
    "\n",
    "# ex:\n",
    "\n",
    "l = [1, 2, 3, 4, 5]\n",
    "\n",
    "for i in l:\n",
    "\n",
    "    if i == 3:\n",
    "        continue\n",
    "    else:\n",
    "        print(i, end=\" \")\n"
   ]
  },
  {
   "cell_type": "code",
   "execution_count": 18,
   "id": "c3f57c83-b8c9-48c3-8240-cf3c8a748b78",
   "metadata": {},
   "outputs": [
    {
     "name": "stdout",
     "output_type": "stream",
     "text": [
      "None\n"
     ]
    }
   ],
   "source": [
    "# pass\n",
    "\n",
    "# if u are planning to write a func (or) a class and you want to define it later \n",
    "\n",
    "# ex:\n",
    "\n",
    "def fun():\n",
    "    pass\n",
    "print(fun())"
   ]
  },
  {
   "cell_type": "code",
   "execution_count": null,
   "id": "b5169554-770b-408e-a794-6e6ddddfac29",
   "metadata": {},
   "outputs": [],
   "source": []
  },
  {
   "cell_type": "code",
   "execution_count": 19,
   "id": "4b32c89b-e99d-4412-a1e0-8fb1e6e98caf",
   "metadata": {},
   "outputs": [
    {
     "name": "stdout",
     "output_type": "stream",
     "text": [
      "Present\n"
     ]
    }
   ],
   "source": [
    "# for else\n",
    "\n",
    "data = [1, 2, 3, 4, 5, 6, 7, 8, 9]\n",
    "\n",
    "for i in data:\n",
    "\n",
    "    if i == 5:\n",
    "        is_present = True\n",
    "        break\n",
    "\n",
    "if is_present:\n",
    "    print(\"Present\")\n",
    "else:\n",
    "    print(\"not present\")\n",
    "    "
   ]
  },
  {
   "cell_type": "code",
   "execution_count": 20,
   "id": "9dca4e59-9053-4e38-958e-1deec0f2f8f9",
   "metadata": {},
   "outputs": [
    {
     "name": "stdout",
     "output_type": "stream",
     "text": [
      "Present\n",
      "not present\n"
     ]
    }
   ],
   "source": [
    "\n",
    "# for else\n",
    "\n",
    "data = [1, 2, 3, 4, 5, 6, 7, 8, 9]\n",
    "\n",
    "for i in data:\n",
    "\n",
    "    if i == 5:\n",
    "        print(\"Present\")\n",
    "\n",
    "\n",
    "else:\n",
    "    print(\"not present\")"
   ]
  },
  {
   "cell_type": "code",
   "execution_count": null,
   "id": "9c6daa17-2e13-415f-b74e-bb2550584f53",
   "metadata": {},
   "outputs": [],
   "source": []
  },
  {
   "cell_type": "code",
   "execution_count": 29,
   "id": "783796ce-9ebf-4da0-917a-c38799bb3dd7",
   "metadata": {},
   "outputs": [
    {
     "name": "stdout",
     "output_type": "stream",
     "text": [
      "1000\n",
      "2000\n"
     ]
    }
   ],
   "source": [
    "# enclosed \n",
    "c = 3000\n",
    "def outer():\n",
    "    c = 1000\n",
    "    # print(c)\n",
    "    def inner():\n",
    "        c = 2000\n",
    "        print(c)\n",
    "    inner()\n",
    "outer()"
   ]
  },
  {
   "cell_type": "code",
   "execution_count": 28,
   "id": "4b5fb4ec-a6f4-450d-88e6-15428e403f26",
   "metadata": {},
   "outputs": [
    {
     "name": "stdout",
     "output_type": "stream",
     "text": [
      "1000\n"
     ]
    }
   ],
   "source": [
    "def outer():\n",
    "    c = 1000\n",
    "    def fun():\n",
    "        print(c)\n",
    "    fun()\n",
    "outer()"
   ]
  },
  {
   "cell_type": "code",
   "execution_count": null,
   "id": "856316c1-1e65-486f-99c6-647e362456d5",
   "metadata": {},
   "outputs": [],
   "source": []
  },
  {
   "cell_type": "code",
   "execution_count": 26,
   "id": "861c5e47-1a77-4d7f-ad5a-6e31d5dbb0c7",
   "metadata": {},
   "outputs": [
    {
     "name": "stdout",
     "output_type": "stream",
     "text": [
      "global\n"
     ]
    }
   ],
   "source": [
    "c = \"global\"\n",
    "\n",
    "def outer():\n",
    "    def fun():\n",
    "        print(c)\n",
    "    fun()\n",
    "outer()"
   ]
  },
  {
   "cell_type": "code",
   "execution_count": 33,
   "id": "8f6d11b0-8856-4bbc-bb66-756990effb84",
   "metadata": {},
   "outputs": [
    {
     "name": "stdout",
     "output_type": "stream",
     "text": [
      "(10, 10, 20)\n"
     ]
    }
   ],
   "source": [
    "\n",
    "def fun():\n",
    "    fun = 10,10,20\n",
    "    \n",
    "    return fun\n",
    "print(fun())"
   ]
  },
  {
   "cell_type": "code",
   "execution_count": 35,
   "id": "8ee3dc8c-a865-4cec-bbbc-366d2fc467d3",
   "metadata": {},
   "outputs": [
    {
     "data": {
      "text/plain": [
       "{'__name__': '__main__',\n",
       " '__doc__': 'Automatically created module for IPython interactive environment',\n",
       " '__package__': None,\n",
       " '__loader__': None,\n",
       " '__spec__': None,\n",
       " '__builtin__': <module 'builtins' (built-in)>,\n",
       " '__builtins__': <module 'builtins' (built-in)>,\n",
       " '_ih': ['',\n",
       "  'def fun(a,b):\\n\\n    return a + b\\n\\nfun(10, 20)',\n",
       "  'def fun(a,b):\\n\\n    return a + b\\n\\ndef fun(a, b, c):\\n\\n    return a + b + c\\n\\nfun(10, 20)\\nfun(10, 30, 40)',\n",
       "  'def fun(a,b):\\n\\n    return a + b\\n\\ndef fun(a, b, c):\\n\\n    return a + b + c\\n\\n# fun(10, 20)\\nfun(10, 30, 40)',\n",
       "  '# doc strings\\n\\ndef square(x):\\n\\n    \"\"\"\\n    Returns the square of number \\n\\n    parameter x\\n\\n    x(int): the number to be squared\\n\\n    returns:\\n\\n    int : the square values\\n    \"\"\"\\n\\n    return x ** 10\\nsquare(10)',\n",
       "  '# doc strings\\n\\ndef square(x):\\n\\n    \"\"\"\\n    Returns the square of number \\n\\n    parameter x\\n\\n    x(int): the number to be squared\\n\\n    returns:\\n\\n    int : the square values\\n    \"\"\"\\n\\n    return x ** 10\\nsquare(10)\\n\\nsquare.__doc__',\n",
       "  '# doc strings\\n\\ndef square(x):\\n\\n    \"\"\"\\n    Returns the square of number \\n\\n    parameter x\\n\\n    x(int): the number to be squared\\n\\n    returns:\\n\\n    int : the square values\\n    \"\"\"\\n\\n    return x ** 10\\nsquare(10)\\n\\nprint(square.__doc__)',\n",
       "  '# doc strings\\n\\ndef square(x):\\n\\n    \"\"\"\\n    Returns the square of number \\n\\n    parameter x\\n\\n    x(int): the number to be squared\\n\\n    returns:\\n\\n    int : the square values\\n    \"\"\"\\n\\n    return x ** 10\\n\\n\\nprint(square.__doc__)\\nprint(square(10))',\n",
       "  '# doc strings\\n\\ndef square(x):\\n\\n    \"\"\"\\n    Returns the square of number \\n\\n    parameter x\\n\\n    x(int): the number to be squared\\n\\n    returns:\\n\\n    int : the square values\\n    \"\"\"\\n\\n    return x ** 10\\n\\n\\nprint)\\nprint(square(10),(square.__doc__)',\n",
       "  '# doc strings\\n\\ndef square(x):\\n\\n    \"\"\"\\n    Returns the square of number \\n\\n    parameter x\\n\\n    x(int): the number to be squared\\n\\n    returns:\\n\\n    int : the square values\\n    \"\"\"\\n\\n    return x ** 10\\n\\n\\nprint)\\nprint(square(10),(square.__doc__))',\n",
       "  '# doc strings\\n\\ndef square(x):\\n\\n    \"\"\"\\n    Returns the square of number \\n\\n    parameter x\\n\\n    x(int): the number to be squared\\n\\n    returns:\\n\\n    int : the square values\\n    \"\"\"\\n\\n    return x ** 10\\n\\n\\n# print)\\nprint(square(10),(square.__doc__))',\n",
       "  '# doc strings\\n\\ndef square(x):\\n\\n    \"\"\"\\n    Returns the square of number \\n\\n    parameter x\\n\\n    x(int): the number to be squared\\n\\n    returns:\\n\\n    int : the square values\\n    \"\"\"\\n\\n    return x ** 10\\n\\n\\n# print)\\nprint((square.__doc__),square(10))',\n",
       "  '# controled statements\\n\\n# break:\\n# if u want to break the iteration we got for break statement \\n\\n# continue:\\n\\n# if we want to skip the current iteration we can go for continue\\n\\n# pass\\n\\n# if u are planning to write a func (or) a class and you want to define it later \\n\\nex:\\n\\ndef fun():\\n    pass\\nfun()',\n",
       "  '# controled statements\\n\\n# break:\\n# if u want to break the iteration we got for break statement \\n\\n# continue:\\n\\n# if we want to skip the current iteration we can go for continue\\n\\n# pass\\n\\n# if u are planning to write a func (or) a class and you want to define it later \\n\\n# ex:\\n\\ndef fun():\\n    pass\\nfun()',\n",
       "  '# controled statements\\n\\n# break:\\n# if u want to break the iteration we got for break statement \\n\\n# continue:\\n\\n# if we want to skip the current iteration we can go for continue\\n\\n# pass\\n\\n# if u are planning to write a func (or) a class and you want to define it later \\n\\n# ex:\\n\\ndef fun():\\n    pass\\nprint(fun())',\n",
       "  '# continue:\\n\\n# if we want to skip the current iteration we can go for continue\\n\\n# ex:\\n\\nl = [1, 2, 3, 4, 5]\\n\\nfor i in l:\\n\\n    if i == 3:\\n        continue\\n    else:\\n        print(i, end=\"\")',\n",
       "  '# continue:\\n\\n# if we want to skip the current iteration we can go for continue\\n\\n# ex:\\n\\nl = [1, 2, 3, 4, 5]\\n\\nfor i in l:\\n\\n    if i == 3:\\n        continue\\n    else:\\n        print(i, end=\" \")',\n",
       "  '# controled statements\\n\\n# break:\\n# if u want to break the iteration we got for break statement \\n\\n\\nl = [1, 2, 3, 4, 5]\\n\\nfor i in l:\\n\\n    if i == 3:\\n        break\\n    else:\\n        print(i, end=\" \")',\n",
       "  '# pass\\n\\n# if u are planning to write a func (or) a class and you want to define it later \\n\\n# ex:\\n\\ndef fun():\\n    pass\\nprint(fun())',\n",
       "  '# for else\\n\\ndata = [1, 2, 3, 4, 5, 6, 7, 8, 9]\\n\\nfor i in data:\\n\\n    if i == 5:\\n        is_present = True\\n        break\\n\\nif is_present:\\n    print(\"Present\")\\nelse:\\n    print(\"not present\")\\n    ',\n",
       "  '# for else\\n\\ndata = [1, 2, 3, 4, 5, 6, 7, 8, 9]\\n\\nfor i in data:\\n\\n    if i == 5:\\n        print(\"Present\")\\n\\n\\nelse:\\n    print(\"not present\")',\n",
       "  '# enclosed \\n\\ndef outer():\\n    c = 1000\\n    def inner():\\n        c = 2000\\n        print(c)\\n    inner()\\nouter()',\n",
       "  '# enclosed \\n\\ndef outer():\\n    c = 1000\\n    print(C)\\n    def inner():\\n        c = 2000\\n        print(c)\\n    inner()\\nouter()',\n",
       "  '# enclosed \\n\\ndef outer():\\n    c = 1000\\n    print(c)\\n    def inner():\\n        c = 2000\\n        print(c)\\n    inner()\\nouter()',\n",
       "  '# enclosed \\n\\ndef outer():\\n    c = 1000\\n    # print(c)\\n    def inner():\\n        c = 2000\\n        print(c)\\n    inner()\\nouter()',\n",
       "  'def outer():\\n    c = 1000\\n    def fun():\\n        print(c)\\n    fun()\\nouter()',\n",
       "  'c = \"global\"\\n\\ndef outer():\\n    def fun():\\n        print(c)\\n    fun()\\nouter()',\n",
       "  '# enclosed \\nc = 3000\\ndef outer():\\n    c = 1000\\n    # print(c)\\n    def inner():\\n        c = 2000\\n        print(c)\\n    inner()\\nouter()',\n",
       "  'def outer():\\n    c = 1000\\n    def fun():\\n        print(c)\\n    fun()\\nouter()',\n",
       "  '# enclosed \\nc = 3000\\ndef outer():\\n    c = 1000\\n    print(c)\\n    def inner():\\n        c = 2000\\n        print(c)\\n    inner()\\nouter()',\n",
       "  'def fun():\\n    fun = 10\\n    return fun\\nfun()',\n",
       "  'def fun():\\n    fun = 10\\n    return fun\\nprint(fun())',\n",
       "  'def fun():\\n    fun = 10,10\\n    return fun\\nprint(fun())',\n",
       "  'def fun():\\n    fun = 10,10,20\\n    \\n    return fun\\nprint(fun())',\n",
       "  'locals',\n",
       "  'locals()'],\n",
       " '_oh': {1: 30,\n",
       "  3: 80,\n",
       "  4: 10000000000,\n",
       "  5: '\\n    Returns the square of number \\n\\n    parameter x\\n\\n    x(int): the number to be squared\\n\\n    returns:\\n\\n    int : the square values\\n    ',\n",
       "  30: 10,\n",
       "  34: <function locals()>},\n",
       " '_dh': [WindowsPath('C:/Users/91798/OneDrive/Desktop/flair_techology/python_packages')],\n",
       " 'In': ['',\n",
       "  'def fun(a,b):\\n\\n    return a + b\\n\\nfun(10, 20)',\n",
       "  'def fun(a,b):\\n\\n    return a + b\\n\\ndef fun(a, b, c):\\n\\n    return a + b + c\\n\\nfun(10, 20)\\nfun(10, 30, 40)',\n",
       "  'def fun(a,b):\\n\\n    return a + b\\n\\ndef fun(a, b, c):\\n\\n    return a + b + c\\n\\n# fun(10, 20)\\nfun(10, 30, 40)',\n",
       "  '# doc strings\\n\\ndef square(x):\\n\\n    \"\"\"\\n    Returns the square of number \\n\\n    parameter x\\n\\n    x(int): the number to be squared\\n\\n    returns:\\n\\n    int : the square values\\n    \"\"\"\\n\\n    return x ** 10\\nsquare(10)',\n",
       "  '# doc strings\\n\\ndef square(x):\\n\\n    \"\"\"\\n    Returns the square of number \\n\\n    parameter x\\n\\n    x(int): the number to be squared\\n\\n    returns:\\n\\n    int : the square values\\n    \"\"\"\\n\\n    return x ** 10\\nsquare(10)\\n\\nsquare.__doc__',\n",
       "  '# doc strings\\n\\ndef square(x):\\n\\n    \"\"\"\\n    Returns the square of number \\n\\n    parameter x\\n\\n    x(int): the number to be squared\\n\\n    returns:\\n\\n    int : the square values\\n    \"\"\"\\n\\n    return x ** 10\\nsquare(10)\\n\\nprint(square.__doc__)',\n",
       "  '# doc strings\\n\\ndef square(x):\\n\\n    \"\"\"\\n    Returns the square of number \\n\\n    parameter x\\n\\n    x(int): the number to be squared\\n\\n    returns:\\n\\n    int : the square values\\n    \"\"\"\\n\\n    return x ** 10\\n\\n\\nprint(square.__doc__)\\nprint(square(10))',\n",
       "  '# doc strings\\n\\ndef square(x):\\n\\n    \"\"\"\\n    Returns the square of number \\n\\n    parameter x\\n\\n    x(int): the number to be squared\\n\\n    returns:\\n\\n    int : the square values\\n    \"\"\"\\n\\n    return x ** 10\\n\\n\\nprint)\\nprint(square(10),(square.__doc__)',\n",
       "  '# doc strings\\n\\ndef square(x):\\n\\n    \"\"\"\\n    Returns the square of number \\n\\n    parameter x\\n\\n    x(int): the number to be squared\\n\\n    returns:\\n\\n    int : the square values\\n    \"\"\"\\n\\n    return x ** 10\\n\\n\\nprint)\\nprint(square(10),(square.__doc__))',\n",
       "  '# doc strings\\n\\ndef square(x):\\n\\n    \"\"\"\\n    Returns the square of number \\n\\n    parameter x\\n\\n    x(int): the number to be squared\\n\\n    returns:\\n\\n    int : the square values\\n    \"\"\"\\n\\n    return x ** 10\\n\\n\\n# print)\\nprint(square(10),(square.__doc__))',\n",
       "  '# doc strings\\n\\ndef square(x):\\n\\n    \"\"\"\\n    Returns the square of number \\n\\n    parameter x\\n\\n    x(int): the number to be squared\\n\\n    returns:\\n\\n    int : the square values\\n    \"\"\"\\n\\n    return x ** 10\\n\\n\\n# print)\\nprint((square.__doc__),square(10))',\n",
       "  '# controled statements\\n\\n# break:\\n# if u want to break the iteration we got for break statement \\n\\n# continue:\\n\\n# if we want to skip the current iteration we can go for continue\\n\\n# pass\\n\\n# if u are planning to write a func (or) a class and you want to define it later \\n\\nex:\\n\\ndef fun():\\n    pass\\nfun()',\n",
       "  '# controled statements\\n\\n# break:\\n# if u want to break the iteration we got for break statement \\n\\n# continue:\\n\\n# if we want to skip the current iteration we can go for continue\\n\\n# pass\\n\\n# if u are planning to write a func (or) a class and you want to define it later \\n\\n# ex:\\n\\ndef fun():\\n    pass\\nfun()',\n",
       "  '# controled statements\\n\\n# break:\\n# if u want to break the iteration we got for break statement \\n\\n# continue:\\n\\n# if we want to skip the current iteration we can go for continue\\n\\n# pass\\n\\n# if u are planning to write a func (or) a class and you want to define it later \\n\\n# ex:\\n\\ndef fun():\\n    pass\\nprint(fun())',\n",
       "  '# continue:\\n\\n# if we want to skip the current iteration we can go for continue\\n\\n# ex:\\n\\nl = [1, 2, 3, 4, 5]\\n\\nfor i in l:\\n\\n    if i == 3:\\n        continue\\n    else:\\n        print(i, end=\"\")',\n",
       "  '# continue:\\n\\n# if we want to skip the current iteration we can go for continue\\n\\n# ex:\\n\\nl = [1, 2, 3, 4, 5]\\n\\nfor i in l:\\n\\n    if i == 3:\\n        continue\\n    else:\\n        print(i, end=\" \")',\n",
       "  '# controled statements\\n\\n# break:\\n# if u want to break the iteration we got for break statement \\n\\n\\nl = [1, 2, 3, 4, 5]\\n\\nfor i in l:\\n\\n    if i == 3:\\n        break\\n    else:\\n        print(i, end=\" \")',\n",
       "  '# pass\\n\\n# if u are planning to write a func (or) a class and you want to define it later \\n\\n# ex:\\n\\ndef fun():\\n    pass\\nprint(fun())',\n",
       "  '# for else\\n\\ndata = [1, 2, 3, 4, 5, 6, 7, 8, 9]\\n\\nfor i in data:\\n\\n    if i == 5:\\n        is_present = True\\n        break\\n\\nif is_present:\\n    print(\"Present\")\\nelse:\\n    print(\"not present\")\\n    ',\n",
       "  '# for else\\n\\ndata = [1, 2, 3, 4, 5, 6, 7, 8, 9]\\n\\nfor i in data:\\n\\n    if i == 5:\\n        print(\"Present\")\\n\\n\\nelse:\\n    print(\"not present\")',\n",
       "  '# enclosed \\n\\ndef outer():\\n    c = 1000\\n    def inner():\\n        c = 2000\\n        print(c)\\n    inner()\\nouter()',\n",
       "  '# enclosed \\n\\ndef outer():\\n    c = 1000\\n    print(C)\\n    def inner():\\n        c = 2000\\n        print(c)\\n    inner()\\nouter()',\n",
       "  '# enclosed \\n\\ndef outer():\\n    c = 1000\\n    print(c)\\n    def inner():\\n        c = 2000\\n        print(c)\\n    inner()\\nouter()',\n",
       "  '# enclosed \\n\\ndef outer():\\n    c = 1000\\n    # print(c)\\n    def inner():\\n        c = 2000\\n        print(c)\\n    inner()\\nouter()',\n",
       "  'def outer():\\n    c = 1000\\n    def fun():\\n        print(c)\\n    fun()\\nouter()',\n",
       "  'c = \"global\"\\n\\ndef outer():\\n    def fun():\\n        print(c)\\n    fun()\\nouter()',\n",
       "  '# enclosed \\nc = 3000\\ndef outer():\\n    c = 1000\\n    # print(c)\\n    def inner():\\n        c = 2000\\n        print(c)\\n    inner()\\nouter()',\n",
       "  'def outer():\\n    c = 1000\\n    def fun():\\n        print(c)\\n    fun()\\nouter()',\n",
       "  '# enclosed \\nc = 3000\\ndef outer():\\n    c = 1000\\n    print(c)\\n    def inner():\\n        c = 2000\\n        print(c)\\n    inner()\\nouter()',\n",
       "  'def fun():\\n    fun = 10\\n    return fun\\nfun()',\n",
       "  'def fun():\\n    fun = 10\\n    return fun\\nprint(fun())',\n",
       "  'def fun():\\n    fun = 10,10\\n    return fun\\nprint(fun())',\n",
       "  'def fun():\\n    fun = 10,10,20\\n    \\n    return fun\\nprint(fun())',\n",
       "  'locals',\n",
       "  'locals()'],\n",
       " 'Out': {1: 30,\n",
       "  3: 80,\n",
       "  4: 10000000000,\n",
       "  5: '\\n    Returns the square of number \\n\\n    parameter x\\n\\n    x(int): the number to be squared\\n\\n    returns:\\n\\n    int : the square values\\n    ',\n",
       "  30: 10,\n",
       "  34: <function locals()>},\n",
       " 'get_ipython': <bound method InteractiveShell.get_ipython of <ipykernel.zmqshell.ZMQInteractiveShell object at 0x00000239C919DCC0>>,\n",
       " 'exit': <IPython.core.autocall.ZMQExitAutocall at 0x239c919e920>,\n",
       " 'quit': <IPython.core.autocall.ZMQExitAutocall at 0x239c919e920>,\n",
       " 'open': <function io.open(file, mode='r', buffering=-1, encoding=None, errors=None, newline=None, closefd=True, opener=None)>,\n",
       " '_': <function locals()>,\n",
       " '__': 10,\n",
       " '___': '\\n    Returns the square of number \\n\\n    parameter x\\n\\n    x(int): the number to be squared\\n\\n    returns:\\n\\n    int : the square values\\n    ',\n",
       " '__session__': 'C:\\\\Users\\\\91798\\\\OneDrive\\\\Desktop\\\\flair_techology\\\\python_packages\\\\Untitled.ipynb',\n",
       " '_i': 'locals',\n",
       " '_ii': '\\ndef fun():\\n    fun = 10,10,20\\n    \\n    return fun\\nprint(fun())',\n",
       " '_iii': '\\ndef fun():\\n    fun = 10,10\\n    return fun\\nprint(fun())',\n",
       " '_i1': 'def fun(a,b):\\n\\n    return a + b\\n\\nfun(10, 20)',\n",
       " 'fun': <function __main__.fun()>,\n",
       " '_1': 30,\n",
       " '_i2': 'def fun(a,b):\\n\\n    return a + b\\n\\ndef fun(a, b, c):\\n\\n    return a + b + c\\n\\nfun(10, 20)\\nfun(10, 30, 40)',\n",
       " '_i3': 'def fun(a,b):\\n\\n    return a + b\\n\\ndef fun(a, b, c):\\n\\n    return a + b + c\\n\\n# fun(10, 20)\\nfun(10, 30, 40)',\n",
       " '_3': 80,\n",
       " '_i4': '\\n\\n# doc strings\\n\\ndef square(x):\\n\\n    \"\"\"\\n    Returns the square of number \\n\\n    parameter x\\n\\n    x(int): the number to be squared\\n\\n    returns:\\n\\n    int : the square values\\n    \"\"\"\\n\\n    return x ** 10\\nsquare(10)',\n",
       " 'square': <function __main__.square(x)>,\n",
       " '_4': 10000000000,\n",
       " '_i5': '\\n\\n# doc strings\\n\\ndef square(x):\\n\\n    \"\"\"\\n    Returns the square of number \\n\\n    parameter x\\n\\n    x(int): the number to be squared\\n\\n    returns:\\n\\n    int : the square values\\n    \"\"\"\\n\\n    return x ** 10\\nsquare(10)\\n\\nsquare.__doc__',\n",
       " '_5': '\\n    Returns the square of number \\n\\n    parameter x\\n\\n    x(int): the number to be squared\\n\\n    returns:\\n\\n    int : the square values\\n    ',\n",
       " '_i6': '\\n\\n# doc strings\\n\\ndef square(x):\\n\\n    \"\"\"\\n    Returns the square of number \\n\\n    parameter x\\n\\n    x(int): the number to be squared\\n\\n    returns:\\n\\n    int : the square values\\n    \"\"\"\\n\\n    return x ** 10\\nsquare(10)\\n\\nprint(square.__doc__)',\n",
       " '_i7': '\\n\\n# doc strings\\n\\ndef square(x):\\n\\n    \"\"\"\\n    Returns the square of number \\n\\n    parameter x\\n\\n    x(int): the number to be squared\\n\\n    returns:\\n\\n    int : the square values\\n    \"\"\"\\n\\n    return x ** 10\\n\\n\\nprint(square.__doc__)\\nprint(square(10))',\n",
       " '_i8': '\\n\\n# doc strings\\n\\ndef square(x):\\n\\n    \"\"\"\\n    Returns the square of number \\n\\n    parameter x\\n\\n    x(int): the number to be squared\\n\\n    returns:\\n\\n    int : the square values\\n    \"\"\"\\n\\n    return x ** 10\\n\\n\\nprint)\\nprint(square(10),(square.__doc__)',\n",
       " '_i9': '\\n\\n# doc strings\\n\\ndef square(x):\\n\\n    \"\"\"\\n    Returns the square of number \\n\\n    parameter x\\n\\n    x(int): the number to be squared\\n\\n    returns:\\n\\n    int : the square values\\n    \"\"\"\\n\\n    return x ** 10\\n\\n\\nprint)\\nprint(square(10),(square.__doc__))',\n",
       " '_i10': '\\n\\n# doc strings\\n\\ndef square(x):\\n\\n    \"\"\"\\n    Returns the square of number \\n\\n    parameter x\\n\\n    x(int): the number to be squared\\n\\n    returns:\\n\\n    int : the square values\\n    \"\"\"\\n\\n    return x ** 10\\n\\n\\n# print)\\nprint(square(10),(square.__doc__))',\n",
       " '_i11': '\\n\\n# doc strings\\n\\ndef square(x):\\n\\n    \"\"\"\\n    Returns the square of number \\n\\n    parameter x\\n\\n    x(int): the number to be squared\\n\\n    returns:\\n\\n    int : the square values\\n    \"\"\"\\n\\n    return x ** 10\\n\\n\\n# print)\\nprint((square.__doc__),square(10))',\n",
       " '_i12': '\\n\\n# controled statements\\n\\n# break:\\n# if u want to break the iteration we got for break statement \\n\\n# continue:\\n\\n# if we want to skip the current iteration we can go for continue\\n\\n# pass\\n\\n# if u are planning to write a func (or) a class and you want to define it later \\n\\nex:\\n\\ndef fun():\\n    pass\\nfun()',\n",
       " '_i13': '\\n\\n# controled statements\\n\\n# break:\\n# if u want to break the iteration we got for break statement \\n\\n# continue:\\n\\n# if we want to skip the current iteration we can go for continue\\n\\n# pass\\n\\n# if u are planning to write a func (or) a class and you want to define it later \\n\\n# ex:\\n\\ndef fun():\\n    pass\\nfun()',\n",
       " '_i14': '\\n\\n# controled statements\\n\\n# break:\\n# if u want to break the iteration we got for break statement \\n\\n# continue:\\n\\n# if we want to skip the current iteration we can go for continue\\n\\n# pass\\n\\n# if u are planning to write a func (or) a class and you want to define it later \\n\\n# ex:\\n\\ndef fun():\\n    pass\\nprint(fun())',\n",
       " '_i15': '# continue:\\n\\n# if we want to skip the current iteration we can go for continue\\n\\n# ex:\\n\\nl = [1, 2, 3, 4, 5]\\n\\nfor i in l:\\n\\n    if i == 3:\\n        continue\\n    else:\\n        print(i, end=\"\")',\n",
       " 'l': [1, 2, 3, 4, 5],\n",
       " 'i': 9,\n",
       " '_i16': '# continue:\\n\\n# if we want to skip the current iteration we can go for continue\\n\\n# ex:\\n\\nl = [1, 2, 3, 4, 5]\\n\\nfor i in l:\\n\\n    if i == 3:\\n        continue\\n    else:\\n        print(i, end=\" \")',\n",
       " '_i17': '\\n\\n# controled statements\\n\\n# break:\\n# if u want to break the iteration we got for break statement \\n\\n\\nl = [1, 2, 3, 4, 5]\\n\\nfor i in l:\\n\\n    if i == 3:\\n        break\\n    else:\\n        print(i, end=\" \")',\n",
       " '_i18': '# pass\\n\\n# if u are planning to write a func (or) a class and you want to define it later \\n\\n# ex:\\n\\ndef fun():\\n    pass\\nprint(fun())',\n",
       " '_i19': '# for else\\n\\ndata = [1, 2, 3, 4, 5, 6, 7, 8, 9]\\n\\nfor i in data:\\n\\n    if i == 5:\\n        is_present = True\\n        break\\n\\nif is_present:\\n    print(\"Present\")\\nelse:\\n    print(\"not present\")\\n    ',\n",
       " 'data': [1, 2, 3, 4, 5, 6, 7, 8, 9],\n",
       " 'is_present': True,\n",
       " '_i20': '\\n# for else\\n\\ndata = [1, 2, 3, 4, 5, 6, 7, 8, 9]\\n\\nfor i in data:\\n\\n    if i == 5:\\n        print(\"Present\")\\n\\n\\nelse:\\n    print(\"not present\")',\n",
       " '_i21': '# enclosed \\n\\ndef outer():\\n    c = 1000\\n    def inner():\\n        c = 2000\\n        print(c)\\n    inner()\\nouter()',\n",
       " 'outer': <function __main__.outer()>,\n",
       " '_i22': '# enclosed \\n\\ndef outer():\\n    c = 1000\\n    print(C)\\n    def inner():\\n        c = 2000\\n        print(c)\\n    inner()\\nouter()',\n",
       " '_i23': '# enclosed \\n\\ndef outer():\\n    c = 1000\\n    print(c)\\n    def inner():\\n        c = 2000\\n        print(c)\\n    inner()\\nouter()',\n",
       " '_i24': '# enclosed \\n\\ndef outer():\\n    c = 1000\\n    # print(c)\\n    def inner():\\n        c = 2000\\n        print(c)\\n    inner()\\nouter()',\n",
       " '_i25': 'def outer():\\n    c = 1000\\n    def fun():\\n        print(c)\\n    fun()\\nouter()',\n",
       " '_i26': 'c = \"global\"\\n\\ndef outer():\\n    def fun():\\n        print(c)\\n    fun()\\nouter()',\n",
       " 'c': 3000,\n",
       " '_i27': '# enclosed \\nc = 3000\\ndef outer():\\n    c = 1000\\n    # print(c)\\n    def inner():\\n        c = 2000\\n        print(c)\\n    inner()\\nouter()',\n",
       " '_i28': 'def outer():\\n    c = 1000\\n    def fun():\\n        print(c)\\n    fun()\\nouter()',\n",
       " '_i29': '# enclosed \\nc = 3000\\ndef outer():\\n    c = 1000\\n    print(c)\\n    def inner():\\n        c = 2000\\n        print(c)\\n    inner()\\nouter()',\n",
       " '_i30': '\\ndef fun():\\n    fun = 10\\n    return fun\\nfun()',\n",
       " '_30': 10,\n",
       " '_i31': '\\ndef fun():\\n    fun = 10\\n    return fun\\nprint(fun())',\n",
       " '_i32': '\\ndef fun():\\n    fun = 10,10\\n    return fun\\nprint(fun())',\n",
       " '_i33': '\\ndef fun():\\n    fun = 10,10,20\\n    \\n    return fun\\nprint(fun())',\n",
       " '_i34': 'locals',\n",
       " '_34': <function locals()>,\n",
       " '_i35': 'locals()'}"
      ]
     },
     "execution_count": 35,
     "metadata": {},
     "output_type": "execute_result"
    }
   ],
   "source": [
    "locals()"
   ]
  },
  {
   "cell_type": "code",
   "execution_count": 42,
   "id": "99592409-8b86-4bab-81a8-fc79789ffa16",
   "metadata": {},
   "outputs": [
    {
     "name": "stdout",
     "output_type": "stream",
     "text": [
      "0\n",
      "0\n",
      "0\n",
      "0\n",
      "0\n",
      "0\n",
      "0\n",
      "0\n",
      "0\n",
      "0\n"
     ]
    }
   ],
   "source": [
    "def fibonacci():\n",
    "  a, b = 0, 1\n",
    "  while True:\n",
    "    yield a\n",
    "    a, b = b, a + b\n",
    "\n",
    "# Iterate over the tuple generator and print the first 10 results\n",
    "for i in range(10):\n",
    "    print(next(fibonacci()))"
   ]
  },
  {
   "cell_type": "code",
   "execution_count": null,
   "id": "79910c8e-9992-43fe-808a-d6f67738511e",
   "metadata": {},
   "outputs": [],
   "source": []
  },
  {
   "cell_type": "code",
   "execution_count": 47,
   "id": "a09f0cfa-5168-4a8a-8ba9-a9c11b31363b",
   "metadata": {},
   "outputs": [
    {
     "name": "stdout",
     "output_type": "stream",
     "text": [
      "1\n",
      "4\n",
      "9\n",
      "16\n",
      "25\n",
      "36\n",
      "49\n",
      "64\n",
      "81\n",
      "100\n"
     ]
    }
   ],
   "source": [
    "def squares():\n",
    "\n",
    "    for i in range(1, 11):\n",
    "        yield(i * i)\n",
    "\n",
    "\n",
    "for square in squares():\n",
    "    print(square)\n",
    "    "
   ]
  },
  {
   "cell_type": "code",
   "execution_count": 57,
   "id": "7497bb9f-8d64-45bd-b217-2aaf67a67c3a",
   "metadata": {},
   "outputs": [
    {
     "ename": "TypeError",
     "evalue": "next expected at least 1 argument, got 0",
     "output_type": "error",
     "traceback": [
      "\u001b[1;31m---------------------------------------------------------------------------\u001b[0m",
      "\u001b[1;31mTypeError\u001b[0m                                 Traceback (most recent call last)",
      "Cell \u001b[1;32mIn[57], line 3\u001b[0m\n\u001b[0;32m      1\u001b[0m g \u001b[38;5;241m=\u001b[39m (\u001b[38;5;241m12\u001b[39m, \u001b[38;5;241m14\u001b[39m, \u001b[38;5;241m16\u001b[39m)\n\u001b[1;32m----> 3\u001b[0m \u001b[38;5;28;43mnext\u001b[39;49m\u001b[43m(\u001b[49m\u001b[43m)\u001b[49m\n",
      "\u001b[1;31mTypeError\u001b[0m: next expected at least 1 argument, got 0"
     ]
    }
   ],
   "source": [
    "g = (12, 14, 16)\n",
    "\n",
    "next()"
   ]
  },
  {
   "cell_type": "code",
   "execution_count": null,
   "id": "d53f5ccd-c61a-4e96-902a-c7a7b1edbc26",
   "metadata": {},
   "outputs": [],
   "source": []
  },
  {
   "cell_type": "code",
   "execution_count": null,
   "id": "4596dde0-e94e-4d54-9782-b90f07e29eea",
   "metadata": {},
   "outputs": [],
   "source": []
  }
 ],
 "metadata": {
  "kernelspec": {
   "display_name": "Python 3 (ipykernel)",
   "language": "python",
   "name": "python3"
  },
  "language_info": {
   "codemirror_mode": {
    "name": "ipython",
    "version": 3
   },
   "file_extension": ".py",
   "mimetype": "text/x-python",
   "name": "python",
   "nbconvert_exporter": "python",
   "pygments_lexer": "ipython3",
   "version": "3.10.2"
  }
 },
 "nbformat": 4,
 "nbformat_minor": 5
}
