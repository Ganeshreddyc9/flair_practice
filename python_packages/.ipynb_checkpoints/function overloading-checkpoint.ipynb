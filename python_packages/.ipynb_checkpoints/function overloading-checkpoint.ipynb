{
 "cells": [
  {
   "cell_type": "code",
   "execution_count": 3,
   "id": "c0e09b7f-bd58-44c2-a524-db27cb4e8ce9",
   "metadata": {},
   "outputs": [
    {
     "data": {
      "text/plain": [
       "80"
      ]
     },
     "execution_count": 3,
     "metadata": {},
     "output_type": "execute_result"
    }
   ],
   "source": [
    "def fun(a,b):\n",
    "\n",
    "    return a + b\n",
    "\n",
    "def fun(a, b, c):\n",
    "\n",
    "    return a + b + c\n",
    "\n",
    "# fun(10, 20)\n",
    "fun(10, 30, 40)"
   ]
  },
  {
   "cell_type": "code",
   "execution_count": 11,
   "id": "479fc25c-d8ee-41b4-9eee-5a5d99b47ec1",
   "metadata": {},
   "outputs": [
    {
     "name": "stdout",
     "output_type": "stream",
     "text": [
      "\n",
      "    Returns the square of number \n",
      "\n",
      "    parameter x\n",
      "\n",
      "    x(int): the number to be squared\n",
      "\n",
      "    returns:\n",
      "\n",
      "    int : the square values\n",
      "     10000000000\n"
     ]
    }
   ],
   "source": [
    "\n",
    "\n",
    "# doc strings\n",
    "\n",
    "def square(x):\n",
    "\n",
    "    \"\"\"\n",
    "    Returns the square of number \n",
    "\n",
    "    parameter x\n",
    "\n",
    "    x(int): the number to be squared\n",
    "\n",
    "    returns:\n",
    "\n",
    "    int : the square values\n",
    "    \"\"\"\n",
    "\n",
    "    return x ** 10\n",
    "\n",
    "\n",
    "\n",
    "# print)\n",
    "print((square.__doc__),square(10))"
   ]
  },
  {
   "cell_type": "code",
   "execution_count": 17,
   "id": "fb61d75b-b164-4fb0-86a7-4b6be2f3d300",
   "metadata": {},
   "outputs": [
    {
     "name": "stdout",
     "output_type": "stream",
     "text": [
      "1 2 "
     ]
    }
   ],
   "source": [
    "\n",
    "\n",
    "# controled statements\n",
    "\n",
    "# break:\n",
    "# if u want to break the iteration we got for break statement \n",
    "\n",
    "\n",
    "l = [1, 2, 3, 4, 5]\n",
    "\n",
    "for i in l:\n",
    "\n",
    "    if i == 3:\n",
    "        break\n",
    "    else:\n",
    "        print(i, end=\" \")\n",
    "\n"
   ]
  },
  {
   "cell_type": "code",
   "execution_count": 16,
   "id": "e7638b1b-5af9-4cf1-8744-1c128f46c5b4",
   "metadata": {},
   "outputs": [
    {
     "name": "stdout",
     "output_type": "stream",
     "text": [
      "1 2 4 5 "
     ]
    }
   ],
   "source": [
    "# continue:\n",
    "\n",
    "# if we want to skip the current iteration we can go for continue\n",
    "\n",
    "# ex:\n",
    "\n",
    "l = [1, 2, 3, 4, 5]\n",
    "\n",
    "for i in l:\n",
    "\n",
    "    if i == 3:\n",
    "        continue\n",
    "    else:\n",
    "        print(i, end=\" \")\n"
   ]
  },
  {
   "cell_type": "code",
   "execution_count": 18,
   "id": "c3f57c83-b8c9-48c3-8240-cf3c8a748b78",
   "metadata": {},
   "outputs": [
    {
     "name": "stdout",
     "output_type": "stream",
     "text": [
      "None\n"
     ]
    }
   ],
   "source": [
    "# pass\n",
    "\n",
    "# if u are planning to write a func (or) a class and you want to define it later \n",
    "\n",
    "# ex:\n",
    "\n",
    "def fun():\n",
    "    pass\n",
    "print(fun())"
   ]
  },
  {
   "cell_type": "code",
   "execution_count": null,
   "id": "b5169554-770b-408e-a794-6e6ddddfac29",
   "metadata": {},
   "outputs": [],
   "source": []
  },
  {
   "cell_type": "code",
   "execution_count": 19,
   "id": "4b32c89b-e99d-4412-a1e0-8fb1e6e98caf",
   "metadata": {},
   "outputs": [
    {
     "name": "stdout",
     "output_type": "stream",
     "text": [
      "Present\n"
     ]
    }
   ],
   "source": [
    "# for else\n",
    "\n",
    "data = [1, 2, 3, 4, 5, 6, 7, 8, 9]\n",
    "\n",
    "for i in data:\n",
    "\n",
    "    if i == 5:\n",
    "        is_present = True\n",
    "        break\n",
    "\n",
    "if is_present:\n",
    "    print(\"Present\")\n",
    "else:\n",
    "    print(\"not present\")\n",
    "    "
   ]
  },
  {
   "cell_type": "code",
   "execution_count": 20,
   "id": "9dca4e59-9053-4e38-958e-1deec0f2f8f9",
   "metadata": {},
   "outputs": [
    {
     "name": "stdout",
     "output_type": "stream",
     "text": [
      "Present\n",
      "not present\n"
     ]
    }
   ],
   "source": [
    "\n",
    "# for else\n",
    "\n",
    "data = [1, 2, 3, 4, 5, 6, 7, 8, 9]\n",
    "\n",
    "for i in data:\n",
    "\n",
    "    if i == 5:\n",
    "        print(\"Present\")\n",
    "\n",
    "\n",
    "else:\n",
    "    print(\"not present\")"
   ]
  },
  {
   "cell_type": "code",
   "execution_count": null,
   "id": "9c6daa17-2e13-415f-b74e-bb2550584f53",
   "metadata": {},
   "outputs": [],
   "source": []
  },
  {
   "cell_type": "code",
   "execution_count": 29,
   "id": "783796ce-9ebf-4da0-917a-c38799bb3dd7",
   "metadata": {},
   "outputs": [
    {
     "name": "stdout",
     "output_type": "stream",
     "text": [
      "1000\n",
      "2000\n"
     ]
    }
   ],
   "source": [
    "# enclosed \n",
    "c = 3000\n",
    "def outer():\n",
    "    c = 1000\n",
    "    # print(c)\n",
    "    def inner():\n",
    "        c = 2000\n",
    "        print(c)\n",
    "    inner()\n",
    "outer()"
   ]
  },
  {
   "cell_type": "code",
   "execution_count": 28,
   "id": "4b5fb4ec-a6f4-450d-88e6-15428e403f26",
   "metadata": {},
   "outputs": [
    {
     "name": "stdout",
     "output_type": "stream",
     "text": [
      "1000\n"
     ]
    }
   ],
   "source": [
    "def outer():\n",
    "    c = 1000\n",
    "    def fun():\n",
    "        print(c)\n",
    "    fun()\n",
    "outer()"
   ]
  },
  {
   "cell_type": "code",
   "execution_count": null,
   "id": "856316c1-1e65-486f-99c6-647e362456d5",
   "metadata": {},
   "outputs": [],
   "source": []
  },
  {
   "cell_type": "code",
   "execution_count": 26,
   "id": "861c5e47-1a77-4d7f-ad5a-6e31d5dbb0c7",
   "metadata": {},
   "outputs": [
    {
     "name": "stdout",
     "output_type": "stream",
     "text": [
      "global\n"
     ]
    }
   ],
   "source": [
    "c = \"global\"\n",
    "\n",
    "def outer():\n",
    "    def fun():\n",
    "        print(c)\n",
    "    fun()\n",
    "outer()"
   ]
  },
  {
   "cell_type": "code",
   "execution_count": null,
   "id": "8f6d11b0-8856-4bbc-bb66-756990effb84",
   "metadata": {},
   "outputs": [],
   "source": []
  }
 ],
 "metadata": {
  "kernelspec": {
   "display_name": "Python 3 (ipykernel)",
   "language": "python",
   "name": "python3"
  },
  "language_info": {
   "codemirror_mode": {
    "name": "ipython",
    "version": 3
   },
   "file_extension": ".py",
   "mimetype": "text/x-python",
   "name": "python",
   "nbconvert_exporter": "python",
   "pygments_lexer": "ipython3",
   "version": "3.10.2"
  }
 },
 "nbformat": 4,
 "nbformat_minor": 5
}
