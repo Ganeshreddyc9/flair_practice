{
 "cells": [
  {
   "cell_type": "code",
   "execution_count": 1,
   "id": "f061d3a6-1917-416b-93a8-215df1c0c2b7",
   "metadata": {},
   "outputs": [],
   "source": [
    "# First Class Objects\n",
    "# In Python, functions are first class objects which means that functions in Python can be used or passed as arguments.\n",
    "# Properties of first class functions:"
   ]
  },
  {
   "cell_type": "code",
   "execution_count": 2,
   "id": "ab88f666-769e-4ef9-9438-a903b7907659",
   "metadata": {},
   "outputs": [],
   "source": [
    "# 1. function is an instance of object type \n",
    "# 2. you can store function  in  a varible \n",
    "# 3.  you can pass funcion as an argument to the other function \n",
    "# 4. you can return function from other function \n"
   ]
  },
  {
   "cell_type": "code",
   "execution_count": 5,
   "id": "c11b769f-90b1-4946-813c-308b6caedada",
   "metadata": {},
   "outputs": [
    {
     "name": "stdout",
     "output_type": "stream",
     "text": [
      "<class 'int'>\n"
     ]
    }
   ],
   "source": [
    "# Example 1: Treating the functions as objects\n",
    "\n",
    "a = 2\n",
    "print(type(a))\n"
   ]
  },
  {
   "cell_type": "code",
   "execution_count": 9,
   "id": "159bd902-5fcc-4e52-a418-125b983990d6",
   "metadata": {},
   "outputs": [
    {
     "name": "stdout",
     "output_type": "stream",
     "text": [
      "HELLO\n",
      "HELLO\n"
     ]
    }
   ],
   "source": [
    "def shout(text):\n",
    "\n",
    "    return text.upper()\n",
    "\n",
    "print(shout('Hello'))\n",
    "\n",
    "yell = shout\n",
    "print(\n",
    "    yell('HELLO'))\n",
    "\n",
    "# In the above example, we have assigned the function shout to a variable. \n",
    "# This will not call the function instead it takes the function object referenced by a shout and creates a second name pointing to it, yell."
   ]
  },
  {
   "cell_type": "code",
   "execution_count": 10,
   "id": "b49323b4-772a-4abc-8114-99024da4d656",
   "metadata": {},
   "outputs": [
    {
     "name": "stdout",
     "output_type": "stream",
     "text": [
      "HI, I AM CREATED BY A FUNCTION AS AN ARGUMENT. \n",
      "hi, i am created by a function as an argument. \n"
     ]
    }
   ],
   "source": [
    "# 2. passed function as an argument \n",
    "\n",
    "def shout(text):\n",
    "\n",
    "    return text.upper()\n",
    "\n",
    "def whisper(text):\n",
    "\n",
    "    return text.lower()\n",
    "\n",
    "def greet(func):\n",
    "\n",
    "    greeting = func(\"\"\"Hi, I am created by a function as an argument. \"\"\")\n",
    "    print(greeting)\n",
    "\n",
    "greet(shout)\n",
    "greet(whisper)"
   ]
  },
  {
   "cell_type": "code",
   "execution_count": null,
   "id": "46666ec2-e23c-435f-8db5-c8b76112a58d",
   "metadata": {},
   "outputs": [],
   "source": []
  },
  {
   "cell_type": "code",
   "execution_count": 12,
   "id": "d1a46bcc-a674-487f-8e87-83449cd24f45",
   "metadata": {},
   "outputs": [
    {
     "data": {
      "text/plain": [
       "25"
      ]
     },
     "execution_count": 12,
     "metadata": {},
     "output_type": "execute_result"
    }
   ],
   "source": [
    "# Example 3: Returning functions from another function\n",
    "\n",
    "def create_adder(x):\n",
    "    def adder(y):\n",
    "        return x+y\n",
    "\n",
    "    return adder\n",
    "\n",
    "add_15 = create_adder(15)\n",
    "add_15(10)"
   ]
  },
  {
   "cell_type": "code",
   "execution_count": null,
   "id": "8f51aae0-625f-4410-86ac-ad13d8dd4672",
   "metadata": {},
   "outputs": [],
   "source": []
  }
 ],
 "metadata": {
  "kernelspec": {
   "display_name": "Python 3 (ipykernel)",
   "language": "python",
   "name": "python3"
  },
  "language_info": {
   "codemirror_mode": {
    "name": "ipython",
    "version": 3
   },
   "file_extension": ".py",
   "mimetype": "text/x-python",
   "name": "python",
   "nbconvert_exporter": "python",
   "pygments_lexer": "ipython3",
   "version": "3.10.2"
  }
 },
 "nbformat": 4,
 "nbformat_minor": 5
}
