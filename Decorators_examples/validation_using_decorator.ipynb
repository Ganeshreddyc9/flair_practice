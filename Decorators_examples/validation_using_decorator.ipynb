{
 "cells": [
  {
   "cell_type": "code",
   "execution_count": 1,
   "id": "ce7cb5a3-40f2-49c0-bd1e-f2fe1fa3a910",
   "metadata": {},
   "outputs": [],
   "source": [
    " # 1. Validation\n",
    " # string should be a question"
   ]
  },
  {
   "cell_type": "code",
   "execution_count": 9,
   "id": "5ff3d1bd-9b67-4ce8-8fdd-8c1b07b9640e",
   "metadata": {},
   "outputs": [],
   "source": [
    "def outer(func):\n",
    "\n",
    "    @wraps(func)\n",
    "    def inner(question, *args, **kwargs):\n",
    "        # before the functionlity \n",
    "\n",
    "        if not question.strip().endswith(\"?\"):\n",
    "            raise ValueError(f\"Question '{question}' must endswith '?'.\")\n",
    "        print(\"*\" * 50)\n",
    "\n",
    "        #This is my current functionality \n",
    "        func(question, *args)"
   ]
  },
  {
   "cell_type": "code",
   "execution_count": 10,
   "id": "e6211788-c9fa-4df7-9d5e-ad4aefe2867b",
   "metadata": {},
   "outputs": [],
   "source": [
    " # if not question.strip().endswith(\"?\"):\n",
    "\n",
    "     "
   ]
  },
  {
   "cell_type": "code",
   "execution_count": 8,
   "id": "5a5cb812-164d-4e6b-962d-f37ab6bc568b",
   "metadata": {},
   "outputs": [
    {
     "data": {
      "text/plain": [
       "'How   are you'"
      ]
     },
     "execution_count": 8,
     "metadata": {},
     "output_type": "execute_result"
    }
   ],
   "source": [
    "question = 'How   are you'\n",
    "\n",
    "question.strip()"
   ]
  },
  {
   "cell_type": "code",
   "execution_count": 28,
   "id": "500da02a-1188-4a9d-9370-8b92e7510dcb",
   "metadata": {},
   "outputs": [],
   "source": [
    "# 1. Validation\n",
    " # string should be a question\n",
    "from functools import wraps\n",
    "def outer(func):\n",
    "    @wraps(func)\n",
    "    def inner(question, *args, **kwargs):\n",
    "        # before the functionality\n",
    "        if not question.strip().endswith(\"?\"):\n",
    "            print('hi')\n",
    "            raise ValueError(f\"Question `{question}` must endswith '?'.\")\n",
    "        print(\"*\" * 50)\n",
    "        # This is my current functionality\n",
    "        func(question, *args, **kwargs)\n",
    "        # After the functionality\n",
    "        print(\"#\" * 50)\n",
    "    return inner\n",
    "@outer\n",
    "\n",
    "def fun(s):\n",
    "    print(s)"
   ]
  },
  {
   "cell_type": "code",
   "execution_count": 30,
   "id": "80bbae8e-98af-440e-8c0a-21276fb17a10",
   "metadata": {},
   "outputs": [
    {
     "name": "stdout",
     "output_type": "stream",
     "text": [
      "hi\n"
     ]
    },
    {
     "ename": "ValueError",
     "evalue": "Question `how are you` must endswith '?'.",
     "output_type": "error",
     "traceback": [
      "\u001b[1;31m---------------------------------------------------------------------------\u001b[0m",
      "\u001b[1;31mValueError\u001b[0m                                Traceback (most recent call last)",
      "Cell \u001b[1;32mIn[30], line 1\u001b[0m\n\u001b[1;32m----> 1\u001b[0m \u001b[43mfun\u001b[49m\u001b[43m(\u001b[49m\u001b[38;5;124;43m'\u001b[39;49m\u001b[38;5;124;43mhow are you\u001b[39;49m\u001b[38;5;124;43m'\u001b[39;49m\u001b[43m)\u001b[49m\n",
      "Cell \u001b[1;32mIn[28], line 10\u001b[0m, in \u001b[0;36mouter.<locals>.inner\u001b[1;34m(question, *args, **kwargs)\u001b[0m\n\u001b[0;32m      8\u001b[0m \u001b[38;5;28;01mif\u001b[39;00m \u001b[38;5;129;01mnot\u001b[39;00m question\u001b[38;5;241m.\u001b[39mstrip()\u001b[38;5;241m.\u001b[39mendswith(\u001b[38;5;124m\"\u001b[39m\u001b[38;5;124m?\u001b[39m\u001b[38;5;124m\"\u001b[39m):\n\u001b[0;32m      9\u001b[0m     \u001b[38;5;28mprint\u001b[39m(\u001b[38;5;124m'\u001b[39m\u001b[38;5;124mhi\u001b[39m\u001b[38;5;124m'\u001b[39m)\n\u001b[1;32m---> 10\u001b[0m     \u001b[38;5;28;01mraise\u001b[39;00m \u001b[38;5;167;01mValueError\u001b[39;00m(\u001b[38;5;124mf\u001b[39m\u001b[38;5;124m\"\u001b[39m\u001b[38;5;124mQuestion `\u001b[39m\u001b[38;5;132;01m{\u001b[39;00mquestion\u001b[38;5;132;01m}\u001b[39;00m\u001b[38;5;124m` must endswith \u001b[39m\u001b[38;5;124m'\u001b[39m\u001b[38;5;124m?\u001b[39m\u001b[38;5;124m'\u001b[39m\u001b[38;5;124m.\u001b[39m\u001b[38;5;124m\"\u001b[39m)\n\u001b[0;32m     11\u001b[0m \u001b[38;5;28mprint\u001b[39m(\u001b[38;5;124m\"\u001b[39m\u001b[38;5;124m*\u001b[39m\u001b[38;5;124m\"\u001b[39m \u001b[38;5;241m*\u001b[39m \u001b[38;5;241m50\u001b[39m)\n\u001b[0;32m     12\u001b[0m \u001b[38;5;66;03m# This is my current functionality\u001b[39;00m\n",
      "\u001b[1;31mValueError\u001b[0m: Question `how are you` must endswith '?'."
     ]
    }
   ],
   "source": [
    "fun('how are you')"
   ]
  },
  {
   "cell_type": "code",
   "execution_count": null,
   "id": "93e944ab-44ec-4cbe-bfe2-6748bd76dd4f",
   "metadata": {},
   "outputs": [],
   "source": []
  },
  {
   "cell_type": "code",
   "execution_count": 31,
   "id": "ef0ba4af-0e15-4c07-866b-8020a8ff39e9",
   "metadata": {},
   "outputs": [],
   "source": [
    "# 1. Validation\n",
    " # string should be a question\n",
    "from functools import wraps\n",
    "def outer(func):\n",
    "    @wraps(func)\n",
    "    def inner(question, *args, **kwargs):\n",
    "        # before the functionality\n",
    "        if not question.strip().endswith(\"?\"):\n",
    "            print('hi')\n",
    "            raise ValueError(f\"Question `{question}` must endswith '?'.\")\n",
    "        print(\"*\" * 50)\n",
    "        # This is my current functionality\n",
    "        func(question, *args, **kwargs)\n",
    "        # After the functionality\n",
    "        print(\"#\" * 50)\n",
    "    return inner\n",
    "@outer\n",
    "\n",
    "def fun(s):\n",
    "    print(s)"
   ]
  },
  {
   "cell_type": "code",
   "execution_count": 32,
   "id": "c034be27-7286-48e0-b407-d89dbcd604d1",
   "metadata": {},
   "outputs": [
    {
     "name": "stdout",
     "output_type": "stream",
     "text": [
      "**************************************************\n",
      "how are you?\n",
      "##################################################\n"
     ]
    }
   ],
   "source": [
    "fun('how are you?')"
   ]
  },
  {
   "cell_type": "code",
   "execution_count": null,
   "id": "e4012400-0269-4c2b-81af-cff320d0ddf7",
   "metadata": {},
   "outputs": [],
   "source": []
  },
  {
   "cell_type": "code",
   "execution_count": 39,
   "id": "cddb1417-90c9-4bcc-941b-d470b6af8624",
   "metadata": {},
   "outputs": [],
   "source": [
    "# string should be a question\n",
    "from functools import wraps\n",
    "def outer(func):\n",
    "    @wraps(func)\n",
    "    def inner(question, *args, **kwargs):\n",
    "        # before the functionality\n",
    "        if not question.strip().endswith(\"?\"):\n",
    "            question = f\"{question.strip()}?\"\n",
    "        print(\"*\" * 50)\n",
    "        # This is my current functionality\n",
    "        func(question, *args, **kwargs)\n",
    "        # After the functionality\n",
    "        print(\"#\" * 50)\n",
    "    return inner\n",
    "@outer\n",
    "\n",
    "def fun(s):\n",
    "    print(s)"
   ]
  },
  {
   "cell_type": "code",
   "execution_count": 40,
   "id": "c4b5e370-a530-4df0-aecb-c134952719a2",
   "metadata": {},
   "outputs": [
    {
     "name": "stdout",
     "output_type": "stream",
     "text": [
      "**************************************************\n",
      "how are you?\n",
      "##################################################\n"
     ]
    }
   ],
   "source": [
    "fun('how are you?')"
   ]
  },
  {
   "cell_type": "code",
   "execution_count": 41,
   "id": "79287c14-1f35-4538-9de0-a72afc8be244",
   "metadata": {},
   "outputs": [
    {
     "name": "stdout",
     "output_type": "stream",
     "text": [
      "**************************************************\n",
      "how are you?\n",
      "##################################################\n"
     ]
    }
   ],
   "source": [
    "fun('how are you')"
   ]
  },
  {
   "cell_type": "code",
   "execution_count": null,
   "id": "e3a0d739-0165-4121-9f47-3f11ff716bc0",
   "metadata": {},
   "outputs": [],
   "source": []
  }
 ],
 "metadata": {
  "kernelspec": {
   "display_name": "Python 3 (ipykernel)",
   "language": "python",
   "name": "python3"
  },
  "language_info": {
   "codemirror_mode": {
    "name": "ipython",
    "version": 3
   },
   "file_extension": ".py",
   "mimetype": "text/x-python",
   "name": "python",
   "nbconvert_exporter": "python",
   "pygments_lexer": "ipython3",
   "version": "3.10.2"
  }
 },
 "nbformat": 4,
 "nbformat_minor": 5
}
