{
 "cells": [
  {
   "cell_type": "code",
   "execution_count": 4,
   "id": "72c5b408-3670-4d9a-95ae-f2097fa51554",
   "metadata": {},
   "outputs": [
    {
     "name": "stdout",
     "output_type": "stream",
     "text": [
      "hey\n",
      "hukum\n",
      "hello\n",
      "display function ran\n"
     ]
    }
   ],
   "source": [
    "def decorator_function(original_function):\n",
    "    print('hey')\n",
    "    def wrapper_function():\n",
    "        print('hello')\n",
    "        return original_function()\n",
    "    print('hukum')\n",
    "    return wrapper_function\n",
    "\n",
    "def display():\n",
    "    print('display function ran')\n",
    "\n",
    "decorated_display = decorator_function(display)\n",
    "\n",
    "decorated_display()"
   ]
  },
  {
   "cell_type": "code",
   "execution_count": 5,
   "id": "d9145425-d41b-4ba9-a805-8a5561b689df",
   "metadata": {},
   "outputs": [],
   "source": [
    "# why decorator  "
   ]
  },
  {
   "cell_type": "code",
   "execution_count": 16,
   "id": "b3fd7f6d-0c29-4a56-ac96-6f4179f19880",
   "metadata": {},
   "outputs": [
    {
     "name": "stdout",
     "output_type": "stream",
     "text": [
      "hey\n",
      "hello\n"
     ]
    }
   ],
   "source": [
    "def decorator_function(original_function):\n",
    "    print('hey')\n",
    "    def wrapper_function():\n",
    "        print('hello')\n",
    "        # return original_function()\n",
    "    return wrapper_function  \n",
    "        # `print('hukum')\n",
    "     # return original_function()\n",
    "    \n",
    "\n",
    "def display():\n",
    "    print('display function ran')\n",
    "\n",
    "decorated_display = decorator_function(display)\n",
    "\n",
    "decorated_display()"
   ]
  },
  {
   "cell_type": "code",
   "execution_count": 17,
   "id": "1e47ebd8-ef0e-4903-934e-04c4943cb8f3",
   "metadata": {},
   "outputs": [
    {
     "ename": "TypeError",
     "evalue": "unhashable type: 'list'",
     "output_type": "error",
     "traceback": [
      "\u001b[1;31m---------------------------------------------------------------------------\u001b[0m",
      "\u001b[1;31mTypeError\u001b[0m                                 Traceback (most recent call last)",
      "Cell \u001b[1;32mIn[17], line 3\u001b[0m\n\u001b[0;32m      1\u001b[0m t \u001b[38;5;241m=\u001b[39m (\u001b[38;5;241m1\u001b[39m, \u001b[38;5;241m2\u001b[39m, [\u001b[38;5;241m1\u001b[39m,\u001b[38;5;241m2\u001b[39m])\n\u001b[1;32m----> 3\u001b[0m {t: \u001b[38;5;124m'\u001b[39m\u001b[38;5;124mhi\u001b[39m\u001b[38;5;124m'\u001b[39m}\n",
      "\u001b[1;31mTypeError\u001b[0m: unhashable type: 'list'"
     ]
    }
   ],
   "source": [
    "t = (1, 2, [1,2])\n",
    "\n",
    "{t: 'hi'}"
   ]
  },
  {
   "cell_type": "code",
   "execution_count": 18,
   "id": "4d29fa61-ba36-412e-8135-5148cae1023f",
   "metadata": {},
   "outputs": [
    {
     "data": {
      "text/plain": [
       "{(1, 2): 'hi'}"
      ]
     },
     "execution_count": 18,
     "metadata": {},
     "output_type": "execute_result"
    }
   ],
   "source": [
    "t = (1, 2)\n",
    "\n",
    "{t: 'hi'}"
   ]
  },
  {
   "cell_type": "code",
   "execution_count": 19,
   "id": "999e63b2-4e2f-414f-80ec-18b073cd302a",
   "metadata": {},
   "outputs": [
    {
     "ename": "TypeError",
     "evalue": "unhashable type: 'dict'",
     "output_type": "error",
     "traceback": [
      "\u001b[1;31m---------------------------------------------------------------------------\u001b[0m",
      "\u001b[1;31mTypeError\u001b[0m                                 Traceback (most recent call last)",
      "Cell \u001b[1;32mIn[19], line 3\u001b[0m\n\u001b[0;32m      1\u001b[0m d \u001b[38;5;241m=\u001b[39m {\u001b[38;5;241m1\u001b[39m:\u001b[38;5;241m2\u001b[39m}\n\u001b[1;32m----> 3\u001b[0m {d:\u001b[38;5;124m'\u001b[39m\u001b[38;5;124mhey\u001b[39m\u001b[38;5;124m'\u001b[39m}\n",
      "\u001b[1;31mTypeError\u001b[0m: unhashable type: 'dict'"
     ]
    }
   ],
   "source": [
    "d = {1:2}\n",
    "\n",
    "{d:'hey'}\n"
   ]
  },
  {
   "cell_type": "code",
   "execution_count": 20,
   "id": "e21b4a3f-c83a-4dc5-88c5-bae6f295e23b",
   "metadata": {},
   "outputs": [
    {
     "data": {
      "text/plain": [
       "{'a': None, 'e': None, 'i': None, 'o': None, 'u': None}"
      ]
     },
     "execution_count": 20,
     "metadata": {},
     "output_type": "execute_result"
    }
   ],
   "source": [
    "keys = 'aeiou'\n",
    "dict.fromkeys(keys)"
   ]
  },
  {
   "cell_type": "code",
   "execution_count": 21,
   "id": "a3ad22c2-2354-472f-8e1d-041b16e3e819",
   "metadata": {},
   "outputs": [
    {
     "name": "stdout",
     "output_type": "stream",
     "text": [
      "['__class__', '__class_getitem__', '__contains__', '__delattr__', '__delitem__', '__dir__', '__doc__', '__eq__', '__format__', '__ge__', '__getattribute__', '__getitem__', '__gt__', '__hash__', '__init__', '__init_subclass__', '__ior__', '__iter__', '__le__', '__len__', '__lt__', '__ne__', '__new__', '__or__', '__reduce__', '__reduce_ex__', '__repr__', '__reversed__', '__ror__', '__setattr__', '__setitem__', '__sizeof__', '__str__', '__subclasshook__', 'clear', 'copy', 'fromkeys', 'get', 'items', 'keys', 'pop', 'popitem', 'setdefault', 'update', 'values']\n"
     ]
    }
   ],
   "source": [
    "print(dir(dict))"
   ]
  },
  {
   "cell_type": "code",
   "execution_count": 22,
   "id": "fe62b97e-e5a9-4da7-afca-e654a472179a",
   "metadata": {},
   "outputs": [
    {
     "data": {
      "text/plain": [
       "{'a': 0, 'e': 0, 'i': 0, 'o': 0, 'u': 0}"
      ]
     },
     "execution_count": 22,
     "metadata": {},
     "output_type": "execute_result"
    }
   ],
   "source": [
    "keys = 'aeiou'\n",
    "dict.fromkeys(keys,0)"
   ]
  },
  {
   "cell_type": "code",
   "execution_count": 31,
   "id": "d92c9996-70b2-4090-9fd2-3074bdc33b61",
   "metadata": {},
   "outputs": [
    {
     "name": "stdout",
     "output_type": "stream",
     "text": [
      "1\n",
      "1\n",
      "key not there\n"
     ]
    }
   ],
   "source": [
    "d = {'a':1, 'b':2}\n",
    "print(d['a'])\n",
    "# print(d['cc'])\n",
    "\n",
    "# using get\\\n",
    "print(d.get('a'))\n",
    "print(d.get('cc', 'key not there'))"
   ]
  },
  {
   "cell_type": "code",
   "execution_count": 32,
   "id": "ef5b1b66-d070-42e9-9e75-0f83d404ba09",
   "metadata": {},
   "outputs": [
    {
     "data": {
      "text/plain": [
       "200"
      ]
     },
     "execution_count": 32,
     "metadata": {},
     "output_type": "execute_result"
    }
   ],
   "source": [
    "d.setdefault('c',200)"
   ]
  },
  {
   "cell_type": "code",
   "execution_count": 43,
   "id": "9fb5a35f-b984-43d1-bd71-c787ae681bec",
   "metadata": {},
   "outputs": [
    {
     "data": {
      "text/plain": [
       "{'a': 1, 'b': 2, 'c': 200}"
      ]
     },
     "execution_count": 43,
     "metadata": {},
     "output_type": "execute_result"
    }
   ],
   "source": [
    "d"
   ]
  },
  {
   "cell_type": "code",
   "execution_count": 44,
   "id": "3c529080-09bc-4479-9a5c-66684b98961d",
   "metadata": {},
   "outputs": [],
   "source": [
    "d['c']=100"
   ]
  },
  {
   "cell_type": "code",
   "execution_count": 45,
   "id": "eb54dc1c-ace0-41ba-b9d8-fd2ff974da60",
   "metadata": {},
   "outputs": [
    {
     "data": {
      "text/plain": [
       "{'a': 1, 'b': 2, 'c': 100}"
      ]
     },
     "execution_count": 45,
     "metadata": {},
     "output_type": "execute_result"
    }
   ],
   "source": [
    "d"
   ]
  },
  {
   "cell_type": "code",
   "execution_count": 34,
   "id": "98c53f9b-8c6d-458b-894a-620f109241a8",
   "metadata": {},
   "outputs": [
    {
     "data": {
      "text/plain": [
       "1"
      ]
     },
     "execution_count": 34,
     "metadata": {},
     "output_type": "execute_result"
    }
   ],
   "source": [
    "d.setdefault('a',200)"
   ]
  },
  {
   "cell_type": "code",
   "execution_count": 35,
   "id": "51fbba9b-7d56-426f-86e4-d12084db4099",
   "metadata": {},
   "outputs": [
    {
     "data": {
      "text/plain": [
       "{'a': 1, 'b': 2, 'c': 200}"
      ]
     },
     "execution_count": 35,
     "metadata": {},
     "output_type": "execute_result"
    }
   ],
   "source": [
    "d"
   ]
  },
  {
   "cell_type": "code",
   "execution_count": null,
   "id": "fd979abd-3886-45f2-9162-678b15ca57c5",
   "metadata": {},
   "outputs": [],
   "source": [
    "def decorator_function(original_function):\n",
    "    print('hey')\n",
    "    def wrapper_function():\n",
    "        print('hello')\n",
    "        return original_function()\n",
    "    print('hukum')\n",
    "    return wrapper_function\n",
    "\n",
    "def display():\n",
    "    print('display function ran')\n",
    "\n",
    "decorated_display = decorator_function(display)\n",
    "\n",
    "decorated_display()"
   ]
  },
  {
   "cell_type": "code",
   "execution_count": null,
   "id": "e859d918-2f0e-499f-89fc-8c882c12daeb",
   "metadata": {},
   "outputs": [],
   "source": []
  },
  {
   "cell_type": "code",
   "execution_count": 46,
   "id": "0c74dfc6-d0f5-4e43-a8b4-2de2ae309ff0",
   "metadata": {},
   "outputs": [
    {
     "name": "stdout",
     "output_type": "stream",
     "text": [
      "hey\n",
      "display function ran\n"
     ]
    }
   ],
   "source": [
    "def decorator_func(original_function):\n",
    "    print('hey')\n",
    "    # return original_function()\n",
    "    def wrapper_func():\n",
    "         return original_function()\n",
    "    return wrapper_func\n",
    "\n",
    "def display():\n",
    "    print(\"display function ran\")\n",
    "\n",
    "\n",
    "decrator_function = decorator_func(display)\n",
    "\n",
    "decrator_function()"
   ]
  },
  {
   "cell_type": "code",
   "execution_count": null,
   "id": "7f39d894-b169-42e1-b56e-f8b1de3fe972",
   "metadata": {},
   "outputs": [],
   "source": []
  },
  {
   "cell_type": "code",
   "execution_count": 47,
   "id": "fbfa59a3-8cc4-4f4e-9abf-a67b23374a41",
   "metadata": {},
   "outputs": [
    {
     "data": {
      "text/plain": [
       "'bbc'"
      ]
     },
     "execution_count": 47,
     "metadata": {},
     "output_type": "execute_result"
    }
   ],
   "source": [
    "d = 'abc'\n",
    "d.replace('a','b')"
   ]
  },
  {
   "cell_type": "code",
   "execution_count": 49,
   "id": "85e66be3-99e5-4525-8ec9-a12402c41ba0",
   "metadata": {},
   "outputs": [
    {
     "data": {
      "text/plain": [
       "'abc'"
      ]
     },
     "execution_count": 49,
     "metadata": {},
     "output_type": "execute_result"
    }
   ],
   "source": [
    "d"
   ]
  },
  {
   "cell_type": "code",
   "execution_count": 51,
   "id": "a1b7556f-8d9e-4e7d-aa90-768059829098",
   "metadata": {},
   "outputs": [
    {
     "data": {
      "text/plain": [
       "3"
      ]
     },
     "execution_count": 51,
     "metadata": {},
     "output_type": "execute_result"
    }
   ],
   "source": [
    "l = [1,2,3]\n",
    "l.pop(2)"
   ]
  },
  {
   "cell_type": "code",
   "execution_count": 52,
   "id": "2760f721-6199-4dee-83d9-aa16465c2f1c",
   "metadata": {},
   "outputs": [
    {
     "data": {
      "text/plain": [
       "[1, 2]"
      ]
     },
     "execution_count": 52,
     "metadata": {},
     "output_type": "execute_result"
    }
   ],
   "source": [
    "l"
   ]
  },
  {
   "cell_type": "code",
   "execution_count": 54,
   "id": "d3aa2b39-602c-4b76-8120-fd748b6b6436",
   "metadata": {},
   "outputs": [
    {
     "data": {
      "text/plain": [
       "2"
      ]
     },
     "execution_count": 54,
     "metadata": {},
     "output_type": "execute_result"
    }
   ],
   "source": [
    "d = {'a':1,'b':2}\n",
    "d.pop('b')"
   ]
  },
  {
   "cell_type": "code",
   "execution_count": 55,
   "id": "d49bb31a-6548-4eed-b9e8-3c6dbfd05bc3",
   "metadata": {},
   "outputs": [
    {
     "data": {
      "text/plain": [
       "{'a': 1}"
      ]
     },
     "execution_count": 55,
     "metadata": {},
     "output_type": "execute_result"
    }
   ],
   "source": [
    "d"
   ]
  },
  {
   "cell_type": "code",
   "execution_count": 61,
   "id": "c6327dab-9a14-4b6f-b51d-cf4b5072b159",
   "metadata": {},
   "outputs": [
    {
     "name": "stdout",
     "output_type": "stream",
     "text": [
      "True\n"
     ]
    }
   ],
   "source": [
    "set_A = {1, 2, 3, 4, 5}\n",
    "set_B = {1, 2, 3}\n",
    "\n",
    "# Check if set_A is a superset of set_B\n",
    "print(set_A.issuperset(set_B)) "
   ]
  },
  {
   "cell_type": "code",
   "execution_count": 63,
   "id": "33786256-6dc5-48f3-8e80-9184c9c6bd89",
   "metadata": {},
   "outputs": [
    {
     "name": "stdout",
     "output_type": "stream",
     "text": [
      "False\n"
     ]
    }
   ],
   "source": [
    "set_A = {1, 2, 3, 4, 5}\n",
    "set_B = {1, 2, 3}\n",
    "\n",
    "# Check if set_A is a subset of set_B\n",
    "print(set_A.issubset(set_B)) "
   ]
  },
  {
   "cell_type": "code",
   "execution_count": 67,
   "id": "ac663b8b-36e4-47ba-9c19-208a80846e13",
   "metadata": {},
   "outputs": [
    {
     "name": "stdout",
     "output_type": "stream",
     "text": [
      "False\n",
      "True\n"
     ]
    }
   ],
   "source": [
    "set_A = {1, 2, 3, 4, 5}\n",
    "set_B = {1, 2, 3}\n",
    "\n",
    "# Check if set_A is a superset of set_B\n",
    "print(set_B.issuperset(set_A))\n",
    "print(set_A.issuperset(set_B))"
   ]
  },
  {
   "cell_type": "code",
   "execution_count": 66,
   "id": "f53883ac-da1e-4d3d-837f-ae52370aff44",
   "metadata": {},
   "outputs": [
    {
     "name": "stdout",
     "output_type": "stream",
     "text": [
      "True\n",
      "False\n"
     ]
    }
   ],
   "source": [
    "set_A = {1, 2, 3, 4, 5}\n",
    "set_B = {1, 2, 3}\n",
    "\n",
    "# Check if set_A is a subset of set_B\n",
    "print(set_B.issubset(set_A)) \n",
    "print(set_A.issubset(set_B)) "
   ]
  },
  {
   "cell_type": "code",
   "execution_count": 70,
   "id": "af352e38-ac6c-4be5-8e01-0c4a1c4f4d9a",
   "metadata": {},
   "outputs": [
    {
     "name": "stdout",
     "output_type": "stream",
     "text": [
      "False\n",
      "True\n"
     ]
    }
   ],
   "source": [
    "s1 = {1, 2, 3, 4, 5}\n",
    "s2 = {1, 2, 3}\n",
    "\n",
    "print(s1.issubset(s2))\n",
    "print(s2.issubset(s1))"
   ]
  },
  {
   "cell_type": "code",
   "execution_count": 71,
   "id": "d9b05e8a-6c41-4ba7-9c35-a4b46cdc3032",
   "metadata": {},
   "outputs": [
    {
     "name": "stdout",
     "output_type": "stream",
     "text": [
      "True\n",
      "False\n"
     ]
    }
   ],
   "source": [
    "s1 = {1, 2, 3, 4, 5}\n",
    "s2 = {1, 2, 3}\n",
    "\n",
    "print(s1.issuperset(s2))\n",
    "print(s2.issuperset(s1))"
   ]
  },
  {
   "cell_type": "code",
   "execution_count": null,
   "id": "fe029c96-08c1-4293-942d-2b24504abea3",
   "metadata": {},
   "outputs": [],
   "source": []
  }
 ],
 "metadata": {
  "kernelspec": {
   "display_name": "Python 3 (ipykernel)",
   "language": "python",
   "name": "python3"
  },
  "language_info": {
   "codemirror_mode": {
    "name": "ipython",
    "version": 3
   },
   "file_extension": ".py",
   "mimetype": "text/x-python",
   "name": "python",
   "nbconvert_exporter": "python",
   "pygments_lexer": "ipython3",
   "version": "3.10.2"
  }
 },
 "nbformat": 4,
 "nbformat_minor": 5
}
