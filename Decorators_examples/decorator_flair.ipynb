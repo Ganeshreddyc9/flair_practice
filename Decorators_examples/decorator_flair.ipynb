{
 "cells": [
  {
   "cell_type": "code",
   "execution_count": 23,
   "id": "81fca21a-b08c-4987-a57e-b10d345ed89e",
   "metadata": {},
   "outputs": [
    {
     "data": {
      "text/plain": [
       "<function __main__.outer.<locals>.inner(sr)>"
      ]
     },
     "execution_count": 23,
     "metadata": {},
     "output_type": "execute_result"
    }
   ],
   "source": [
    "def outer(func):\n",
    "\n",
    "    def inner(sr):\n",
    "        print('*' * 50)\n",
    "        func(sr)\n",
    "\n",
    "        print('#' * 50)\n",
    "    return inner\n",
    "\n",
    "def fun(s):\n",
    "    print(s)\n",
    "\n",
    "outer(fun)"
   ]
  },
  {
   "cell_type": "code",
   "execution_count": 24,
   "id": "75f886cd-8946-47cd-b3ef-831a0b8ad549",
   "metadata": {},
   "outputs": [
    {
     "name": "stdout",
     "output_type": "stream",
     "text": [
      "**************************************************\n",
      "how are you\n",
      "##################################################\n"
     ]
    }
   ],
   "source": [
    "outer(fun)('how are you')"
   ]
  },
  {
   "cell_type": "code",
   "execution_count": null,
   "id": "d9eb65c2-3b99-447c-b79e-50d1d6e0b83c",
   "metadata": {},
   "outputs": [],
   "source": []
  },
  {
   "cell_type": "code",
   "execution_count": 63,
   "id": "cdc3283f-665e-4dc0-be1a-44e7ddc84469",
   "metadata": {},
   "outputs": [],
   "source": [
    "def outer(func):\n",
    "    def inner(*args, **kwargs):\n",
    "        # before the functionality\n",
    "        print(\"*\" * 50)\n",
    "        # This is my current functionality\n",
    "        func(*args, **kwargs)\n",
    "        # After the functionality\n",
    "        print(\"#\" * 50)\n",
    "    return inner\n",
    "@outer\n",
    "def fun(s):\n",
    "    print(s)\n"
   ]
  },
  {
   "cell_type": "code",
   "execution_count": 65,
   "id": "f3e3bdcb-5157-4906-8470-39aed2c86fd3",
   "metadata": {},
   "outputs": [
    {
     "name": "stdout",
     "output_type": "stream",
     "text": [
      "**************************************************\n",
      "**************************************************\n",
      "hey\n",
      "##################################################\n",
      "##################################################\n"
     ]
    }
   ],
   "source": [
    "outer(fun)('hey')"
   ]
  },
  {
   "cell_type": "code",
   "execution_count": 66,
   "id": "d98a6d64-67bc-4f9d-8017-bc2b017a083c",
   "metadata": {},
   "outputs": [
    {
     "name": "stdout",
     "output_type": "stream",
     "text": [
      "**************************************************\n",
      "hey\n",
      "##################################################\n"
     ]
    }
   ],
   "source": [
    "fun('hey')"
   ]
  },
  {
   "cell_type": "code",
   "execution_count": null,
   "id": "e7bb4699-3eed-4e12-8c9a-a71d7de66e4f",
   "metadata": {},
   "outputs": [],
   "source": []
  },
  {
   "cell_type": "code",
   "execution_count": null,
   "id": "97a1e8a8-592a-4b59-82c0-b526f7b5b23d",
   "metadata": {},
   "outputs": [],
   "source": []
  },
  {
   "cell_type": "code",
   "execution_count": 2,
   "id": "3da4b253-47eb-40be-9dcb-f35936b63f10",
   "metadata": {},
   "outputs": [],
   "source": [
    "def outer(func):\n",
    "\n",
    "    def inner(*args, **kwargs):\n",
    "        # before the functionality \n",
    "        print('*' * 50)\n",
    "\n",
    "        func(*args, **kwargs)\n",
    "\n",
    "        print('#' * 50)\n",
    "    return inner\n",
    "\n",
    "def fun(s):\n",
    "    print(s)"
   ]
  },
  {
   "cell_type": "code",
   "execution_count": 3,
   "id": "f8ee8a54-e0a7-4071-80cd-cd482607315b",
   "metadata": {},
   "outputs": [
    {
     "data": {
      "text/plain": [
       "<function __main__.outer.<locals>.inner(*args, **kwargs)>"
      ]
     },
     "execution_count": 3,
     "metadata": {},
     "output_type": "execute_result"
    }
   ],
   "source": [
    "outer(fun)"
   ]
  },
  {
   "cell_type": "code",
   "execution_count": 4,
   "id": "11ca91db-af27-4ce4-aa6e-0b0cfaa0b4e1",
   "metadata": {},
   "outputs": [
    {
     "name": "stdout",
     "output_type": "stream",
     "text": [
      "**************************************************\n",
      "I am in bangaluru\n",
      "##################################################\n"
     ]
    }
   ],
   "source": [
    "outer(fun)('I am in bangaluru')"
   ]
  },
  {
   "cell_type": "code",
   "execution_count": null,
   "id": "bf72c648-4560-445a-9288-f88e294a3bc9",
   "metadata": {},
   "outputs": [],
   "source": []
  },
  {
   "cell_type": "code",
   "execution_count": 10,
   "id": "37e1dfb4-f6fb-47c2-a7fa-67d25fdc5587",
   "metadata": {},
   "outputs": [],
   "source": [
    "def outer(func):\n",
    "\n",
    "    def inner(*args, **kwargs):\n",
    "        # before the functionality \n",
    "        print('*' * 50)\n",
    "\n",
    "        # this is my current functiionlity \n",
    "        func(*args, **kwargs)\n",
    "\n",
    "        #After the functionlty \n",
    "        print(\"#\" * 50)\n",
    "    return inner\n",
    "@outer\n",
    "def fun(s):\n",
    "    print(s)"
   ]
  },
  {
   "cell_type": "code",
   "execution_count": 11,
   "id": "28db99a3-c914-4934-bc58-6b9c63f3c22d",
   "metadata": {},
   "outputs": [
    {
     "name": "stdout",
     "output_type": "stream",
     "text": [
      "**************************************************\n",
      "I Am In Bengaluru\n",
      "##################################################\n"
     ]
    }
   ],
   "source": [
    "fun('I Am In Bengaluru')\n",
    "    "
   ]
  },
  {
   "cell_type": "code",
   "execution_count": 12,
   "id": "6a7fc7c9-cfef-4552-b4e3-42ea4b91b78e",
   "metadata": {},
   "outputs": [
    {
     "name": "stdout",
     "output_type": "stream",
     "text": [
      "Help on function inner in module __main__:\n",
      "\n",
      "inner(*args, **kwargs)\n",
      "\n"
     ]
    }
   ],
   "source": [
    "help(fun)"
   ]
  },
  {
   "cell_type": "code",
   "execution_count": 2,
   "id": "eb5583f9-3f50-4555-9c83-5b4889c91075",
   "metadata": {},
   "outputs": [],
   "source": [
    "def fun(s):\n",
    "    \"\"\"\n",
    "    This is function fun with s is one argument\n",
    "    \"\"\"\n",
    "    print(s)"
   ]
  },
  {
   "cell_type": "code",
   "execution_count": 5,
   "id": "1b291118-395c-491e-a5db-ee88462c5caa",
   "metadata": {},
   "outputs": [
    {
     "data": {
      "text/plain": [
       "'\\n    This is function fun with s is one argument\\n    '"
      ]
     },
     "execution_count": 5,
     "metadata": {},
     "output_type": "execute_result"
    }
   ],
   "source": [
    "# help(fun)\n",
    "\n",
    "fun.__doc__"
   ]
  },
  {
   "cell_type": "code",
   "execution_count": 13,
   "id": "8bd09d75-6fee-446e-9bd6-c2d2f0dec6c3",
   "metadata": {},
   "outputs": [],
   "source": [
    "def outer(func):\n",
    "    \"\"\"\n",
    "    This is outer function\n",
    "    \"\"\"\n",
    "\n",
    "    def inner(*args, **kwargs):\n",
    "        \"\"\"\n",
    "        This is decorator inner function\n",
    "        \"\"\"\n",
    "        # before the functionality \n",
    "        print('*' * 50)\n",
    "\n",
    "        # this is my current functiionlity \n",
    "        func(*args, **kwargs)\n",
    "\n",
    "        #After the functionlty \n",
    "        print(\"#\" * 50)\n",
    "    return inner\n",
    "@outer\n",
    "def fun(s):\n",
    "    \"\"\"\n",
    "    This is function fun with s is one argument\n",
    "    \"\"\"\n",
    "    \n",
    "    print(s)"
   ]
  },
  {
   "cell_type": "code",
   "execution_count": 14,
   "id": "c9a2269c-1df6-4f74-b9fe-555e06445feb",
   "metadata": {},
   "outputs": [
    {
     "name": "stdout",
     "output_type": "stream",
     "text": [
      "**************************************************\n",
      "hey\n",
      "##################################################\n"
     ]
    }
   ],
   "source": [
    "fun('hey')"
   ]
  },
  {
   "cell_type": "code",
   "execution_count": 10,
   "id": "08c60145-5053-43da-a7c4-9cc30adbc2d6",
   "metadata": {},
   "outputs": [
    {
     "name": "stdout",
     "output_type": "stream",
     "text": [
      "Help on function fun in module __main__:\n",
      "\n",
      "fun(s)\n",
      "    This is function fun with s is one argument\n",
      "\n"
     ]
    }
   ],
   "source": [
    "help(fun)"
   ]
  },
  {
   "cell_type": "code",
   "execution_count": 24,
   "id": "d138a6ea-6278-4c31-a1b2-64cd6cf6aa7f",
   "metadata": {},
   "outputs": [
    {
     "name": "stdout",
     "output_type": "stream",
     "text": [
      "Help on function outer in module __main__:\n",
      "\n",
      "outer(func)\n",
      "    This is outer function\n",
      "\n"
     ]
    }
   ],
   "source": [
    "help(outer)"
   ]
  },
  {
   "cell_type": "code",
   "execution_count": 25,
   "id": "55b2598c-ba2d-4eee-8a7d-785a5638e5b7",
   "metadata": {},
   "outputs": [],
   "source": [
    " # to fix above problem we will use wraps\n",
    " # Is there any problem you use use decorator and how to fixt it?"
   ]
  },
  {
   "cell_type": "code",
   "execution_count": 26,
   "id": "1f97856d-5264-40d5-ae23-c0a18c1cb096",
   "metadata": {},
   "outputs": [],
   "source": [
    "from functools import wraps\n",
    "\n",
    "def outer(func):\n",
    "\n",
    "    def inner(*args, **kwargs):\n",
    "        \"\"\"\n",
    "        This is decorator inner function\n",
    "        \"\"\"\n",
    "\n",
    "        # before the functionality \n",
    "\n",
    "        print('*' * 50)\n",
    "\n",
    "        # This is my cuurent functionality \n",
    "        func(*args, **kwargs)\n",
    "\n",
    "        #after functionality\n",
    "        print('#' * 50 )\n",
    "\n",
    "@outer\n",
    "def fun(s):\n",
    "    print(s)\n",
    "        "
   ]
  },
  {
   "cell_type": "code",
   "execution_count": 27,
   "id": "e26d0447-0d3d-436e-96de-12246b1d7458",
   "metadata": {},
   "outputs": [
    {
     "ename": "TypeError",
     "evalue": "'NoneType' object is not callable",
     "output_type": "error",
     "traceback": [
      "\u001b[1;31m---------------------------------------------------------------------------\u001b[0m",
      "\u001b[1;31mTypeError\u001b[0m                                 Traceback (most recent call last)",
      "Cell \u001b[1;32mIn[27], line 1\u001b[0m\n\u001b[1;32m----> 1\u001b[0m \u001b[43mfun\u001b[49m\u001b[43m(\u001b[49m\u001b[38;5;124;43m'\u001b[39;49m\u001b[38;5;124;43mi am in bangaluru\u001b[39;49m\u001b[38;5;124;43m'\u001b[39;49m\u001b[43m)\u001b[49m\n",
      "\u001b[1;31mTypeError\u001b[0m: 'NoneType' object is not callable"
     ]
    }
   ],
   "source": [
    "fun('i am in bangaluru')"
   ]
  },
  {
   "cell_type": "code",
   "execution_count": null,
   "id": "2dd03f20-2c10-42b2-a093-89e3e0681779",
   "metadata": {},
   "outputs": [],
   "source": []
  },
  {
   "cell_type": "code",
   "execution_count": 3,
   "id": "5fa43e76-cffa-4ada-8ad1-c455a8513c75",
   "metadata": {},
   "outputs": [
    {
     "data": {
      "text/plain": [
       "<function __main__.outer.<locals>.inner(s)>"
      ]
     },
     "execution_count": 3,
     "metadata": {},
     "output_type": "execute_result"
    }
   ],
   "source": [
    "def outer(func):\n",
    "\n",
    "    def inner(s):\n",
    "        print('*' * 50)\n",
    "        \n",
    "        func(s)\n",
    "\n",
    "        print('#' * 50)\n",
    "    return inner\n",
    "\n",
    "def fun(s):\n",
    "    print(s)\n",
    "\n",
    "outer(fun)"
   ]
  },
  {
   "cell_type": "code",
   "execution_count": 4,
   "id": "2a8a9552-670c-44fd-b67d-6c7cd5b6a993",
   "metadata": {},
   "outputs": [
    {
     "name": "stdout",
     "output_type": "stream",
     "text": [
      "**************************************************\n",
      "sujith reddy\n",
      "##################################################\n"
     ]
    }
   ],
   "source": [
    "outer(fun)('sujith reddy')"
   ]
  },
  {
   "cell_type": "code",
   "execution_count": null,
   "id": "5a099b99-6d1a-4569-9a24-6f6b765b2c24",
   "metadata": {},
   "outputs": [],
   "source": []
  },
  {
   "cell_type": "code",
   "execution_count": null,
   "id": "a0eb16e3-39fc-4af5-b1c3-75d51dfdeab8",
   "metadata": {},
   "outputs": [],
   "source": []
  },
  {
   "cell_type": "code",
   "execution_count": 16,
   "id": "bdd511d5-bdba-4199-91b7-1fff56392d46",
   "metadata": {},
   "outputs": [],
   "source": [
    "def outer(func):\n",
    "\n",
    "    def inner(*args, **kwargs):\n",
    "        # before the functionality \n",
    "        print('*' * 50)\n",
    "        \n",
    "        #cuurent functionality\n",
    "        func(*args, **kwargs)\n",
    "        # After  the functionality\n",
    "        print('#' * 50)\n",
    "    return inner\n",
    "\n",
    "def fun(s):\n",
    "    print(s)"
   ]
  },
  {
   "cell_type": "code",
   "execution_count": 19,
   "id": "0065c53e-80f5-4699-90e5-c64fae76af95",
   "metadata": {},
   "outputs": [
    {
     "name": "stdout",
     "output_type": "stream",
     "text": [
      "**************************************************\n",
      "12345678987654323456787654321234567\n",
      "##################################################\n"
     ]
    }
   ],
   "source": [
    "outer(fun)(12345678987654323456787654321234567)"
   ]
  },
  {
   "cell_type": "code",
   "execution_count": 1,
   "id": "579e887f-3021-40d2-9ec4-fbecd7dd3ab3",
   "metadata": {},
   "outputs": [],
   "source": [
    "def fun(func):\n",
    "\n",
    "    def inner(s):\n",
    "\n",
    "        print('hi...')\n",
    "        # curent fnctionalty\n",
    "        func(s)\n",
    "        print('bye')\n",
    "    return inner\n",
    "\n",
    "@fun\n",
    "def name(s):\n",
    "    print(s)"
   ]
  },
  {
   "cell_type": "code",
   "execution_count": 2,
   "id": "e021c6fc-d24e-422f-9896-c26c23a67198",
   "metadata": {},
   "outputs": [
    {
     "name": "stdout",
     "output_type": "stream",
     "text": [
      "hi...\n",
      "ganesh\n",
      "bye\n"
     ]
    }
   ],
   "source": [
    "name('ganesh')"
   ]
  },
  {
   "cell_type": "code",
   "execution_count": 14,
   "id": "258ffc24-ef69-4733-a105-0636a393e85b",
   "metadata": {},
   "outputs": [
    {
     "name": "stdout",
     "output_type": "stream",
     "text": [
      "hi...\n"
     ]
    },
    {
     "ename": "NameError",
     "evalue": "name 'func' is not defined",
     "output_type": "error",
     "traceback": [
      "\u001b[1;31m---------------------------------------------------------------------------\u001b[0m",
      "\u001b[1;31mNameError\u001b[0m                                 Traceback (most recent call last)",
      "Cell \u001b[1;32mIn[14], line 10\u001b[0m\n\u001b[0;32m      6\u001b[0m         \u001b[38;5;28mprint\u001b[39m(\u001b[38;5;124m'\u001b[39m\u001b[38;5;124mbye\u001b[39m\u001b[38;5;124m'\u001b[39m)\n\u001b[0;32m      7\u001b[0m         \u001b[38;5;28;01mreturn\u001b[39;00m inner\n\u001b[0;32m      9\u001b[0m \u001b[38;5;129;43m@inner\u001b[39;49m\n\u001b[1;32m---> 10\u001b[0m \u001b[38;5;28;43;01mdef\u001b[39;49;00m\u001b[43m \u001b[49m\u001b[38;5;21;43mname\u001b[39;49m\u001b[43m(\u001b[49m\u001b[43ms\u001b[49m\u001b[43m)\u001b[49m\u001b[43m:\u001b[49m\n\u001b[0;32m     11\u001b[0m \u001b[43m    \u001b[49m\u001b[38;5;28;43mprint\u001b[39;49m\u001b[43m(\u001b[49m\u001b[43ms\u001b[49m\u001b[43m)\u001b[49m\n",
      "Cell \u001b[1;32mIn[14], line 5\u001b[0m, in \u001b[0;36minner\u001b[1;34m(s)\u001b[0m\n\u001b[0;32m      3\u001b[0m \u001b[38;5;28mprint\u001b[39m(\u001b[38;5;124m'\u001b[39m\u001b[38;5;124mhi...\u001b[39m\u001b[38;5;124m'\u001b[39m)\n\u001b[0;32m      4\u001b[0m \u001b[38;5;66;03m# curent fnctionalty\u001b[39;00m\n\u001b[1;32m----> 5\u001b[0m \u001b[43mfunc\u001b[49m(s)\n\u001b[0;32m      6\u001b[0m \u001b[38;5;28mprint\u001b[39m(\u001b[38;5;124m'\u001b[39m\u001b[38;5;124mbye\u001b[39m\u001b[38;5;124m'\u001b[39m)\n\u001b[0;32m      7\u001b[0m \u001b[38;5;28;01mreturn\u001b[39;00m inner\n",
      "\u001b[1;31mNameError\u001b[0m: name 'func' is not defined"
     ]
    }
   ],
   "source": [
    "def inner(s):\n",
    "\n",
    "        print('hi...')\n",
    "        # curent fnctionalty\n",
    "        func(s)\n",
    "        print('bye')\n",
    "        return inner\n",
    "\n",
    "@inner\n",
    "def name(s):\n",
    "    print(s)"
   ]
  },
  {
   "cell_type": "code",
   "execution_count": 15,
   "id": "ea8b7a60-26ca-4a63-991b-5df14ed10b8d",
   "metadata": {},
   "outputs": [
    {
     "name": "stdout",
     "output_type": "stream",
     "text": [
      "sujith\n"
     ]
    }
   ],
   "source": [
    "name(\"sujith\")\n",
    "     "
   ]
  },
  {
   "cell_type": "code",
   "execution_count": 13,
   "id": "6fb623a2-2d44-4474-9ff9-5fd4de916a1f",
   "metadata": {},
   "outputs": [
    {
     "name": "stdout",
     "output_type": "stream",
     "text": [
      "hi...\n"
     ]
    },
    {
     "ename": "NameError",
     "evalue": "name 'func' is not defined",
     "output_type": "error",
     "traceback": [
      "\u001b[1;31m---------------------------------------------------------------------------\u001b[0m",
      "\u001b[1;31mNameError\u001b[0m                                 Traceback (most recent call last)",
      "Cell \u001b[1;32mIn[13], line 1\u001b[0m\n\u001b[1;32m----> 1\u001b[0m \u001b[43minner\u001b[49m\u001b[43m(\u001b[49m\u001b[43mname\u001b[49m\u001b[43m)\u001b[49m(\u001b[38;5;124m'\u001b[39m\u001b[38;5;124mghjklkjhghjhgh\u001b[39m\u001b[38;5;124m'\u001b[39m)\n",
      "Cell \u001b[1;32mIn[11], line 5\u001b[0m, in \u001b[0;36minner\u001b[1;34m(s)\u001b[0m\n\u001b[0;32m      3\u001b[0m \u001b[38;5;28mprint\u001b[39m(\u001b[38;5;124m'\u001b[39m\u001b[38;5;124mhi...\u001b[39m\u001b[38;5;124m'\u001b[39m)\n\u001b[0;32m      4\u001b[0m \u001b[38;5;66;03m# curent fnctionalty\u001b[39;00m\n\u001b[1;32m----> 5\u001b[0m \u001b[43mfunc\u001b[49m(s)\n\u001b[0;32m      6\u001b[0m \u001b[38;5;28mprint\u001b[39m(\u001b[38;5;124m'\u001b[39m\u001b[38;5;124mbye\u001b[39m\u001b[38;5;124m'\u001b[39m)\n\u001b[0;32m      7\u001b[0m \u001b[38;5;28;01mreturn\u001b[39;00m inner\n",
      "\u001b[1;31mNameError\u001b[0m: name 'func' is not defined"
     ]
    }
   ],
   "source": [
    "inner(name)('ghjklkjhghjhgh')"
   ]
  },
  {
   "cell_type": "code",
   "execution_count": null,
   "id": "8f198ee5-8618-496e-986e-e234f01ed934",
   "metadata": {},
   "outputs": [],
   "source": []
  }
 ],
 "metadata": {
  "kernelspec": {
   "display_name": "Python 3 (ipykernel)",
   "language": "python",
   "name": "python3"
  },
  "language_info": {
   "codemirror_mode": {
    "name": "ipython",
    "version": 3
   },
   "file_extension": ".py",
   "mimetype": "text/x-python",
   "name": "python",
   "nbconvert_exporter": "python",
   "pygments_lexer": "ipython3",
   "version": "3.10.2"
  }
 },
 "nbformat": 4,
 "nbformat_minor": 5
}
