{
 "cells": [
  {
   "cell_type": "code",
   "execution_count": 37,
   "id": "2db79b27-be11-4dbb-a99f-a0e2a415790a",
   "metadata": {},
   "outputs": [
    {
     "data": {
      "text/plain": [
       "<function __main__.outer_func.<locals>.inner_func()>"
      ]
     },
     "execution_count": 37,
     "metadata": {},
     "output_type": "execute_result"
    }
   ],
   "source": [
    "# A closure in Python refers to a \n",
    "# function that retains access to variables from the outer (enclosing) scope even after the outer function has finished executing.\n",
    "\n",
    "def outer_func():\n",
    "    message = 'Hi...........'\n",
    "    # print(message)\n",
    "    \n",
    "    def inner_func():\n",
    "        print(message)\n",
    "\n",
    "    return inner_func\n",
    "                #hrer we are calling the funtion \n",
    "outer_func()\n",
    "# # inner_func()\n",
    "# print(fun())\n",
    "# # print(fun())\n",
    "outer_func()\n",
    "# return inner_func() () -- paranthasis means  is used call the func "
   ]
  },
  {
   "cell_type": "code",
   "execution_count": null,
   "id": "89872a58-1398-4cf6-9b3d-9c160b13dedb",
   "metadata": {},
   "outputs": [],
   "source": []
  },
  {
   "cell_type": "code",
   "execution_count": 10,
   "id": "cab8cdfa-e6af-4257-813d-7e8a4138d2b5",
   "metadata": {},
   "outputs": [],
   "source": [
    "def outer_func():\n",
    "    message = 'Hi...........'\n",
    "    # print(message)\n",
    "    def inner_func():\n",
    "        print(message)\n",
    "\n",
    "    return inner_func\n",
    "\n",
    "my_func = outer_func()\n",
    "\n",
    "# return inner_func is used it will retun the inner_func to the my_func "
   ]
  },
  {
   "cell_type": "code",
   "execution_count": 6,
   "id": "20cfcb36-8785-49ee-8433-9cf73aacc920",
   "metadata": {},
   "outputs": [
    {
     "name": "stdout",
     "output_type": "stream",
     "text": [
      "Hi...........\n",
      "None\n"
     ]
    }
   ],
   "source": [
    "print(my_func())"
   ]
  },
  {
   "cell_type": "code",
   "execution_count": 7,
   "id": "d856fccd-f755-473b-804e-af2d60c7ddff",
   "metadata": {},
   "outputs": [
    {
     "name": "stdout",
     "output_type": "stream",
     "text": [
      "inner_func\n"
     ]
    }
   ],
   "source": [
    "print(my_func.__name__)"
   ]
  },
  {
   "cell_type": "code",
   "execution_count": null,
   "id": "0e94ae91-d081-4936-bd57-e2d98ce1e3dc",
   "metadata": {},
   "outputs": [],
   "source": [
    "\n"
   ]
  },
  {
   "cell_type": "code",
   "execution_count": 45,
   "id": "2ccb19af-b78f-49c2-abbe-6219732f2727",
   "metadata": {},
   "outputs": [
    {
     "name": "stdout",
     "output_type": "stream",
     "text": [
      "<function outer_func.<locals>.inner_func at 0x0000018955B4FAC0>\n"
     ]
    }
   ],
   "source": [
    "def outer_func(msg):\n",
    "    # message = msg\n",
    "\n",
    "    def inner_func():\n",
    "        message = msg\n",
    "        print(message)\n",
    "\n",
    "    return inner_func\n",
    "\n",
    "\n",
    "hi_func = outer_func('hi')\n",
    "# hello_func = outer_func('Hello')\n",
    "print(hi_func)\n"
   ]
  },
  {
   "cell_type": "code",
   "execution_count": 44,
   "id": "170c8947-455c-476e-9440-fd2c8510ee06",
   "metadata": {},
   "outputs": [
    {
     "name": "stdout",
     "output_type": "stream",
     "text": [
      "hi\n",
      "Hello\n"
     ]
    }
   ],
   "source": [
    "(hi_func())\n",
    "hello_func()"
   ]
  },
  {
   "cell_type": "code",
   "execution_count": null,
   "id": "34e29aca-d14c-4036-9212-ddb6eef7ce02",
   "metadata": {},
   "outputs": [],
   "source": []
  },
  {
   "cell_type": "code",
   "execution_count": 13,
   "id": "529b43eb-5fd0-4a42-b532-c1aeaeeb1d58",
   "metadata": {},
   "outputs": [
    {
     "name": "stdout",
     "output_type": "stream",
     "text": [
      "[1, 2, 0, 4, 0, 5] bfore pop\n",
      "[2, 0, 4, 0, 5] after pop\n",
      "[2, 0, 4, 0, 5, 0] bfore pop\n",
      "[0, 4, 0, 5, 0] after pop\n",
      "[0, 4, 0, 5, 0, 0] bfore pop\n",
      "[4, 0, 5, 0, 0] after pop\n",
      "[4, 0, 5, 0, 0, 0] bfore pop\n",
      "[0, 5, 0, 0, 0] after pop\n"
     ]
    }
   ],
   "source": [
    "l = [1, 2, 0, 4, 0, 5]\n",
    "\n",
    "\n",
    "for i in l:\n",
    "    if i == 0:\n",
    "        print(l,\"bfore pop\")\n",
    "        l.pop(i)\n",
    "        print(l,\"after pop\")\n",
    "        l.append(i)"
   ]
  },
  {
   "cell_type": "code",
   "execution_count": 12,
   "id": "6e92257c-5f45-49c5-9792-cdb4fabd9592",
   "metadata": {},
   "outputs": [
    {
     "data": {
      "text/plain": [
       "[0, 5, 0, 0, 0, 0]"
      ]
     },
     "execution_count": 12,
     "metadata": {},
     "output_type": "execute_result"
    }
   ],
   "source": [
    "l"
   ]
  },
  {
   "cell_type": "code",
   "execution_count": 16,
   "id": "ceeffd7c-8ca8-4245-9fcf-3fd6cedf9f47",
   "metadata": {},
   "outputs": [
    {
     "name": "stdout",
     "output_type": "stream",
     "text": [
      "[1, 2, 0, 4, 0, 5] bfore pop...............\n",
      "[1, 2, 4, 0, 5] after pop\n",
      "[1, 2, 4, 0, 5, 0] bfore pop...............\n",
      "[1, 2, 4, 5, 0] after pop\n",
      "[1, 2, 4, 5, 0, 0] bfore pop...............\n",
      "[1, 2, 4, 5, 0] after pop\n",
      "[1, 2, 4, 5, 0, 0] bfore pop...............\n",
      "[1, 2, 4, 5, 0] after pop\n"
     ]
    }
   ],
   "source": [
    "l = [1, 2, 0, 4, 0, 5]\n",
    "\n",
    "\n",
    "for i in l:\n",
    "    if i == 0:\n",
    "        print(l,\"bfore pop...............\")\n",
    "        l.remove(i)\n",
    "        print(l,\"after pop\")\n",
    "        l.append(i)\n",
    "\n",
    "# so pop takes index values as parameter"
   ]
  },
  {
   "cell_type": "code",
   "execution_count": 15,
   "id": "1e86939c-5942-497e-85d1-c168ebc1a316",
   "metadata": {},
   "outputs": [
    {
     "data": {
      "text/plain": [
       "[1, 2, 4, 5, 0, 0]"
      ]
     },
     "execution_count": 15,
     "metadata": {},
     "output_type": "execute_result"
    }
   ],
   "source": [
    "l"
   ]
  },
  {
   "cell_type": "code",
   "execution_count": 17,
   "id": "eac7d601-6753-4a55-8598-0134ec41be13",
   "metadata": {},
   "outputs": [
    {
     "name": "stdout",
     "output_type": "stream",
     "text": [
      "Help on built-in function remove:\n",
      "\n",
      "remove(value, /) method of builtins.list instance\n",
      "    Remove first occurrence of value.\n",
      "    \n",
      "    Raises ValueError if the value is not present.\n",
      "\n"
     ]
    }
   ],
   "source": [
    "help(l.remove)"
   ]
  },
  {
   "cell_type": "code",
   "execution_count": 12,
   "id": "232196f4-c1cd-42c1-bd49-c72c9fe42c33",
   "metadata": {},
   "outputs": [
    {
     "name": "stdout",
     "output_type": "stream",
     "text": [
      "i am in outer func: __main__\n",
      "Hey!\n"
     ]
    }
   ],
   "source": [
    "def outerFunction(text):\n",
    "    print(\"i am in outer func:\",__name__)\n",
    "     \n",
    "    def innerFunction():\n",
    "        print(text)\n",
    " \n",
    "    innerFunction()\n",
    " \n",
    " \n",
    "if __name__ == '__main__':\n",
    "\n",
    "    outerFunction('Hey!')"
   ]
  },
  {
   "cell_type": "code",
   "execution_count": 46,
   "id": "0418cb7d-9188-49e6-a9a3-db062a3d4296",
   "metadata": {},
   "outputs": [
    {
     "ename": "ModuleNotFoundError",
     "evalue": "No module named 'clousers'",
     "output_type": "error",
     "traceback": [
      "\u001b[1;31m---------------------------------------------------------------------------\u001b[0m",
      "\u001b[1;31mModuleNotFoundError\u001b[0m                       Traceback (most recent call last)",
      "Cell \u001b[1;32mIn[46], line 1\u001b[0m\n\u001b[1;32m----> 1\u001b[0m \u001b[38;5;28;01mfrom\u001b[39;00m \u001b[38;5;21;01mclousers\u001b[39;00m \u001b[38;5;28;01mimport\u001b[39;00m outerFunction\n",
      "\u001b[1;31mModuleNotFoundError\u001b[0m: No module named 'clousers'"
     ]
    }
   ],
   "source": []
  },
  {
   "cell_type": "code",
   "execution_count": 47,
   "id": "5be32fc2-a772-473c-a7f7-a9b0c3dd7cb0",
   "metadata": {},
   "outputs": [
    {
     "name": "stdout",
     "output_type": "stream",
     "text": [
      "Hi...........\n"
     ]
    }
   ],
   "source": [
    "def outer_func():\n",
    "    message = 'Hi...........'\n",
    "\n",
    "    def inner_func():\n",
    "        print(message)\n",
    "\n",
    "    return inner_func() #hrer we are calling the funtion \n",
    "\n",
    "outer_func()\n",
    "\n",
    "# return inner_func() () -- paranthasis means  is used call the func "
   ]
  },
  {
   "cell_type": "code",
   "execution_count": 49,
   "id": "7bae999d-6c9e-497d-ae53-7a1e2fea86af",
   "metadata": {},
   "outputs": [
    {
     "name": "stdout",
     "output_type": "stream",
     "text": [
      "2\n",
      "4\n"
     ]
    }
   ],
   "source": [
    "def counter():\n",
    "    count = 0\n",
    "\n",
    "    def increment():\n",
    "        nonlocal count  # Use nonlocal to indicate we're modifying the count variable in the outer scope\n",
    "        count += 2\n",
    "    \n",
    "        return count\n",
    "\n",
    "    return increment\n",
    "\n",
    "# Usage\n",
    "counter1 = counter()\n",
    "print(counter1())  # Output: 1\n",
    "print(counter1())  # Output: 2\n",
    "\n",
    "# counter2 = counter()\n",
    "# print(counter2())  # Output: 1 (independent of counter1)"
   ]
  },
  {
   "cell_type": "code",
   "execution_count": null,
   "id": "7e61b009-63a2-47f2-ae64-1ae4387b014b",
   "metadata": {},
   "outputs": [],
   "source": []
  }
 ],
 "metadata": {
  "kernelspec": {
   "display_name": "Python 3 (ipykernel)",
   "language": "python",
   "name": "python3"
  },
  "language_info": {
   "codemirror_mode": {
    "name": "ipython",
    "version": 3
   },
   "file_extension": ".py",
   "mimetype": "text/x-python",
   "name": "python",
   "nbconvert_exporter": "python",
   "pygments_lexer": "ipython3",
   "version": "3.10.2"
  }
 },
 "nbformat": 4,
 "nbformat_minor": 5
}
