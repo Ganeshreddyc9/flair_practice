{
 "cells": [
  {
   "cell_type": "code",
   "execution_count": 1,
   "id": "698bb16c-9f3b-4795-a588-08a1fd9adc19",
   "metadata": {},
   "outputs": [
    {
     "name": "stdout",
     "output_type": "stream",
     "text": [
      "1\n",
      "2\n",
      "1\n"
     ]
    }
   ],
   "source": [
    "def counter():\n",
    "    count = 0\n",
    "\n",
    "    def increment():\n",
    "        nonlocal count  # Use nonlocal to indicate we're modifying the count variable in the outer scope\n",
    "        count += 1\n",
    "        return count\n",
    "\n",
    "    return increment\n",
    "\n",
    "# Usage\n",
    "counter1 = counter()\n",
    "print(counter1())  # Output: 1\n",
    "print(counter1())  # Output: 2\n",
    "\n",
    "counter2 = counter()\n",
    "print(counter2())  # Out"
   ]
  },
  {
   "cell_type": "code",
   "execution_count": null,
   "id": "f866193e-7c5a-4b46-9b8e-d20782c77613",
   "metadata": {},
   "outputs": [],
   "source": []
  }
 ],
 "metadata": {
  "kernelspec": {
   "display_name": "Python 3 (ipykernel)",
   "language": "python",
   "name": "python3"
  },
  "language_info": {
   "codemirror_mode": {
    "name": "ipython",
    "version": 3
   },
   "file_extension": ".py",
   "mimetype": "text/x-python",
   "name": "python",
   "nbconvert_exporter": "python",
   "pygments_lexer": "ipython3",
   "version": "3.10.2"
  }
 },
 "nbformat": 4,
 "nbformat_minor": 5
}
