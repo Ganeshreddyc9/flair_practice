{
 "cells": [
  {
   "cell_type": "code",
   "execution_count": 1,
   "id": "c998ae69-6379-4841-9480-8784cedfdb03",
   "metadata": {},
   "outputs": [],
   "source": [
    "# programming language that has first class functions if it treats function as a first class citizen "
   ]
  },
  {
   "cell_type": "code",
   "execution_count": 4,
   "id": "5e6b9cfb-fe09-4884-85f8-92493e1feccb",
   "metadata": {},
   "outputs": [
    {
     "name": "stdout",
     "output_type": "stream",
     "text": [
      "25\n",
      "<function square at 0x000001D2F1801870>\n",
      "['__annotations__', '__builtins__', '__call__', '__class__', '__closure__', '__code__', '__defaults__', '__delattr__', '__dict__', '__dir__', '__doc__', '__eq__', '__format__', '__ge__', '__get__', '__getattribute__', '__globals__', '__gt__', '__hash__', '__init__', '__init_subclass__', '__kwdefaults__', '__le__', '__lt__', '__module__', '__name__', '__ne__', '__new__', '__qualname__', '__reduce__', '__reduce_ex__', '__repr__', '__setattr__', '__sizeof__', '__str__', '__subclasshook__']\n"
     ]
    }
   ],
   "source": [
    "def square(x):\n",
    "    return x * x\n",
    "\n",
    "f = square(5)\n",
    "print(f)\n",
    "print(square)\n",
    "print(dir(square))"
   ]
  },
  {
   "cell_type": "code",
   "execution_count": 6,
   "id": "7a9b24e7-960f-4b37-b7ff-90b2d253b304",
   "metadata": {},
   "outputs": [
    {
     "name": "stdout",
     "output_type": "stream",
     "text": [
      "<function square at 0x000001D2F1803B50>\n",
      "25\n"
     ]
    }
   ],
   "source": [
    "def square(x):\n",
    "    return x * x\n",
    "\n",
    "f = square\n",
    "print(f)\n",
    "print(f(5))\n",
    "\n"
   ]
  },
  {
   "cell_type": "code",
   "execution_count": 7,
   "id": "d59f22a7-90e8-491b-88b3-e7272f904592",
   "metadata": {},
   "outputs": [
    {
     "name": "stdout",
     "output_type": "stream",
     "text": [
      "<class 'function'>\n",
      "<class 'function'>\n"
     ]
    }
   ],
   "source": [
    "print(type(square))\n",
    "print(type(f))"
   ]
  },
  {
   "cell_type": "code",
   "execution_count": null,
   "id": "caddddad-1033-4f4a-b67d-7f9adc995630",
   "metadata": {},
   "outputs": [],
   "source": []
  },
  {
   "cell_type": "code",
   "execution_count": 9,
   "id": "6104b1a6-bf11-42e6-a692-644502a2279f",
   "metadata": {},
   "outputs": [],
   "source": [
    "def  square(x):\n",
    "    return x * x\n",
    "\n",
    "def my_map(func, arg_list):\n",
    "    result = []\n",
    "    for i in arg_list:\n",
    "        result.append(func(i))\n",
    "    return result \n",
    "squares = my_map(square, [1, 2, 3, 4, 5])"
   ]
  },
  {
   "cell_type": "code",
   "execution_count": 10,
   "id": "e6679a19-8da7-411b-98b3-c26dbb139331",
   "metadata": {},
   "outputs": [
    {
     "name": "stdout",
     "output_type": "stream",
     "text": [
      "[1, 4, 9, 16, 25]\n"
     ]
    }
   ],
   "source": [
    "print(squares)"
   ]
  },
  {
   "cell_type": "code",
   "execution_count": 15,
   "id": "28b3129f-0b10-45cf-ac28-42aaf156983e",
   "metadata": {},
   "outputs": [
    {
     "ename": "TypeError",
     "evalue": "square() missing 1 required positional argument: 'x'",
     "output_type": "error",
     "traceback": [
      "\u001b[1;31m---------------------------------------------------------------------------\u001b[0m",
      "\u001b[1;31mTypeError\u001b[0m                                 Traceback (most recent call last)",
      "Cell \u001b[1;32mIn[15], line 9\u001b[0m\n\u001b[0;32m      7\u001b[0m         result\u001b[38;5;241m.\u001b[39mappend(func(i))\n\u001b[0;32m      8\u001b[0m     \u001b[38;5;28;01mreturn\u001b[39;00m result \n\u001b[1;32m----> 9\u001b[0m squares \u001b[38;5;241m=\u001b[39m my_map(\u001b[43msquare\u001b[49m\u001b[43m(\u001b[49m\u001b[43m)\u001b[49m, [\u001b[38;5;241m1\u001b[39m, \u001b[38;5;241m2\u001b[39m, \u001b[38;5;241m3\u001b[39m, \u001b[38;5;241m4\u001b[39m, \u001b[38;5;241m5\u001b[39m])\n",
      "\u001b[1;31mTypeError\u001b[0m: square() missing 1 required positional argument: 'x'"
     ]
    }
   ],
   "source": [
    "def  square(x):\n",
    "    return x * x\n",
    "\n",
    "def my_map(func, arg_list):\n",
    "    result = []\n",
    "    for i in arg_list:\n",
    "        result.append(func(i))\n",
    "    return result \n",
    "squares = my_map(square(), [1, 2, 3, 4, 5])"
   ]
  },
  {
   "cell_type": "code",
   "execution_count": 16,
   "id": "b6e99842-ba5f-410c-bd14-87d71c6643e7",
   "metadata": {},
   "outputs": [
    {
     "name": "stdout",
     "output_type": "stream",
     "text": [
      "[2, 4, 6, 8, 10]\n"
     ]
    }
   ],
   "source": [
    "def apply_function(func, data):\n",
    "    \"\"\"Apply the specified function to each element in the data.\"\"\"\n",
    "    result = []\n",
    "    for item in data:\n",
    "        result.append(func(item))\n",
    "    return result\n",
    "\n",
    "# Define a function to double a number\n",
    "def double(x):\n",
    "    return 2 * x\n",
    "\n",
    "# Use apply_function with the double function\n",
    "numbers = [1, 2, 3, 4, 5]\n",
    "doubled_numbers = apply_function(func=double, data=numbers)\n",
    "print(doubled_numbers)  # Output: [2, 4, 6, 8, 10]\n"
   ]
  },
  {
   "cell_type": "code",
   "execution_count": 17,
   "id": "88c26157-55a1-4280-967d-307ff51e9641",
   "metadata": {},
   "outputs": [
    {
     "name": "stdout",
     "output_type": "stream",
     "text": [
      "Apply the specified function to each element in the data.\n"
     ]
    }
   ],
   "source": [
    "print(apply_function.__doc__)"
   ]
  },
  {
   "cell_type": "code",
   "execution_count": null,
   "id": "d8bcbf49-e855-408a-9408-6616d67504d8",
   "metadata": {},
   "outputs": [],
   "source": []
  },
  {
   "cell_type": "code",
   "execution_count": null,
   "id": "d924f70a-a274-48f3-b6e9-54b8efcaadb5",
   "metadata": {},
   "outputs": [],
   "source": []
  },
  {
   "cell_type": "code",
   "execution_count": 2,
   "id": "f502205f-575a-4382-847b-f036b7edb987",
   "metadata": {},
   "outputs": [
    {
     "name": "stdout",
     "output_type": "stream",
     "text": [
      "Log: Hiiii......\n",
      "None\n"
     ]
    }
   ],
   "source": [
    "def logger(msg):\n",
    "    # print('Log:', msg)\n",
    "    def log_message():\n",
    "        print('Log:', msg)\n",
    "\n",
    "    return log_message\n",
    "\n",
    "log_hi = logger('Hiiii......')\n",
    "print(log_hi())\n",
    "# print(log_hi,\".....\")\n"
   ]
  },
  {
   "cell_type": "code",
   "execution_count": 46,
   "id": "e841110c-aa83-410b-b7eb-17f97a39c38a",
   "metadata": {},
   "outputs": [
    {
     "ename": "TypeError",
     "evalue": "logger() missing 1 required positional argument: 'msg'",
     "output_type": "error",
     "traceback": [
      "\u001b[1;31m---------------------------------------------------------------------------\u001b[0m",
      "\u001b[1;31mTypeError\u001b[0m                                 Traceback (most recent call last)",
      "Cell \u001b[1;32mIn[46], line 8\u001b[0m\n\u001b[0;32m      1\u001b[0m \u001b[38;5;28;01mdef\u001b[39;00m \u001b[38;5;21mlogger\u001b[39m(msg):\n\u001b[0;32m      2\u001b[0m     \u001b[38;5;66;03m# print('Log:', msg)\u001b[39;00m\n\u001b[0;32m      3\u001b[0m     \u001b[38;5;66;03m# def log_message():\u001b[39;00m\n\u001b[0;32m      4\u001b[0m     \u001b[38;5;66;03m#     print('Log:', msg)\u001b[39;00m\n\u001b[0;32m      6\u001b[0m     \u001b[38;5;28;01mreturn\u001b[39;00m logger\n\u001b[1;32m----> 8\u001b[0m log_hi \u001b[38;5;241m=\u001b[39m \u001b[43mlogger\u001b[49m\u001b[43m(\u001b[49m\u001b[38;5;124;43m'\u001b[39;49m\u001b[38;5;124;43mHiiii......\u001b[39;49m\u001b[38;5;124;43m'\u001b[39;49m\u001b[43m)\u001b[49m\u001b[43m(\u001b[49m\u001b[43m)\u001b[49m\n\u001b[0;32m      9\u001b[0m \u001b[38;5;66;03m# print(log_hi('Hiiii......'))\u001b[39;00m\n\u001b[0;32m     10\u001b[0m \u001b[38;5;66;03m# log_hi(msg)\u001b[39;00m\n",
      "\u001b[1;31mTypeError\u001b[0m: logger() missing 1 required positional argument: 'msg'"
     ]
    }
   ],
   "source": [
    "def logger(msg):\n",
    "    # print('Log:', msg)\n",
    "    # def log_message():\n",
    "    #     print('Log:', msg)\n",
    "\n",
    "    return logger\n",
    "\n",
    "log_hi = logger('Hiiii......')\n",
    "# print(log_hi('Hiiii......'))\n",
    "# log_hi(msg)"
   ]
  },
  {
   "cell_type": "code",
   "execution_count": 44,
   "id": "1b4ea32d-2525-41e0-a0ba-e37737f87d09",
   "metadata": {},
   "outputs": [
    {
     "data": {
      "text/plain": [
       "<function __main__.logger(msg)>"
      ]
     },
     "execution_count": 44,
     "metadata": {},
     "output_type": "execute_result"
    }
   ],
   "source": [
    "logger('hi')"
   ]
  },
  {
   "cell_type": "code",
   "execution_count": 53,
   "id": "80b0c4c8-6f9c-4f83-88ab-0e3ed87d81c3",
   "metadata": {},
   "outputs": [
    {
     "name": "stdout",
     "output_type": "stream",
     "text": [
      "<function logger at 0x000001D2F2743AC0>\n"
     ]
    }
   ],
   "source": [
    "def logger(x):\n",
    "    # print('Log:', msg)\n",
    "    # def log_message():\n",
    "    #     print('Log:', msg)\n",
    "\n",
    "    return logger\n",
    "\n",
    "log_hi = logger('Hiiii......')\n",
    "# log_hi('Hiiii......')\n",
    "print(log_hi)"
   ]
  },
  {
   "cell_type": "code",
   "execution_count": null,
   "id": "73bda439-e058-4d91-8ec6-2390cf3f9060",
   "metadata": {},
   "outputs": [],
   "source": []
  },
  {
   "cell_type": "code",
   "execution_count": 58,
   "id": "e8e8ba58-e456-467a-ab10-244ec9afb0f1",
   "metadata": {},
   "outputs": [
    {
     "name": "stdout",
     "output_type": "stream",
     "text": [
      "hi..\n"
     ]
    },
    {
     "data": {
      "text/plain": [
       "<function __main__.my_func()>"
      ]
     },
     "execution_count": 58,
     "metadata": {},
     "output_type": "execute_result"
    }
   ],
   "source": [
    "def my_func():\n",
    "\n",
    "    print(\"hi..\")\n",
    "    # return 'hey there....'\n",
    "    # return my_func\n",
    "my_func()"
   ]
  },
  {
   "cell_type": "code",
   "execution_count": 59,
   "id": "1f99bde6-2766-49b5-865b-4dba21bbe5fb",
   "metadata": {},
   "outputs": [
    {
     "name": "stdout",
     "output_type": "stream",
     "text": [
      "8\n"
     ]
    }
   ],
   "source": [
    "def adder(x):\n",
    "    def inner(y):\n",
    "        return x + y\n",
    "    return inner\n",
    "\n",
    "add_5 = adder(5)\n",
    "result = add_5(3)\n",
    "print(result)  # Output: 8\n"
   ]
  },
  {
   "cell_type": "code",
   "execution_count": 60,
   "id": "8f7b0658-414a-4b9a-9b74-dfaa1573e224",
   "metadata": {},
   "outputs": [
    {
     "name": "stdout",
     "output_type": "stream",
     "text": [
      "<function adder.<locals>.inner at 0x000001D2F2483010>\n"
     ]
    }
   ],
   "source": [
    "print(add_5)"
   ]
  },
  {
   "cell_type": "code",
   "execution_count": 69,
   "id": "507f95e7-6edc-45a6-94a7-0b961369e3fe",
   "metadata": {},
   "outputs": [
    {
     "ename": "NameError",
     "evalue": "name 'inner' is not defined",
     "output_type": "error",
     "traceback": [
      "\u001b[1;31m---------------------------------------------------------------------------\u001b[0m",
      "\u001b[1;31mNameError\u001b[0m                                 Traceback (most recent call last)",
      "Cell \u001b[1;32mIn[69], line 1\u001b[0m\n\u001b[1;32m----> 1\u001b[0m \u001b[38;5;28mid\u001b[39m(add_5),\u001b[38;5;28mid\u001b[39m(result),\u001b[38;5;28mid\u001b[39m(\u001b[43minner\u001b[49m)\n",
      "\u001b[1;31mNameError\u001b[0m: name 'inner' is not defined"
     ]
    }
   ],
   "source": [
    "id(add_5),id(result)"
   ]
  },
  {
   "cell_type": "code",
   "execution_count": 70,
   "id": "9ee6b76d-1513-4e0b-99c6-850fe03329b1",
   "metadata": {},
   "outputs": [
    {
     "name": "stdout",
     "output_type": "stream",
     "text": [
      "add_5 is NOT equal to the inner function returned by adder(5)\n"
     ]
    }
   ],
   "source": [
    "def adder(x):\n",
    "    def inner(y):\n",
    "        return x + y\n",
    "    return inner\n",
    "\n",
    "add_5 = adder(5)\n",
    "\n",
    "# Check if add_5 is equal to the inner function returned by adder(5)\n",
    "if add_5 == adder(5):\n",
    "    print(\"add_5 is equal to the inner function returned by adder(5)\")\n",
    "else:\n",
    "    print(\"add_5 is NOT equal to the inner function returned by adder(5)\")"
   ]
  },
  {
   "cell_type": "code",
   "execution_count": null,
   "id": "5d479e62-2230-4a9c-9f17-e8e9e99140ed",
   "metadata": {},
   "outputs": [],
   "source": []
  },
  {
   "cell_type": "code",
   "execution_count": 71,
   "id": "c844ff90-2c2d-44f7-924f-3e60ace3b645",
   "metadata": {},
   "outputs": [
    {
     "ename": "NameError",
     "evalue": "name 'inner' is not defined",
     "output_type": "error",
     "traceback": [
      "\u001b[1;31m---------------------------------------------------------------------------\u001b[0m",
      "\u001b[1;31mNameError\u001b[0m                                 Traceback (most recent call last)",
      "Cell \u001b[1;32mIn[71], line 7\u001b[0m\n\u001b[0;32m      4\u001b[0m     \u001b[38;5;28;01mreturn\u001b[39;00m inner\n\u001b[0;32m      6\u001b[0m add_5 \u001b[38;5;241m=\u001b[39m adder(\u001b[38;5;241m5\u001b[39m)\n\u001b[1;32m----> 7\u001b[0m inner_func \u001b[38;5;241m=\u001b[39m \u001b[43minner\u001b[49m(\u001b[38;5;241m5\u001b[39m)\n\u001b[0;32m      9\u001b[0m \u001b[38;5;66;03m# Check if add_5 is the same as inner_func (inner function returned by adder(5))\u001b[39;00m\n\u001b[0;32m     10\u001b[0m \u001b[38;5;28;01mif\u001b[39;00m add_5 \u001b[38;5;129;01mis\u001b[39;00m inner_func:\n",
      "\u001b[1;31mNameError\u001b[0m: name 'inner' is not defined"
     ]
    }
   ],
   "source": [
    "def adder(x):\n",
    "    def inner(y):\n",
    "        return x + y\n",
    "    return inner\n",
    "\n",
    "add_5 = adder(5)\n",
    "inner_func = inner(5)\n",
    "\n",
    "# Check if add_5 is the same as inner_func (inner function returned by adder(5))\n",
    "if add_5 is inner_func:\n",
    "    print(\"add_5 is equal to the inner function returned by adder(5)\")\n",
    "else:\n",
    "    print(\"add_5 is NOT equal to the inner function returned by adder(5)\")"
   ]
  },
  {
   "cell_type": "code",
   "execution_count": 72,
   "id": "e6b7d517-d5f2-4dbb-aad4-62715b623238",
   "metadata": {},
   "outputs": [
    {
     "ename": "NameError",
     "evalue": "name 'inner' is not defined",
     "output_type": "error",
     "traceback": [
      "\u001b[1;31m---------------------------------------------------------------------------\u001b[0m",
      "\u001b[1;31mNameError\u001b[0m                                 Traceback (most recent call last)",
      "Cell \u001b[1;32mIn[72], line 7\u001b[0m\n\u001b[0;32m      4\u001b[0m     \u001b[38;5;28;01mreturn\u001b[39;00m inner\n\u001b[0;32m      6\u001b[0m add_5 \u001b[38;5;241m=\u001b[39m adder(\u001b[38;5;241m5\u001b[39m)\n\u001b[1;32m----> 7\u001b[0m inner_func \u001b[38;5;241m=\u001b[39m \u001b[43minner\u001b[49m(\u001b[38;5;241m5\u001b[39m)\n\u001b[0;32m      9\u001b[0m \u001b[38;5;66;03m# Check if add_5 is the same as inner_func (inner function returned by adder(5))\u001b[39;00m\n\u001b[0;32m     10\u001b[0m \u001b[38;5;28;01mif\u001b[39;00m add_5 \u001b[38;5;129;01mis\u001b[39;00m inner_func:\n",
      "\u001b[1;31mNameError\u001b[0m: name 'inner' is not defined"
     ]
    }
   ],
   "source": [
    "def adder(x):\n",
    "    def inner(y):\n",
    "        return x + y\n",
    "    return inner\n",
    "\n",
    "add_5 = adder(5)\n",
    "inner_func = inner(5)\n",
    "\n",
    "# Check if add_5 is the same as inner_func (inner function returned by adder(5))\n",
    "if add_5 is inner_func:\n",
    "    print(\"add_5 is equal to the inner function returned by adder(5)\")\n",
    "else:\n",
    "    print(\"add_5 is NOT equal to the inner function returned by adder(5)\")\n",
    "\n"
   ]
  },
  {
   "cell_type": "code",
   "execution_count": null,
   "id": "fc8c56a9-aa9f-4419-b2b6-1341e56ce9c7",
   "metadata": {},
   "outputs": [],
   "source": []
  },
  {
   "cell_type": "code",
   "execution_count": null,
   "id": "7b22f9a9-f2bd-41ec-b03c-f8893d1cb683",
   "metadata": {},
   "outputs": [],
   "source": []
  },
  {
   "cell_type": "code",
   "execution_count": 7,
   "id": "5f362587-4bc5-4ae3-bbcc-b043143241bf",
   "metadata": {},
   "outputs": [
    {
     "name": "stdout",
     "output_type": "stream",
     "text": [
      "<h1>Test Headline!</h1>\n",
      "<h1>Another Headline!</h1>\n",
      "<p>Test Paragraph</p>\n"
     ]
    }
   ],
   "source": [
    "def html_tag(tag):\n",
    "    \n",
    "    \n",
    "    def wrap_text(msg):\n",
    "        print('<{0}>{1}</{0}>'.format(tag, msg))\n",
    "              \n",
    "    return wrap_text\n",
    "\n",
    "print_h1 = html_tag('h1')\n",
    "print_h1('Test Headline!')\n",
    "print_h1('Another Headline!')\n",
    "\n",
    "print_p = html_tag('p')\n",
    "print_p('Test Paragraph')"
   ]
  },
  {
   "cell_type": "code",
   "execution_count": 2,
   "id": "d7b48bea-87f2-45c4-97c4-f9c9164d6bdd",
   "metadata": {},
   "outputs": [],
   "source": [
    "def  square(x):\n",
    "    return x * x\n",
    "\n",
    "def my_map(square, arg_list):\n",
    "    result = []\n",
    "    for i in arg_list:\n",
    "        result.append(square(i))\n",
    "    return result \n",
    "squares = my_map(square, [1, 2, 3, 4, 5])"
   ]
  },
  {
   "cell_type": "code",
   "execution_count": 5,
   "id": "a7e08a8d-4056-4ddc-9595-4280da913617",
   "metadata": {},
   "outputs": [
    {
     "name": "stdout",
     "output_type": "stream",
     "text": [
      "[1, 4, 9, 16, 25]\n"
     ]
    }
   ],
   "source": [
    "print(squares)"
   ]
  },
  {
   "cell_type": "code",
   "execution_count": 6,
   "id": "dc07ef56-8a32-4221-bac9-21219b961eea",
   "metadata": {},
   "outputs": [
    {
     "name": "stdout",
     "output_type": "stream",
     "text": [
      "my_map\n"
     ]
    }
   ],
   "source": []
  },
  {
   "cell_type": "code",
   "execution_count": null,
   "id": "e41d883a-b29f-4c98-8a3f-1879b1f2c02b",
   "metadata": {},
   "outputs": [],
   "source": []
  }
 ],
 "metadata": {
  "kernelspec": {
   "display_name": "Python 3 (ipykernel)",
   "language": "python",
   "name": "python3"
  },
  "language_info": {
   "codemirror_mode": {
    "name": "ipython",
    "version": 3
   },
   "file_extension": ".py",
   "mimetype": "text/x-python",
   "name": "python",
   "nbconvert_exporter": "python",
   "pygments_lexer": "ipython3",
   "version": "3.10.2"
  }
 },
 "nbformat": 4,
 "nbformat_minor": 5
}
