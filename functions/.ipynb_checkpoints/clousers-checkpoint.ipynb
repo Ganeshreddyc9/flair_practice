{
 "cells": [
  {
   "cell_type": "code",
   "execution_count": 8,
   "id": "2db79b27-be11-4dbb-a99f-a0e2a415790a",
   "metadata": {},
   "outputs": [
    {
     "name": "stdout",
     "output_type": "stream",
     "text": [
      "Hi...........\n"
     ]
    }
   ],
   "source": [
    "\n",
    "\n",
    "def outer_func():\n",
    "    message = 'Hi...........'\n",
    "\n",
    "    def inner_func():\n",
    "        print(message)\n",
    "\n",
    "    return inner_func()\n",
    "\n",
    "outer_func()\n",
    "\n",
    "# return inner_func() () -- paranthasis means  is used call the func "
   ]
  },
  {
   "cell_type": "code",
   "execution_count": 9,
   "id": "cab8cdfa-e6af-4257-813d-7e8a4138d2b5",
   "metadata": {},
   "outputs": [],
   "source": [
    "def outer_func():\n",
    "    message = 'Hi...........'\n",
    "    # print(message)\n",
    "    def inner_func():\n",
    "        print(message)\n",
    "\n",
    "    return inner_func\n",
    "\n",
    "my_func = outer_func()\n",
    "\n",
    "# return inner_func is used it will retun the inner_func to the my_func "
   ]
  },
  {
   "cell_type": "code",
   "execution_count": 6,
   "id": "20cfcb36-8785-49ee-8433-9cf73aacc920",
   "metadata": {},
   "outputs": [
    {
     "name": "stdout",
     "output_type": "stream",
     "text": [
      "Hi...........\n",
      "None\n"
     ]
    }
   ],
   "source": [
    "print(my_func())"
   ]
  },
  {
   "cell_type": "code",
   "execution_count": 7,
   "id": "d856fccd-f755-473b-804e-af2d60c7ddff",
   "metadata": {},
   "outputs": [
    {
     "name": "stdout",
     "output_type": "stream",
     "text": [
      "inner_func\n"
     ]
    }
   ],
   "source": [
    "print(my_func.__name__)"
   ]
  },
  {
   "cell_type": "code",
   "execution_count": null,
   "id": "0e94ae91-d081-4936-bd57-e2d98ce1e3dc",
   "metadata": {},
   "outputs": [],
   "source": [
    "\n"
   ]
  },
  {
   "cell_type": "code",
   "execution_count": 6,
   "id": "2ccb19af-b78f-49c2-abbe-6219732f2727",
   "metadata": {},
   "outputs": [
    {
     "name": "stdout",
     "output_type": "stream",
     "text": [
      "hi\n",
      "None\n"
     ]
    }
   ],
   "source": [
    "def outer_func(msg):\n",
    "    message = msg\n",
    "\n",
    "    def inner_func():\n",
    "        print(message)\n",
    "\n",
    "    return inner_func\n",
    "\n",
    "\n",
    "hi_func = outer_func('hi')\n",
    "hello_func = outer_func('Hello')\n",
    "print(hi_func())\n"
   ]
  },
  {
   "cell_type": "code",
   "execution_count": 8,
   "id": "170c8947-455c-476e-9440-fd2c8510ee06",
   "metadata": {},
   "outputs": [
    {
     "name": "stdout",
     "output_type": "stream",
     "text": [
      "hi\n",
      "Hello\n"
     ]
    }
   ],
   "source": [
    "(hi_func())\n",
    "hello_func()"
   ]
  },
  {
   "cell_type": "code",
   "execution_count": null,
   "id": "34e29aca-d14c-4036-9212-ddb6eef7ce02",
   "metadata": {},
   "outputs": [],
   "source": []
  },
  {
   "cell_type": "code",
   "execution_count": 13,
   "id": "529b43eb-5fd0-4a42-b532-c1aeaeeb1d58",
   "metadata": {},
   "outputs": [
    {
     "name": "stdout",
     "output_type": "stream",
     "text": [
      "[1, 2, 0, 4, 0, 5] bfore pop\n",
      "[2, 0, 4, 0, 5] after pop\n",
      "[2, 0, 4, 0, 5, 0] bfore pop\n",
      "[0, 4, 0, 5, 0] after pop\n",
      "[0, 4, 0, 5, 0, 0] bfore pop\n",
      "[4, 0, 5, 0, 0] after pop\n",
      "[4, 0, 5, 0, 0, 0] bfore pop\n",
      "[0, 5, 0, 0, 0] after pop\n"
     ]
    }
   ],
   "source": [
    "l = [1, 2, 0, 4, 0, 5]\n",
    "\n",
    "\n",
    "for i in l:\n",
    "    if i == 0:\n",
    "        print(l,\"bfore pop\")\n",
    "        l.pop(i)\n",
    "        print(l,\"after pop\")\n",
    "        l.append(i)"
   ]
  },
  {
   "cell_type": "code",
   "execution_count": 12,
   "id": "6e92257c-5f45-49c5-9792-cdb4fabd9592",
   "metadata": {},
   "outputs": [
    {
     "data": {
      "text/plain": [
       "[0, 5, 0, 0, 0, 0]"
      ]
     },
     "execution_count": 12,
     "metadata": {},
     "output_type": "execute_result"
    }
   ],
   "source": [
    "l"
   ]
  },
  {
   "cell_type": "code",
   "execution_count": 16,
   "id": "ceeffd7c-8ca8-4245-9fcf-3fd6cedf9f47",
   "metadata": {},
   "outputs": [
    {
     "name": "stdout",
     "output_type": "stream",
     "text": [
      "[1, 2, 0, 4, 0, 5] bfore pop...............\n",
      "[1, 2, 4, 0, 5] after pop\n",
      "[1, 2, 4, 0, 5, 0] bfore pop...............\n",
      "[1, 2, 4, 5, 0] after pop\n",
      "[1, 2, 4, 5, 0, 0] bfore pop...............\n",
      "[1, 2, 4, 5, 0] after pop\n",
      "[1, 2, 4, 5, 0, 0] bfore pop...............\n",
      "[1, 2, 4, 5, 0] after pop\n"
     ]
    }
   ],
   "source": [
    "l = [1, 2, 0, 4, 0, 5]\n",
    "\n",
    "\n",
    "for i in l:\n",
    "    if i == 0:\n",
    "        print(l,\"bfore pop...............\")\n",
    "        l.remove(i)\n",
    "        print(l,\"after pop\")\n",
    "        l.append(i)\n",
    "\n",
    "# so pop takes index values as parameter"
   ]
  },
  {
   "cell_type": "code",
   "execution_count": 15,
   "id": "1e86939c-5942-497e-85d1-c168ebc1a316",
   "metadata": {},
   "outputs": [
    {
     "data": {
      "text/plain": [
       "[1, 2, 4, 5, 0, 0]"
      ]
     },
     "execution_count": 15,
     "metadata": {},
     "output_type": "execute_result"
    }
   ],
   "source": [
    "l"
   ]
  },
  {
   "cell_type": "code",
   "execution_count": 17,
   "id": "eac7d601-6753-4a55-8598-0134ec41be13",
   "metadata": {},
   "outputs": [
    {
     "name": "stdout",
     "output_type": "stream",
     "text": [
      "Help on built-in function remove:\n",
      "\n",
      "remove(value, /) method of builtins.list instance\n",
      "    Remove first occurrence of value.\n",
      "    \n",
      "    Raises ValueError if the value is not present.\n",
      "\n"
     ]
    }
   ],
   "source": [
    "help(l.remove)"
   ]
  },
  {
   "cell_type": "code",
   "execution_count": null,
   "id": "232196f4-c1cd-42c1-bd49-c72c9fe42c33",
   "metadata": {},
   "outputs": [],
   "source": []
  }
 ],
 "metadata": {
  "kernelspec": {
   "display_name": "Python 3 (ipykernel)",
   "language": "python",
   "name": "python3"
  },
  "language_info": {
   "codemirror_mode": {
    "name": "ipython",
    "version": 3
   },
   "file_extension": ".py",
   "mimetype": "text/x-python",
   "name": "python",
   "nbconvert_exporter": "python",
   "pygments_lexer": "ipython3",
   "version": "3.10.2"
  }
 },
 "nbformat": 4,
 "nbformat_minor": 5
}
