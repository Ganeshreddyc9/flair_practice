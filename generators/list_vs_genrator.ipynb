{
 "cells": [
  {
   "cell_type": "code",
   "execution_count": 1,
   "id": "b5da2d29-4b2f-42c0-9f5a-4a6a3f089d5f",
   "metadata": {},
   "outputs": [],
   "source": [
    "# which will give you the better performance?\n",
    "\n",
    "# genrator vs list "
   ]
  },
  {
   "cell_type": "code",
   "execution_count": 30,
   "id": "36160962-7314-4ddc-9282-cbdd76093ee2",
   "metadata": {
    "scrolled": true
   },
   "outputs": [
    {
     "name": "stdout",
     "output_type": "stream",
     "text": [
      "Memory(Before):16.9765625 MB\n",
      "Memory (after) : 47.78515625MA\n",
      "Took 0.3480224609375 Seconds\n"
     ]
    }
   ],
   "source": [
    "import memory_profiler as mem_profile\n",
    "import random \n",
    "import time \n",
    "\n",
    "\n",
    "\n",
    "names = ['John', 'Corey', 'Adam', 'Steve', 'Risk', 'Thomas']\n",
    "majors = ['Math', 'Engineering', 'Compsci', 'Arts', 'Business']\n",
    "\n",
    "print('Memory(Before):{} MB'.format(mem_profile.memory_usage()[0]))\n",
    "\n",
    "def people_list(num_people):\n",
    "    result = []\n",
    "    for i in range(num_people):\n",
    "        person = {\n",
    "                    'id' : i,\n",
    "                    'name' : random.choice(names),\n",
    "                    'major' : random.choice(majors)\n",
    "                 }\n",
    "        result.append(person)\n",
    "    return result\n",
    "\n",
    "def  people_generator(num_people):\n",
    "    for i in range(num_people):\n",
    "        \n",
    "        \n",
    "        person = {\n",
    "                    'id':i,\n",
    "                    'name':random.choice(names),\n",
    "                    'major':random.choice(majors)\n",
    "                 }\n",
    "        yield person \n",
    "    \n",
    "# t1 = time.time()\n",
    "# people = people_list(100000)\n",
    "# t2 = time.time()\n",
    "\n",
    "# using generator\n",
    "# t1 = time.time()\n",
    "# people = people_generator(100000)\n",
    "# t2 = time.time()\n",
    "\n",
    "\n",
    "t1 = time.time()\n",
    "people = list(people_generator(100000))\n",
    "t2 = time.time()\n",
    "\n",
    "# print('Memory (after) : {}MA'.format(mem_profile.memory_usage()[0]))\n",
    "# print('Took {} Seconds'.format(t2 - t1))\\\n",
    "\n",
    "\n",
    "print('Memory (after) : {}MA'.format(mem_profile.memory_usage()[0]))\n",
    "print('Took {} Seconds'.format(t2 - t1))\n",
    "\n",
    "\n",
    "\n"
   ]
  },
  {
   "cell_type": "code",
   "execution_count": null,
   "id": "6649d633-4acc-4153-bd2c-7f212f8c848d",
   "metadata": {},
   "outputs": [],
   "source": []
  },
  {
   "cell_type": "code",
   "execution_count": 5,
   "id": "60d282b3-f226-444c-9a53-73f7dcd09aa3",
   "metadata": {},
   "outputs": [
    {
     "name": "stdout",
     "output_type": "stream",
     "text": [
      "['CodeMap', 'LineProfiler', 'LogFile', 'Magics', 'MemTimer', 'MemitResult', 'MemoryProfilerMagics', 'Pipe', 'Process', 'SIGKILL', 'TimeStamper', '_CLEAN_GLOBALS', '_CMD_USAGE', '_TWO_20', '_TimeStamperCM', '__builtins__', '__cached__', '__doc__', '__file__', '__loader__', '__name__', '__package__', '__spec__', '__version__', '_find_script', '_func_exec', '_get_child_memory', '_get_memory', 'builtins', 'choose_backend', 'contextmanager', 'coroutine', 'exec_with_profiler', 'has_tracemalloc', 'inspect', 'io', 'iscoroutinefunction', 'line_cell_magic', 'linecache', 'load_ipython_extension', 'logging', 'magics_class', 'memory_usage', 'os', 'partial', 'pdb', 'profile', 'psutil', 'run_module_with_profiler', 'show_results', 'subprocess', 'sys', 'time', 'traceback', 'tracemalloc', 'warnings', 'wraps']\n"
     ]
    }
   ],
   "source": [
    "print(dir(mem_profile))"
   ]
  },
  {
   "cell_type": "code",
   "execution_count": 29,
   "id": "e7b67bfd-c09c-4574-a852-e719982901a8",
   "metadata": {},
   "outputs": [],
   "source": [
    "# here if we use list to store the values that whole data will be in the list so it will take more momory\n",
    "# and  we get performance issues \n",
    "\n",
    "# in generator if we pass 100000 milion data in genrator is \n",
    "# we check the data of the memory occupied its less or equal than now \n",
    "# using generator the memory is almost same  that generator is really done anything yet \n",
    "# its not holding million values in memory its waiting for me to grab to take the next one and  will\n",
    "# give one at a time \n",
    "\n",
    "# Memory(Before):79.01171875 MB\n",
    "# Memory (after) : 79.01171875MA\n",
    "# Took 0.0 Seconds\n",
    "# this is using genrator \n",
    "\n",
    "# using genrator it will give memory  gives you big performance improvement \n",
    "# not only with execution time but also memory \n"
   ]
  },
  {
   "cell_type": "code",
   "execution_count": null,
   "id": "f90689f3-989b-4b8b-8088-7f82e9f15071",
   "metadata": {},
   "outputs": [],
   "source": [
    "# converting to list \n",
    "\n",
    "# and if we convert to list to store the values we loose that performance \n",
    "# Memory(Before):16.9765625 MB\n",
    "# Memory (after) : 47.78515625MA\n",
    "# Took 0.3480224609375 Seconds"
   ]
  }
 ],
 "metadata": {
  "kernelspec": {
   "display_name": "Python 3 (ipykernel)",
   "language": "python",
   "name": "python3"
  },
  "language_info": {
   "codemirror_mode": {
    "name": "ipython",
    "version": 3
   },
   "file_extension": ".py",
   "mimetype": "text/x-python",
   "name": "python",
   "nbconvert_exporter": "python",
   "pygments_lexer": "ipython3",
   "version": "3.10.2"
  }
 },
 "nbformat": 4,
 "nbformat_minor": 5
}
