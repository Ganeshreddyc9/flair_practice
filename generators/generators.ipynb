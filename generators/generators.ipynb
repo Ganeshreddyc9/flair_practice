{
 "cells": [
  {
   "cell_type": "code",
   "execution_count": 1,
   "id": "786b02f0-3c79-40cc-b5a5-fd93ac3fc341",
   "metadata": {},
   "outputs": [],
   "source": [
    "# genrators don't  hold entire memory "
   ]
  },
  {
   "cell_type": "code",
   "execution_count": 2,
   "id": "beca0c7c-dded-4a13-ab30-67300402369e",
   "metadata": {},
   "outputs": [],
   "source": [
    "# with out using generators \n",
    "\n",
    "def square_numbers(nums):\n",
    "\n",
    "    result = []\n",
    "    for i in nums:\n",
    "        result.append(i*i)\n",
    "    return result\n",
    "\n",
    "my_nums = square_numbers([1, 2, 3, 4, 5])\n"
   ]
  },
  {
   "cell_type": "code",
   "execution_count": 3,
   "id": "536eac18-37bd-4e8d-a653-1c0efd542876",
   "metadata": {},
   "outputs": [
    {
     "data": {
      "text/plain": [
       "[1, 4, 9, 16, 25]"
      ]
     },
     "execution_count": 3,
     "metadata": {},
     "output_type": "execute_result"
    }
   ],
   "source": [
    "my_nums"
   ]
  },
  {
   "cell_type": "code",
   "execution_count": null,
   "id": "9a8f240d-3a19-4f4e-a5fc-b745bf05b7ef",
   "metadata": {},
   "outputs": [],
   "source": []
  },
  {
   "cell_type": "code",
   "execution_count": 4,
   "id": "45bd736b-7e2b-4796-946f-ed103c566d66",
   "metadata": {},
   "outputs": [],
   "source": [
    "# genrerators :\n",
    "\n",
    "# we dont need result statement \n",
    "# here we have yield keyword \n",
    "\n",
    "# yield keyword\n",
    "\n",
    "# This yield keyword is what makes it a generator "
   ]
  },
  {
   "cell_type": "code",
   "execution_count": 11,
   "id": "55b69eb3-e113-4a75-9bc1-2ca2cb4a2590",
   "metadata": {},
   "outputs": [],
   "source": [
    "def square_numbers(nums):\n",
    "\n",
    "    for i in nums:\n",
    "        yield(i*i)\n",
    "\n",
    "my_num = square_numbers([1, 2, 3, 4, 5])\n"
   ]
  },
  {
   "cell_type": "code",
   "execution_count": 12,
   "id": "ac566cac-6b7c-4bc2-926b-bf68a9fa717d",
   "metadata": {},
   "outputs": [
    {
     "name": "stdout",
     "output_type": "stream",
     "text": [
      "1\n",
      "4\n",
      "9\n",
      "16\n",
      "25\n"
     ]
    }
   ],
   "source": [
    "print(next(my_num))\n",
    "print(next(my_num))\n",
    "print(next(my_num))\n",
    "print(next(my_num))\n",
    "print(next(my_num))"
   ]
  },
  {
   "cell_type": "code",
   "execution_count": 13,
   "id": "1b416ce0-8c32-4530-ad91-bf059296a006",
   "metadata": {},
   "outputs": [
    {
     "ename": "StopIteration",
     "evalue": "",
     "output_type": "error",
     "traceback": [
      "\u001b[1;31m---------------------------------------------------------------------------\u001b[0m",
      "\u001b[1;31mStopIteration\u001b[0m                             Traceback (most recent call last)",
      "Cell \u001b[1;32mIn[13], line 1\u001b[0m\n\u001b[1;32m----> 1\u001b[0m \u001b[38;5;28mprint\u001b[39m(\u001b[38;5;28;43mnext\u001b[39;49m\u001b[43m(\u001b[49m\u001b[43mmy_num\u001b[49m\u001b[43m)\u001b[49m)\n",
      "\u001b[1;31mStopIteration\u001b[0m: "
     ]
    }
   ],
   "source": [
    "print(next(my_num))"
   ]
  },
  {
   "cell_type": "code",
   "execution_count": 15,
   "id": "1df8085d-3299-43e5-9c38-3629f2aa7e51",
   "metadata": {},
   "outputs": [
    {
     "name": "stdout",
     "output_type": "stream",
     "text": [
      "1\n",
      "4\n",
      "9\n",
      "16\n",
      "25\n"
     ]
    }
   ],
   "source": [
    "def square_numbers(nums):\n",
    "\n",
    "    for i in nums:\n",
    "        yield(i*i)\n",
    "\n",
    "my_num = square_numbers([1, 2, 3, 4, 5])\n",
    "\n",
    "for num in my_num:\n",
    "    print(num)\n",
    "\n",
    "# here we are not getting stopiterration error \n",
    "# bcz for loop knows "
   ]
  },
  {
   "cell_type": "code",
   "execution_count": 17,
   "id": "dcb07b26-490e-4ddc-b974-20a48e6c8ff9",
   "metadata": {},
   "outputs": [],
   "source": [
    "\n",
    "# generator:\n",
    "\n",
    "# list comprehention\n",
    "\n",
    "my_nums = [i *  i for i in [1, 2, 3, 4, 5]]"
   ]
  },
  {
   "cell_type": "code",
   "execution_count": 18,
   "id": "ec80265c-64d3-47d9-a17f-f3355b79ee39",
   "metadata": {},
   "outputs": [
    {
     "data": {
      "text/plain": [
       "[1, 4, 9, 16, 25]"
      ]
     },
     "execution_count": 18,
     "metadata": {},
     "output_type": "execute_result"
    }
   ],
   "source": [
    "my_nums"
   ]
  },
  {
   "cell_type": "code",
   "execution_count": 19,
   "id": "1189715b-f50a-41bf-93f3-0e8d899e37a2",
   "metadata": {},
   "outputs": [
    {
     "name": "stdout",
     "output_type": "stream",
     "text": [
      "1\n",
      "4\n",
      "9\n",
      "16\n",
      "25\n"
     ]
    }
   ],
   "source": [
    "for n in my_nums:\n",
    "    print(n)"
   ]
  },
  {
   "cell_type": "code",
   "execution_count": 14,
   "id": "fa33f89f-381d-44a0-bd75-6a373cd45d96",
   "metadata": {},
   "outputs": [],
   "source": [
    "# generator:\n",
    "\n",
    "# tuple genrator \n",
    "\n",
    "my_nums = (i *  i for i in [1, 2, 3, 4, 5])"
   ]
  },
  {
   "cell_type": "code",
   "execution_count": 15,
   "id": "5bf78021-be36-4a9a-b087-ae55b09bdf1d",
   "metadata": {},
   "outputs": [
    {
     "data": {
      "text/plain": [
       "<generator object <genexpr> at 0x0000018F8872BED0>"
      ]
     },
     "execution_count": 15,
     "metadata": {},
     "output_type": "execute_result"
    }
   ],
   "source": [
    "my_nums"
   ]
  },
  {
   "cell_type": "code",
   "execution_count": 16,
   "id": "02d33839-e90c-4451-80d8-3ed207611301",
   "metadata": {},
   "outputs": [
    {
     "name": "stdout",
     "output_type": "stream",
     "text": [
      "1 ........\n",
      "4 ........\n",
      "9 ........\n",
      "16 ........\n",
      "25 ........\n"
     ]
    }
   ],
   "source": [
    "# print(next(my_nums))\n",
    "# print(next(my_nums))\n",
    "# print(next(my_nums))\n",
    "# print(next(my_nums))\n",
    "# print(next(my_nums))\n",
    "\n",
    "for i in my_nums:\n",
    "    print(i,\"........\")"
   ]
  },
  {
   "cell_type": "code",
   "execution_count": 21,
   "id": "6ae0244a-07fd-417d-beb1-356b4d7e045c",
   "metadata": {},
   "outputs": [
    {
     "name": "stdout",
     "output_type": "stream",
     "text": [
      "[1, 4, 9, 16, 25]\n"
     ]
    }
   ],
   "source": [
    "my_nums = (i *  i for i in [1, 2, 3, 4, 5])\n",
    "\n",
    "print(list(my_nums))  # by doing this converting generator into list \n",
    "# loosing the advantages that you gain you had in terms of performance "
   ]
  },
  {
   "cell_type": "code",
   "execution_count": null,
   "id": "512aa129-fbf3-4e8c-acd3-57e104d71f4b",
   "metadata": {},
   "outputs": [],
   "source": [
    "# performance\n",
    "\n",
    "# generators are good with the performances "
   ]
  },
  {
   "cell_type": "code",
   "execution_count": null,
   "id": "423ebc1a-5703-4e73-9c6a-13bbdd4d88ea",
   "metadata": {},
   "outputs": [],
   "source": []
  },
  {
   "cell_type": "code",
   "execution_count": null,
   "id": "8d300d78-eb96-4e4c-b319-6f3bd8bd357f",
   "metadata": {},
   "outputs": [],
   "source": []
  },
  {
   "cell_type": "code",
   "execution_count": null,
   "id": "5856e1f2-d337-4cbe-89d8-b9c1de63eb2c",
   "metadata": {},
   "outputs": [],
   "source": []
  }
 ],
 "metadata": {
  "kernelspec": {
   "display_name": "Python 3 (ipykernel)",
   "language": "python",
   "name": "python3"
  },
  "language_info": {
   "codemirror_mode": {
    "name": "ipython",
    "version": 3
   },
   "file_extension": ".py",
   "mimetype": "text/x-python",
   "name": "python",
   "nbconvert_exporter": "python",
   "pygments_lexer": "ipython3",
   "version": "3.10.2"
  }
 },
 "nbformat": 4,
 "nbformat_minor": 5
}
